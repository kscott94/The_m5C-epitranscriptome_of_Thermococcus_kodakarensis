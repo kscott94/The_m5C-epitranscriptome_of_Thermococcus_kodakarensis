{
 "cells": [
  {
   "cell_type": "code",
   "execution_count": 1,
   "metadata": {},
   "outputs": [
    {
     "name": "stderr",
     "output_type": "stream",
     "text": [
      "── \u001b[1mAttaching core tidyverse packages\u001b[22m ──────────────────────────────────────────────── tidyverse 2.0.0 ──\n",
      "\u001b[32m✔\u001b[39m \u001b[34mdplyr    \u001b[39m 1.1.0     \u001b[32m✔\u001b[39m \u001b[34mreadr    \u001b[39m 2.1.4\n",
      "\u001b[32m✔\u001b[39m \u001b[34mforcats  \u001b[39m 1.0.0     \u001b[32m✔\u001b[39m \u001b[34mstringr  \u001b[39m 1.5.0\n",
      "\u001b[32m✔\u001b[39m \u001b[34mggplot2  \u001b[39m 3.4.1     \u001b[32m✔\u001b[39m \u001b[34mtibble   \u001b[39m 3.1.8\n",
      "\u001b[32m✔\u001b[39m \u001b[34mlubridate\u001b[39m 1.9.2     \u001b[32m✔\u001b[39m \u001b[34mtidyr    \u001b[39m 1.3.0\n",
      "\u001b[32m✔\u001b[39m \u001b[34mpurrr    \u001b[39m 1.0.1     \n",
      "── \u001b[1mConflicts\u001b[22m ────────────────────────────────────────────────────────────────── tidyverse_conflicts() ──\n",
      "\u001b[31m✖\u001b[39m \u001b[34mdplyr\u001b[39m::\u001b[32mfilter()\u001b[39m masks \u001b[34mstats\u001b[39m::filter()\n",
      "\u001b[31m✖\u001b[39m \u001b[34mdplyr\u001b[39m::\u001b[32mlag()\u001b[39m    masks \u001b[34mstats\u001b[39m::lag()\n",
      "\u001b[36mℹ\u001b[39m Use the conflicted package (\u001b[3m\u001b[34m<http://conflicted.r-lib.org/>\u001b[39m\u001b[23m) to force all conflicts to become errors\n",
      "\n",
      "Attaching package: ‘MASS’\n",
      "\n",
      "\n",
      "The following object is masked from ‘package:dplyr’:\n",
      "\n",
      "    select\n",
      "\n",
      "\n",
      "\n",
      "Attaching package: ‘cowplot’\n",
      "\n",
      "\n",
      "The following object is masked from ‘package:lubridate’:\n",
      "\n",
      "    stamp\n",
      "\n",
      "\n",
      "\n",
      "Attaching package: ‘reshape2’\n",
      "\n",
      "\n",
      "The following object is masked from ‘package:tidyr’:\n",
      "\n",
      "    smiths\n",
      "\n",
      "\n"
     ]
    }
   ],
   "source": [
    "library(tidyverse)\n",
    "library(MASS)\n",
    "library(DescTools)\n",
    "library(pwr)\n",
    "library(repr)\n",
    "library(cowplot)\n",
    "library(ggseqlogo)\n",
    "library(reshape2)"
   ]
  },
  {
   "cell_type": "code",
   "execution_count": 2,
   "metadata": {},
   "outputs": [],
   "source": [
    "cols = c('chromosome', 'reference_nucleotide', 'position', 'trinuc_context','dinuc_context', \n",
    "         \"methylation_frequency\", \"count_mC\", \"coverage\")\n",
    "\n",
    "TS559statS <- read.delim('../processed_cgmaps/bs7v1/TS559statS_coverage', sep='\\t') %>%\n",
    "    dplyr::rename(\n",
    "          methylation_frequency_TS559_rep1 = methylation_frequency_TS559_March2016,\n",
    "          mC_count_TS559_rep1 = mC_count_TS559_March2016,\n",
    "          coverage_TS559_rep1 = coverage_TS559_March2016,\n",
    "        \n",
    "          methylation_frequency_TS559_rep2 = methylation_frequency_TS559_Dec2016,\n",
    "          mC_count_TS559_rep2 = mC_count_TS559_Dec2016,\n",
    "          coverage_TS559_rep2 = coverage_TS559_Dec2016,\n",
    "           \n",
    "          methylation_frequency_TS559_rep3 = methylation_frequency_TS559_Oct2020,\n",
    "          mC_count_TS559_rep3 = mC_count_TS559_Oct2020,\n",
    "          coverage_TS559_rep3 = coverage_TS559_Oct2020\n",
    "          )\n",
    "\n",
    "annotation <- data.frame(read.delim('/home/kristin/jupyter_notebooks/RNA_mt_proj/bs7/annotation_ready', sep = '\\t') %>%\n",
    "    dplyr::rename(position=TS559_position) )"
   ]
  },
  {
   "cell_type": "code",
   "execution_count": 3,
   "metadata": {},
   "outputs": [],
   "source": [
    "#####HELPERS \n",
    "\n",
    "load_cgmap <- function(cgmap,strain, replicate, growth_phase, metabolic_condition='S'){\n",
    "    cols = c('chromosome', 'base', 'position', 'trinuc_context','dinuc_context', \n",
    "         \"methylation_frequency\", \"count_mC\", \"coverage\")\n",
    "    outdata <- read.delim(cgmap, sep='\\t', header=FALSE,col.names=cols) %>%\n",
    "        mutate(strain=strain, growth_phase=growth_phase, \n",
    "               metabolic_condition=metabolic_condition, replicate=replicate)\n",
    "\n",
    "}\n",
    "\n",
    "\n",
    "#clean up raw CGmaps, add some and rename some columns\n",
    "processCGmap <- function(cgmap){\n",
    "    strain = unique(cgmap$strain)\n",
    "    rep = unique(cgmap$replicate)\n",
    "    \n",
    "    final_data <- cgmap %>% \n",
    "        dplyr::select(-trinuc_context, -dinuc_context) %>%\n",
    "        dplyr::rename(!!paste(\"coverage\",\"_\",strain,\"_\",rep, sep=\"\") := coverage) %>%\n",
    "        dplyr::rename(!!paste(\"mC_count\",\"_\",strain,\"_\",rep, sep=\"\") := count_mC) %>%\n",
    "        dplyr::rename(!!paste(\"methylation_frequency\",\"_\",strain,\"_\",rep, sep=\"\") := methylation_frequency) %>%\n",
    "        dplyr::select(-replicate, -strain)\n",
    "    return(final_data)\n",
    "}\n",
    "\n",
    "\n",
    "\n",
    "#merge data for replicate deletion strains\n",
    "merge_del_reps <- function(x,y, strain){\n",
    "    cov_1 <- paste(\"coverage_\",strain, \"_rep1\", sep='')\n",
    "    cov_2 <- paste(\"coverage_\",strain, \"_rep2\", sep='')\n",
    "\n",
    "    d <- x %>%\n",
    "        merge(y=y, \n",
    "              by=c(\"chromosome\",\"position\", 'reference_nucleotide', 'growth_phase','metabolic_condition'), \n",
    "              all=TRUE) %>%\n",
    "    \n",
    "            mutate(!!as.name(cov_1) := replace_na(!!as.name(cov_1),0)) %>%\n",
    "            mutate(!!as.name(cov_2) := replace_na(!!as.name(cov_2),0))\n",
    "    \n",
    "    return(d)\n",
    "}\n",
    "\n",
    "#merge data for triplicate deletion strains\n",
    "merge_del_3reps <- function(x,y,z,strain){\n",
    "    cov_1 <- paste(\"coverage_\",strain, \"_rep1\", sep='')\n",
    "    cov_2 <- paste(\"coverage_\",strain, \"_rep2\", sep='')\n",
    "    cov_3 <- paste(\"coverage_\",strain, \"_rep3\", sep='')\n",
    "\n",
    "    d <- x %>%\n",
    "        merge(y=y, \n",
    "              by=c(\"chromosome\",\"position\", 'reference_nucleotide', 'growth_phase','metabolic_condition'), \n",
    "              all=TRUE) %>%\n",
    "        merge(y=z, \n",
    "              by=c(\"chromosome\",\"position\", 'reference_nucleotide', 'growth_phase','metabolic_condition'), \n",
    "              all=TRUE) %>%\n",
    "            mutate(!!as.name(cov_1) := replace_na(!!as.name(cov_1),0)) %>%\n",
    "            mutate(!!as.name(cov_2) := replace_na(!!as.name(cov_2),0)) %>%\n",
    "            mutate(!!as.name(cov_3) := replace_na(!!as.name(cov_3),0))\n",
    "\n",
    "    return(d)\n",
    "}\n",
    "\n",
    "\n",
    "# determine if high confidence, reproducible sites with 3 reps\n",
    "#f  frequency\n",
    "#m  m5C coverage\n",
    "#p  99 percentile m5C coverage\n",
    "#c  total coverage\n",
    "detect_hiconf_3reps <- function(f1,m1,p1,c1,f2,m2,p2,c2,f3,m3,p3,c3, min_cov=47,\n",
    "                                min_freq=.10, min_freq2 = 0.05) {\n",
    "    ls <- c()\n",
    "    \n",
    "    if( is.na(c1) ) {c1<-0}\n",
    "    if( is.na(c2) ) {c2<-0}\n",
    "    if( is.na(c3) ) {c3<-0}\n",
    "    if(c1 < min_cov & c2 < min_cov & c3 < min_cov) {return(NA)}\n",
    "    \n",
    "    else{\n",
    "    \n",
    "    if(c1<min_cov){ls <- c(ls,NA)}\n",
    "    else if(  (c1>=min_cov & m1>=p1 & f1>=min_freq) | (m1>50 & f1>=min_freq2) ) {ls <- c(ls,TRUE)}\n",
    "    else {ls <- c(ls,FALSE)}\n",
    "    \n",
    "    if(c2<min_cov){ls <- c(ls,NA)}\n",
    "    else if( (c2>=min_cov & m2>=p2 & f2>=min_freq) | (m2>50 & f2>=min_freq2) ) {ls <- c(ls,TRUE)}\n",
    "    else {ls <- c(ls,FALSE)}\n",
    "    \n",
    "    if(c3<min_cov){ls <- c(ls,NA)}\n",
    "    else if( (c3>=min_cov & m3>=p3 & f3>=min_freq)| (m3>50 & f3>=min_freq2) )  {ls <- c(ls,TRUE)}\n",
    "    else {ls <- c(ls,FALSE)}\n",
    "    \n",
    "    ans_t <- length(which(ls==TRUE))\n",
    "    ans_na <- length(which(ls==NA))\n",
    "    ans_f <- length(which(ls==FALSE))\n",
    "\n",
    "    if(ans_na >= 3){return(NA)}\n",
    "    if(ans_na == 2 & ans_t == 1){return(NA)}\n",
    "    else if(ans_t >= 2){return(TRUE)}\n",
    "    else { return(FALSE)}\n",
    "        }\n",
    "}\n",
    "\n",
    "\n",
    "\n",
    "# determine if high confidence, reproducible sites with 2 reps\n",
    "#f  frequency\n",
    "#m  m5C coverage\n",
    "#p  99 percentile m5C coverage\n",
    "#c  total coverage\n",
    "detect_hiconf_2reps <- function(f1,m1,p1,c1,f2,m2,p2,c2, min_cov=47,\n",
    "                                min_freq=.10, min_freq2 = 0.05) {\n",
    "    ls <- c()\n",
    "    \n",
    "    if( is.na(c2) ) {c1<-0}\n",
    "    if( is.na(c2) ) {c2<-0}\n",
    "    \n",
    "    if(c1 < min_cov & c2 < min_cov) {return(NA)}\n",
    "    else{\n",
    "            \n",
    "    if(c1<min_cov){ls <- c(ls,NA)}\n",
    "    else if(  (c1>=min_cov & m1>=p1 & f1>=min_freq) | (m1>50 & f1>=min_freq2) ) {ls <- c(ls,TRUE)}\n",
    "    else {ls <- c(ls,FALSE)}\n",
    "    \n",
    "    if(c2<min_cov){ls <- c(ls,NA)}\n",
    "    else if( (c2>=min_cov & m2>=p2 & f2>=min_freq) | (m2>50 & f2>=min_freq2) ) {ls <- c(ls,TRUE)}\n",
    "    else {ls <- c(ls,FALSE)}\n",
    "\n",
    "    ans_t <- length(which(ls==TRUE))\n",
    "    ans_na <- length(which(ls==NA))\n",
    "    ans_f <- length(which(ls==FALSE))\n",
    "\n",
    "    if(ans_f == 1 & ans_t == 1 ){return(TRUE)}\n",
    "    if(ans_f >= 1  ){return(FALSE)}\n",
    "    else if(ans_t >= 2){return(TRUE)}\n",
    "    else if(ans_t == 1 & ans_na ==1){return(TRUE)}\n",
    "    else if(ans_f == 1 & ans_na ==1){return(FALSE)}\n",
    "\n",
    "    else { return(NA)}\n",
    "        \n",
    "        }\n",
    "}\n",
    "\n",
    "\n",
    "\n",
    "# determine if high confidence in all three 3 reps\n",
    "super_hiconf_3reps <- function(f1,m1,p1,c1,f2,m2,p2,c2,f3,m3,p3,c3, min_cov=47,\n",
    "                                min_freq=.10, min_freq2 = 0.05) {\n",
    "    ls <- c()\n",
    "    \n",
    "    if( is.na(c1) ) {c1<-0}\n",
    "    if( is.na(c2) ) {c2<-0}\n",
    "    if( is.na(c3) ) {c3<-0}\n",
    "\n",
    "    \n",
    "    if(  (c1>=min_cov & m1>=p1 & f1>=min_freq) | (c1>1000 & f1>=min_freq2)  ) {ls <- c(ls,TRUE)}\n",
    "    else {ls <- c(ls,FALSE)}\n",
    "    \n",
    "    \n",
    "    if( (c2>=min_cov & m2>=p2 & f2>=min_freq) | (c2>=1000 & f2>=min_freq2) ) {ls <- c(ls,TRUE)}\n",
    "    else {ls <- c(ls,FALSE)}\n",
    "    \n",
    "    if( (c3>=min_cov & m3>=p3 & f3>=min_freq) | (c3>=1000 & f3>=min_freq2) )  {ls <- c(ls,TRUE)}\n",
    "    else {ls <- c(ls,FALSE)}\n",
    "    \n",
    "    ans <- length(which(ls==TRUE))\n",
    "    \n",
    "    if(ans >= 3){return(TRUE)}\n",
    "    else { return(FALSE)}\n",
    "}\n",
    "\n",
    "\n",
    "\n",
    "#determine if the sample m5C frequency are within a 90% confidence interval\n",
    "rm_overlap <- function(sp, ssd, cp,csd){\n",
    "    ssd <- ssd*1.645\n",
    "    csd <- csd*1.645\n",
    "\n",
    "    r1 <- c(sp-ssd, sp+ssd)\n",
    "    r2 <- c(cp-csd, cp+csd)\n",
    "    ans <- r1 %overlaps% r2\n",
    "    return(ans)\n",
    "    \n",
    "}\n",
    "\n",
    "\n",
    "# get p value of each m5C site using binomial distribution\n",
    "#glm binomial\n",
    "\n",
    "get_pvalue <- function(s1_mC,s1_cov, s2_mC,s2_cov,\n",
    "                       c1_mC,c1_cov,c2_mC,c2_cov,c3_mC,c3_cov){\n",
    "\n",
    "    if(s1_cov == 0 & s2_cov == 0){return(NA)} \n",
    "    if(c1_cov == 0 & c2_cov == 0 & c3_cov == 0){return(NA)} \n",
    "\n",
    "    else{\n",
    "\n",
    "    sample_success = s1_mC + s2_mC  + 1\n",
    "    sample_failure = (s1_cov+s2_cov)-sample_success  +1\n",
    "    \n",
    "    control_success = c1_mC + c2_mC + c3_mC  +1\n",
    "    control_failure = (c1_cov + c2_cov + c3_cov) - control_success  +1\n",
    "    \n",
    "    if(is.na(sample_failure) |  is.na(control_failure) |\n",
    "      is.na(sample_failure) | is.na(sample_failure)\n",
    "      \n",
    "      ){return(NA)}\n",
    "    \n",
    "    treatment <- c('sample','control')\n",
    "    success <- c(sample_success, control_success)\n",
    "    failure <- c(sample_failure, control_failure)\n",
    "        \n",
    "    da <- data.frame(treatment, success, failure)\n",
    "        da$success <- as.integer(da$success)\n",
    "        da$failure <- as.integer(da$failure)\n",
    "        da$treatment <- as.factor(da$treatment)\n",
    "\n",
    "        table <- cbind(da$success,da$failure)\n",
    "\n",
    "    fit <- glm(table ~ treatment, family = binomial, data = da)\n",
    "    p_val <- summary(fit)$coefficients[8]\n",
    "    return(p_val) \n",
    "    }\n",
    "}\n",
    "\n",
    "get_pvalue_deprecated <- function(s1_mC,s1_cov, s2_mC,s2_cov,\n",
    "                       c1_mC,c1_cov,c2_mC,c2_cov,c3_mC,c3_cov){\n",
    "    \n",
    "    meth_freq_r1 <- (s1_mC+1)/(s1_cov+1)\n",
    "    meth_freq_r2 <- (s2_mC+1)/(s2_cov+1)\n",
    "    cnt_meth_freq_r1 <- (c1_mC+1)/(c1_cov+1)\n",
    "    cnt_meth_freq_r2 <- (c2_mC+1)/(c2_cov+1)\n",
    "    cnt_meth_freq_r3 <- (c3_mC+1)/(c3_cov+1)\n",
    "    \n",
    "    \n",
    "    strain <- c('trt','trt','cnt','cnt','cnt')\n",
    "    freq <- c(meth_freq_r1, meth_freq_r2,\n",
    "              cnt_meth_freq_r1, cnt_meth_freq_r2, cnt_meth_freq_r3)\n",
    "    \n",
    "    \n",
    "    da <- data.frame(cbind(strain, freq))\n",
    "    \n",
    "    da$strain <- as.factor(da$strain)\n",
    "    da$freq <- as.double(da$freq)\n",
    "\n",
    "    pval <- round(summary(aov(freq ~ strain, data=da))[[1]][1,5], 4)    \n",
    "    return(pval)\n",
    "\n",
    "}\n",
    "\n",
    "    \n",
    "get_pvalue_3reps <- function(s1_mC,s1_cov, s2_mC,s2_cov,s3_mC,s3_cov,\n",
    "                       c1_mC,c1_cov,c2_mC,c2_cov,c3_mC,c3_cov){\n",
    "    \n",
    "    \n",
    "    if(s1_cov == 0 & s2_cov==0 & s3_cov == 0){return(NA)} \n",
    "    if(c1_cov == 0 & c2_cov==0 & c3_cov == 0){return(NA)} \n",
    "\n",
    "    sample_success = s1_mC + s2_mC + s3_mC +1\n",
    "    sample_failure = (s1_cov + s2_cov + s3_cov)-sample_success +1\n",
    "    \n",
    "    control_success = c1_mC + c2_mC + c3_mC +1\n",
    "    control_failure = (c1_cov + c2_cov + c3_cov) - control_success +1\n",
    "        \n",
    "    if(is.na(sample_failure) |  is.na(control_failure) |\n",
    "      is.na(sample_failure) | is.na(sample_failure) ){return(NA)}\n",
    "    \n",
    "    treatment <- c('sample','control')\n",
    "    success <- c(sample_success, control_success)\n",
    "    failure <- c(sample_failure,control_failure)\n",
    "        \n",
    "    da <- data.frame(treatment, success, failure)\n",
    "        da$success <- as.integer(da$success)\n",
    "        da$failure <- as.integer(da$failure)\n",
    "        da$treatment <- as.factor(da$treatment)\n",
    "\n",
    "        table <- cbind(da$success,da$failure)\n",
    "\n",
    "    fit <- glm(table ~ treatment, family = binomial, data = da)\n",
    "    p_val <- summary(fit)$coefficients[8]\n",
    "    return(p_val)\n",
    "}\n",
    "    \n",
    "\n",
    "get_quantiles <- function(strain_cgmap, strain, reps = 2, min_cov=47){\n",
    "    \n",
    "    m5C_count_r1 <- paste(\"mC_count_\", strain, \"_rep1\", sep=\"\")\n",
    "    cov_r1 <- paste(\"coverage_\", strain, \"_rep1\", sep=\"\")\n",
    "\n",
    "    m5C_count_r2 <- paste(\"mC_count_\", strain, \"_rep2\", sep=\"\")\n",
    "    cov_r2 <- paste(\"coverage_\", strain, \"_rep2\", sep=\"\")\n",
    "    \n",
    "    #get quantile values for m5C count\n",
    "    q_strain_rep1 <- quantile(\n",
    "        (strain_cgmap %>%\n",
    "        filter(!!as.name(cov_r1)>=min_cov, !!as.name(m5C_count_r1)>=0) )[[m5C_count_r1]], .99)[[1]]\n",
    "    \n",
    "    q_strain_rep2 <- quantile(\n",
    "        (strain_cgmap %>%\n",
    "        filter(!!as.name(cov_r2)>=min_cov, !!as.name(m5C_count_r2)>=0) )[[m5C_count_r2]], .99)[[1]]\n",
    "    \n",
    "    q <- c(q_strain_rep1, q_strain_rep2)\n",
    "    \n",
    "    if(reps==3){\n",
    "        m5C_count_r3 <- paste(\"mC_count_\", strain, \"_rep3\", sep=\"\")\n",
    "        cov_r3 <- paste(\"coverage_\", strain, \"_rep3\", sep=\"\")\n",
    "        \n",
    "        q_strain_rep3 <- quantile(\n",
    "        (strain_cgmap %>%\n",
    "        filter(!!as.name(cov_r3)>=min_cov, !!as.name(m5C_count_r3)>=0) )[[m5C_count_r3]], .99)[[1]]\n",
    "        \n",
    "        q = c(q, q_strain_rep3)\n",
    "    }\n",
    "    \n",
    "    return(q)\n",
    "}\n",
    "    \n",
    "\n",
    "get_difference <- function(hiconf_TS559, hiconf_strain, strain_poolf, control_poolf, CI90_overlap){\n",
    "    \n",
    "    if(is.na(hiconf_TS559) | is.na(hiconf_strain)){return(NA)}\n",
    "    else if(is.na(CI90_overlap)){return(NA)}\n",
    "    \n",
    "    else if(hiconf_TS559 == FALSE & hiconf_strain == FALSE){return(\"NOT MODIFIED\")}\n",
    "    else if(CI90_overlap == TRUE){return(\"OUTSIDE OF DIFFERENTIATION LIMITS\")}\n",
    "\n",
    "    else if(hiconf_TS559 == TRUE & hiconf_strain == FALSE & strain_poolf <= 0.02){return(\"ABS LOSS\")} \n",
    "    else if(hiconf_TS559 == TRUE & hiconf_strain == FALSE & strain_poolf > 0.02){return(\"REL LOSS\")} \n",
    "\n",
    "    else if(hiconf_TS559 == FALSE & hiconf_strain == TRUE & control_poolf <= 0.02){return(\"ABS GAIN\")}\n",
    "    else if(hiconf_TS559 == FALSE & hiconf_strain == TRUE & control_poolf > 0.02){return(\"REL GAIN\")}\n",
    "\n",
    "    else if(hiconf_TS559 == TRUE & hiconf_strain == TRUE & strain_poolf > control_poolf){return(\"REL GAIN\")} \n",
    "    else if(hiconf_TS559 == TRUE & hiconf_strain == TRUE & strain_poolf < control_poolf){return(\"REL LOSS\")} \n",
    "    \n",
    "    else{return(\"error\")}\n",
    "    }\n",
    "\n",
    "        \n",
    "CompareCGmap <- function(strain_cgmap, TS559_cgmap, strain, annotation, minimum_freq=.10, min_cov=47){\n",
    "    \n",
    "    #making some column names\n",
    "    meth_freq_r1 <- paste(\"methylation_frequency_\", strain, \"_rep1\", sep=\"\")\n",
    "    m5C_count_r1 <- paste(\"mC_count_\", strain, \"_rep1\", sep=\"\")\n",
    "    cov_r1 <- paste(\"coverage_\", strain, \"_rep1\", sep=\"\")\n",
    "\n",
    "    meth_freq_r2 <- paste(\"methylation_frequency_\", strain, \"_rep2\", sep=\"\")\n",
    "    m5C_count_r2 <- paste(\"mC_count_\", strain, \"_rep2\", sep=\"\")\n",
    "    cov_r2 <- paste(\"coverage_\", strain, \"_rep2\", sep=\"\")\n",
    "    \n",
    "    pooled_methylation_frequency_strain <- paste(\"pooled_methylation_frequency_\", strain, sep='')\n",
    "\n",
    "    #get quantile values for m5C count\n",
    "    q_TS559_rep1 <- quantile((TS559_cgmap%>%\n",
    "        filter(coverage_TS559_rep1>=min_cov, mC_count_TS559_rep1>=0))$mC_count_TS559_rep1, .99)[[1]]\n",
    "    \n",
    "    q_TS559_rep2 <- quantile((TS559_cgmap%>%\n",
    "        filter(coverage_TS559_rep2>=min_cov, mC_count_TS559_rep2>=0))$mC_count_TS559_rep2, .99)[[1]]\n",
    "    \n",
    "    q_TS559_rep3 <- quantile((TS559_cgmap%>%\n",
    "        filter(coverage_TS559_rep3>=min_cov, mC_count_TS559_rep3>=0))$mC_count_TS559_rep3, .99)[[1]]\n",
    "\n",
    "    q_strain_rep1 <- quantile(\n",
    "        (strain_cgmap %>%\n",
    "        filter(!!as.name(cov_r1)>=min_cov, !!as.name(m5C_count_r1)>=0) )[[m5C_count_r1]], .99)[[1]]\n",
    "    \n",
    "    q_strain_rep2 <- quantile(\n",
    "        (strain_cgmap %>%\n",
    "        filter(!!as.name(cov_r2)>=min_cov, !!as.name(m5C_count_r2)>=0) )[[m5C_count_r2]], .99)[[1]]\n",
    "    \n",
    "    \n",
    "    #build dataframe\n",
    "    data <- strain_cgmap %>%\n",
    "        merge(y = TS559_cgmap, all = TRUE, \n",
    "             by= c(\"chromosome\",\"position\",\"reference_nucleotide\",\"growth_phase\",\"metabolic_condition\")) %>%\n",
    "        dplyr::select(-chromosome,-standard_devition) %>%\n",
    "    \n",
    "        # house keeping\n",
    "        mutate(!!as.name(cov_r1) := replace_na(!!as.name(cov_r1),0)) %>%\n",
    "        mutate(!!as.name(cov_r2) := replace_na(!!as.name(cov_r2),0)) %>%\n",
    "        \n",
    "        mutate(coverage_TS559_rep1 = replace_na(coverage_TS559_rep1,0)) %>%\n",
    "        mutate(coverage_TS559_rep2 = replace_na(coverage_TS559_rep2,0)) %>%\n",
    "        mutate(coverage_TS559_rep3 = replace_na(coverage_TS559_rep3,0)) %>%\n",
    "    rowwise() %>%\n",
    "        mutate(hiconf_TS559 = detect_hiconf_3reps(\n",
    "            f1=methylation_frequency_TS559_rep1,\n",
    "            m1=mC_count_TS559_rep1,\n",
    "            p1=q_TS559_rep1,\n",
    "            c1=coverage_TS559_rep1,\n",
    "            f2=methylation_frequency_TS559_rep2,\n",
    "            m2=mC_count_TS559_rep2,\n",
    "            p2=q_TS559_rep2,\n",
    "            c2=coverage_TS559_rep2,\n",
    "            f3=methylation_frequency_TS559_rep3,\n",
    "            m3=mC_count_TS559_rep3,\n",
    "            p3=q_TS559_rep3,\n",
    "            c3=coverage_TS559_rep3,\n",
    "            min_cov=min_cov,\n",
    "            min_freq = minimum_freq) \n",
    "              ) %>%\n",
    "        \n",
    "        rowwise() %>%\n",
    "        mutate(hiconf_strain = detect_hiconf_2reps(\n",
    "                f1=!!as.name(meth_freq_r1),\n",
    "                m1=!!as.name(m5C_count_r1),\n",
    "                p1=q_strain_rep1,\n",
    "                c1=!!as.name(cov_r1),\n",
    "                f2=!!as.name(meth_freq_r2),\n",
    "                m2=!!as.name(m5C_count_r2),\n",
    "                p2=q_strain_rep2,\n",
    "                c2=!!as.name(cov_r2), \n",
    "                min_cov= min_cov,\n",
    "                min_freq = minimum_freq)\n",
    "                 \n",
    "                ) %>%\n",
    "    \n",
    "    # keep sites where m5C is high confidence in either strain\n",
    "    filter(hiconf_TS559 == TRUE | hiconf_strain == TRUE) %>%\n",
    "    filter(!is.na(hiconf_TS559) & !is.na(hiconf_strain)) %>%\n",
    "\n",
    "    # calculate the mean m5C frequency at each site by pooling replicates (round to 2 decimals)\n",
    "    # calculate standard deviation of each site as well\n",
    "    mutate(!!as.name(pooled_methylation_frequency_strain) := \n",
    "             ( !!as.name(m5C_count_r1) +  !!as.name(m5C_count_r2) ) / ( !!as.name(cov_r1) + !!as.name(cov_r2) ) ) %>%\n",
    "        \n",
    "    mutate(!!as.name(pooled_methylation_frequency_strain) := round(!!as.name(pooled_methylation_frequency_strain),2))%>%\n",
    "    mutate(strain_sd = sd(c(!!as.name(meth_freq_r1),!!as.name(meth_freq_r2))))%>%\n",
    "    \n",
    "    mutate(pooled_methylation_frequency_TS559 =\n",
    "               (mC_count_TS559_rep1 + mC_count_TS559_rep2 + mC_count_TS559_rep3) /\n",
    "               (coverage_TS559_rep1+coverage_TS559_rep2+coverage_TS559_rep3)    ) %>%\n",
    "    mutate(pooled_methylation_frequency_TS559=round(pooled_methylation_frequency_TS559,2)) %>%\n",
    "    mutate(TS559_sd = sd(c(methylation_frequency_TS559_rep1,methylation_frequency_TS559_rep2,\n",
    "                              methylation_frequency_TS559_rep3))) %>%\n",
    "\n",
    "    # calculate fold change of methylaton frequency at each site between parent and deletion strain\n",
    "    mutate(FoldChange = (!!as.name(pooled_methylation_frequency_strain)+.01) / \n",
    "                               (pooled_methylation_frequency_TS559+.01),\n",
    "           log2FC = log2( (!!as.name(pooled_methylation_frequency_strain)+.01) / \n",
    "                               (pooled_methylation_frequency_TS559+.01) ) ) %>%\n",
    "    \n",
    "    mutate(CI90_overlap = \n",
    "                   rm_overlap(!!as.name(pooled_methylation_frequency_strain), strain_sd,\n",
    "                    pooled_methylation_frequency_TS559, TS559_sd )) %>%\n",
    "    \n",
    "    mutate(difference = get_difference(hiconf_TS559, hiconf_strain,   \n",
    "                                            !!as.name(pooled_methylation_frequency_strain), \n",
    "                                            pooled_methylation_frequency_TS559,\n",
    "                                            CI90_overlap\n",
    "                                      ) ) %>%\n",
    "    filter(difference == \"ABS LOSS\" | difference == \"REL LOSS\" | difference == \"ABS GAIN\" | \n",
    "           difference == \"REL GAIN\" | difference == \"error\") %>%\n",
    "    filter(log2FC >= 1 | log2FC <= -1) %>%\n",
    "\n",
    "    # add p vlaue\n",
    "    rowwise() %>%\n",
    "    mutate(pvalue = get_pvalue(\n",
    "            s1_mC = !!as.name(m5C_count_r1),\n",
    "            s1_cov = !!as.name(cov_r1), \n",
    "            s2_mC = !!as.name(m5C_count_r2),\n",
    "            s2_cov = !!as.name(cov_r2),\n",
    "            c1_mC = mC_count_TS559_rep1,\n",
    "            c1_cov = coverage_TS559_rep1,\n",
    "            c2_mC = mC_count_TS559_rep2,\n",
    "            c2_cov = coverage_TS559_rep2,\n",
    "            c3_mC = mC_count_TS559_rep3,\n",
    "            c3_cov = coverage_TS559_rep3) ) %>%\n",
    "    \n",
    "    filter(!is.na(pvalue), pvalue <= 0.01)\n",
    "    \n",
    "        \n",
    "    # adjust p values\n",
    "    # adj_pvalue <- p.adjust(data$pvalue, method = 'fdr')\n",
    "    #data <- cbind(data, adj_pvalue)\n",
    "    \n",
    "    data <- data %>% merge(y=annotation,by='position', all.x=TRUE) %>%\n",
    "            dplyr::rename(TS559_position = position) %>%\n",
    "           dplyr::select(-reproducible, -highly_reproducible,-reference_nucleotide) %>%\n",
    "           arrange(log2FC) %>%\n",
    "           arrange(difference) %>%\n",
    "           dplyr::select(TS559_position, KOD1_position, strand, everything())\n",
    "    \n",
    "  \n",
    "    return(data)\n",
    "}\n",
    "    \n",
    "\n",
    "enumerate_hiconf_2reps <- function(strain_cgmap, strain, min_cov=47){\n",
    "    \n",
    "    meth_freq_r1 <- paste(\"methylation_frequency_\", strain, \"_rep1\", sep=\"\")\n",
    "    m5C_count_r1 <- paste(\"mC_count_\", strain, \"_rep1\", sep=\"\")\n",
    "    cov_r1 <- paste(\"coverage_\", strain, \"_rep1\", sep=\"\")\n",
    "\n",
    "    meth_freq_r2 <- paste(\"methylation_frequency_\", strain, \"_rep2\", sep=\"\")\n",
    "    m5C_count_r2 <- paste(\"mC_count_\", strain, \"_rep2\", sep=\"\")\n",
    "    cov_r2 <- paste(\"coverage_\", strain, \"_rep2\", sep=\"\")\n",
    "    \n",
    "    q_strain_rep1 <- quantile(\n",
    "        (strain_cgmap %>%\n",
    "        filter(!!as.name(cov_r1)>=min_cov, !!as.name(m5C_count_r1)>=0) )[[m5C_count_r1]], .99)[[1]]\n",
    "    \n",
    "    q_strain_rep2 <- quantile(\n",
    "        (strain_cgmap %>%\n",
    "        filter(!!as.name(cov_r2)>=min_cov, !!as.name(m5C_count_r2)>=0) )[[m5C_count_r2]], .99)[[1]]\n",
    "    \n",
    "    \n",
    "    data <- strain_cgmap %>%\n",
    "        dplyr::select(-chromosome, -reference_nucleotide,-growth_phase) %>%\n",
    "    \n",
    "        mutate(!!as.name(cov_r1) := replace_na(!!as.name(cov_r1),0)) %>%\n",
    "        mutate(!!as.name(cov_r2) := replace_na(!!as.name(cov_r2),0)) %>%  \n",
    "        \n",
    "        rowwise() %>%\n",
    "        mutate(hiconf_strain = detect_hiconf_2reps(\n",
    "                f1=!!as.name(meth_freq_r1),\n",
    "                m1=!!as.name(m5C_count_r1),\n",
    "                p1=q_strain_rep1,\n",
    "                c1=!!as.name(cov_r1),\n",
    "                f2=!!as.name(meth_freq_r2),\n",
    "                m2=!!as.name(m5C_count_r2),\n",
    "                p2=q_strain_rep2,\n",
    "                c2=!!as.name(cov_r2), \n",
    "                min_cov=min_cov)\n",
    "                 \n",
    "                ) %>%\n",
    "        dplyr::rename(TS559_position = position) %>%\n",
    "        \n",
    "        mutate( 'm5C_cov/total_cov_rep1' := \n",
    "            paste(!!as.name(paste('mC_count_',strain,'_rep1',sep='')), \n",
    "                  '/', \n",
    "                  !!as.name(paste('coverage_',strain,'_rep1',sep='')) \n",
    "                 ) \n",
    "              ) %>%\n",
    "        \n",
    "        mutate( 'm5C_cov/total_cov_rep2' := \n",
    "            paste(!!as.name(paste('mC_count_',strain,'_rep2',sep='')), \n",
    "                  '/', \n",
    "                  !!as.name(paste('coverage_',strain,'_rep2',sep='')) \n",
    "                 ) \n",
    "              ) %>%\n",
    "        dplyr::select(TS559_position, \n",
    "                  !!as.name(meth_freq_r1), \n",
    "                  'm5C_cov/total_cov_rep1',\n",
    "                  !!as.name(meth_freq_r2), \n",
    "                  'm5C_cov/total_cov_rep2',\n",
    "                     hiconf_strain) %>%\n",
    "\n",
    "    dplyr::rename(!!paste(strain,'_hiconf',sep=''):= hiconf_strain )  %>%\n",
    "    dplyr::rename(!!paste('m5C_cov/total_cov_',strain,'_rep1',sep=''):= 'm5C_cov/total_cov_rep1' )  %>%\n",
    "    dplyr::rename(!!paste('m5C_cov/total_cov_',strain,'_rep2',sep=''):= 'm5C_cov/total_cov_rep2' ) %>%\n",
    "    dplyr::rename(!!paste('freq_',strain,'_rep1',sep=''):= !!as.name(paste('methylation_frequency_',strain,'_rep1',sep='') ) )%>%\n",
    "    dplyr::rename(!!paste('freq_',strain,'_rep2',sep=''):= !!as.name(paste('methylation_frequency_',strain,'_rep2',sep='') ) )  \n",
    "    \n",
    "    return(data)\n",
    "}"
   ]
  },
  {
   "cell_type": "code",
   "execution_count": 4,
   "metadata": {},
   "outputs": [],
   "source": [
    "CompareCGmap_3reps <- function(strain_cgmap, TS559_cgmap, strain, annotation, minimum_freq=.10, min_cov=47){\n",
    "    \n",
    "    #making some column names\n",
    "    meth_freq_r1 <- paste(\"methylation_frequency_\", strain, \"_rep1\", sep=\"\")\n",
    "    m5C_count_r1 <- paste(\"mC_count_\", strain, \"_rep1\", sep=\"\")\n",
    "    cov_r1 <- paste(\"coverage_\", strain, \"_rep1\", sep=\"\")\n",
    "\n",
    "    meth_freq_r2 <- paste(\"methylation_frequency_\", strain, \"_rep2\", sep=\"\")\n",
    "    m5C_count_r2 <- paste(\"mC_count_\", strain, \"_rep2\", sep=\"\")\n",
    "    cov_r2 <- paste(\"coverage_\", strain, \"_rep2\", sep=\"\")\n",
    "    \n",
    "    \n",
    "    meth_freq_r3 <- paste(\"methylation_frequency_\", strain, \"_rep3\", sep=\"\")\n",
    "    m5C_count_r3 <- paste(\"mC_count_\", strain, \"_rep3\", sep=\"\")\n",
    "    cov_r3 <- paste(\"coverage_\", strain, \"_rep3\", sep=\"\")\n",
    "    \n",
    "    \n",
    "    pooled_methylation_frequency_strain <- paste(\"pooled_methylation_frequency_\", strain, sep='')\n",
    "\n",
    "    #get quantile values for m5C count\n",
    "    q_TS559_rep1 <- quantile((TS559_cgmap%>%\n",
    "        filter(coverage_TS559_rep1>=min_cov, mC_count_TS559_rep1>=0))$mC_count_TS559_rep1, .99)[[1]]\n",
    "    \n",
    "    q_TS559_rep2 <- quantile((TS559_cgmap%>%\n",
    "        filter(coverage_TS559_rep2>=min_cov, mC_count_TS559_rep2>=0))$mC_count_TS559_rep2, .99)[[1]]\n",
    "    \n",
    "    q_TS559_rep3 <- quantile((TS559_cgmap%>%\n",
    "        filter(coverage_TS559_rep3>=min_cov, mC_count_TS559_rep3>=0))$mC_count_TS559_rep3, .99)[[1]]\n",
    "\n",
    "    q_strain_rep1 <- quantile(\n",
    "        (strain_cgmap %>%\n",
    "        filter(!!as.name(cov_r1)>=min_cov, !!as.name(m5C_count_r1)>=0) )[[m5C_count_r1]], .99)[[1]]\n",
    "    \n",
    "    q_strain_rep2 <- quantile(\n",
    "        (strain_cgmap %>%\n",
    "        filter(!!as.name(cov_r2)>=min_cov, !!as.name(m5C_count_r2)>=0) )[[m5C_count_r2]], .99)[[1]]\n",
    "   \n",
    "    q_strain_rep3 <- quantile(\n",
    "        (strain_cgmap %>%\n",
    "        filter(!!as.name(cov_r3)>=min_cov, !!as.name(m5C_count_r3)>=0) )[[m5C_count_r3]], .99)[[1]] \n",
    "    \n",
    "    #build dataframe\n",
    "    data <- strain_cgmap %>%\n",
    "        merge(y = TS559_cgmap, all = TRUE, \n",
    "             by= c(\"chromosome\",\"position\",\"reference_nucleotide\",\"growth_phase\",\"metabolic_condition\")) %>%\n",
    "        dplyr::select(-chromosome,-standard_devition) %>%\n",
    "    \n",
    "        # If coverage is NA, it is also 0\n",
    "        mutate(!!as.name(cov_r1) := replace_na(!!as.name(cov_r1),0)) %>%\n",
    "        mutate(!!as.name(cov_r2) := replace_na(!!as.name(cov_r2),0)) %>%\n",
    "        mutate(!!as.name(cov_r3) := replace_na(!!as.name(cov_r3),0)) %>%\n",
    "\n",
    "        mutate(coverage_TS559_rep1 = replace_na(coverage_TS559_rep1,0)) %>%\n",
    "        mutate(coverage_TS559_rep2 = replace_na(coverage_TS559_rep2,0)) %>%\n",
    "        mutate(coverage_TS559_rep3 = replace_na(coverage_TS559_rep3,0)) %>%  \n",
    "                                                      \n",
    "        # identify high confidence and reproducible m5C sites\n",
    "        rowwise() %>%\n",
    "        mutate(hiconf_TS559 = detect_hiconf_3reps(\n",
    "            f1=methylation_frequency_TS559_rep1,\n",
    "            m1=mC_count_TS559_rep1,\n",
    "            p1=q_TS559_rep1,\n",
    "            c1=coverage_TS559_rep1,\n",
    "            f2=methylation_frequency_TS559_rep2,\n",
    "            m2=mC_count_TS559_rep2,\n",
    "            p2=q_TS559_rep2,\n",
    "            c2=coverage_TS559_rep2,\n",
    "            f3=methylation_frequency_TS559_rep3,\n",
    "            m3=mC_count_TS559_rep3,\n",
    "            p3=q_TS559_rep3,\n",
    "            c3=coverage_TS559_rep3,\n",
    "            min_cov=min_cov,\n",
    "            min_freq = minimum_freq) \n",
    "              ) %>%\n",
    "        \n",
    "        rowwise() %>%\n",
    "        mutate(hiconf_strain = detect_hiconf_3reps(\n",
    "                f1=!!as.name(meth_freq_r1),\n",
    "                m1=!!as.name(m5C_count_r1),\n",
    "                p1=q_strain_rep1,\n",
    "                c1=!!as.name(cov_r1),\n",
    "                f2=!!as.name(meth_freq_r2),\n",
    "                m2=!!as.name(m5C_count_r2),\n",
    "                p2=q_strain_rep2,\n",
    "                c2=!!as.name(cov_r2), \n",
    "                f3=!!as.name(meth_freq_r3),\n",
    "                m3=!!as.name(m5C_count_r3),\n",
    "                p3=q_strain_rep3,\n",
    "                c3=!!as.name(cov_r3), \n",
    "                min_cov= min_cov,\n",
    "                min_freq = minimum_freq)\n",
    "                 \n",
    "                ) %>%\n",
    "        # we are only interested in keeping sites were either the parent or deletion\n",
    "        # strain have a high-confidence m5C site\n",
    "        filter(hiconf_TS559 == TRUE | hiconf_strain == TRUE) %>%\n",
    "        filter(!is.na(hiconf_TS559) & !is.na(hiconf_strain)) %>%                                                    \n",
    "                                                          \n",
    "        # calculate the mean m5C frequency at each site by pooling replicates (round to 2 decimals)\n",
    "        # calculate standard deviation of each site as well\n",
    "        mutate(\n",
    "                !!as.name(pooled_methylation_frequency_strain) := \n",
    "                ( !!as.name(m5C_count_r1) + !!as.name(m5C_count_r2) + !!as.name(m5C_count_r3) )/ \n",
    "                ( !!as.name(cov_r1) + !!as.name(cov_r2) + !!as.name(cov_r3) ) \n",
    "              ) %>%\n",
    "    \n",
    "        \n",
    "        mutate(!!as.name(pooled_methylation_frequency_strain) := \n",
    "               round(!!as.name(pooled_methylation_frequency_strain),2)\n",
    "              ) %>%\n",
    "        mutate(strain_sd = sd(c(!!as.name(meth_freq_r1),!!as.name(meth_freq_r2),!!as.name(meth_freq_r3)))\n",
    "              )%>%\n",
    "    \n",
    "        mutate(pooled_methylation_frequency_TS559 =\n",
    "               (mC_count_TS559_rep1 + mC_count_TS559_rep2 + mC_count_TS559_rep3) /\n",
    "               (coverage_TS559_rep1+coverage_TS559_rep2+coverage_TS559_rep3)    ) %>%\n",
    "        mutate(pooled_methylation_frequency_TS559=round(pooled_methylation_frequency_TS559,2)) %>%\n",
    "        mutate(TS559_sd = sd(c(methylation_frequency_TS559_rep1,methylation_frequency_TS559_rep2,\n",
    "                              methylation_frequency_TS559_rep3))) %>%\n",
    "    mutate(CI90_overlap = \n",
    "                   rm_overlap(!!as.name(pooled_methylation_frequency_strain), strain_sd,\n",
    "                    pooled_methylation_frequency_TS559, TS559_sd )) %>%\n",
    "    \n",
    "    mutate(difference = get_difference(hiconf_TS559, hiconf_strain,   \n",
    "                                            !!as.name(pooled_methylation_frequency_strain), \n",
    "                                            pooled_methylation_frequency_TS559, CI90_overlap ) ) %>%\n",
    "\n",
    "        # calculate fold change of methylaton frequency at each site between parent and deletion strain\n",
    "        mutate(FoldChange = (!!as.name(pooled_methylation_frequency_strain)+.01) / \n",
    "                               (pooled_methylation_frequency_TS559+.01),\n",
    "               log2FC = log2( (!!as.name(pooled_methylation_frequency_strain)+.01) / \n",
    "                               (pooled_methylation_frequency_TS559+.01) ) ) %>%\n",
    "        \n",
    "        filter(difference == \"ABS LOSS\" | difference == \"REL LOSS\" | difference == \"ABS GAIN\" | \n",
    "           difference == \"REL GAIN\" | difference == \"error\") %>%\n",
    "        filter(log2FC >= 1 | log2FC <= -1) %>%\n",
    "        \n",
    "        # add p vlaue\n",
    "        rowwise() %>%\n",
    "        mutate(pvalue = get_pvalue_3reps(\n",
    "            s1_mC = !!as.name(m5C_count_r1),\n",
    "            s1_cov = !!as.name(cov_r1), \n",
    "            s2_mC = !!as.name(m5C_count_r2),\n",
    "            s2_cov = !!as.name(cov_r2),\n",
    "            s3_mC = !!as.name(m5C_count_r3),\n",
    "            s3_cov = !!as.name(cov_r3),\n",
    "            c1_mC = mC_count_TS559_rep1,\n",
    "            c1_cov = coverage_TS559_rep1,\n",
    "            c2_mC = mC_count_TS559_rep2,\n",
    "            c2_cov = coverage_TS559_rep2,\n",
    "            c3_mC = mC_count_TS559_rep3,\n",
    "            c3_cov = coverage_TS559_rep3) ) %>%\n",
    "        \n",
    "    \n",
    "        filter(!is.na(pvalue), pvalue <= 0.0)\n",
    "            \n",
    "        # adjust p values\n",
    "        # adj_pvalue <- p.adjust(data$pvalue, method = 'fdr')\n",
    "        # data <- cbind(data, adj_pvalue)\n",
    "    \n",
    "        data <- data %>% merge(y=annotation,by='position', all.x=TRUE) %>%\n",
    "            dplyr::rename(TS559_position = position) %>%\n",
    "           dplyr::select(-reproducible, -highly_reproducible, -reference_nucleotide) %>%\n",
    "           arrange(log2FC) %>%\n",
    "        dplyr::select(TS559_position, KOD1_position, strand, everything())\n",
    "    \n",
    "    return(data)\n",
    "}\n",
    "\n",
    "enumerate_hiconf_3reps <- function(strain_cgmap, strain, min_cov=47){\n",
    "    \n",
    "    meth_freq_r1 <- paste(\"methylation_frequency_\", strain, \"_rep1\", sep=\"\")\n",
    "    m5C_count_r1 <- paste(\"mC_count_\", strain, \"_rep1\", sep=\"\")\n",
    "    cov_r1 <- paste(\"coverage_\", strain, \"_rep1\", sep=\"\")\n",
    "\n",
    "    meth_freq_r2 <- paste(\"methylation_frequency_\", strain, \"_rep2\", sep=\"\")\n",
    "    m5C_count_r2 <- paste(\"mC_count_\", strain, \"_rep2\", sep=\"\")\n",
    "    cov_r2 <- paste(\"coverage_\", strain, \"_rep2\", sep=\"\")\n",
    "    \n",
    "    q_strain_rep1 <- quantile(\n",
    "        (strain_cgmap %>%\n",
    "        filter(!!as.name(cov_r1)>=min_cov, !!as.name(m5C_count_r1)>=0) )[[m5C_count_r1]], .99)[[1]]\n",
    "    \n",
    "    q_strain_rep2 <- quantile(\n",
    "        (strain_cgmap %>%\n",
    "        filter(!!as.name(cov_r2)>=min_cov, !!as.name(m5C_count_r2)>=0) )[[m5C_count_r2]], .99)[[1]]\n",
    "    \n",
    "    \n",
    "    data <- strain_cgmap %>%\n",
    "        dplyr::select(-chromosome, -reference_nucleotide,-growth_phase) %>%\n",
    "    \n",
    "        mutate(!!as.name(cov_r1) := replace_na(!!as.name(cov_r1),0)) %>%\n",
    "        mutate(!!as.name(cov_r2) := replace_na(!!as.name(cov_r2),0)) %>%   \n",
    "        \n",
    "        rowwise() %>%\n",
    "        mutate(hiconf_strain = detect_hiconf_2reps(\n",
    "                f1=!!as.name(meth_freq_r1),\n",
    "                m1=!!as.name(m5C_count_r1),\n",
    "                p1=q_strain_rep1,\n",
    "                c1=!!as.name(cov_r1),\n",
    "                f2=!!as.name(meth_freq_r2),\n",
    "                m2=!!as.name(m5C_count_r2),\n",
    "                p2=q_strain_rep2,\n",
    "                c2=!!as.name(cov_r2), \n",
    "                min_cov=min_cov)\n",
    "                 \n",
    "                ) %>%\n",
    "        dplyr::rename(TS559_position = position) %>%\n",
    "        \n",
    "        mutate( 'm5C_cov/total_cov_rep1' := \n",
    "            paste(!!as.name(paste('mC_count_',strain,'_rep1',sep='')), \n",
    "                  '/', \n",
    "                  !!as.name(paste('coverage_',strain,'_rep1',sep='')) \n",
    "                 ) \n",
    "              ) %>%\n",
    "        \n",
    "        mutate( 'm5C_cov/total_cov_rep2' := \n",
    "            paste(!!as.name(paste('mC_count_',strain,'_rep2',sep='')), \n",
    "                  '/', \n",
    "                  !!as.name(paste('coverage_',strain,'_rep2',sep='')) \n",
    "                 ) \n",
    "              ) %>%\n",
    "        dplyr::select(TS559_position, \n",
    "                  !!as.name(meth_freq_r1), \n",
    "                  'm5C_cov/total_cov_rep1',\n",
    "                  !!as.name(meth_freq_r2), \n",
    "                  'm5C_cov/total_cov_rep2',\n",
    "                     hiconf_strain) %>%\n",
    "\n",
    "    dplyr::rename(!!paste(strain,'_hiconf',sep=''):= hiconf_strain )  %>%\n",
    "    dplyr::rename(!!paste('m5C_cov/total_cov_',strain,'_rep1',sep=''):= 'm5C_cov/total_cov_rep1' )  %>%\n",
    "    dplyr::rename(!!paste('m5C_cov/total_cov_',strain,'_rep2',sep=''):= 'm5C_cov/total_cov_rep2' ) %>%\n",
    "    dplyr::rename(!!paste('freq_',strain,'_rep1',sep=''):= !!as.name(paste('methylation_frequency_',strain,'_rep1',sep='') ) )%>%\n",
    "    dplyr::rename(!!paste('freq_',strain,'_rep2',sep=''):= !!as.name(paste('methylation_frequency_',strain,'_rep2',sep='') ) )  \n",
    "    \n",
    "    return(data)\n",
    "}"
   ]
  },
  {
   "cell_type": "code",
   "execution_count": 5,
   "metadata": {},
   "outputs": [
    {
     "data": {
      "text/html": [
       "<table class=\"dataframe\">\n",
       "<caption>A rowwise_df: 6 × 15</caption>\n",
       "<thead>\n",
       "\t<tr><th scope=col>chromosome</th><th scope=col>position</th><th scope=col>reference_nucleotide</th><th scope=col>growth_phase</th><th scope=col>metabolic_condition</th><th scope=col>methylation_frequency_TS559_rep1</th><th scope=col>mC_count_TS559_rep1</th><th scope=col>coverage_TS559_rep1</th><th scope=col>methylation_frequency_TS559_rep2</th><th scope=col>mC_count_TS559_rep2</th><th scope=col>coverage_TS559_rep2</th><th scope=col>methylation_frequency_TS559_rep3</th><th scope=col>mC_count_TS559_rep3</th><th scope=col>coverage_TS559_rep3</th><th scope=col>reproducible</th></tr>\n",
       "\t<tr><th scope=col>&lt;chr&gt;</th><th scope=col>&lt;int&gt;</th><th scope=col>&lt;chr&gt;</th><th scope=col>&lt;chr&gt;</th><th scope=col>&lt;chr&gt;</th><th scope=col>&lt;dbl&gt;</th><th scope=col>&lt;int&gt;</th><th scope=col>&lt;int&gt;</th><th scope=col>&lt;dbl&gt;</th><th scope=col>&lt;int&gt;</th><th scope=col>&lt;int&gt;</th><th scope=col>&lt;dbl&gt;</th><th scope=col>&lt;int&gt;</th><th scope=col>&lt;int&gt;</th><th scope=col>&lt;lgl&gt;</th></tr>\n",
       "</thead>\n",
       "<tbody>\n",
       "\t<tr><td>TS559_Genomic_Sequence.seq</td><td> 6</td><td>C</td><td>stationary</td><td>S</td><td>0</td><td>0</td><td>12</td><td>0</td><td>0</td><td>78</td><td>0</td><td>0</td><td>158</td><td>FALSE</td></tr>\n",
       "\t<tr><td>TS559_Genomic_Sequence.seq</td><td> 7</td><td>C</td><td>stationary</td><td>S</td><td>0</td><td>0</td><td>13</td><td>0</td><td>0</td><td>78</td><td>0</td><td>0</td><td>164</td><td>FALSE</td></tr>\n",
       "\t<tr><td>TS559_Genomic_Sequence.seq</td><td> 9</td><td>C</td><td>stationary</td><td>S</td><td>0</td><td>0</td><td>13</td><td>0</td><td>0</td><td>82</td><td>0</td><td>0</td><td>170</td><td>FALSE</td></tr>\n",
       "\t<tr><td>TS559_Genomic_Sequence.seq</td><td>12</td><td>C</td><td>stationary</td><td>S</td><td>0</td><td>0</td><td>13</td><td>0</td><td>0</td><td>83</td><td>0</td><td>0</td><td>171</td><td>FALSE</td></tr>\n",
       "\t<tr><td>TS559_Genomic_Sequence.seq</td><td>14</td><td>C</td><td>stationary</td><td>S</td><td>0</td><td>0</td><td>13</td><td>0</td><td>0</td><td>83</td><td>0</td><td>0</td><td>172</td><td>FALSE</td></tr>\n",
       "\t<tr><td>TS559_Genomic_Sequence.seq</td><td>18</td><td>C</td><td>stationary</td><td>S</td><td>0</td><td>0</td><td>14</td><td>0</td><td>0</td><td>84</td><td>0</td><td>0</td><td>173</td><td>FALSE</td></tr>\n",
       "</tbody>\n",
       "</table>\n"
      ],
      "text/latex": [
       "A rowwise\\_df: 6 × 15\n",
       "\\begin{tabular}{lllllllllllllll}\n",
       " chromosome & position & reference\\_nucleotide & growth\\_phase & metabolic\\_condition & methylation\\_frequency\\_TS559\\_rep1 & mC\\_count\\_TS559\\_rep1 & coverage\\_TS559\\_rep1 & methylation\\_frequency\\_TS559\\_rep2 & mC\\_count\\_TS559\\_rep2 & coverage\\_TS559\\_rep2 & methylation\\_frequency\\_TS559\\_rep3 & mC\\_count\\_TS559\\_rep3 & coverage\\_TS559\\_rep3 & reproducible\\\\\n",
       " <chr> & <int> & <chr> & <chr> & <chr> & <dbl> & <int> & <int> & <dbl> & <int> & <int> & <dbl> & <int> & <int> & <lgl>\\\\\n",
       "\\hline\n",
       "\t TS559\\_Genomic\\_Sequence.seq &  6 & C & stationary & S & 0 & 0 & 12 & 0 & 0 & 78 & 0 & 0 & 158 & FALSE\\\\\n",
       "\t TS559\\_Genomic\\_Sequence.seq &  7 & C & stationary & S & 0 & 0 & 13 & 0 & 0 & 78 & 0 & 0 & 164 & FALSE\\\\\n",
       "\t TS559\\_Genomic\\_Sequence.seq &  9 & C & stationary & S & 0 & 0 & 13 & 0 & 0 & 82 & 0 & 0 & 170 & FALSE\\\\\n",
       "\t TS559\\_Genomic\\_Sequence.seq & 12 & C & stationary & S & 0 & 0 & 13 & 0 & 0 & 83 & 0 & 0 & 171 & FALSE\\\\\n",
       "\t TS559\\_Genomic\\_Sequence.seq & 14 & C & stationary & S & 0 & 0 & 13 & 0 & 0 & 83 & 0 & 0 & 172 & FALSE\\\\\n",
       "\t TS559\\_Genomic\\_Sequence.seq & 18 & C & stationary & S & 0 & 0 & 14 & 0 & 0 & 84 & 0 & 0 & 173 & FALSE\\\\\n",
       "\\end{tabular}\n"
      ],
      "text/markdown": [
       "\n",
       "A rowwise_df: 6 × 15\n",
       "\n",
       "| chromosome &lt;chr&gt; | position &lt;int&gt; | reference_nucleotide &lt;chr&gt; | growth_phase &lt;chr&gt; | metabolic_condition &lt;chr&gt; | methylation_frequency_TS559_rep1 &lt;dbl&gt; | mC_count_TS559_rep1 &lt;int&gt; | coverage_TS559_rep1 &lt;int&gt; | methylation_frequency_TS559_rep2 &lt;dbl&gt; | mC_count_TS559_rep2 &lt;int&gt; | coverage_TS559_rep2 &lt;int&gt; | methylation_frequency_TS559_rep3 &lt;dbl&gt; | mC_count_TS559_rep3 &lt;int&gt; | coverage_TS559_rep3 &lt;int&gt; | reproducible &lt;lgl&gt; |\n",
       "|---|---|---|---|---|---|---|---|---|---|---|---|---|---|---|\n",
       "| TS559_Genomic_Sequence.seq |  6 | C | stationary | S | 0 | 0 | 12 | 0 | 0 | 78 | 0 | 0 | 158 | FALSE |\n",
       "| TS559_Genomic_Sequence.seq |  7 | C | stationary | S | 0 | 0 | 13 | 0 | 0 | 78 | 0 | 0 | 164 | FALSE |\n",
       "| TS559_Genomic_Sequence.seq |  9 | C | stationary | S | 0 | 0 | 13 | 0 | 0 | 82 | 0 | 0 | 170 | FALSE |\n",
       "| TS559_Genomic_Sequence.seq | 12 | C | stationary | S | 0 | 0 | 13 | 0 | 0 | 83 | 0 | 0 | 171 | FALSE |\n",
       "| TS559_Genomic_Sequence.seq | 14 | C | stationary | S | 0 | 0 | 13 | 0 | 0 | 83 | 0 | 0 | 172 | FALSE |\n",
       "| TS559_Genomic_Sequence.seq | 18 | C | stationary | S | 0 | 0 | 14 | 0 | 0 | 84 | 0 | 0 | 173 | FALSE |\n",
       "\n"
      ],
      "text/plain": [
       "  chromosome                 position reference_nucleotide growth_phase\n",
       "1 TS559_Genomic_Sequence.seq  6       C                    stationary  \n",
       "2 TS559_Genomic_Sequence.seq  7       C                    stationary  \n",
       "3 TS559_Genomic_Sequence.seq  9       C                    stationary  \n",
       "4 TS559_Genomic_Sequence.seq 12       C                    stationary  \n",
       "5 TS559_Genomic_Sequence.seq 14       C                    stationary  \n",
       "6 TS559_Genomic_Sequence.seq 18       C                    stationary  \n",
       "  metabolic_condition methylation_frequency_TS559_rep1 mC_count_TS559_rep1\n",
       "1 S                   0                                0                  \n",
       "2 S                   0                                0                  \n",
       "3 S                   0                                0                  \n",
       "4 S                   0                                0                  \n",
       "5 S                   0                                0                  \n",
       "6 S                   0                                0                  \n",
       "  coverage_TS559_rep1 methylation_frequency_TS559_rep2 mC_count_TS559_rep2\n",
       "1 12                  0                                0                  \n",
       "2 13                  0                                0                  \n",
       "3 13                  0                                0                  \n",
       "4 13                  0                                0                  \n",
       "5 13                  0                                0                  \n",
       "6 14                  0                                0                  \n",
       "  coverage_TS559_rep2 methylation_frequency_TS559_rep3 mC_count_TS559_rep3\n",
       "1 78                  0                                0                  \n",
       "2 78                  0                                0                  \n",
       "3 82                  0                                0                  \n",
       "4 83                  0                                0                  \n",
       "5 83                  0                                0                  \n",
       "6 84                  0                                0                  \n",
       "  coverage_TS559_rep3 reproducible\n",
       "1 158                 FALSE       \n",
       "2 164                 FALSE       \n",
       "3 170                 FALSE       \n",
       "4 171                 FALSE       \n",
       "5 172                 FALSE       \n",
       "6 173                 FALSE       "
      ]
     },
     "metadata": {},
     "output_type": "display_data"
    }
   ],
   "source": [
    "# TS559 --  control/parent strain\n",
    "\n",
    "TS559statS_CGmap_rep1 <-load_cgmap(\"../cgmaps/TS559statS_totalRNA_March2016.CGmap\",\n",
    "    strain=\"TS559\", growth_phase='stationary', metabolic_condition=\"S\", replicate=\"rep1\") %>%\n",
    "    dplyr::rename(reference_nucleotide=base)\n",
    "\n",
    "TS559statS_CGmap_rep2 <-load_cgmap(\"../cgmaps/TS559statS_totalRNA_Dec2016.CGmap\", \n",
    "    strain=\"TS559\", growth_phase='stationary', metabolic_condition=\"S\", replicate=\"rep2\")%>%\n",
    "    dplyr::rename(reference_nucleotide=base)\n",
    "\n",
    "TS559statS_CGmap_rep3 <-load_cgmap(\"../cgmaps/TS559statS_totalRNA_Oct2020.CGmap\",\n",
    "    strain=\"TS559\", growth_phase='stationary', metabolic_condition=\"S\", replicate=\"rep3\")%>%\n",
    "    dplyr::rename(reference_nucleotide=base)\n",
    "   \n",
    "    \n",
    "TS559statS_rep1_df <- processCGmap(TS559statS_CGmap_rep1)\n",
    "TS559statS_rep2_df <- processCGmap(TS559statS_CGmap_rep2)\n",
    "TS559statS_rep3_df <- processCGmap(TS559statS_CGmap_rep3)\n",
    "\n",
    "\n",
    "m5C_count_e1 = 6\n",
    "m5C_count_e2 = 18\n",
    "m5C_count_e3 = 7\n",
    "m5C_count_s1 = 5\n",
    "m5C_count_s2 = 17\n",
    "m5C_count_s3 = 5\n",
    "\n",
    "TS559statS_all <- merge(x=TS559statS_rep1_df, y= TS559statS_rep2_df, \n",
    "                   by=c(\"chromosome\",\"position\", 'reference_nucleotide', 'growth_phase','metabolic_condition'), \n",
    "                   all=TRUE) %>%\n",
    "            merge(y=TS559statS_rep3_df, \n",
    "                   by=c(\"chromosome\",\"position\", 'reference_nucleotide', 'growth_phase','metabolic_condition'), \n",
    "                   all=TRUE) %>%\n",
    "            mutate(coverage_TS559_rep1 = replace_na(coverage_TS559_rep1,0)) %>%\n",
    "            mutate(coverage_TS559_rep2 = replace_na(coverage_TS559_rep2,0)) %>%\n",
    "            mutate(coverage_TS559_rep3 = replace_na(coverage_TS559_rep3,0)) %>%\n",
    "            rowwise()%>%\n",
    "            mutate(reproducible = detect_hiconf_3reps(\n",
    "                f1=methylation_frequency_TS559_rep1,\n",
    "                m1=mC_count_TS559_rep1,\n",
    "                p1=m5C_count_e1,\n",
    "                c1=coverage_TS559_rep1,\n",
    "                f2=methylation_frequency_TS559_rep2,\n",
    "                m2=mC_count_TS559_rep2,\n",
    "                p2=m5C_count_e2,\n",
    "                c2=coverage_TS559_rep2,\n",
    "                f3=methylation_frequency_TS559_rep3,\n",
    "                m3=mC_count_TS559_rep3,\n",
    "                p3=m5C_count_e3,\n",
    "                c3=coverage_TS559_rep3, \n",
    "                min_cov=47))\n",
    "\n",
    "head(TS559statS_all)\n",
    "\n",
    "TS559statS_cat <-TS559statS_all %>%\n",
    "    dplyr::select(-chromosome, -metabolic_condition) %>%\n",
    "    dplyr::rename(TS559_position = position, TS559_hiconf = reproducible) %>%\n",
    "    dplyr::rename(freq_TS559_rep1 = methylation_frequency_TS559_rep1, freq_TS559_rep2 = methylation_frequency_TS559_rep2, \n",
    "                  freq_TS559_rep3=methylation_frequency_TS559_rep3) %>%\n",
    "    mutate('m5C_cov/total_cov_TS559_rep1' = paste(mC_count_TS559_rep1, '/', coverage_TS559_rep1) ) %>%\n",
    "    mutate('m5C_cov/total_cov_TS559_rep2' = paste(mC_count_TS559_rep2, '/', coverage_TS559_rep2) ) %>%\n",
    "    mutate('m5C_cov/total_cov_TS559_rep3' = paste(mC_count_TS559_rep3, '/', coverage_TS559_rep3) ) %>%\n",
    "    dplyr::select(-mC_count_TS559_rep1,-coverage_TS559_rep1,-mC_count_TS559_rep2, \n",
    "                  -coverage_TS559_rep2,-mC_count_TS559_rep3, -coverage_TS559_rep3) %>%\n",
    "    dplyr::select(\"TS559_position\",\"freq_TS559_rep1\", \n",
    "          \"m5C_cov/total_cov_TS559_rep1\",\"freq_TS559_rep2\",\"m5C_cov/total_cov_TS559_rep2\",\n",
    "           \"freq_TS559_rep3\",\"m5C_cov/total_cov_TS559_rep3\", 'TS559_hiconf'\n",
    "          )        \n",
    "\n",
    "Sys.sleep(10)\n"
   ]
  },
  {
   "cell_type": "code",
   "execution_count": 6,
   "metadata": {
    "scrolled": true
   },
   "outputs": [],
   "source": [
    "# ###strain TK2045\n",
    "\n",
    "# defaultW <- getOption(\"warn\")\n",
    "# options(warn = -1)\n",
    "\n",
    "\n",
    "# #load CGmaps into session\n",
    "# TK2045statS_CGmap_rep1 <-read.delim(\"../cgmaps/TK2045statS_totalRNA_Dec2016.CGmap\", sep='\\t', header=FALSE,col.names=cols) %>%\n",
    "#     mutate(strain=\"TK2045\", growth_phase='stationary', metabolic_condition=\"S\", replicate=\"rep1\")\n",
    "\n",
    "# TK2045statS_CGmap_rep2 <-read.delim(\"../cgmaps/TK2045statS_totalRNA_Oct2020.CGmap\", sep='\\t', header=FALSE,col.names=cols) %>%\n",
    "#     mutate(strain=\"TK2045\", growth_phase='stationary', metabolic_condition=\"S\", replicate=\"rep2\")\n",
    "\n",
    "# # process raw CGmaps\n",
    "# TK2045statS_rep1_df <- processCGmap(TK2045statS_CGmap_rep1)\n",
    "# TK2045statS_rep2_df <- processCGmap(TK2045statS_CGmap_rep2)\n",
    "\n",
    "# #merge reps\n",
    "# TK2045statS <- merge_del_reps(x=TK2045statS_rep1_df, y=TK2045statS_rep2_df, strain='TK2045')\n",
    "\n",
    "# # get quantiles\n",
    "# \"quantiles:\"\n",
    "# get_quantiles(strain_cgmap = TK2045statS, strain=\"TK2045\", min_cov = 47)\n",
    "\n",
    "# #compare methylation frequencies & annotate\n",
    "# TK2045statS_anal <- CompareCGmap(strain_cgmap = TK2045statS, \n",
    "#                                 TS559_cgmap = TS559statS, \n",
    "#                                 strain=\"TK2045\", \n",
    "#                                 annotation = annotation,\n",
    "#                                 min_cov = 47)\n",
    "\n",
    "# write.table(TK2045statS_anal, file = \"../processed_cgmaps/TK2045statS_annotated\", sep = \"\\t\", row.names = F)\n",
    "\n",
    "# #enumerate gains & losses\n",
    "# \"losses & gains:\"\n",
    "# nrow( TK2045statS_anal %>% filter(log2FC < 0) )\n",
    "# nrow( TK2045statS_anal %>% filter(log2FC > 0) )\n",
    "\n",
    "# \"absolute losses & gains:\"\n",
    "# nrow( TK2045statS_anal %>% filter(difference == \"ABS LOSS\") )\n",
    "# nrow( TK2045statS_anal %>% filter(difference == \"ABS GAIN\") )\n",
    "\n",
    "# head(TK2045statS_anal)\n",
    "\n",
    "# TK2045statS_cat <- enumerate_hiconf_2reps(strain_cgmap = TK2045statS, strain=\"TK2045\",min_cov = 47)\n",
    "\n",
    "# Sys.sleep(10)\n"
   ]
  },
  {
   "cell_type": "code",
   "execution_count": 7,
   "metadata": {
    "scrolled": false
   },
   "outputs": [
    {
     "data": {
      "text/html": [
       "'quantiles:'"
      ],
      "text/latex": [
       "'quantiles:'"
      ],
      "text/markdown": [
       "'quantiles:'"
      ],
      "text/plain": [
       "[1] \"quantiles:\""
      ]
     },
     "metadata": {},
     "output_type": "display_data"
    },
    {
     "data": {
      "text/html": [
       "<style>\n",
       ".list-inline {list-style: none; margin:0; padding: 0}\n",
       ".list-inline>li {display: inline-block}\n",
       ".list-inline>li:not(:last-child)::after {content: \"\\00b7\"; padding: 0 .5ex}\n",
       "</style>\n",
       "<ol class=list-inline><li>5</li><li>7</li></ol>\n"
      ],
      "text/latex": [
       "\\begin{enumerate*}\n",
       "\\item 5\n",
       "\\item 7\n",
       "\\end{enumerate*}\n"
      ],
      "text/markdown": [
       "1. 5\n",
       "2. 7\n",
       "\n",
       "\n"
      ],
      "text/plain": [
       "[1] 5 7"
      ]
     },
     "metadata": {},
     "output_type": "display_data"
    }
   ],
   "source": [
    "###strain TK0224\n",
    "\n",
    "defaultW <- getOption(\"warn\")\n",
    "options(warn = -1)\n",
    "\n",
    "\n",
    "#load CGmaps into session\n",
    "TK0224statS_CGmap_rep1 <-read.delim(\"../cgmaps/TK0224statS_totalRNA_Dec2016.CGmap\", sep='\\t', header=FALSE,col.names=cols) %>%\n",
    "    mutate(strain=\"TK0224\", growth_phase='stationary', metabolic_condition=\"S\", replicate=\"rep1\")\n",
    "\n",
    "TK0224statS_CGmap_rep2 <-read.delim(\"../cgmaps/TK0224statS_totalRNA_Oct2020.CGmap\", sep='\\t', header=FALSE,col.names=cols) %>%\n",
    "    mutate(strain=\"TK0224\", growth_phase='stationary', metabolic_condition=\"S\", replicate=\"rep2\")\n",
    "\n",
    "# process raw CGmaps\n",
    "TK0224statS_rep1_df <- processCGmap(TK0224statS_CGmap_rep1)\n",
    "TK0224statS_rep2_df <- processCGmap(TK0224statS_CGmap_rep2)\n",
    "\n",
    "#merge reps\n",
    "TK0224statS <- merge_del_reps(x=TK0224statS_rep1_df, y=TK0224statS_rep2_df, strain='TK0224')\n",
    "\n",
    "# get quantiles\n",
    "\"quantiles:\"\n",
    "get_quantiles(strain_cgmap = TK0224statS, strain=\"TK0224\", min_cov = 47)\n",
    "\n",
    "#compare methylation frequencies & annotate\n",
    "TK0224statS_anal <- CompareCGmap(strain_cgmap = TK0224statS, \n",
    "                                TS559_cgmap = TS559statS, \n",
    "                                strain=\"TK0224\", \n",
    "                                annotation = annotation,\n",
    "                                min_cov = 47)\n",
    "\n",
    "write.table(TK0224statS_anal, file = \"../processed_cgmaps/TK0224statS_annotated\", sep = \"\\t\", row.names = F)\n",
    "\n",
    "#enumerate gains & losses\n",
    "\"losses & gains:\"\n",
    "nrow( TK0224statS_anal %>% filter(log2FC < 0) )\n",
    "nrow( TK0224statS_anal %>% filter(log2FC > 0) )\n",
    "\n",
    "\"absolute losses & gains:\"\n",
    "nrow( TK0224statS_anal %>% filter(difference == \"ABS LOSS\") )\n",
    "nrow( TK0224statS_anal %>% filter(difference == \"ABS GAIN\") )\n",
    "\n",
    "\n",
    "head(TK0224statS_anal)\n",
    "\n",
    "# TK0224statS_cat <- enumerate_hiconf_2reps(strain_cgmap = TK0224statS, strain=\"TK0224\",min_cov = 47)\n",
    "\n",
    "Sys.sleep(10)"
   ]
  },
  {
   "cell_type": "code",
   "execution_count": 8,
   "metadata": {},
   "outputs": [
    {
     "data": {
      "text/html": [
       "'quantiles:'"
      ],
      "text/latex": [
       "'quantiles:'"
      ],
      "text/markdown": [
       "'quantiles:'"
      ],
      "text/plain": [
       "[1] \"quantiles:\""
      ]
     },
     "metadata": {},
     "output_type": "display_data"
    },
    {
     "data": {
      "text/html": [
       "<style>\n",
       ".list-inline {list-style: none; margin:0; padding: 0}\n",
       ".list-inline>li {display: inline-block}\n",
       ".list-inline>li:not(:last-child)::after {content: \"\\00b7\"; padding: 0 .5ex}\n",
       "</style>\n",
       "<ol class=list-inline><li>5</li><li>7</li></ol>\n"
      ],
      "text/latex": [
       "\\begin{enumerate*}\n",
       "\\item 5\n",
       "\\item 7\n",
       "\\end{enumerate*}\n"
      ],
      "text/markdown": [
       "1. 5\n",
       "2. 7\n",
       "\n",
       "\n"
      ],
      "text/plain": [
       "[1] 5 7"
      ]
     },
     "metadata": {},
     "output_type": "display_data"
    }
   ],
   "source": [
    "###strain TK0234\n",
    "\n",
    "defaultW <- getOption(\"warn\")\n",
    "options(warn = -1)\n",
    "\n",
    "\n",
    "#load CGmaps into session\n",
    "TK0234statS_CGmap_rep1 <-read.delim(\"../cgmaps/TK0234statS_totalRNA_Dec2016.CGmap\", sep='\\t', header=FALSE,col.names=cols) %>%\n",
    "    mutate(strain=\"TK0234\", growth_phase='stationary', metabolic_condition=\"S\", replicate=\"rep1\")\n",
    "\n",
    "TK0234statS_CGmap_rep2 <-read.delim(\"../cgmaps/TK0234statS_totalRNA_Oct2020.CGmap\", sep='\\t', header=FALSE,col.names=cols) %>%\n",
    "    mutate(strain=\"TK0234\", growth_phase='stationary', metabolic_condition=\"S\", replicate=\"rep2\")\n",
    "\n",
    "# process raw CGmaps\n",
    "TK0234statS_rep1_df <- processCGmap(TK0234statS_CGmap_rep1)\n",
    "TK0234statS_rep2_df <- processCGmap(TK0234statS_CGmap_rep2)\n",
    "\n",
    "#merge reps\n",
    "TK0234statS <- merge_del_reps(x=TK0234statS_rep1_df, y=TK0234statS_rep2_df, strain='TK0234')\n",
    "\n",
    "# get quantiles\n",
    "\"quantiles:\"\n",
    "get_quantiles(strain_cgmap = TK0234statS, strain=\"TK0234\", min_cov = 47)\n",
    "\n",
    "#compare methylation frequencies & annotate\n",
    "TK0234statS_anal <- CompareCGmap(strain_cgmap = TK0234statS, \n",
    "                                TS559_cgmap = TS559statS, \n",
    "                                strain=\"TK0234\", \n",
    "                                annotation = annotation,\n",
    "                                min_cov = 47)\n",
    "\n",
    "write.table(TK0234statS_anal, file = \"../processed_cgmaps/TK0234statS_annotated\", sep = \"\\t\", row.names = F)\n",
    "\n",
    "#enumerate gains & losses\n",
    "\"losses & gains:\"\n",
    "nrow( TK0234statS_anal %>% filter(log2FC < 0) )\n",
    "nrow( TK0234statS_anal %>% filter(log2FC > 0) )\n",
    "\n",
    "\"absolute losses & gains:\"\n",
    "nrow( TK0234statS_anal %>% filter(difference == \"ABS LOSS\") )\n",
    "nrow( TK0234statS_anal %>% filter(difference == \"ABS GAIN\") )\n",
    "\n",
    "head(TK0234statS_anal)\n",
    "\n",
    "# TK0234statS_cat <- enumerate_hiconf_2reps(strain_cgmap = TK0234statS, strain=\"TK0234\",min_cov = 47)\n",
    "\n",
    "Sys.sleep(10)"
   ]
  },
  {
   "cell_type": "code",
   "execution_count": 7,
   "metadata": {},
   "outputs": [
    {
     "data": {
      "text/html": [
       "'quantiles:'"
      ],
      "text/latex": [
       "'quantiles:'"
      ],
      "text/markdown": [
       "'quantiles:'"
      ],
      "text/plain": [
       "[1] \"quantiles:\""
      ]
     },
     "metadata": {},
     "output_type": "display_data"
    },
    {
     "data": {
      "text/html": [
       "<style>\n",
       ".list-inline {list-style: none; margin:0; padding: 0}\n",
       ".list-inline>li {display: inline-block}\n",
       ".list-inline>li:not(:last-child)::after {content: \"\\00b7\"; padding: 0 .5ex}\n",
       "</style>\n",
       "<ol class=list-inline><li>9</li><li>9</li></ol>\n"
      ],
      "text/latex": [
       "\\begin{enumerate*}\n",
       "\\item 9\n",
       "\\item 9\n",
       "\\end{enumerate*}\n"
      ],
      "text/markdown": [
       "1. 9\n",
       "2. 9\n",
       "\n",
       "\n"
      ],
      "text/plain": [
       "[1] 9 9"
      ]
     },
     "metadata": {},
     "output_type": "display_data"
    },
    {
     "data": {
      "text/html": [
       "'losses &amp; gains:'"
      ],
      "text/latex": [
       "'losses \\& gains:'"
      ],
      "text/markdown": [
       "'losses &amp; gains:'"
      ],
      "text/plain": [
       "[1] \"losses & gains:\""
      ]
     },
     "metadata": {},
     "output_type": "display_data"
    },
    {
     "data": {
      "text/html": [
       "2"
      ],
      "text/latex": [
       "2"
      ],
      "text/markdown": [
       "2"
      ],
      "text/plain": [
       "[1] 2"
      ]
     },
     "metadata": {},
     "output_type": "display_data"
    },
    {
     "data": {
      "text/html": [
       "34"
      ],
      "text/latex": [
       "34"
      ],
      "text/markdown": [
       "34"
      ],
      "text/plain": [
       "[1] 34"
      ]
     },
     "metadata": {},
     "output_type": "display_data"
    },
    {
     "data": {
      "text/html": [
       "'absolute losses &amp; gains:'"
      ],
      "text/latex": [
       "'absolute losses \\& gains:'"
      ],
      "text/markdown": [
       "'absolute losses &amp; gains:'"
      ],
      "text/plain": [
       "[1] \"absolute losses & gains:\""
      ]
     },
     "metadata": {},
     "output_type": "display_data"
    },
    {
     "data": {
      "text/html": [
       "1"
      ],
      "text/latex": [
       "1"
      ],
      "text/markdown": [
       "1"
      ],
      "text/plain": [
       "[1] 1"
      ]
     },
     "metadata": {},
     "output_type": "display_data"
    },
    {
     "data": {
      "text/html": [
       "12"
      ],
      "text/latex": [
       "12"
      ],
      "text/markdown": [
       "12"
      ],
      "text/plain": [
       "[1] 12"
      ]
     },
     "metadata": {},
     "output_type": "display_data"
    },
    {
     "data": {
      "text/html": [
       "<table class=\"dataframe\">\n",
       "<caption>A data.frame: 6 × 50</caption>\n",
       "<thead>\n",
       "\t<tr><th></th><th scope=col>TS559_position</th><th scope=col>KOD1_position</th><th scope=col>strand</th><th scope=col>growth_phase</th><th scope=col>metabolic_condition</th><th scope=col>methylation_frequency_TK0360_rep1</th><th scope=col>mC_count_TK0360_rep1</th><th scope=col>coverage_TK0360_rep1</th><th scope=col>methylation_frequency_TK0360_rep2</th><th scope=col>mC_count_TK0360_rep2</th><th scope=col>⋯</th><th scope=col>amino_acid_sequence</th><th scope=col>amino_acid_ID</th><th scope=col>local_41bp_predicted_fold</th><th scope=col>m5C_position_fold</th><th scope=col>MFE</th><th scope=col>associated_TSS_id</th><th scope=col>TSS_direction</th><th scope=col>TSS_description</th><th scope=col>total_annotations</th><th scope=col>alternate_annotations</th></tr>\n",
       "\t<tr><th></th><th scope=col>&lt;int&gt;</th><th scope=col>&lt;chr&gt;</th><th scope=col>&lt;chr&gt;</th><th scope=col>&lt;chr&gt;</th><th scope=col>&lt;chr&gt;</th><th scope=col>&lt;dbl&gt;</th><th scope=col>&lt;int&gt;</th><th scope=col>&lt;int&gt;</th><th scope=col>&lt;dbl&gt;</th><th scope=col>&lt;int&gt;</th><th scope=col>⋯</th><th scope=col>&lt;chr&gt;</th><th scope=col>&lt;chr&gt;</th><th scope=col>&lt;chr&gt;</th><th scope=col>&lt;chr&gt;</th><th scope=col>&lt;chr&gt;</th><th scope=col>&lt;chr&gt;</th><th scope=col>&lt;chr&gt;</th><th scope=col>&lt;chr&gt;</th><th scope=col>&lt;int&gt;</th><th scope=col>&lt;chr&gt;</th></tr>\n",
       "</thead>\n",
       "<tbody>\n",
       "\t<tr><th scope=row>1</th><td>1772255</td><td>1773246</td><td>-</td><td>stationary</td><td>S</td><td>0.05</td><td>120</td><td>2355</td><td>0.06</td><td>157</td><td>⋯</td><td>CCG</td><td>P</td><td>|..|.......|||||..|||.|||..||..|.........</td><td>base_paired    </td><td>-68.5 </td><td>.</td><td>.</td><td>.</td><td>1</td><td>NA</td></tr>\n",
       "\t<tr><th scope=row>2</th><td>2019350</td><td>2020341</td><td>-</td><td>stationary</td><td>S</td><td>0.04</td><td> 57</td><td>1371</td><td>0.05</td><td> 68</td><td>⋯</td><td>GAC</td><td>D</td><td>||||||||...|||..||..................||..|</td><td>single_stranded</td><td>-22.79</td><td>.</td><td>.</td><td>.</td><td>1</td><td>NA</td></tr>\n",
       "\t<tr><th scope=row>3</th><td> 685151</td><td>686142 </td><td>-</td><td>stationary</td><td>S</td><td>0.06</td><td> 61</td><td> 950</td><td>0.05</td><td> 37</td><td>⋯</td><td>.  </td><td>.</td><td>.                                        </td><td>NA             </td><td>.     </td><td>.</td><td>.</td><td>.</td><td>1</td><td>NA</td></tr>\n",
       "\t<tr><th scope=row>4</th><td>1344043</td><td>1345034</td><td>-</td><td>stationary</td><td>S</td><td>0.06</td><td> 88</td><td>1373</td><td>0.06</td><td> 89</td><td>⋯</td><td>GAC</td><td>D</td><td>................................||..|..||</td><td>single_stranded</td><td>-25.73</td><td>.</td><td>.</td><td>.</td><td>1</td><td>NA</td></tr>\n",
       "\t<tr><th scope=row>5</th><td>1480381</td><td>1481372</td><td>-</td><td>stationary</td><td>S</td><td>0.06</td><td> 80</td><td>1316</td><td>0.05</td><td> 68</td><td>⋯</td><td>GCG</td><td>A</td><td>||||...|||||||||...|||||.........|||..|||</td><td>base_paired    </td><td>-36.73</td><td>.</td><td>.</td><td>.</td><td>1</td><td>NA</td></tr>\n",
       "\t<tr><th scope=row>6</th><td>1492125</td><td>1493116</td><td>-</td><td>stationary</td><td>S</td><td>0.07</td><td> 57</td><td> 876</td><td>0.06</td><td> 61</td><td>⋯</td><td>CCG</td><td>P</td><td>|....|||||||||..|||||.................|..</td><td>base_paired    </td><td>-26.58</td><td>.</td><td>.</td><td>.</td><td>1</td><td>NA</td></tr>\n",
       "</tbody>\n",
       "</table>\n"
      ],
      "text/latex": [
       "A data.frame: 6 × 50\n",
       "\\begin{tabular}{r|lllllllllllllllllllll}\n",
       "  & TS559\\_position & KOD1\\_position & strand & growth\\_phase & metabolic\\_condition & methylation\\_frequency\\_TK0360\\_rep1 & mC\\_count\\_TK0360\\_rep1 & coverage\\_TK0360\\_rep1 & methylation\\_frequency\\_TK0360\\_rep2 & mC\\_count\\_TK0360\\_rep2 & ⋯ & amino\\_acid\\_sequence & amino\\_acid\\_ID & local\\_41bp\\_predicted\\_fold & m5C\\_position\\_fold & MFE & associated\\_TSS\\_id & TSS\\_direction & TSS\\_description & total\\_annotations & alternate\\_annotations\\\\\n",
       "  & <int> & <chr> & <chr> & <chr> & <chr> & <dbl> & <int> & <int> & <dbl> & <int> & ⋯ & <chr> & <chr> & <chr> & <chr> & <chr> & <chr> & <chr> & <chr> & <int> & <chr>\\\\\n",
       "\\hline\n",
       "\t1 & 1772255 & 1773246 & - & stationary & S & 0.05 & 120 & 2355 & 0.06 & 157 & ⋯ & CCG & P & \\textbar{}..\\textbar{}.......\\textbar{}\\textbar{}\\textbar{}\\textbar{}\\textbar{}..\\textbar{}\\textbar{}\\textbar{}.\\textbar{}\\textbar{}\\textbar{}..\\textbar{}\\textbar{}..\\textbar{}......... & base\\_paired     & -68.5  & . & . & . & 1 & NA\\\\\n",
       "\t2 & 2019350 & 2020341 & - & stationary & S & 0.04 &  57 & 1371 & 0.05 &  68 & ⋯ & GAC & D & \\textbar{}\\textbar{}\\textbar{}\\textbar{}\\textbar{}\\textbar{}\\textbar{}\\textbar{}...\\textbar{}\\textbar{}\\textbar{}..\\textbar{}\\textbar{}..................\\textbar{}\\textbar{}..\\textbar{} & single\\_stranded & -22.79 & . & . & . & 1 & NA\\\\\n",
       "\t3 &  685151 & 686142  & - & stationary & S & 0.06 &  61 &  950 & 0.05 &  37 & ⋯ & .   & . & .                                         & NA              & .      & . & . & . & 1 & NA\\\\\n",
       "\t4 & 1344043 & 1345034 & - & stationary & S & 0.06 &  88 & 1373 & 0.06 &  89 & ⋯ & GAC & D & ................................\\textbar{}\\textbar{}..\\textbar{}..\\textbar{}\\textbar{} & single\\_stranded & -25.73 & . & . & . & 1 & NA\\\\\n",
       "\t5 & 1480381 & 1481372 & - & stationary & S & 0.06 &  80 & 1316 & 0.05 &  68 & ⋯ & GCG & A & \\textbar{}\\textbar{}\\textbar{}\\textbar{}...\\textbar{}\\textbar{}\\textbar{}\\textbar{}\\textbar{}\\textbar{}\\textbar{}\\textbar{}\\textbar{}...\\textbar{}\\textbar{}\\textbar{}\\textbar{}\\textbar{}.........\\textbar{}\\textbar{}\\textbar{}..\\textbar{}\\textbar{}\\textbar{} & base\\_paired     & -36.73 & . & . & . & 1 & NA\\\\\n",
       "\t6 & 1492125 & 1493116 & - & stationary & S & 0.07 &  57 &  876 & 0.06 &  61 & ⋯ & CCG & P & \\textbar{}....\\textbar{}\\textbar{}\\textbar{}\\textbar{}\\textbar{}\\textbar{}\\textbar{}\\textbar{}\\textbar{}..\\textbar{}\\textbar{}\\textbar{}\\textbar{}\\textbar{}.................\\textbar{}.. & base\\_paired     & -26.58 & . & . & . & 1 & NA\\\\\n",
       "\\end{tabular}\n"
      ],
      "text/markdown": [
       "\n",
       "A data.frame: 6 × 50\n",
       "\n",
       "| <!--/--> | TS559_position &lt;int&gt; | KOD1_position &lt;chr&gt; | strand &lt;chr&gt; | growth_phase &lt;chr&gt; | metabolic_condition &lt;chr&gt; | methylation_frequency_TK0360_rep1 &lt;dbl&gt; | mC_count_TK0360_rep1 &lt;int&gt; | coverage_TK0360_rep1 &lt;int&gt; | methylation_frequency_TK0360_rep2 &lt;dbl&gt; | mC_count_TK0360_rep2 &lt;int&gt; | ⋯ ⋯ | amino_acid_sequence &lt;chr&gt; | amino_acid_ID &lt;chr&gt; | local_41bp_predicted_fold &lt;chr&gt; | m5C_position_fold &lt;chr&gt; | MFE &lt;chr&gt; | associated_TSS_id &lt;chr&gt; | TSS_direction &lt;chr&gt; | TSS_description &lt;chr&gt; | total_annotations &lt;int&gt; | alternate_annotations &lt;chr&gt; |\n",
       "|---|---|---|---|---|---|---|---|---|---|---|---|---|---|---|---|---|---|---|---|---|---|\n",
       "| 1 | 1772255 | 1773246 | - | stationary | S | 0.05 | 120 | 2355 | 0.06 | 157 | ⋯ | CCG | P | |..|.......|||||..|||.|||..||..|......... | base_paired     | -68.5  | . | . | . | 1 | NA |\n",
       "| 2 | 2019350 | 2020341 | - | stationary | S | 0.04 |  57 | 1371 | 0.05 |  68 | ⋯ | GAC | D | ||||||||...|||..||..................||..| | single_stranded | -22.79 | . | . | . | 1 | NA |\n",
       "| 3 |  685151 | 686142  | - | stationary | S | 0.06 |  61 |  950 | 0.05 |  37 | ⋯ | .   | . | .                                         | NA              | .      | . | . | . | 1 | NA |\n",
       "| 4 | 1344043 | 1345034 | - | stationary | S | 0.06 |  88 | 1373 | 0.06 |  89 | ⋯ | GAC | D | ................................||..|..|| | single_stranded | -25.73 | . | . | . | 1 | NA |\n",
       "| 5 | 1480381 | 1481372 | - | stationary | S | 0.06 |  80 | 1316 | 0.05 |  68 | ⋯ | GCG | A | ||||...|||||||||...|||||.........|||..||| | base_paired     | -36.73 | . | . | . | 1 | NA |\n",
       "| 6 | 1492125 | 1493116 | - | stationary | S | 0.07 |  57 |  876 | 0.06 |  61 | ⋯ | CCG | P | |....|||||||||..|||||.................|.. | base_paired     | -26.58 | . | . | . | 1 | NA |\n",
       "\n"
      ],
      "text/plain": [
       "  TS559_position KOD1_position strand growth_phase metabolic_condition\n",
       "1 1772255        1773246       -      stationary   S                  \n",
       "2 2019350        2020341       -      stationary   S                  \n",
       "3  685151        686142        -      stationary   S                  \n",
       "4 1344043        1345034       -      stationary   S                  \n",
       "5 1480381        1481372       -      stationary   S                  \n",
       "6 1492125        1493116       -      stationary   S                  \n",
       "  methylation_frequency_TK0360_rep1 mC_count_TK0360_rep1 coverage_TK0360_rep1\n",
       "1 0.05                              120                  2355                \n",
       "2 0.04                               57                  1371                \n",
       "3 0.06                               61                   950                \n",
       "4 0.06                               88                  1373                \n",
       "5 0.06                               80                  1316                \n",
       "6 0.07                               57                   876                \n",
       "  methylation_frequency_TK0360_rep2 mC_count_TK0360_rep2 ⋯ amino_acid_sequence\n",
       "1 0.06                              157                  ⋯ CCG                \n",
       "2 0.05                               68                  ⋯ GAC                \n",
       "3 0.05                               37                  ⋯ .                  \n",
       "4 0.06                               89                  ⋯ GAC                \n",
       "5 0.05                               68                  ⋯ GCG                \n",
       "6 0.06                               61                  ⋯ CCG                \n",
       "  amino_acid_ID local_41bp_predicted_fold                 m5C_position_fold\n",
       "1 P             |..|.......|||||..|||.|||..||..|......... base_paired      \n",
       "2 D             ||||||||...|||..||..................||..| single_stranded  \n",
       "3 .             .                                         NA               \n",
       "4 D             ................................||..|..|| single_stranded  \n",
       "5 A             ||||...|||||||||...|||||.........|||..||| base_paired      \n",
       "6 P             |....|||||||||..|||||.................|.. base_paired      \n",
       "  MFE    associated_TSS_id TSS_direction TSS_description total_annotations\n",
       "1 -68.5  .                 .             .               1                \n",
       "2 -22.79 .                 .             .               1                \n",
       "3 .      .                 .             .               1                \n",
       "4 -25.73 .                 .             .               1                \n",
       "5 -36.73 .                 .             .               1                \n",
       "6 -26.58 .                 .             .               1                \n",
       "  alternate_annotations\n",
       "1 NA                   \n",
       "2 NA                   \n",
       "3 NA                   \n",
       "4 NA                   \n",
       "5 NA                   \n",
       "6 NA                   "
      ]
     },
     "metadata": {},
     "output_type": "display_data"
    }
   ],
   "source": [
    "###strain TK0360\n",
    "\n",
    "defaultW <- getOption(\"warn\")\n",
    "options(warn = -1)\n",
    "\n",
    "\n",
    "#load CGmaps into session\n",
    "TK0360statS_CGmap_rep1 <-read.delim(\"../cgmaps/TK0360_statS_totalRNA_rep1.CGmap\", sep='\\t', header=FALSE,col.names=cols) %>%\n",
    "    mutate(strain=\"TK0360\", growth_phase='stationary', metabolic_condition=\"S\", replicate=\"rep1\")\n",
    "\n",
    "TK0360statS_CGmap_rep2 <-read.delim(\"../cgmaps/TK0360_statS_totalRNA_rep2.CGmap\", sep='\\t', header=FALSE,col.names=cols) %>%\n",
    "    mutate(strain=\"TK0360\", growth_phase='stationary', metabolic_condition=\"S\", replicate=\"rep2\")\n",
    "\n",
    "# process raw CGmaps\n",
    "TK0360statS_rep1_df <- processCGmap(TK0360statS_CGmap_rep1)\n",
    "TK0360statS_rep2_df <- processCGmap(TK0360statS_CGmap_rep2)\n",
    "\n",
    "#merge reps\n",
    "TK0360statS <- merge_del_reps(x=TK0360statS_rep1_df, y=TK0360statS_rep2_df, strain='TK0360')\n",
    "\n",
    "# get quantiles\n",
    "\"quantiles:\"\n",
    "get_quantiles(strain_cgmap = TK0360statS, strain=\"TK0360\", min_cov = 47)\n",
    "\n",
    "#compare methylation frequencies & annotate\n",
    "TK0360statS_anal <- CompareCGmap(strain_cgmap = TK0360statS, \n",
    "                                TS559_cgmap = TS559statS, \n",
    "                                strain=\"TK0360\", \n",
    "                                annotation = annotation,\n",
    "                                min_cov = 47)\n",
    "\n",
    "write.table(TK0360statS_anal, file = \"../processed_cgmaps/TK0360statS_annotated\", sep = \"\\t\", row.names = F)\n",
    "\n",
    "#enumerate gains & losses\n",
    "\"losses & gains:\"\n",
    "nrow( TK0360statS_anal %>% filter(log2FC < 0) )\n",
    "nrow( TK0360statS_anal %>% filter(log2FC > 0) )\n",
    "\n",
    "\"absolute losses & gains:\"\n",
    "nrow( TK0360statS_anal %>% filter(difference == \"ABS LOSS\") )\n",
    "nrow( TK0360statS_anal %>% filter(difference == \"ABS GAIN\") )\n",
    "\n",
    "head(TK0360statS_anal)\n",
    "\n",
    "# TK0360statS_cat <- enumerate_hiconf_2reps(strain_cgmap = TK0360statS, strain=\"TK0360\",min_cov = 47)\n",
    "\n",
    "Sys.sleep(10)"
   ]
  },
  {
   "cell_type": "code",
   "execution_count": 10,
   "metadata": {},
   "outputs": [
    {
     "data": {
      "text/html": [
       "'quantiles:'"
      ],
      "text/latex": [
       "'quantiles:'"
      ],
      "text/markdown": [
       "'quantiles:'"
      ],
      "text/plain": [
       "[1] \"quantiles:\""
      ]
     },
     "metadata": {},
     "output_type": "display_data"
    },
    {
     "data": {
      "text/html": [
       "<style>\n",
       ".list-inline {list-style: none; margin:0; padding: 0}\n",
       ".list-inline>li {display: inline-block}\n",
       ".list-inline>li:not(:last-child)::after {content: \"\\00b7\"; padding: 0 .5ex}\n",
       "</style>\n",
       "<ol class=list-inline><li>14</li><li>6</li></ol>\n"
      ],
      "text/latex": [
       "\\begin{enumerate*}\n",
       "\\item 14\n",
       "\\item 6\n",
       "\\end{enumerate*}\n"
      ],
      "text/markdown": [
       "1. 14\n",
       "2. 6\n",
       "\n",
       "\n"
      ],
      "text/plain": [
       "[1] 14  6"
      ]
     },
     "metadata": {},
     "output_type": "display_data"
    }
   ],
   "source": [
    "###strain TK0704\n",
    "\n",
    "defaultW <- getOption(\"warn\")\n",
    "options(warn = -1)\n",
    "\n",
    "\n",
    "#load CGmaps into session\n",
    "TK0704statS_CGmap_rep1 <-read.delim(\"../cgmaps/TK0704statS_totalRNA_Dec2016.CGmap\", sep='\\t', header=FALSE,col.names=cols) %>%\n",
    "    mutate(strain=\"TK0704\", growth_phase='stationary', metabolic_condition=\"S\", replicate=\"rep1\")\n",
    "\n",
    "TK0704statS_CGmap_rep2 <-read.delim(\"../cgmaps/TK0704statS_totalRNA_Oct2020.CGmap\", sep='\\t', header=FALSE,col.names=cols) %>%\n",
    "    mutate(strain=\"TK0704\", growth_phase='stationary', metabolic_condition=\"S\", replicate=\"rep2\")\n",
    "\n",
    "# process raw CGmaps\n",
    "TK0704statS_rep1_df <- processCGmap(TK0704statS_CGmap_rep1)\n",
    "TK0704statS_rep2_df <- processCGmap(TK0704statS_CGmap_rep2)\n",
    "\n",
    "#merge reps\n",
    "TK0704statS <- merge_del_reps(x=TK0704statS_rep1_df, y=TK0704statS_rep2_df, strain='TK0704')\n",
    "\n",
    "# get quantiles\n",
    "\"quantiles:\"\n",
    "get_quantiles(strain_cgmap = TK0704statS, strain=\"TK0704\", min_cov = 47)\n",
    "\n",
    "#compare methylation frequencies & annotate\n",
    "TK0704statS_anal <- CompareCGmap(strain_cgmap = TK0704statS, \n",
    "                                TS559_cgmap = TS559statS, \n",
    "                                strain=\"TK0704\", \n",
    "                                annotation = annotation,\n",
    "                                min_cov = 47)\n",
    "\n",
    "write.table(TK0704statS_anal, file = \"../processed_cgmaps/TK0704statS_annotated\", sep = \"\\t\", row.names = F)\n",
    "\n",
    "#enumerate gains & losses\n",
    "\"losses & gains:\"\n",
    "nrow( TK0704statS_anal %>% filter(log2FC < 0) )\n",
    "nrow( TK0704statS_anal %>% filter(log2FC > 0) )\n",
    "\n",
    "\"absolute losses & gains:\"\n",
    "nrow( TK0704statS_anal %>% filter(difference == \"ABS LOSS\") )\n",
    "nrow( TK0704statS_anal %>% filter(difference == \"ABS GAIN\") )\n",
    "\n",
    "\n",
    "head(TK0704statS_anal)\n",
    "\n",
    "# TK0704statS_cat <- enumerate_hiconf_2reps(strain_cgmap = TK0704statS, strain=\"TK0704\",min_cov = 47)\n",
    "\n",
    "Sys.sleep(10)"
   ]
  },
  {
   "cell_type": "code",
   "execution_count": 11,
   "metadata": {},
   "outputs": [
    {
     "data": {
      "text/html": [
       "'quantiles:'"
      ],
      "text/latex": [
       "'quantiles:'"
      ],
      "text/markdown": [
       "'quantiles:'"
      ],
      "text/plain": [
       "[1] \"quantiles:\""
      ]
     },
     "metadata": {},
     "output_type": "display_data"
    },
    {
     "data": {
      "text/html": [
       "<style>\n",
       ".list-inline {list-style: none; margin:0; padding: 0}\n",
       ".list-inline>li {display: inline-block}\n",
       ".list-inline>li:not(:last-child)::after {content: \"\\00b7\"; padding: 0 .5ex}\n",
       "</style>\n",
       "<ol class=list-inline><li>5</li><li>6</li></ol>\n"
      ],
      "text/latex": [
       "\\begin{enumerate*}\n",
       "\\item 5\n",
       "\\item 6\n",
       "\\end{enumerate*}\n"
      ],
      "text/markdown": [
       "1. 5\n",
       "2. 6\n",
       "\n",
       "\n"
      ],
      "text/plain": [
       "[1] 5 6"
      ]
     },
     "metadata": {},
     "output_type": "display_data"
    }
   ],
   "source": [
    "###strain TK0729\n",
    "\n",
    "defaultW <- getOption(\"warn\")\n",
    "options(warn = -1)\n",
    "\n",
    "\n",
    "#load CGmaps into session\n",
    "TK0729statS_CGmap_rep1 <-read.delim(\"../cgmaps/TK0729statS_totalRNA_Dec2016.CGmap\", sep='\\t', header=FALSE,col.names=cols) %>%\n",
    "    mutate(strain=\"TK0729\", growth_phase='stationary', metabolic_condition=\"S\", replicate=\"rep1\")\n",
    "\n",
    "TK0729statS_CGmap_rep2 <-read.delim(\"../cgmaps/TK0729statS_totalRNA_Oct2020.CGmap\", sep='\\t', header=FALSE,col.names=cols) %>%\n",
    "    mutate(strain=\"TK0729\", growth_phase='stationary', metabolic_condition=\"S\", replicate=\"rep2\")\n",
    "\n",
    "# process raw CGmaps\n",
    "TK0729statS_rep1_df <- processCGmap(TK0729statS_CGmap_rep1)\n",
    "TK0729statS_rep2_df <- processCGmap(TK0729statS_CGmap_rep2)\n",
    "\n",
    "#merge reps\n",
    "TK0729statS <- merge_del_reps(x=TK0729statS_rep1_df, y=TK0729statS_rep2_df, strain='TK0729')\n",
    "\n",
    "# get quantiles\n",
    "\"quantiles:\"\n",
    "get_quantiles(strain_cgmap = TK0729statS, strain=\"TK0729\", min_cov = 47)\n",
    "\n",
    "#compare methylation frequencies & annotate\n",
    "TK0729statS_anal <- CompareCGmap(strain_cgmap = TK0729statS, \n",
    "                                TS559_cgmap = TS559statS, \n",
    "                                strain=\"TK0729\", \n",
    "                                annotation = annotation,\n",
    "                                min_cov = 47)\n",
    "\n",
    "write.table(TK0729statS_anal, file = \"../processed_cgmaps/TK0729statS_annotated\", sep = \"\\t\", row.names = F)\n",
    "\n",
    "#enumerate gains & losses\n",
    "\"losses & gains:\"\n",
    "nrow( TK0729statS_anal %>% filter(log2FC < 0) )\n",
    "nrow( TK0729statS_anal %>% filter(log2FC > 0) )\n",
    "\n",
    "\"absolute losses & gains:\"\n",
    "nrow( TK0729statS_anal %>% filter(difference == \"ABS LOSS\") )\n",
    "nrow( TK0729statS_anal %>% filter(difference == \"ABS GAIN\") )\n",
    "\n",
    "head(TK0729statS_anal)\n",
    "\n",
    "# TK0729statS_cat <- enumerate_hiconf_2reps(strain_cgmap = TK0729statS, strain=\"TK0729\",min_cov = 47)\n",
    "\n",
    "Sys.sleep(10)"
   ]
  },
  {
   "cell_type": "code",
   "execution_count": 8,
   "metadata": {},
   "outputs": [
    {
     "data": {
      "text/html": [
       "'quantiles:'"
      ],
      "text/latex": [
       "'quantiles:'"
      ],
      "text/markdown": [
       "'quantiles:'"
      ],
      "text/plain": [
       "[1] \"quantiles:\""
      ]
     },
     "metadata": {},
     "output_type": "display_data"
    },
    {
     "data": {
      "text/html": [
       "<style>\n",
       ".list-inline {list-style: none; margin:0; padding: 0}\n",
       ".list-inline>li {display: inline-block}\n",
       ".list-inline>li:not(:last-child)::after {content: \"\\00b7\"; padding: 0 .5ex}\n",
       "</style>\n",
       "<ol class=list-inline><li>11</li><li>5</li></ol>\n"
      ],
      "text/latex": [
       "\\begin{enumerate*}\n",
       "\\item 11\n",
       "\\item 5\n",
       "\\end{enumerate*}\n"
      ],
      "text/markdown": [
       "1. 11\n",
       "2. 5\n",
       "\n",
       "\n"
      ],
      "text/plain": [
       "[1] 11  5"
      ]
     },
     "metadata": {},
     "output_type": "display_data"
    },
    {
     "data": {
      "text/html": [
       "'losses &amp; gains:'"
      ],
      "text/latex": [
       "'losses \\& gains:'"
      ],
      "text/markdown": [
       "'losses &amp; gains:'"
      ],
      "text/plain": [
       "[1] \"losses & gains:\""
      ]
     },
     "metadata": {},
     "output_type": "display_data"
    },
    {
     "data": {
      "text/html": [
       "4"
      ],
      "text/latex": [
       "4"
      ],
      "text/markdown": [
       "4"
      ],
      "text/plain": [
       "[1] 4"
      ]
     },
     "metadata": {},
     "output_type": "display_data"
    },
    {
     "data": {
      "text/html": [
       "0"
      ],
      "text/latex": [
       "0"
      ],
      "text/markdown": [
       "0"
      ],
      "text/plain": [
       "[1] 0"
      ]
     },
     "metadata": {},
     "output_type": "display_data"
    },
    {
     "data": {
      "text/html": [
       "'absolute losses &amp; gains:'"
      ],
      "text/latex": [
       "'absolute losses \\& gains:'"
      ],
      "text/markdown": [
       "'absolute losses &amp; gains:'"
      ],
      "text/plain": [
       "[1] \"absolute losses & gains:\""
      ]
     },
     "metadata": {},
     "output_type": "display_data"
    },
    {
     "data": {
      "text/html": [
       "4"
      ],
      "text/latex": [
       "4"
      ],
      "text/markdown": [
       "4"
      ],
      "text/plain": [
       "[1] 4"
      ]
     },
     "metadata": {},
     "output_type": "display_data"
    },
    {
     "data": {
      "text/html": [
       "0"
      ],
      "text/latex": [
       "0"
      ],
      "text/markdown": [
       "0"
      ],
      "text/plain": [
       "[1] 0"
      ]
     },
     "metadata": {},
     "output_type": "display_data"
    },
    {
     "data": {
      "text/html": [
       "<table class=\"dataframe\">\n",
       "<caption>A data.frame: 4 × 50</caption>\n",
       "<thead>\n",
       "\t<tr><th></th><th scope=col>TS559_position</th><th scope=col>KOD1_position</th><th scope=col>strand</th><th scope=col>growth_phase</th><th scope=col>metabolic_condition</th><th scope=col>methylation_frequency_TK0872_rep1</th><th scope=col>mC_count_TK0872_rep1</th><th scope=col>coverage_TK0872_rep1</th><th scope=col>methylation_frequency_TK0872_rep2</th><th scope=col>mC_count_TK0872_rep2</th><th scope=col>⋯</th><th scope=col>amino_acid_sequence</th><th scope=col>amino_acid_ID</th><th scope=col>local_41bp_predicted_fold</th><th scope=col>m5C_position_fold</th><th scope=col>MFE</th><th scope=col>associated_TSS_id</th><th scope=col>TSS_direction</th><th scope=col>TSS_description</th><th scope=col>total_annotations</th><th scope=col>alternate_annotations</th></tr>\n",
       "\t<tr><th></th><th scope=col>&lt;int&gt;</th><th scope=col>&lt;chr&gt;</th><th scope=col>&lt;chr&gt;</th><th scope=col>&lt;chr&gt;</th><th scope=col>&lt;chr&gt;</th><th scope=col>&lt;dbl&gt;</th><th scope=col>&lt;int&gt;</th><th scope=col>&lt;int&gt;</th><th scope=col>&lt;dbl&gt;</th><th scope=col>&lt;int&gt;</th><th scope=col>⋯</th><th scope=col>&lt;chr&gt;</th><th scope=col>&lt;chr&gt;</th><th scope=col>&lt;chr&gt;</th><th scope=col>&lt;chr&gt;</th><th scope=col>&lt;chr&gt;</th><th scope=col>&lt;chr&gt;</th><th scope=col>&lt;chr&gt;</th><th scope=col>&lt;chr&gt;</th><th scope=col>&lt;int&gt;</th><th scope=col>&lt;chr&gt;</th></tr>\n",
       "</thead>\n",
       "<tbody>\n",
       "\t<tr><th scope=row>1</th><td>2026195</td><td>2027186</td><td>+</td><td>stationary</td><td>S</td><td>0</td><td>0</td><td> 423</td><td>0.03</td><td>10</td><td>⋯</td><td>.  </td><td>.</td><td>|..||||||||........|||||||||||||.||||||||</td><td>base_paired    </td><td>-440.69</td><td>.</td><td>.</td><td>.</td><td>1</td><td>NA</td></tr>\n",
       "\t<tr><th scope=row>2</th><td> 611853</td><td>612844 </td><td>+</td><td>stationary</td><td>S</td><td>0</td><td>1</td><td> 946</td><td>0.01</td><td>17</td><td>⋯</td><td>CUC</td><td>L</td><td>|....|||||||||.....||||....|||||..|..||||</td><td>base_paired    </td><td>-86.58 </td><td>.</td><td>.</td><td>.</td><td>1</td><td>NA</td></tr>\n",
       "\t<tr><th scope=row>3</th><td> 793629</td><td>794620 </td><td>+</td><td>stationary</td><td>S</td><td>0</td><td>0</td><td> 178</td><td>0.02</td><td> 4</td><td>⋯</td><td>CUC</td><td>L</td><td>||||||||..........||||..||..|........||||</td><td>base_paired    </td><td>-122.17</td><td>.</td><td>.</td><td>.</td><td>1</td><td>NA</td></tr>\n",
       "\t<tr><th scope=row>4</th><td>1868187</td><td>1869178</td><td>+</td><td>stationary</td><td>S</td><td>0</td><td>0</td><td>1819</td><td>0.00</td><td>10</td><td>⋯</td><td>CUC</td><td>L</td><td>.|||..|......|||||||..||...||||..........</td><td>single_stranded</td><td>-31.45 </td><td>.</td><td>.</td><td>.</td><td>1</td><td>NA</td></tr>\n",
       "</tbody>\n",
       "</table>\n"
      ],
      "text/latex": [
       "A data.frame: 4 × 50\n",
       "\\begin{tabular}{r|lllllllllllllllllllll}\n",
       "  & TS559\\_position & KOD1\\_position & strand & growth\\_phase & metabolic\\_condition & methylation\\_frequency\\_TK0872\\_rep1 & mC\\_count\\_TK0872\\_rep1 & coverage\\_TK0872\\_rep1 & methylation\\_frequency\\_TK0872\\_rep2 & mC\\_count\\_TK0872\\_rep2 & ⋯ & amino\\_acid\\_sequence & amino\\_acid\\_ID & local\\_41bp\\_predicted\\_fold & m5C\\_position\\_fold & MFE & associated\\_TSS\\_id & TSS\\_direction & TSS\\_description & total\\_annotations & alternate\\_annotations\\\\\n",
       "  & <int> & <chr> & <chr> & <chr> & <chr> & <dbl> & <int> & <int> & <dbl> & <int> & ⋯ & <chr> & <chr> & <chr> & <chr> & <chr> & <chr> & <chr> & <chr> & <int> & <chr>\\\\\n",
       "\\hline\n",
       "\t1 & 2026195 & 2027186 & + & stationary & S & 0 & 0 &  423 & 0.03 & 10 & ⋯ & .   & . & \\textbar{}..\\textbar{}\\textbar{}\\textbar{}\\textbar{}\\textbar{}\\textbar{}\\textbar{}\\textbar{}........\\textbar{}\\textbar{}\\textbar{}\\textbar{}\\textbar{}\\textbar{}\\textbar{}\\textbar{}\\textbar{}\\textbar{}\\textbar{}\\textbar{}\\textbar{}.\\textbar{}\\textbar{}\\textbar{}\\textbar{}\\textbar{}\\textbar{}\\textbar{}\\textbar{} & base\\_paired     & -440.69 & . & . & . & 1 & NA\\\\\n",
       "\t2 &  611853 & 612844  & + & stationary & S & 0 & 1 &  946 & 0.01 & 17 & ⋯ & CUC & L & \\textbar{}....\\textbar{}\\textbar{}\\textbar{}\\textbar{}\\textbar{}\\textbar{}\\textbar{}\\textbar{}\\textbar{}.....\\textbar{}\\textbar{}\\textbar{}\\textbar{}....\\textbar{}\\textbar{}\\textbar{}\\textbar{}\\textbar{}..\\textbar{}..\\textbar{}\\textbar{}\\textbar{}\\textbar{} & base\\_paired     & -86.58  & . & . & . & 1 & NA\\\\\n",
       "\t3 &  793629 & 794620  & + & stationary & S & 0 & 0 &  178 & 0.02 &  4 & ⋯ & CUC & L & \\textbar{}\\textbar{}\\textbar{}\\textbar{}\\textbar{}\\textbar{}\\textbar{}\\textbar{}..........\\textbar{}\\textbar{}\\textbar{}\\textbar{}..\\textbar{}\\textbar{}..\\textbar{}........\\textbar{}\\textbar{}\\textbar{}\\textbar{} & base\\_paired     & -122.17 & . & . & . & 1 & NA\\\\\n",
       "\t4 & 1868187 & 1869178 & + & stationary & S & 0 & 0 & 1819 & 0.00 & 10 & ⋯ & CUC & L & .\\textbar{}\\textbar{}\\textbar{}..\\textbar{}......\\textbar{}\\textbar{}\\textbar{}\\textbar{}\\textbar{}\\textbar{}\\textbar{}..\\textbar{}\\textbar{}...\\textbar{}\\textbar{}\\textbar{}\\textbar{}.......... & single\\_stranded & -31.45  & . & . & . & 1 & NA\\\\\n",
       "\\end{tabular}\n"
      ],
      "text/markdown": [
       "\n",
       "A data.frame: 4 × 50\n",
       "\n",
       "| <!--/--> | TS559_position &lt;int&gt; | KOD1_position &lt;chr&gt; | strand &lt;chr&gt; | growth_phase &lt;chr&gt; | metabolic_condition &lt;chr&gt; | methylation_frequency_TK0872_rep1 &lt;dbl&gt; | mC_count_TK0872_rep1 &lt;int&gt; | coverage_TK0872_rep1 &lt;int&gt; | methylation_frequency_TK0872_rep2 &lt;dbl&gt; | mC_count_TK0872_rep2 &lt;int&gt; | ⋯ ⋯ | amino_acid_sequence &lt;chr&gt; | amino_acid_ID &lt;chr&gt; | local_41bp_predicted_fold &lt;chr&gt; | m5C_position_fold &lt;chr&gt; | MFE &lt;chr&gt; | associated_TSS_id &lt;chr&gt; | TSS_direction &lt;chr&gt; | TSS_description &lt;chr&gt; | total_annotations &lt;int&gt; | alternate_annotations &lt;chr&gt; |\n",
       "|---|---|---|---|---|---|---|---|---|---|---|---|---|---|---|---|---|---|---|---|---|---|\n",
       "| 1 | 2026195 | 2027186 | + | stationary | S | 0 | 0 |  423 | 0.03 | 10 | ⋯ | .   | . | |..||||||||........|||||||||||||.|||||||| | base_paired     | -440.69 | . | . | . | 1 | NA |\n",
       "| 2 |  611853 | 612844  | + | stationary | S | 0 | 1 |  946 | 0.01 | 17 | ⋯ | CUC | L | |....|||||||||.....||||....|||||..|..|||| | base_paired     | -86.58  | . | . | . | 1 | NA |\n",
       "| 3 |  793629 | 794620  | + | stationary | S | 0 | 0 |  178 | 0.02 |  4 | ⋯ | CUC | L | ||||||||..........||||..||..|........|||| | base_paired     | -122.17 | . | . | . | 1 | NA |\n",
       "| 4 | 1868187 | 1869178 | + | stationary | S | 0 | 0 | 1819 | 0.00 | 10 | ⋯ | CUC | L | .|||..|......|||||||..||...||||.......... | single_stranded | -31.45  | . | . | . | 1 | NA |\n",
       "\n"
      ],
      "text/plain": [
       "  TS559_position KOD1_position strand growth_phase metabolic_condition\n",
       "1 2026195        2027186       +      stationary   S                  \n",
       "2  611853        612844        +      stationary   S                  \n",
       "3  793629        794620        +      stationary   S                  \n",
       "4 1868187        1869178       +      stationary   S                  \n",
       "  methylation_frequency_TK0872_rep1 mC_count_TK0872_rep1 coverage_TK0872_rep1\n",
       "1 0                                 0                     423                \n",
       "2 0                                 1                     946                \n",
       "3 0                                 0                     178                \n",
       "4 0                                 0                    1819                \n",
       "  methylation_frequency_TK0872_rep2 mC_count_TK0872_rep2 ⋯ amino_acid_sequence\n",
       "1 0.03                              10                   ⋯ .                  \n",
       "2 0.01                              17                   ⋯ CUC                \n",
       "3 0.02                               4                   ⋯ CUC                \n",
       "4 0.00                              10                   ⋯ CUC                \n",
       "  amino_acid_ID local_41bp_predicted_fold                 m5C_position_fold\n",
       "1 .             |..||||||||........|||||||||||||.|||||||| base_paired      \n",
       "2 L             |....|||||||||.....||||....|||||..|..|||| base_paired      \n",
       "3 L             ||||||||..........||||..||..|........|||| base_paired      \n",
       "4 L             .|||..|......|||||||..||...||||.......... single_stranded  \n",
       "  MFE     associated_TSS_id TSS_direction TSS_description total_annotations\n",
       "1 -440.69 .                 .             .               1                \n",
       "2 -86.58  .                 .             .               1                \n",
       "3 -122.17 .                 .             .               1                \n",
       "4 -31.45  .                 .             .               1                \n",
       "  alternate_annotations\n",
       "1 NA                   \n",
       "2 NA                   \n",
       "3 NA                   \n",
       "4 NA                   "
      ]
     },
     "metadata": {},
     "output_type": "display_data"
    }
   ],
   "source": [
    "###strain TK0872\n",
    "\n",
    "defaultW <- getOption(\"warn\")\n",
    "options(warn = -1)\n",
    "\n",
    "\n",
    "#load CGmaps into session\n",
    "TK0872statS_CGmap_rep1 <-read.delim(\"../cgmaps/TK0872statS_totalRNA_Dec2016.CGmap\", sep='\\t', header=FALSE,col.names=cols) %>%\n",
    "    mutate(strain=\"TK0872\", growth_phase='stationary', metabolic_condition=\"S\", replicate=\"rep1\")\n",
    "\n",
    "TK0872statS_CGmap_rep2 <-read.delim(\"../cgmaps/TK0872statS_totalRNA_Oct2020.CGmap\", sep='\\t', header=FALSE,col.names=cols) %>%\n",
    "    mutate(strain=\"TK0872\", growth_phase='stationary', metabolic_condition=\"S\", replicate=\"rep2\")\n",
    "\n",
    "# process raw CGmaps\n",
    "TK0872statS_rep1_df <- processCGmap(TK0872statS_CGmap_rep1)\n",
    "TK0872statS_rep2_df <- processCGmap(TK0872statS_CGmap_rep2)\n",
    "\n",
    "#merge reps\n",
    "TK0872statS <- merge_del_reps(x=TK0872statS_rep1_df, y=TK0872statS_rep2_df, strain='TK0872')\n",
    "\n",
    "# get quantiles\n",
    "\"quantiles:\"\n",
    "get_quantiles(strain_cgmap = TK0872statS, strain=\"TK0872\", min_cov = 47)\n",
    "\n",
    "#compare methylation frequencies & annotate\n",
    "TK0872statS_anal <- CompareCGmap(strain_cgmap = TK0872statS, \n",
    "                                TS559_cgmap = TS559statS, \n",
    "                                strain=\"TK0872\", \n",
    "                                annotation = annotation,\n",
    "                                min_cov = 47)\n",
    "\n",
    "write.table(TK0872statS_anal, file = \"../processed_cgmaps/TK0872statS_annotated\", sep = \"\\t\", row.names = F)\n",
    "\n",
    "#enumerate gains & losses\n",
    "\"losses & gains:\"\n",
    "nrow( TK0872statS_anal %>% filter(log2FC < 0) )\n",
    "nrow( TK0872statS_anal %>% filter(log2FC > 0) )\n",
    "\n",
    "\"absolute losses & gains:\"\n",
    "nrow( TK0872statS_anal %>% filter(difference == \"ABS LOSS\") )\n",
    "nrow( TK0872statS_anal %>% filter(difference == \"ABS GAIN\") )\n",
    "\n",
    "head(TK0872statS_anal)\n",
    "\n",
    "# TK0872statS_cat <- enumerate_hiconf_2reps(strain_cgmap = TK0872statS, strain=\"TK0872\",min_cov = 47)\n",
    "\n",
    "Sys.sleep(10)"
   ]
  },
  {
   "cell_type": "code",
   "execution_count": 13,
   "metadata": {},
   "outputs": [
    {
     "data": {
      "text/html": [
       "'quantiles:'"
      ],
      "text/latex": [
       "'quantiles:'"
      ],
      "text/markdown": [
       "'quantiles:'"
      ],
      "text/plain": [
       "[1] \"quantiles:\""
      ]
     },
     "metadata": {},
     "output_type": "display_data"
    },
    {
     "data": {
      "text/html": [
       "<style>\n",
       ".list-inline {list-style: none; margin:0; padding: 0}\n",
       ".list-inline>li {display: inline-block}\n",
       ".list-inline>li:not(:last-child)::after {content: \"\\00b7\"; padding: 0 .5ex}\n",
       "</style>\n",
       "<ol class=list-inline><li>16</li><li>5</li></ol>\n"
      ],
      "text/latex": [
       "\\begin{enumerate*}\n",
       "\\item 16\n",
       "\\item 5\n",
       "\\end{enumerate*}\n"
      ],
      "text/markdown": [
       "1. 16\n",
       "2. 5\n",
       "\n",
       "\n"
      ],
      "text/plain": [
       "[1] 16  5"
      ]
     },
     "metadata": {},
     "output_type": "display_data"
    }
   ],
   "source": [
    "###strain TK1273\n",
    "\n",
    "defaultW <- getOption(\"warn\")\n",
    "options(warn = -1)\n",
    "\n",
    "\n",
    "#load CGmaps into session\n",
    "TK1273statS_CGmap_rep1 <-read.delim(\"../cgmaps/TK1273statS_totalRNA_Dec2016.CGmap\", sep='\\t', header=FALSE,col.names=cols) %>%\n",
    "    mutate(strain=\"TK1273\", growth_phase='stationary', metabolic_condition=\"S\", replicate=\"rep1\")\n",
    "\n",
    "TK1273statS_CGmap_rep2 <-read.delim(\"../cgmaps/TK1273statS_totalRNA_Oct2020.CGmap\", sep='\\t', header=FALSE,col.names=cols) %>%\n",
    "    mutate(strain=\"TK1273\", growth_phase='stationary', metabolic_condition=\"S\", replicate=\"rep2\")\n",
    "\n",
    "# process raw CGmaps\n",
    "TK1273statS_rep1_df <- processCGmap(TK1273statS_CGmap_rep1)\n",
    "TK1273statS_rep2_df <- processCGmap(TK1273statS_CGmap_rep2)\n",
    "\n",
    "#merge reps\n",
    "TK1273statS <- merge_del_reps(x=TK1273statS_rep1_df, y=TK1273statS_rep2_df, strain='TK1273')\n",
    "\n",
    "# get quantiles\n",
    "\"quantiles:\"\n",
    "get_quantiles(strain_cgmap = TK1273statS, strain=\"TK1273\", min_cov = 47)\n",
    "\n",
    "#compare methylation frequencies & annotate\n",
    "TK1273statS_anal <- CompareCGmap(strain_cgmap = TK1273statS, \n",
    "                                TS559_cgmap = TS559statS, \n",
    "                                strain=\"TK1273\", \n",
    "                                annotation = annotation,\n",
    "                                min_cov = 47)\n",
    "\n",
    "write.table(TK1273statS_anal, file = \"../processed_cgmaps/TK1273statS_annotated\", sep = \"\\t\", row.names = F)\n",
    "\n",
    "#enumerate gains & losses\n",
    "\"losses & gains:\"\n",
    "nrow( TK1273statS_anal %>% filter(log2FC < 0) )\n",
    "nrow( TK1273statS_anal %>% filter(log2FC > 0) )\n",
    "\n",
    "\"absolute losses & gains:\"\n",
    "nrow( TK1273statS_anal %>% filter(difference == \"ABS LOSS\") )\n",
    "nrow( TK1273statS_anal %>% filter(difference == \"ABS GAIN\") )\n",
    "\n",
    "head(TK1273statS_anal)\n",
    "\n",
    "# TK1273statS_cat <- enumerate_hiconf_2reps(strain_cgmap = TK1273statS, strain=\"TK1273\",min_cov = 47)\n",
    "\n",
    "Sys.sleep(10)"
   ]
  },
  {
   "cell_type": "code",
   "execution_count": 14,
   "metadata": {},
   "outputs": [
    {
     "data": {
      "text/html": [
       "'quantiles:'"
      ],
      "text/latex": [
       "'quantiles:'"
      ],
      "text/markdown": [
       "'quantiles:'"
      ],
      "text/plain": [
       "[1] \"quantiles:\""
      ]
     },
     "metadata": {},
     "output_type": "display_data"
    },
    {
     "data": {
      "text/html": [
       "<style>\n",
       ".list-inline {list-style: none; margin:0; padding: 0}\n",
       ".list-inline>li {display: inline-block}\n",
       ".list-inline>li:not(:last-child)::after {content: \"\\00b7\"; padding: 0 .5ex}\n",
       "</style>\n",
       "<ol class=list-inline><li>10</li><li>11</li></ol>\n"
      ],
      "text/latex": [
       "\\begin{enumerate*}\n",
       "\\item 10\n",
       "\\item 11\n",
       "\\end{enumerate*}\n"
      ],
      "text/markdown": [
       "1. 10\n",
       "2. 11\n",
       "\n",
       "\n"
      ],
      "text/plain": [
       "[1] 10 11"
      ]
     },
     "metadata": {},
     "output_type": "display_data"
    }
   ],
   "source": [
    "###strain TK1784\n",
    "\n",
    "defaultW <- getOption(\"warn\")\n",
    "options(warn = -1)\n",
    "\n",
    "\n",
    "#load CGmaps into session\n",
    "TK1784statS_CGmap_rep1 <-read.delim(\"../cgmaps/TK1784_statS_totalRNA_rep1.CGmap\", sep='\\t', header=FALSE,col.names=cols) %>%\n",
    "    mutate(strain=\"TK1784\", growth_phase='stationary', metabolic_condition=\"S\", replicate=\"rep1\")\n",
    "\n",
    "TK1784statS_CGmap_rep2 <-read.delim(\"../cgmaps/TK1784_statS_totalRNA_rep2.CGmap\", sep='\\t', header=FALSE,col.names=cols) %>%\n",
    "    mutate(strain=\"TK1784\", growth_phase='stationary', metabolic_condition=\"S\", replicate=\"rep2\")\n",
    "\n",
    "# process raw CGmaps\n",
    "TK1784statS_rep1_df <- processCGmap(TK1784statS_CGmap_rep1)\n",
    "TK1784statS_rep2_df <- processCGmap(TK1784statS_CGmap_rep2)\n",
    "\n",
    "#merge reps\n",
    "TK1784statS <- merge_del_reps(x=TK1784statS_rep1_df, y=TK1784statS_rep2_df, strain='TK1784')\n",
    "\n",
    "# get quantiles\n",
    "\"quantiles:\"\n",
    "get_quantiles(strain_cgmap = TK1784statS, strain=\"TK1784\", min_cov = 47)\n",
    "\n",
    "#compare methylation frequencies & annotate\n",
    "TK1784statS_anal <- CompareCGmap(strain_cgmap = TK1784statS, \n",
    "                                TS559_cgmap = TS559statS, \n",
    "                                strain=\"TK1784\", \n",
    "                                annotation = annotation,\n",
    "                                min_cov = 47)\n",
    "\n",
    "write.table(TK1784statS_anal, file = \"../processed_cgmaps/TK1784statS_annotated\", sep = \"\\t\", row.names = F)\n",
    "\n",
    "#enumerate gains & losses\n",
    "\"losses & gains:\"\n",
    "nrow( TK1784statS_anal %>% filter(log2FC < 0) )\n",
    "nrow( TK1784statS_anal %>% filter(log2FC > 0) )\n",
    "\n",
    "\"absolute losses & gains:\"\n",
    "nrow( TK1784statS_anal %>% filter(difference == \"ABS LOSS\") )\n",
    "nrow( TK1784statS_anal %>% filter(difference == \"ABS GAIN\") )\n",
    "\n",
    "head(TK1784statS_anal)\n",
    "\n",
    "# TK1784statS_cat <- enumerate_hiconf_2reps(strain_cgmap = TK1784statS, strain=\"TK1784\",min_cov = 47)\n",
    "\n",
    "Sys.sleep(10)"
   ]
  },
  {
   "cell_type": "code",
   "execution_count": 15,
   "metadata": {},
   "outputs": [
    {
     "data": {
      "text/html": [
       "'quantiles:'"
      ],
      "text/latex": [
       "'quantiles:'"
      ],
      "text/markdown": [
       "'quantiles:'"
      ],
      "text/plain": [
       "[1] \"quantiles:\""
      ]
     },
     "metadata": {},
     "output_type": "display_data"
    },
    {
     "data": {
      "text/html": [
       "<style>\n",
       ".list-inline {list-style: none; margin:0; padding: 0}\n",
       ".list-inline>li {display: inline-block}\n",
       ".list-inline>li:not(:last-child)::after {content: \"\\00b7\"; padding: 0 .5ex}\n",
       "</style>\n",
       "<ol class=list-inline><li>5</li><li>5</li></ol>\n"
      ],
      "text/latex": [
       "\\begin{enumerate*}\n",
       "\\item 5\n",
       "\\item 5\n",
       "\\end{enumerate*}\n"
      ],
      "text/markdown": [
       "1. 5\n",
       "2. 5\n",
       "\n",
       "\n"
      ],
      "text/plain": [
       "[1] 5 5"
      ]
     },
     "metadata": {},
     "output_type": "display_data"
    }
   ],
   "source": [
    "###strain TK1917\n",
    "\n",
    "defaultW <- getOption(\"warn\")\n",
    "options(warn = -1)\n",
    "\n",
    "\n",
    "#load CGmaps into session\n",
    "TK1917statS_CGmap_rep1 <-read.delim(\"../cgmaps/TK1917statS_totalRNA_Dec2016.CGmap\", sep='\\t', header=FALSE,col.names=cols) %>%\n",
    "    mutate(strain=\"TK1917\", growth_phase='stationary', metabolic_condition=\"S\", replicate=\"rep1\")\n",
    "\n",
    "TK1917statS_CGmap_rep2 <-read.delim(\"../cgmaps/TK1917statS_totalRNA_Oct2020.CGmap\", sep='\\t', header=FALSE,col.names=cols) %>%\n",
    "    mutate(strain=\"TK1917\", growth_phase='stationary', metabolic_condition=\"S\", replicate=\"rep2\")\n",
    "\n",
    "# process raw CGmaps\n",
    "TK1917statS_rep1_df <- processCGmap(TK1917statS_CGmap_rep1)\n",
    "TK1917statS_rep2_df <- processCGmap(TK1917statS_CGmap_rep2)\n",
    "\n",
    "#merge reps\n",
    "TK1917statS <- merge_del_reps(x=TK1917statS_rep1_df, y=TK1917statS_rep2_df, strain='TK1917')\n",
    "\n",
    "# get quantiles\n",
    "\"quantiles:\"\n",
    "get_quantiles(strain_cgmap = TK1917statS, strain=\"TK1917\", min_cov = 47)\n",
    "\n",
    "#compare methylation frequencies & annotate\n",
    "TK1917statS_anal <- CompareCGmap(strain_cgmap = TK1917statS, \n",
    "                                TS559_cgmap = TS559statS, \n",
    "                                strain=\"TK1917\", \n",
    "                                annotation = annotation,\n",
    "                                min_cov = 47)\n",
    "\n",
    "write.table(TK1917statS_anal, file = \"../processed_cgmaps/TK1917statS_annotated\", sep = \"\\t\", row.names = F)\n",
    "\n",
    "#enumerate gains & losses\n",
    "\"losses & gains:\"\n",
    "nrow( TK1917statS_anal %>% filter(log2FC < 0) )\n",
    "nrow( TK1917statS_anal %>% filter(log2FC > 0) )\n",
    "\"absolute losses & gains:\"\n",
    "nrow( TK1917statS_anal %>% filter(difference == \"ABS LOSS\") )\n",
    "nrow( TK1917statS_anal %>% filter(difference == \"ABS GAIN\") )\n",
    "\n",
    "head(TK1917statS_anal)\n",
    "\n",
    "# TK1917statS_cat <- enumerate_hiconf_2reps(strain_cgmap = TK1917statS, strain=\"TK1917\",min_cov = 47)\n",
    "\n",
    "Sys.sleep(10)"
   ]
  },
  {
   "cell_type": "code",
   "execution_count": 9,
   "metadata": {},
   "outputs": [
    {
     "data": {
      "text/html": [
       "'quantiles:'"
      ],
      "text/latex": [
       "'quantiles:'"
      ],
      "text/markdown": [
       "'quantiles:'"
      ],
      "text/plain": [
       "[1] \"quantiles:\""
      ]
     },
     "metadata": {},
     "output_type": "display_data"
    },
    {
     "data": {
      "text/html": [
       "<style>\n",
       ".list-inline {list-style: none; margin:0; padding: 0}\n",
       ".list-inline>li {display: inline-block}\n",
       ".list-inline>li:not(:last-child)::after {content: \"\\00b7\"; padding: 0 .5ex}\n",
       "</style>\n",
       "<ol class=list-inline><li>5</li><li>6</li></ol>\n"
      ],
      "text/latex": [
       "\\begin{enumerate*}\n",
       "\\item 5\n",
       "\\item 6\n",
       "\\end{enumerate*}\n"
      ],
      "text/markdown": [
       "1. 5\n",
       "2. 6\n",
       "\n",
       "\n"
      ],
      "text/plain": [
       "[1] 5 6"
      ]
     },
     "metadata": {},
     "output_type": "display_data"
    },
    {
     "data": {
      "text/html": [
       "'losses &amp; gains:'"
      ],
      "text/latex": [
       "'losses \\& gains:'"
      ],
      "text/markdown": [
       "'losses &amp; gains:'"
      ],
      "text/plain": [
       "[1] \"losses & gains:\""
      ]
     },
     "metadata": {},
     "output_type": "display_data"
    },
    {
     "data": {
      "text/html": [
       "11"
      ],
      "text/latex": [
       "11"
      ],
      "text/markdown": [
       "11"
      ],
      "text/plain": [
       "[1] 11"
      ]
     },
     "metadata": {},
     "output_type": "display_data"
    },
    {
     "data": {
      "text/html": [
       "1"
      ],
      "text/latex": [
       "1"
      ],
      "text/markdown": [
       "1"
      ],
      "text/plain": [
       "[1] 1"
      ]
     },
     "metadata": {},
     "output_type": "display_data"
    },
    {
     "data": {
      "text/html": [
       "'absolute losses &amp; gains:'"
      ],
      "text/latex": [
       "'absolute losses \\& gains:'"
      ],
      "text/markdown": [
       "'absolute losses &amp; gains:'"
      ],
      "text/plain": [
       "[1] \"absolute losses & gains:\""
      ]
     },
     "metadata": {},
     "output_type": "display_data"
    },
    {
     "data": {
      "text/html": [
       "11"
      ],
      "text/latex": [
       "11"
      ],
      "text/markdown": [
       "11"
      ],
      "text/plain": [
       "[1] 11"
      ]
     },
     "metadata": {},
     "output_type": "display_data"
    },
    {
     "data": {
      "text/html": [
       "1"
      ],
      "text/latex": [
       "1"
      ],
      "text/markdown": [
       "1"
      ],
      "text/plain": [
       "[1] 1"
      ]
     },
     "metadata": {},
     "output_type": "display_data"
    },
    {
     "data": {
      "text/html": [
       "<table class=\"dataframe\">\n",
       "<caption>A data.frame: 6 × 50</caption>\n",
       "<thead>\n",
       "\t<tr><th></th><th scope=col>TS559_position</th><th scope=col>KOD1_position</th><th scope=col>strand</th><th scope=col>growth_phase</th><th scope=col>metabolic_condition</th><th scope=col>methylation_frequency_TK1935_rep1</th><th scope=col>mC_count_TK1935_rep1</th><th scope=col>coverage_TK1935_rep1</th><th scope=col>methylation_frequency_TK1935_rep2</th><th scope=col>mC_count_TK1935_rep2</th><th scope=col>⋯</th><th scope=col>amino_acid_sequence</th><th scope=col>amino_acid_ID</th><th scope=col>local_41bp_predicted_fold</th><th scope=col>m5C_position_fold</th><th scope=col>MFE</th><th scope=col>associated_TSS_id</th><th scope=col>TSS_direction</th><th scope=col>TSS_description</th><th scope=col>total_annotations</th><th scope=col>alternate_annotations</th></tr>\n",
       "\t<tr><th></th><th scope=col>&lt;int&gt;</th><th scope=col>&lt;chr&gt;</th><th scope=col>&lt;chr&gt;</th><th scope=col>&lt;chr&gt;</th><th scope=col>&lt;chr&gt;</th><th scope=col>&lt;dbl&gt;</th><th scope=col>&lt;int&gt;</th><th scope=col>&lt;int&gt;</th><th scope=col>&lt;dbl&gt;</th><th scope=col>&lt;int&gt;</th><th scope=col>⋯</th><th scope=col>&lt;chr&gt;</th><th scope=col>&lt;chr&gt;</th><th scope=col>&lt;chr&gt;</th><th scope=col>&lt;chr&gt;</th><th scope=col>&lt;chr&gt;</th><th scope=col>&lt;chr&gt;</th><th scope=col>&lt;chr&gt;</th><th scope=col>&lt;chr&gt;</th><th scope=col>&lt;int&gt;</th><th scope=col>&lt;chr&gt;</th></tr>\n",
       "</thead>\n",
       "<tbody>\n",
       "\t<tr><th scope=row>1</th><td>1772255</td><td>1773246</td><td>-</td><td>stationary</td><td>S</td><td>0.06</td><td>15</td><td> 249</td><td>0.06</td><td>67</td><td>⋯</td><td>CCG</td><td>P</td><td>|..|.......|||||..|||.|||..||..|.........</td><td>base_paired    </td><td>-68.5  </td><td>.</td><td>.</td><td>.</td><td>1</td><td>NA</td></tr>\n",
       "\t<tr><th scope=row>2</th><td>2022329</td><td>2023320</td><td>+</td><td>stationary</td><td>S</td><td>0.00</td><td> 3</td><td>4533</td><td>0.00</td><td> 4</td><td>⋯</td><td>.  </td><td>.</td><td>||.........|||||...||||||....|||.....|||.</td><td>base_paired    </td><td>-224.51</td><td>.</td><td>.</td><td>.</td><td>1</td><td>NA</td></tr>\n",
       "\t<tr><th scope=row>3</th><td>2025660</td><td>2026651</td><td>+</td><td>stationary</td><td>S</td><td>0.00</td><td> 1</td><td>3023</td><td>0.00</td><td> 0</td><td>⋯</td><td>.  </td><td>.</td><td>........||||||.....||||||................</td><td>base_paired    </td><td>-440.69</td><td>.</td><td>.</td><td>.</td><td>1</td><td>NA</td></tr>\n",
       "\t<tr><th scope=row>4</th><td>2026031</td><td>2027022</td><td>+</td><td>stationary</td><td>S</td><td>0.00</td><td> 4</td><td>7803</td><td>0.00</td><td> 3</td><td>⋯</td><td>.  </td><td>.</td><td>...||||...|||||....||||||||...|||||||....</td><td>base_paired    </td><td>-440.69</td><td>.</td><td>.</td><td>.</td><td>1</td><td>NA</td></tr>\n",
       "\t<tr><th scope=row>5</th><td>1010753</td><td>1011744</td><td>-</td><td>stationary</td><td>S</td><td>0.00</td><td> 0</td><td>  34</td><td>0.00</td><td> 0</td><td>⋯</td><td>CUG</td><td>L</td><td>.....|....|.........|..||||......|...|||.</td><td>base_paired    </td><td>-62.39 </td><td>.</td><td>.</td><td>.</td><td>1</td><td>NA</td></tr>\n",
       "\t<tr><th scope=row>6</th><td>2080544</td><td>2082176</td><td>+</td><td>stationary</td><td>S</td><td>0.00</td><td> 0</td><td> 121</td><td>0.00</td><td> 0</td><td>⋯</td><td>UGC</td><td>C</td><td>...||||.....|||||....|||........|..|..|||</td><td>single_stranded</td><td>-55.88 </td><td>.</td><td>.</td><td>.</td><td>1</td><td>NA</td></tr>\n",
       "</tbody>\n",
       "</table>\n"
      ],
      "text/latex": [
       "A data.frame: 6 × 50\n",
       "\\begin{tabular}{r|lllllllllllllllllllll}\n",
       "  & TS559\\_position & KOD1\\_position & strand & growth\\_phase & metabolic\\_condition & methylation\\_frequency\\_TK1935\\_rep1 & mC\\_count\\_TK1935\\_rep1 & coverage\\_TK1935\\_rep1 & methylation\\_frequency\\_TK1935\\_rep2 & mC\\_count\\_TK1935\\_rep2 & ⋯ & amino\\_acid\\_sequence & amino\\_acid\\_ID & local\\_41bp\\_predicted\\_fold & m5C\\_position\\_fold & MFE & associated\\_TSS\\_id & TSS\\_direction & TSS\\_description & total\\_annotations & alternate\\_annotations\\\\\n",
       "  & <int> & <chr> & <chr> & <chr> & <chr> & <dbl> & <int> & <int> & <dbl> & <int> & ⋯ & <chr> & <chr> & <chr> & <chr> & <chr> & <chr> & <chr> & <chr> & <int> & <chr>\\\\\n",
       "\\hline\n",
       "\t1 & 1772255 & 1773246 & - & stationary & S & 0.06 & 15 &  249 & 0.06 & 67 & ⋯ & CCG & P & \\textbar{}..\\textbar{}.......\\textbar{}\\textbar{}\\textbar{}\\textbar{}\\textbar{}..\\textbar{}\\textbar{}\\textbar{}.\\textbar{}\\textbar{}\\textbar{}..\\textbar{}\\textbar{}..\\textbar{}......... & base\\_paired     & -68.5   & . & . & . & 1 & NA\\\\\n",
       "\t2 & 2022329 & 2023320 & + & stationary & S & 0.00 &  3 & 4533 & 0.00 &  4 & ⋯ & .   & . & \\textbar{}\\textbar{}.........\\textbar{}\\textbar{}\\textbar{}\\textbar{}\\textbar{}...\\textbar{}\\textbar{}\\textbar{}\\textbar{}\\textbar{}\\textbar{}....\\textbar{}\\textbar{}\\textbar{}.....\\textbar{}\\textbar{}\\textbar{}. & base\\_paired     & -224.51 & . & . & . & 1 & NA\\\\\n",
       "\t3 & 2025660 & 2026651 & + & stationary & S & 0.00 &  1 & 3023 & 0.00 &  0 & ⋯ & .   & . & ........\\textbar{}\\textbar{}\\textbar{}\\textbar{}\\textbar{}\\textbar{}.....\\textbar{}\\textbar{}\\textbar{}\\textbar{}\\textbar{}\\textbar{}................ & base\\_paired     & -440.69 & . & . & . & 1 & NA\\\\\n",
       "\t4 & 2026031 & 2027022 & + & stationary & S & 0.00 &  4 & 7803 & 0.00 &  3 & ⋯ & .   & . & ...\\textbar{}\\textbar{}\\textbar{}\\textbar{}...\\textbar{}\\textbar{}\\textbar{}\\textbar{}\\textbar{}....\\textbar{}\\textbar{}\\textbar{}\\textbar{}\\textbar{}\\textbar{}\\textbar{}\\textbar{}...\\textbar{}\\textbar{}\\textbar{}\\textbar{}\\textbar{}\\textbar{}\\textbar{}.... & base\\_paired     & -440.69 & . & . & . & 1 & NA\\\\\n",
       "\t5 & 1010753 & 1011744 & - & stationary & S & 0.00 &  0 &   34 & 0.00 &  0 & ⋯ & CUG & L & .....\\textbar{}....\\textbar{}.........\\textbar{}..\\textbar{}\\textbar{}\\textbar{}\\textbar{}......\\textbar{}...\\textbar{}\\textbar{}\\textbar{}. & base\\_paired     & -62.39  & . & . & . & 1 & NA\\\\\n",
       "\t6 & 2080544 & 2082176 & + & stationary & S & 0.00 &  0 &  121 & 0.00 &  0 & ⋯ & UGC & C & ...\\textbar{}\\textbar{}\\textbar{}\\textbar{}.....\\textbar{}\\textbar{}\\textbar{}\\textbar{}\\textbar{}....\\textbar{}\\textbar{}\\textbar{}........\\textbar{}..\\textbar{}..\\textbar{}\\textbar{}\\textbar{} & single\\_stranded & -55.88  & . & . & . & 1 & NA\\\\\n",
       "\\end{tabular}\n"
      ],
      "text/markdown": [
       "\n",
       "A data.frame: 6 × 50\n",
       "\n",
       "| <!--/--> | TS559_position &lt;int&gt; | KOD1_position &lt;chr&gt; | strand &lt;chr&gt; | growth_phase &lt;chr&gt; | metabolic_condition &lt;chr&gt; | methylation_frequency_TK1935_rep1 &lt;dbl&gt; | mC_count_TK1935_rep1 &lt;int&gt; | coverage_TK1935_rep1 &lt;int&gt; | methylation_frequency_TK1935_rep2 &lt;dbl&gt; | mC_count_TK1935_rep2 &lt;int&gt; | ⋯ ⋯ | amino_acid_sequence &lt;chr&gt; | amino_acid_ID &lt;chr&gt; | local_41bp_predicted_fold &lt;chr&gt; | m5C_position_fold &lt;chr&gt; | MFE &lt;chr&gt; | associated_TSS_id &lt;chr&gt; | TSS_direction &lt;chr&gt; | TSS_description &lt;chr&gt; | total_annotations &lt;int&gt; | alternate_annotations &lt;chr&gt; |\n",
       "|---|---|---|---|---|---|---|---|---|---|---|---|---|---|---|---|---|---|---|---|---|---|\n",
       "| 1 | 1772255 | 1773246 | - | stationary | S | 0.06 | 15 |  249 | 0.06 | 67 | ⋯ | CCG | P | |..|.......|||||..|||.|||..||..|......... | base_paired     | -68.5   | . | . | . | 1 | NA |\n",
       "| 2 | 2022329 | 2023320 | + | stationary | S | 0.00 |  3 | 4533 | 0.00 |  4 | ⋯ | .   | . | ||.........|||||...||||||....|||.....|||. | base_paired     | -224.51 | . | . | . | 1 | NA |\n",
       "| 3 | 2025660 | 2026651 | + | stationary | S | 0.00 |  1 | 3023 | 0.00 |  0 | ⋯ | .   | . | ........||||||.....||||||................ | base_paired     | -440.69 | . | . | . | 1 | NA |\n",
       "| 4 | 2026031 | 2027022 | + | stationary | S | 0.00 |  4 | 7803 | 0.00 |  3 | ⋯ | .   | . | ...||||...|||||....||||||||...|||||||.... | base_paired     | -440.69 | . | . | . | 1 | NA |\n",
       "| 5 | 1010753 | 1011744 | - | stationary | S | 0.00 |  0 |   34 | 0.00 |  0 | ⋯ | CUG | L | .....|....|.........|..||||......|...|||. | base_paired     | -62.39  | . | . | . | 1 | NA |\n",
       "| 6 | 2080544 | 2082176 | + | stationary | S | 0.00 |  0 |  121 | 0.00 |  0 | ⋯ | UGC | C | ...||||.....|||||....|||........|..|..||| | single_stranded | -55.88  | . | . | . | 1 | NA |\n",
       "\n"
      ],
      "text/plain": [
       "  TS559_position KOD1_position strand growth_phase metabolic_condition\n",
       "1 1772255        1773246       -      stationary   S                  \n",
       "2 2022329        2023320       +      stationary   S                  \n",
       "3 2025660        2026651       +      stationary   S                  \n",
       "4 2026031        2027022       +      stationary   S                  \n",
       "5 1010753        1011744       -      stationary   S                  \n",
       "6 2080544        2082176       +      stationary   S                  \n",
       "  methylation_frequency_TK1935_rep1 mC_count_TK1935_rep1 coverage_TK1935_rep1\n",
       "1 0.06                              15                    249                \n",
       "2 0.00                               3                   4533                \n",
       "3 0.00                               1                   3023                \n",
       "4 0.00                               4                   7803                \n",
       "5 0.00                               0                     34                \n",
       "6 0.00                               0                    121                \n",
       "  methylation_frequency_TK1935_rep2 mC_count_TK1935_rep2 ⋯ amino_acid_sequence\n",
       "1 0.06                              67                   ⋯ CCG                \n",
       "2 0.00                               4                   ⋯ .                  \n",
       "3 0.00                               0                   ⋯ .                  \n",
       "4 0.00                               3                   ⋯ .                  \n",
       "5 0.00                               0                   ⋯ CUG                \n",
       "6 0.00                               0                   ⋯ UGC                \n",
       "  amino_acid_ID local_41bp_predicted_fold                 m5C_position_fold\n",
       "1 P             |..|.......|||||..|||.|||..||..|......... base_paired      \n",
       "2 .             ||.........|||||...||||||....|||.....|||. base_paired      \n",
       "3 .             ........||||||.....||||||................ base_paired      \n",
       "4 .             ...||||...|||||....||||||||...|||||||.... base_paired      \n",
       "5 L             .....|....|.........|..||||......|...|||. base_paired      \n",
       "6 C             ...||||.....|||||....|||........|..|..||| single_stranded  \n",
       "  MFE     associated_TSS_id TSS_direction TSS_description total_annotations\n",
       "1 -68.5   .                 .             .               1                \n",
       "2 -224.51 .                 .             .               1                \n",
       "3 -440.69 .                 .             .               1                \n",
       "4 -440.69 .                 .             .               1                \n",
       "5 -62.39  .                 .             .               1                \n",
       "6 -55.88  .                 .             .               1                \n",
       "  alternate_annotations\n",
       "1 NA                   \n",
       "2 NA                   \n",
       "3 NA                   \n",
       "4 NA                   \n",
       "5 NA                   \n",
       "6 NA                   "
      ]
     },
     "metadata": {},
     "output_type": "display_data"
    }
   ],
   "source": [
    "###strain TK1935\n",
    "\n",
    "defaultW <- getOption(\"warn\")\n",
    "options(warn = -1)\n",
    "\n",
    "\n",
    "#load CGmaps into session\n",
    "TK1935statS_CGmap_rep1 <-read.delim(\"../cgmaps/TK1935statS_totalRNA_Dec2016.CGmap\", sep='\\t', header=FALSE,col.names=cols) %>%\n",
    "    mutate(strain=\"TK1935\", growth_phase='stationary', metabolic_condition=\"S\", replicate=\"rep1\")\n",
    "\n",
    "TK1935statS_CGmap_rep2 <-read.delim(\"../cgmaps/TK1935statS_totalRNA_Oct2020.CGmap\", sep='\\t', header=FALSE,col.names=cols) %>%\n",
    "    mutate(strain=\"TK1935\", growth_phase='stationary', metabolic_condition=\"S\", replicate=\"rep2\")\n",
    "\n",
    "# process raw CGmaps\n",
    "TK1935statS_rep1_df <- processCGmap(TK1935statS_CGmap_rep1)\n",
    "TK1935statS_rep2_df <- processCGmap(TK1935statS_CGmap_rep2)\n",
    "\n",
    "#merge reps\n",
    "TK1935statS <- merge_del_reps(x=TK1935statS_rep1_df, y=TK1935statS_rep2_df, strain='TK1935')\n",
    "\n",
    "# get quantiles\n",
    "\"quantiles:\"\n",
    "get_quantiles(strain_cgmap = TK1935statS, strain=\"TK1935\", min_cov = 47)\n",
    "\n",
    "#compare methylation frequencies & annotate\n",
    "TK1935statS_anal <- CompareCGmap(strain_cgmap = TK1935statS, \n",
    "                                TS559_cgmap = TS559statS, \n",
    "                                strain=\"TK1935\", \n",
    "                                annotation = annotation,\n",
    "                                min_cov = 47)\n",
    "\n",
    "write.table(TK1935statS_anal, file = \"../processed_cgmaps/TK1935statS_annotated\", sep = \"\\t\", row.names = F)\n",
    "\n",
    "#enumerate gains & losses\n",
    "\"losses & gains:\"\n",
    "nrow( TK1935statS_anal %>% filter(log2FC < 0) )\n",
    "nrow( TK1935statS_anal %>% filter(log2FC > 0) )\n",
    "\n",
    "\"absolute losses & gains:\"\n",
    "nrow( TK1935statS_anal %>% filter(difference == \"ABS LOSS\") )\n",
    "nrow( TK1935statS_anal %>% filter(difference == \"ABS GAIN\") )\n",
    "\n",
    "head(TK1935statS_anal)\n",
    "\n",
    "# TK1935statS_cat <- enumerate_hiconf_2reps(strain_cgmap = TK1935statS, strain=\"TK1935\",min_cov = 47)\n",
    "\n",
    "Sys.sleep(10)"
   ]
  },
  {
   "cell_type": "code",
   "execution_count": 10,
   "metadata": {},
   "outputs": [
    {
     "data": {
      "text/html": [
       "'quantiles:'"
      ],
      "text/latex": [
       "'quantiles:'"
      ],
      "text/markdown": [
       "'quantiles:'"
      ],
      "text/plain": [
       "[1] \"quantiles:\""
      ]
     },
     "metadata": {},
     "output_type": "display_data"
    },
    {
     "data": {
      "text/html": [
       "<style>\n",
       ".list-inline {list-style: none; margin:0; padding: 0}\n",
       ".list-inline>li {display: inline-block}\n",
       ".list-inline>li:not(:last-child)::after {content: \"\\00b7\"; padding: 0 .5ex}\n",
       "</style>\n",
       "<ol class=list-inline><li>16</li><li>6</li></ol>\n"
      ],
      "text/latex": [
       "\\begin{enumerate*}\n",
       "\\item 16\n",
       "\\item 6\n",
       "\\end{enumerate*}\n"
      ],
      "text/markdown": [
       "1. 16\n",
       "2. 6\n",
       "\n",
       "\n"
      ],
      "text/plain": [
       "[1] 16  6"
      ]
     },
     "metadata": {},
     "output_type": "display_data"
    },
    {
     "data": {
      "text/html": [
       "'losses &amp; gains:'"
      ],
      "text/latex": [
       "'losses \\& gains:'"
      ],
      "text/markdown": [
       "'losses &amp; gains:'"
      ],
      "text/plain": [
       "[1] \"losses & gains:\""
      ]
     },
     "metadata": {},
     "output_type": "display_data"
    },
    {
     "data": {
      "text/html": [
       "4"
      ],
      "text/latex": [
       "4"
      ],
      "text/markdown": [
       "4"
      ],
      "text/plain": [
       "[1] 4"
      ]
     },
     "metadata": {},
     "output_type": "display_data"
    },
    {
     "data": {
      "text/html": [
       "1"
      ],
      "text/latex": [
       "1"
      ],
      "text/markdown": [
       "1"
      ],
      "text/plain": [
       "[1] 1"
      ]
     },
     "metadata": {},
     "output_type": "display_data"
    },
    {
     "data": {
      "text/html": [
       "'absolute losses &amp; gains:'"
      ],
      "text/latex": [
       "'absolute losses \\& gains:'"
      ],
      "text/markdown": [
       "'absolute losses &amp; gains:'"
      ],
      "text/plain": [
       "[1] \"absolute losses & gains:\""
      ]
     },
     "metadata": {},
     "output_type": "display_data"
    },
    {
     "data": {
      "text/html": [
       "4"
      ],
      "text/latex": [
       "4"
      ],
      "text/markdown": [
       "4"
      ],
      "text/plain": [
       "[1] 4"
      ]
     },
     "metadata": {},
     "output_type": "display_data"
    },
    {
     "data": {
      "text/html": [
       "0"
      ],
      "text/latex": [
       "0"
      ],
      "text/markdown": [
       "0"
      ],
      "text/plain": [
       "[1] 0"
      ]
     },
     "metadata": {},
     "output_type": "display_data"
    },
    {
     "data": {
      "text/html": [
       "<table class=\"dataframe\">\n",
       "<caption>A data.frame: 5 × 50</caption>\n",
       "<thead>\n",
       "\t<tr><th></th><th scope=col>TS559_position</th><th scope=col>KOD1_position</th><th scope=col>strand</th><th scope=col>growth_phase</th><th scope=col>metabolic_condition</th><th scope=col>methylation_frequency_TK2122_rep1</th><th scope=col>mC_count_TK2122_rep1</th><th scope=col>coverage_TK2122_rep1</th><th scope=col>methylation_frequency_TK2122_rep2</th><th scope=col>mC_count_TK2122_rep2</th><th scope=col>⋯</th><th scope=col>amino_acid_sequence</th><th scope=col>amino_acid_ID</th><th scope=col>local_41bp_predicted_fold</th><th scope=col>m5C_position_fold</th><th scope=col>MFE</th><th scope=col>associated_TSS_id</th><th scope=col>TSS_direction</th><th scope=col>TSS_description</th><th scope=col>total_annotations</th><th scope=col>alternate_annotations</th></tr>\n",
       "\t<tr><th></th><th scope=col>&lt;int&gt;</th><th scope=col>&lt;chr&gt;</th><th scope=col>&lt;chr&gt;</th><th scope=col>&lt;chr&gt;</th><th scope=col>&lt;chr&gt;</th><th scope=col>&lt;dbl&gt;</th><th scope=col>&lt;int&gt;</th><th scope=col>&lt;int&gt;</th><th scope=col>&lt;dbl&gt;</th><th scope=col>&lt;int&gt;</th><th scope=col>⋯</th><th scope=col>&lt;chr&gt;</th><th scope=col>&lt;chr&gt;</th><th scope=col>&lt;chr&gt;</th><th scope=col>&lt;chr&gt;</th><th scope=col>&lt;chr&gt;</th><th scope=col>&lt;chr&gt;</th><th scope=col>&lt;chr&gt;</th><th scope=col>&lt;chr&gt;</th><th scope=col>&lt;int&gt;</th><th scope=col>&lt;chr&gt;</th></tr>\n",
       "</thead>\n",
       "<tbody>\n",
       "\t<tr><th scope=row>1</th><td>2023350</td><td>2024341</td><td>+</td><td>stationary</td><td>S</td><td>0.00</td><td>  0</td><td> 565</td><td>0.00</td><td>  0</td><td>⋯</td><td>.  </td><td>.</td><td>|||||||....|||||||||........||||...||||||</td><td>single_stranded</td><td>-224.51</td><td>.</td><td>.</td><td>.</td><td>1</td><td>NA</td></tr>\n",
       "\t<tr><th scope=row>2</th><td>1027413</td><td>1028404</td><td>+</td><td>stationary</td><td>S</td><td>0.00</td><td>  3</td><td> 884</td><td>0.00</td><td>  5</td><td>⋯</td><td>CCG</td><td>P</td><td>|||..|..|||||..................|||||..|||</td><td>single_stranded</td><td>-117.74</td><td>.</td><td>.</td><td>.</td><td>1</td><td>NA</td></tr>\n",
       "\t<tr><th scope=row>3</th><td>2072134</td><td>2073766</td><td>+</td><td>stationary</td><td>S</td><td>0.00</td><td>  1</td><td>1030</td><td>0.00</td><td>  0</td><td>⋯</td><td>GCG</td><td>A</td><td>|.........||||||||||........|||||......||</td><td>single_stranded</td><td>-90.0  </td><td>.</td><td>.</td><td>.</td><td>1</td><td>NA</td></tr>\n",
       "\t<tr><th scope=row>4</th><td>1756577</td><td>1757568</td><td>-</td><td>stationary</td><td>S</td><td>0.00</td><td>  1</td><td> 992</td><td>0.00</td><td>  0</td><td>⋯</td><td>CCG</td><td>P</td><td>||||||.||||||....................||||||..</td><td>single_stranded</td><td>-86.42 </td><td>.</td><td>.</td><td>.</td><td>1</td><td>NA</td></tr>\n",
       "\t<tr><th scope=row>5</th><td> 612640</td><td>613631 </td><td>+</td><td>stationary</td><td>S</td><td>0.29</td><td>101</td><td> 346</td><td>0.24</td><td>147</td><td>⋯</td><td>GCG</td><td>A</td><td>||||||....|||||||||||||..||||||||||..||||</td><td>base_paired    </td><td>-80.41 </td><td>.</td><td>.</td><td>.</td><td>1</td><td>NA</td></tr>\n",
       "</tbody>\n",
       "</table>\n"
      ],
      "text/latex": [
       "A data.frame: 5 × 50\n",
       "\\begin{tabular}{r|lllllllllllllllllllll}\n",
       "  & TS559\\_position & KOD1\\_position & strand & growth\\_phase & metabolic\\_condition & methylation\\_frequency\\_TK2122\\_rep1 & mC\\_count\\_TK2122\\_rep1 & coverage\\_TK2122\\_rep1 & methylation\\_frequency\\_TK2122\\_rep2 & mC\\_count\\_TK2122\\_rep2 & ⋯ & amino\\_acid\\_sequence & amino\\_acid\\_ID & local\\_41bp\\_predicted\\_fold & m5C\\_position\\_fold & MFE & associated\\_TSS\\_id & TSS\\_direction & TSS\\_description & total\\_annotations & alternate\\_annotations\\\\\n",
       "  & <int> & <chr> & <chr> & <chr> & <chr> & <dbl> & <int> & <int> & <dbl> & <int> & ⋯ & <chr> & <chr> & <chr> & <chr> & <chr> & <chr> & <chr> & <chr> & <int> & <chr>\\\\\n",
       "\\hline\n",
       "\t1 & 2023350 & 2024341 & + & stationary & S & 0.00 &   0 &  565 & 0.00 &   0 & ⋯ & .   & . & \\textbar{}\\textbar{}\\textbar{}\\textbar{}\\textbar{}\\textbar{}\\textbar{}....\\textbar{}\\textbar{}\\textbar{}\\textbar{}\\textbar{}\\textbar{}\\textbar{}\\textbar{}\\textbar{}........\\textbar{}\\textbar{}\\textbar{}\\textbar{}...\\textbar{}\\textbar{}\\textbar{}\\textbar{}\\textbar{}\\textbar{} & single\\_stranded & -224.51 & . & . & . & 1 & NA\\\\\n",
       "\t2 & 1027413 & 1028404 & + & stationary & S & 0.00 &   3 &  884 & 0.00 &   5 & ⋯ & CCG & P & \\textbar{}\\textbar{}\\textbar{}..\\textbar{}..\\textbar{}\\textbar{}\\textbar{}\\textbar{}\\textbar{}..................\\textbar{}\\textbar{}\\textbar{}\\textbar{}\\textbar{}..\\textbar{}\\textbar{}\\textbar{} & single\\_stranded & -117.74 & . & . & . & 1 & NA\\\\\n",
       "\t3 & 2072134 & 2073766 & + & stationary & S & 0.00 &   1 & 1030 & 0.00 &   0 & ⋯ & GCG & A & \\textbar{}.........\\textbar{}\\textbar{}\\textbar{}\\textbar{}\\textbar{}\\textbar{}\\textbar{}\\textbar{}\\textbar{}\\textbar{}........\\textbar{}\\textbar{}\\textbar{}\\textbar{}\\textbar{}......\\textbar{}\\textbar{} & single\\_stranded & -90.0   & . & . & . & 1 & NA\\\\\n",
       "\t4 & 1756577 & 1757568 & - & stationary & S & 0.00 &   1 &  992 & 0.00 &   0 & ⋯ & CCG & P & \\textbar{}\\textbar{}\\textbar{}\\textbar{}\\textbar{}\\textbar{}.\\textbar{}\\textbar{}\\textbar{}\\textbar{}\\textbar{}\\textbar{}....................\\textbar{}\\textbar{}\\textbar{}\\textbar{}\\textbar{}\\textbar{}.. & single\\_stranded & -86.42  & . & . & . & 1 & NA\\\\\n",
       "\t5 &  612640 & 613631  & + & stationary & S & 0.29 & 101 &  346 & 0.24 & 147 & ⋯ & GCG & A & \\textbar{}\\textbar{}\\textbar{}\\textbar{}\\textbar{}\\textbar{}....\\textbar{}\\textbar{}\\textbar{}\\textbar{}\\textbar{}\\textbar{}\\textbar{}\\textbar{}\\textbar{}\\textbar{}\\textbar{}\\textbar{}\\textbar{}..\\textbar{}\\textbar{}\\textbar{}\\textbar{}\\textbar{}\\textbar{}\\textbar{}\\textbar{}\\textbar{}\\textbar{}..\\textbar{}\\textbar{}\\textbar{}\\textbar{} & base\\_paired     & -80.41  & . & . & . & 1 & NA\\\\\n",
       "\\end{tabular}\n"
      ],
      "text/markdown": [
       "\n",
       "A data.frame: 5 × 50\n",
       "\n",
       "| <!--/--> | TS559_position &lt;int&gt; | KOD1_position &lt;chr&gt; | strand &lt;chr&gt; | growth_phase &lt;chr&gt; | metabolic_condition &lt;chr&gt; | methylation_frequency_TK2122_rep1 &lt;dbl&gt; | mC_count_TK2122_rep1 &lt;int&gt; | coverage_TK2122_rep1 &lt;int&gt; | methylation_frequency_TK2122_rep2 &lt;dbl&gt; | mC_count_TK2122_rep2 &lt;int&gt; | ⋯ ⋯ | amino_acid_sequence &lt;chr&gt; | amino_acid_ID &lt;chr&gt; | local_41bp_predicted_fold &lt;chr&gt; | m5C_position_fold &lt;chr&gt; | MFE &lt;chr&gt; | associated_TSS_id &lt;chr&gt; | TSS_direction &lt;chr&gt; | TSS_description &lt;chr&gt; | total_annotations &lt;int&gt; | alternate_annotations &lt;chr&gt; |\n",
       "|---|---|---|---|---|---|---|---|---|---|---|---|---|---|---|---|---|---|---|---|---|---|\n",
       "| 1 | 2023350 | 2024341 | + | stationary | S | 0.00 |   0 |  565 | 0.00 |   0 | ⋯ | .   | . | |||||||....|||||||||........||||...|||||| | single_stranded | -224.51 | . | . | . | 1 | NA |\n",
       "| 2 | 1027413 | 1028404 | + | stationary | S | 0.00 |   3 |  884 | 0.00 |   5 | ⋯ | CCG | P | |||..|..|||||..................|||||..||| | single_stranded | -117.74 | . | . | . | 1 | NA |\n",
       "| 3 | 2072134 | 2073766 | + | stationary | S | 0.00 |   1 | 1030 | 0.00 |   0 | ⋯ | GCG | A | |.........||||||||||........|||||......|| | single_stranded | -90.0   | . | . | . | 1 | NA |\n",
       "| 4 | 1756577 | 1757568 | - | stationary | S | 0.00 |   1 |  992 | 0.00 |   0 | ⋯ | CCG | P | ||||||.||||||....................||||||.. | single_stranded | -86.42  | . | . | . | 1 | NA |\n",
       "| 5 |  612640 | 613631  | + | stationary | S | 0.29 | 101 |  346 | 0.24 | 147 | ⋯ | GCG | A | ||||||....|||||||||||||..||||||||||..|||| | base_paired     | -80.41  | . | . | . | 1 | NA |\n",
       "\n"
      ],
      "text/plain": [
       "  TS559_position KOD1_position strand growth_phase metabolic_condition\n",
       "1 2023350        2024341       +      stationary   S                  \n",
       "2 1027413        1028404       +      stationary   S                  \n",
       "3 2072134        2073766       +      stationary   S                  \n",
       "4 1756577        1757568       -      stationary   S                  \n",
       "5  612640        613631        +      stationary   S                  \n",
       "  methylation_frequency_TK2122_rep1 mC_count_TK2122_rep1 coverage_TK2122_rep1\n",
       "1 0.00                                0                   565                \n",
       "2 0.00                                3                   884                \n",
       "3 0.00                                1                  1030                \n",
       "4 0.00                                1                   992                \n",
       "5 0.29                              101                   346                \n",
       "  methylation_frequency_TK2122_rep2 mC_count_TK2122_rep2 ⋯ amino_acid_sequence\n",
       "1 0.00                                0                  ⋯ .                  \n",
       "2 0.00                                5                  ⋯ CCG                \n",
       "3 0.00                                0                  ⋯ GCG                \n",
       "4 0.00                                0                  ⋯ CCG                \n",
       "5 0.24                              147                  ⋯ GCG                \n",
       "  amino_acid_ID local_41bp_predicted_fold                 m5C_position_fold\n",
       "1 .             |||||||....|||||||||........||||...|||||| single_stranded  \n",
       "2 P             |||..|..|||||..................|||||..||| single_stranded  \n",
       "3 A             |.........||||||||||........|||||......|| single_stranded  \n",
       "4 P             ||||||.||||||....................||||||.. single_stranded  \n",
       "5 A             ||||||....|||||||||||||..||||||||||..|||| base_paired      \n",
       "  MFE     associated_TSS_id TSS_direction TSS_description total_annotations\n",
       "1 -224.51 .                 .             .               1                \n",
       "2 -117.74 .                 .             .               1                \n",
       "3 -90.0   .                 .             .               1                \n",
       "4 -86.42  .                 .             .               1                \n",
       "5 -80.41  .                 .             .               1                \n",
       "  alternate_annotations\n",
       "1 NA                   \n",
       "2 NA                   \n",
       "3 NA                   \n",
       "4 NA                   \n",
       "5 NA                   "
      ]
     },
     "metadata": {},
     "output_type": "display_data"
    }
   ],
   "source": [
    "###strain TK2122\n",
    "\n",
    "defaultW <- getOption(\"warn\")\n",
    "options(warn = -1)\n",
    "\n",
    "\n",
    "#load CGmaps into session\n",
    "TK2122statS_CGmap_rep1 <-read.delim(\"../cgmaps/TK2122statS_totalRNA_Dec2016.CGmap\", sep='\\t', header=FALSE,col.names=cols) %>%\n",
    "    mutate(strain=\"TK2122\", growth_phase='stationary', metabolic_condition=\"S\", replicate=\"rep1\")\n",
    "\n",
    "TK2122statS_CGmap_rep2 <-read.delim(\"../cgmaps/TK2122statS_totalRNA_Oct2020.CGmap\", sep='\\t', header=FALSE,col.names=cols) %>%\n",
    "    mutate(strain=\"TK2122\", growth_phase='stationary', metabolic_condition=\"S\", replicate=\"rep2\")\n",
    "\n",
    "# process raw CGmaps\n",
    "TK2122statS_rep1_df <- processCGmap(TK2122statS_CGmap_rep1)\n",
    "TK2122statS_rep2_df <- processCGmap(TK2122statS_CGmap_rep2)\n",
    "\n",
    "#merge reps\n",
    "TK2122statS <- merge_del_reps(x=TK2122statS_rep1_df, y=TK2122statS_rep2_df, strain='TK2122')\n",
    "\n",
    "# get quantiles\n",
    "\"quantiles:\"\n",
    "get_quantiles(strain_cgmap = TK2122statS, strain=\"TK2122\", min_cov = 47)\n",
    "\n",
    "#compare methylation frequencies & annotate\n",
    "TK2122statS_anal <- CompareCGmap(strain_cgmap = TK2122statS, \n",
    "                                TS559_cgmap = TS559statS, \n",
    "                                strain=\"TK2122\", \n",
    "                                annotation = annotation,\n",
    "                                min_cov = 47)\n",
    "\n",
    "write.table(TK2122statS_anal, file = \"../processed_cgmaps/TK2122statS_annotated\", sep = \"\\t\", row.names = F)\n",
    "\n",
    "#enumerate gains & losses\n",
    "\"losses & gains:\"\n",
    "nrow( TK2122statS_anal %>% filter(log2FC < 0) )\n",
    "nrow( TK2122statS_anal %>% filter(log2FC > 0) )\n",
    "\n",
    "\"absolute losses & gains:\"\n",
    "nrow( TK2122statS_anal %>% filter(difference == \"ABS LOSS\") )\n",
    "nrow( TK2122statS_anal %>% filter(difference == \"ABS GAIN\") )\n",
    "\n",
    "head(TK2122statS_anal)\n",
    "\n",
    "# TK2122statS_cat <- enumerate_hiconf_2reps(strain_cgmap = TK2122statS, strain=\"TK2122\",min_cov = 47)\n",
    "\n",
    "Sys.sleep(10)"
   ]
  },
  {
   "cell_type": "code",
   "execution_count": 18,
   "metadata": {},
   "outputs": [
    {
     "data": {
      "text/html": [
       "'quantiles:'"
      ],
      "text/latex": [
       "'quantiles:'"
      ],
      "text/markdown": [
       "'quantiles:'"
      ],
      "text/plain": [
       "[1] \"quantiles:\""
      ]
     },
     "metadata": {},
     "output_type": "display_data"
    },
    {
     "data": {
      "text/html": [
       "<style>\n",
       ".list-inline {list-style: none; margin:0; padding: 0}\n",
       ".list-inline>li {display: inline-block}\n",
       ".list-inline>li:not(:last-child)::after {content: \"\\00b7\"; padding: 0 .5ex}\n",
       "</style>\n",
       "<ol class=list-inline><li>18</li><li>9</li><li>8</li></ol>\n"
      ],
      "text/latex": [
       "\\begin{enumerate*}\n",
       "\\item 18\n",
       "\\item 9\n",
       "\\item 8\n",
       "\\end{enumerate*}\n"
      ],
      "text/markdown": [
       "1. 18\n",
       "2. 9\n",
       "3. 8\n",
       "\n",
       "\n"
      ],
      "text/plain": [
       "[1] 18  9  8"
      ]
     },
     "metadata": {},
     "output_type": "display_data"
    }
   ],
   "source": [
    "###strain TK2241\n",
    "\n",
    "defaultW <- getOption(\"warn\")\n",
    "options(warn = -1)\n",
    "\n",
    "\n",
    "#load CGmaps into session\n",
    "TK2241statS_CGmap_rep1 <-read.delim(\"../cgmaps/TK2241statS_totalRNA_Dec2016.CGmap\", sep='\\t', header=FALSE,col.names=cols) %>%\n",
    "    mutate(strain=\"TK2241\", growth_phase='stationary', metabolic_condition=\"S\", replicate=\"rep1\")\n",
    "\n",
    "TK2241statS_CGmap_rep2 <-read.delim(\"../cgmaps/TK2241statS_totalRNA_Oct2020.CGmap\", sep='\\t', header=FALSE,col.names=cols) %>%\n",
    "    mutate(strain=\"TK2241\", growth_phase='stationary', metabolic_condition=\"S\", replicate=\"rep2\")\n",
    "\n",
    "TK2241statS_CGmap_rep3 <-read.delim(\"../cgmaps/TK2241_statS_totalRNA_rep3.CGmap\", sep='\\t', header=FALSE,col.names=cols) %>%\n",
    "    mutate(strain=\"TK2241\", growth_phase='stationary', metabolic_condition=\"S\", replicate=\"rep3\")\n",
    "\n",
    "\n",
    "\n",
    "# process raw CGmaps\n",
    "TK2241statS_rep1_df <- processCGmap(TK2241statS_CGmap_rep1)\n",
    "TK2241statS_rep2_df <- processCGmap(TK2241statS_CGmap_rep2)\n",
    "TK2241statS_rep3_df <- processCGmap(TK2241statS_CGmap_rep3)\n",
    "\n",
    "\n",
    "#merge reps8\n",
    "TK2241statS <- merge_del_3reps(x=TK2241statS_rep1_df, y=TK2241statS_rep2_df,z=TK2241statS_rep3_df, strain='TK2241')\n",
    "\n",
    "# get quantiles\n",
    "\"quantiles:\"\n",
    "get_quantiles(strain_cgmap = TK2241statS, strain=\"TK2241\", reps=3, min_cov = 47)\n",
    "\n",
    "#compare methylation frequencies & annotate\n",
    "TK2241statS_anal <- CompareCGmap_3reps(strain_cgmap = TK2241statS, \n",
    "                                TS559_cgmap = TS559statS, \n",
    "                                strain=\"TK2241\", \n",
    "                                annotation = annotation,\n",
    "                                min_cov = 47)\n",
    "\n",
    "write.table(TK2241statS_anal, file = \"../processed_cgmaps/TK2241statS_annotated\", sep = \"\\t\", row.names = F)\n",
    "\n",
    "#enumerate gains & losses\n",
    "\"losses & gains:\"\n",
    "nrow( TK2241statS_anal %>% filter(log2FC < 0) )\n",
    "nrow( TK2241statS_anal %>% filter(log2FC > 0) )\n",
    "\n",
    "\n",
    "\"absolute losses & gains:\"\n",
    "nrow( TK2241statS_anal %>% filter(difference == \"ABS LOSS\") )\n",
    "nrow( TK2241statS_anal %>% filter(difference == \"ABS GAIN\") )\n",
    "\n",
    "\n",
    "# TK2241statS_cat <- enumerate_hiconf_2reps(strain_cgmap = TK2241statS, strain=\"TK2241\",min_cov = 47)\n",
    "\n",
    "Sys.sleep(15)\n"
   ]
  },
  {
   "cell_type": "code",
   "execution_count": 11,
   "metadata": {},
   "outputs": [
    {
     "data": {
      "text/html": [
       "'quantiles:'"
      ],
      "text/latex": [
       "'quantiles:'"
      ],
      "text/markdown": [
       "'quantiles:'"
      ],
      "text/plain": [
       "[1] \"quantiles:\""
      ]
     },
     "metadata": {},
     "output_type": "display_data"
    },
    {
     "data": {
      "text/html": [
       "<style>\n",
       ".list-inline {list-style: none; margin:0; padding: 0}\n",
       ".list-inline>li {display: inline-block}\n",
       ".list-inline>li:not(:last-child)::after {content: \"\\00b7\"; padding: 0 .5ex}\n",
       "</style>\n",
       "<ol class=list-inline><li>5</li><li>5</li></ol>\n"
      ],
      "text/latex": [
       "\\begin{enumerate*}\n",
       "\\item 5\n",
       "\\item 5\n",
       "\\end{enumerate*}\n"
      ],
      "text/markdown": [
       "1. 5\n",
       "2. 5\n",
       "\n",
       "\n"
      ],
      "text/plain": [
       "[1] 5 5"
      ]
     },
     "metadata": {},
     "output_type": "display_data"
    },
    {
     "data": {
      "text/html": [
       "'losses &amp; gains:'"
      ],
      "text/latex": [
       "'losses \\& gains:'"
      ],
      "text/markdown": [
       "'losses &amp; gains:'"
      ],
      "text/plain": [
       "[1] \"losses & gains:\""
      ]
     },
     "metadata": {},
     "output_type": "display_data"
    },
    {
     "data": {
      "text/html": [
       "6"
      ],
      "text/latex": [
       "6"
      ],
      "text/markdown": [
       "6"
      ],
      "text/plain": [
       "[1] 6"
      ]
     },
     "metadata": {},
     "output_type": "display_data"
    },
    {
     "data": {
      "text/html": [
       "0"
      ],
      "text/latex": [
       "0"
      ],
      "text/markdown": [
       "0"
      ],
      "text/plain": [
       "[1] 0"
      ]
     },
     "metadata": {},
     "output_type": "display_data"
    },
    {
     "data": {
      "text/html": [
       "'absolute losses &amp; gains:'"
      ],
      "text/latex": [
       "'absolute losses \\& gains:'"
      ],
      "text/markdown": [
       "'absolute losses &amp; gains:'"
      ],
      "text/plain": [
       "[1] \"absolute losses & gains:\""
      ]
     },
     "metadata": {},
     "output_type": "display_data"
    },
    {
     "data": {
      "text/html": [
       "6"
      ],
      "text/latex": [
       "6"
      ],
      "text/markdown": [
       "6"
      ],
      "text/plain": [
       "[1] 6"
      ]
     },
     "metadata": {},
     "output_type": "display_data"
    },
    {
     "data": {
      "text/html": [
       "0"
      ],
      "text/latex": [
       "0"
      ],
      "text/markdown": [
       "0"
      ],
      "text/plain": [
       "[1] 0"
      ]
     },
     "metadata": {},
     "output_type": "display_data"
    },
    {
     "data": {
      "text/html": [
       "<table class=\"dataframe\">\n",
       "<caption>A data.frame: 6 × 50</caption>\n",
       "<thead>\n",
       "\t<tr><th></th><th scope=col>TS559_position</th><th scope=col>KOD1_position</th><th scope=col>strand</th><th scope=col>growth_phase</th><th scope=col>metabolic_condition</th><th scope=col>methylation_frequency_TK2304_rep1</th><th scope=col>mC_count_TK2304_rep1</th><th scope=col>coverage_TK2304_rep1</th><th scope=col>methylation_frequency_TK2304_rep2</th><th scope=col>mC_count_TK2304_rep2</th><th scope=col>⋯</th><th scope=col>amino_acid_sequence</th><th scope=col>amino_acid_ID</th><th scope=col>local_41bp_predicted_fold</th><th scope=col>m5C_position_fold</th><th scope=col>MFE</th><th scope=col>associated_TSS_id</th><th scope=col>TSS_direction</th><th scope=col>TSS_description</th><th scope=col>total_annotations</th><th scope=col>alternate_annotations</th></tr>\n",
       "\t<tr><th></th><th scope=col>&lt;int&gt;</th><th scope=col>&lt;chr&gt;</th><th scope=col>&lt;chr&gt;</th><th scope=col>&lt;chr&gt;</th><th scope=col>&lt;chr&gt;</th><th scope=col>&lt;dbl&gt;</th><th scope=col>&lt;int&gt;</th><th scope=col>&lt;int&gt;</th><th scope=col>&lt;dbl&gt;</th><th scope=col>&lt;int&gt;</th><th scope=col>⋯</th><th scope=col>&lt;chr&gt;</th><th scope=col>&lt;chr&gt;</th><th scope=col>&lt;chr&gt;</th><th scope=col>&lt;chr&gt;</th><th scope=col>&lt;chr&gt;</th><th scope=col>&lt;chr&gt;</th><th scope=col>&lt;chr&gt;</th><th scope=col>&lt;chr&gt;</th><th scope=col>&lt;int&gt;</th><th scope=col>&lt;chr&gt;</th></tr>\n",
       "</thead>\n",
       "<tbody>\n",
       "\t<tr><th scope=row>1</th><td>2025555</td><td>2026546</td><td>+</td><td>stationary</td><td>S</td><td>0.00</td><td>2</td><td>3925</td><td>0.00</td><td>0</td><td>⋯</td><td>.  </td><td>.</td><td>...||||||||....||||||...|||||||.......|||</td><td>base_paired    </td><td>-440.69</td><td>.</td><td>.</td><td>.</td><td>1</td><td>NA</td></tr>\n",
       "\t<tr><th scope=row>2</th><td>2025624</td><td>2026615</td><td>+</td><td>stationary</td><td>S</td><td>0.00</td><td>3</td><td>1674</td><td>0.00</td><td>0</td><td>⋯</td><td>.  </td><td>.</td><td>..||||||.................................</td><td>single_stranded</td><td>-440.69</td><td>.</td><td>.</td><td>.</td><td>1</td><td>NA</td></tr>\n",
       "\t<tr><th scope=row>3</th><td>2025625</td><td>2026616</td><td>+</td><td>stationary</td><td>S</td><td>0.00</td><td>1</td><td>1675</td><td>0.00</td><td>2</td><td>⋯</td><td>.  </td><td>.</td><td>.||||||..................................</td><td>single_stranded</td><td>-440.69</td><td>.</td><td>.</td><td>.</td><td>1</td><td>NA</td></tr>\n",
       "\t<tr><th scope=row>4</th><td>2025645</td><td>2026636</td><td>+</td><td>stationary</td><td>S</td><td>0.00</td><td>1</td><td>2289</td><td>0.00</td><td>0</td><td>⋯</td><td>.  </td><td>.</td><td>.......................||||||.....||||||.</td><td>single_stranded</td><td>-440.69</td><td>.</td><td>.</td><td>.</td><td>1</td><td>NA</td></tr>\n",
       "\t<tr><th scope=row>5</th><td>2023357</td><td>2024348</td><td>+</td><td>stationary</td><td>S</td><td>0.02</td><td>3</td><td> 128</td><td>0.01</td><td>3</td><td>⋯</td><td>.  </td><td>.</td><td>....|||||||||........||||...||||||-------</td><td>single_stranded</td><td>-224.51</td><td>.</td><td>.</td><td>.</td><td>1</td><td>NA</td></tr>\n",
       "\t<tr><th scope=row>6</th><td>1728374</td><td>1729365</td><td>+</td><td>stationary</td><td>S</td><td>0.00</td><td>0</td><td> 133</td><td>0.00</td><td>0</td><td>⋯</td><td>CUU</td><td>L</td><td>...........||||||..|||.....|||||.........</td><td>base_paired    </td><td>-20.17 </td><td>.</td><td>.</td><td>.</td><td>1</td><td>NA</td></tr>\n",
       "</tbody>\n",
       "</table>\n"
      ],
      "text/latex": [
       "A data.frame: 6 × 50\n",
       "\\begin{tabular}{r|lllllllllllllllllllll}\n",
       "  & TS559\\_position & KOD1\\_position & strand & growth\\_phase & metabolic\\_condition & methylation\\_frequency\\_TK2304\\_rep1 & mC\\_count\\_TK2304\\_rep1 & coverage\\_TK2304\\_rep1 & methylation\\_frequency\\_TK2304\\_rep2 & mC\\_count\\_TK2304\\_rep2 & ⋯ & amino\\_acid\\_sequence & amino\\_acid\\_ID & local\\_41bp\\_predicted\\_fold & m5C\\_position\\_fold & MFE & associated\\_TSS\\_id & TSS\\_direction & TSS\\_description & total\\_annotations & alternate\\_annotations\\\\\n",
       "  & <int> & <chr> & <chr> & <chr> & <chr> & <dbl> & <int> & <int> & <dbl> & <int> & ⋯ & <chr> & <chr> & <chr> & <chr> & <chr> & <chr> & <chr> & <chr> & <int> & <chr>\\\\\n",
       "\\hline\n",
       "\t1 & 2025555 & 2026546 & + & stationary & S & 0.00 & 2 & 3925 & 0.00 & 0 & ⋯ & .   & . & ...\\textbar{}\\textbar{}\\textbar{}\\textbar{}\\textbar{}\\textbar{}\\textbar{}\\textbar{}....\\textbar{}\\textbar{}\\textbar{}\\textbar{}\\textbar{}\\textbar{}...\\textbar{}\\textbar{}\\textbar{}\\textbar{}\\textbar{}\\textbar{}\\textbar{}.......\\textbar{}\\textbar{}\\textbar{} & base\\_paired     & -440.69 & . & . & . & 1 & NA\\\\\n",
       "\t2 & 2025624 & 2026615 & + & stationary & S & 0.00 & 3 & 1674 & 0.00 & 0 & ⋯ & .   & . & ..\\textbar{}\\textbar{}\\textbar{}\\textbar{}\\textbar{}\\textbar{}................................. & single\\_stranded & -440.69 & . & . & . & 1 & NA\\\\\n",
       "\t3 & 2025625 & 2026616 & + & stationary & S & 0.00 & 1 & 1675 & 0.00 & 2 & ⋯ & .   & . & .\\textbar{}\\textbar{}\\textbar{}\\textbar{}\\textbar{}\\textbar{}.................................. & single\\_stranded & -440.69 & . & . & . & 1 & NA\\\\\n",
       "\t4 & 2025645 & 2026636 & + & stationary & S & 0.00 & 1 & 2289 & 0.00 & 0 & ⋯ & .   & . & .......................\\textbar{}\\textbar{}\\textbar{}\\textbar{}\\textbar{}\\textbar{}.....\\textbar{}\\textbar{}\\textbar{}\\textbar{}\\textbar{}\\textbar{}. & single\\_stranded & -440.69 & . & . & . & 1 & NA\\\\\n",
       "\t5 & 2023357 & 2024348 & + & stationary & S & 0.02 & 3 &  128 & 0.01 & 3 & ⋯ & .   & . & ....\\textbar{}\\textbar{}\\textbar{}\\textbar{}\\textbar{}\\textbar{}\\textbar{}\\textbar{}\\textbar{}........\\textbar{}\\textbar{}\\textbar{}\\textbar{}...\\textbar{}\\textbar{}\\textbar{}\\textbar{}\\textbar{}\\textbar{}------- & single\\_stranded & -224.51 & . & . & . & 1 & NA\\\\\n",
       "\t6 & 1728374 & 1729365 & + & stationary & S & 0.00 & 0 &  133 & 0.00 & 0 & ⋯ & CUU & L & ...........\\textbar{}\\textbar{}\\textbar{}\\textbar{}\\textbar{}\\textbar{}..\\textbar{}\\textbar{}\\textbar{}.....\\textbar{}\\textbar{}\\textbar{}\\textbar{}\\textbar{}......... & base\\_paired     & -20.17  & . & . & . & 1 & NA\\\\\n",
       "\\end{tabular}\n"
      ],
      "text/markdown": [
       "\n",
       "A data.frame: 6 × 50\n",
       "\n",
       "| <!--/--> | TS559_position &lt;int&gt; | KOD1_position &lt;chr&gt; | strand &lt;chr&gt; | growth_phase &lt;chr&gt; | metabolic_condition &lt;chr&gt; | methylation_frequency_TK2304_rep1 &lt;dbl&gt; | mC_count_TK2304_rep1 &lt;int&gt; | coverage_TK2304_rep1 &lt;int&gt; | methylation_frequency_TK2304_rep2 &lt;dbl&gt; | mC_count_TK2304_rep2 &lt;int&gt; | ⋯ ⋯ | amino_acid_sequence &lt;chr&gt; | amino_acid_ID &lt;chr&gt; | local_41bp_predicted_fold &lt;chr&gt; | m5C_position_fold &lt;chr&gt; | MFE &lt;chr&gt; | associated_TSS_id &lt;chr&gt; | TSS_direction &lt;chr&gt; | TSS_description &lt;chr&gt; | total_annotations &lt;int&gt; | alternate_annotations &lt;chr&gt; |\n",
       "|---|---|---|---|---|---|---|---|---|---|---|---|---|---|---|---|---|---|---|---|---|---|\n",
       "| 1 | 2025555 | 2026546 | + | stationary | S | 0.00 | 2 | 3925 | 0.00 | 0 | ⋯ | .   | . | ...||||||||....||||||...|||||||.......||| | base_paired     | -440.69 | . | . | . | 1 | NA |\n",
       "| 2 | 2025624 | 2026615 | + | stationary | S | 0.00 | 3 | 1674 | 0.00 | 0 | ⋯ | .   | . | ..||||||................................. | single_stranded | -440.69 | . | . | . | 1 | NA |\n",
       "| 3 | 2025625 | 2026616 | + | stationary | S | 0.00 | 1 | 1675 | 0.00 | 2 | ⋯ | .   | . | .||||||.................................. | single_stranded | -440.69 | . | . | . | 1 | NA |\n",
       "| 4 | 2025645 | 2026636 | + | stationary | S | 0.00 | 1 | 2289 | 0.00 | 0 | ⋯ | .   | . | .......................||||||.....||||||. | single_stranded | -440.69 | . | . | . | 1 | NA |\n",
       "| 5 | 2023357 | 2024348 | + | stationary | S | 0.02 | 3 |  128 | 0.01 | 3 | ⋯ | .   | . | ....|||||||||........||||...||||||------- | single_stranded | -224.51 | . | . | . | 1 | NA |\n",
       "| 6 | 1728374 | 1729365 | + | stationary | S | 0.00 | 0 |  133 | 0.00 | 0 | ⋯ | CUU | L | ...........||||||..|||.....|||||......... | base_paired     | -20.17  | . | . | . | 1 | NA |\n",
       "\n"
      ],
      "text/plain": [
       "  TS559_position KOD1_position strand growth_phase metabolic_condition\n",
       "1 2025555        2026546       +      stationary   S                  \n",
       "2 2025624        2026615       +      stationary   S                  \n",
       "3 2025625        2026616       +      stationary   S                  \n",
       "4 2025645        2026636       +      stationary   S                  \n",
       "5 2023357        2024348       +      stationary   S                  \n",
       "6 1728374        1729365       +      stationary   S                  \n",
       "  methylation_frequency_TK2304_rep1 mC_count_TK2304_rep1 coverage_TK2304_rep1\n",
       "1 0.00                              2                    3925                \n",
       "2 0.00                              3                    1674                \n",
       "3 0.00                              1                    1675                \n",
       "4 0.00                              1                    2289                \n",
       "5 0.02                              3                     128                \n",
       "6 0.00                              0                     133                \n",
       "  methylation_frequency_TK2304_rep2 mC_count_TK2304_rep2 ⋯ amino_acid_sequence\n",
       "1 0.00                              0                    ⋯ .                  \n",
       "2 0.00                              0                    ⋯ .                  \n",
       "3 0.00                              2                    ⋯ .                  \n",
       "4 0.00                              0                    ⋯ .                  \n",
       "5 0.01                              3                    ⋯ .                  \n",
       "6 0.00                              0                    ⋯ CUU                \n",
       "  amino_acid_ID local_41bp_predicted_fold                 m5C_position_fold\n",
       "1 .             ...||||||||....||||||...|||||||.......||| base_paired      \n",
       "2 .             ..||||||................................. single_stranded  \n",
       "3 .             .||||||.................................. single_stranded  \n",
       "4 .             .......................||||||.....||||||. single_stranded  \n",
       "5 .             ....|||||||||........||||...||||||------- single_stranded  \n",
       "6 L             ...........||||||..|||.....|||||......... base_paired      \n",
       "  MFE     associated_TSS_id TSS_direction TSS_description total_annotations\n",
       "1 -440.69 .                 .             .               1                \n",
       "2 -440.69 .                 .             .               1                \n",
       "3 -440.69 .                 .             .               1                \n",
       "4 -440.69 .                 .             .               1                \n",
       "5 -224.51 .                 .             .               1                \n",
       "6 -20.17  .                 .             .               1                \n",
       "  alternate_annotations\n",
       "1 NA                   \n",
       "2 NA                   \n",
       "3 NA                   \n",
       "4 NA                   \n",
       "5 NA                   \n",
       "6 NA                   "
      ]
     },
     "metadata": {},
     "output_type": "display_data"
    }
   ],
   "source": [
    "###strain TK2304\n",
    "\n",
    "defaultW <- getOption(\"warn\")\n",
    "options(warn = -1)\n",
    "\n",
    "\n",
    "#load CGmaps into session\n",
    "TK2304statS_CGmap_rep1 <-read.delim(\"../cgmaps/TK2304statS_totalRNA_Dec2016.CGmap\", sep='\\t', header=FALSE,col.names=cols) %>%\n",
    "    mutate(strain=\"TK2304\", growth_phase='stationary', metabolic_condition=\"S\", replicate=\"rep1\")\n",
    "\n",
    "TK2304statS_CGmap_rep2 <-read.delim(\"../cgmaps/TK2304statS_totalRNA_Oct2020.CGmap\", sep='\\t', header=FALSE,col.names=cols) %>%\n",
    "    mutate(strain=\"TK2304\", growth_phase='stationary', metabolic_condition=\"S\", replicate=\"rep2\")\n",
    "\n",
    "# process raw CGmaps\n",
    "TK2304statS_rep1_df <- processCGmap(TK2304statS_CGmap_rep1)\n",
    "TK2304statS_rep2_df <- processCGmap(TK2304statS_CGmap_rep2)\n",
    "\n",
    "#merge reps\n",
    "TK2304statS <- merge_del_reps(x=TK2304statS_rep1_df, y=TK2304statS_rep2_df, strain='TK2304')\n",
    "\n",
    "# get quantiles\n",
    "\"quantiles:\"\n",
    "get_quantiles(strain_cgmap = TK2304statS, strain=\"TK2304\", min_cov = 47)\n",
    "\n",
    "#compare methylation frequencies & annotate\n",
    "TK2304statS_anal <- CompareCGmap(strain_cgmap = TK2304statS, \n",
    "                                TS559_cgmap = TS559statS, \n",
    "                                strain=\"TK2304\", \n",
    "                                annotation = annotation,\n",
    "                                min_cov = 47)\n",
    "\n",
    "write.table(TK2304statS_anal, file = \"../processed_cgmaps/TK2304statS_annotated\", sep = \"\\t\", row.names = F)\n",
    "\n",
    "#enumerate gains & losses\n",
    "\"losses & gains:\"\n",
    "nrow( TK2304statS_anal %>% filter(log2FC < 0) )\n",
    "nrow( TK2304statS_anal %>% filter(log2FC > 0) )\n",
    "\n",
    "\n",
    "\"absolute losses & gains:\"\n",
    "nrow( TK2304statS_anal %>% filter(difference == \"ABS LOSS\") )\n",
    "nrow( TK2304statS_anal %>% filter(difference == \"ABS GAIN\") )\n",
    "\n",
    "head(TK2304statS_anal)\n",
    "\n",
    "# TK2304statS_cat <- enumerate_hiconf_2reps(strain_cgmap = TK2304statS, strain=\"TK2304\",min_cov = 47)\n",
    "\n",
    "Sys.sleep(10)"
   ]
  },
  {
   "cell_type": "code",
   "execution_count": 20,
   "metadata": {},
   "outputs": [],
   "source": [
    "# ###strain TK2045Ndel\n",
    "\n",
    "# defaultW <- getOption(\"warn\")\n",
    "# options(warn = -1)\n",
    "\n",
    "\n",
    "# #load CGmaps into session\n",
    "# TK2045NdelstatS_CGmap_rep1 <-read.delim(\"../cgmaps/TK2045Ndel_statS_totalRNA_rep1.CGmap\", sep='\\t', header=FALSE,col.names=cols) %>%\n",
    "#     mutate(strain=\"TK2045Ndel\", growth_phase='stationary', metabolic_condition=\"S\", replicate=\"rep1\")\n",
    "\n",
    "# TK2045NdelstatS_CGmap_rep2 <-read.delim(\"../cgmaps/TK2045Ndel_statS_totalRNA_rep2.CGmap\", sep='\\t', header=FALSE,col.names=cols) %>%\n",
    "#     mutate(strain=\"TK2045Ndel\", growth_phase='stationary', metabolic_condition=\"S\", replicate=\"rep2\")\n",
    "\n",
    "# # process raw CGmaps\n",
    "# TK2045NdelstatS_rep1_df <- processCGmap(TK2045NdelstatS_CGmap_rep1)\n",
    "# TK2045NdelstatS_rep2_df <- processCGmap(TK2045NdelstatS_CGmap_rep2)\n",
    "\n",
    "# #merge reps\n",
    "# TK2045NdelstatS <- merge_del_reps(x=TK2045NdelstatS_rep1_df, y=TK2045NdelstatS_rep2_df, strain='TK2045Ndel')\n",
    "\n",
    "# # get quantiles\n",
    "# \"quantiles:\"\n",
    "# get_quantiles(strain_cgmap = TK2045NdelstatS, strain=\"TK2045Ndel\", min_cov = 47)\n",
    "\n",
    "# #compare methylation frequencies & annotate\n",
    "# TK2045NdelstatS_anal <- CompareCGmap(strain_cgmap = TK2045NdelstatS, \n",
    "#                                 TS559_cgmap = TS559statS, \n",
    "#                                 strain=\"TK2045Ndel\", \n",
    "#                                 annotation = annotation,\n",
    "#                                 min_cov = 47)\n",
    "\n",
    "# write.table(TK2045NdelstatS_anal, file = \"../processed_cgmaps/TK2045NdelstatS_annotated\", sep = \"\\t\", row.names = F)\n",
    "\n",
    "# #enumerate gains & losses\n",
    "# \"losses & gains:\"\n",
    "# nrow( TK2045NdelstatS_anal %>% filter(log2FC < 0) )\n",
    "# nrow( TK2045NdelstatS_anal %>% filter(log2FC > 0) )\n",
    "\n",
    "# \"absolute losses & gains:\"\n",
    "# nrow( TK2045NdelstatS_anal %>% filter(difference == \"ABS LOSS\") )\n",
    "# nrow( TK2045NdelstatS_anal %>% filter(difference == \"ABS GAIN\") )\n",
    "\n",
    "# head(TK2045NdelstatS_anal)\n",
    "\n",
    "# TK2045NdelstatS_cat <- enumerate_hiconf_2reps(strain_cgmap = TK2045NdelstatS, strain=\"TK2045Ndel\",min_cov = 47)\n",
    "\n",
    "# Sys.sleep(10)"
   ]
  },
  {
   "cell_type": "code",
   "execution_count": 21,
   "metadata": {},
   "outputs": [
    {
     "data": {
      "text/html": [
       "'quantiles:'"
      ],
      "text/latex": [
       "'quantiles:'"
      ],
      "text/markdown": [
       "'quantiles:'"
      ],
      "text/plain": [
       "[1] \"quantiles:\""
      ]
     },
     "metadata": {},
     "output_type": "display_data"
    },
    {
     "data": {
      "text/html": [
       "<style>\n",
       ".list-inline {list-style: none; margin:0; padding: 0}\n",
       ".list-inline>li {display: inline-block}\n",
       ".list-inline>li:not(:last-child)::after {content: \"\\00b7\"; padding: 0 .5ex}\n",
       "</style>\n",
       "<ol class=list-inline><li>7</li><li>9</li></ol>\n"
      ],
      "text/latex": [
       "\\begin{enumerate*}\n",
       "\\item 7\n",
       "\\item 9\n",
       "\\end{enumerate*}\n"
      ],
      "text/markdown": [
       "1. 7\n",
       "2. 9\n",
       "\n",
       "\n"
      ],
      "text/plain": [
       "[1] 7 9"
      ]
     },
     "metadata": {},
     "output_type": "display_data"
    }
   ],
   "source": [
    "###strain TK0234_0224\n",
    "\n",
    "defaultW <- getOption(\"warn\")\n",
    "options(warn = -1)\n",
    "\n",
    "\n",
    "#load CGmaps into session\n",
    "TK0234_0224statS_CGmap_rep1 <-read.delim(\"../cgmaps/TK0234_0224_statS_totalRNA_rep1.CGmap\", sep='\\t', header=FALSE,col.names=cols) %>%\n",
    "    mutate(strain=\"TK0234_0224\", growth_phase='stationary', metabolic_condition=\"S\", replicate=\"rep1\")\n",
    "\n",
    "TK0234_0224statS_CGmap_rep2 <-read.delim(\"../cgmaps/TK0234_0224_statS_totalRNA_rep2.CGmap\", sep='\\t', header=FALSE,col.names=cols) %>%\n",
    "    mutate(strain=\"TK0234_0224\", growth_phase='stationary', metabolic_condition=\"S\", replicate=\"rep2\")\n",
    "\n",
    "# process raw CGmaps\n",
    "TK0234_0224statS_rep1_df <- processCGmap(TK0234_0224statS_CGmap_rep1)\n",
    "TK0234_0224statS_rep2_df <- processCGmap(TK0234_0224statS_CGmap_rep2)\n",
    "\n",
    "#merge reps\n",
    "TK0234_0224statS <- merge_del_reps(x=TK0234_0224statS_rep1_df, y=TK0234_0224statS_rep2_df, strain='TK0234_0224')\n",
    "\n",
    "# get quantiles\n",
    "\"quantiles:\"\n",
    "get_quantiles(strain_cgmap = TK0234_0224statS, strain=\"TK0234_0224\", min_cov = 47)\n",
    "\n",
    "#compare methylation frequencies & annotate\n",
    "TK0234_0224statS_anal <- CompareCGmap(strain_cgmap = TK0234_0224statS, \n",
    "                                TS559_cgmap = TS559statS, \n",
    "                                strain=\"TK0234_0224\", \n",
    "                                annotation = annotation,\n",
    "                                min_cov = 47)\n",
    "\n",
    "write.table(TK0234_0224statS_anal, file = \"../processed_cgmaps/TK0234_0224statS_annotated\", sep = \"\\t\", row.names = F)\n",
    "\n",
    "#enumerate gains & losses\n",
    "\"losses & gains:\"\n",
    "nrow( TK0234_0224statS_anal %>% filter(log2FC < 0) )\n",
    "nrow( TK0234_0224statS_anal %>% filter(log2FC > 0) )\n",
    "\n",
    "\"absolute losses & gains:\"\n",
    "nrow( TK0234_0224statS_anal %>% filter(difference == \"ABS LOSS\") )\n",
    "nrow( TK0234_0224statS_anal %>% filter(difference == \"ABS GAIN\") )\n",
    "\n",
    "head(TK0234_0224statS_anal)\n",
    "\n",
    "# TK0234_0224statS_cat <- enumerate_hiconf_2reps(strain_cgmap = TK0234_0224statS, strain=\"TK0234_0224\",min_cov = 47)\n",
    "\n",
    "Sys.sleep(10)"
   ]
  },
  {
   "cell_type": "code",
   "execution_count": 22,
   "metadata": {},
   "outputs": [
    {
     "data": {
      "text/html": [
       "'quantiles:'"
      ],
      "text/latex": [
       "'quantiles:'"
      ],
      "text/markdown": [
       "'quantiles:'"
      ],
      "text/plain": [
       "[1] \"quantiles:\""
      ]
     },
     "metadata": {},
     "output_type": "display_data"
    },
    {
     "data": {
      "text/html": [
       "<style>\n",
       ".list-inline {list-style: none; margin:0; padding: 0}\n",
       ".list-inline>li {display: inline-block}\n",
       ".list-inline>li:not(:last-child)::after {content: \"\\00b7\"; padding: 0 .5ex}\n",
       "</style>\n",
       "<ol class=list-inline><li>7</li><li>9</li></ol>\n"
      ],
      "text/latex": [
       "\\begin{enumerate*}\n",
       "\\item 7\n",
       "\\item 9\n",
       "\\end{enumerate*}\n"
      ],
      "text/markdown": [
       "1. 7\n",
       "2. 9\n",
       "\n",
       "\n"
      ],
      "text/plain": [
       "[1] 7 9"
      ]
     },
     "metadata": {},
     "output_type": "display_data"
    }
   ],
   "source": [
    "###strain TK0234_0729\n",
    "\n",
    "defaultW <- getOption(\"warn\")\n",
    "options(warn = -1)\n",
    "\n",
    "\n",
    "#load CGmaps into session\n",
    "TK0234_0729statS_CGmap_rep1 <-read.delim(\"../cgmaps/TK0234_0729_statS_totalRNA_rep1.CGmap\", sep='\\t', header=FALSE,col.names=cols) %>%\n",
    "    mutate(strain=\"TK0234_0729\", growth_phase='stationary', metabolic_condition=\"S\", replicate=\"rep1\")\n",
    "\n",
    "TK0234_0729statS_CGmap_rep2 <-read.delim(\"../cgmaps/TK0234_0729_statS_totalRNA_rep2.CGmap\", sep='\\t', header=FALSE,col.names=cols) %>%\n",
    "    mutate(strain=\"TK0234_0729\", growth_phase='stationary', metabolic_condition=\"S\", replicate=\"rep2\")\n",
    "\n",
    "# process raw CGmaps\n",
    "TK0234_0729statS_rep1_df <- processCGmap(TK0234_0729statS_CGmap_rep1)\n",
    "TK0234_0729statS_rep2_df <- processCGmap(TK0234_0729statS_CGmap_rep2)\n",
    "\n",
    "#merge reps\n",
    "TK0234_0729statS <- merge_del_reps(x=TK0234_0729statS_rep1_df, y=TK0234_0729statS_rep2_df, strain='TK0234_0729')\n",
    "\n",
    "# get quantiles\n",
    "\"quantiles:\"\n",
    "get_quantiles(strain_cgmap = TK0234_0729statS, strain=\"TK0234_0729\", min_cov = 47)\n",
    "\n",
    "#compare methy8lation frequencies & annotate\n",
    "TK0234_0729statS_anal <- CompareCGmap(strain_cgmap = TK0234_0729statS, \n",
    "                                TS559_cgmap = TS559statS, \n",
    "                                strain=\"TK0234_0729\", \n",
    "                                annotation = annotation,\n",
    "                                min_cov = 47)\n",
    "\n",
    "write.table(TK0234_0729statS_anal, file = \"../processed_cgmaps/TK0234_0729statS_annotated\", sep = \"\\t\", row.names = F)\n",
    "\n",
    "#enumerate gains & losses\n",
    "\"losses & gains:\"\n",
    "nrow( TK0234_0729statS_anal %>% filter(log2FC < 0) )\n",
    "nrow( TK0234_0729statS_anal %>% filter(log2FC > 0) )\n",
    "\n",
    "\"absolute losses & gains:\"\n",
    "nrow( TK0234_0729statS_anal %>% filter(difference == \"ABS LOSS\") )\n",
    "nrow( TK0234_0729statS_anal %>% filter(difference == \"ABS GAIN\") )\n",
    "\n",
    "head(TK0234_0729statS_anal)\n",
    "\n",
    "# TK0234_0729statS_cat <- enumerate_hiconf_2reps(strain_cgmap = TK0234_0729statS, strain=\"TK0234_0729\",min_cov = 47)\n",
    "\n",
    "Sys.sleep(15)"
   ]
  },
  {
   "cell_type": "code",
   "execution_count": 12,
   "metadata": {},
   "outputs": [
    {
     "data": {
      "text/html": [
       "'quantiles:'"
      ],
      "text/latex": [
       "'quantiles:'"
      ],
      "text/markdown": [
       "'quantiles:'"
      ],
      "text/plain": [
       "[1] \"quantiles:\""
      ]
     },
     "metadata": {},
     "output_type": "display_data"
    },
    {
     "data": {
      "text/html": [
       "<style>\n",
       ".list-inline {list-style: none; margin:0; padding: 0}\n",
       ".list-inline>li {display: inline-block}\n",
       ".list-inline>li:not(:last-child)::after {content: \"\\00b7\"; padding: 0 .5ex}\n",
       "</style>\n",
       "<ol class=list-inline><li>7</li><li>6</li></ol>\n"
      ],
      "text/latex": [
       "\\begin{enumerate*}\n",
       "\\item 7\n",
       "\\item 6\n",
       "\\end{enumerate*}\n"
      ],
      "text/markdown": [
       "1. 7\n",
       "2. 6\n",
       "\n",
       "\n"
      ],
      "text/plain": [
       "[1] 7 6"
      ]
     },
     "metadata": {},
     "output_type": "display_data"
    },
    {
     "data": {
      "text/html": [
       "'losses &amp; gains:'"
      ],
      "text/latex": [
       "'losses \\& gains:'"
      ],
      "text/markdown": [
       "'losses &amp; gains:'"
      ],
      "text/plain": [
       "[1] \"losses & gains:\""
      ]
     },
     "metadata": {},
     "output_type": "display_data"
    },
    {
     "data": {
      "text/html": [
       "17"
      ],
      "text/latex": [
       "17"
      ],
      "text/markdown": [
       "17"
      ],
      "text/plain": [
       "[1] 17"
      ]
     },
     "metadata": {},
     "output_type": "display_data"
    },
    {
     "data": {
      "text/html": [
       "6"
      ],
      "text/latex": [
       "6"
      ],
      "text/markdown": [
       "6"
      ],
      "text/plain": [
       "[1] 6"
      ]
     },
     "metadata": {},
     "output_type": "display_data"
    },
    {
     "data": {
      "text/html": [
       "'absolute losses &amp; gains:'"
      ],
      "text/latex": [
       "'absolute losses \\& gains:'"
      ],
      "text/markdown": [
       "'absolute losses &amp; gains:'"
      ],
      "text/plain": [
       "[1] \"absolute losses & gains:\""
      ]
     },
     "metadata": {},
     "output_type": "display_data"
    },
    {
     "data": {
      "text/html": [
       "17"
      ],
      "text/latex": [
       "17"
      ],
      "text/markdown": [
       "17"
      ],
      "text/plain": [
       "[1] 17"
      ]
     },
     "metadata": {},
     "output_type": "display_data"
    },
    {
     "data": {
      "text/html": [
       "5"
      ],
      "text/latex": [
       "5"
      ],
      "text/markdown": [
       "5"
      ],
      "text/plain": [
       "[1] 5"
      ]
     },
     "metadata": {},
     "output_type": "display_data"
    },
    {
     "data": {
      "text/html": [
       "<table class=\"dataframe\">\n",
       "<caption>A data.frame: 6 × 50</caption>\n",
       "<thead>\n",
       "\t<tr><th></th><th scope=col>TS559_position</th><th scope=col>KOD1_position</th><th scope=col>strand</th><th scope=col>growth_phase</th><th scope=col>metabolic_condition</th><th scope=col>methylation_frequency_TK2304_1935_rep1</th><th scope=col>mC_count_TK2304_1935_rep1</th><th scope=col>coverage_TK2304_1935_rep1</th><th scope=col>methylation_frequency_TK2304_1935_rep2</th><th scope=col>mC_count_TK2304_1935_rep2</th><th scope=col>⋯</th><th scope=col>amino_acid_sequence</th><th scope=col>amino_acid_ID</th><th scope=col>local_41bp_predicted_fold</th><th scope=col>m5C_position_fold</th><th scope=col>MFE</th><th scope=col>associated_TSS_id</th><th scope=col>TSS_direction</th><th scope=col>TSS_description</th><th scope=col>total_annotations</th><th scope=col>alternate_annotations</th></tr>\n",
       "\t<tr><th></th><th scope=col>&lt;int&gt;</th><th scope=col>&lt;chr&gt;</th><th scope=col>&lt;chr&gt;</th><th scope=col>&lt;chr&gt;</th><th scope=col>&lt;chr&gt;</th><th scope=col>&lt;dbl&gt;</th><th scope=col>&lt;int&gt;</th><th scope=col>&lt;int&gt;</th><th scope=col>&lt;dbl&gt;</th><th scope=col>&lt;int&gt;</th><th scope=col>⋯</th><th scope=col>&lt;chr&gt;</th><th scope=col>&lt;chr&gt;</th><th scope=col>&lt;chr&gt;</th><th scope=col>&lt;chr&gt;</th><th scope=col>&lt;chr&gt;</th><th scope=col>&lt;chr&gt;</th><th scope=col>&lt;chr&gt;</th><th scope=col>&lt;chr&gt;</th><th scope=col>&lt;int&gt;</th><th scope=col>&lt;chr&gt;</th></tr>\n",
       "</thead>\n",
       "<tbody>\n",
       "\t<tr><th scope=row>1</th><td>1385895</td><td>1386886</td><td>-</td><td>stationary</td><td>S</td><td>0.05</td><td>218</td><td>4057</td><td>0.05</td><td>165</td><td>⋯</td><td>ACC</td><td>T</td><td>|......||||||................|..|..||||..</td><td>single_stranded</td><td>-134.15</td><td>.           </td><td>.</td><td>.      </td><td>1</td><td>NA</td></tr>\n",
       "\t<tr><th scope=row>2</th><td> 578337</td><td>579328 </td><td>+</td><td>stationary</td><td>S</td><td>0.05</td><td> 88</td><td>1641</td><td>0.04</td><td> 66</td><td>⋯</td><td>.  </td><td>.</td><td>.                                        </td><td>NA             </td><td>.      </td><td>TTS0579315_+</td><td>+</td><td>primary</td><td>1</td><td>NA</td></tr>\n",
       "\t<tr><th scope=row>3</th><td>2026306</td><td>2027297</td><td>+</td><td>stationary</td><td>S</td><td>0.06</td><td> 73</td><td>1324</td><td>0.06</td><td> 81</td><td>⋯</td><td>.  </td><td>.</td><td>....|.......||||....|||...|||||||||...|||</td><td>base_paired    </td><td>-440.69</td><td>.           </td><td>.</td><td>.      </td><td>1</td><td>NA</td></tr>\n",
       "\t<tr><th scope=row>4</th><td> 931389</td><td>932380 </td><td>-</td><td>stationary</td><td>S</td><td>0.13</td><td> 53</td><td> 421</td><td>0.08</td><td> 41</td><td>⋯</td><td>GCC</td><td>A</td><td>----.............................|||||||.</td><td>single_stranded</td><td>-2.42  </td><td>TTS0932396_-</td><td>-</td><td>primary</td><td>1</td><td>NA</td></tr>\n",
       "\t<tr><th scope=row>5</th><td> 461434</td><td>462425 </td><td>+</td><td>stationary</td><td>S</td><td>0.10</td><td> 52</td><td> 541</td><td>0.06</td><td> 51</td><td>⋯</td><td>.  </td><td>.</td><td>.                                        </td><td>NA             </td><td>.      </td><td>.           </td><td>.</td><td>.      </td><td>0</td><td>NA</td></tr>\n",
       "\t<tr><th scope=row>6</th><td>2025555</td><td>2026546</td><td>+</td><td>stationary</td><td>S</td><td>0.00</td><td>  2</td><td>4988</td><td>0.00</td><td>  1</td><td>⋯</td><td>.  </td><td>.</td><td>...||||||||....||||||...|||||||.......|||</td><td>base_paired    </td><td>-440.69</td><td>.           </td><td>.</td><td>.      </td><td>1</td><td>NA</td></tr>\n",
       "</tbody>\n",
       "</table>\n"
      ],
      "text/latex": [
       "A data.frame: 6 × 50\n",
       "\\begin{tabular}{r|lllllllllllllllllllll}\n",
       "  & TS559\\_position & KOD1\\_position & strand & growth\\_phase & metabolic\\_condition & methylation\\_frequency\\_TK2304\\_1935\\_rep1 & mC\\_count\\_TK2304\\_1935\\_rep1 & coverage\\_TK2304\\_1935\\_rep1 & methylation\\_frequency\\_TK2304\\_1935\\_rep2 & mC\\_count\\_TK2304\\_1935\\_rep2 & ⋯ & amino\\_acid\\_sequence & amino\\_acid\\_ID & local\\_41bp\\_predicted\\_fold & m5C\\_position\\_fold & MFE & associated\\_TSS\\_id & TSS\\_direction & TSS\\_description & total\\_annotations & alternate\\_annotations\\\\\n",
       "  & <int> & <chr> & <chr> & <chr> & <chr> & <dbl> & <int> & <int> & <dbl> & <int> & ⋯ & <chr> & <chr> & <chr> & <chr> & <chr> & <chr> & <chr> & <chr> & <int> & <chr>\\\\\n",
       "\\hline\n",
       "\t1 & 1385895 & 1386886 & - & stationary & S & 0.05 & 218 & 4057 & 0.05 & 165 & ⋯ & ACC & T & \\textbar{}......\\textbar{}\\textbar{}\\textbar{}\\textbar{}\\textbar{}\\textbar{}................\\textbar{}..\\textbar{}..\\textbar{}\\textbar{}\\textbar{}\\textbar{}.. & single\\_stranded & -134.15 & .            & . & .       & 1 & NA\\\\\n",
       "\t2 &  578337 & 579328  & + & stationary & S & 0.05 &  88 & 1641 & 0.04 &  66 & ⋯ & .   & . & .                                         & NA              & .       & TTS0579315\\_+ & + & primary & 1 & NA\\\\\n",
       "\t3 & 2026306 & 2027297 & + & stationary & S & 0.06 &  73 & 1324 & 0.06 &  81 & ⋯ & .   & . & ....\\textbar{}.......\\textbar{}\\textbar{}\\textbar{}\\textbar{}....\\textbar{}\\textbar{}\\textbar{}...\\textbar{}\\textbar{}\\textbar{}\\textbar{}\\textbar{}\\textbar{}\\textbar{}\\textbar{}\\textbar{}...\\textbar{}\\textbar{}\\textbar{} & base\\_paired     & -440.69 & .            & . & .       & 1 & NA\\\\\n",
       "\t4 &  931389 & 932380  & - & stationary & S & 0.13 &  53 &  421 & 0.08 &  41 & ⋯ & GCC & A & ----.............................\\textbar{}\\textbar{}\\textbar{}\\textbar{}\\textbar{}\\textbar{}\\textbar{}. & single\\_stranded & -2.42   & TTS0932396\\_- & - & primary & 1 & NA\\\\\n",
       "\t5 &  461434 & 462425  & + & stationary & S & 0.10 &  52 &  541 & 0.06 &  51 & ⋯ & .   & . & .                                         & NA              & .       & .            & . & .       & 0 & NA\\\\\n",
       "\t6 & 2025555 & 2026546 & + & stationary & S & 0.00 &   2 & 4988 & 0.00 &   1 & ⋯ & .   & . & ...\\textbar{}\\textbar{}\\textbar{}\\textbar{}\\textbar{}\\textbar{}\\textbar{}\\textbar{}....\\textbar{}\\textbar{}\\textbar{}\\textbar{}\\textbar{}\\textbar{}...\\textbar{}\\textbar{}\\textbar{}\\textbar{}\\textbar{}\\textbar{}\\textbar{}.......\\textbar{}\\textbar{}\\textbar{} & base\\_paired     & -440.69 & .            & . & .       & 1 & NA\\\\\n",
       "\\end{tabular}\n"
      ],
      "text/markdown": [
       "\n",
       "A data.frame: 6 × 50\n",
       "\n",
       "| <!--/--> | TS559_position &lt;int&gt; | KOD1_position &lt;chr&gt; | strand &lt;chr&gt; | growth_phase &lt;chr&gt; | metabolic_condition &lt;chr&gt; | methylation_frequency_TK2304_1935_rep1 &lt;dbl&gt; | mC_count_TK2304_1935_rep1 &lt;int&gt; | coverage_TK2304_1935_rep1 &lt;int&gt; | methylation_frequency_TK2304_1935_rep2 &lt;dbl&gt; | mC_count_TK2304_1935_rep2 &lt;int&gt; | ⋯ ⋯ | amino_acid_sequence &lt;chr&gt; | amino_acid_ID &lt;chr&gt; | local_41bp_predicted_fold &lt;chr&gt; | m5C_position_fold &lt;chr&gt; | MFE &lt;chr&gt; | associated_TSS_id &lt;chr&gt; | TSS_direction &lt;chr&gt; | TSS_description &lt;chr&gt; | total_annotations &lt;int&gt; | alternate_annotations &lt;chr&gt; |\n",
       "|---|---|---|---|---|---|---|---|---|---|---|---|---|---|---|---|---|---|---|---|---|---|\n",
       "| 1 | 1385895 | 1386886 | - | stationary | S | 0.05 | 218 | 4057 | 0.05 | 165 | ⋯ | ACC | T | |......||||||................|..|..||||.. | single_stranded | -134.15 | .            | . | .       | 1 | NA |\n",
       "| 2 |  578337 | 579328  | + | stationary | S | 0.05 |  88 | 1641 | 0.04 |  66 | ⋯ | .   | . | .                                         | NA              | .       | TTS0579315_+ | + | primary | 1 | NA |\n",
       "| 3 | 2026306 | 2027297 | + | stationary | S | 0.06 |  73 | 1324 | 0.06 |  81 | ⋯ | .   | . | ....|.......||||....|||...|||||||||...||| | base_paired     | -440.69 | .            | . | .       | 1 | NA |\n",
       "| 4 |  931389 | 932380  | - | stationary | S | 0.13 |  53 |  421 | 0.08 |  41 | ⋯ | GCC | A | ----.............................|||||||. | single_stranded | -2.42   | TTS0932396_- | - | primary | 1 | NA |\n",
       "| 5 |  461434 | 462425  | + | stationary | S | 0.10 |  52 |  541 | 0.06 |  51 | ⋯ | .   | . | .                                         | NA              | .       | .            | . | .       | 0 | NA |\n",
       "| 6 | 2025555 | 2026546 | + | stationary | S | 0.00 |   2 | 4988 | 0.00 |   1 | ⋯ | .   | . | ...||||||||....||||||...|||||||.......||| | base_paired     | -440.69 | .            | . | .       | 1 | NA |\n",
       "\n"
      ],
      "text/plain": [
       "  TS559_position KOD1_position strand growth_phase metabolic_condition\n",
       "1 1385895        1386886       -      stationary   S                  \n",
       "2  578337        579328        +      stationary   S                  \n",
       "3 2026306        2027297       +      stationary   S                  \n",
       "4  931389        932380        -      stationary   S                  \n",
       "5  461434        462425        +      stationary   S                  \n",
       "6 2025555        2026546       +      stationary   S                  \n",
       "  methylation_frequency_TK2304_1935_rep1 mC_count_TK2304_1935_rep1\n",
       "1 0.05                                   218                      \n",
       "2 0.05                                    88                      \n",
       "3 0.06                                    73                      \n",
       "4 0.13                                    53                      \n",
       "5 0.10                                    52                      \n",
       "6 0.00                                     2                      \n",
       "  coverage_TK2304_1935_rep1 methylation_frequency_TK2304_1935_rep2\n",
       "1 4057                      0.05                                  \n",
       "2 1641                      0.04                                  \n",
       "3 1324                      0.06                                  \n",
       "4  421                      0.08                                  \n",
       "5  541                      0.06                                  \n",
       "6 4988                      0.00                                  \n",
       "  mC_count_TK2304_1935_rep2 ⋯ amino_acid_sequence amino_acid_ID\n",
       "1 165                       ⋯ ACC                 T            \n",
       "2  66                       ⋯ .                   .            \n",
       "3  81                       ⋯ .                   .            \n",
       "4  41                       ⋯ GCC                 A            \n",
       "5  51                       ⋯ .                   .            \n",
       "6   1                       ⋯ .                   .            \n",
       "  local_41bp_predicted_fold                 m5C_position_fold MFE    \n",
       "1 |......||||||................|..|..||||.. single_stranded   -134.15\n",
       "2 .                                         NA                .      \n",
       "3 ....|.......||||....|||...|||||||||...||| base_paired       -440.69\n",
       "4 ----.............................|||||||. single_stranded   -2.42  \n",
       "5 .                                         NA                .      \n",
       "6 ...||||||||....||||||...|||||||.......||| base_paired       -440.69\n",
       "  associated_TSS_id TSS_direction TSS_description total_annotations\n",
       "1 .                 .             .               1                \n",
       "2 TTS0579315_+      +             primary         1                \n",
       "3 .                 .             .               1                \n",
       "4 TTS0932396_-      -             primary         1                \n",
       "5 .                 .             .               0                \n",
       "6 .                 .             .               1                \n",
       "  alternate_annotations\n",
       "1 NA                   \n",
       "2 NA                   \n",
       "3 NA                   \n",
       "4 NA                   \n",
       "5 NA                   \n",
       "6 NA                   "
      ]
     },
     "metadata": {},
     "output_type": "display_data"
    }
   ],
   "source": [
    "###strain TK2304_1935\n",
    "\n",
    "defaultW <- getOption(\"warn\")\n",
    "options(warn = -1)\n",
    "\n",
    "\n",
    "#load CGmaps into session\n",
    "TK2304_1935statS_CGmap_rep1 <-read.delim(\"../cgmaps/TK2304_1935_statS_totalRNA_rep1.CGmap\", sep='\\t', header=FALSE,col.names=cols) %>%\n",
    "    mutate(strain=\"TK2304_1935\", growth_phase='stationary', metabolic_condition=\"S\", replicate=\"rep1\")\n",
    "\n",
    "TK2304_1935statS_CGmap_rep2 <-read.delim(\"../cgmaps/TK2304_1935_statS_totalRNA_rep2.CGmap\", sep='\\t', header=FALSE,col.names=cols) %>%\n",
    "    mutate(strain=\"TK2304_1935\", growth_phase='stationary', metabolic_condition=\"S\", replicate=\"rep2\")\n",
    "\n",
    "# process raw CGmaps\n",
    "TK2304_1935statS_rep1_df <- processCGmap(TK2304_1935statS_CGmap_rep1)\n",
    "TK2304_1935statS_rep2_df <- processCGmap(TK2304_1935statS_CGmap_rep2)\n",
    "\n",
    "#merge reps\n",
    "TK2304_1935statS <- merge_del_reps(x=TK2304_1935statS_rep1_df, y=TK2304_1935statS_rep2_df, strain='TK2304_1935')\n",
    "\n",
    "# get quantiles\n",
    "\"quantiles:\"\n",
    "get_quantiles(strain_cgmap = TK2304_1935statS, strain=\"TK2304_1935\", min_cov = 47)\n",
    "\n",
    "#compare methylation frequencies & annotate\n",
    "TK2304_1935statS_anal <- CompareCGmap(strain_cgmap = TK2304_1935statS, \n",
    "                                TS559_cgmap = TS559statS, \n",
    "                                strain=\"TK2304_1935\", \n",
    "                                annotation = annotation,\n",
    "                                min_cov = 47)\n",
    "\n",
    "write.table(TK2304_1935statS_anal, file = \"../processed_cgmaps/TK2304_1935statS_annotated\", sep = \"\\t\", row.names = F)\n",
    "\n",
    "#enumerate gains & losses\n",
    "\"losses & gains:\"\n",
    "nrow( TK2304_1935statS_anal %>% filter(log2FC < 0) )\n",
    "nrow( TK2304_1935statS_anal %>% filter(log2FC > 0) )\n",
    "\n",
    "\"absolute losses & gains:\"\n",
    "nrow( TK2304_1935statS_anal %>% filter(difference == \"ABS LOSS\") )\n",
    "nrow( TK2304_1935statS_anal %>% filter(difference == \"ABS GAIN\") )\n",
    "\n",
    "head(TK2304_1935statS_anal)\n",
    "\n",
    "# TK2304_1935statS_cat <- enumerate_hiconf_2reps(strain_cgmap = TK2304_1935statS, strain=\"TK2304_1935\",min_cov = 47)\n",
    "\n",
    "Sys.sleep(15)"
   ]
  },
  {
   "cell_type": "markdown",
   "metadata": {},
   "source": [
    "# CAT TABLE"
   ]
  },
  {
   "cell_type": "code",
   "execution_count": 26,
   "metadata": {},
   "outputs": [
    {
     "data": {
      "text/html": [
       "1272"
      ],
      "text/latex": [
       "1272"
      ],
      "text/markdown": [
       "1272"
      ],
      "text/plain": [
       "[1] 1272"
      ]
     },
     "metadata": {},
     "output_type": "display_data"
    },
    {
     "data": {
      "text/html": [
       "<table class=\"dataframe\">\n",
       "<caption>A data.frame: 6 × 78</caption>\n",
       "<thead>\n",
       "\t<tr><th></th><th scope=col>TS559_position</th><th scope=col>freq_TS559_rep1</th><th scope=col>m5C_cov/total_cov_TS559_rep1</th><th scope=col>freq_TS559_rep2</th><th scope=col>m5C_cov/total_cov_TS559_rep2</th><th scope=col>freq_TS559_rep3</th><th scope=col>m5C_cov/total_cov_TS559_rep3</th><th scope=col>TS559_hiconf</th><th scope=col>freq_TK0224_rep1</th><th scope=col>m5C_cov/total_cov_TK0224_rep1</th><th scope=col>⋯</th><th scope=col>freq_TK0234_0729_rep1</th><th scope=col>m5C_cov/total_cov_TK0234_0729_rep1</th><th scope=col>freq_TK0234_0729_rep2</th><th scope=col>m5C_cov/total_cov_TK0234_0729_rep2</th><th scope=col>TK0234_0729_hiconf</th><th scope=col>freq_TK2304_1935_rep1</th><th scope=col>m5C_cov/total_cov_TK2304_1935_rep1</th><th scope=col>freq_TK2304_1935_rep2</th><th scope=col>m5C_cov/total_cov_TK2304_1935_rep2</th><th scope=col>TK2304_1935_hiconf</th></tr>\n",
       "\t<tr><th></th><th scope=col>&lt;int&gt;</th><th scope=col>&lt;dbl&gt;</th><th scope=col>&lt;chr&gt;</th><th scope=col>&lt;dbl&gt;</th><th scope=col>&lt;chr&gt;</th><th scope=col>&lt;dbl&gt;</th><th scope=col>&lt;chr&gt;</th><th scope=col>&lt;lgl&gt;</th><th scope=col>&lt;dbl&gt;</th><th scope=col>&lt;chr&gt;</th><th scope=col>⋯</th><th scope=col>&lt;dbl&gt;</th><th scope=col>&lt;chr&gt;</th><th scope=col>&lt;dbl&gt;</th><th scope=col>&lt;chr&gt;</th><th scope=col>&lt;lgl&gt;</th><th scope=col>&lt;dbl&gt;</th><th scope=col>&lt;chr&gt;</th><th scope=col>&lt;dbl&gt;</th><th scope=col>&lt;chr&gt;</th><th scope=col>&lt;lgl&gt;</th></tr>\n",
       "</thead>\n",
       "<tbody>\n",
       "\t<tr><th scope=row>1</th><td> 6370</td><td>0.08</td><td>2 / 25 </td><td>0.08</td><td>8 / 99  </td><td>0.01</td><td>2 / 255  </td><td>FALSE</td><td>0.07</td><td>2 / 27 </td><td>⋯</td><td>0.02</td><td>5 / 219  </td><td>0.03</td><td>9 / 276  </td><td>FALSE</td><td>0.00</td><td>0 / 291  </td><td>0.00</td><td>0 / 359  </td><td>FALSE</td></tr>\n",
       "\t<tr><th scope=row>2</th><td>12052</td><td>0.00</td><td>0 / 41 </td><td>0.04</td><td>8 / 214 </td><td>0.06</td><td>15 / 245 </td><td>FALSE</td><td>0.03</td><td>1 / 35 </td><td>⋯</td><td>0.04</td><td>13 / 312 </td><td>0.06</td><td>16 / 258 </td><td>FALSE</td><td>0.06</td><td>17 / 263 </td><td>0.03</td><td>10 / 346 </td><td>FALSE</td></tr>\n",
       "\t<tr><th scope=row>3</th><td>19557</td><td>0.06</td><td>3 / 47 </td><td>0.19</td><td>35 / 189</td><td>0.08</td><td>37 / 452 </td><td>FALSE</td><td>0.11</td><td>8 / 71 </td><td>⋯</td><td>0.14</td><td>50 / 350 </td><td>0.16</td><td>81 / 505 </td><td> TRUE</td><td>0.05</td><td>17 / 310 </td><td>0.08</td><td>31 / 382 </td><td>FALSE</td></tr>\n",
       "\t<tr><th scope=row>4</th><td>22822</td><td>0.01</td><td>3 / 317</td><td>0.05</td><td>41 / 868</td><td>0.01</td><td>18 / 1860</td><td>FALSE</td><td>0.01</td><td>3 / 336</td><td>⋯</td><td>0.02</td><td>34 / 1561</td><td>0.04</td><td>68 / 1595</td><td>FALSE</td><td>0.01</td><td>12 / 1809</td><td>0.01</td><td>25 / 1925</td><td>FALSE</td></tr>\n",
       "\t<tr><th scope=row>5</th><td>23107</td><td>0.02</td><td>1 / 63 </td><td>0.05</td><td>9 / 176 </td><td>0.00</td><td>0 / 475  </td><td>FALSE</td><td>0.02</td><td>1 / 62 </td><td>⋯</td><td>0.00</td><td>0 / 275  </td><td>0.00</td><td>0 / 308  </td><td>FALSE</td><td>0.00</td><td>0 / 298  </td><td>0.00</td><td>0 / 332  </td><td>FALSE</td></tr>\n",
       "\t<tr><th scope=row>6</th><td>23579</td><td>0.09</td><td>7 / 79 </td><td>0.07</td><td>14 / 197</td><td>0.00</td><td>0 / 306  </td><td>FALSE</td><td>0.01</td><td>1 / 89 </td><td>⋯</td><td>0.00</td><td>0 / 223  </td><td>0.00</td><td>1 / 229  </td><td>FALSE</td><td>0.00</td><td>1 / 251  </td><td>0.00</td><td>1 / 269  </td><td>FALSE</td></tr>\n",
       "</tbody>\n",
       "</table>\n"
      ],
      "text/latex": [
       "A data.frame: 6 × 78\n",
       "\\begin{tabular}{r|lllllllllllllllllllll}\n",
       "  & TS559\\_position & freq\\_TS559\\_rep1 & m5C\\_cov/total\\_cov\\_TS559\\_rep1 & freq\\_TS559\\_rep2 & m5C\\_cov/total\\_cov\\_TS559\\_rep2 & freq\\_TS559\\_rep3 & m5C\\_cov/total\\_cov\\_TS559\\_rep3 & TS559\\_hiconf & freq\\_TK0224\\_rep1 & m5C\\_cov/total\\_cov\\_TK0224\\_rep1 & ⋯ & freq\\_TK0234\\_0729\\_rep1 & m5C\\_cov/total\\_cov\\_TK0234\\_0729\\_rep1 & freq\\_TK0234\\_0729\\_rep2 & m5C\\_cov/total\\_cov\\_TK0234\\_0729\\_rep2 & TK0234\\_0729\\_hiconf & freq\\_TK2304\\_1935\\_rep1 & m5C\\_cov/total\\_cov\\_TK2304\\_1935\\_rep1 & freq\\_TK2304\\_1935\\_rep2 & m5C\\_cov/total\\_cov\\_TK2304\\_1935\\_rep2 & TK2304\\_1935\\_hiconf\\\\\n",
       "  & <int> & <dbl> & <chr> & <dbl> & <chr> & <dbl> & <chr> & <lgl> & <dbl> & <chr> & ⋯ & <dbl> & <chr> & <dbl> & <chr> & <lgl> & <dbl> & <chr> & <dbl> & <chr> & <lgl>\\\\\n",
       "\\hline\n",
       "\t1 &  6370 & 0.08 & 2 / 25  & 0.08 & 8 / 99   & 0.01 & 2 / 255   & FALSE & 0.07 & 2 / 27  & ⋯ & 0.02 & 5 / 219   & 0.03 & 9 / 276   & FALSE & 0.00 & 0 / 291   & 0.00 & 0 / 359   & FALSE\\\\\n",
       "\t2 & 12052 & 0.00 & 0 / 41  & 0.04 & 8 / 214  & 0.06 & 15 / 245  & FALSE & 0.03 & 1 / 35  & ⋯ & 0.04 & 13 / 312  & 0.06 & 16 / 258  & FALSE & 0.06 & 17 / 263  & 0.03 & 10 / 346  & FALSE\\\\\n",
       "\t3 & 19557 & 0.06 & 3 / 47  & 0.19 & 35 / 189 & 0.08 & 37 / 452  & FALSE & 0.11 & 8 / 71  & ⋯ & 0.14 & 50 / 350  & 0.16 & 81 / 505  &  TRUE & 0.05 & 17 / 310  & 0.08 & 31 / 382  & FALSE\\\\\n",
       "\t4 & 22822 & 0.01 & 3 / 317 & 0.05 & 41 / 868 & 0.01 & 18 / 1860 & FALSE & 0.01 & 3 / 336 & ⋯ & 0.02 & 34 / 1561 & 0.04 & 68 / 1595 & FALSE & 0.01 & 12 / 1809 & 0.01 & 25 / 1925 & FALSE\\\\\n",
       "\t5 & 23107 & 0.02 & 1 / 63  & 0.05 & 9 / 176  & 0.00 & 0 / 475   & FALSE & 0.02 & 1 / 62  & ⋯ & 0.00 & 0 / 275   & 0.00 & 0 / 308   & FALSE & 0.00 & 0 / 298   & 0.00 & 0 / 332   & FALSE\\\\\n",
       "\t6 & 23579 & 0.09 & 7 / 79  & 0.07 & 14 / 197 & 0.00 & 0 / 306   & FALSE & 0.01 & 1 / 89  & ⋯ & 0.00 & 0 / 223   & 0.00 & 1 / 229   & FALSE & 0.00 & 1 / 251   & 0.00 & 1 / 269   & FALSE\\\\\n",
       "\\end{tabular}\n"
      ],
      "text/markdown": [
       "\n",
       "A data.frame: 6 × 78\n",
       "\n",
       "| <!--/--> | TS559_position &lt;int&gt; | freq_TS559_rep1 &lt;dbl&gt; | m5C_cov/total_cov_TS559_rep1 &lt;chr&gt; | freq_TS559_rep2 &lt;dbl&gt; | m5C_cov/total_cov_TS559_rep2 &lt;chr&gt; | freq_TS559_rep3 &lt;dbl&gt; | m5C_cov/total_cov_TS559_rep3 &lt;chr&gt; | TS559_hiconf &lt;lgl&gt; | freq_TK0224_rep1 &lt;dbl&gt; | m5C_cov/total_cov_TK0224_rep1 &lt;chr&gt; | ⋯ ⋯ | freq_TK0234_0729_rep1 &lt;dbl&gt; | m5C_cov/total_cov_TK0234_0729_rep1 &lt;chr&gt; | freq_TK0234_0729_rep2 &lt;dbl&gt; | m5C_cov/total_cov_TK0234_0729_rep2 &lt;chr&gt; | TK0234_0729_hiconf &lt;lgl&gt; | freq_TK2304_1935_rep1 &lt;dbl&gt; | m5C_cov/total_cov_TK2304_1935_rep1 &lt;chr&gt; | freq_TK2304_1935_rep2 &lt;dbl&gt; | m5C_cov/total_cov_TK2304_1935_rep2 &lt;chr&gt; | TK2304_1935_hiconf &lt;lgl&gt; |\n",
       "|---|---|---|---|---|---|---|---|---|---|---|---|---|---|---|---|---|---|---|---|---|---|\n",
       "| 1 |  6370 | 0.08 | 2 / 25  | 0.08 | 8 / 99   | 0.01 | 2 / 255   | FALSE | 0.07 | 2 / 27  | ⋯ | 0.02 | 5 / 219   | 0.03 | 9 / 276   | FALSE | 0.00 | 0 / 291   | 0.00 | 0 / 359   | FALSE |\n",
       "| 2 | 12052 | 0.00 | 0 / 41  | 0.04 | 8 / 214  | 0.06 | 15 / 245  | FALSE | 0.03 | 1 / 35  | ⋯ | 0.04 | 13 / 312  | 0.06 | 16 / 258  | FALSE | 0.06 | 17 / 263  | 0.03 | 10 / 346  | FALSE |\n",
       "| 3 | 19557 | 0.06 | 3 / 47  | 0.19 | 35 / 189 | 0.08 | 37 / 452  | FALSE | 0.11 | 8 / 71  | ⋯ | 0.14 | 50 / 350  | 0.16 | 81 / 505  |  TRUE | 0.05 | 17 / 310  | 0.08 | 31 / 382  | FALSE |\n",
       "| 4 | 22822 | 0.01 | 3 / 317 | 0.05 | 41 / 868 | 0.01 | 18 / 1860 | FALSE | 0.01 | 3 / 336 | ⋯ | 0.02 | 34 / 1561 | 0.04 | 68 / 1595 | FALSE | 0.01 | 12 / 1809 | 0.01 | 25 / 1925 | FALSE |\n",
       "| 5 | 23107 | 0.02 | 1 / 63  | 0.05 | 9 / 176  | 0.00 | 0 / 475   | FALSE | 0.02 | 1 / 62  | ⋯ | 0.00 | 0 / 275   | 0.00 | 0 / 308   | FALSE | 0.00 | 0 / 298   | 0.00 | 0 / 332   | FALSE |\n",
       "| 6 | 23579 | 0.09 | 7 / 79  | 0.07 | 14 / 197 | 0.00 | 0 / 306   | FALSE | 0.01 | 1 / 89  | ⋯ | 0.00 | 0 / 223   | 0.00 | 1 / 229   | FALSE | 0.00 | 1 / 251   | 0.00 | 1 / 269   | FALSE |\n",
       "\n"
      ],
      "text/plain": [
       "  TS559_position freq_TS559_rep1 m5C_cov/total_cov_TS559_rep1 freq_TS559_rep2\n",
       "1  6370          0.08            2 / 25                       0.08           \n",
       "2 12052          0.00            0 / 41                       0.04           \n",
       "3 19557          0.06            3 / 47                       0.19           \n",
       "4 22822          0.01            3 / 317                      0.05           \n",
       "5 23107          0.02            1 / 63                       0.05           \n",
       "6 23579          0.09            7 / 79                       0.07           \n",
       "  m5C_cov/total_cov_TS559_rep2 freq_TS559_rep3 m5C_cov/total_cov_TS559_rep3\n",
       "1 8 / 99                       0.01            2 / 255                     \n",
       "2 8 / 214                      0.06            15 / 245                    \n",
       "3 35 / 189                     0.08            37 / 452                    \n",
       "4 41 / 868                     0.01            18 / 1860                   \n",
       "5 9 / 176                      0.00            0 / 475                     \n",
       "6 14 / 197                     0.00            0 / 306                     \n",
       "  TS559_hiconf freq_TK0224_rep1 m5C_cov/total_cov_TK0224_rep1 ⋯\n",
       "1 FALSE        0.07             2 / 27                        ⋯\n",
       "2 FALSE        0.03             1 / 35                        ⋯\n",
       "3 FALSE        0.11             8 / 71                        ⋯\n",
       "4 FALSE        0.01             3 / 336                       ⋯\n",
       "5 FALSE        0.02             1 / 62                        ⋯\n",
       "6 FALSE        0.01             1 / 89                        ⋯\n",
       "  freq_TK0234_0729_rep1 m5C_cov/total_cov_TK0234_0729_rep1\n",
       "1 0.02                  5 / 219                           \n",
       "2 0.04                  13 / 312                          \n",
       "3 0.14                  50 / 350                          \n",
       "4 0.02                  34 / 1561                         \n",
       "5 0.00                  0 / 275                           \n",
       "6 0.00                  0 / 223                           \n",
       "  freq_TK0234_0729_rep2 m5C_cov/total_cov_TK0234_0729_rep2 TK0234_0729_hiconf\n",
       "1 0.03                  9 / 276                            FALSE             \n",
       "2 0.06                  16 / 258                           FALSE             \n",
       "3 0.16                  81 / 505                            TRUE             \n",
       "4 0.04                  68 / 1595                          FALSE             \n",
       "5 0.00                  0 / 308                            FALSE             \n",
       "6 0.00                  1 / 229                            FALSE             \n",
       "  freq_TK2304_1935_rep1 m5C_cov/total_cov_TK2304_1935_rep1\n",
       "1 0.00                  0 / 291                           \n",
       "2 0.06                  17 / 263                          \n",
       "3 0.05                  17 / 310                          \n",
       "4 0.01                  12 / 1809                         \n",
       "5 0.00                  0 / 298                           \n",
       "6 0.00                  1 / 251                           \n",
       "  freq_TK2304_1935_rep2 m5C_cov/total_cov_TK2304_1935_rep2 TK2304_1935_hiconf\n",
       "1 0.00                  0 / 359                            FALSE             \n",
       "2 0.03                  10 / 346                           FALSE             \n",
       "3 0.08                  31 / 382                           FALSE             \n",
       "4 0.01                  25 / 1925                          FALSE             \n",
       "5 0.00                  0 / 332                            FALSE             \n",
       "6 0.00                  1 / 269                            FALSE             "
      ]
     },
     "metadata": {},
     "output_type": "display_data"
    }
   ],
   "source": [
    "cat_statS_data <- merge(x=TS559statS_cat, y = TK0224statS_cat, by='TS559_position', all=TRUE) %>%\n",
    "    merge(y = TK0234statS_cat, by='TS559_position', all=TRUE) %>%\n",
    "    merge(y = TK0704statS_cat, by='TS559_position', all=TRUE) %>%\n",
    "    merge(y = TK0729statS_cat, by='TS559_position', all=TRUE) %>%\n",
    "    merge(y = TK0872statS_cat, by='TS559_position', all=TRUE) %>%\n",
    "    merge(y = TK1273statS_cat, by='TS559_position', all=TRUE) %>%\n",
    "    merge(y = TK1917statS_cat, by='TS559_position', all=TRUE) %>%\n",
    "    merge(y = TK1935statS_cat, by='TS559_position', all=TRUE) %>%\n",
    "    merge(y = TK2122statS_cat, by='TS559_position', all=TRUE) %>%\n",
    "    merge(y = TK2241statS_cat, by='TS559_position', all=TRUE) %>%\n",
    "    merge(y = TK2304statS_cat, by='TS559_position', all=TRUE) %>%\n",
    "    merge(y = TK0234_0224statS_cat, by='TS559_position', all=TRUE) %>%\n",
    "    merge(y = TK0234_0729statS_cat, by='TS559_position', all=TRUE) %>%\n",
    "    merge(y = TK2304_1935statS_cat, by='TS559_position', all=TRUE) %>%\n",
    "    #merge(y = TK2045statS_cat, by='TS559_position', all=TRUE) %>%\n",
    "    #merge(y = TK2045NdelstatS_cat, by='TS559_position', all=TRUE) %>%\n",
    "\n",
    "    filter(TS559_hiconf==TRUE |\n",
    "    TK0224_hiconf==TRUE | \n",
    "    TK0234_hiconf==TRUE | \n",
    "    TK0704_hiconf==TRUE | \n",
    "    TK0729_hiconf==TRUE | \n",
    "    TK0872_hiconf==TRUE | \n",
    "    TK1273_hiconf==TRUE | \n",
    "    TK1917_hiconf==TRUE | \n",
    "    TK1935_hiconf==TRUE | \n",
    "    TK2122_hiconf==TRUE | \n",
    "    TK2241_hiconf==TRUE | \n",
    "    TK2304_hiconf==TRUE |\n",
    "    TK0234_0224_hiconf==TRUE |\n",
    "    TK0234_0729_hiconf==TRUE |\n",
    "    TK2304_1935_hiconf==TRUE  \n",
    "           \n",
    "    )\n",
    "\n",
    "#write.table(cat_statS_data, file = \"../processed_cgmaps/cat_statS_data\", sep = \"\\t\", row.names = F)\n",
    "nrow(cat_statS_data)\n",
    "head(cat_statS_data)"
   ]
  },
  {
   "cell_type": "code",
   "execution_count": null,
   "metadata": {},
   "outputs": [],
   "source": []
  }
 ],
 "metadata": {
  "kernelspec": {
   "display_name": "R",
   "language": "R",
   "name": "ir"
  },
  "language_info": {
   "codemirror_mode": "r",
   "file_extension": ".r",
   "mimetype": "text/x-r-source",
   "name": "R",
   "pygments_lexer": "r",
   "version": "4.2.2"
  }
 },
 "nbformat": 4,
 "nbformat_minor": 4
}
