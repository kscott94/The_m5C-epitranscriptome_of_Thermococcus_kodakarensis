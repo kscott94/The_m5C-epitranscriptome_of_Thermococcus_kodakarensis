{
 "cells": [
  {
   "cell_type": "markdown",
   "metadata": {},
   "source": [
    "# Compare CGmaps between control and deletion strains. \n",
    "Comparision datasets are published in supplenetary files. "
   ]
  },
  {
   "cell_type": "code",
   "execution_count": 2,
   "metadata": {},
   "outputs": [
    {
     "name": "stderr",
     "output_type": "stream",
     "text": [
      "── \u001b[1mAttaching core tidyverse packages\u001b[22m ──────────────────────── tidyverse 2.0.0 ──\n",
      "\u001b[32m✔\u001b[39m \u001b[34mdplyr    \u001b[39m 1.1.0     \u001b[32m✔\u001b[39m \u001b[34mreadr    \u001b[39m 2.1.4\n",
      "\u001b[32m✔\u001b[39m \u001b[34mforcats  \u001b[39m 1.0.0     \u001b[32m✔\u001b[39m \u001b[34mstringr  \u001b[39m 1.5.0\n",
      "\u001b[32m✔\u001b[39m \u001b[34mggplot2  \u001b[39m 3.4.1     \u001b[32m✔\u001b[39m \u001b[34mtibble   \u001b[39m 3.1.8\n",
      "\u001b[32m✔\u001b[39m \u001b[34mlubridate\u001b[39m 1.9.2     \u001b[32m✔\u001b[39m \u001b[34mtidyr    \u001b[39m 1.3.0\n",
      "\u001b[32m✔\u001b[39m \u001b[34mpurrr    \u001b[39m 1.0.1     \n",
      "── \u001b[1mConflicts\u001b[22m ────────────────────────────────────────── tidyverse_conflicts() ──\n",
      "\u001b[31m✖\u001b[39m \u001b[34mdplyr\u001b[39m::\u001b[32mfilter()\u001b[39m masks \u001b[34mstats\u001b[39m::filter()\n",
      "\u001b[31m✖\u001b[39m \u001b[34mdplyr\u001b[39m::\u001b[32mlag()\u001b[39m    masks \u001b[34mstats\u001b[39m::lag()\n",
      "\u001b[36mℹ\u001b[39m Use the conflicted package (\u001b[3m\u001b[34m<http://conflicted.r-lib.org/>\u001b[39m\u001b[23m) to force all conflicts to become errors\n"
     ]
    }
   ],
   "source": [
    "library(tidyverse, lib='/usr/local/lib/R/site-library')"
   ]
  },
  {
   "cell_type": "code",
   "execution_count": 3,
   "metadata": {},
   "outputs": [],
   "source": [
    "cols = c('chromosome', 'reference_nucleotide', 'position', 'trinuc_context','dinuc_context', \n",
    "         \"methylation_frequency\", \"count_mC\", \"coverage\")\n",
    "\n",
    "TS559exoS <- read.delim('../processed_cgmaps/bs7v1/TS559exoS_coverage', sep='\\t') %>%\n",
    "    dplyr::rename(\n",
    "          methylation_frequency_TS559_rep1 = methylation_frequency_TS559_March2016,\n",
    "          mC_count_TS559_rep1 = mC_count_TS559_March2016,\n",
    "          coverage_TS559_rep1 = coverage_TS559_March2016,\n",
    "        \n",
    "          methylation_frequency_TS559_rep2 = methylation_frequency_TS559_Dec2016,\n",
    "          mC_count_TS559_rep2 = mC_count_TS559_Dec2016,\n",
    "          coverage_TS559_rep2 = coverage_TS559_Dec2016,\n",
    "           \n",
    "          methylation_frequency_TS559_rep3 = methylation_frequency_TS559_Oct2020,\n",
    "          mC_count_TS559_rep3 = mC_count_TS559_Oct2020,\n",
    "          coverage_TS559_rep3 = coverage_TS559_Oct2020\n",
    "          )\n",
    "\n",
    "annotation <- data.frame(read.delim('/home/kristin/jupyter_notebooks/RNA_mt_proj/bs7/annotation_ready', \n",
    "                                    sep = '\\t') %>%\n",
    "    dplyr::rename(position=TS559_position) )"
   ]
  },
  {
   "cell_type": "markdown",
   "metadata": {},
   "source": [
    "## HELPERS \n"
   ]
  },
  {
   "cell_type": "code",
   "execution_count": 4,
   "metadata": {},
   "outputs": [],
   "source": [
    "# HELPERS \n",
    "\n",
    "load_cgmap <- function(cgmap,strain, replicate, growth_phase, metabolic_condition='S'){\n",
    "    cols = c('chromosome', 'base', 'position', 'trinuc_context','dinuc_context', \n",
    "         \"methylation_frequency\", \"count_mC\", \"coverage\")\n",
    "    outdata <- read.delim(cgmap, sep='\\t', header=FALSE,col.names=cols) %>%\n",
    "        mutate(strain=strain, growth_phase=growth_phase, \n",
    "               metabolic_condition=metabolic_condition, replicate=replicate)\n",
    "\n",
    "}\n",
    "\n",
    "\n",
    "#clean up raw CGmaps, add some and rename some columns\n",
    "processCGmap <- function(cgmap){\n",
    "    strain = unique(cgmap$strain)\n",
    "    rep = unique(cgmap$replicate)\n",
    "    \n",
    "    final_data <- cgmap %>% \n",
    "        dplyr::select(-trinuc_context, -dinuc_context) %>%\n",
    "        dplyr::rename(!!paste(\"coverage\",\"_\",strain,\"_\",rep, sep=\"\") := coverage) %>%\n",
    "        dplyr::rename(!!paste(\"mC_count\",\"_\",strain,\"_\",rep, sep=\"\") := count_mC) %>%\n",
    "        dplyr::rename(!!paste(\"methylation_frequency\",\"_\",strain,\"_\",rep, sep=\"\") := methylation_frequency) %>%\n",
    "        dplyr::select(-replicate, -strain)\n",
    "    return(final_data)\n",
    "}\n",
    "\n",
    "\n",
    "\n",
    "#merge data for replicate deletion strains\n",
    "merge_del_reps <- function(x,y, strain){\n",
    "    cov_1 <- paste(\"coverage_\",strain, \"_rep1\", sep='')\n",
    "    cov_2 <- paste(\"coverage_\",strain, \"_rep2\", sep='')\n",
    "\n",
    "    d <- x %>%\n",
    "        merge(y=y, \n",
    "              by=c(\"chromosome\",\"position\", 'reference_nucleotide', 'growth_phase','metabolic_condition'), \n",
    "              all=TRUE) %>%\n",
    "    \n",
    "            mutate(!!as.name(cov_1) := replace_na(!!as.name(cov_1),0)) %>%\n",
    "            mutate(!!as.name(cov_2) := replace_na(!!as.name(cov_2),0))\n",
    "    \n",
    "    return(d)\n",
    "}\n",
    "\n",
    "#merge data for triplicate deletion strains\n",
    "merge_del_3reps <- function(x,y,z,strain){\n",
    "    cov_1 <- paste(\"coverage_\",strain, \"_rep1\", sep='')\n",
    "    cov_2 <- paste(\"coverage_\",strain, \"_rep2\", sep='')\n",
    "    cov_3 <- paste(\"coverage_\",strain, \"_rep3\", sep='')\n",
    "\n",
    "    d <- x %>%\n",
    "        merge(y=y, \n",
    "              by=c(\"chromosome\",\"position\", 'reference_nucleotide', 'growth_phase','metabolic_condition'), \n",
    "              all=TRUE) %>%\n",
    "        merge(y=z, \n",
    "              by=c(\"chromosome\",\"position\", 'reference_nucleotide', 'growth_phase','metabolic_condition'), \n",
    "              all=TRUE) %>%\n",
    "            mutate(!!as.name(cov_1) := replace_na(!!as.name(cov_1),0)) %>%\n",
    "            mutate(!!as.name(cov_2) := replace_na(!!as.name(cov_2),0)) %>%\n",
    "            mutate(!!as.name(cov_3) := replace_na(!!as.name(cov_3),0))\n",
    "\n",
    "    return(d)\n",
    "}\n",
    "\n",
    "\n",
    "# determine if high confidence, reproducible sites with 3 reps\n",
    "#f  frequency\n",
    "#m  m5C coverage\n",
    "#p  99 percentile m5C coverage\n",
    "#c  total coverage\n",
    "detect_hiconf_3reps <- function(f1,m1,p1,c1,f2,m2,p2,c2,f3,m3,p3,c3, min_cov=47,\n",
    "                                min_freq=.10, min_freq2 = 0.05) {\n",
    "    ls <- c()\n",
    "    \n",
    "    if( is.na(c1) ) {c1<-0}\n",
    "    if( is.na(c2) ) {c2<-0}\n",
    "    if( is.na(c3) ) {c3<-0}\n",
    "    if(c1 < min_cov & c2 < min_cov & c3 < min_cov) {return(NA)}\n",
    "    \n",
    "    else{\n",
    "    \n",
    "    if(c1<min_cov){ls <- c(ls,NA)}\n",
    "    else if(  (c1>=min_cov & m1>=p1 & f1>=min_freq) | (m1>50 & f1>=min_freq2) ) {ls <- c(ls,TRUE)}\n",
    "    else {ls <- c(ls,FALSE)}\n",
    "    \n",
    "    if(c2<min_cov){ls <- c(ls,NA)}\n",
    "    else if( (c2>=min_cov & m2>=p2 & f2>=min_freq) | (m2>50 & f2>=min_freq2) ) {ls <- c(ls,TRUE)}\n",
    "    else {ls <- c(ls,FALSE)}\n",
    "    \n",
    "    if(c3<min_cov){ls <- c(ls,NA)}\n",
    "    else if( (c3>=min_cov & m3>=p3 & f3>=min_freq)| (m3>50 & f3>=min_freq2) )  {ls <- c(ls,TRUE)}\n",
    "    else {ls <- c(ls,FALSE)}\n",
    "    \n",
    "    ans_t <- length(which(ls==TRUE))\n",
    "    ans_na <- length(which(ls==NA))\n",
    "    ans_f <- length(which(ls==FALSE))\n",
    "\n",
    "    if(ans_na >= 3){return(NA)}\n",
    "    if(ans_na == 2 & ans_t == 1){return(NA)}\n",
    "    else if(ans_t >= 2){return(TRUE)}\n",
    "    else { return(FALSE)}\n",
    "        }\n",
    "}\n",
    "\n",
    "\n",
    "\n",
    "# determine if high confidence, reproducible sites with 2 reps\n",
    "#f  frequency\n",
    "#m  m5C coverage\n",
    "#p  99 percentile m5C coverage\n",
    "#c  total coverage\n",
    "detect_hiconf_2reps <- function(f1,m1,p1,c1,f2,m2,p2,c2, min_cov=47,\n",
    "                                min_freq=.10, min_freq2 = 0.05) {\n",
    "    ls <- c()\n",
    "    \n",
    "    if( is.na(c2) ) {c1<-0}\n",
    "    if( is.na(c2) ) {c2<-0}\n",
    "    \n",
    "    if(c1 < min_cov & c2 < min_cov) {return(NA)}\n",
    "    else{\n",
    "            \n",
    "    if(c1<min_cov){ls <- c(ls,NA)}\n",
    "    else if(  (c1>=min_cov & m1>=p1 & f1>=min_freq) | (m1>50 & f1>=min_freq2) ) {ls <- c(ls,TRUE)}\n",
    "    else {ls <- c(ls,FALSE)}\n",
    "    \n",
    "    if(c2<min_cov){ls <- c(ls,NA)}\n",
    "    else if( (c2>=min_cov & m2>=p2 & f2>=min_freq) | (m2>50 & f2>=min_freq2) ) {ls <- c(ls,TRUE)}\n",
    "    else {ls <- c(ls,FALSE)}\n",
    "\n",
    "    ans_t <- length(which(ls==TRUE))\n",
    "    ans_na <- length(which(ls==NA))\n",
    "    ans_f <- length(which(ls==FALSE))\n",
    "\n",
    "    if(ans_f == 1 & ans_t == 1 ){return(TRUE)}\n",
    "    if(ans_f >= 1  ){return(FALSE)}\n",
    "    else if(ans_t >= 2){return(TRUE)}\n",
    "    else if(ans_t == 1 & ans_na ==1){return(TRUE)}\n",
    "    else if(ans_f == 1 & ans_na ==1){return(FALSE)}\n",
    "\n",
    "    else { return(NA)}\n",
    "        \n",
    "        }\n",
    "}\n",
    "\n",
    "\n",
    "\n",
    "# determine if high confidence in all three 3 reps\n",
    "super_hiconf_3reps <- function(f1,m1,p1,c1,f2,m2,p2,c2,f3,m3,p3,c3, min_cov=47,\n",
    "                                min_freq=.10, min_freq2 = 0.05) {\n",
    "    ls <- c()\n",
    "    \n",
    "    if( is.na(c1) ) {c1<-0}\n",
    "    if( is.na(c2) ) {c2<-0}\n",
    "    if( is.na(c3) ) {c3<-0}\n",
    "\n",
    "    \n",
    "    if(  (c1>=min_cov & m1>=p1 & f1>=min_freq) | (c1>1000 & f1>=min_freq2)  ) {ls <- c(ls,TRUE)}\n",
    "    else {ls <- c(ls,FALSE)}\n",
    "    \n",
    "    \n",
    "    if( (c2>=min_cov & m2>=p2 & f2>=min_freq) | (c2>=1000 & f2>=min_freq2) ) {ls <- c(ls,TRUE)}\n",
    "    else {ls <- c(ls,FALSE)}\n",
    "    \n",
    "    if( (c3>=min_cov & m3>=p3 & f3>=min_freq) | (c3>=1000 & f3>=min_freq2) )  {ls <- c(ls,TRUE)}\n",
    "    else {ls <- c(ls,FALSE)}\n",
    "    \n",
    "    ans <- length(which(ls==TRUE))\n",
    "    \n",
    "    if(ans >= 3){return(TRUE)}\n",
    "    else { return(FALSE)}\n",
    "}\n",
    "\n",
    "\n",
    "\n",
    "#determine if the sample m5C frequency are within a 90% confidence interval\n",
    "rm_overlap <- function(sp, ssd, cp,csd){\n",
    "    ssd <- ssd*1.645\n",
    "    csd <- csd*1.645\n",
    "\n",
    "    r1 <- c(sp-ssd, sp+ssd)\n",
    "    r2 <- c(cp-csd, cp+csd)\n",
    "    ans <- r1 %overlaps% r2\n",
    "    return(ans)\n",
    "    \n",
    "}\n",
    "\n",
    "\n",
    "# get p value of each m5C site using binomial distribution\n",
    "#glm binomial\n",
    "\n",
    "get_pvalue <- function(s1_mC,s1_cov, s2_mC,s2_cov,\n",
    "                       c1_mC,c1_cov,c2_mC,c2_cov,c3_mC,c3_cov){\n",
    "    \n",
    "    \n",
    "    if(s1_cov == 0 & s2_cov == 0){return(NA)} \n",
    "    if(c1_cov == 0 & c2_cov == 0){return(NA)} \n",
    "\n",
    "    else{\n",
    "\n",
    "    sample_success = s1_mC + s2_mC  + 1\n",
    "    sample_failure = (s1_cov+s2_cov)-sample_success  +1\n",
    "    \n",
    "    control_success = c1_mC + c2_mC + c3_mC  +1\n",
    "    control_failure = (c1_cov + c2_cov + c3_cov) - control_success  +1\n",
    "    \n",
    "    if(is.na(sample_failure) |  is.na(control_failure) |\n",
    "      is.na(sample_failure) | is.na(sample_failure)\n",
    "      \n",
    "      ){return(NA)}\n",
    "    \n",
    "    treatment <- c('sample','control')\n",
    "    success <- c(sample_success, control_success)\n",
    "    failure <- c(sample_failure, control_failure)\n",
    "        \n",
    "    da <- data.frame(treatment, success, failure)\n",
    "        da$success <- as.integer(da$success)\n",
    "        da$failure <- as.integer(da$failure)\n",
    "        da$treatment <- as.factor(da$treatment)\n",
    "\n",
    "        table <- cbind(da$success,da$failure)\n",
    "\n",
    "    fit <- glm(table ~ treatment, family = binomial, data = da)\n",
    "    p_val <- summary(fit)$coefficients[8]\n",
    "    return(p_val) \n",
    "    }\n",
    "}\n",
    "\n",
    "get_pvalue_deprecated <- function(s1_mC,s1_cov, s2_mC,s2_cov,\n",
    "                       c1_mC,c1_cov,c2_mC,c2_cov,c3_mC,c3_cov){\n",
    "    \n",
    "    meth_freq_r1 <- (s1_mC+1)/(s1_cov+1)\n",
    "    meth_freq_r2 <- (s2_mC+1)/(s2_cov+1)\n",
    "    cnt_meth_freq_r1 <- (c1_mC+1)/(c1_cov+1)\n",
    "    cnt_meth_freq_r2 <- (c2_mC+1)/(c2_cov+1)\n",
    "    cnt_meth_freq_r3 <- (c3_mC+1)/(c3_cov+1)\n",
    "    \n",
    "    \n",
    "    strain <- c('trt','trt','cnt','cnt','cnt')\n",
    "    freq <- c(meth_freq_r1, meth_freq_r2,\n",
    "              cnt_meth_freq_r1, cnt_meth_freq_r2, cnt_meth_freq_r3)\n",
    "    \n",
    "    \n",
    "    da <- data.frame(cbind(strain, freq))\n",
    "    \n",
    "    da$strain <- as.factor(da$strain)\n",
    "    da$freq <- as.double(da$freq)\n",
    "\n",
    "    pval <- round(summary(aov(freq ~ strain, data=da))[[1]][1,5], 4)    \n",
    "    return(pval)\n",
    "\n",
    "}\n",
    "\n",
    "    \n",
    "get_pvalue_3reps <- function(s1_mC,s1_cov, s2_mC,s2_cov,s3_mC,s3_cov,\n",
    "                       c1_mC,c1_cov,c2_mC,c2_cov,c3_mC,c3_cov){\n",
    "    \n",
    "    \n",
    "    if(s1_cov == 0 & s2_cov==0 & s3_cov == 0){return(NA)} \n",
    "    if(c1_cov == 0 & c2_cov==0 & c3_cov == 0){return(NA)} \n",
    "\n",
    "    sample_success = s1_mC + s2_mC + s3_mC +1\n",
    "    sample_failure = (s1_cov + s2_cov + s3_cov)-sample_success +1\n",
    "    \n",
    "    control_success = c1_mC + c2_mC + c3_mC +1\n",
    "    control_failure = (c1_cov + c2_cov + c3_cov) - control_success +1\n",
    "        \n",
    "    if(is.na(sample_failure) |  is.na(control_failure) |\n",
    "      is.na(sample_failure) | is.na(sample_failure) ){return(NA)}\n",
    "    \n",
    "    treatment <- c('sample','control')\n",
    "    success <- c(sample_success, control_success)\n",
    "    failure <- c(sample_failure,control_failure)\n",
    "        \n",
    "    da <- data.frame(treatment, success, failure)\n",
    "        da$success <- as.integer(da$success)\n",
    "        da$failure <- as.integer(da$failure)\n",
    "        da$treatment <- as.factor(da$treatment)\n",
    "\n",
    "        table <- cbind(da$success,da$failure)\n",
    "\n",
    "    fit <- glm(table ~ treatment, family = binomial, data = da)\n",
    "    p_val <- summary(fit)$coefficients[8]\n",
    "    return(p_val)\n",
    "}\n",
    "    \n",
    "\n",
    "get_quantiles <- function(strain_cgmap, strain, reps = 2, min_cov=47){\n",
    "    \n",
    "    m5C_count_r1 <- paste(\"mC_count_\", strain, \"_rep1\", sep=\"\")\n",
    "    cov_r1 <- paste(\"coverage_\", strain, \"_rep1\", sep=\"\")\n",
    "\n",
    "    m5C_count_r2 <- paste(\"mC_count_\", strain, \"_rep2\", sep=\"\")\n",
    "    cov_r2 <- paste(\"coverage_\", strain, \"_rep2\", sep=\"\")\n",
    "    \n",
    "    #get quantile values for m5C count\n",
    "    q_strain_rep1 <- quantile(\n",
    "        (strain_cgmap %>%\n",
    "        filter(!!as.name(cov_r1)>=min_cov, !!as.name(m5C_count_r1)>=0) )[[m5C_count_r1]], .99)[[1]]\n",
    "    \n",
    "    q_strain_rep2 <- quantile(\n",
    "        (strain_cgmap %>%\n",
    "        filter(!!as.name(cov_r2)>=min_cov, !!as.name(m5C_count_r2)>=0) )[[m5C_count_r2]], .99)[[1]]\n",
    "    \n",
    "    q <- c(q_strain_rep1, q_strain_rep2)\n",
    "    \n",
    "    if(reps==3){\n",
    "        m5C_count_r3 <- paste(\"mC_count_\", strain, \"_rep3\", sep=\"\")\n",
    "        cov_r3 <- paste(\"coverage_\", strain, \"_rep3\", sep=\"\")\n",
    "        \n",
    "        q_strain_rep3 <- quantile(\n",
    "        (strain_cgmap %>%\n",
    "        filter(!!as.name(cov_r3)>=min_cov, !!as.name(m5C_count_r3)>=0) )[[m5C_count_r3]], .99)[[1]]\n",
    "        \n",
    "        q = c(q, q_strain_rep3)\n",
    "    }\n",
    "    \n",
    "    return(q)\n",
    "}\n",
    "    \n",
    "\n",
    "get_difference <- function(hiconf_TS559, hiconf_strain, strain_poolf, control_poolf, CI90_overlap){\n",
    "    \n",
    "    if(is.na(hiconf_TS559) | is.na(hiconf_strain)){return(NA)}\n",
    "    else if(is.na(CI90_overlap)){return(NA)}\n",
    "    \n",
    "    else if(hiconf_TS559 == FALSE & hiconf_strain == FALSE){return(\"NOT MODIFIED\")}\n",
    "    else if(CI90_overlap == TRUE){return(\"OUTSIDE OF DIFFERENTIATION LIMITS\")}\n",
    "\n",
    "    else if(hiconf_TS559 == TRUE & hiconf_strain == FALSE & strain_poolf <= 0.02){return(\"ABS LOSS\")} \n",
    "    else if(hiconf_TS559 == TRUE & hiconf_strain == FALSE & strain_poolf > 0.02){return(\"REL LOSS\")} \n",
    "\n",
    "    else if(hiconf_TS559 == FALSE & hiconf_strain == TRUE & control_poolf <= 0.02){return(\"ABS GAIN\")}\n",
    "    else if(hiconf_TS559 == FALSE & hiconf_strain == TRUE & control_poolf > 0.02){return(\"REL GAIN\")}\n",
    "\n",
    "    else if(hiconf_TS559 == TRUE & hiconf_strain == TRUE & strain_poolf > control_poolf){return(\"REL GAIN\")} \n",
    "    else if(hiconf_TS559 == TRUE & hiconf_strain == TRUE & strain_poolf < control_poolf){return(\"REL LOSS\")} \n",
    "    \n",
    "    else{return(\"error\")}\n",
    "    }\n",
    "\n",
    "        \n",
    "CompareCGmap <- function(strain_cgmap, TS559_cgmap, strain, annotation, minimum_freq=.10, min_cov=47){\n",
    "    \n",
    "    #making some column names\n",
    "    meth_freq_r1 <- paste(\"methylation_frequency_\", strain, \"_rep1\", sep=\"\")\n",
    "    m5C_count_r1 <- paste(\"mC_count_\", strain, \"_rep1\", sep=\"\")\n",
    "    cov_r1 <- paste(\"coverage_\", strain, \"_rep1\", sep=\"\")\n",
    "\n",
    "    meth_freq_r2 <- paste(\"methylation_frequency_\", strain, \"_rep2\", sep=\"\")\n",
    "    m5C_count_r2 <- paste(\"mC_count_\", strain, \"_rep2\", sep=\"\")\n",
    "    cov_r2 <- paste(\"coverage_\", strain, \"_rep2\", sep=\"\")\n",
    "    \n",
    "    pooled_methylation_frequency_strain <- paste(\"pooled_methylation_frequency_\", strain, sep='')\n",
    "\n",
    "    #get quantile values for m5C count\n",
    "    q_TS559_rep1 <- quantile((TS559_cgmap%>%\n",
    "        filter(coverage_TS559_rep1>=min_cov, mC_count_TS559_rep1>=0))$mC_count_TS559_rep1, .99)[[1]]\n",
    "    \n",
    "    q_TS559_rep2 <- quantile((TS559_cgmap%>%\n",
    "        filter(coverage_TS559_rep2>=min_cov, mC_count_TS559_rep2>=0))$mC_count_TS559_rep2, .99)[[1]]\n",
    "    \n",
    "    q_TS559_rep3 <- quantile((TS559_cgmap%>%\n",
    "        filter(coverage_TS559_rep3>=min_cov, mC_count_TS559_rep3>=0))$mC_count_TS559_rep3, .99)[[1]]\n",
    "\n",
    "    q_strain_rep1 <- quantile(\n",
    "        (strain_cgmap %>%\n",
    "        filter(!!as.name(cov_r1)>=min_cov, !!as.name(m5C_count_r1)>=0) )[[m5C_count_r1]], .99)[[1]]\n",
    "    \n",
    "    q_strain_rep2 <- quantile(\n",
    "        (strain_cgmap %>%\n",
    "        filter(!!as.name(cov_r2)>=min_cov, !!as.name(m5C_count_r2)>=0) )[[m5C_count_r2]], .99)[[1]]\n",
    "    \n",
    "    \n",
    "    #build dataframe\n",
    "    data <- strain_cgmap %>%\n",
    "        merge(y = TS559_cgmap, all = TRUE, \n",
    "             by= c(\"chromosome\",\"position\",\"reference_nucleotide\",\"growth_phase\",\"metabolic_condition\")) %>%\n",
    "        dplyr::select(-chromosome,-standard_devition) %>%\n",
    "    \n",
    "        # house keeping\n",
    "        mutate(!!as.name(cov_r1) := replace_na(!!as.name(cov_r1),0)) %>%\n",
    "        mutate(!!as.name(cov_r2) := replace_na(!!as.name(cov_r2),0)) %>%\n",
    "        \n",
    "        mutate(coverage_TS559_rep1 = replace_na(coverage_TS559_rep1,0)) %>%\n",
    "        mutate(coverage_TS559_rep2 = replace_na(coverage_TS559_rep2,0)) %>%\n",
    "        mutate(coverage_TS559_rep3 = replace_na(coverage_TS559_rep3,0)) %>%\n",
    "    rowwise() %>%\n",
    "        mutate(hiconf_TS559 = detect_hiconf_3reps(\n",
    "            f1=methylation_frequency_TS559_rep1,\n",
    "            m1=mC_count_TS559_rep1,\n",
    "            p1=q_TS559_rep1,\n",
    "            c1=coverage_TS559_rep1,\n",
    "            f2=methylation_frequency_TS559_rep2,\n",
    "            m2=mC_count_TS559_rep2,\n",
    "            p2=q_TS559_rep2,\n",
    "            c2=coverage_TS559_rep2,\n",
    "            f3=methylation_frequency_TS559_rep3,\n",
    "            m3=mC_count_TS559_rep3,\n",
    "            p3=q_TS559_rep3,\n",
    "            c3=coverage_TS559_rep3,\n",
    "            min_cov=min_cov,\n",
    "            min_freq = minimum_freq) \n",
    "              ) %>%\n",
    "        \n",
    "        rowwise() %>%\n",
    "        mutate(hiconf_strain = detect_hiconf_2reps(\n",
    "                f1=!!as.name(meth_freq_r1),\n",
    "                m1=!!as.name(m5C_count_r1),\n",
    "                p1=q_strain_rep1,\n",
    "                c1=!!as.name(cov_r1),\n",
    "                f2=!!as.name(meth_freq_r2),\n",
    "                m2=!!as.name(m5C_count_r2),\n",
    "                p2=q_strain_rep2,\n",
    "                c2=!!as.name(cov_r2), \n",
    "                min_cov= min_cov,\n",
    "                min_freq = minimum_freq)\n",
    "                 \n",
    "                ) %>%\n",
    "    \n",
    "    # keep sites where m5C is high confidence in either strain\n",
    "    filter(hiconf_TS559 == TRUE | hiconf_strain == TRUE) %>%\n",
    "    filter(!is.na(hiconf_TS559) & !is.na(hiconf_strain)) %>%\n",
    "\n",
    "    # calculate the mean m5C frequency at each site by pooling replicates (round to 2 decimals)\n",
    "    # calculate standard deviation of each site as well\n",
    "    mutate(!!as.name(pooled_methylation_frequency_strain) := \n",
    "             ( !!as.name(m5C_count_r1) +  !!as.name(m5C_count_r2) ) / ( !!as.name(cov_r1) + !!as.name(cov_r2) ) ) %>%\n",
    "        \n",
    "    mutate(!!as.name(pooled_methylation_frequency_strain) := round(!!as.name(pooled_methylation_frequency_strain),2))%>%\n",
    "    mutate(strain_sd = sd(c(!!as.name(meth_freq_r1),!!as.name(meth_freq_r2))))%>%\n",
    "    \n",
    "    mutate(pooled_methylation_frequency_TS559 =\n",
    "               (mC_count_TS559_rep1 + mC_count_TS559_rep2 + mC_count_TS559_rep3) /\n",
    "               (coverage_TS559_rep1+coverage_TS559_rep2+coverage_TS559_rep3)    ) %>%\n",
    "    mutate(pooled_methylation_frequency_TS559=round(pooled_methylation_frequency_TS559,2)) %>%\n",
    "    mutate(TS559_sd = sd(c(methylation_frequency_TS559_rep1,methylation_frequency_TS559_rep2,\n",
    "                              methylation_frequency_TS559_rep3))) %>%\n",
    "\n",
    "    # calculate fold change of methylaton frequency at each site between parent and deletion strain\n",
    "    mutate(FoldChange = (!!as.name(pooled_methylation_frequency_strain)+.01) / \n",
    "                               (pooled_methylation_frequency_TS559+.01),\n",
    "           log2FC = log2( (!!as.name(pooled_methylation_frequency_strain)+.01) / \n",
    "                               (pooled_methylation_frequency_TS559+.01) ) ) %>%\n",
    "    \n",
    "    mutate(CI90_overlap = \n",
    "                   rm_overlap(!!as.name(pooled_methylation_frequency_strain), strain_sd,\n",
    "                    pooled_methylation_frequency_TS559, TS559_sd )) %>%\n",
    "    \n",
    "    mutate(difference = get_difference(hiconf_TS559, hiconf_strain,   \n",
    "                                            !!as.name(pooled_methylation_frequency_strain), \n",
    "                                            pooled_methylation_frequency_TS559,\n",
    "                                            CI90_overlap\n",
    "                                      ) ) %>%\n",
    "    filter(difference == \"ABS LOSS\" | difference == \"REL LOSS\" | difference == \"ABS GAIN\" | \n",
    "           difference == \"REL GAIN\" | difference == \"error\") %>%\n",
    "    filter(log2FC >= 1 | log2FC <= -1) %>%\n",
    "\n",
    "    # add p vlaue\n",
    "    rowwise() %>%\n",
    "    mutate(pvalue = get_pvalue(\n",
    "            s1_mC = !!as.name(m5C_count_r1),\n",
    "            s1_cov = !!as.name(cov_r1), \n",
    "            s2_mC = !!as.name(m5C_count_r2),\n",
    "            s2_cov = !!as.name(cov_r2),\n",
    "            c1_mC = mC_count_TS559_rep1,\n",
    "            c1_cov = coverage_TS559_rep1,\n",
    "            c2_mC = mC_count_TS559_rep2,\n",
    "            c2_cov = coverage_TS559_rep2,\n",
    "            c3_mC = mC_count_TS559_rep3,\n",
    "            c3_cov = coverage_TS559_rep3) ) %>%\n",
    "    \n",
    "    filter(!is.na(pvalue), pvalue <= 0.01)\n",
    "    \n",
    "        \n",
    "    # adjust p values\n",
    "    # adj_pvalue <- p.adjust(data$pvalue, method = 'fdr')\n",
    "    #data <- cbind(data, adj_pvalue)\n",
    "    \n",
    "    data <- data %>% merge(y=annotation,by='position', all.x=TRUE) %>%\n",
    "            dplyr::rename(TS559_position = position) %>%\n",
    "           #filter(CI90_overlap==TRUE) %>%\n",
    "           dplyr::select(-reproducible, -highly_reproducible,-reference_nucleotide) %>%\n",
    "           arrange(log2FC) %>%\n",
    "           arrange(difference) %>%\n",
    "           dplyr::select(TS559_position, KOD1_position, strand, everything())\n",
    "    \n",
    "  \n",
    "    return(data)\n",
    "}\n",
    "    \n",
    "\n",
    "enumerate_hiconf_2reps <- function(strain_cgmap, strain, min_cov=47){\n",
    "    \n",
    "    meth_freq_r1 <- paste(\"methylation_frequency_\", strain, \"_rep1\", sep=\"\")\n",
    "    m5C_count_r1 <- paste(\"mC_count_\", strain, \"_rep1\", sep=\"\")\n",
    "    cov_r1 <- paste(\"coverage_\", strain, \"_rep1\", sep=\"\")\n",
    "\n",
    "    meth_freq_r2 <- paste(\"methylation_frequency_\", strain, \"_rep2\", sep=\"\")\n",
    "    m5C_count_r2 <- paste(\"mC_count_\", strain, \"_rep2\", sep=\"\")\n",
    "    cov_r2 <- paste(\"coverage_\", strain, \"_rep2\", sep=\"\")\n",
    "    \n",
    "    q_strain_rep1 <- quantile(\n",
    "        (strain_cgmap %>%\n",
    "        filter(!!as.name(cov_r1)>=min_cov, !!as.name(m5C_count_r1)>=0) )[[m5C_count_r1]], .99)[[1]]\n",
    "    \n",
    "    q_strain_rep2 <- quantile(\n",
    "        (strain_cgmap %>%\n",
    "        filter(!!as.name(cov_r2)>=min_cov, !!as.name(m5C_count_r2)>=0) )[[m5C_count_r2]], .99)[[1]]\n",
    "    \n",
    "    \n",
    "    data <- strain_cgmap %>%\n",
    "        dplyr::select(-chromosome, -reference_nucleotide,-growth_phase) %>%\n",
    "    \n",
    "        mutate(!!as.name(cov_r1) := replace_na(!!as.name(cov_r1),0)) %>%\n",
    "        mutate(!!as.name(cov_r2) := replace_na(!!as.name(cov_r2),0)) %>%  \n",
    "        \n",
    "        rowwise() %>%\n",
    "        mutate(hiconf_strain = detect_hiconf_2reps(\n",
    "                f1=!!as.name(meth_freq_r1),\n",
    "                m1=!!as.name(m5C_count_r1),\n",
    "                p1=q_strain_rep1,\n",
    "                c1=!!as.name(cov_r1),\n",
    "                f2=!!as.name(meth_freq_r2),\n",
    "                m2=!!as.name(m5C_count_r2),\n",
    "                p2=q_strain_rep2,\n",
    "                c2=!!as.name(cov_r2), \n",
    "                min_cov=min_cov)\n",
    "                 \n",
    "                ) %>%\n",
    "        dplyr::rename(TS559_position = position) %>%\n",
    "        \n",
    "        mutate( 'm5C_cov/total_cov_rep1' := \n",
    "            paste(!!as.name(paste('mC_count_',strain,'_rep1',sep='')), \n",
    "                  '/', \n",
    "                  !!as.name(paste('coverage_',strain,'_rep1',sep='')) \n",
    "                 ) \n",
    "              ) %>%\n",
    "        \n",
    "        mutate( 'm5C_cov/total_cov_rep2' := \n",
    "            paste(!!as.name(paste('mC_count_',strain,'_rep2',sep='')), \n",
    "                  '/', \n",
    "                  !!as.name(paste('coverage_',strain,'_rep2',sep='')) \n",
    "                 ) \n",
    "              ) %>%\n",
    "        dplyr::select(TS559_position, \n",
    "                  !!as.name(meth_freq_r1), \n",
    "                  'm5C_cov/total_cov_rep1',\n",
    "                  !!as.name(meth_freq_r2), \n",
    "                  'm5C_cov/total_cov_rep2',\n",
    "                     hiconf_strain) %>%\n",
    "\n",
    "    dplyr::rename(!!paste(strain,'_hiconf',sep=''):= hiconf_strain )  %>%\n",
    "    dplyr::rename(!!paste('m5C_cov/total_cov_',strain,'_rep1',sep=''):= 'm5C_cov/total_cov_rep1' )  %>%\n",
    "    dplyr::rename(!!paste('m5C_cov/total_cov_',strain,'_rep2',sep=''):= 'm5C_cov/total_cov_rep2' ) %>%\n",
    "    dplyr::rename(!!paste('freq_',strain,'_rep1',sep=''):= !!as.name(paste('methylation_frequency_',strain,'_rep1',sep='') ) )%>%\n",
    "    dplyr::rename(!!paste('freq_',strain,'_rep2',sep=''):= !!as.name(paste('methylation_frequency_',strain,'_rep2',sep='') ) )  \n",
    "    \n",
    "    return(data)\n",
    "}"
   ]
  },
  {
   "cell_type": "markdown",
   "metadata": {},
   "source": [
    "### analysis for 3 replicates (deletion of TK2241)"
   ]
  },
  {
   "cell_type": "code",
   "execution_count": 5,
   "metadata": {},
   "outputs": [],
   "source": [
    "CompareCGmap_3reps <- function(strain_cgmap, TS559_cgmap, strain, annotation, minimum_freq=.10, min_cov=47){\n",
    "    \n",
    "    #making some column names\n",
    "    meth_freq_r1 <- paste(\"methylation_frequency_\", strain, \"_rep1\", sep=\"\")\n",
    "    m5C_count_r1 <- paste(\"mC_count_\", strain, \"_rep1\", sep=\"\")\n",
    "    cov_r1 <- paste(\"coverage_\", strain, \"_rep1\", sep=\"\")\n",
    "\n",
    "    meth_freq_r2 <- paste(\"methylation_frequency_\", strain, \"_rep2\", sep=\"\")\n",
    "    m5C_count_r2 <- paste(\"mC_count_\", strain, \"_rep2\", sep=\"\")\n",
    "    cov_r2 <- paste(\"coverage_\", strain, \"_rep2\", sep=\"\")\n",
    "    \n",
    "    \n",
    "    meth_freq_r3 <- paste(\"methylation_frequency_\", strain, \"_rep3\", sep=\"\")\n",
    "    m5C_count_r3 <- paste(\"mC_count_\", strain, \"_rep3\", sep=\"\")\n",
    "    cov_r3 <- paste(\"coverage_\", strain, \"_rep3\", sep=\"\")\n",
    "    \n",
    "    \n",
    "    pooled_methylation_frequency_strain <- paste(\"pooled_methylation_frequency_\", strain, sep='')\n",
    "\n",
    "    #get quantile values for m5C count\n",
    "    q_TS559_rep1 <- quantile((TS559_cgmap%>%\n",
    "        filter(coverage_TS559_rep1>=min_cov, mC_count_TS559_rep1>=0))$mC_count_TS559_rep1, .99)[[1]]\n",
    "    \n",
    "    q_TS559_rep2 <- quantile((TS559_cgmap%>%\n",
    "        filter(coverage_TS559_rep2>=min_cov, mC_count_TS559_rep2>=0))$mC_count_TS559_rep2, .99)[[1]]\n",
    "    \n",
    "    q_TS559_rep3 <- quantile((TS559_cgmap%>%\n",
    "        filter(coverage_TS559_rep3>=min_cov, mC_count_TS559_rep3>=0))$mC_count_TS559_rep3, .99)[[1]]\n",
    "\n",
    "    q_strain_rep1 <- quantile(\n",
    "        (strain_cgmap %>%\n",
    "        filter(!!as.name(cov_r1)>=min_cov, !!as.name(m5C_count_r1)>=0) )[[m5C_count_r1]], .99)[[1]]\n",
    "    \n",
    "    q_strain_rep2 <- quantile(\n",
    "        (strain_cgmap %>%\n",
    "        filter(!!as.name(cov_r2)>=min_cov, !!as.name(m5C_count_r2)>=0) )[[m5C_count_r2]], .99)[[1]]\n",
    "   \n",
    "    q_strain_rep3 <- quantile(\n",
    "        (strain_cgmap %>%\n",
    "        filter(!!as.name(cov_r3)>=min_cov, !!as.name(m5C_count_r3)>=0) )[[m5C_count_r3]], .99)[[1]] \n",
    "    \n",
    "    #build dataframe\n",
    "    data <- strain_cgmap %>%\n",
    "        merge(y = TS559_cgmap, all = TRUE, \n",
    "             by= c(\"chromosome\",\"position\",\"reference_nucleotide\",\"growth_phase\",\"metabolic_condition\")) %>%\n",
    "        dplyr::select(-chromosome,-standard_devition) %>%\n",
    "    \n",
    "        # If coverage is NA, it is also 0\n",
    "        mutate(!!as.name(cov_r1) := replace_na(!!as.name(cov_r1),0)) %>%\n",
    "        mutate(!!as.name(cov_r2) := replace_na(!!as.name(cov_r2),0)) %>%\n",
    "        mutate(!!as.name(cov_r3) := replace_na(!!as.name(cov_r3),0)) %>%\n",
    "\n",
    "        mutate(coverage_TS559_rep1 = replace_na(coverage_TS559_rep1,0)) %>%\n",
    "        mutate(coverage_TS559_rep2 = replace_na(coverage_TS559_rep2,0)) %>%\n",
    "        mutate(coverage_TS559_rep3 = replace_na(coverage_TS559_rep3,0)) %>%  \n",
    "                                                      \n",
    "        # identify high confidence and reproducible m5C sites\n",
    "        rowwise() %>%\n",
    "        mutate(hiconf_TS559 = detect_hiconf_3reps(\n",
    "            f1=methylation_frequency_TS559_rep1,\n",
    "            m1=mC_count_TS559_rep1,\n",
    "            p1=q_TS559_rep1,\n",
    "            c1=coverage_TS559_rep1,\n",
    "            f2=methylation_frequency_TS559_rep2,\n",
    "            m2=mC_count_TS559_rep2,\n",
    "            p2=q_TS559_rep2,\n",
    "            c2=coverage_TS559_rep2,\n",
    "            f3=methylation_frequency_TS559_rep3,\n",
    "            m3=mC_count_TS559_rep3,\n",
    "            p3=q_TS559_rep3,\n",
    "            c3=coverage_TS559_rep3,\n",
    "            min_cov=min_cov,\n",
    "            min_freq = minimum_freq) \n",
    "              ) %>%\n",
    "        \n",
    "        rowwise() %>%\n",
    "        mutate(hiconf_strain = detect_hiconf_3reps(\n",
    "                f1=!!as.name(meth_freq_r1),\n",
    "                m1=!!as.name(m5C_count_r1),\n",
    "                p1=q_strain_rep1,\n",
    "                c1=!!as.name(cov_r1),\n",
    "                f2=!!as.name(meth_freq_r2),\n",
    "                m2=!!as.name(m5C_count_r2),\n",
    "                p2=q_strain_rep2,\n",
    "                c2=!!as.name(cov_r2), \n",
    "                f3=!!as.name(meth_freq_r3),\n",
    "                m3=!!as.name(m5C_count_r3),\n",
    "                p3=q_strain_rep3,\n",
    "                c3=!!as.name(cov_r3), \n",
    "                min_cov= min_cov,\n",
    "                min_freq = minimum_freq)\n",
    "                 \n",
    "                ) %>%\n",
    "        # we are only interested in keeping sites were either the parent or deletion\n",
    "        # strain have a high-confidence m5C site\n",
    "        filter(hiconf_TS559 == TRUE | hiconf_strain == TRUE) %>%\n",
    "        filter(!is.na(hiconf_TS559) & !is.na(hiconf_strain)) %>%\n",
    "                                                    \n",
    "                                                          \n",
    "        # calculate the mean m5C frequency at each site by pooling replicates (round to 2 decimals)\n",
    "        # calculate standard deviation of each site as well\n",
    "        mutate(\n",
    "                !!as.name(pooled_methylation_frequency_strain) := \n",
    "                ( !!as.name(m5C_count_r1) + !!as.name(m5C_count_r2) + !!as.name(m5C_count_r3) )/ \n",
    "                ( !!as.name(cov_r1) + !!as.name(cov_r2) + !!as.name(cov_r3) ) \n",
    "              ) %>%\n",
    "    \n",
    "        \n",
    "        mutate(!!as.name(pooled_methylation_frequency_strain) := \n",
    "               round(!!as.name(pooled_methylation_frequency_strain),2)\n",
    "              ) %>%\n",
    "        mutate(strain_sd = sd(c(!!as.name(meth_freq_r1),!!as.name(meth_freq_r2),!!as.name(meth_freq_r3)))\n",
    "              )%>%\n",
    "    \n",
    "        mutate(pooled_methylation_frequency_TS559 =\n",
    "               (mC_count_TS559_rep1 + mC_count_TS559_rep2 + mC_count_TS559_rep3) /\n",
    "               (coverage_TS559_rep1+coverage_TS559_rep2+coverage_TS559_rep3)    ) %>%\n",
    "        mutate(pooled_methylation_frequency_TS559=round(pooled_methylation_frequency_TS559,2)) %>%\n",
    "        mutate(TS559_sd = sd(c(methylation_frequency_TS559_rep1,methylation_frequency_TS559_rep2,\n",
    "                              methylation_frequency_TS559_rep3))) %>%\n",
    "    \n",
    "\n",
    "        # calculate fold change of methylaton frequency at each site between parent and deletion strain\n",
    "        mutate(FoldChange = (!!as.name(pooled_methylation_frequency_strain)+.01) / \n",
    "                               (pooled_methylation_frequency_TS559+.01),\n",
    "               log2FC = log2( (!!as.name(pooled_methylation_frequency_strain)+.01) / \n",
    "                               (pooled_methylation_frequency_TS559+.01) ) ) %>%\n",
    "        \n",
    "        mutate(CI90_overlap = \n",
    "                   rm_overlap(!!as.name(pooled_methylation_frequency_strain), strain_sd,\n",
    "                    pooled_methylation_frequency_TS559, TS559_sd )) %>%\n",
    "    \n",
    "        mutate(difference = get_difference(hiconf_TS559, hiconf_strain,   \n",
    "                                            !!as.name(pooled_methylation_frequency_strain), \n",
    "                                            pooled_methylation_frequency_TS559,\n",
    "                                            CI90_overlap\n",
    "                                      ) ) %>%\n",
    "        filter(difference == \"ABS LOSS\" | difference == \"REL LOSS\" | difference == \"ABS GAIN\" | \n",
    "           difference == \"REL GAIN\" | difference == \"error\") %>%\n",
    "        filter(log2FC >= 1 | log2FC <= -1) %>%\n",
    "\n",
    "    \n",
    "        # add p vlaue\n",
    "        rowwise() %>%\n",
    "        mutate(pvalue = get_pvalue_3reps(\n",
    "            s1_mC = !!as.name(m5C_count_r1),\n",
    "            s1_cov = !!as.name(cov_r1), \n",
    "            s2_mC = !!as.name(m5C_count_r2),\n",
    "            s2_cov = !!as.name(cov_r2),\n",
    "            s3_mC = !!as.name(m5C_count_r3),\n",
    "            s3_cov = !!as.name(cov_r3),\n",
    "            c1_mC = mC_count_TS559_rep1,\n",
    "            c1_cov = coverage_TS559_rep1,\n",
    "            c2_mC = mC_count_TS559_rep2,\n",
    "            c2_cov = coverage_TS559_rep2,\n",
    "            c3_mC = mC_count_TS559_rep3,\n",
    "            c3_cov = coverage_TS559_rep3) ) %>%\n",
    "        \n",
    "    \n",
    "        filter(!is.na(pvalue), pvalue <= 0.0)\n",
    "            \n",
    "        # adjust p values\n",
    "        # adj_pvalue <- p.adjust(data$pvalue, method = 'fdr')\n",
    "        # data <- cbind(data, adj_pvalue)\n",
    "    \n",
    "        data <- data %>% merge(y=annotation,by='position', all.x=TRUE) %>%\n",
    "            dplyr::rename(TS559_position = position) %>%\n",
    "           dplyr::select(-reproducible, -highly_reproducible, -reference_nucleotide) %>%\n",
    "           arrange(log2FC) %>%\n",
    "            arrange(difference) %>%\n",
    "            dplyr::select(TS559_position, KOD1_position, strand, everything())\n",
    "    \n",
    "    return(data)\n",
    "}\n",
    "\n",
    "enumerate_hiconf_3reps <- function(strain_cgmap, strain, min_cov=47){\n",
    "    \n",
    "    meth_freq_r1 <- paste(\"methylation_frequency_\", strain, \"_rep1\", sep=\"\")\n",
    "    m5C_count_r1 <- paste(\"mC_count_\", strain, \"_rep1\", sep=\"\")\n",
    "    cov_r1 <- paste(\"coverage_\", strain, \"_rep1\", sep=\"\")\n",
    "\n",
    "    meth_freq_r2 <- paste(\"methylation_frequency_\", strain, \"_rep2\", sep=\"\")\n",
    "    m5C_count_r2 <- paste(\"mC_count_\", strain, \"_rep2\", sep=\"\")\n",
    "    cov_r2 <- paste(\"coverage_\", strain, \"_rep2\", sep=\"\")\n",
    "    \n",
    "    q_strain_rep1 <- quantile(\n",
    "        (strain_cgmap %>%\n",
    "        filter(!!as.name(cov_r1)>=min_cov, !!as.name(m5C_count_r1)>=0) )[[m5C_count_r1]], .99)[[1]]\n",
    "    \n",
    "    q_strain_rep2 <- quantile(\n",
    "        (strain_cgmap %>%\n",
    "        filter(!!as.name(cov_r2)>=min_cov, !!as.name(m5C_count_r2)>=0) )[[m5C_count_r2]], .99)[[1]]\n",
    "    \n",
    "    \n",
    "    data <- strain_cgmap %>%\n",
    "        dplyr::select(-chromosome, -reference_nucleotide,-growth_phase) %>%\n",
    "    \n",
    "        mutate(!!as.name(cov_r1) := replace_na(!!as.name(cov_r1),0)) %>%\n",
    "        mutate(!!as.name(cov_r2) := replace_na(!!as.name(cov_r2),0)) %>%   \n",
    "        \n",
    "        rowwise() %>%\n",
    "        mutate(hiconf_strain = detect_hiconf_2reps(\n",
    "                f1=!!as.name(meth_freq_r1),\n",
    "                m1=!!as.name(m5C_count_r1),\n",
    "                p1=q_strain_rep1,\n",
    "                c1=!!as.name(cov_r1),\n",
    "                f2=!!as.name(meth_freq_r2),\n",
    "                m2=!!as.name(m5C_count_r2),\n",
    "                p2=q_strain_rep2,\n",
    "                c2=!!as.name(cov_r2), \n",
    "                min_cov=min_cov)\n",
    "                 \n",
    "                ) %>%\n",
    "        dplyr::rename(TS559_position = position) %>%\n",
    "        \n",
    "        mutate( 'm5C_cov/total_cov_rep1' := \n",
    "            paste(!!as.name(paste('mC_count_',strain,'_rep1',sep='')), \n",
    "                  '/', \n",
    "                  !!as.name(paste('coverage_',strain,'_rep1',sep='')) \n",
    "                 ) \n",
    "              ) %>%\n",
    "        \n",
    "        mutate( 'm5C_cov/total_cov_rep2' := \n",
    "            paste(!!as.name(paste('mC_count_',strain,'_rep2',sep='')), \n",
    "                  '/', \n",
    "                  !!as.name(paste('coverage_',strain,'_rep2',sep='')) \n",
    "                 ) \n",
    "              ) %>%\n",
    "        dplyr::select(TS559_position, \n",
    "                  !!as.name(meth_freq_r1), \n",
    "                  'm5C_cov/total_cov_rep1',\n",
    "                  !!as.name(meth_freq_r2), \n",
    "                  'm5C_cov/total_cov_rep2',\n",
    "                     hiconf_strain) %>%\n",
    "\n",
    "    dplyr::rename(!!paste(strain,'_hiconf',sep=''):= hiconf_strain )  %>%\n",
    "    dplyr::rename(!!paste('m5C_cov/total_cov_',strain,'_rep1',sep=''):= 'm5C_cov/total_cov_rep1' )  %>%\n",
    "    dplyr::rename(!!paste('m5C_cov/total_cov_',strain,'_rep2',sep=''):= 'm5C_cov/total_cov_rep2' ) %>%\n",
    "    dplyr::rename(!!paste('freq_',strain,'_rep1',sep=''):= !!as.name(paste('methylation_frequency_',strain,'_rep1',sep='') ) )%>%\n",
    "    dplyr::rename(!!paste('freq_',strain,'_rep2',sep=''):= !!as.name(paste('methylation_frequency_',strain,'_rep2',sep='') ) )  \n",
    "    \n",
    "    return(data)\n",
    "}"
   ]
  },
  {
   "cell_type": "markdown",
   "metadata": {},
   "source": [
    "### CGmap comparisons\n"
   ]
  },
  {
   "cell_type": "code",
   "execution_count": 8,
   "metadata": {},
   "outputs": [
    {
     "data": {
      "text/html": [
       "'quantiles:'"
      ],
      "text/latex": [
       "'quantiles:'"
      ],
      "text/markdown": [
       "'quantiles:'"
      ],
      "text/plain": [
       "[1] \"quantiles:\""
      ]
     },
     "metadata": {},
     "output_type": "display_data"
    },
    {
     "data": {
      "text/html": [
       "<style>\n",
       ".list-inline {list-style: none; margin:0; padding: 0}\n",
       ".list-inline>li {display: inline-block}\n",
       ".list-inline>li:not(:last-child)::after {content: \"\\00b7\"; padding: 0 .5ex}\n",
       "</style>\n",
       "<ol class=list-inline><li>6</li><li>9</li></ol>\n"
      ],
      "text/latex": [
       "\\begin{enumerate*}\n",
       "\\item 6\n",
       "\\item 9\n",
       "\\end{enumerate*}\n"
      ],
      "text/markdown": [
       "1. 6\n",
       "2. 9\n",
       "\n",
       "\n"
      ],
      "text/plain": [
       "[1] 6 9"
      ]
     },
     "metadata": {},
     "output_type": "display_data"
    },
    {
     "ename": "ERROR",
     "evalue": "\u001b[1m\u001b[33mError\u001b[39m in `mutate()`:\u001b[22m\n\u001b[1m\u001b[22m\u001b[36mℹ\u001b[39m In argument: `CI90_overlap = rm_overlap(...)`.\n\u001b[36mℹ\u001b[39m In row 1.\n\u001b[1mCaused by error in `r1 %overlaps% r2`:\u001b[22m\n\u001b[33m!\u001b[39m could not find function \"%overlaps%\"\n",
     "output_type": "error",
     "traceback": [
      "\u001b[1m\u001b[33mError\u001b[39m in `mutate()`:\u001b[22m\n\u001b[1m\u001b[22m\u001b[36mℹ\u001b[39m In argument: `CI90_overlap = rm_overlap(...)`.\n\u001b[36mℹ\u001b[39m In row 1.\n\u001b[1mCaused by error in `r1 %overlaps% r2`:\u001b[22m\n\u001b[33m!\u001b[39m could not find function \"%overlaps%\"\nTraceback:\n",
      "1. CompareCGmap(strain_cgmap = TK0224exoS, TS559_cgmap = TS559exoS, \n .     strain = \"TK0224\", annotation = annotation, min_cov = 47)",
      "2. strain_cgmap %>% merge(y = TS559_cgmap, all = TRUE, by = c(\"chromosome\", \n .     \"position\", \"reference_nucleotide\", \"growth_phase\", \"metabolic_condition\")) %>% \n .     dplyr::select(-chromosome, -standard_devition) %>% mutate(`:=`(!!as.name(cov_r1), \n .     replace_na(!!as.name(cov_r1), 0))) %>% mutate(`:=`(!!as.name(cov_r2), \n .     replace_na(!!as.name(cov_r2), 0))) %>% mutate(coverage_TS559_rep1 = replace_na(coverage_TS559_rep1, \n .     0)) %>% mutate(coverage_TS559_rep2 = replace_na(coverage_TS559_rep2, \n .     0)) %>% mutate(coverage_TS559_rep3 = replace_na(coverage_TS559_rep3, \n .     0)) %>% rowwise() %>% mutate(hiconf_TS559 = detect_hiconf_3reps(f1 = methylation_frequency_TS559_rep1, \n .     m1 = mC_count_TS559_rep1, p1 = q_TS559_rep1, c1 = coverage_TS559_rep1, \n .     f2 = methylation_frequency_TS559_rep2, m2 = mC_count_TS559_rep2, \n .     p2 = q_TS559_rep2, c2 = coverage_TS559_rep2, f3 = methylation_frequency_TS559_rep3, \n .     m3 = mC_count_TS559_rep3, p3 = q_TS559_rep3, c3 = coverage_TS559_rep3, \n .     min_cov = min_cov, min_freq = minimum_freq)) %>% rowwise() %>% \n .     mutate(hiconf_strain = detect_hiconf_2reps(f1 = !!as.name(meth_freq_r1), \n .         m1 = !!as.name(m5C_count_r1), p1 = q_strain_rep1, c1 = !!as.name(cov_r1), \n .         f2 = !!as.name(meth_freq_r2), m2 = !!as.name(m5C_count_r2), \n .         p2 = q_strain_rep2, c2 = !!as.name(cov_r2), min_cov = min_cov, \n .         min_freq = minimum_freq)) %>% filter(hiconf_TS559 == \n .     TRUE | hiconf_strain == TRUE) %>% filter(!is.na(hiconf_TS559) & \n .     !is.na(hiconf_strain)) %>% mutate(`:=`(!!as.name(pooled_methylation_frequency_strain), \n .     (!!as.name(m5C_count_r1) + !!as.name(m5C_count_r2))/(!!as.name(cov_r1) + \n .         !!as.name(cov_r2)))) %>% mutate(`:=`(!!as.name(pooled_methylation_frequency_strain), \n .     round(!!as.name(pooled_methylation_frequency_strain), 2))) %>% \n .     mutate(strain_sd = sd(c(!!as.name(meth_freq_r1), !!as.name(meth_freq_r2)))) %>% \n .     mutate(pooled_methylation_frequency_TS559 = (mC_count_TS559_rep1 + \n .         mC_count_TS559_rep2 + mC_count_TS559_rep3)/(coverage_TS559_rep1 + \n .         coverage_TS559_rep2 + coverage_TS559_rep3)) %>% mutate(pooled_methylation_frequency_TS559 = round(pooled_methylation_frequency_TS559, \n .     2)) %>% mutate(TS559_sd = sd(c(methylation_frequency_TS559_rep1, \n .     methylation_frequency_TS559_rep2, methylation_frequency_TS559_rep3))) %>% \n .     mutate(FoldChange = (!!as.name(pooled_methylation_frequency_strain) + \n .         0.01)/(pooled_methylation_frequency_TS559 + 0.01), log2FC = log2((!!as.name(pooled_methylation_frequency_strain) + \n .         0.01)/(pooled_methylation_frequency_TS559 + 0.01))) %>% \n .     mutate(CI90_overlap = rm_overlap(!!as.name(pooled_methylation_frequency_strain), \n .         strain_sd, pooled_methylation_frequency_TS559, TS559_sd)) %>% \n .     mutate(difference = get_difference(hiconf_TS559, hiconf_strain, \n .         !!as.name(pooled_methylation_frequency_strain), pooled_methylation_frequency_TS559, \n .         CI90_overlap)) %>% filter(difference == \"ABS LOSS\" | \n .     difference == \"REL LOSS\" | difference == \"ABS GAIN\" | difference == \n .     \"REL GAIN\" | difference == \"error\") %>% filter(log2FC >= \n .     1 | log2FC <= -1) %>% rowwise() %>% mutate(pvalue = get_pvalue(s1_mC = !!as.name(m5C_count_r1), \n .     s1_cov = !!as.name(cov_r1), s2_mC = !!as.name(m5C_count_r2), \n .     s2_cov = !!as.name(cov_r2), c1_mC = mC_count_TS559_rep1, \n .     c1_cov = coverage_TS559_rep1, c2_mC = mC_count_TS559_rep2, \n .     c2_cov = coverage_TS559_rep2, c3_mC = mC_count_TS559_rep3, \n .     c3_cov = coverage_TS559_rep3)) %>% filter(!is.na(pvalue), \n .     pvalue <= 0.01)   # at line 375-472 of file <text>",
      "3. filter(., !is.na(pvalue), pvalue <= 0.01)",
      "4. mutate(., pvalue = get_pvalue(s1_mC = !!as.name(m5C_count_r1), \n .     s1_cov = !!as.name(cov_r1), s2_mC = !!as.name(m5C_count_r2), \n .     s2_cov = !!as.name(cov_r2), c1_mC = mC_count_TS559_rep1, \n .     c1_cov = coverage_TS559_rep1, c2_mC = mC_count_TS559_rep2, \n .     c2_cov = coverage_TS559_rep2, c3_mC = mC_count_TS559_rep3, \n .     c3_cov = coverage_TS559_rep3))",
      "5. rowwise(.)",
      "6. filter(., log2FC >= 1 | log2FC <= -1)",
      "7. filter(., difference == \"ABS LOSS\" | difference == \"REL LOSS\" | \n .     difference == \"ABS GAIN\" | difference == \"REL GAIN\" | difference == \n .     \"error\")",
      "8. mutate(., difference = get_difference(hiconf_TS559, hiconf_strain, \n .     !!as.name(pooled_methylation_frequency_strain), pooled_methylation_frequency_TS559, \n .     CI90_overlap))",
      "9. mutate(., CI90_overlap = rm_overlap(!!as.name(pooled_methylation_frequency_strain), \n .     strain_sd, pooled_methylation_frequency_TS559, TS559_sd))",
      "10. mutate.data.frame(., CI90_overlap = rm_overlap(!!as.name(pooled_methylation_frequency_strain), \n  .     strain_sd, pooled_methylation_frequency_TS559, TS559_sd))",
      "11. mutate_cols(.data, dplyr_quosures(...), by)",
      "12. withCallingHandlers(for (i in seq_along(dots)) {\n  .     poke_error_context(dots, i, mask = mask)\n  .     context_poke(\"column\", old_current_column)\n  .     new_columns <- mutate_col(dots[[i]], data, mask, new_columns)\n  . }, error = dplyr_error_handler(dots = dots, mask = mask, bullets = mutate_bullets, \n  .     error_call = error_call, error_class = \"dplyr:::mutate_error\"), \n  .     warning = dplyr_warning_handler(state = warnings_state, mask = mask, \n  .         error_call = error_call))",
      "13. mutate_col(dots[[i]], data, mask, new_columns)",
      "14. mask$eval_all_mutate(quo)",
      "15. eval()",
      "16. rm_overlap(pooled_methylation_frequency_TK0224, strain_sd, pooled_methylation_frequency_TS559, \n  .     TS559_sd)",
      "17. .handleSimpleError(function (cnd) \n  . {\n  .     local_error_context(dots, i = frame[[i_sym]], mask = mask)\n  .     if (inherits(cnd, \"dplyr:::internal_error\")) {\n  .         parent <- error_cnd(message = bullets(cnd))\n  .     }\n  .     else {\n  .         parent <- cnd\n  .     }\n  .     message <- c(cnd_bullet_header(action), i = if (has_active_group_context(mask)) cnd_bullet_cur_group_label())\n  .     abort(message, class = error_class, parent = parent, call = error_call)\n  . }, \"could not find function \\\"%overlaps%\\\"\", base::quote(r1 %overlaps% \n  .     r2))   # at line 182 of file <text>",
      "18. h(simpleError(msg, call))",
      "19. abort(message, class = error_class, parent = parent, call = error_call)",
      "20. signal_abort(cnd, .file)"
     ]
    }
   ],
   "source": [
    "###strain TK0224\n",
    "\n",
    "defaultW <- getOption(\"warn\")\n",
    "options(warn = -1)\n",
    "\n",
    "\n",
    "#load CGmaps into session\n",
    "TK0224exoS_CGmap_rep1 <-read.delim(\"../cgmaps/TK0224_exoS_totalRNA_rep1.CGmap\", sep='\\t', header=FALSE,col.names=cols) %>%\n",
    "    mutate(strain=\"TK0224\", growth_phase='exoponential', metabolic_condition=\"S\", replicate=\"rep1\")\n",
    "\n",
    "TK0224exoS_CGmap_rep2 <-read.delim(\"../cgmaps/TK0224_exoS_totalRNA_rep2.CGmap\", sep='\\t', header=FALSE,col.names=cols) %>%\n",
    "    mutate(strain=\"TK0224\", growth_phase='exoponential', metabolic_condition=\"S\", replicate=\"rep2\")\n",
    "\n",
    "# process raw CGmaps\n",
    "TK0224exoS_rep1_df <- processCGmap(TK0224exoS_CGmap_rep1)\n",
    "TK0224exoS_rep2_df <- processCGmap(TK0224exoS_CGmap_rep2)\n",
    "\n",
    "#merge reps\n",
    "TK0224exoS <- merge_del_reps(x=TK0224exoS_rep1_df, y=TK0224exoS_rep2_df, strain='TK0224')\n",
    "\n",
    "# get quantiles\n",
    "\"quantiles:\"\n",
    "get_quantiles(strain_cgmap = TK0224exoS, strain=\"TK0224\", min_cov = 47)\n",
    "\n",
    "#compare methylation frequencies & annotate\n",
    "TK0224exoS_anal <- CompareCGmap(strain_cgmap = TK0224exoS, \n",
    "                                TS559_cgmap = TS559exoS, \n",
    "                                strain=\"TK0224\", \n",
    "                                annotation = annotation,\n",
    "                                min_cov = 47)\n",
    "\n",
    "write.table(TK0224exoS_anal, file = \"../processed_cgmaps/TK0224exoS_annotated\", sep = \"\\t\", row.names = F)\n",
    "\n",
    "#enumerate gains & losses\n",
    "\"losses & gains:\"\n",
    "nrow( TK0224exoS_anal %>% filter(log2FC < 0) )\n",
    "nrow( TK0224exoS_anal %>% filter(log2FC > 0) )\n",
    "\n",
    "\"absolute losses & gains:\"\n",
    "nrow( TK0224exoS_anal %>% filter(difference == \"ABS LOSS\") )\n",
    "nrow( TK0224exoS_anal %>% filter(difference == \"ABS GAIN\") )\n",
    "\n",
    "\n",
    "\n",
    "head(TK0224exoS_anal)\n",
    "\n",
    "# TK0224exoS_cat <- enumerate_hiconf_2reps(strain_cgmap = TK0224exoS, strain=\"TK0224\",min_cov = 47)\n",
    "\n",
    "Sys.sleep(10)"
   ]
  },
  {
   "cell_type": "code",
   "execution_count": 7,
   "metadata": {},
   "outputs": [
    {
     "data": {
      "text/html": [
       "'quantiles:'"
      ],
      "text/latex": [
       "'quantiles:'"
      ],
      "text/markdown": [
       "'quantiles:'"
      ],
      "text/plain": [
       "[1] \"quantiles:\""
      ]
     },
     "metadata": {},
     "output_type": "display_data"
    },
    {
     "data": {
      "text/html": [
       "<style>\n",
       ".list-inline {list-style: none; margin:0; padding: 0}\n",
       ".list-inline>li {display: inline-block}\n",
       ".list-inline>li:not(:last-child)::after {content: \"\\00b7\"; padding: 0 .5ex}\n",
       "</style>\n",
       "<ol class=list-inline><li>6</li><li>10</li></ol>\n"
      ],
      "text/latex": [
       "\\begin{enumerate*}\n",
       "\\item 6\n",
       "\\item 10\n",
       "\\end{enumerate*}\n"
      ],
      "text/markdown": [
       "1. 6\n",
       "2. 10\n",
       "\n",
       "\n"
      ],
      "text/plain": [
       "[1]  6 10"
      ]
     },
     "metadata": {},
     "output_type": "display_data"
    },
    {
     "data": {
      "text/html": [
       "'losses &amp; gains:'"
      ],
      "text/latex": [
       "'losses \\& gains:'"
      ],
      "text/markdown": [
       "'losses &amp; gains:'"
      ],
      "text/plain": [
       "[1] \"losses & gains:\""
      ]
     },
     "metadata": {},
     "output_type": "display_data"
    },
    {
     "data": {
      "text/html": [
       "0"
      ],
      "text/latex": [
       "0"
      ],
      "text/markdown": [
       "0"
      ],
      "text/plain": [
       "[1] 0"
      ]
     },
     "metadata": {},
     "output_type": "display_data"
    },
    {
     "data": {
      "text/html": [
       "7"
      ],
      "text/latex": [
       "7"
      ],
      "text/markdown": [
       "7"
      ],
      "text/plain": [
       "[1] 7"
      ]
     },
     "metadata": {},
     "output_type": "display_data"
    },
    {
     "data": {
      "text/html": [
       "'absolute losses &amp; gains:'"
      ],
      "text/latex": [
       "'absolute losses \\& gains:'"
      ],
      "text/markdown": [
       "'absolute losses &amp; gains:'"
      ],
      "text/plain": [
       "[1] \"absolute losses & gains:\""
      ]
     },
     "metadata": {},
     "output_type": "display_data"
    },
    {
     "data": {
      "text/html": [
       "0"
      ],
      "text/latex": [
       "0"
      ],
      "text/markdown": [
       "0"
      ],
      "text/plain": [
       "[1] 0"
      ]
     },
     "metadata": {},
     "output_type": "display_data"
    },
    {
     "data": {
      "text/html": [
       "3"
      ],
      "text/latex": [
       "3"
      ],
      "text/markdown": [
       "3"
      ],
      "text/plain": [
       "[1] 3"
      ]
     },
     "metadata": {},
     "output_type": "display_data"
    },
    {
     "data": {
      "text/html": [
       "<table class=\"dataframe\">\n",
       "<caption>A data.frame: 6 × 50</caption>\n",
       "<thead>\n",
       "\t<tr><th></th><th scope=col>TS559_position</th><th scope=col>KOD1_position</th><th scope=col>strand</th><th scope=col>growth_phase</th><th scope=col>metabolic_condition</th><th scope=col>methylation_frequency_TK0234_rep1</th><th scope=col>mC_count_TK0234_rep1</th><th scope=col>coverage_TK0234_rep1</th><th scope=col>methylation_frequency_TK0234_rep2</th><th scope=col>mC_count_TK0234_rep2</th><th scope=col>⋯</th><th scope=col>amino_acid_sequence</th><th scope=col>amino_acid_ID</th><th scope=col>local_41bp_predicted_fold</th><th scope=col>m5C_position_fold</th><th scope=col>MFE</th><th scope=col>associated_TSS_id</th><th scope=col>TSS_direction</th><th scope=col>TSS_description</th><th scope=col>total_annotations</th><th scope=col>alternate_annotations</th></tr>\n",
       "\t<tr><th></th><th scope=col>&lt;int&gt;</th><th scope=col>&lt;chr&gt;</th><th scope=col>&lt;chr&gt;</th><th scope=col>&lt;chr&gt;</th><th scope=col>&lt;chr&gt;</th><th scope=col>&lt;dbl&gt;</th><th scope=col>&lt;int&gt;</th><th scope=col>&lt;int&gt;</th><th scope=col>&lt;dbl&gt;</th><th scope=col>&lt;int&gt;</th><th scope=col>⋯</th><th scope=col>&lt;chr&gt;</th><th scope=col>&lt;chr&gt;</th><th scope=col>&lt;chr&gt;</th><th scope=col>&lt;chr&gt;</th><th scope=col>&lt;chr&gt;</th><th scope=col>&lt;chr&gt;</th><th scope=col>&lt;chr&gt;</th><th scope=col>&lt;chr&gt;</th><th scope=col>&lt;int&gt;</th><th scope=col>&lt;chr&gt;</th></tr>\n",
       "</thead>\n",
       "<tbody>\n",
       "\t<tr><th scope=row>1</th><td>1407584</td><td>1408575</td><td>+</td><td>exoponential</td><td>S</td><td>0.04</td><td>20</td><td>535</td><td>0.05</td><td> 67</td><td>⋯</td><td>CAG</td><td>Q</td><td>||||||........|||||....||.....|||||...|||</td><td>single_stranded</td><td>-85.61</td><td>.</td><td>.</td><td>.</td><td>1</td><td>NA</td></tr>\n",
       "\t<tr><th scope=row>2</th><td>  48659</td><td>48659  </td><td>-</td><td>exoponential</td><td>S</td><td>0.04</td><td> 4</td><td>107</td><td>0.07</td><td> 65</td><td>⋯</td><td>GCC</td><td>A</td><td>......................................|||</td><td>single_stranded</td><td>-68.21</td><td>.</td><td>.</td><td>.</td><td>1</td><td>NA</td></tr>\n",
       "\t<tr><th scope=row>3</th><td> 226308</td><td>227299 </td><td>-</td><td>exoponential</td><td>S</td><td>0.06</td><td> 5</td><td> 85</td><td>0.08</td><td> 58</td><td>⋯</td><td>ACC</td><td>T</td><td>|||||||.....|||..||....||||||............</td><td>single_stranded</td><td>-44.59</td><td>.</td><td>.</td><td>.</td><td>1</td><td>NA</td></tr>\n",
       "\t<tr><th scope=row>4</th><td>1865353</td><td>1866344</td><td>+</td><td>exoponential</td><td>S</td><td>0.06</td><td>13</td><td>227</td><td>0.07</td><td>233</td><td>⋯</td><td>GCC</td><td>A</td><td>||||||..........||||||||..||||...........</td><td>base_paired    </td><td>-31.14</td><td>.</td><td>.</td><td>.</td><td>1</td><td>NA</td></tr>\n",
       "\t<tr><th scope=row>5</th><td> 624690</td><td>625681 </td><td>+</td><td>exoponential</td><td>S</td><td>0.20</td><td>17</td><td> 84</td><td>0.19</td><td> 57</td><td>⋯</td><td>CCG</td><td>P</td><td>....|||||...|||||.||||..|||....|||..||||.</td><td>base_paired    </td><td>-62.61</td><td>.</td><td>.</td><td>.</td><td>1</td><td>NA</td></tr>\n",
       "\t<tr><th scope=row>6</th><td>2035075</td><td>2036066</td><td>+</td><td>exoponential</td><td>S</td><td>0.11</td><td>13</td><td>115</td><td>0.14</td><td> 88</td><td>⋯</td><td>CUU</td><td>L</td><td>|||||||..||||||.......||||..|||||.|||||||</td><td>single_stranded</td><td>-36.23</td><td>.</td><td>.</td><td>.</td><td>1</td><td>NA</td></tr>\n",
       "</tbody>\n",
       "</table>\n"
      ],
      "text/latex": [
       "A data.frame: 6 × 50\n",
       "\\begin{tabular}{r|lllllllllllllllllllll}\n",
       "  & TS559\\_position & KOD1\\_position & strand & growth\\_phase & metabolic\\_condition & methylation\\_frequency\\_TK0234\\_rep1 & mC\\_count\\_TK0234\\_rep1 & coverage\\_TK0234\\_rep1 & methylation\\_frequency\\_TK0234\\_rep2 & mC\\_count\\_TK0234\\_rep2 & ⋯ & amino\\_acid\\_sequence & amino\\_acid\\_ID & local\\_41bp\\_predicted\\_fold & m5C\\_position\\_fold & MFE & associated\\_TSS\\_id & TSS\\_direction & TSS\\_description & total\\_annotations & alternate\\_annotations\\\\\n",
       "  & <int> & <chr> & <chr> & <chr> & <chr> & <dbl> & <int> & <int> & <dbl> & <int> & ⋯ & <chr> & <chr> & <chr> & <chr> & <chr> & <chr> & <chr> & <chr> & <int> & <chr>\\\\\n",
       "\\hline\n",
       "\t1 & 1407584 & 1408575 & + & exoponential & S & 0.04 & 20 & 535 & 0.05 &  67 & ⋯ & CAG & Q & \\textbar{}\\textbar{}\\textbar{}\\textbar{}\\textbar{}\\textbar{}........\\textbar{}\\textbar{}\\textbar{}\\textbar{}\\textbar{}....\\textbar{}\\textbar{}.....\\textbar{}\\textbar{}\\textbar{}\\textbar{}\\textbar{}...\\textbar{}\\textbar{}\\textbar{} & single\\_stranded & -85.61 & . & . & . & 1 & NA\\\\\n",
       "\t2 &   48659 & 48659   & - & exoponential & S & 0.04 &  4 & 107 & 0.07 &  65 & ⋯ & GCC & A & ......................................\\textbar{}\\textbar{}\\textbar{} & single\\_stranded & -68.21 & . & . & . & 1 & NA\\\\\n",
       "\t3 &  226308 & 227299  & - & exoponential & S & 0.06 &  5 &  85 & 0.08 &  58 & ⋯ & ACC & T & \\textbar{}\\textbar{}\\textbar{}\\textbar{}\\textbar{}\\textbar{}\\textbar{}.....\\textbar{}\\textbar{}\\textbar{}..\\textbar{}\\textbar{}....\\textbar{}\\textbar{}\\textbar{}\\textbar{}\\textbar{}\\textbar{}............ & single\\_stranded & -44.59 & . & . & . & 1 & NA\\\\\n",
       "\t4 & 1865353 & 1866344 & + & exoponential & S & 0.06 & 13 & 227 & 0.07 & 233 & ⋯ & GCC & A & \\textbar{}\\textbar{}\\textbar{}\\textbar{}\\textbar{}\\textbar{}..........\\textbar{}\\textbar{}\\textbar{}\\textbar{}\\textbar{}\\textbar{}\\textbar{}\\textbar{}..\\textbar{}\\textbar{}\\textbar{}\\textbar{}........... & base\\_paired     & -31.14 & . & . & . & 1 & NA\\\\\n",
       "\t5 &  624690 & 625681  & + & exoponential & S & 0.20 & 17 &  84 & 0.19 &  57 & ⋯ & CCG & P & ....\\textbar{}\\textbar{}\\textbar{}\\textbar{}\\textbar{}...\\textbar{}\\textbar{}\\textbar{}\\textbar{}\\textbar{}.\\textbar{}\\textbar{}\\textbar{}\\textbar{}..\\textbar{}\\textbar{}\\textbar{}....\\textbar{}\\textbar{}\\textbar{}..\\textbar{}\\textbar{}\\textbar{}\\textbar{}. & base\\_paired     & -62.61 & . & . & . & 1 & NA\\\\\n",
       "\t6 & 2035075 & 2036066 & + & exoponential & S & 0.11 & 13 & 115 & 0.14 &  88 & ⋯ & CUU & L & \\textbar{}\\textbar{}\\textbar{}\\textbar{}\\textbar{}\\textbar{}\\textbar{}..\\textbar{}\\textbar{}\\textbar{}\\textbar{}\\textbar{}\\textbar{}.......\\textbar{}\\textbar{}\\textbar{}\\textbar{}..\\textbar{}\\textbar{}\\textbar{}\\textbar{}\\textbar{}.\\textbar{}\\textbar{}\\textbar{}\\textbar{}\\textbar{}\\textbar{}\\textbar{} & single\\_stranded & -36.23 & . & . & . & 1 & NA\\\\\n",
       "\\end{tabular}\n"
      ],
      "text/markdown": [
       "\n",
       "A data.frame: 6 × 50\n",
       "\n",
       "| <!--/--> | TS559_position &lt;int&gt; | KOD1_position &lt;chr&gt; | strand &lt;chr&gt; | growth_phase &lt;chr&gt; | metabolic_condition &lt;chr&gt; | methylation_frequency_TK0234_rep1 &lt;dbl&gt; | mC_count_TK0234_rep1 &lt;int&gt; | coverage_TK0234_rep1 &lt;int&gt; | methylation_frequency_TK0234_rep2 &lt;dbl&gt; | mC_count_TK0234_rep2 &lt;int&gt; | ⋯ ⋯ | amino_acid_sequence &lt;chr&gt; | amino_acid_ID &lt;chr&gt; | local_41bp_predicted_fold &lt;chr&gt; | m5C_position_fold &lt;chr&gt; | MFE &lt;chr&gt; | associated_TSS_id &lt;chr&gt; | TSS_direction &lt;chr&gt; | TSS_description &lt;chr&gt; | total_annotations &lt;int&gt; | alternate_annotations &lt;chr&gt; |\n",
       "|---|---|---|---|---|---|---|---|---|---|---|---|---|---|---|---|---|---|---|---|---|---|\n",
       "| 1 | 1407584 | 1408575 | + | exoponential | S | 0.04 | 20 | 535 | 0.05 |  67 | ⋯ | CAG | Q | ||||||........|||||....||.....|||||...||| | single_stranded | -85.61 | . | . | . | 1 | NA |\n",
       "| 2 |   48659 | 48659   | - | exoponential | S | 0.04 |  4 | 107 | 0.07 |  65 | ⋯ | GCC | A | ......................................||| | single_stranded | -68.21 | . | . | . | 1 | NA |\n",
       "| 3 |  226308 | 227299  | - | exoponential | S | 0.06 |  5 |  85 | 0.08 |  58 | ⋯ | ACC | T | |||||||.....|||..||....||||||............ | single_stranded | -44.59 | . | . | . | 1 | NA |\n",
       "| 4 | 1865353 | 1866344 | + | exoponential | S | 0.06 | 13 | 227 | 0.07 | 233 | ⋯ | GCC | A | ||||||..........||||||||..||||........... | base_paired     | -31.14 | . | . | . | 1 | NA |\n",
       "| 5 |  624690 | 625681  | + | exoponential | S | 0.20 | 17 |  84 | 0.19 |  57 | ⋯ | CCG | P | ....|||||...|||||.||||..|||....|||..||||. | base_paired     | -62.61 | . | . | . | 1 | NA |\n",
       "| 6 | 2035075 | 2036066 | + | exoponential | S | 0.11 | 13 | 115 | 0.14 |  88 | ⋯ | CUU | L | |||||||..||||||.......||||..|||||.||||||| | single_stranded | -36.23 | . | . | . | 1 | NA |\n",
       "\n"
      ],
      "text/plain": [
       "  TS559_position KOD1_position strand growth_phase metabolic_condition\n",
       "1 1407584        1408575       +      exoponential S                  \n",
       "2   48659        48659         -      exoponential S                  \n",
       "3  226308        227299        -      exoponential S                  \n",
       "4 1865353        1866344       +      exoponential S                  \n",
       "5  624690        625681        +      exoponential S                  \n",
       "6 2035075        2036066       +      exoponential S                  \n",
       "  methylation_frequency_TK0234_rep1 mC_count_TK0234_rep1 coverage_TK0234_rep1\n",
       "1 0.04                              20                   535                 \n",
       "2 0.04                               4                   107                 \n",
       "3 0.06                               5                    85                 \n",
       "4 0.06                              13                   227                 \n",
       "5 0.20                              17                    84                 \n",
       "6 0.11                              13                   115                 \n",
       "  methylation_frequency_TK0234_rep2 mC_count_TK0234_rep2 ⋯ amino_acid_sequence\n",
       "1 0.05                               67                  ⋯ CAG                \n",
       "2 0.07                               65                  ⋯ GCC                \n",
       "3 0.08                               58                  ⋯ ACC                \n",
       "4 0.07                              233                  ⋯ GCC                \n",
       "5 0.19                               57                  ⋯ CCG                \n",
       "6 0.14                               88                  ⋯ CUU                \n",
       "  amino_acid_ID local_41bp_predicted_fold                 m5C_position_fold\n",
       "1 Q             ||||||........|||||....||.....|||||...||| single_stranded  \n",
       "2 A             ......................................||| single_stranded  \n",
       "3 T             |||||||.....|||..||....||||||............ single_stranded  \n",
       "4 A             ||||||..........||||||||..||||........... base_paired      \n",
       "5 P             ....|||||...|||||.||||..|||....|||..||||. base_paired      \n",
       "6 L             |||||||..||||||.......||||..|||||.||||||| single_stranded  \n",
       "  MFE    associated_TSS_id TSS_direction TSS_description total_annotations\n",
       "1 -85.61 .                 .             .               1                \n",
       "2 -68.21 .                 .             .               1                \n",
       "3 -44.59 .                 .             .               1                \n",
       "4 -31.14 .                 .             .               1                \n",
       "5 -62.61 .                 .             .               1                \n",
       "6 -36.23 .                 .             .               1                \n",
       "  alternate_annotations\n",
       "1 NA                   \n",
       "2 NA                   \n",
       "3 NA                   \n",
       "4 NA                   \n",
       "5 NA                   \n",
       "6 NA                   "
      ]
     },
     "metadata": {},
     "output_type": "display_data"
    }
   ],
   "source": [
    "###strain TK0234\n",
    "\n",
    "defaultW <- getOption(\"warn\")\n",
    "options(warn = -1)\n",
    "\n",
    "\n",
    "#load CGmaps into session\n",
    "TK0234exoS_CGmap_rep1 <-read.delim(\"../cgmaps/TK0234_exoS_totalRNA_rep1.CGmap\", sep='\\t', header=FALSE,col.names=cols) %>%\n",
    "    mutate(strain=\"TK0234\", growth_phase='exoponential', metabolic_condition=\"S\", replicate=\"rep1\")\n",
    "\n",
    "TK0234exoS_CGmap_rep2 <-read.delim(\"../cgmaps/TK0234_exoS_totalRNA_rep2.CGmap\", sep='\\t', header=FALSE,col.names=cols) %>%\n",
    "    mutate(strain=\"TK0234\", growth_phase='exoponential', metabolic_condition=\"S\", replicate=\"rep2\")\n",
    "\n",
    "# process raw CGmaps\n",
    "TK0234exoS_rep1_df <- processCGmap(TK0234exoS_CGmap_rep1)\n",
    "TK0234exoS_rep2_df <- processCGmap(TK0234exoS_CGmap_rep2)\n",
    "\n",
    "#merge reps\n",
    "TK0234exoS <- merge_del_reps(x=TK0234exoS_rep1_df, y=TK0234exoS_rep2_df, strain='TK0234')\n",
    "\n",
    "# get quantiles\n",
    "\"quantiles:\"\n",
    "get_quantiles(strain_cgmap = TK0234exoS, strain=\"TK0234\", min_cov = 47)\n",
    "\n",
    "#compare methylation frequencies & annotate\n",
    "TK0234exoS_anal <- CompareCGmap(strain_cgmap = TK0234exoS, \n",
    "                                TS559_cgmap = TS559exoS, \n",
    "                                strain=\"TK0234\", \n",
    "                                annotation = annotation,\n",
    "                                min_cov = 47)\n",
    "\n",
    "write.table(TK0234exoS_anal, file = \"../processed_cgmaps/TK0234exoS_annotated\", sep = \"\\t\", row.names = F)\n",
    "\n",
    "#enumerate gains & losses\n",
    "\"losses & gains:\"\n",
    "nrow( TK0234exoS_anal %>% filter(log2FC < 0) )\n",
    "nrow( TK0234exoS_anal %>% filter(log2FC > 0) )\n",
    "\n",
    "\"absolute losses & gains:\"\n",
    "nrow( TK0234exoS_anal %>% filter(difference == \"ABS LOSS\") )\n",
    "nrow( TK0234exoS_anal %>% filter(difference == \"ABS GAIN\") )\n",
    "\n",
    "head(TK0234exoS_anal)\n",
    "\n",
    "# TK0234exoS_cat <- enumerate_hiconf_2reps(strain_cgmap = TK0234exoS, strain=\"TK0234\",min_cov = 47)\n",
    "\n",
    "Sys.sleep(10)"
   ]
  },
  {
   "cell_type": "code",
   "execution_count": 6,
   "metadata": {},
   "outputs": [
    {
     "data": {
      "text/html": [
       "'quantiles:'"
      ],
      "text/latex": [
       "'quantiles:'"
      ],
      "text/markdown": [
       "'quantiles:'"
      ],
      "text/plain": [
       "[1] \"quantiles:\""
      ]
     },
     "metadata": {},
     "output_type": "display_data"
    },
    {
     "data": {
      "text/html": [
       "<style>\n",
       ".list-inline {list-style: none; margin:0; padding: 0}\n",
       ".list-inline>li {display: inline-block}\n",
       ".list-inline>li:not(:last-child)::after {content: \"\\00b7\"; padding: 0 .5ex}\n",
       "</style>\n",
       "<ol class=list-inline><li>6</li><li>6</li></ol>\n"
      ],
      "text/latex": [
       "\\begin{enumerate*}\n",
       "\\item 6\n",
       "\\item 6\n",
       "\\end{enumerate*}\n"
      ],
      "text/markdown": [
       "1. 6\n",
       "2. 6\n",
       "\n",
       "\n"
      ],
      "text/plain": [
       "[1] 6 6"
      ]
     },
     "metadata": {},
     "output_type": "display_data"
    },
    {
     "data": {
      "text/html": [
       "'losses &amp; gains:'"
      ],
      "text/latex": [
       "'losses \\& gains:'"
      ],
      "text/markdown": [
       "'losses &amp; gains:'"
      ],
      "text/plain": [
       "[1] \"losses & gains:\""
      ]
     },
     "metadata": {},
     "output_type": "display_data"
    },
    {
     "data": {
      "text/html": [
       "49"
      ],
      "text/latex": [
       "49"
      ],
      "text/markdown": [
       "49"
      ],
      "text/plain": [
       "[1] 49"
      ]
     },
     "metadata": {},
     "output_type": "display_data"
    },
    {
     "data": {
      "text/html": [
       "11"
      ],
      "text/latex": [
       "11"
      ],
      "text/markdown": [
       "11"
      ],
      "text/plain": [
       "[1] 11"
      ]
     },
     "metadata": {},
     "output_type": "display_data"
    },
    {
     "data": {
      "text/html": [
       "'absolute losses &amp; gains:'"
      ],
      "text/latex": [
       "'absolute losses \\& gains:'"
      ],
      "text/markdown": [
       "'absolute losses &amp; gains:'"
      ],
      "text/plain": [
       "[1] \"absolute losses & gains:\""
      ]
     },
     "metadata": {},
     "output_type": "display_data"
    },
    {
     "data": {
      "text/html": [
       "21"
      ],
      "text/latex": [
       "21"
      ],
      "text/markdown": [
       "21"
      ],
      "text/plain": [
       "[1] 21"
      ]
     },
     "metadata": {},
     "output_type": "display_data"
    },
    {
     "data": {
      "text/html": [
       "3"
      ],
      "text/latex": [
       "3"
      ],
      "text/markdown": [
       "3"
      ],
      "text/plain": [
       "[1] 3"
      ]
     },
     "metadata": {},
     "output_type": "display_data"
    },
    {
     "data": {
      "text/html": [
       "<table class=\"dataframe\">\n",
       "<caption>A data.frame: 6 × 50</caption>\n",
       "<thead>\n",
       "\t<tr><th></th><th scope=col>TS559_position</th><th scope=col>KOD1_position</th><th scope=col>strand</th><th scope=col>growth_phase</th><th scope=col>metabolic_condition</th><th scope=col>methylation_frequency_TK0360_rep1</th><th scope=col>mC_count_TK0360_rep1</th><th scope=col>coverage_TK0360_rep1</th><th scope=col>methylation_frequency_TK0360_rep2</th><th scope=col>mC_count_TK0360_rep2</th><th scope=col>⋯</th><th scope=col>amino_acid_sequence</th><th scope=col>amino_acid_ID</th><th scope=col>local_41bp_predicted_fold</th><th scope=col>m5C_position_fold</th><th scope=col>MFE</th><th scope=col>associated_TSS_id</th><th scope=col>TSS_direction</th><th scope=col>TSS_description</th><th scope=col>total_annotations</th><th scope=col>alternate_annotations</th></tr>\n",
       "\t<tr><th></th><th scope=col>&lt;int&gt;</th><th scope=col>&lt;chr&gt;</th><th scope=col>&lt;chr&gt;</th><th scope=col>&lt;chr&gt;</th><th scope=col>&lt;chr&gt;</th><th scope=col>&lt;dbl&gt;</th><th scope=col>&lt;int&gt;</th><th scope=col>&lt;int&gt;</th><th scope=col>&lt;dbl&gt;</th><th scope=col>&lt;int&gt;</th><th scope=col>⋯</th><th scope=col>&lt;chr&gt;</th><th scope=col>&lt;chr&gt;</th><th scope=col>&lt;chr&gt;</th><th scope=col>&lt;chr&gt;</th><th scope=col>&lt;chr&gt;</th><th scope=col>&lt;chr&gt;</th><th scope=col>&lt;chr&gt;</th><th scope=col>&lt;chr&gt;</th><th scope=col>&lt;int&gt;</th><th scope=col>&lt;chr&gt;</th></tr>\n",
       "</thead>\n",
       "<tbody>\n",
       "\t<tr><th scope=row>1</th><td>1408656</td><td>1409647</td><td>+</td><td>exoponential</td><td>S</td><td>0.06</td><td>139</td><td>2445</td><td>0.05</td><td>134</td><td>⋯</td><td>CUG</td><td>L</td><td>........||||.||||||||||..||....||||.....|</td><td>base_paired    </td><td>-39.93</td><td>.</td><td>.</td><td>.</td><td>1</td><td>NA</td></tr>\n",
       "\t<tr><th scope=row>2</th><td> 119783</td><td>119783 </td><td>-</td><td>exoponential</td><td>S</td><td>0.12</td><td> 71</td><td> 613</td><td>0.07</td><td> 51</td><td>⋯</td><td>CUU</td><td>L</td><td>||..||....|||||||||..||..|||......||||.||</td><td>single_stranded</td><td>-49.49</td><td>.</td><td>.</td><td>.</td><td>1</td><td>NA</td></tr>\n",
       "\t<tr><th scope=row>3</th><td>1238962</td><td>1239953</td><td>-</td><td>exoponential</td><td>S</td><td>0.15</td><td> 20</td><td> 134</td><td>0.14</td><td> 17</td><td>⋯</td><td>.  </td><td>.</td><td>.                                        </td><td>NA             </td><td>.     </td><td>.</td><td>.</td><td>.</td><td>0</td><td>NA</td></tr>\n",
       "\t<tr><th scope=row>4</th><td>1023490</td><td>1024481</td><td>-</td><td>exoponential</td><td>S</td><td>0.00</td><td>  0</td><td> 172</td><td>0.00</td><td>  0</td><td>⋯</td><td>CAG</td><td>Q</td><td>||................||||.|||............|||</td><td>base_paired    </td><td>-53.21</td><td>.</td><td>.</td><td>.</td><td>1</td><td>NA</td></tr>\n",
       "\t<tr><th scope=row>5</th><td>1570046</td><td>1571037</td><td>+</td><td>exoponential</td><td>S</td><td>0.00</td><td>  0</td><td>  51</td><td>0.00</td><td>  0</td><td>⋯</td><td>.  </td><td>.</td><td>.                                        </td><td>NA             </td><td>.     </td><td>.</td><td>.</td><td>.</td><td>1</td><td>NA</td></tr>\n",
       "\t<tr><th scope=row>6</th><td>1944808</td><td>1945799</td><td>+</td><td>exoponential</td><td>S</td><td>0.01</td><td>  4</td><td> 552</td><td>0.00</td><td>  3</td><td>⋯</td><td>.  </td><td>.</td><td>.                                        </td><td>NA             </td><td>.     </td><td>.</td><td>.</td><td>.</td><td>1</td><td>NA</td></tr>\n",
       "</tbody>\n",
       "</table>\n"
      ],
      "text/latex": [
       "A data.frame: 6 × 50\n",
       "\\begin{tabular}{r|lllllllllllllllllllll}\n",
       "  & TS559\\_position & KOD1\\_position & strand & growth\\_phase & metabolic\\_condition & methylation\\_frequency\\_TK0360\\_rep1 & mC\\_count\\_TK0360\\_rep1 & coverage\\_TK0360\\_rep1 & methylation\\_frequency\\_TK0360\\_rep2 & mC\\_count\\_TK0360\\_rep2 & ⋯ & amino\\_acid\\_sequence & amino\\_acid\\_ID & local\\_41bp\\_predicted\\_fold & m5C\\_position\\_fold & MFE & associated\\_TSS\\_id & TSS\\_direction & TSS\\_description & total\\_annotations & alternate\\_annotations\\\\\n",
       "  & <int> & <chr> & <chr> & <chr> & <chr> & <dbl> & <int> & <int> & <dbl> & <int> & ⋯ & <chr> & <chr> & <chr> & <chr> & <chr> & <chr> & <chr> & <chr> & <int> & <chr>\\\\\n",
       "\\hline\n",
       "\t1 & 1408656 & 1409647 & + & exoponential & S & 0.06 & 139 & 2445 & 0.05 & 134 & ⋯ & CUG & L & ........\\textbar{}\\textbar{}\\textbar{}\\textbar{}.\\textbar{}\\textbar{}\\textbar{}\\textbar{}\\textbar{}\\textbar{}\\textbar{}\\textbar{}\\textbar{}\\textbar{}..\\textbar{}\\textbar{}....\\textbar{}\\textbar{}\\textbar{}\\textbar{}.....\\textbar{} & base\\_paired     & -39.93 & . & . & . & 1 & NA\\\\\n",
       "\t2 &  119783 & 119783  & - & exoponential & S & 0.12 &  71 &  613 & 0.07 &  51 & ⋯ & CUU & L & \\textbar{}\\textbar{}..\\textbar{}\\textbar{}....\\textbar{}\\textbar{}\\textbar{}\\textbar{}\\textbar{}\\textbar{}\\textbar{}\\textbar{}\\textbar{}..\\textbar{}\\textbar{}..\\textbar{}\\textbar{}\\textbar{}......\\textbar{}\\textbar{}\\textbar{}\\textbar{}.\\textbar{}\\textbar{} & single\\_stranded & -49.49 & . & . & . & 1 & NA\\\\\n",
       "\t3 & 1238962 & 1239953 & - & exoponential & S & 0.15 &  20 &  134 & 0.14 &  17 & ⋯ & .   & . & .                                         & NA              & .      & . & . & . & 0 & NA\\\\\n",
       "\t4 & 1023490 & 1024481 & - & exoponential & S & 0.00 &   0 &  172 & 0.00 &   0 & ⋯ & CAG & Q & \\textbar{}\\textbar{}................\\textbar{}\\textbar{}\\textbar{}\\textbar{}.\\textbar{}\\textbar{}\\textbar{}............\\textbar{}\\textbar{}\\textbar{} & base\\_paired     & -53.21 & . & . & . & 1 & NA\\\\\n",
       "\t5 & 1570046 & 1571037 & + & exoponential & S & 0.00 &   0 &   51 & 0.00 &   0 & ⋯ & .   & . & .                                         & NA              & .      & . & . & . & 1 & NA\\\\\n",
       "\t6 & 1944808 & 1945799 & + & exoponential & S & 0.01 &   4 &  552 & 0.00 &   3 & ⋯ & .   & . & .                                         & NA              & .      & . & . & . & 1 & NA\\\\\n",
       "\\end{tabular}\n"
      ],
      "text/markdown": [
       "\n",
       "A data.frame: 6 × 50\n",
       "\n",
       "| <!--/--> | TS559_position &lt;int&gt; | KOD1_position &lt;chr&gt; | strand &lt;chr&gt; | growth_phase &lt;chr&gt; | metabolic_condition &lt;chr&gt; | methylation_frequency_TK0360_rep1 &lt;dbl&gt; | mC_count_TK0360_rep1 &lt;int&gt; | coverage_TK0360_rep1 &lt;int&gt; | methylation_frequency_TK0360_rep2 &lt;dbl&gt; | mC_count_TK0360_rep2 &lt;int&gt; | ⋯ ⋯ | amino_acid_sequence &lt;chr&gt; | amino_acid_ID &lt;chr&gt; | local_41bp_predicted_fold &lt;chr&gt; | m5C_position_fold &lt;chr&gt; | MFE &lt;chr&gt; | associated_TSS_id &lt;chr&gt; | TSS_direction &lt;chr&gt; | TSS_description &lt;chr&gt; | total_annotations &lt;int&gt; | alternate_annotations &lt;chr&gt; |\n",
       "|---|---|---|---|---|---|---|---|---|---|---|---|---|---|---|---|---|---|---|---|---|---|\n",
       "| 1 | 1408656 | 1409647 | + | exoponential | S | 0.06 | 139 | 2445 | 0.05 | 134 | ⋯ | CUG | L | ........||||.||||||||||..||....||||.....| | base_paired     | -39.93 | . | . | . | 1 | NA |\n",
       "| 2 |  119783 | 119783  | - | exoponential | S | 0.12 |  71 |  613 | 0.07 |  51 | ⋯ | CUU | L | ||..||....|||||||||..||..|||......||||.|| | single_stranded | -49.49 | . | . | . | 1 | NA |\n",
       "| 3 | 1238962 | 1239953 | - | exoponential | S | 0.15 |  20 |  134 | 0.14 |  17 | ⋯ | .   | . | .                                         | NA              | .      | . | . | . | 0 | NA |\n",
       "| 4 | 1023490 | 1024481 | - | exoponential | S | 0.00 |   0 |  172 | 0.00 |   0 | ⋯ | CAG | Q | ||................||||.|||............||| | base_paired     | -53.21 | . | . | . | 1 | NA |\n",
       "| 5 | 1570046 | 1571037 | + | exoponential | S | 0.00 |   0 |   51 | 0.00 |   0 | ⋯ | .   | . | .                                         | NA              | .      | . | . | . | 1 | NA |\n",
       "| 6 | 1944808 | 1945799 | + | exoponential | S | 0.01 |   4 |  552 | 0.00 |   3 | ⋯ | .   | . | .                                         | NA              | .      | . | . | . | 1 | NA |\n",
       "\n"
      ],
      "text/plain": [
       "  TS559_position KOD1_position strand growth_phase metabolic_condition\n",
       "1 1408656        1409647       +      exoponential S                  \n",
       "2  119783        119783        -      exoponential S                  \n",
       "3 1238962        1239953       -      exoponential S                  \n",
       "4 1023490        1024481       -      exoponential S                  \n",
       "5 1570046        1571037       +      exoponential S                  \n",
       "6 1944808        1945799       +      exoponential S                  \n",
       "  methylation_frequency_TK0360_rep1 mC_count_TK0360_rep1 coverage_TK0360_rep1\n",
       "1 0.06                              139                  2445                \n",
       "2 0.12                               71                   613                \n",
       "3 0.15                               20                   134                \n",
       "4 0.00                                0                   172                \n",
       "5 0.00                                0                    51                \n",
       "6 0.01                                4                   552                \n",
       "  methylation_frequency_TK0360_rep2 mC_count_TK0360_rep2 ⋯ amino_acid_sequence\n",
       "1 0.05                              134                  ⋯ CUG                \n",
       "2 0.07                               51                  ⋯ CUU                \n",
       "3 0.14                               17                  ⋯ .                  \n",
       "4 0.00                                0                  ⋯ CAG                \n",
       "5 0.00                                0                  ⋯ .                  \n",
       "6 0.00                                3                  ⋯ .                  \n",
       "  amino_acid_ID local_41bp_predicted_fold                 m5C_position_fold\n",
       "1 L             ........||||.||||||||||..||....||||.....| base_paired      \n",
       "2 L             ||..||....|||||||||..||..|||......||||.|| single_stranded  \n",
       "3 .             .                                         NA               \n",
       "4 Q             ||................||||.|||............||| base_paired      \n",
       "5 .             .                                         NA               \n",
       "6 .             .                                         NA               \n",
       "  MFE    associated_TSS_id TSS_direction TSS_description total_annotations\n",
       "1 -39.93 .                 .             .               1                \n",
       "2 -49.49 .                 .             .               1                \n",
       "3 .      .                 .             .               0                \n",
       "4 -53.21 .                 .             .               1                \n",
       "5 .      .                 .             .               1                \n",
       "6 .      .                 .             .               1                \n",
       "  alternate_annotations\n",
       "1 NA                   \n",
       "2 NA                   \n",
       "3 NA                   \n",
       "4 NA                   \n",
       "5 NA                   \n",
       "6 NA                   "
      ]
     },
     "metadata": {},
     "output_type": "display_data"
    }
   ],
   "source": [
    "###strain TK0360\n",
    "\n",
    "defaultW <- getOption(\"warn\")\n",
    "options(warn = -1)\n",
    "\n",
    "\n",
    "#load CGmaps into session\n",
    "TK0360exoS_CGmap_rep1 <-read.delim(\"../cgmaps/TK0360_exoS_totalRNA_rep1.CGmap\", sep='\\t', header=FALSE,col.names=cols) %>%\n",
    "    mutate(strain=\"TK0360\", growth_phase='exoponential', metabolic_condition=\"S\", replicate=\"rep1\")\n",
    "\n",
    "TK0360exoS_CGmap_rep2 <-read.delim(\"../cgmaps/TK0360_exoS_totalRNA_rep2.CGmap\", sep='\\t', header=FALSE,col.names=cols) %>%\n",
    "    mutate(strain=\"TK0360\", growth_phase='exoponential', metabolic_condition=\"S\", replicate=\"rep2\")\n",
    "\n",
    "# process raw CGmaps\n",
    "TK0360exoS_rep1_df <- processCGmap(TK0360exoS_CGmap_rep1)\n",
    "TK0360exoS_rep2_df <- processCGmap(TK0360exoS_CGmap_rep2)\n",
    "\n",
    "#merge reps\n",
    "TK0360exoS <- merge_del_reps(x=TK0360exoS_rep1_df, y=TK0360exoS_rep2_df, strain='TK0360')\n",
    "\n",
    "# get quantiles\n",
    "\"quantiles:\"\n",
    "get_quantiles(strain_cgmap = TK0360exoS, strain=\"TK0360\", min_cov = 47)\n",
    "\n",
    "#compare methylation frequencies & annotate\n",
    "TK0360exoS_anal <- CompareCGmap(strain_cgmap = TK0360exoS, \n",
    "                                TS559_cgmap = TS559exoS, \n",
    "                                strain=\"TK0360\", \n",
    "                                annotation = annotation,\n",
    "                                min_cov = 47)\n",
    "\n",
    "write.table(TK0360exoS_anal, file = \"../processed_cgmaps/TK0360exoS_annotated\", sep = \"\\t\", row.names = F)\n",
    "\n",
    "#enumerate gains & losses\n",
    "\"losses & gains:\"\n",
    "nrow( TK0360exoS_anal %>% filter(log2FC < 0) )\n",
    "nrow( TK0360exoS_anal %>% filter(log2FC > 0) )\n",
    "\"absolute losses & gains:\"\n",
    "nrow( TK0360exoS_anal %>% filter(difference == \"ABS LOSS\") )\n",
    "nrow( TK0360exoS_anal %>% filter(difference == \"ABS GAIN\") )\n",
    "\n",
    "head(TK0360exoS_anal)\n",
    "\n",
    "# TK0360exoS_cat <- enumerate_hiconf_2reps(strain_cgmap = TK0360exoS, strain=\"TK0360\",min_cov = 47)\n",
    "\n",
    "Sys.sleep(10)"
   ]
  },
  {
   "cell_type": "code",
   "execution_count": 8,
   "metadata": {},
   "outputs": [
    {
     "data": {
      "text/html": [
       "'quantiles:'"
      ],
      "text/latex": [
       "'quantiles:'"
      ],
      "text/markdown": [
       "'quantiles:'"
      ],
      "text/plain": [
       "[1] \"quantiles:\""
      ]
     },
     "metadata": {},
     "output_type": "display_data"
    },
    {
     "data": {
      "text/html": [
       "<style>\n",
       ".list-inline {list-style: none; margin:0; padding: 0}\n",
       ".list-inline>li {display: inline-block}\n",
       ".list-inline>li:not(:last-child)::after {content: \"\\00b7\"; padding: 0 .5ex}\n",
       "</style>\n",
       "<ol class=list-inline><li>17</li><li>9</li></ol>\n"
      ],
      "text/latex": [
       "\\begin{enumerate*}\n",
       "\\item 17\n",
       "\\item 9\n",
       "\\end{enumerate*}\n"
      ],
      "text/markdown": [
       "1. 17\n",
       "2. 9\n",
       "\n",
       "\n"
      ],
      "text/plain": [
       "[1] 17  9"
      ]
     },
     "metadata": {},
     "output_type": "display_data"
    },
    {
     "ename": "ERROR",
     "evalue": "\u001b[1m\u001b[33mError\u001b[39m in `mutate()`:\u001b[22m\n\u001b[1m\u001b[22m\u001b[36mℹ\u001b[39m In argument: `pvalue = get_pvalue(...)`.\n\u001b[1mCaused by error in `if (s1_cov == 0 & s2_cov == 0) ...`:\u001b[22m\n\u001b[33m!\u001b[39m argument is of length zero\n",
     "output_type": "error",
     "traceback": [
      "\u001b[1m\u001b[33mError\u001b[39m in `mutate()`:\u001b[22m\n\u001b[1m\u001b[22m\u001b[36mℹ\u001b[39m In argument: `pvalue = get_pvalue(...)`.\n\u001b[1mCaused by error in `if (s1_cov == 0 & s2_cov == 0) ...`:\u001b[22m\n\u001b[33m!\u001b[39m argument is of length zero\nTraceback:\n",
      "1. CompareCGmap(strain_cgmap = TK0704exoS, TS559_cgmap = TS559exoS, \n .     strain = \"TK0704\", annotation = annotation, min_cov = 47)",
      "2. strain_cgmap %>% merge(y = TS559_cgmap, all = TRUE, by = c(\"chromosome\", \n .     \"position\", \"reference_nucleotide\", \"growth_phase\", \"metabolic_condition\")) %>% \n .     dplyr::select(-chromosome, -standard_devition) %>% mutate(`:=`(!!as.name(cov_r1), \n .     replace_na(!!as.name(cov_r1), 0))) %>% mutate(`:=`(!!as.name(cov_r2), \n .     replace_na(!!as.name(cov_r2), 0))) %>% mutate(coverage_TS559_rep1 = replace_na(coverage_TS559_rep1, \n .     0)) %>% mutate(coverage_TS559_rep2 = replace_na(coverage_TS559_rep2, \n .     0)) %>% mutate(coverage_TS559_rep3 = replace_na(coverage_TS559_rep3, \n .     0)) %>% rowwise() %>% mutate(hiconf_TS559 = detect_hiconf_3reps(f1 = methylation_frequency_TS559_rep1, \n .     m1 = mC_count_TS559_rep1, p1 = q_TS559_rep1, c1 = coverage_TS559_rep1, \n .     f2 = methylation_frequency_TS559_rep2, m2 = mC_count_TS559_rep2, \n .     p2 = q_TS559_rep2, c2 = coverage_TS559_rep2, f3 = methylation_frequency_TS559_rep3, \n .     m3 = mC_count_TS559_rep3, p3 = q_TS559_rep3, c3 = coverage_TS559_rep3, \n .     min_cov = min_cov, min_freq = minimum_freq)) %>% rowwise() %>% \n .     mutate(hiconf_strain = detect_hiconf_2reps(f1 = !!as.name(meth_freq_r1), \n .         m1 = !!as.name(m5C_count_r1), p1 = q_strain_rep1, c1 = !!as.name(cov_r1), \n .         f2 = !!as.name(meth_freq_r2), m2 = !!as.name(m5C_count_r2), \n .         p2 = q_strain_rep2, c2 = !!as.name(cov_r2), min_cov = min_cov, \n .         min_freq = minimum_freq)) %>% filter(hiconf_TS559 == \n .     TRUE | hiconf_strain == TRUE) %>% filter(!is.na(hiconf_TS559) & \n .     !is.na(hiconf_strain)) %>% mutate(`:=`(!!as.name(pooled_methylation_frequency_strain), \n .     (!!as.name(m5C_count_r1) + !!as.name(m5C_count_r2))/(!!as.name(cov_r1) + \n .         !!as.name(cov_r2)))) %>% mutate(`:=`(!!as.name(pooled_methylation_frequency_strain), \n .     round(!!as.name(pooled_methylation_frequency_strain), 2))) %>% \n .     mutate(strain_sd = sd(c(!!as.name(meth_freq_r1), !!as.name(meth_freq_r2)))) %>% \n .     mutate(pooled_methylation_frequency_TS559 = (mC_count_TS559_rep1 + \n .         mC_count_TS559_rep2 + mC_count_TS559_rep3)/(coverage_TS559_rep1 + \n .         coverage_TS559_rep2 + coverage_TS559_rep3)) %>% mutate(pooled_methylation_frequency_TS559 = round(pooled_methylation_frequency_TS559, \n .     2)) %>% mutate(TS559_sd = sd(c(methylation_frequency_TS559_rep1, \n .     methylation_frequency_TS559_rep2, methylation_frequency_TS559_rep3))) %>% \n .     mutate(FoldChange = (!!as.name(pooled_methylation_frequency_strain) + \n .         0.01)/(pooled_methylation_frequency_TS559 + 0.01), log2FC = log2((!!as.name(pooled_methylation_frequency_strain) + \n .         0.01)/(pooled_methylation_frequency_TS559 + 0.01))) %>% \n .     mutate(CI90_overlap = rm_overlap(!!as.name(pooled_methylation_frequency_strain), \n .         strain_sd, pooled_methylation_frequency_TS559, TS559_sd)) %>% \n .     mutate(difference = get_difference(hiconf_TS559, hiconf_strain, \n .         !!as.name(pooled_methylation_frequency_strain), pooled_methylation_frequency_TS559, \n .         CI90_overlap)) %>% filter(difference == \"ABS LOSS\" | \n .     difference == \"REL LOSS\" | difference == \"ABS GAIN\" | difference == \n .     \"REL GAIN\" | difference == \"error\") %>% filter(log2FC >= \n .     1 | log2FC <= -1) %>% rowwise() %>% mutate(pvalue = get_pvalue(s1_mC = !!as.name(m5C_count_r1), \n .     s1_cov = !!as.name(cov_r1), s2_mC = !!as.name(m5C_count_r2), \n .     s2_cov = !!as.name(cov_r2), c1_mC = mC_count_TS559_rep1, \n .     c1_cov = coverage_TS559_rep1, c2_mC = mC_count_TS559_rep2, \n .     c2_cov = coverage_TS559_rep2, c3_mC = mC_count_TS559_rep3, \n .     c3_cov = coverage_TS559_rep3)) %>% filter(!is.na(pvalue), \n .     pvalue <= 0.01)   # at line 375-472 of file <text>",
      "3. filter(., !is.na(pvalue), pvalue <= 0.01)",
      "4. mutate(., pvalue = get_pvalue(s1_mC = !!as.name(m5C_count_r1), \n .     s1_cov = !!as.name(cov_r1), s2_mC = !!as.name(m5C_count_r2), \n .     s2_cov = !!as.name(cov_r2), c1_mC = mC_count_TS559_rep1, \n .     c1_cov = coverage_TS559_rep1, c2_mC = mC_count_TS559_rep2, \n .     c2_cov = coverage_TS559_rep2, c3_mC = mC_count_TS559_rep3, \n .     c3_cov = coverage_TS559_rep3))",
      "5. mutate.data.frame(., pvalue = get_pvalue(s1_mC = !!as.name(m5C_count_r1), \n .     s1_cov = !!as.name(cov_r1), s2_mC = !!as.name(m5C_count_r2), \n .     s2_cov = !!as.name(cov_r2), c1_mC = mC_count_TS559_rep1, \n .     c1_cov = coverage_TS559_rep1, c2_mC = mC_count_TS559_rep2, \n .     c2_cov = coverage_TS559_rep2, c3_mC = mC_count_TS559_rep3, \n .     c3_cov = coverage_TS559_rep3))",
      "6. mutate_cols(.data, dplyr_quosures(...), by)",
      "7. withCallingHandlers(for (i in seq_along(dots)) {\n .     poke_error_context(dots, i, mask = mask)\n .     context_poke(\"column\", old_current_column)\n .     new_columns <- mutate_col(dots[[i]], data, mask, new_columns)\n . }, error = dplyr_error_handler(dots = dots, mask = mask, bullets = mutate_bullets, \n .     error_call = error_call, error_class = \"dplyr:::mutate_error\"), \n .     warning = dplyr_warning_handler(state = warnings_state, mask = mask, \n .         error_call = error_call))",
      "8. mutate_col(dots[[i]], data, mask, new_columns)",
      "9. mask$eval_all_mutate(quo)",
      "10. eval()",
      "11. get_pvalue(s1_mC = mC_count_TK0704_rep1, s1_cov = coverage_TK0704_rep1, \n  .     s2_mC = mC_count_TK0704_rep2, s2_cov = coverage_TK0704_rep2, \n  .     c1_mC = mC_count_TS559_rep1, c1_cov = coverage_TS559_rep1, \n  .     c2_mC = mC_count_TS559_rep2, c2_cov = coverage_TS559_rep2, \n  .     c3_mC = mC_count_TS559_rep3, c3_cov = coverage_TS559_rep3)",
      "12. .handleSimpleError(function (cnd) \n  . {\n  .     local_error_context(dots, i = frame[[i_sym]], mask = mask)\n  .     if (inherits(cnd, \"dplyr:::internal_error\")) {\n  .         parent <- error_cnd(message = bullets(cnd))\n  .     }\n  .     else {\n  .         parent <- cnd\n  .     }\n  .     message <- c(cnd_bullet_header(action), i = if (has_active_group_context(mask)) cnd_bullet_cur_group_label())\n  .     abort(message, class = error_class, parent = parent, call = error_call)\n  . }, \"argument is of length zero\", base::quote(if (s1_cov == 0 & \n  .     s2_cov == 0) {\n  .     return(NA)\n  . }))   # at line 195 of file <text>",
      "13. h(simpleError(msg, call))",
      "14. abort(message, class = error_class, parent = parent, call = error_call)",
      "15. signal_abort(cnd, .file)"
     ]
    }
   ],
   "source": [
    "###strain TK0704\n",
    "\n",
    "defaultW <- getOption(\"warn\")\n",
    "options(warn = -1)\n",
    "\n",
    "\n",
    "#load CGmaps into session\n",
    "TK0704exoS_CGmap_rep1 <-read.delim(\"../cgmaps/TK0704_exoS_totalRNA_rep1.CGmap\", sep='\\t', header=FALSE,col.names=cols) %>%\n",
    "    mutate(strain=\"TK0704\", growth_phase='exoponential', metabolic_condition=\"S\", replicate=\"rep1\")\n",
    "\n",
    "TK0704exoS_CGmap_rep2 <-read.delim(\"../cgmaps/TK0704_exoS_totalRNA_rep2.CGmap\", sep='\\t', header=FALSE,col.names=cols) %>%\n",
    "    mutate(strain=\"TK0704\", growth_phase='exoponential', metabolic_condition=\"S\", replicate=\"rep2\")\n",
    "\n",
    "# process raw CGmaps\n",
    "TK0704exoS_rep1_df <- processCGmap(TK0704exoS_CGmap_rep1)\n",
    "TK0704exoS_rep2_df <- processCGmap(TK0704exoS_CGmap_rep2)\n",
    "\n",
    "#merge reps\n",
    "TK0704exoS <- merge_del_reps(x=TK0704exoS_rep1_df, y=TK0704exoS_rep2_df, strain='TK0704')\n",
    "\n",
    "# get quantiles\n",
    "\"quantiles:\"\n",
    "get_quantiles(strain_cgmap = TK0704exoS, strain=\"TK0704\", min_cov = 47)\n",
    "\n",
    "#compare methylation frequencies & annotate\n",
    "TK0704exoS_anal <- CompareCGmap(strain_cgmap = TK0704exoS, \n",
    "                                TS559_cgmap = TS559exoS, \n",
    "                                strain=\"TK0704\", \n",
    "                                annotation = annotation,\n",
    "                                min_cov = 47)\n",
    "\n",
    "write.table(TK0704exoS_anal, file = \"../processed_cgmaps/TK0704exoS_annotated\", sep = \"\\t\", row.names = F)\n",
    "\n",
    "#enumerate gains & losses\n",
    "\"losses & gains:\"\n",
    "nrow( TK0704exoS_anal %>% filter(log2FC < 0) )\n",
    "nrow( TK0704exoS_anal %>% filter(log2FC > 0) )\n",
    "\n",
    "\"absolute losses & gains:\"\n",
    "nrow( TK0704exoS_anal %>% filter(difference == \"ABS LOSS\") )\n",
    "nrow( TK0704exoS_anal %>% filter(difference == \"ABS GAIN\") )\n",
    "\n",
    "head(TK0704exoS_anal)\n",
    "\n",
    "# TK0704exoS_cat <- enumerate_hiconf_2reps(strain_cgmap = TK0704exoS, strain=\"TK0704\",min_cov = 47)\n",
    "\n",
    "Sys.sleep(10)\n"
   ]
  },
  {
   "cell_type": "code",
   "execution_count": null,
   "metadata": {},
   "outputs": [],
   "source": [
    "###strain TK0729\n",
    "\n",
    "defaultW <- getOption(\"warn\")\n",
    "options(warn = -1)\n",
    "\n",
    "\n",
    "#load CGmaps into session\n",
    "TK0729exoS_CGmap_rep1 <-read.delim(\"../cgmaps/TK0729_exoS_totalRNA_rep1.CGmap\", sep='\\t', header=FALSE,col.names=cols) %>%\n",
    "    mutate(strain=\"TK0729\", growth_phase='exoponential', metabolic_condition=\"S\", replicate=\"rep1\")\n",
    "\n",
    "TK0729exoS_CGmap_rep2 <-read.delim(\"../cgmaps/TK0729_exoS_totalRNA_rep2.CGmap\", sep='\\t', header=FALSE,col.names=cols) %>%\n",
    "    mutate(strain=\"TK0729\", growth_phase='exoponential', metabolic_condition=\"S\", replicate=\"rep2\")\n",
    "\n",
    "# process raw CGmaps\n",
    "TK0729exoS_rep1_df <- processCGmap(TK0729exoS_CGmap_rep1)\n",
    "TK0729exoS_rep2_df <- processCGmap(TK0729exoS_CGmap_rep2)\n",
    "\n",
    "#merge reps\n",
    "TK0729exoS <- merge_del_reps(x=TK0729exoS_rep1_df, y=TK0729exoS_rep2_df, strain='TK0729')\n",
    "\n",
    "# get quantiles\n",
    "\"quantiles:\"\n",
    "get_quantiles(strain_cgmap = TK0729exoS, strain=\"TK0729\", min_cov = 47)\n",
    "\n",
    "#compare methylation frequencies & annotate\n",
    "TK0729exoS_anal <- CompareCGmap(strain_cgmap = TK0729exoS, \n",
    "                                TS559_cgmap = TS559exoS, \n",
    "                                strain=\"TK0729\", \n",
    "                                annotation = annotation,\n",
    "                                min_cov = 47)\n",
    "\n",
    "write.table(TK0729exoS_anal, file = \"../processed_cgmaps/TK0729exoS_annotated\", sep = \"\\t\", row.names = F)\n",
    "\n",
    "#enumerate gains & losses\n",
    "\"losses & gains:\"\n",
    "nrow( TK0729exoS_anal %>% filter(log2FC < 0) )\n",
    "nrow( TK0729exoS_anal %>% filter(log2FC > 0) )\n",
    "\n",
    "\"absolute losses & gains:\"\n",
    "nrow( TK0729exoS_anal %>% filter(difference == \"ABS LOSS\") )\n",
    "nrow( TK0729exoS_anal %>% filter(difference == \"ABS GAIN\") )\n",
    "\n",
    "head(TK0729exoS_anal)\n",
    "\n",
    "# TK0729exoS_cat <- enumerate_hiconf_2reps(strain_cgmap = TK0729exoS, strain=\"TK0729\",min_cov = 47)\n",
    "\n",
    "Sys.sleep(10)"
   ]
  },
  {
   "cell_type": "code",
   "execution_count": 7,
   "metadata": {},
   "outputs": [
    {
     "data": {
      "text/html": [
       "'quantiles:'"
      ],
      "text/latex": [
       "'quantiles:'"
      ],
      "text/markdown": [
       "'quantiles:'"
      ],
      "text/plain": [
       "[1] \"quantiles:\""
      ]
     },
     "metadata": {},
     "output_type": "display_data"
    },
    {
     "data": {
      "text/html": [
       "<style>\n",
       ".list-inline {list-style: none; margin:0; padding: 0}\n",
       ".list-inline>li {display: inline-block}\n",
       ".list-inline>li:not(:last-child)::after {content: \"\\00b7\"; padding: 0 .5ex}\n",
       "</style>\n",
       "<ol class=list-inline><li>16</li><li>6</li></ol>\n"
      ],
      "text/latex": [
       "\\begin{enumerate*}\n",
       "\\item 16\n",
       "\\item 6\n",
       "\\end{enumerate*}\n"
      ],
      "text/markdown": [
       "1. 16\n",
       "2. 6\n",
       "\n",
       "\n"
      ],
      "text/plain": [
       "[1] 16  6"
      ]
     },
     "metadata": {},
     "output_type": "display_data"
    },
    {
     "data": {
      "text/html": [
       "'losses &amp; gains:'"
      ],
      "text/latex": [
       "'losses \\& gains:'"
      ],
      "text/markdown": [
       "'losses &amp; gains:'"
      ],
      "text/plain": [
       "[1] \"losses & gains:\""
      ]
     },
     "metadata": {},
     "output_type": "display_data"
    },
    {
     "data": {
      "text/html": [
       "7"
      ],
      "text/latex": [
       "7"
      ],
      "text/markdown": [
       "7"
      ],
      "text/plain": [
       "[1] 7"
      ]
     },
     "metadata": {},
     "output_type": "display_data"
    },
    {
     "data": {
      "text/html": [
       "1"
      ],
      "text/latex": [
       "1"
      ],
      "text/markdown": [
       "1"
      ],
      "text/plain": [
       "[1] 1"
      ]
     },
     "metadata": {},
     "output_type": "display_data"
    },
    {
     "data": {
      "text/html": [
       "'absolute losses &amp; gains:'"
      ],
      "text/latex": [
       "'absolute losses \\& gains:'"
      ],
      "text/markdown": [
       "'absolute losses &amp; gains:'"
      ],
      "text/plain": [
       "[1] \"absolute losses & gains:\""
      ]
     },
     "metadata": {},
     "output_type": "display_data"
    },
    {
     "data": {
      "text/html": [
       "7"
      ],
      "text/latex": [
       "7"
      ],
      "text/markdown": [
       "7"
      ],
      "text/plain": [
       "[1] 7"
      ]
     },
     "metadata": {},
     "output_type": "display_data"
    },
    {
     "data": {
      "text/html": [
       "1"
      ],
      "text/latex": [
       "1"
      ],
      "text/markdown": [
       "1"
      ],
      "text/plain": [
       "[1] 1"
      ]
     },
     "metadata": {},
     "output_type": "display_data"
    },
    {
     "data": {
      "text/html": [
       "<table class=\"dataframe\">\n",
       "<caption>A data.frame: 6 × 50</caption>\n",
       "<thead>\n",
       "\t<tr><th></th><th scope=col>TS559_position</th><th scope=col>KOD1_position</th><th scope=col>strand</th><th scope=col>growth_phase</th><th scope=col>metabolic_condition</th><th scope=col>methylation_frequency_TK0872_rep1</th><th scope=col>mC_count_TK0872_rep1</th><th scope=col>coverage_TK0872_rep1</th><th scope=col>methylation_frequency_TK0872_rep2</th><th scope=col>mC_count_TK0872_rep2</th><th scope=col>⋯</th><th scope=col>amino_acid_sequence</th><th scope=col>amino_acid_ID</th><th scope=col>local_41bp_predicted_fold</th><th scope=col>m5C_position_fold</th><th scope=col>MFE</th><th scope=col>associated_TSS_id</th><th scope=col>TSS_direction</th><th scope=col>TSS_description</th><th scope=col>total_annotations</th><th scope=col>alternate_annotations</th></tr>\n",
       "\t<tr><th></th><th scope=col>&lt;int&gt;</th><th scope=col>&lt;chr&gt;</th><th scope=col>&lt;chr&gt;</th><th scope=col>&lt;chr&gt;</th><th scope=col>&lt;chr&gt;</th><th scope=col>&lt;dbl&gt;</th><th scope=col>&lt;int&gt;</th><th scope=col>&lt;int&gt;</th><th scope=col>&lt;dbl&gt;</th><th scope=col>&lt;int&gt;</th><th scope=col>⋯</th><th scope=col>&lt;chr&gt;</th><th scope=col>&lt;chr&gt;</th><th scope=col>&lt;chr&gt;</th><th scope=col>&lt;chr&gt;</th><th scope=col>&lt;chr&gt;</th><th scope=col>&lt;chr&gt;</th><th scope=col>&lt;chr&gt;</th><th scope=col>&lt;chr&gt;</th><th scope=col>&lt;int&gt;</th><th scope=col>&lt;chr&gt;</th></tr>\n",
       "</thead>\n",
       "<tbody>\n",
       "\t<tr><th scope=row>1</th><td> 797194</td><td>798185 </td><td>-</td><td>exoponential</td><td>S</td><td>0.02</td><td>5</td><td> 219</td><td>0.06</td><td>56</td><td>⋯</td><td>CUU</td><td>L</td><td>...||||||....................|||....|||..</td><td>single_stranded</td><td>-32.93 </td><td>.</td><td>.</td><td>.</td><td>1</td><td>NA</td></tr>\n",
       "\t<tr><th scope=row>2</th><td>2026195</td><td>2027186</td><td>+</td><td>exoponential</td><td>S</td><td>0.00</td><td>0</td><td> 462</td><td>0.04</td><td>11</td><td>⋯</td><td>.  </td><td>.</td><td>|..||||||||........|||||||||||||.||||||||</td><td>base_paired    </td><td>-440.69</td><td>.</td><td>.</td><td>.</td><td>1</td><td>NA</td></tr>\n",
       "\t<tr><th scope=row>3</th><td> 908004</td><td>908995 </td><td>-</td><td>exoponential</td><td>S</td><td>0.00</td><td>0</td><td> 417</td><td>0.01</td><td> 3</td><td>⋯</td><td>CUC</td><td>L</td><td>||||...............|||||.......||||||.|||</td><td>base_paired    </td><td>-63.12 </td><td>.</td><td>.</td><td>.</td><td>1</td><td>NA</td></tr>\n",
       "\t<tr><th scope=row>4</th><td> 109789</td><td>109789 </td><td>-</td><td>exoponential</td><td>S</td><td>0.00</td><td>2</td><td>1007</td><td>0.00</td><td> 5</td><td>⋯</td><td>CUC</td><td>L</td><td>.....|||||||......||||||||||||||..||||||.</td><td>base_paired    </td><td>-134.88</td><td>.</td><td>.</td><td>.</td><td>1</td><td>NA</td></tr>\n",
       "\t<tr><th scope=row>5</th><td>1570046</td><td>1571037</td><td>+</td><td>exoponential</td><td>S</td><td>0.00</td><td>0</td><td> 106</td><td>0.00</td><td> 0</td><td>⋯</td><td>.  </td><td>.</td><td>.                                        </td><td>NA             </td><td>.      </td><td>.</td><td>.</td><td>.</td><td>1</td><td>NA</td></tr>\n",
       "\t<tr><th scope=row>6</th><td>1069082</td><td>1070073</td><td>-</td><td>exoponential</td><td>S</td><td>0.00</td><td>0</td><td> 374</td><td>0.01</td><td> 1</td><td>⋯</td><td>CAC</td><td>H</td><td>...|||||...........||||||.....||||||.||||</td><td>base_paired    </td><td>-112.98</td><td>.</td><td>.</td><td>.</td><td>1</td><td>NA</td></tr>\n",
       "</tbody>\n",
       "</table>\n"
      ],
      "text/latex": [
       "A data.frame: 6 × 50\n",
       "\\begin{tabular}{r|lllllllllllllllllllll}\n",
       "  & TS559\\_position & KOD1\\_position & strand & growth\\_phase & metabolic\\_condition & methylation\\_frequency\\_TK0872\\_rep1 & mC\\_count\\_TK0872\\_rep1 & coverage\\_TK0872\\_rep1 & methylation\\_frequency\\_TK0872\\_rep2 & mC\\_count\\_TK0872\\_rep2 & ⋯ & amino\\_acid\\_sequence & amino\\_acid\\_ID & local\\_41bp\\_predicted\\_fold & m5C\\_position\\_fold & MFE & associated\\_TSS\\_id & TSS\\_direction & TSS\\_description & total\\_annotations & alternate\\_annotations\\\\\n",
       "  & <int> & <chr> & <chr> & <chr> & <chr> & <dbl> & <int> & <int> & <dbl> & <int> & ⋯ & <chr> & <chr> & <chr> & <chr> & <chr> & <chr> & <chr> & <chr> & <int> & <chr>\\\\\n",
       "\\hline\n",
       "\t1 &  797194 & 798185  & - & exoponential & S & 0.02 & 5 &  219 & 0.06 & 56 & ⋯ & CUU & L & ...\\textbar{}\\textbar{}\\textbar{}\\textbar{}\\textbar{}\\textbar{}....................\\textbar{}\\textbar{}\\textbar{}....\\textbar{}\\textbar{}\\textbar{}.. & single\\_stranded & -32.93  & . & . & . & 1 & NA\\\\\n",
       "\t2 & 2026195 & 2027186 & + & exoponential & S & 0.00 & 0 &  462 & 0.04 & 11 & ⋯ & .   & . & \\textbar{}..\\textbar{}\\textbar{}\\textbar{}\\textbar{}\\textbar{}\\textbar{}\\textbar{}\\textbar{}........\\textbar{}\\textbar{}\\textbar{}\\textbar{}\\textbar{}\\textbar{}\\textbar{}\\textbar{}\\textbar{}\\textbar{}\\textbar{}\\textbar{}\\textbar{}.\\textbar{}\\textbar{}\\textbar{}\\textbar{}\\textbar{}\\textbar{}\\textbar{}\\textbar{} & base\\_paired     & -440.69 & . & . & . & 1 & NA\\\\\n",
       "\t3 &  908004 & 908995  & - & exoponential & S & 0.00 & 0 &  417 & 0.01 &  3 & ⋯ & CUC & L & \\textbar{}\\textbar{}\\textbar{}\\textbar{}...............\\textbar{}\\textbar{}\\textbar{}\\textbar{}\\textbar{}.......\\textbar{}\\textbar{}\\textbar{}\\textbar{}\\textbar{}\\textbar{}.\\textbar{}\\textbar{}\\textbar{} & base\\_paired     & -63.12  & . & . & . & 1 & NA\\\\\n",
       "\t4 &  109789 & 109789  & - & exoponential & S & 0.00 & 2 & 1007 & 0.00 &  5 & ⋯ & CUC & L & .....\\textbar{}\\textbar{}\\textbar{}\\textbar{}\\textbar{}\\textbar{}\\textbar{}......\\textbar{}\\textbar{}\\textbar{}\\textbar{}\\textbar{}\\textbar{}\\textbar{}\\textbar{}\\textbar{}\\textbar{}\\textbar{}\\textbar{}\\textbar{}\\textbar{}..\\textbar{}\\textbar{}\\textbar{}\\textbar{}\\textbar{}\\textbar{}. & base\\_paired     & -134.88 & . & . & . & 1 & NA\\\\\n",
       "\t5 & 1570046 & 1571037 & + & exoponential & S & 0.00 & 0 &  106 & 0.00 &  0 & ⋯ & .   & . & .                                         & NA              & .       & . & . & . & 1 & NA\\\\\n",
       "\t6 & 1069082 & 1070073 & - & exoponential & S & 0.00 & 0 &  374 & 0.01 &  1 & ⋯ & CAC & H & ...\\textbar{}\\textbar{}\\textbar{}\\textbar{}\\textbar{}...........\\textbar{}\\textbar{}\\textbar{}\\textbar{}\\textbar{}\\textbar{}.....\\textbar{}\\textbar{}\\textbar{}\\textbar{}\\textbar{}\\textbar{}.\\textbar{}\\textbar{}\\textbar{}\\textbar{} & base\\_paired     & -112.98 & . & . & . & 1 & NA\\\\\n",
       "\\end{tabular}\n"
      ],
      "text/markdown": [
       "\n",
       "A data.frame: 6 × 50\n",
       "\n",
       "| <!--/--> | TS559_position &lt;int&gt; | KOD1_position &lt;chr&gt; | strand &lt;chr&gt; | growth_phase &lt;chr&gt; | metabolic_condition &lt;chr&gt; | methylation_frequency_TK0872_rep1 &lt;dbl&gt; | mC_count_TK0872_rep1 &lt;int&gt; | coverage_TK0872_rep1 &lt;int&gt; | methylation_frequency_TK0872_rep2 &lt;dbl&gt; | mC_count_TK0872_rep2 &lt;int&gt; | ⋯ ⋯ | amino_acid_sequence &lt;chr&gt; | amino_acid_ID &lt;chr&gt; | local_41bp_predicted_fold &lt;chr&gt; | m5C_position_fold &lt;chr&gt; | MFE &lt;chr&gt; | associated_TSS_id &lt;chr&gt; | TSS_direction &lt;chr&gt; | TSS_description &lt;chr&gt; | total_annotations &lt;int&gt; | alternate_annotations &lt;chr&gt; |\n",
       "|---|---|---|---|---|---|---|---|---|---|---|---|---|---|---|---|---|---|---|---|---|---|\n",
       "| 1 |  797194 | 798185  | - | exoponential | S | 0.02 | 5 |  219 | 0.06 | 56 | ⋯ | CUU | L | ...||||||....................|||....|||.. | single_stranded | -32.93  | . | . | . | 1 | NA |\n",
       "| 2 | 2026195 | 2027186 | + | exoponential | S | 0.00 | 0 |  462 | 0.04 | 11 | ⋯ | .   | . | |..||||||||........|||||||||||||.|||||||| | base_paired     | -440.69 | . | . | . | 1 | NA |\n",
       "| 3 |  908004 | 908995  | - | exoponential | S | 0.00 | 0 |  417 | 0.01 |  3 | ⋯ | CUC | L | ||||...............|||||.......||||||.||| | base_paired     | -63.12  | . | . | . | 1 | NA |\n",
       "| 4 |  109789 | 109789  | - | exoponential | S | 0.00 | 2 | 1007 | 0.00 |  5 | ⋯ | CUC | L | .....|||||||......||||||||||||||..||||||. | base_paired     | -134.88 | . | . | . | 1 | NA |\n",
       "| 5 | 1570046 | 1571037 | + | exoponential | S | 0.00 | 0 |  106 | 0.00 |  0 | ⋯ | .   | . | .                                         | NA              | .       | . | . | . | 1 | NA |\n",
       "| 6 | 1069082 | 1070073 | - | exoponential | S | 0.00 | 0 |  374 | 0.01 |  1 | ⋯ | CAC | H | ...|||||...........||||||.....||||||.|||| | base_paired     | -112.98 | . | . | . | 1 | NA |\n",
       "\n"
      ],
      "text/plain": [
       "  TS559_position KOD1_position strand growth_phase metabolic_condition\n",
       "1  797194        798185        -      exoponential S                  \n",
       "2 2026195        2027186       +      exoponential S                  \n",
       "3  908004        908995        -      exoponential S                  \n",
       "4  109789        109789        -      exoponential S                  \n",
       "5 1570046        1571037       +      exoponential S                  \n",
       "6 1069082        1070073       -      exoponential S                  \n",
       "  methylation_frequency_TK0872_rep1 mC_count_TK0872_rep1 coverage_TK0872_rep1\n",
       "1 0.02                              5                     219                \n",
       "2 0.00                              0                     462                \n",
       "3 0.00                              0                     417                \n",
       "4 0.00                              2                    1007                \n",
       "5 0.00                              0                     106                \n",
       "6 0.00                              0                     374                \n",
       "  methylation_frequency_TK0872_rep2 mC_count_TK0872_rep2 ⋯ amino_acid_sequence\n",
       "1 0.06                              56                   ⋯ CUU                \n",
       "2 0.04                              11                   ⋯ .                  \n",
       "3 0.01                               3                   ⋯ CUC                \n",
       "4 0.00                               5                   ⋯ CUC                \n",
       "5 0.00                               0                   ⋯ .                  \n",
       "6 0.01                               1                   ⋯ CAC                \n",
       "  amino_acid_ID local_41bp_predicted_fold                 m5C_position_fold\n",
       "1 L             ...||||||....................|||....|||.. single_stranded  \n",
       "2 .             |..||||||||........|||||||||||||.|||||||| base_paired      \n",
       "3 L             ||||...............|||||.......||||||.||| base_paired      \n",
       "4 L             .....|||||||......||||||||||||||..||||||. base_paired      \n",
       "5 .             .                                         NA               \n",
       "6 H             ...|||||...........||||||.....||||||.|||| base_paired      \n",
       "  MFE     associated_TSS_id TSS_direction TSS_description total_annotations\n",
       "1 -32.93  .                 .             .               1                \n",
       "2 -440.69 .                 .             .               1                \n",
       "3 -63.12  .                 .             .               1                \n",
       "4 -134.88 .                 .             .               1                \n",
       "5 .       .                 .             .               1                \n",
       "6 -112.98 .                 .             .               1                \n",
       "  alternate_annotations\n",
       "1 NA                   \n",
       "2 NA                   \n",
       "3 NA                   \n",
       "4 NA                   \n",
       "5 NA                   \n",
       "6 NA                   "
      ]
     },
     "metadata": {},
     "output_type": "display_data"
    }
   ],
   "source": [
    "###strain TK0872\n",
    "\n",
    "defaultW <- getOption(\"warn\")\n",
    "options(warn = -1)\n",
    "\n",
    "\n",
    "#load CGmaps into session\n",
    "TK0872exoS_CGmap_rep1 <-read.delim(\"../cgmaps/TK0872_exoS_totalRNA_rep1.CGmap\", sep='\\t', header=FALSE,col.names=cols) %>%\n",
    "    mutate(strain=\"TK0872\", growth_phase='exoponential', metabolic_condition=\"S\", replicate=\"rep1\")\n",
    "\n",
    "TK0872exoS_CGmap_rep2 <-read.delim(\"../cgmaps/TK0872_exoS_totalRNA_rep2.CGmap\", sep='\\t', header=FALSE,col.names=cols) %>%\n",
    "    mutate(strain=\"TK0872\", growth_phase='exoponential', metabolic_condition=\"S\", replicate=\"rep2\")\n",
    "\n",
    "# process raw CGmaps\n",
    "TK0872exoS_rep1_df <- processCGmap(TK0872exoS_CGmap_rep1)\n",
    "TK0872exoS_rep2_df <- processCGmap(TK0872exoS_CGmap_rep2)\n",
    "\n",
    "#merge reps\n",
    "TK0872exoS <- merge_del_reps(x=TK0872exoS_rep1_df, y=TK0872exoS_rep2_df, strain='TK0872')\n",
    "\n",
    "# get quantiles\n",
    "\"quantiles:\"\n",
    "get_quantiles(strain_cgmap = TK0872exoS, strain=\"TK0872\", min_cov = 47)\n",
    "\n",
    "#compare methylation frequencies & annotate\n",
    "TK0872exoS_anal <- CompareCGmap(strain_cgmap = TK0872exoS, \n",
    "                                TS559_cgmap = TS559exoS, \n",
    "                                strain=\"TK0872\", \n",
    "                                annotation = annotation,\n",
    "                                min_cov = 47)\n",
    "\n",
    "write.table(TK0872exoS_anal, file = \"../processed_cgmaps/TK0872exoS_annotated\", sep = \"\\t\", row.names = F)\n",
    "\n",
    "#enumerate gains & losses\n",
    "\"losses & gains:\"\n",
    "nrow( TK0872exoS_anal %>% filter(log2FC < 0) )\n",
    "nrow( TK0872exoS_anal %>% filter(log2FC > 0) )\n",
    "\n",
    "\"absolute losses & gains:\"\n",
    "nrow( TK0872exoS_anal %>% filter(difference == \"ABS LOSS\") )\n",
    "nrow( TK0872exoS_anal %>% filter(difference == \"ABS GAIN\") )\n",
    "\n",
    "head(TK0872exoS_anal)\n",
    "\n",
    "# TK0872exoS_cat <- enumerate_hiconf_2reps(strain_cgmap = TK0872exoS, strain=\"TK0872\",min_cov = 47)\n",
    "\n",
    "Sys.sleep(10)"
   ]
  },
  {
   "cell_type": "code",
   "execution_count": null,
   "metadata": {
    "scrolled": false
   },
   "outputs": [],
   "source": [
    "###strain TK1273\n",
    "\n",
    "defaultW <- getOption(\"warn\")\n",
    "options(warn = -1)\n",
    "\n",
    "\n",
    "#load CGmaps into session\n",
    "TK1273exoS_CGmap_rep1 <-read.delim(\"../cgmaps/TK1273_exoS_totalRNA_rep1.CGmap\", sep='\\t', header=FALSE,col.names=cols) %>%\n",
    "    mutate(strain=\"TK1273\", growth_phase='exoponential', metabolic_condition=\"S\", replicate=\"rep1\")\n",
    "\n",
    "TK1273exoS_CGmap_rep2 <-read.delim(\"../cgmaps/TK1273_exoS_totalRNA_rep2.CGmap\", sep='\\t', header=FALSE,col.names=cols) %>%\n",
    "    mutate(strain=\"TK1273\", growth_phase='exoponential', metabolic_condition=\"S\", replicate=\"rep2\")\n",
    "\n",
    "# process raw CGmaps\n",
    "TK1273exoS_rep1_df <- processCGmap(TK1273exoS_CGmap_rep1)\n",
    "TK1273exoS_rep2_df <- processCGmap(TK1273exoS_CGmap_rep2)\n",
    "\n",
    "#merge reps\n",
    "TK1273exoS <- merge_del_reps(x=TK1273exoS_rep1_df, y=TK1273exoS_rep2_df, strain='TK1273')\n",
    "\n",
    "# get quantiles\n",
    "\"quantiles:\"\n",
    "get_quantiles(strain_cgmap = TK1273exoS, strain=\"TK1273\", min_cov = 47)\n",
    "\n",
    "#compare methylation frequencies & annotate\n",
    "TK1273exoS_anal <- CompareCGmap(strain_cgmap = TK1273exoS, \n",
    "                                TS559_cgmap = TS559exoS, \n",
    "                                strain=\"TK1273\", \n",
    "                                annotation = annotation,\n",
    "                                min_cov = 47)\n",
    "\n",
    "write.table(TK1273exoS_anal, file = \"../processed_cgmaps/TK1273exoS_annotated\", sep = \"\\t\", row.names = F)\n",
    "\n",
    "#enumerate gains & losses\n",
    "\"losses & gains:\"\n",
    "nrow( TK1273exoS_anal %>% filter(log2FC < 0) )\n",
    "nrow( TK1273exoS_anal %>% filter(log2FC > 0) )\n",
    "\"absolute losses & gains:\"\n",
    "nrow( TK1273exoS_anal %>% filter(difference == \"ABS LOSS\") )\n",
    "nrow( TK1273exoS_anal %>% filter(difference == \"ABS GAIN\") )\n",
    "\n",
    "head(TK1273exoS_anal)\n",
    "\n",
    "# TK1273exoS_cat <- enumerate_hiconf_2reps(strain_cgmap = TK1273exoS, strain=\"TK1273\",min_cov = 47)\n",
    "\n",
    "Sys.sleep(10)\n"
   ]
  },
  {
   "cell_type": "code",
   "execution_count": null,
   "metadata": {},
   "outputs": [],
   "source": [
    "###strain TK1784\n",
    "\n",
    "defaultW <- getOption(\"warn\")\n",
    "options(warn = -1)\n",
    "\n",
    "\n",
    "#load CGmaps into session\n",
    "TK1784exoS_CGmap_rep1 <-read.delim(\"../cgmaps/TK1784_exoS_totalRNA_rep1.CGmap\", sep='\\t', header=FALSE,col.names=cols) %>%\n",
    "    mutate(strain=\"TK1784\", growth_phase='exoponential', metabolic_condition=\"S\", replicate=\"rep1\")\n",
    "\n",
    "TK1784exoS_CGmap_rep2 <-read.delim(\"../cgmaps/TK1784_exoS_totalRNA_rep2.CGmap\", sep='\\t', header=FALSE,col.names=cols) %>%\n",
    "    mutate(strain=\"TK1784\", growth_phase='exoponential', metabolic_condition=\"S\", replicate=\"rep2\")\n",
    "\n",
    "# process raw CGmaps\n",
    "TK1784exoS_rep1_df <- processCGmap(TK1784exoS_CGmap_rep1)\n",
    "TK1784exoS_rep2_df <- processCGmap(TK1784exoS_CGmap_rep2)\n",
    "\n",
    "#merge reps\n",
    "TK1784exoS <- merge_del_reps(x=TK1784exoS_rep1_df, y=TK1784exoS_rep2_df, strain='TK1784')\n",
    "\n",
    "# get quantiles\n",
    "\"quantiles:\"\n",
    "get_quantiles(strain_cgmap = TK1784exoS, strain=\"TK1784\", min_cov = 47)\n",
    "\n",
    "#compare methylation frequencies & annotate\n",
    "TK1784exoS_anal <- CompareCGmap(strain_cgmap = TK1784exoS, \n",
    "                                TS559_cgmap = TS559exoS, \n",
    "                                strain=\"TK1784\", \n",
    "                                annotation = annotation,\n",
    "                                min_cov = 47)\n",
    "\n",
    "write.table(TK1784exoS_anal, file = \"../processed_cgmaps/TK1784exoS_annotated\", sep = \"\\t\", row.names = F)\n",
    "\n",
    "#enumerate gains & losses\n",
    "\"losses & gains:\"\n",
    "nrow( TK1784exoS_anal %>% filter(log2FC < 0) )\n",
    "nrow( TK1784exoS_anal %>% filter(log2FC > 0) )\n",
    "\n",
    "\"absolute losses & gains:\"\n",
    "nrow( TK1784exoS_anal %>% filter(difference == \"ABS LOSS\") )\n",
    "nrow( TK1784exoS_anal %>% filter(difference == \"ABS GAIN\") )\n",
    "\n",
    "head(TK1784exoS_anal)\n",
    "\n",
    "# TK1784exoS_cat <- enumerate_hiconf_2reps(strain_cgmap = TK1784exoS, strain=\"TK1784\",min_cov = 47)\n",
    "\n",
    "Sys.sleep(10)"
   ]
  },
  {
   "cell_type": "code",
   "execution_count": null,
   "metadata": {},
   "outputs": [],
   "source": [
    "###strain TK1917\n",
    "\n",
    "defaultW <- getOption(\"warn\")\n",
    "options(warn = -1)\n",
    "\n",
    "\n",
    "#load CGmaps into session\n",
    "TK1917exoS_CGmap_rep1 <-read.delim(\"../cgmaps/TK1917_exoS_totalRNA_rep1.CGmap\", sep='\\t', header=FALSE,col.names=cols) %>%\n",
    "    mutate(strain=\"TK1917\", growth_phase='exoponential', metabolic_condition=\"S\", replicate=\"rep1\")\n",
    "\n",
    "TK1917exoS_CGmap_rep2 <-read.delim(\"../cgmaps/TK1917_exoS_totalRNA_rep2.CGmap\", sep='\\t', header=FALSE,col.names=cols) %>%\n",
    "    mutate(strain=\"TK1917\", growth_phase='exoponential', metabolic_condition=\"S\", replicate=\"rep2\")\n",
    "\n",
    "# process raw CGmaps\n",
    "TK1917exoS_rep1_df <- processCGmap(TK1917exoS_CGmap_rep1)\n",
    "TK1917exoS_rep2_df <- processCGmap(TK1917exoS_CGmap_rep2)\n",
    "\n",
    "#merge reps\n",
    "TK1917exoS <- merge_del_reps(x=TK1917exoS_rep1_df, y=TK1917exoS_rep2_df, strain='TK1917')\n",
    "\n",
    "# get quantiles\n",
    "\"quantiles:\"\n",
    "get_quantiles(strain_cgmap = TK1917exoS, strain=\"TK1917\", min_cov = 47)\n",
    "\n",
    "#compare methylation frequencies & annotate\n",
    "TK1917exoS_anal <- CompareCGmap(strain_cgmap = TK1917exoS, \n",
    "                                TS559_cgmap = TS559exoS, \n",
    "                                strain=\"TK1917\", \n",
    "                                annotation = annotation,\n",
    "                                min_cov = 47)\n",
    "\n",
    "write.table(TK1917exoS_anal, file = \"../processed_cgmaps/TK1917exoS_annotated\", sep = \"\\t\", row.names = F)\n",
    "\n",
    "#enumerate gains & losses\n",
    "\"losses & gains:\"\n",
    "nrow( TK1917exoS_anal %>% filter(log2FC < 0) )\n",
    "nrow( TK1917exoS_anal %>% filter(log2FC > 0) )\n",
    "\n",
    "\"absolute losses & gains:\"\n",
    "nrow( TK1917exoS_anal %>% filter(difference == \"ABS LOSS\") )\n",
    "nrow( TK1917exoS_anal %>% filter(difference == \"ABS GAIN\") )\n",
    "\n",
    "head(TK1917exoS_anal)\n",
    "\n",
    "# TK1917exoS_cat <- enumerate_hiconf_2reps(strain_cgmap = TK1917exoS, strain=\"TK1917\",min_cov = 47)\n",
    "\n",
    "Sys.sleep(10)"
   ]
  },
  {
   "cell_type": "code",
   "execution_count": 8,
   "metadata": {},
   "outputs": [
    {
     "data": {
      "text/html": [
       "'quantiles:'"
      ],
      "text/latex": [
       "'quantiles:'"
      ],
      "text/markdown": [
       "'quantiles:'"
      ],
      "text/plain": [
       "[1] \"quantiles:\""
      ]
     },
     "metadata": {},
     "output_type": "display_data"
    },
    {
     "data": {
      "text/html": [
       "<style>\n",
       ".list-inline {list-style: none; margin:0; padding: 0}\n",
       ".list-inline>li {display: inline-block}\n",
       ".list-inline>li:not(:last-child)::after {content: \"\\00b7\"; padding: 0 .5ex}\n",
       "</style>\n",
       "<ol class=list-inline><li>6</li><li>5</li></ol>\n"
      ],
      "text/latex": [
       "\\begin{enumerate*}\n",
       "\\item 6\n",
       "\\item 5\n",
       "\\end{enumerate*}\n"
      ],
      "text/markdown": [
       "1. 6\n",
       "2. 5\n",
       "\n",
       "\n"
      ],
      "text/plain": [
       "[1] 6 5"
      ]
     },
     "metadata": {},
     "output_type": "display_data"
    },
    {
     "data": {
      "text/html": [
       "'losses &amp; gains:'"
      ],
      "text/latex": [
       "'losses \\& gains:'"
      ],
      "text/markdown": [
       "'losses &amp; gains:'"
      ],
      "text/plain": [
       "[1] \"losses & gains:\""
      ]
     },
     "metadata": {},
     "output_type": "display_data"
    },
    {
     "data": {
      "text/html": [
       "15"
      ],
      "text/latex": [
       "15"
      ],
      "text/markdown": [
       "15"
      ],
      "text/plain": [
       "[1] 15"
      ]
     },
     "metadata": {},
     "output_type": "display_data"
    },
    {
     "data": {
      "text/html": [
       "1"
      ],
      "text/latex": [
       "1"
      ],
      "text/markdown": [
       "1"
      ],
      "text/plain": [
       "[1] 1"
      ]
     },
     "metadata": {},
     "output_type": "display_data"
    },
    {
     "data": {
      "text/html": [
       "'absolute losses &amp; gains:'"
      ],
      "text/latex": [
       "'absolute losses \\& gains:'"
      ],
      "text/markdown": [
       "'absolute losses &amp; gains:'"
      ],
      "text/plain": [
       "[1] \"absolute losses & gains:\""
      ]
     },
     "metadata": {},
     "output_type": "display_data"
    },
    {
     "data": {
      "text/html": [
       "15"
      ],
      "text/latex": [
       "15"
      ],
      "text/markdown": [
       "15"
      ],
      "text/plain": [
       "[1] 15"
      ]
     },
     "metadata": {},
     "output_type": "display_data"
    },
    {
     "data": {
      "text/html": [
       "0"
      ],
      "text/latex": [
       "0"
      ],
      "text/markdown": [
       "0"
      ],
      "text/plain": [
       "[1] 0"
      ]
     },
     "metadata": {},
     "output_type": "display_data"
    },
    {
     "data": {
      "text/html": [
       "<table class=\"dataframe\">\n",
       "<caption>A data.frame: 6 × 50</caption>\n",
       "<thead>\n",
       "\t<tr><th></th><th scope=col>TS559_position</th><th scope=col>KOD1_position</th><th scope=col>strand</th><th scope=col>growth_phase</th><th scope=col>metabolic_condition</th><th scope=col>methylation_frequency_TK1935_rep1</th><th scope=col>mC_count_TK1935_rep1</th><th scope=col>coverage_TK1935_rep1</th><th scope=col>methylation_frequency_TK1935_rep2</th><th scope=col>mC_count_TK1935_rep2</th><th scope=col>⋯</th><th scope=col>amino_acid_sequence</th><th scope=col>amino_acid_ID</th><th scope=col>local_41bp_predicted_fold</th><th scope=col>m5C_position_fold</th><th scope=col>MFE</th><th scope=col>associated_TSS_id</th><th scope=col>TSS_direction</th><th scope=col>TSS_description</th><th scope=col>total_annotations</th><th scope=col>alternate_annotations</th></tr>\n",
       "\t<tr><th></th><th scope=col>&lt;int&gt;</th><th scope=col>&lt;chr&gt;</th><th scope=col>&lt;chr&gt;</th><th scope=col>&lt;chr&gt;</th><th scope=col>&lt;chr&gt;</th><th scope=col>&lt;dbl&gt;</th><th scope=col>&lt;int&gt;</th><th scope=col>&lt;int&gt;</th><th scope=col>&lt;dbl&gt;</th><th scope=col>&lt;int&gt;</th><th scope=col>⋯</th><th scope=col>&lt;chr&gt;</th><th scope=col>&lt;chr&gt;</th><th scope=col>&lt;chr&gt;</th><th scope=col>&lt;chr&gt;</th><th scope=col>&lt;chr&gt;</th><th scope=col>&lt;chr&gt;</th><th scope=col>&lt;chr&gt;</th><th scope=col>&lt;chr&gt;</th><th scope=col>&lt;int&gt;</th><th scope=col>&lt;chr&gt;</th></tr>\n",
       "</thead>\n",
       "<tbody>\n",
       "\t<tr><th scope=row>1</th><td>2022329</td><td>2023320</td><td>+</td><td>exoponential</td><td>S</td><td>0</td><td>2</td><td>5145</td><td>0</td><td>1</td><td>⋯</td><td>.  </td><td>.</td><td>||.........|||||...||||||....|||.....|||.</td><td>base_paired    </td><td>-224.51</td><td>.</td><td>.</td><td>.</td><td>1</td><td>NA</td></tr>\n",
       "\t<tr><th scope=row>2</th><td>2025660</td><td>2026651</td><td>+</td><td>exoponential</td><td>S</td><td>0</td><td>1</td><td>3022</td><td>0</td><td>0</td><td>⋯</td><td>.  </td><td>.</td><td>........||||||.....||||||................</td><td>base_paired    </td><td>-440.69</td><td>.</td><td>.</td><td>.</td><td>1</td><td>NA</td></tr>\n",
       "\t<tr><th scope=row>3</th><td>1010753</td><td>1011744</td><td>-</td><td>exoponential</td><td>S</td><td>0</td><td>0</td><td>  46</td><td>0</td><td>0</td><td>⋯</td><td>CUG</td><td>L</td><td>.....|....|.........|..||||......|...|||.</td><td>base_paired    </td><td>-62.39 </td><td>.</td><td>.</td><td>.</td><td>1</td><td>NA</td></tr>\n",
       "\t<tr><th scope=row>4</th><td>2026031</td><td>2027022</td><td>+</td><td>exoponential</td><td>S</td><td>0</td><td>1</td><td>7425</td><td>0</td><td>3</td><td>⋯</td><td>.  </td><td>.</td><td>...||||...|||||....||||||||...|||||||....</td><td>base_paired    </td><td>-440.69</td><td>.</td><td>.</td><td>.</td><td>1</td><td>NA</td></tr>\n",
       "\t<tr><th scope=row>5</th><td> 162074</td><td>162541 </td><td>-</td><td>exoponential</td><td>S</td><td>0</td><td>0</td><td> 462</td><td>0</td><td>1</td><td>⋯</td><td>GCU</td><td>A</td><td>|||....||||||..............|||..|....||||</td><td>single_stranded</td><td>-107.55</td><td>.</td><td>.</td><td>.</td><td>1</td><td>NA</td></tr>\n",
       "\t<tr><th scope=row>6</th><td>1323164</td><td>1324155</td><td>-</td><td>exoponential</td><td>S</td><td>0</td><td>0</td><td> 512</td><td>0</td><td>0</td><td>⋯</td><td>CUG</td><td>L</td><td>|||..|||||..|.....|||..||||||....|..||...</td><td>base_paired    </td><td>-62.76 </td><td>.</td><td>.</td><td>.</td><td>1</td><td>NA</td></tr>\n",
       "</tbody>\n",
       "</table>\n"
      ],
      "text/latex": [
       "A data.frame: 6 × 50\n",
       "\\begin{tabular}{r|lllllllllllllllllllll}\n",
       "  & TS559\\_position & KOD1\\_position & strand & growth\\_phase & metabolic\\_condition & methylation\\_frequency\\_TK1935\\_rep1 & mC\\_count\\_TK1935\\_rep1 & coverage\\_TK1935\\_rep1 & methylation\\_frequency\\_TK1935\\_rep2 & mC\\_count\\_TK1935\\_rep2 & ⋯ & amino\\_acid\\_sequence & amino\\_acid\\_ID & local\\_41bp\\_predicted\\_fold & m5C\\_position\\_fold & MFE & associated\\_TSS\\_id & TSS\\_direction & TSS\\_description & total\\_annotations & alternate\\_annotations\\\\\n",
       "  & <int> & <chr> & <chr> & <chr> & <chr> & <dbl> & <int> & <int> & <dbl> & <int> & ⋯ & <chr> & <chr> & <chr> & <chr> & <chr> & <chr> & <chr> & <chr> & <int> & <chr>\\\\\n",
       "\\hline\n",
       "\t1 & 2022329 & 2023320 & + & exoponential & S & 0 & 2 & 5145 & 0 & 1 & ⋯ & .   & . & \\textbar{}\\textbar{}.........\\textbar{}\\textbar{}\\textbar{}\\textbar{}\\textbar{}...\\textbar{}\\textbar{}\\textbar{}\\textbar{}\\textbar{}\\textbar{}....\\textbar{}\\textbar{}\\textbar{}.....\\textbar{}\\textbar{}\\textbar{}. & base\\_paired     & -224.51 & . & . & . & 1 & NA\\\\\n",
       "\t2 & 2025660 & 2026651 & + & exoponential & S & 0 & 1 & 3022 & 0 & 0 & ⋯ & .   & . & ........\\textbar{}\\textbar{}\\textbar{}\\textbar{}\\textbar{}\\textbar{}.....\\textbar{}\\textbar{}\\textbar{}\\textbar{}\\textbar{}\\textbar{}................ & base\\_paired     & -440.69 & . & . & . & 1 & NA\\\\\n",
       "\t3 & 1010753 & 1011744 & - & exoponential & S & 0 & 0 &   46 & 0 & 0 & ⋯ & CUG & L & .....\\textbar{}....\\textbar{}.........\\textbar{}..\\textbar{}\\textbar{}\\textbar{}\\textbar{}......\\textbar{}...\\textbar{}\\textbar{}\\textbar{}. & base\\_paired     & -62.39  & . & . & . & 1 & NA\\\\\n",
       "\t4 & 2026031 & 2027022 & + & exoponential & S & 0 & 1 & 7425 & 0 & 3 & ⋯ & .   & . & ...\\textbar{}\\textbar{}\\textbar{}\\textbar{}...\\textbar{}\\textbar{}\\textbar{}\\textbar{}\\textbar{}....\\textbar{}\\textbar{}\\textbar{}\\textbar{}\\textbar{}\\textbar{}\\textbar{}\\textbar{}...\\textbar{}\\textbar{}\\textbar{}\\textbar{}\\textbar{}\\textbar{}\\textbar{}.... & base\\_paired     & -440.69 & . & . & . & 1 & NA\\\\\n",
       "\t5 &  162074 & 162541  & - & exoponential & S & 0 & 0 &  462 & 0 & 1 & ⋯ & GCU & A & \\textbar{}\\textbar{}\\textbar{}....\\textbar{}\\textbar{}\\textbar{}\\textbar{}\\textbar{}\\textbar{}..............\\textbar{}\\textbar{}\\textbar{}..\\textbar{}....\\textbar{}\\textbar{}\\textbar{}\\textbar{} & single\\_stranded & -107.55 & . & . & . & 1 & NA\\\\\n",
       "\t6 & 1323164 & 1324155 & - & exoponential & S & 0 & 0 &  512 & 0 & 0 & ⋯ & CUG & L & \\textbar{}\\textbar{}\\textbar{}..\\textbar{}\\textbar{}\\textbar{}\\textbar{}\\textbar{}..\\textbar{}.....\\textbar{}\\textbar{}\\textbar{}..\\textbar{}\\textbar{}\\textbar{}\\textbar{}\\textbar{}\\textbar{}....\\textbar{}..\\textbar{}\\textbar{}... & base\\_paired     & -62.76  & . & . & . & 1 & NA\\\\\n",
       "\\end{tabular}\n"
      ],
      "text/markdown": [
       "\n",
       "A data.frame: 6 × 50\n",
       "\n",
       "| <!--/--> | TS559_position &lt;int&gt; | KOD1_position &lt;chr&gt; | strand &lt;chr&gt; | growth_phase &lt;chr&gt; | metabolic_condition &lt;chr&gt; | methylation_frequency_TK1935_rep1 &lt;dbl&gt; | mC_count_TK1935_rep1 &lt;int&gt; | coverage_TK1935_rep1 &lt;int&gt; | methylation_frequency_TK1935_rep2 &lt;dbl&gt; | mC_count_TK1935_rep2 &lt;int&gt; | ⋯ ⋯ | amino_acid_sequence &lt;chr&gt; | amino_acid_ID &lt;chr&gt; | local_41bp_predicted_fold &lt;chr&gt; | m5C_position_fold &lt;chr&gt; | MFE &lt;chr&gt; | associated_TSS_id &lt;chr&gt; | TSS_direction &lt;chr&gt; | TSS_description &lt;chr&gt; | total_annotations &lt;int&gt; | alternate_annotations &lt;chr&gt; |\n",
       "|---|---|---|---|---|---|---|---|---|---|---|---|---|---|---|---|---|---|---|---|---|---|\n",
       "| 1 | 2022329 | 2023320 | + | exoponential | S | 0 | 2 | 5145 | 0 | 1 | ⋯ | .   | . | ||.........|||||...||||||....|||.....|||. | base_paired     | -224.51 | . | . | . | 1 | NA |\n",
       "| 2 | 2025660 | 2026651 | + | exoponential | S | 0 | 1 | 3022 | 0 | 0 | ⋯ | .   | . | ........||||||.....||||||................ | base_paired     | -440.69 | . | . | . | 1 | NA |\n",
       "| 3 | 1010753 | 1011744 | - | exoponential | S | 0 | 0 |   46 | 0 | 0 | ⋯ | CUG | L | .....|....|.........|..||||......|...|||. | base_paired     | -62.39  | . | . | . | 1 | NA |\n",
       "| 4 | 2026031 | 2027022 | + | exoponential | S | 0 | 1 | 7425 | 0 | 3 | ⋯ | .   | . | ...||||...|||||....||||||||...|||||||.... | base_paired     | -440.69 | . | . | . | 1 | NA |\n",
       "| 5 |  162074 | 162541  | - | exoponential | S | 0 | 0 |  462 | 0 | 1 | ⋯ | GCU | A | |||....||||||..............|||..|....|||| | single_stranded | -107.55 | . | . | . | 1 | NA |\n",
       "| 6 | 1323164 | 1324155 | - | exoponential | S | 0 | 0 |  512 | 0 | 0 | ⋯ | CUG | L | |||..|||||..|.....|||..||||||....|..||... | base_paired     | -62.76  | . | . | . | 1 | NA |\n",
       "\n"
      ],
      "text/plain": [
       "  TS559_position KOD1_position strand growth_phase metabolic_condition\n",
       "1 2022329        2023320       +      exoponential S                  \n",
       "2 2025660        2026651       +      exoponential S                  \n",
       "3 1010753        1011744       -      exoponential S                  \n",
       "4 2026031        2027022       +      exoponential S                  \n",
       "5  162074        162541        -      exoponential S                  \n",
       "6 1323164        1324155       -      exoponential S                  \n",
       "  methylation_frequency_TK1935_rep1 mC_count_TK1935_rep1 coverage_TK1935_rep1\n",
       "1 0                                 2                    5145                \n",
       "2 0                                 1                    3022                \n",
       "3 0                                 0                      46                \n",
       "4 0                                 1                    7425                \n",
       "5 0                                 0                     462                \n",
       "6 0                                 0                     512                \n",
       "  methylation_frequency_TK1935_rep2 mC_count_TK1935_rep2 ⋯ amino_acid_sequence\n",
       "1 0                                 1                    ⋯ .                  \n",
       "2 0                                 0                    ⋯ .                  \n",
       "3 0                                 0                    ⋯ CUG                \n",
       "4 0                                 3                    ⋯ .                  \n",
       "5 0                                 1                    ⋯ GCU                \n",
       "6 0                                 0                    ⋯ CUG                \n",
       "  amino_acid_ID local_41bp_predicted_fold                 m5C_position_fold\n",
       "1 .             ||.........|||||...||||||....|||.....|||. base_paired      \n",
       "2 .             ........||||||.....||||||................ base_paired      \n",
       "3 L             .....|....|.........|..||||......|...|||. base_paired      \n",
       "4 .             ...||||...|||||....||||||||...|||||||.... base_paired      \n",
       "5 A             |||....||||||..............|||..|....|||| single_stranded  \n",
       "6 L             |||..|||||..|.....|||..||||||....|..||... base_paired      \n",
       "  MFE     associated_TSS_id TSS_direction TSS_description total_annotations\n",
       "1 -224.51 .                 .             .               1                \n",
       "2 -440.69 .                 .             .               1                \n",
       "3 -62.39  .                 .             .               1                \n",
       "4 -440.69 .                 .             .               1                \n",
       "5 -107.55 .                 .             .               1                \n",
       "6 -62.76  .                 .             .               1                \n",
       "  alternate_annotations\n",
       "1 NA                   \n",
       "2 NA                   \n",
       "3 NA                   \n",
       "4 NA                   \n",
       "5 NA                   \n",
       "6 NA                   "
      ]
     },
     "metadata": {},
     "output_type": "display_data"
    }
   ],
   "source": [
    "###strain TK1935\n",
    "\n",
    "defaultW <- getOption(\"warn\")\n",
    "options(warn = -1)\n",
    "\n",
    "\n",
    "#load CGmaps into session\n",
    "TK1935exoS_CGmap_rep1 <-read.delim(\"../cgmaps/TK1935_exoS_totalRNA_rep1.CGmap\", sep='\\t', header=FALSE,col.names=cols) %>%\n",
    "    mutate(strain=\"TK1935\", growth_phase='exoponential', metabolic_condition=\"S\", replicate=\"rep1\")\n",
    "\n",
    "TK1935exoS_CGmap_rep2 <-read.delim(\"../cgmaps/TK1935_exoS_totalRNA_rep2.CGmap\", sep='\\t', header=FALSE,col.names=cols) %>%\n",
    "    mutate(strain=\"TK1935\", growth_phase='exoponential', metabolic_condition=\"S\", replicate=\"rep2\")\n",
    "\n",
    "# process raw CGmaps\n",
    "TK1935exoS_rep1_df <- processCGmap(TK1935exoS_CGmap_rep1)\n",
    "TK1935exoS_rep2_df <- processCGmap(TK1935exoS_CGmap_rep2)\n",
    "\n",
    "#merge reps\n",
    "TK1935exoS <- merge_del_reps(x=TK1935exoS_rep1_df, y=TK1935exoS_rep2_df, strain='TK1935')\n",
    "\n",
    "# get quantiles\n",
    "\"quantiles:\"\n",
    "get_quantiles(strain_cgmap = TK1935exoS, strain=\"TK1935\", min_cov = 47)\n",
    "\n",
    "#compare methylation frequencies & annotate\n",
    "TK1935exoS_anal <- CompareCGmap(strain_cgmap = TK1935exoS, \n",
    "                                TS559_cgmap = TS559exoS, \n",
    "                                strain=\"TK1935\", \n",
    "                                annotation = annotation,\n",
    "                                min_cov = 47)\n",
    "\n",
    "write.table(TK1935exoS_anal, file = \"../processed_cgmaps/TK1935exoS_annotated\", sep = \"\\t\", row.names = F)\n",
    "\n",
    "#enumerate gains & losses\n",
    "\"losses & gains:\"\n",
    "nrow( TK1935exoS_anal %>% filter(log2FC < 0) )\n",
    "nrow( TK1935exoS_anal %>% filter(log2FC > 0) )\n",
    "\n",
    "\"absolute losses & gains:\"\n",
    "nrow( TK1935exoS_anal %>% filter(difference == \"ABS LOSS\") )\n",
    "nrow( TK1935exoS_anal %>% filter(difference == \"ABS GAIN\") )\n",
    "\n",
    "head(TK1935exoS_anal)\n",
    "\n",
    "# TK1935exoS_cat <- enumerate_hiconf_2reps(strain_cgmap = TK1935exoS, strain=\"TK1935\",min_cov = 47)\n",
    "\n",
    "Sys.sleep(10)"
   ]
  },
  {
   "cell_type": "code",
   "execution_count": 9,
   "metadata": {},
   "outputs": [
    {
     "data": {
      "text/html": [
       "'quantiles:'"
      ],
      "text/latex": [
       "'quantiles:'"
      ],
      "text/markdown": [
       "'quantiles:'"
      ],
      "text/plain": [
       "[1] \"quantiles:\""
      ]
     },
     "metadata": {},
     "output_type": "display_data"
    },
    {
     "data": {
      "text/html": [
       "<style>\n",
       ".list-inline {list-style: none; margin:0; padding: 0}\n",
       ".list-inline>li {display: inline-block}\n",
       ".list-inline>li:not(:last-child)::after {content: \"\\00b7\"; padding: 0 .5ex}\n",
       "</style>\n",
       "<ol class=list-inline><li>18</li><li>6</li></ol>\n"
      ],
      "text/latex": [
       "\\begin{enumerate*}\n",
       "\\item 18\n",
       "\\item 6\n",
       "\\end{enumerate*}\n"
      ],
      "text/markdown": [
       "1. 18\n",
       "2. 6\n",
       "\n",
       "\n"
      ],
      "text/plain": [
       "[1] 18  6"
      ]
     },
     "metadata": {},
     "output_type": "display_data"
    },
    {
     "data": {
      "text/html": [
       "'losses &amp; gains:'"
      ],
      "text/latex": [
       "'losses \\& gains:'"
      ],
      "text/markdown": [
       "'losses &amp; gains:'"
      ],
      "text/plain": [
       "[1] \"losses & gains:\""
      ]
     },
     "metadata": {},
     "output_type": "display_data"
    },
    {
     "data": {
      "text/html": [
       "11"
      ],
      "text/latex": [
       "11"
      ],
      "text/markdown": [
       "11"
      ],
      "text/plain": [
       "[1] 11"
      ]
     },
     "metadata": {},
     "output_type": "display_data"
    },
    {
     "data": {
      "text/html": [
       "0"
      ],
      "text/latex": [
       "0"
      ],
      "text/markdown": [
       "0"
      ],
      "text/plain": [
       "[1] 0"
      ]
     },
     "metadata": {},
     "output_type": "display_data"
    },
    {
     "data": {
      "text/html": [
       "'absolute losses &amp; gains:'"
      ],
      "text/latex": [
       "'absolute losses \\& gains:'"
      ],
      "text/markdown": [
       "'absolute losses &amp; gains:'"
      ],
      "text/plain": [
       "[1] \"absolute losses & gains:\""
      ]
     },
     "metadata": {},
     "output_type": "display_data"
    },
    {
     "data": {
      "text/html": [
       "11"
      ],
      "text/latex": [
       "11"
      ],
      "text/markdown": [
       "11"
      ],
      "text/plain": [
       "[1] 11"
      ]
     },
     "metadata": {},
     "output_type": "display_data"
    },
    {
     "data": {
      "text/html": [
       "0"
      ],
      "text/latex": [
       "0"
      ],
      "text/markdown": [
       "0"
      ],
      "text/plain": [
       "[1] 0"
      ]
     },
     "metadata": {},
     "output_type": "display_data"
    },
    {
     "data": {
      "text/html": [
       "<table class=\"dataframe\">\n",
       "<caption>A data.frame: 6 × 50</caption>\n",
       "<thead>\n",
       "\t<tr><th></th><th scope=col>TS559_position</th><th scope=col>KOD1_position</th><th scope=col>strand</th><th scope=col>growth_phase</th><th scope=col>metabolic_condition</th><th scope=col>methylation_frequency_TK2122_rep1</th><th scope=col>mC_count_TK2122_rep1</th><th scope=col>coverage_TK2122_rep1</th><th scope=col>methylation_frequency_TK2122_rep2</th><th scope=col>mC_count_TK2122_rep2</th><th scope=col>⋯</th><th scope=col>amino_acid_sequence</th><th scope=col>amino_acid_ID</th><th scope=col>local_41bp_predicted_fold</th><th scope=col>m5C_position_fold</th><th scope=col>MFE</th><th scope=col>associated_TSS_id</th><th scope=col>TSS_direction</th><th scope=col>TSS_description</th><th scope=col>total_annotations</th><th scope=col>alternate_annotations</th></tr>\n",
       "\t<tr><th></th><th scope=col>&lt;int&gt;</th><th scope=col>&lt;chr&gt;</th><th scope=col>&lt;chr&gt;</th><th scope=col>&lt;chr&gt;</th><th scope=col>&lt;chr&gt;</th><th scope=col>&lt;dbl&gt;</th><th scope=col>&lt;int&gt;</th><th scope=col>&lt;int&gt;</th><th scope=col>&lt;dbl&gt;</th><th scope=col>&lt;int&gt;</th><th scope=col>⋯</th><th scope=col>&lt;chr&gt;</th><th scope=col>&lt;chr&gt;</th><th scope=col>&lt;chr&gt;</th><th scope=col>&lt;chr&gt;</th><th scope=col>&lt;chr&gt;</th><th scope=col>&lt;chr&gt;</th><th scope=col>&lt;chr&gt;</th><th scope=col>&lt;chr&gt;</th><th scope=col>&lt;int&gt;</th><th scope=col>&lt;chr&gt;</th></tr>\n",
       "</thead>\n",
       "<tbody>\n",
       "\t<tr><th scope=row>1</th><td>2023350</td><td>2024341</td><td>+</td><td>exoponential</td><td>S</td><td>0.00</td><td>0</td><td> 694</td><td>0</td><td>0</td><td>⋯</td><td>.  </td><td>.</td><td>|||||||....|||||||||........||||...||||||</td><td>single_stranded</td><td>-224.51</td><td>.</td><td>.</td><td>.</td><td>1</td><td>NA</td></tr>\n",
       "\t<tr><th scope=row>2</th><td>1101098</td><td>1102089</td><td>-</td><td>exoponential</td><td>S</td><td>0.00</td><td>0</td><td> 422</td><td>0</td><td>0</td><td>⋯</td><td>CCC</td><td>P</td><td>......||||||||.....||||...........||||...</td><td>base_paired    </td><td>-14.43 </td><td>.</td><td>.</td><td>.</td><td>1</td><td>NA</td></tr>\n",
       "\t<tr><th scope=row>3</th><td> 898452</td><td>899443 </td><td>-</td><td>exoponential</td><td>S</td><td>0.00</td><td>0</td><td> 145</td><td>0</td><td>0</td><td>⋯</td><td>GCG</td><td>A</td><td>.|..|..|||||.....||...|||||||||||||.|||||</td><td>single_stranded</td><td>-47.75 </td><td>.</td><td>.</td><td>.</td><td>1</td><td>NA</td></tr>\n",
       "\t<tr><th scope=row>4</th><td> 150040</td><td>150507 </td><td>-</td><td>exoponential</td><td>S</td><td>0.01</td><td>2</td><td> 341</td><td>0</td><td>1</td><td>⋯</td><td>GCU</td><td>A</td><td>.|||||||.|||||..|||..|||||......|||||....</td><td>single_stranded</td><td>-82.72 </td><td>.</td><td>.</td><td>.</td><td>1</td><td>NA</td></tr>\n",
       "\t<tr><th scope=row>5</th><td>1027413</td><td>1028404</td><td>+</td><td>exoponential</td><td>S</td><td>0.00</td><td>0</td><td>1155</td><td>0</td><td>0</td><td>⋯</td><td>CCG</td><td>P</td><td>|||..|..|||||..................|||||..|||</td><td>single_stranded</td><td>-117.74</td><td>.</td><td>.</td><td>.</td><td>1</td><td>NA</td></tr>\n",
       "\t<tr><th scope=row>6</th><td>1985559</td><td>1986550</td><td>+</td><td>exoponential</td><td>S</td><td>0.01</td><td>1</td><td> 200</td><td>0</td><td>0</td><td>⋯</td><td>GCG</td><td>A</td><td>.||||.........||||............||||..|||||</td><td>single_stranded</td><td>-92.31 </td><td>.</td><td>.</td><td>.</td><td>1</td><td>NA</td></tr>\n",
       "</tbody>\n",
       "</table>\n"
      ],
      "text/latex": [
       "A data.frame: 6 × 50\n",
       "\\begin{tabular}{r|lllllllllllllllllllll}\n",
       "  & TS559\\_position & KOD1\\_position & strand & growth\\_phase & metabolic\\_condition & methylation\\_frequency\\_TK2122\\_rep1 & mC\\_count\\_TK2122\\_rep1 & coverage\\_TK2122\\_rep1 & methylation\\_frequency\\_TK2122\\_rep2 & mC\\_count\\_TK2122\\_rep2 & ⋯ & amino\\_acid\\_sequence & amino\\_acid\\_ID & local\\_41bp\\_predicted\\_fold & m5C\\_position\\_fold & MFE & associated\\_TSS\\_id & TSS\\_direction & TSS\\_description & total\\_annotations & alternate\\_annotations\\\\\n",
       "  & <int> & <chr> & <chr> & <chr> & <chr> & <dbl> & <int> & <int> & <dbl> & <int> & ⋯ & <chr> & <chr> & <chr> & <chr> & <chr> & <chr> & <chr> & <chr> & <int> & <chr>\\\\\n",
       "\\hline\n",
       "\t1 & 2023350 & 2024341 & + & exoponential & S & 0.00 & 0 &  694 & 0 & 0 & ⋯ & .   & . & \\textbar{}\\textbar{}\\textbar{}\\textbar{}\\textbar{}\\textbar{}\\textbar{}....\\textbar{}\\textbar{}\\textbar{}\\textbar{}\\textbar{}\\textbar{}\\textbar{}\\textbar{}\\textbar{}........\\textbar{}\\textbar{}\\textbar{}\\textbar{}...\\textbar{}\\textbar{}\\textbar{}\\textbar{}\\textbar{}\\textbar{} & single\\_stranded & -224.51 & . & . & . & 1 & NA\\\\\n",
       "\t2 & 1101098 & 1102089 & - & exoponential & S & 0.00 & 0 &  422 & 0 & 0 & ⋯ & CCC & P & ......\\textbar{}\\textbar{}\\textbar{}\\textbar{}\\textbar{}\\textbar{}\\textbar{}\\textbar{}.....\\textbar{}\\textbar{}\\textbar{}\\textbar{}...........\\textbar{}\\textbar{}\\textbar{}\\textbar{}... & base\\_paired     & -14.43  & . & . & . & 1 & NA\\\\\n",
       "\t3 &  898452 & 899443  & - & exoponential & S & 0.00 & 0 &  145 & 0 & 0 & ⋯ & GCG & A & .\\textbar{}..\\textbar{}..\\textbar{}\\textbar{}\\textbar{}\\textbar{}\\textbar{}.....\\textbar{}\\textbar{}...\\textbar{}\\textbar{}\\textbar{}\\textbar{}\\textbar{}\\textbar{}\\textbar{}\\textbar{}\\textbar{}\\textbar{}\\textbar{}\\textbar{}\\textbar{}.\\textbar{}\\textbar{}\\textbar{}\\textbar{}\\textbar{} & single\\_stranded & -47.75  & . & . & . & 1 & NA\\\\\n",
       "\t4 &  150040 & 150507  & - & exoponential & S & 0.01 & 2 &  341 & 0 & 1 & ⋯ & GCU & A & .\\textbar{}\\textbar{}\\textbar{}\\textbar{}\\textbar{}\\textbar{}\\textbar{}.\\textbar{}\\textbar{}\\textbar{}\\textbar{}\\textbar{}..\\textbar{}\\textbar{}\\textbar{}..\\textbar{}\\textbar{}\\textbar{}\\textbar{}\\textbar{}......\\textbar{}\\textbar{}\\textbar{}\\textbar{}\\textbar{}.... & single\\_stranded & -82.72  & . & . & . & 1 & NA\\\\\n",
       "\t5 & 1027413 & 1028404 & + & exoponential & S & 0.00 & 0 & 1155 & 0 & 0 & ⋯ & CCG & P & \\textbar{}\\textbar{}\\textbar{}..\\textbar{}..\\textbar{}\\textbar{}\\textbar{}\\textbar{}\\textbar{}..................\\textbar{}\\textbar{}\\textbar{}\\textbar{}\\textbar{}..\\textbar{}\\textbar{}\\textbar{} & single\\_stranded & -117.74 & . & . & . & 1 & NA\\\\\n",
       "\t6 & 1985559 & 1986550 & + & exoponential & S & 0.01 & 1 &  200 & 0 & 0 & ⋯ & GCG & A & .\\textbar{}\\textbar{}\\textbar{}\\textbar{}.........\\textbar{}\\textbar{}\\textbar{}\\textbar{}............\\textbar{}\\textbar{}\\textbar{}\\textbar{}..\\textbar{}\\textbar{}\\textbar{}\\textbar{}\\textbar{} & single\\_stranded & -92.31  & . & . & . & 1 & NA\\\\\n",
       "\\end{tabular}\n"
      ],
      "text/markdown": [
       "\n",
       "A data.frame: 6 × 50\n",
       "\n",
       "| <!--/--> | TS559_position &lt;int&gt; | KOD1_position &lt;chr&gt; | strand &lt;chr&gt; | growth_phase &lt;chr&gt; | metabolic_condition &lt;chr&gt; | methylation_frequency_TK2122_rep1 &lt;dbl&gt; | mC_count_TK2122_rep1 &lt;int&gt; | coverage_TK2122_rep1 &lt;int&gt; | methylation_frequency_TK2122_rep2 &lt;dbl&gt; | mC_count_TK2122_rep2 &lt;int&gt; | ⋯ ⋯ | amino_acid_sequence &lt;chr&gt; | amino_acid_ID &lt;chr&gt; | local_41bp_predicted_fold &lt;chr&gt; | m5C_position_fold &lt;chr&gt; | MFE &lt;chr&gt; | associated_TSS_id &lt;chr&gt; | TSS_direction &lt;chr&gt; | TSS_description &lt;chr&gt; | total_annotations &lt;int&gt; | alternate_annotations &lt;chr&gt; |\n",
       "|---|---|---|---|---|---|---|---|---|---|---|---|---|---|---|---|---|---|---|---|---|---|\n",
       "| 1 | 2023350 | 2024341 | + | exoponential | S | 0.00 | 0 |  694 | 0 | 0 | ⋯ | .   | . | |||||||....|||||||||........||||...|||||| | single_stranded | -224.51 | . | . | . | 1 | NA |\n",
       "| 2 | 1101098 | 1102089 | - | exoponential | S | 0.00 | 0 |  422 | 0 | 0 | ⋯ | CCC | P | ......||||||||.....||||...........||||... | base_paired     | -14.43  | . | . | . | 1 | NA |\n",
       "| 3 |  898452 | 899443  | - | exoponential | S | 0.00 | 0 |  145 | 0 | 0 | ⋯ | GCG | A | .|..|..|||||.....||...|||||||||||||.||||| | single_stranded | -47.75  | . | . | . | 1 | NA |\n",
       "| 4 |  150040 | 150507  | - | exoponential | S | 0.01 | 2 |  341 | 0 | 1 | ⋯ | GCU | A | .|||||||.|||||..|||..|||||......|||||.... | single_stranded | -82.72  | . | . | . | 1 | NA |\n",
       "| 5 | 1027413 | 1028404 | + | exoponential | S | 0.00 | 0 | 1155 | 0 | 0 | ⋯ | CCG | P | |||..|..|||||..................|||||..||| | single_stranded | -117.74 | . | . | . | 1 | NA |\n",
       "| 6 | 1985559 | 1986550 | + | exoponential | S | 0.01 | 1 |  200 | 0 | 0 | ⋯ | GCG | A | .||||.........||||............||||..||||| | single_stranded | -92.31  | . | . | . | 1 | NA |\n",
       "\n"
      ],
      "text/plain": [
       "  TS559_position KOD1_position strand growth_phase metabolic_condition\n",
       "1 2023350        2024341       +      exoponential S                  \n",
       "2 1101098        1102089       -      exoponential S                  \n",
       "3  898452        899443        -      exoponential S                  \n",
       "4  150040        150507        -      exoponential S                  \n",
       "5 1027413        1028404       +      exoponential S                  \n",
       "6 1985559        1986550       +      exoponential S                  \n",
       "  methylation_frequency_TK2122_rep1 mC_count_TK2122_rep1 coverage_TK2122_rep1\n",
       "1 0.00                              0                     694                \n",
       "2 0.00                              0                     422                \n",
       "3 0.00                              0                     145                \n",
       "4 0.01                              2                     341                \n",
       "5 0.00                              0                    1155                \n",
       "6 0.01                              1                     200                \n",
       "  methylation_frequency_TK2122_rep2 mC_count_TK2122_rep2 ⋯ amino_acid_sequence\n",
       "1 0                                 0                    ⋯ .                  \n",
       "2 0                                 0                    ⋯ CCC                \n",
       "3 0                                 0                    ⋯ GCG                \n",
       "4 0                                 1                    ⋯ GCU                \n",
       "5 0                                 0                    ⋯ CCG                \n",
       "6 0                                 0                    ⋯ GCG                \n",
       "  amino_acid_ID local_41bp_predicted_fold                 m5C_position_fold\n",
       "1 .             |||||||....|||||||||........||||...|||||| single_stranded  \n",
       "2 P             ......||||||||.....||||...........||||... base_paired      \n",
       "3 A             .|..|..|||||.....||...|||||||||||||.||||| single_stranded  \n",
       "4 A             .|||||||.|||||..|||..|||||......|||||.... single_stranded  \n",
       "5 P             |||..|..|||||..................|||||..||| single_stranded  \n",
       "6 A             .||||.........||||............||||..||||| single_stranded  \n",
       "  MFE     associated_TSS_id TSS_direction TSS_description total_annotations\n",
       "1 -224.51 .                 .             .               1                \n",
       "2 -14.43  .                 .             .               1                \n",
       "3 -47.75  .                 .             .               1                \n",
       "4 -82.72  .                 .             .               1                \n",
       "5 -117.74 .                 .             .               1                \n",
       "6 -92.31  .                 .             .               1                \n",
       "  alternate_annotations\n",
       "1 NA                   \n",
       "2 NA                   \n",
       "3 NA                   \n",
       "4 NA                   \n",
       "5 NA                   \n",
       "6 NA                   "
      ]
     },
     "metadata": {},
     "output_type": "display_data"
    }
   ],
   "source": [
    "###strain TK2122\n",
    "\n",
    "defaultW <- getOption(\"warn\")\n",
    "options(warn = -1)\n",
    "\n",
    "\n",
    "#load CGmaps into session\n",
    "TK2122exoS_CGmap_rep1 <-read.delim(\"../cgmaps/TK2122_exoS_totalRNA_rep1.CGmap\", sep='\\t', header=FALSE,col.names=cols) %>%\n",
    "    mutate(strain=\"TK2122\", growth_phase='exoponential', metabolic_condition=\"S\", replicate=\"rep1\")\n",
    "\n",
    "TK2122exoS_CGmap_rep2 <-read.delim(\"../cgmaps/TK2122_exoS_totalRNA_rep2.CGmap\", sep='\\t', header=FALSE,col.names=cols) %>%\n",
    "    mutate(strain=\"TK2122\", growth_phase='exoponential', metabolic_condition=\"S\", replicate=\"rep2\")\n",
    "\n",
    "# process raw CGmaps\n",
    "TK2122exoS_rep1_df <- processCGmap(TK2122exoS_CGmap_rep1)\n",
    "TK2122exoS_rep2_df <- processCGmap(TK2122exoS_CGmap_rep2)\n",
    "\n",
    "#merge reps\n",
    "TK2122exoS <- merge_del_reps(x=TK2122exoS_rep1_df, y=TK2122exoS_rep2_df, strain='TK2122')\n",
    "\n",
    "# get quantiles\n",
    "\"quantiles:\"\n",
    "get_quantiles(strain_cgmap = TK2122exoS, strain=\"TK2122\", min_cov = 47)\n",
    "\n",
    "#compare methylation frequencies & annotate\n",
    "TK2122exoS_anal <- CompareCGmap(strain_cgmap = TK2122exoS, \n",
    "                                TS559_cgmap = TS559exoS, \n",
    "                                strain=\"TK2122\", \n",
    "                                annotation = annotation,\n",
    "                                min_cov = 47)\n",
    "\n",
    "write.table(TK2122exoS_anal, file = \"../processed_cgmaps/TK2122exoS_annotated\", sep = \"\\t\", row.names = F)\n",
    "\n",
    "#enumerate gains & losses\n",
    "\"losses & gains:\"\n",
    "nrow( TK2122exoS_anal %>% filter(log2FC < 0) )\n",
    "nrow( TK2122exoS_anal %>% filter(log2FC > 0) )\n",
    "\n",
    "\"absolute losses & gains:\"\n",
    "nrow( TK2122exoS_anal %>% filter(difference == \"ABS LOSS\") )\n",
    "nrow( TK2122exoS_anal %>% filter(difference == \"ABS GAIN\") )\n",
    "\n",
    "head(TK2122exoS_anal)\n",
    "\n",
    "# TK2122exoS_cat <- enumerate_hiconf_2reps(strain_cgmap = TK2122exoS, strain=\"TK2122\",min_cov = 47)\n",
    "\n",
    "Sys.sleep(10)"
   ]
  },
  {
   "cell_type": "code",
   "execution_count": null,
   "metadata": {},
   "outputs": [],
   "source": [
    "###strain TK2241\n",
    "\n",
    "defaultW <- getOption(\"warn\")\n",
    "options(warn = -1)\n",
    "\n",
    "\n",
    "#load CGmaps into session\n",
    "TK2241exoS_CGmap_rep1 <-read.delim(\"../cgmaps/TK2241_exoS_totalRNA_rep1.CGmap\", sep='\\t', header=FALSE,col.names=cols) %>%\n",
    "    mutate(strain=\"TK2241\", growth_phase='exoponential', metabolic_condition=\"S\", replicate=\"rep1\")\n",
    "\n",
    "TK2241exoS_CGmap_rep2 <-read.delim(\"../cgmaps/TK2241_exoS_totalRNA_rep2.CGmap\", sep='\\t', header=FALSE,col.names=cols) %>%\n",
    "    mutate(strain=\"TK2241\", growth_phase='exoponential', metabolic_condition=\"S\", replicate=\"rep2\")\n",
    "\n",
    "TK2241exoS_CGmap_rep3 <-read.delim(\"../cgmaps/TK2241_exoS_totalRNA_rep3.CGmap\", sep='\\t', header=FALSE,col.names=cols) %>%\n",
    "    mutate(strain=\"TK2241\", growth_phase='exoponential', metabolic_condition=\"S\", replicate=\"rep3\")\n",
    "\n",
    "\n",
    "\n",
    "# process raw CGmaps\n",
    "TK2241exoS_rep1_df <- processCGmap(TK2241exoS_CGmap_rep1)\n",
    "TK2241exoS_rep2_df <- processCGmap(TK2241exoS_CGmap_rep2)\n",
    "TK2241exoS_rep3_df <- processCGmap(TK2241exoS_CGmap_rep3)\n",
    "\n",
    "\n",
    "#merge reps\n",
    "TK2241exoS <- merge_del_3reps(x=TK2241exoS_rep1_df, y=TK2241exoS_rep2_df,z=TK2241exoS_rep3_df, strain='TK2241')\n",
    "\n",
    "# get quantiles\n",
    "\"quantiles:\"\n",
    "get_quantiles(strain_cgmap = TK2241exoS, strain=\"TK2241\", reps=3, min_cov = 47)\n",
    "\n",
    "#compare methylation frequencies & annotate\n",
    "TK2241exoS_anal <- CompareCGmap_3reps(strain_cgmap = TK2241exoS, \n",
    "                                TS559_cgmap = TS559exoS, \n",
    "                                strain=\"TK2241\", \n",
    "                                annotation = annotation,\n",
    "                                min_cov = 47)\n",
    "\n",
    "write.table(TK2241exoS_anal, file = \"../processed_cgmaps/TK2241exoS_annotated\", sep = \"\\t\", row.names = F)\n",
    "\n",
    "#enumerate gains & losses\n",
    "\"losses & gains:\"\n",
    "nrow( TK2241exoS_anal %>% filter(log2FC < 0) )\n",
    "nrow( TK2241exoS_anal %>% filter(log2FC > 0) )\n",
    "\n",
    "\"absolute losses & gains:\"\n",
    "nrow( TK2241exoS_anal %>% filter(difference == \"ABS LOSS\") )\n",
    "nrow( TK2241exoS_anal %>% filter(difference == \"ABS GAIN\") )\n",
    "\n",
    "# TK2241exoS_cat <- enumerate_hiconf_2reps(strain_cgmap = TK2241exoS, strain=\"TK2241\",min_cov = 47)\n",
    "\n",
    "Sys.sleep(10)"
   ]
  },
  {
   "cell_type": "code",
   "execution_count": 10,
   "metadata": {},
   "outputs": [
    {
     "data": {
      "text/html": [
       "'quantiles:'"
      ],
      "text/latex": [
       "'quantiles:'"
      ],
      "text/markdown": [
       "'quantiles:'"
      ],
      "text/plain": [
       "[1] \"quantiles:\""
      ]
     },
     "metadata": {},
     "output_type": "display_data"
    },
    {
     "data": {
      "text/html": [
       "<style>\n",
       ".list-inline {list-style: none; margin:0; padding: 0}\n",
       ".list-inline>li {display: inline-block}\n",
       ".list-inline>li:not(:last-child)::after {content: \"\\00b7\"; padding: 0 .5ex}\n",
       "</style>\n",
       "<ol class=list-inline><li>6</li><li>7</li></ol>\n"
      ],
      "text/latex": [
       "\\begin{enumerate*}\n",
       "\\item 6\n",
       "\\item 7\n",
       "\\end{enumerate*}\n"
      ],
      "text/markdown": [
       "1. 6\n",
       "2. 7\n",
       "\n",
       "\n"
      ],
      "text/plain": [
       "[1] 6 7"
      ]
     },
     "metadata": {},
     "output_type": "display_data"
    },
    {
     "data": {
      "text/html": [
       "'losses &amp; gains:'"
      ],
      "text/latex": [
       "'losses \\& gains:'"
      ],
      "text/markdown": [
       "'losses &amp; gains:'"
      ],
      "text/plain": [
       "[1] \"losses & gains:\""
      ]
     },
     "metadata": {},
     "output_type": "display_data"
    },
    {
     "data": {
      "text/html": [
       "6"
      ],
      "text/latex": [
       "6"
      ],
      "text/markdown": [
       "6"
      ],
      "text/plain": [
       "[1] 6"
      ]
     },
     "metadata": {},
     "output_type": "display_data"
    },
    {
     "data": {
      "text/html": [
       "0"
      ],
      "text/latex": [
       "0"
      ],
      "text/markdown": [
       "0"
      ],
      "text/plain": [
       "[1] 0"
      ]
     },
     "metadata": {},
     "output_type": "display_data"
    },
    {
     "data": {
      "text/html": [
       "'absolute losses &amp; gains:'"
      ],
      "text/latex": [
       "'absolute losses \\& gains:'"
      ],
      "text/markdown": [
       "'absolute losses &amp; gains:'"
      ],
      "text/plain": [
       "[1] \"absolute losses & gains:\""
      ]
     },
     "metadata": {},
     "output_type": "display_data"
    },
    {
     "data": {
      "text/html": [
       "6"
      ],
      "text/latex": [
       "6"
      ],
      "text/markdown": [
       "6"
      ],
      "text/plain": [
       "[1] 6"
      ]
     },
     "metadata": {},
     "output_type": "display_data"
    },
    {
     "data": {
      "text/html": [
       "0"
      ],
      "text/latex": [
       "0"
      ],
      "text/markdown": [
       "0"
      ],
      "text/plain": [
       "[1] 0"
      ]
     },
     "metadata": {},
     "output_type": "display_data"
    },
    {
     "data": {
      "text/html": [
       "<table class=\"dataframe\">\n",
       "<caption>A data.frame: 6 × 50</caption>\n",
       "<thead>\n",
       "\t<tr><th></th><th scope=col>TS559_position</th><th scope=col>KOD1_position</th><th scope=col>strand</th><th scope=col>growth_phase</th><th scope=col>metabolic_condition</th><th scope=col>methylation_frequency_TK2304_rep1</th><th scope=col>mC_count_TK2304_rep1</th><th scope=col>coverage_TK2304_rep1</th><th scope=col>methylation_frequency_TK2304_rep2</th><th scope=col>mC_count_TK2304_rep2</th><th scope=col>⋯</th><th scope=col>amino_acid_sequence</th><th scope=col>amino_acid_ID</th><th scope=col>local_41bp_predicted_fold</th><th scope=col>m5C_position_fold</th><th scope=col>MFE</th><th scope=col>associated_TSS_id</th><th scope=col>TSS_direction</th><th scope=col>TSS_description</th><th scope=col>total_annotations</th><th scope=col>alternate_annotations</th></tr>\n",
       "\t<tr><th></th><th scope=col>&lt;int&gt;</th><th scope=col>&lt;chr&gt;</th><th scope=col>&lt;chr&gt;</th><th scope=col>&lt;chr&gt;</th><th scope=col>&lt;chr&gt;</th><th scope=col>&lt;dbl&gt;</th><th scope=col>&lt;int&gt;</th><th scope=col>&lt;int&gt;</th><th scope=col>&lt;dbl&gt;</th><th scope=col>&lt;int&gt;</th><th scope=col>⋯</th><th scope=col>&lt;chr&gt;</th><th scope=col>&lt;chr&gt;</th><th scope=col>&lt;chr&gt;</th><th scope=col>&lt;chr&gt;</th><th scope=col>&lt;chr&gt;</th><th scope=col>&lt;chr&gt;</th><th scope=col>&lt;chr&gt;</th><th scope=col>&lt;chr&gt;</th><th scope=col>&lt;int&gt;</th><th scope=col>&lt;chr&gt;</th></tr>\n",
       "</thead>\n",
       "<tbody>\n",
       "\t<tr><th scope=row>1</th><td>2025555</td><td>2026546</td><td>+</td><td>exoponential</td><td>S</td><td>0.00</td><td>2</td><td>3599</td><td>0</td><td>2</td><td>⋯</td><td>.  </td><td>.</td><td>...||||||||....||||||...|||||||.......|||</td><td>base_paired    </td><td>-440.69</td><td>.</td><td>.</td><td>.</td><td>1</td><td>NA</td></tr>\n",
       "\t<tr><th scope=row>2</th><td>2025624</td><td>2026615</td><td>+</td><td>exoponential</td><td>S</td><td>0.00</td><td>2</td><td>1444</td><td>0</td><td>0</td><td>⋯</td><td>.  </td><td>.</td><td>..||||||.................................</td><td>single_stranded</td><td>-440.69</td><td>.</td><td>.</td><td>.</td><td>1</td><td>NA</td></tr>\n",
       "\t<tr><th scope=row>3</th><td>2025625</td><td>2026616</td><td>+</td><td>exoponential</td><td>S</td><td>0.00</td><td>1</td><td>1447</td><td>0</td><td>1</td><td>⋯</td><td>.  </td><td>.</td><td>.||||||..................................</td><td>single_stranded</td><td>-440.69</td><td>.</td><td>.</td><td>.</td><td>1</td><td>NA</td></tr>\n",
       "\t<tr><th scope=row>4</th><td>2025645</td><td>2026636</td><td>+</td><td>exoponential</td><td>S</td><td>0.00</td><td>2</td><td>2012</td><td>0</td><td>0</td><td>⋯</td><td>.  </td><td>.</td><td>.......................||||||.....||||||.</td><td>single_stranded</td><td>-440.69</td><td>.</td><td>.</td><td>.</td><td>1</td><td>NA</td></tr>\n",
       "\t<tr><th scope=row>5</th><td>2023357</td><td>2024348</td><td>+</td><td>exoponential</td><td>S</td><td>0.01</td><td>5</td><td> 391</td><td>0</td><td>5</td><td>⋯</td><td>.  </td><td>.</td><td>....|||||||||........||||...||||||-------</td><td>single_stranded</td><td>-224.51</td><td>.</td><td>.</td><td>.</td><td>1</td><td>NA</td></tr>\n",
       "\t<tr><th scope=row>6</th><td>1728374</td><td>1729365</td><td>+</td><td>exoponential</td><td>S</td><td>0.00</td><td>0</td><td> 167</td><td>0</td><td>1</td><td>⋯</td><td>CUU</td><td>L</td><td>...........||||||..|||.....|||||.........</td><td>base_paired    </td><td>-20.17 </td><td>.</td><td>.</td><td>.</td><td>1</td><td>NA</td></tr>\n",
       "</tbody>\n",
       "</table>\n"
      ],
      "text/latex": [
       "A data.frame: 6 × 50\n",
       "\\begin{tabular}{r|lllllllllllllllllllll}\n",
       "  & TS559\\_position & KOD1\\_position & strand & growth\\_phase & metabolic\\_condition & methylation\\_frequency\\_TK2304\\_rep1 & mC\\_count\\_TK2304\\_rep1 & coverage\\_TK2304\\_rep1 & methylation\\_frequency\\_TK2304\\_rep2 & mC\\_count\\_TK2304\\_rep2 & ⋯ & amino\\_acid\\_sequence & amino\\_acid\\_ID & local\\_41bp\\_predicted\\_fold & m5C\\_position\\_fold & MFE & associated\\_TSS\\_id & TSS\\_direction & TSS\\_description & total\\_annotations & alternate\\_annotations\\\\\n",
       "  & <int> & <chr> & <chr> & <chr> & <chr> & <dbl> & <int> & <int> & <dbl> & <int> & ⋯ & <chr> & <chr> & <chr> & <chr> & <chr> & <chr> & <chr> & <chr> & <int> & <chr>\\\\\n",
       "\\hline\n",
       "\t1 & 2025555 & 2026546 & + & exoponential & S & 0.00 & 2 & 3599 & 0 & 2 & ⋯ & .   & . & ...\\textbar{}\\textbar{}\\textbar{}\\textbar{}\\textbar{}\\textbar{}\\textbar{}\\textbar{}....\\textbar{}\\textbar{}\\textbar{}\\textbar{}\\textbar{}\\textbar{}...\\textbar{}\\textbar{}\\textbar{}\\textbar{}\\textbar{}\\textbar{}\\textbar{}.......\\textbar{}\\textbar{}\\textbar{} & base\\_paired     & -440.69 & . & . & . & 1 & NA\\\\\n",
       "\t2 & 2025624 & 2026615 & + & exoponential & S & 0.00 & 2 & 1444 & 0 & 0 & ⋯ & .   & . & ..\\textbar{}\\textbar{}\\textbar{}\\textbar{}\\textbar{}\\textbar{}................................. & single\\_stranded & -440.69 & . & . & . & 1 & NA\\\\\n",
       "\t3 & 2025625 & 2026616 & + & exoponential & S & 0.00 & 1 & 1447 & 0 & 1 & ⋯ & .   & . & .\\textbar{}\\textbar{}\\textbar{}\\textbar{}\\textbar{}\\textbar{}.................................. & single\\_stranded & -440.69 & . & . & . & 1 & NA\\\\\n",
       "\t4 & 2025645 & 2026636 & + & exoponential & S & 0.00 & 2 & 2012 & 0 & 0 & ⋯ & .   & . & .......................\\textbar{}\\textbar{}\\textbar{}\\textbar{}\\textbar{}\\textbar{}.....\\textbar{}\\textbar{}\\textbar{}\\textbar{}\\textbar{}\\textbar{}. & single\\_stranded & -440.69 & . & . & . & 1 & NA\\\\\n",
       "\t5 & 2023357 & 2024348 & + & exoponential & S & 0.01 & 5 &  391 & 0 & 5 & ⋯ & .   & . & ....\\textbar{}\\textbar{}\\textbar{}\\textbar{}\\textbar{}\\textbar{}\\textbar{}\\textbar{}\\textbar{}........\\textbar{}\\textbar{}\\textbar{}\\textbar{}...\\textbar{}\\textbar{}\\textbar{}\\textbar{}\\textbar{}\\textbar{}------- & single\\_stranded & -224.51 & . & . & . & 1 & NA\\\\\n",
       "\t6 & 1728374 & 1729365 & + & exoponential & S & 0.00 & 0 &  167 & 0 & 1 & ⋯ & CUU & L & ...........\\textbar{}\\textbar{}\\textbar{}\\textbar{}\\textbar{}\\textbar{}..\\textbar{}\\textbar{}\\textbar{}.....\\textbar{}\\textbar{}\\textbar{}\\textbar{}\\textbar{}......... & base\\_paired     & -20.17  & . & . & . & 1 & NA\\\\\n",
       "\\end{tabular}\n"
      ],
      "text/markdown": [
       "\n",
       "A data.frame: 6 × 50\n",
       "\n",
       "| <!--/--> | TS559_position &lt;int&gt; | KOD1_position &lt;chr&gt; | strand &lt;chr&gt; | growth_phase &lt;chr&gt; | metabolic_condition &lt;chr&gt; | methylation_frequency_TK2304_rep1 &lt;dbl&gt; | mC_count_TK2304_rep1 &lt;int&gt; | coverage_TK2304_rep1 &lt;int&gt; | methylation_frequency_TK2304_rep2 &lt;dbl&gt; | mC_count_TK2304_rep2 &lt;int&gt; | ⋯ ⋯ | amino_acid_sequence &lt;chr&gt; | amino_acid_ID &lt;chr&gt; | local_41bp_predicted_fold &lt;chr&gt; | m5C_position_fold &lt;chr&gt; | MFE &lt;chr&gt; | associated_TSS_id &lt;chr&gt; | TSS_direction &lt;chr&gt; | TSS_description &lt;chr&gt; | total_annotations &lt;int&gt; | alternate_annotations &lt;chr&gt; |\n",
       "|---|---|---|---|---|---|---|---|---|---|---|---|---|---|---|---|---|---|---|---|---|---|\n",
       "| 1 | 2025555 | 2026546 | + | exoponential | S | 0.00 | 2 | 3599 | 0 | 2 | ⋯ | .   | . | ...||||||||....||||||...|||||||.......||| | base_paired     | -440.69 | . | . | . | 1 | NA |\n",
       "| 2 | 2025624 | 2026615 | + | exoponential | S | 0.00 | 2 | 1444 | 0 | 0 | ⋯ | .   | . | ..||||||................................. | single_stranded | -440.69 | . | . | . | 1 | NA |\n",
       "| 3 | 2025625 | 2026616 | + | exoponential | S | 0.00 | 1 | 1447 | 0 | 1 | ⋯ | .   | . | .||||||.................................. | single_stranded | -440.69 | . | . | . | 1 | NA |\n",
       "| 4 | 2025645 | 2026636 | + | exoponential | S | 0.00 | 2 | 2012 | 0 | 0 | ⋯ | .   | . | .......................||||||.....||||||. | single_stranded | -440.69 | . | . | . | 1 | NA |\n",
       "| 5 | 2023357 | 2024348 | + | exoponential | S | 0.01 | 5 |  391 | 0 | 5 | ⋯ | .   | . | ....|||||||||........||||...||||||------- | single_stranded | -224.51 | . | . | . | 1 | NA |\n",
       "| 6 | 1728374 | 1729365 | + | exoponential | S | 0.00 | 0 |  167 | 0 | 1 | ⋯ | CUU | L | ...........||||||..|||.....|||||......... | base_paired     | -20.17  | . | . | . | 1 | NA |\n",
       "\n"
      ],
      "text/plain": [
       "  TS559_position KOD1_position strand growth_phase metabolic_condition\n",
       "1 2025555        2026546       +      exoponential S                  \n",
       "2 2025624        2026615       +      exoponential S                  \n",
       "3 2025625        2026616       +      exoponential S                  \n",
       "4 2025645        2026636       +      exoponential S                  \n",
       "5 2023357        2024348       +      exoponential S                  \n",
       "6 1728374        1729365       +      exoponential S                  \n",
       "  methylation_frequency_TK2304_rep1 mC_count_TK2304_rep1 coverage_TK2304_rep1\n",
       "1 0.00                              2                    3599                \n",
       "2 0.00                              2                    1444                \n",
       "3 0.00                              1                    1447                \n",
       "4 0.00                              2                    2012                \n",
       "5 0.01                              5                     391                \n",
       "6 0.00                              0                     167                \n",
       "  methylation_frequency_TK2304_rep2 mC_count_TK2304_rep2 ⋯ amino_acid_sequence\n",
       "1 0                                 2                    ⋯ .                  \n",
       "2 0                                 0                    ⋯ .                  \n",
       "3 0                                 1                    ⋯ .                  \n",
       "4 0                                 0                    ⋯ .                  \n",
       "5 0                                 5                    ⋯ .                  \n",
       "6 0                                 1                    ⋯ CUU                \n",
       "  amino_acid_ID local_41bp_predicted_fold                 m5C_position_fold\n",
       "1 .             ...||||||||....||||||...|||||||.......||| base_paired      \n",
       "2 .             ..||||||................................. single_stranded  \n",
       "3 .             .||||||.................................. single_stranded  \n",
       "4 .             .......................||||||.....||||||. single_stranded  \n",
       "5 .             ....|||||||||........||||...||||||------- single_stranded  \n",
       "6 L             ...........||||||..|||.....|||||......... base_paired      \n",
       "  MFE     associated_TSS_id TSS_direction TSS_description total_annotations\n",
       "1 -440.69 .                 .             .               1                \n",
       "2 -440.69 .                 .             .               1                \n",
       "3 -440.69 .                 .             .               1                \n",
       "4 -440.69 .                 .             .               1                \n",
       "5 -224.51 .                 .             .               1                \n",
       "6 -20.17  .                 .             .               1                \n",
       "  alternate_annotations\n",
       "1 NA                   \n",
       "2 NA                   \n",
       "3 NA                   \n",
       "4 NA                   \n",
       "5 NA                   \n",
       "6 NA                   "
      ]
     },
     "metadata": {},
     "output_type": "display_data"
    }
   ],
   "source": [
    "###strain TK2304\n",
    "\n",
    "defaultW <- getOption(\"warn\")\n",
    "options(warn = -1)\n",
    "\n",
    "\n",
    "#load CGmaps into session\n",
    "TK2304exoS_CGmap_rep1 <-read.delim(\"../cgmaps/TK2304_exoS_totalRNA_rep1.CGmap\", sep='\\t', header=FALSE,col.names=cols) %>%\n",
    "    mutate(strain=\"TK2304\", growth_phase='exoponential', metabolic_condition=\"S\", replicate=\"rep1\")\n",
    "\n",
    "TK2304exoS_CGmap_rep2 <-read.delim(\"../cgmaps/TK2304_exoS_totalRNA_rep2.CGmap\", sep='\\t', header=FALSE,col.names=cols) %>%\n",
    "    mutate(strain=\"TK2304\", growth_phase='exoponential', metabolic_condition=\"S\", replicate=\"rep2\")\n",
    "\n",
    "# process raw CGmaps\n",
    "TK2304exoS_rep1_df <- processCGmap(TK2304exoS_CGmap_rep1)\n",
    "TK2304exoS_rep2_df <- processCGmap(TK2304exoS_CGmap_rep2)\n",
    "\n",
    "#merge reps\n",
    "TK2304exoS <- merge_del_reps(x=TK2304exoS_rep1_df, y=TK2304exoS_rep2_df, strain='TK2304')\n",
    "\n",
    "# get quantiles\n",
    "\"quantiles:\"\n",
    "get_quantiles(strain_cgmap = TK2304exoS, strain=\"TK2304\", min_cov = 47)\n",
    "\n",
    "#compare methylation frequencies & annotate\n",
    "TK2304exoS_anal <- CompareCGmap(strain_cgmap = TK2304exoS, \n",
    "                                TS559_cgmap = TS559exoS, \n",
    "                                strain=\"TK2304\", \n",
    "                                annotation = annotation,\n",
    "                                min_cov = 47)\n",
    "\n",
    "write.table(TK2304exoS_anal, file = \"../processed_cgmaps/TK2304exoS_annotated\", sep = \"\\t\", row.names = F)\n",
    "\n",
    "#enumerate gains & losses\n",
    "\"losses & gains:\"\n",
    "nrow( TK2304exoS_anal %>% filter(log2FC < 0) )\n",
    "nrow( TK2304exoS_anal %>% filter(log2FC > 0) )\n",
    "\n",
    "\"absolute losses & gains:\"\n",
    "nrow( TK2304exoS_anal %>% filter(difference == \"ABS LOSS\") )\n",
    "nrow( TK2304exoS_anal %>% filter(difference == \"ABS GAIN\") )\n",
    "\n",
    "head(TK2304exoS_anal)\n",
    "\n",
    "# TK2304exoS_cat <- enumerate_hiconf_2reps(strain_cgmap = TK2304exoS, strain=\"TK2304\",min_cov = 47)\n",
    "\n",
    "Sys.sleep(10)\n"
   ]
  },
  {
   "cell_type": "code",
   "execution_count": null,
   "metadata": {},
   "outputs": [],
   "source": [
    "###strain TK0234_0224\n",
    "\n",
    "defaultW <- getOption(\"warn\")\n",
    "options(warn = -1)\n",
    "\n",
    "\n",
    "#load CGmaps into session\n",
    "TK0234_0224exoS_CGmap_rep1 <-read.delim(\"../cgmaps/TK0234_0224_exoS_totalRNA_rep1.CGmap\", sep='\\t', header=FALSE,col.names=cols) %>%\n",
    "    mutate(strain=\"TK0234_0224\", growth_phase='exoponential', metabolic_condition=\"S\", replicate=\"rep1\")\n",
    "\n",
    "TK0234_0224exoS_CGmap_rep2 <-read.delim(\"../cgmaps/TK0234_0224_exoS_totalRNA_rep2.CGmap\", sep='\\t', header=FALSE,col.names=cols) %>%\n",
    "    mutate(strain=\"TK0234_0224\", growth_phase='exoponential', metabolic_condition=\"S\", replicate=\"rep2\")\n",
    "\n",
    "# process raw CGmaps\n",
    "TK0234_0224exoS_rep1_df <- processCGmap(TK0234_0224exoS_CGmap_rep1)\n",
    "TK0234_0224exoS_rep2_df <- processCGmap(TK0234_0224exoS_CGmap_rep2)\n",
    "\n",
    "#merge reps\n",
    "TK0234_0224exoS <- merge_del_reps(x=TK0234_0224exoS_rep1_df, y=TK0234_0224exoS_rep2_df, strain='TK0234_0224')\n",
    "\n",
    "# get quantiles\n",
    "\"quantiles:\"\n",
    "get_quantiles(strain_cgmap = TK0234_0224exoS, strain=\"TK0234_0224\", min_cov = 47)\n",
    "\n",
    "#compare methylation frequencies & annotate\n",
    "TK0234_0224exoS_anal <- CompareCGmap(strain_cgmap = TK0234_0224exoS, \n",
    "                                TS559_cgmap = TS559exoS, \n",
    "                                strain=\"TK0234_0224\", \n",
    "                                annotation = annotation,\n",
    "                                min_cov = 47)\n",
    "\n",
    "write.table(TK0234_0224exoS_anal, file = \"../processed_cgmaps/TK0234_0224exoS_annotated\", sep = \"\\t\", row.names = F)\n",
    "\n",
    "#enumerate gains & losses\n",
    "\"losses & gains:\"\n",
    "nrow( TK0234_0224exoS_anal %>% filter(log2FC < 0) )\n",
    "nrow( TK0234_0224exoS_anal %>% filter(log2FC > 0) )\n",
    "\n",
    "\"absolute losses & gains:\"\n",
    "nrow( TK0234_0224exoS_anal %>% filter(difference == \"ABS LOSS\") )\n",
    "nrow( TK0234_0224exoS_anal %>% filter(difference == \"ABS GAIN\") )\n",
    "\n",
    "head(TK0234_0224exoS_anal)\n",
    "\n",
    "# TK0234_0224exoS_cat <- enumerate_hiconf_2reps(strain_cgmap = TK0234_0224exoS, strain=\"TK0234_0224\",min_cov = 47)\n",
    "\n",
    "Sys.sleep(10)"
   ]
  },
  {
   "cell_type": "code",
   "execution_count": null,
   "metadata": {},
   "outputs": [],
   "source": [
    "###strain TK0234_0729\n",
    "\n",
    "defaultW <- getOption(\"warn\")\n",
    "options(warn = -1)\n",
    "\n",
    "\n",
    "#load CGmaps into session\n",
    "TK0234_0729exoS_CGmap_rep1 <-read.delim(\"../cgmaps/TK0234_0729_exoS_totalRNA_rep1.CGmap\", sep='\\t', header=FALSE,col.names=cols) %>%\n",
    "    mutate(strain=\"TK0234_0729\", growth_phase='exoponential', metabolic_condition=\"S\", replicate=\"rep1\")\n",
    "\n",
    "TK0234_0729exoS_CGmap_rep2 <-read.delim(\"../cgmaps/TK0234_0729_exoS_totalRNA_rep2.CGmap\", sep='\\t', header=FALSE,col.names=cols) %>%\n",
    "    mutate(strain=\"TK0234_0729\", growth_phase='exoponential', metabolic_condition=\"S\", replicate=\"rep2\")\n",
    "\n",
    "# process raw CGmaps\n",
    "TK0234_0729exoS_rep1_df <- processCGmap(TK0234_0729exoS_CGmap_rep1)\n",
    "TK0234_0729exoS_rep2_df <- processCGmap(TK0234_0729exoS_CGmap_rep2)\n",
    "\n",
    "#merge reps\n",
    "TK0234_0729exoS <- merge_del_reps(x=TK0234_0729exoS_rep1_df, y=TK0234_0729exoS_rep2_df, strain='TK0234_0729')\n",
    "\n",
    "# get quantiles\n",
    "\"quantiles:\"\n",
    "get_quantiles(strain_cgmap = TK0234_0729exoS, strain=\"TK0234_0729\", min_cov = 47)\n",
    "\n",
    "#compare methy8lation frequencies & annotate\n",
    "TK0234_0729exoS_anal <- CompareCGmap(strain_cgmap = TK0234_0729exoS, \n",
    "                                TS559_cgmap = TS559exoS, \n",
    "                                strain=\"TK0234_0729\", \n",
    "                                annotation = annotation,\n",
    "                                min_cov = 47)\n",
    "\n",
    "write.table(TK0234_0729exoS_anal, file = \"../processed_cgmaps/TK0234_0729exoS_annotated\", sep = \"\\t\", row.names = F)\n",
    "\n",
    "#enumerate gains & losses\n",
    "\"losses & gains:\"\n",
    "nrow( TK0234_0729exoS_anal %>% filter(log2FC < 0) )\n",
    "nrow( TK0234_0729exoS_anal %>% filter(log2FC > 0) )\n",
    "\n",
    "\"absolute losses & gains:\"\n",
    "nrow( TK0234_0729exoS_anal %>% filter(difference == \"ABS LOSS\") )\n",
    "nrow( TK0234_0729exoS_anal %>% filter(difference == \"ABS GAIN\") )\n",
    "\n",
    "head(TK0234_0729exoS_anal)\n",
    "\n",
    "# TK0234_0729exoS_cat <- enumerate_hiconf_2reps(strain_cgmap = TK0234_0729exoS, strain=\"TK0234_0729\",min_cov = 47)\n",
    "\n",
    "Sys.sleep(20)"
   ]
  },
  {
   "cell_type": "code",
   "execution_count": 11,
   "metadata": {
    "scrolled": true
   },
   "outputs": [
    {
     "data": {
      "text/html": [
       "'quantiles:'"
      ],
      "text/latex": [
       "'quantiles:'"
      ],
      "text/markdown": [
       "'quantiles:'"
      ],
      "text/plain": [
       "[1] \"quantiles:\""
      ]
     },
     "metadata": {},
     "output_type": "display_data"
    },
    {
     "data": {
      "text/html": [
       "<style>\n",
       ".list-inline {list-style: none; margin:0; padding: 0}\n",
       ".list-inline>li {display: inline-block}\n",
       ".list-inline>li:not(:last-child)::after {content: \"\\00b7\"; padding: 0 .5ex}\n",
       "</style>\n",
       "<ol class=list-inline><li>6</li><li>6</li></ol>\n"
      ],
      "text/latex": [
       "\\begin{enumerate*}\n",
       "\\item 6\n",
       "\\item 6\n",
       "\\end{enumerate*}\n"
      ],
      "text/markdown": [
       "1. 6\n",
       "2. 6\n",
       "\n",
       "\n"
      ],
      "text/plain": [
       "[1] 6 6"
      ]
     },
     "metadata": {},
     "output_type": "display_data"
    },
    {
     "data": {
      "text/html": [
       "'losses &amp; gains:'"
      ],
      "text/latex": [
       "'losses \\& gains:'"
      ],
      "text/markdown": [
       "'losses &amp; gains:'"
      ],
      "text/plain": [
       "[1] \"losses & gains:\""
      ]
     },
     "metadata": {},
     "output_type": "display_data"
    },
    {
     "data": {
      "text/html": [
       "0"
      ],
      "text/latex": [
       "0"
      ],
      "text/markdown": [
       "0"
      ],
      "text/plain": [
       "[1] 0"
      ]
     },
     "metadata": {},
     "output_type": "display_data"
    },
    {
     "data": {
      "text/html": [
       "0"
      ],
      "text/latex": [
       "0"
      ],
      "text/markdown": [
       "0"
      ],
      "text/plain": [
       "[1] 0"
      ]
     },
     "metadata": {},
     "output_type": "display_data"
    },
    {
     "data": {
      "text/html": [
       "'absolute losses &amp; gains:'"
      ],
      "text/latex": [
       "'absolute losses \\& gains:'"
      ],
      "text/markdown": [
       "'absolute losses &amp; gains:'"
      ],
      "text/plain": [
       "[1] \"absolute losses & gains:\""
      ]
     },
     "metadata": {},
     "output_type": "display_data"
    },
    {
     "data": {
      "text/html": [
       "39"
      ],
      "text/latex": [
       "39"
      ],
      "text/markdown": [
       "39"
      ],
      "text/plain": [
       "[1] 39"
      ]
     },
     "metadata": {},
     "output_type": "display_data"
    },
    {
     "data": {
      "text/html": [
       "4"
      ],
      "text/latex": [
       "4"
      ],
      "text/markdown": [
       "4"
      ],
      "text/plain": [
       "[1] 4"
      ]
     },
     "metadata": {},
     "output_type": "display_data"
    },
    {
     "data": {
      "text/html": [
       "<table class=\"dataframe\">\n",
       "<caption>A data.frame: 6 × 50</caption>\n",
       "<thead>\n",
       "\t<tr><th></th><th scope=col>TS559_position</th><th scope=col>KOD1_position</th><th scope=col>strand</th><th scope=col>growth_phase</th><th scope=col>metabolic_condition</th><th scope=col>methylation_frequency_TK2304_1935_rep1</th><th scope=col>mC_count_TK2304_1935_rep1</th><th scope=col>coverage_TK2304_1935_rep1</th><th scope=col>methylation_frequency_TK2304_1935_rep2</th><th scope=col>mC_count_TK2304_1935_rep2</th><th scope=col>⋯</th><th scope=col>amino_acid_sequence</th><th scope=col>amino_acid_ID</th><th scope=col>local_41bp_predicted_fold</th><th scope=col>m5C_position_fold</th><th scope=col>MFE</th><th scope=col>associated_TSS_id</th><th scope=col>TSS_direction</th><th scope=col>TSS_description</th><th scope=col>total_annotations</th><th scope=col>alternate_annotations</th></tr>\n",
       "\t<tr><th></th><th scope=col>&lt;int&gt;</th><th scope=col>&lt;chr&gt;</th><th scope=col>&lt;chr&gt;</th><th scope=col>&lt;chr&gt;</th><th scope=col>&lt;chr&gt;</th><th scope=col>&lt;dbl&gt;</th><th scope=col>&lt;int&gt;</th><th scope=col>&lt;int&gt;</th><th scope=col>&lt;dbl&gt;</th><th scope=col>&lt;int&gt;</th><th scope=col>⋯</th><th scope=col>&lt;chr&gt;</th><th scope=col>&lt;chr&gt;</th><th scope=col>&lt;chr&gt;</th><th scope=col>&lt;chr&gt;</th><th scope=col>&lt;chr&gt;</th><th scope=col>&lt;chr&gt;</th><th scope=col>&lt;chr&gt;</th><th scope=col>&lt;chr&gt;</th><th scope=col>&lt;int&gt;</th><th scope=col>&lt;chr&gt;</th></tr>\n",
       "</thead>\n",
       "<tbody>\n",
       "\t<tr><th scope=row>1</th><td> 779427</td><td>780418 </td><td>+</td><td>exoponential</td><td>S</td><td>0.05</td><td>68</td><td>1364</td><td>0.05</td><td> 88</td><td>⋯</td><td>.  </td><td>.</td><td>.                                        </td><td>NA             </td><td>.      </td><td>.           </td><td>.</td><td>.      </td><td>1</td><td>NA</td></tr>\n",
       "\t<tr><th scope=row>2</th><td> 578337</td><td>579328 </td><td>+</td><td>exoponential</td><td>S</td><td>0.05</td><td>88</td><td>1868</td><td>0.05</td><td>110</td><td>⋯</td><td>.  </td><td>.</td><td>.                                        </td><td>NA             </td><td>.      </td><td>TTS0579315_+</td><td>+</td><td>primary</td><td>1</td><td>NA</td></tr>\n",
       "\t<tr><th scope=row>3</th><td>2026306</td><td>2027297</td><td>+</td><td>exoponential</td><td>S</td><td>0.07</td><td>65</td><td> 995</td><td>0.05</td><td> 70</td><td>⋯</td><td>.  </td><td>.</td><td>....|.......||||....|||...|||||||||...|||</td><td>base_paired    </td><td>-440.69</td><td>.           </td><td>.</td><td>.      </td><td>1</td><td>NA</td></tr>\n",
       "\t<tr><th scope=row>4</th><td> 931389</td><td>932380 </td><td>-</td><td>exoponential</td><td>S</td><td>0.12</td><td>62</td><td> 524</td><td>0.11</td><td> 66</td><td>⋯</td><td>GCC</td><td>A</td><td>----.............................|||||||.</td><td>single_stranded</td><td>-2.42  </td><td>TTS0932396_-</td><td>-</td><td>primary</td><td>1</td><td>NA</td></tr>\n",
       "\t<tr><th scope=row>5</th><td>2025555</td><td>2026546</td><td>+</td><td>exoponential</td><td>S</td><td>0.00</td><td> 3</td><td>3943</td><td>0.00</td><td>  1</td><td>⋯</td><td>.  </td><td>.</td><td>...||||||||....||||||...|||||||.......|||</td><td>base_paired    </td><td>-440.69</td><td>.           </td><td>.</td><td>.      </td><td>1</td><td>NA</td></tr>\n",
       "\t<tr><th scope=row>6</th><td>2022329</td><td>2023320</td><td>+</td><td>exoponential</td><td>S</td><td>0.00</td><td> 7</td><td>7058</td><td>0.00</td><td>  4</td><td>⋯</td><td>.  </td><td>.</td><td>||.........|||||...||||||....|||.....|||.</td><td>base_paired    </td><td>-224.51</td><td>.           </td><td>.</td><td>.      </td><td>1</td><td>NA</td></tr>\n",
       "</tbody>\n",
       "</table>\n"
      ],
      "text/latex": [
       "A data.frame: 6 × 50\n",
       "\\begin{tabular}{r|lllllllllllllllllllll}\n",
       "  & TS559\\_position & KOD1\\_position & strand & growth\\_phase & metabolic\\_condition & methylation\\_frequency\\_TK2304\\_1935\\_rep1 & mC\\_count\\_TK2304\\_1935\\_rep1 & coverage\\_TK2304\\_1935\\_rep1 & methylation\\_frequency\\_TK2304\\_1935\\_rep2 & mC\\_count\\_TK2304\\_1935\\_rep2 & ⋯ & amino\\_acid\\_sequence & amino\\_acid\\_ID & local\\_41bp\\_predicted\\_fold & m5C\\_position\\_fold & MFE & associated\\_TSS\\_id & TSS\\_direction & TSS\\_description & total\\_annotations & alternate\\_annotations\\\\\n",
       "  & <int> & <chr> & <chr> & <chr> & <chr> & <dbl> & <int> & <int> & <dbl> & <int> & ⋯ & <chr> & <chr> & <chr> & <chr> & <chr> & <chr> & <chr> & <chr> & <int> & <chr>\\\\\n",
       "\\hline\n",
       "\t1 &  779427 & 780418  & + & exoponential & S & 0.05 & 68 & 1364 & 0.05 &  88 & ⋯ & .   & . & .                                         & NA              & .       & .            & . & .       & 1 & NA\\\\\n",
       "\t2 &  578337 & 579328  & + & exoponential & S & 0.05 & 88 & 1868 & 0.05 & 110 & ⋯ & .   & . & .                                         & NA              & .       & TTS0579315\\_+ & + & primary & 1 & NA\\\\\n",
       "\t3 & 2026306 & 2027297 & + & exoponential & S & 0.07 & 65 &  995 & 0.05 &  70 & ⋯ & .   & . & ....\\textbar{}.......\\textbar{}\\textbar{}\\textbar{}\\textbar{}....\\textbar{}\\textbar{}\\textbar{}...\\textbar{}\\textbar{}\\textbar{}\\textbar{}\\textbar{}\\textbar{}\\textbar{}\\textbar{}\\textbar{}...\\textbar{}\\textbar{}\\textbar{} & base\\_paired     & -440.69 & .            & . & .       & 1 & NA\\\\\n",
       "\t4 &  931389 & 932380  & - & exoponential & S & 0.12 & 62 &  524 & 0.11 &  66 & ⋯ & GCC & A & ----.............................\\textbar{}\\textbar{}\\textbar{}\\textbar{}\\textbar{}\\textbar{}\\textbar{}. & single\\_stranded & -2.42   & TTS0932396\\_- & - & primary & 1 & NA\\\\\n",
       "\t5 & 2025555 & 2026546 & + & exoponential & S & 0.00 &  3 & 3943 & 0.00 &   1 & ⋯ & .   & . & ...\\textbar{}\\textbar{}\\textbar{}\\textbar{}\\textbar{}\\textbar{}\\textbar{}\\textbar{}....\\textbar{}\\textbar{}\\textbar{}\\textbar{}\\textbar{}\\textbar{}...\\textbar{}\\textbar{}\\textbar{}\\textbar{}\\textbar{}\\textbar{}\\textbar{}.......\\textbar{}\\textbar{}\\textbar{} & base\\_paired     & -440.69 & .            & . & .       & 1 & NA\\\\\n",
       "\t6 & 2022329 & 2023320 & + & exoponential & S & 0.00 &  7 & 7058 & 0.00 &   4 & ⋯ & .   & . & \\textbar{}\\textbar{}.........\\textbar{}\\textbar{}\\textbar{}\\textbar{}\\textbar{}...\\textbar{}\\textbar{}\\textbar{}\\textbar{}\\textbar{}\\textbar{}....\\textbar{}\\textbar{}\\textbar{}.....\\textbar{}\\textbar{}\\textbar{}. & base\\_paired     & -224.51 & .            & . & .       & 1 & NA\\\\\n",
       "\\end{tabular}\n"
      ],
      "text/markdown": [
       "\n",
       "A data.frame: 6 × 50\n",
       "\n",
       "| <!--/--> | TS559_position &lt;int&gt; | KOD1_position &lt;chr&gt; | strand &lt;chr&gt; | growth_phase &lt;chr&gt; | metabolic_condition &lt;chr&gt; | methylation_frequency_TK2304_1935_rep1 &lt;dbl&gt; | mC_count_TK2304_1935_rep1 &lt;int&gt; | coverage_TK2304_1935_rep1 &lt;int&gt; | methylation_frequency_TK2304_1935_rep2 &lt;dbl&gt; | mC_count_TK2304_1935_rep2 &lt;int&gt; | ⋯ ⋯ | amino_acid_sequence &lt;chr&gt; | amino_acid_ID &lt;chr&gt; | local_41bp_predicted_fold &lt;chr&gt; | m5C_position_fold &lt;chr&gt; | MFE &lt;chr&gt; | associated_TSS_id &lt;chr&gt; | TSS_direction &lt;chr&gt; | TSS_description &lt;chr&gt; | total_annotations &lt;int&gt; | alternate_annotations &lt;chr&gt; |\n",
       "|---|---|---|---|---|---|---|---|---|---|---|---|---|---|---|---|---|---|---|---|---|---|\n",
       "| 1 |  779427 | 780418  | + | exoponential | S | 0.05 | 68 | 1364 | 0.05 |  88 | ⋯ | .   | . | .                                         | NA              | .       | .            | . | .       | 1 | NA |\n",
       "| 2 |  578337 | 579328  | + | exoponential | S | 0.05 | 88 | 1868 | 0.05 | 110 | ⋯ | .   | . | .                                         | NA              | .       | TTS0579315_+ | + | primary | 1 | NA |\n",
       "| 3 | 2026306 | 2027297 | + | exoponential | S | 0.07 | 65 |  995 | 0.05 |  70 | ⋯ | .   | . | ....|.......||||....|||...|||||||||...||| | base_paired     | -440.69 | .            | . | .       | 1 | NA |\n",
       "| 4 |  931389 | 932380  | - | exoponential | S | 0.12 | 62 |  524 | 0.11 |  66 | ⋯ | GCC | A | ----.............................|||||||. | single_stranded | -2.42   | TTS0932396_- | - | primary | 1 | NA |\n",
       "| 5 | 2025555 | 2026546 | + | exoponential | S | 0.00 |  3 | 3943 | 0.00 |   1 | ⋯ | .   | . | ...||||||||....||||||...|||||||.......||| | base_paired     | -440.69 | .            | . | .       | 1 | NA |\n",
       "| 6 | 2022329 | 2023320 | + | exoponential | S | 0.00 |  7 | 7058 | 0.00 |   4 | ⋯ | .   | . | ||.........|||||...||||||....|||.....|||. | base_paired     | -224.51 | .            | . | .       | 1 | NA |\n",
       "\n"
      ],
      "text/plain": [
       "  TS559_position KOD1_position strand growth_phase metabolic_condition\n",
       "1  779427        780418        +      exoponential S                  \n",
       "2  578337        579328        +      exoponential S                  \n",
       "3 2026306        2027297       +      exoponential S                  \n",
       "4  931389        932380        -      exoponential S                  \n",
       "5 2025555        2026546       +      exoponential S                  \n",
       "6 2022329        2023320       +      exoponential S                  \n",
       "  methylation_frequency_TK2304_1935_rep1 mC_count_TK2304_1935_rep1\n",
       "1 0.05                                   68                       \n",
       "2 0.05                                   88                       \n",
       "3 0.07                                   65                       \n",
       "4 0.12                                   62                       \n",
       "5 0.00                                    3                       \n",
       "6 0.00                                    7                       \n",
       "  coverage_TK2304_1935_rep1 methylation_frequency_TK2304_1935_rep2\n",
       "1 1364                      0.05                                  \n",
       "2 1868                      0.05                                  \n",
       "3  995                      0.05                                  \n",
       "4  524                      0.11                                  \n",
       "5 3943                      0.00                                  \n",
       "6 7058                      0.00                                  \n",
       "  mC_count_TK2304_1935_rep2 ⋯ amino_acid_sequence amino_acid_ID\n",
       "1  88                       ⋯ .                   .            \n",
       "2 110                       ⋯ .                   .            \n",
       "3  70                       ⋯ .                   .            \n",
       "4  66                       ⋯ GCC                 A            \n",
       "5   1                       ⋯ .                   .            \n",
       "6   4                       ⋯ .                   .            \n",
       "  local_41bp_predicted_fold                 m5C_position_fold MFE    \n",
       "1 .                                         NA                .      \n",
       "2 .                                         NA                .      \n",
       "3 ....|.......||||....|||...|||||||||...||| base_paired       -440.69\n",
       "4 ----.............................|||||||. single_stranded   -2.42  \n",
       "5 ...||||||||....||||||...|||||||.......||| base_paired       -440.69\n",
       "6 ||.........|||||...||||||....|||.....|||. base_paired       -224.51\n",
       "  associated_TSS_id TSS_direction TSS_description total_annotations\n",
       "1 .                 .             .               1                \n",
       "2 TTS0579315_+      +             primary         1                \n",
       "3 .                 .             .               1                \n",
       "4 TTS0932396_-      -             primary         1                \n",
       "5 .                 .             .               1                \n",
       "6 .                 .             .               1                \n",
       "  alternate_annotations\n",
       "1 NA                   \n",
       "2 NA                   \n",
       "3 NA                   \n",
       "4 NA                   \n",
       "5 NA                   \n",
       "6 NA                   "
      ]
     },
     "metadata": {},
     "output_type": "display_data"
    }
   ],
   "source": [
    "###strain TK2304_1935\n",
    "\n",
    "defaultW <- getOption(\"warn\")\n",
    "options(warn = -1)\n",
    "\n",
    "\n",
    "#load CGmaps into session\n",
    "TK2304_1935exoS_CGmap_rep1 <-read.delim(\"../cgmaps/TK2304_1935_exoS_totalRNA_rep1.CGmap\", sep='\\t', header=FALSE,col.names=cols) %>%\n",
    "    mutate(strain=\"TK2304_1935\", growth_phase='exoponential', metabolic_condition=\"S\", replicate=\"rep1\")\n",
    "\n",
    "TK2304_1935exoS_CGmap_rep2 <-read.delim(\"../cgmaps/TK2304_1935_exoS_totalRNA_rep2.CGmap\", sep='\\t', header=FALSE,col.names=cols) %>%\n",
    "    mutate(strain=\"TK2304_1935\", growth_phase='exoponential', metabolic_condition=\"S\", replicate=\"rep2\")\n",
    "\n",
    "# process raw CGmaps\n",
    "TK2304_1935exoS_rep1_df <- processCGmap(TK2304_1935exoS_CGmap_rep1)\n",
    "TK2304_1935exoS_rep2_df <- processCGmap(TK2304_1935exoS_CGmap_rep2)\n",
    "\n",
    "#merge reps\n",
    "TK2304_1935exoS <- merge_del_reps(x=TK2304_1935exoS_rep1_df, y=TK2304_1935exoS_rep2_df, strain='TK2304_1935')\n",
    "\n",
    "# get quantiles\n",
    "\"quantiles:\"\n",
    "get_quantiles(strain_cgmap = TK2304_1935exoS, strain=\"TK2304_1935\", min_cov = 47)\n",
    "\n",
    "#compare methylation frequencies & annotate\n",
    "TK2304_1935exoS_anal <- CompareCGmap(strain_cgmap = TK2304_1935exoS, \n",
    "                                TS559_cgmap = TS559exoS, \n",
    "                                strain=\"TK2304_1935\", \n",
    "                                annotation = annotation,\n",
    "                                min_cov = 47)\n",
    "\n",
    "write.table(TK2304_1935exoS_anal, file = \"../processed_cgmaps/TK2304_1935exoS_annotated\", sep = \"\\t\", row.names = F)\n",
    "\n",
    "#enumerate gains & losses\n",
    "\"losses & gains:\"\n",
    "nrow( TK2304_1935exoS_anal %>% filter(difference == 'LOSS') )\n",
    "nrow( TK2304_1935exoS_anal %>% filter(difference == 'GAIN') )\n",
    "\n",
    "\"absolute losses & gains:\"\n",
    "nrow( TK2304_1935exoS_anal %>% filter(difference == \"ABS LOSS\") )\n",
    "nrow( TK2304_1935exoS_anal %>% filter(difference == \"ABS GAIN\") )\n",
    "\n",
    "head(TK2304_1935exoS_anal)\n",
    "\n",
    "# TK2304_1935exoS_cat <- enumerate_hiconf_2reps(strain_cgmap = TK2304_1935exoS, strain=\"TK2304_1935\",min_cov = 47)\n",
    "\n",
    "Sys.sleep(20)\n"
   ]
  },
  {
   "cell_type": "markdown",
   "metadata": {},
   "source": [
    "# CAT TABLE"
   ]
  },
  {
   "cell_type": "code",
   "execution_count": 26,
   "metadata": {},
   "outputs": [
    {
     "data": {
      "text/html": [
       "<table class=\"dataframe\">\n",
       "<caption>A rowwise_df: 6 × 15</caption>\n",
       "<thead>\n",
       "\t<tr><th scope=col>chromosome</th><th scope=col>position</th><th scope=col>reference_nucleotide</th><th scope=col>growth_phase</th><th scope=col>metabolic_condition</th><th scope=col>methylation_frequency_TS559_rep1</th><th scope=col>mC_count_TS559_rep1</th><th scope=col>coverage_TS559_rep1</th><th scope=col>methylation_frequency_TS559_rep2</th><th scope=col>mC_count_TS559_rep2</th><th scope=col>coverage_TS559_rep2</th><th scope=col>methylation_frequency_TS559_rep3</th><th scope=col>mC_count_TS559_rep3</th><th scope=col>coverage_TS559_rep3</th><th scope=col>reproducible</th></tr>\n",
       "\t<tr><th scope=col>&lt;chr&gt;</th><th scope=col>&lt;int&gt;</th><th scope=col>&lt;chr&gt;</th><th scope=col>&lt;chr&gt;</th><th scope=col>&lt;chr&gt;</th><th scope=col>&lt;dbl&gt;</th><th scope=col>&lt;int&gt;</th><th scope=col>&lt;int&gt;</th><th scope=col>&lt;dbl&gt;</th><th scope=col>&lt;int&gt;</th><th scope=col>&lt;int&gt;</th><th scope=col>&lt;dbl&gt;</th><th scope=col>&lt;int&gt;</th><th scope=col>&lt;int&gt;</th><th scope=col>&lt;lgl&gt;</th></tr>\n",
       "</thead>\n",
       "<tbody>\n",
       "\t<tr><td>TS559_Genomic_Sequence.seq</td><td> 3</td><td>G</td><td>exoponential</td><td>S</td><td>NA</td><td>NA</td><td>0</td><td>NA</td><td>NA</td><td> 0</td><td>0</td><td>0</td><td>  1</td><td>   NA</td></tr>\n",
       "\t<tr><td>TS559_Genomic_Sequence.seq</td><td> 6</td><td>C</td><td>exoponential</td><td>S</td><td> 0</td><td> 0</td><td>8</td><td> 0</td><td> 0</td><td>58</td><td>0</td><td>0</td><td>102</td><td>FALSE</td></tr>\n",
       "\t<tr><td>TS559_Genomic_Sequence.seq</td><td> 7</td><td>C</td><td>exoponential</td><td>S</td><td> 0</td><td> 0</td><td>8</td><td> 0</td><td> 0</td><td>58</td><td>0</td><td>0</td><td>108</td><td>FALSE</td></tr>\n",
       "\t<tr><td>TS559_Genomic_Sequence.seq</td><td> 9</td><td>C</td><td>exoponential</td><td>S</td><td> 0</td><td> 0</td><td>8</td><td> 0</td><td> 0</td><td>59</td><td>0</td><td>0</td><td>114</td><td>FALSE</td></tr>\n",
       "\t<tr><td>TS559_Genomic_Sequence.seq</td><td>10</td><td>G</td><td>exoponential</td><td>S</td><td>NA</td><td>NA</td><td>0</td><td>NA</td><td>NA</td><td> 0</td><td>0</td><td>0</td><td>  1</td><td>   NA</td></tr>\n",
       "\t<tr><td>TS559_Genomic_Sequence.seq</td><td>12</td><td>C</td><td>exoponential</td><td>S</td><td> 0</td><td> 0</td><td>8</td><td> 0</td><td> 0</td><td>60</td><td>0</td><td>0</td><td>116</td><td>FALSE</td></tr>\n",
       "</tbody>\n",
       "</table>\n"
      ],
      "text/latex": [
       "A rowwise\\_df: 6 × 15\n",
       "\\begin{tabular}{lllllllllllllll}\n",
       " chromosome & position & reference\\_nucleotide & growth\\_phase & metabolic\\_condition & methylation\\_frequency\\_TS559\\_rep1 & mC\\_count\\_TS559\\_rep1 & coverage\\_TS559\\_rep1 & methylation\\_frequency\\_TS559\\_rep2 & mC\\_count\\_TS559\\_rep2 & coverage\\_TS559\\_rep2 & methylation\\_frequency\\_TS559\\_rep3 & mC\\_count\\_TS559\\_rep3 & coverage\\_TS559\\_rep3 & reproducible\\\\\n",
       " <chr> & <int> & <chr> & <chr> & <chr> & <dbl> & <int> & <int> & <dbl> & <int> & <int> & <dbl> & <int> & <int> & <lgl>\\\\\n",
       "\\hline\n",
       "\t TS559\\_Genomic\\_Sequence.seq &  3 & G & exoponential & S & NA & NA & 0 & NA & NA &  0 & 0 & 0 &   1 &    NA\\\\\n",
       "\t TS559\\_Genomic\\_Sequence.seq &  6 & C & exoponential & S &  0 &  0 & 8 &  0 &  0 & 58 & 0 & 0 & 102 & FALSE\\\\\n",
       "\t TS559\\_Genomic\\_Sequence.seq &  7 & C & exoponential & S &  0 &  0 & 8 &  0 &  0 & 58 & 0 & 0 & 108 & FALSE\\\\\n",
       "\t TS559\\_Genomic\\_Sequence.seq &  9 & C & exoponential & S &  0 &  0 & 8 &  0 &  0 & 59 & 0 & 0 & 114 & FALSE\\\\\n",
       "\t TS559\\_Genomic\\_Sequence.seq & 10 & G & exoponential & S & NA & NA & 0 & NA & NA &  0 & 0 & 0 &   1 &    NA\\\\\n",
       "\t TS559\\_Genomic\\_Sequence.seq & 12 & C & exoponential & S &  0 &  0 & 8 &  0 &  0 & 60 & 0 & 0 & 116 & FALSE\\\\\n",
       "\\end{tabular}\n"
      ],
      "text/markdown": [
       "\n",
       "A rowwise_df: 6 × 15\n",
       "\n",
       "| chromosome &lt;chr&gt; | position &lt;int&gt; | reference_nucleotide &lt;chr&gt; | growth_phase &lt;chr&gt; | metabolic_condition &lt;chr&gt; | methylation_frequency_TS559_rep1 &lt;dbl&gt; | mC_count_TS559_rep1 &lt;int&gt; | coverage_TS559_rep1 &lt;int&gt; | methylation_frequency_TS559_rep2 &lt;dbl&gt; | mC_count_TS559_rep2 &lt;int&gt; | coverage_TS559_rep2 &lt;int&gt; | methylation_frequency_TS559_rep3 &lt;dbl&gt; | mC_count_TS559_rep3 &lt;int&gt; | coverage_TS559_rep3 &lt;int&gt; | reproducible &lt;lgl&gt; |\n",
       "|---|---|---|---|---|---|---|---|---|---|---|---|---|---|---|\n",
       "| TS559_Genomic_Sequence.seq |  3 | G | exoponential | S | NA | NA | 0 | NA | NA |  0 | 0 | 0 |   1 |    NA |\n",
       "| TS559_Genomic_Sequence.seq |  6 | C | exoponential | S |  0 |  0 | 8 |  0 |  0 | 58 | 0 | 0 | 102 | FALSE |\n",
       "| TS559_Genomic_Sequence.seq |  7 | C | exoponential | S |  0 |  0 | 8 |  0 |  0 | 58 | 0 | 0 | 108 | FALSE |\n",
       "| TS559_Genomic_Sequence.seq |  9 | C | exoponential | S |  0 |  0 | 8 |  0 |  0 | 59 | 0 | 0 | 114 | FALSE |\n",
       "| TS559_Genomic_Sequence.seq | 10 | G | exoponential | S | NA | NA | 0 | NA | NA |  0 | 0 | 0 |   1 |    NA |\n",
       "| TS559_Genomic_Sequence.seq | 12 | C | exoponential | S |  0 |  0 | 8 |  0 |  0 | 60 | 0 | 0 | 116 | FALSE |\n",
       "\n"
      ],
      "text/plain": [
       "  chromosome                 position reference_nucleotide growth_phase\n",
       "1 TS559_Genomic_Sequence.seq  3       G                    exoponential\n",
       "2 TS559_Genomic_Sequence.seq  6       C                    exoponential\n",
       "3 TS559_Genomic_Sequence.seq  7       C                    exoponential\n",
       "4 TS559_Genomic_Sequence.seq  9       C                    exoponential\n",
       "5 TS559_Genomic_Sequence.seq 10       G                    exoponential\n",
       "6 TS559_Genomic_Sequence.seq 12       C                    exoponential\n",
       "  metabolic_condition methylation_frequency_TS559_rep1 mC_count_TS559_rep1\n",
       "1 S                   NA                               NA                 \n",
       "2 S                    0                                0                 \n",
       "3 S                    0                                0                 \n",
       "4 S                    0                                0                 \n",
       "5 S                   NA                               NA                 \n",
       "6 S                    0                                0                 \n",
       "  coverage_TS559_rep1 methylation_frequency_TS559_rep2 mC_count_TS559_rep2\n",
       "1 0                   NA                               NA                 \n",
       "2 8                    0                                0                 \n",
       "3 8                    0                                0                 \n",
       "4 8                    0                                0                 \n",
       "5 0                   NA                               NA                 \n",
       "6 8                    0                                0                 \n",
       "  coverage_TS559_rep2 methylation_frequency_TS559_rep3 mC_count_TS559_rep3\n",
       "1  0                  0                                0                  \n",
       "2 58                  0                                0                  \n",
       "3 58                  0                                0                  \n",
       "4 59                  0                                0                  \n",
       "5  0                  0                                0                  \n",
       "6 60                  0                                0                  \n",
       "  coverage_TS559_rep3 reproducible\n",
       "1   1                    NA       \n",
       "2 102                 FALSE       \n",
       "3 108                 FALSE       \n",
       "4 114                 FALSE       \n",
       "5   1                    NA       \n",
       "6 116                 FALSE       "
      ]
     },
     "metadata": {},
     "output_type": "display_data"
    }
   ],
   "source": [
    "# TS559 --  control/parent strain\n",
    "\n",
    "TS559exoS_CGmap_rep1 <-load_cgmap(\"../cgmaps/TS559_exoS_totalRNA_rep1.CGmap\",\n",
    "    strain=\"TS559\", growth_phase='exoponential', metabolic_condition=\"S\", replicate=\"rep1\") %>%\n",
    "    dplyr::rename(reference_nucleotide=base)\n",
    "\n",
    "TS559exoS_CGmap_rep2 <-load_cgmap(\"../cgmaps/TS559_exoS_totalRNA_rep2.CGmap\", \n",
    "    strain=\"TS559\", growth_phase='exoponential', metabolic_condition=\"S\", replicate=\"rep2\")%>%\n",
    "    dplyr::rename(reference_nucleotide=base)\n",
    "\n",
    "TS559exoS_CGmap_rep3 <-load_cgmap(\"../cgmaps/TS559_exoS_totalRNA_rep3.CGmap\",\n",
    "    strain=\"TS559\", growth_phase='exoponential', metabolic_condition=\"S\", replicate=\"rep3\")%>%\n",
    "    dplyr::rename(reference_nucleotide=base)\n",
    "   \n",
    "    \n",
    "TS559exoS_rep1_df <- processCGmap(TS559exoS_CGmap_rep1)\n",
    "TS559exoS_rep2_df <- processCGmap(TS559exoS_CGmap_rep2)\n",
    "TS559exoS_rep3_df <- processCGmap(TS559exoS_CGmap_rep3)\n",
    "\n",
    "\n",
    "m5C_count_e1 = 6\n",
    "m5C_count_e2 = 18\n",
    "m5C_count_e3 = 7\n",
    "m5C_count_s1 = 5\n",
    "m5C_count_s2 = 17\n",
    "m5C_count_s3 = 5\n",
    "\n",
    "TS559exoS_all <- merge(x=TS559exoS_rep1_df, y= TS559exoS_rep2_df, \n",
    "                   by=c(\"chromosome\",\"position\", 'reference_nucleotide', 'growth_phase','metabolic_condition'), \n",
    "                   all=TRUE) %>%\n",
    "            merge(y=TS559exoS_rep3_df, \n",
    "                   by=c(\"chromosome\",\"position\", 'reference_nucleotide', 'growth_phase','metabolic_condition'), \n",
    "                   all=TRUE) %>%\n",
    "            mutate(coverage_TS559_rep1 = replace_na(coverage_TS559_rep1,0)) %>%\n",
    "            mutate(coverage_TS559_rep2 = replace_na(coverage_TS559_rep2,0)) %>%\n",
    "            mutate(coverage_TS559_rep3 = replace_na(coverage_TS559_rep3,0)) %>%\n",
    "            rowwise()%>%\n",
    "            mutate(reproducible = detect_hiconf_3reps(\n",
    "                f1=methylation_frequency_TS559_rep1,\n",
    "                m1=mC_count_TS559_rep1,\n",
    "                p1=m5C_count_e1,\n",
    "                c1=coverage_TS559_rep1,\n",
    "                f2=methylation_frequency_TS559_rep2,\n",
    "                m2=mC_count_TS559_rep2,\n",
    "                p2=m5C_count_e2,\n",
    "                c2=coverage_TS559_rep2,\n",
    "                f3=methylation_frequency_TS559_rep3,\n",
    "                m3=mC_count_TS559_rep3,\n",
    "                p3=m5C_count_e3,\n",
    "                c3=coverage_TS559_rep3, \n",
    "                min_cov=47))\n",
    "\n",
    "head(TS559exoS_all)\n",
    "\n",
    "TS559exoS_cat <-TS559exoS_all %>%\n",
    "    dplyr::select(-chromosome, -metabolic_condition) %>%\n",
    "    dplyr::rename(TS559_position = position, TS559_hiconf = reproducible) %>%\n",
    "    dplyr::rename(freq_TS559_rep1 = methylation_frequency_TS559_rep1, freq_TS559_rep2 = methylation_frequency_TS559_rep2, \n",
    "                  freq_TS559_rep3=methylation_frequency_TS559_rep3) %>%\n",
    "    mutate('m5C_cov/total_cov_TS559_rep1' = paste(mC_count_TS559_rep1, '/', coverage_TS559_rep1) ) %>%\n",
    "    mutate('m5C_cov/total_cov_TS559_rep2' = paste(mC_count_TS559_rep2, '/', coverage_TS559_rep2) ) %>%\n",
    "    mutate('m5C_cov/total_cov_TS559_rep3' = paste(mC_count_TS559_rep3, '/', coverage_TS559_rep3) ) %>%\n",
    "    dplyr::select(-mC_count_TS559_rep1,-coverage_TS559_rep1,-mC_count_TS559_rep2, \n",
    "                  -coverage_TS559_rep2,-mC_count_TS559_rep3, -coverage_TS559_rep3) %>%\n",
    "    dplyr::select(\"TS559_position\",\"freq_TS559_rep1\", \n",
    "          \"m5C_cov/total_cov_TS559_rep1\",\"freq_TS559_rep2\",\"m5C_cov/total_cov_TS559_rep2\",\n",
    "           \"freq_TS559_rep3\",\"m5C_cov/total_cov_TS559_rep3\", 'TS559_hiconf'\n",
    "          )        \n",
    "\n",
    "#Sys.sleep(10)\n"
   ]
  },
  {
   "cell_type": "code",
   "execution_count": 27,
   "metadata": {},
   "outputs": [
    {
     "data": {
      "text/html": [
       "1261"
      ],
      "text/latex": [
       "1261"
      ],
      "text/markdown": [
       "1261"
      ],
      "text/plain": [
       "[1] 1261"
      ]
     },
     "metadata": {},
     "output_type": "display_data"
    },
    {
     "data": {
      "text/html": [
       "<table class=\"dataframe\">\n",
       "<caption>A data.frame: 6 × 88</caption>\n",
       "<thead>\n",
       "\t<tr><th></th><th scope=col>TS559_position</th><th scope=col>freq_TS559_rep1</th><th scope=col>m5C_cov/total_cov_TS559_rep1</th><th scope=col>freq_TS559_rep2</th><th scope=col>m5C_cov/total_cov_TS559_rep2</th><th scope=col>freq_TS559_rep3</th><th scope=col>m5C_cov/total_cov_TS559_rep3</th><th scope=col>TS559_hiconf</th><th scope=col>freq_TK0224_rep1</th><th scope=col>m5C_cov/total_cov_TK0224_rep1</th><th scope=col>⋯</th><th scope=col>freq_TK0234_0729_rep1</th><th scope=col>m5C_cov/total_cov_TK0234_0729_rep1</th><th scope=col>freq_TK0234_0729_rep2</th><th scope=col>m5C_cov/total_cov_TK0234_0729_rep2</th><th scope=col>TK0234_0729_hiconf</th><th scope=col>freq_TK2304_1935_rep1</th><th scope=col>m5C_cov/total_cov_TK2304_1935_rep1</th><th scope=col>freq_TK2304_1935_rep2</th><th scope=col>m5C_cov/total_cov_TK2304_1935_rep2</th><th scope=col>TK2304_1935_hiconf</th></tr>\n",
       "\t<tr><th></th><th scope=col>&lt;int&gt;</th><th scope=col>&lt;dbl&gt;</th><th scope=col>&lt;chr&gt;</th><th scope=col>&lt;dbl&gt;</th><th scope=col>&lt;chr&gt;</th><th scope=col>&lt;dbl&gt;</th><th scope=col>&lt;chr&gt;</th><th scope=col>&lt;lgl&gt;</th><th scope=col>&lt;dbl&gt;</th><th scope=col>&lt;chr&gt;</th><th scope=col>⋯</th><th scope=col>&lt;dbl&gt;</th><th scope=col>&lt;chr&gt;</th><th scope=col>&lt;dbl&gt;</th><th scope=col>&lt;chr&gt;</th><th scope=col>&lt;lgl&gt;</th><th scope=col>&lt;dbl&gt;</th><th scope=col>&lt;chr&gt;</th><th scope=col>&lt;dbl&gt;</th><th scope=col>&lt;chr&gt;</th><th scope=col>&lt;lgl&gt;</th></tr>\n",
       "</thead>\n",
       "<tbody>\n",
       "\t<tr><th scope=row>1</th><td>  857</td><td>0.11</td><td>7 / 61  </td><td>0.14</td><td>36 / 256</td><td>0.07</td><td>34 / 507 </td><td> TRUE</td><td>0.00</td><td>0 / 38  </td><td>⋯</td><td>0.05</td><td>29 / 571 </td><td>0.03</td><td>23 / 752 </td><td>FALSE</td><td>0.02</td><td>5 / 233  </td><td>0.01</td><td>3 / 255 </td><td>FALSE</td></tr>\n",
       "\t<tr><th scope=row>2</th><td>13012</td><td>0.00</td><td>0 / 39  </td><td>0.01</td><td>3 / 319 </td><td>0.01</td><td>11 / 1363</td><td>FALSE</td><td>0.00</td><td>0 / 45  </td><td>⋯</td><td>0.02</td><td>29 / 1376</td><td>0.02</td><td>36 / 1624</td><td>FALSE</td><td>0.02</td><td>16 / 798 </td><td>0.01</td><td>10 / 847</td><td>FALSE</td></tr>\n",
       "\t<tr><th scope=row>3</th><td>18383</td><td>0.06</td><td>4 / 72  </td><td>0.07</td><td>32 / 445</td><td>0.03</td><td>13 / 511 </td><td>FALSE</td><td>0.08</td><td>6 / 77  </td><td>⋯</td><td>0.01</td><td>6 / 669  </td><td>0.01</td><td>7 / 840  </td><td>FALSE</td><td>0.00</td><td>2 / 451  </td><td>0.00</td><td>2 / 555 </td><td>FALSE</td></tr>\n",
       "\t<tr><th scope=row>4</th><td>19557</td><td>0.21</td><td>7 / 33  </td><td>0.13</td><td>19 / 143</td><td>0.11</td><td>44 / 413 </td><td> TRUE</td><td>0.20</td><td>7 / 35  </td><td>⋯</td><td>0.06</td><td>30 / 482 </td><td>0.09</td><td>55 / 612 </td><td> TRUE</td><td>0.03</td><td>8 / 275  </td><td>0.03</td><td>8 / 276 </td><td>FALSE</td></tr>\n",
       "\t<tr><th scope=row>5</th><td>22822</td><td>0.07</td><td>14 / 192</td><td>0.09</td><td>55 / 635</td><td>0.05</td><td>62 / 1307</td><td> TRUE</td><td>0.09</td><td>16 / 182</td><td>⋯</td><td>0.03</td><td>40 / 1523</td><td>0.02</td><td>41 / 1720</td><td>FALSE</td><td>0.01</td><td>12 / 1359</td><td>0.00</td><td>8 / 1742</td><td>FALSE</td></tr>\n",
       "\t<tr><th scope=row>6</th><td>23579</td><td>0.05</td><td>3 / 65  </td><td>0.14</td><td>25 / 177</td><td>0.00</td><td>0 / 277  </td><td>FALSE</td><td>0.04</td><td>2 / 46  </td><td>⋯</td><td>0.00</td><td>0 / 200  </td><td>0.00</td><td>0 / 243  </td><td>FALSE</td><td>0.00</td><td>0 / 169  </td><td>0.00</td><td>0 / 238 </td><td>FALSE</td></tr>\n",
       "</tbody>\n",
       "</table>\n"
      ],
      "text/latex": [
       "A data.frame: 6 × 88\n",
       "\\begin{tabular}{r|lllllllllllllllllllll}\n",
       "  & TS559\\_position & freq\\_TS559\\_rep1 & m5C\\_cov/total\\_cov\\_TS559\\_rep1 & freq\\_TS559\\_rep2 & m5C\\_cov/total\\_cov\\_TS559\\_rep2 & freq\\_TS559\\_rep3 & m5C\\_cov/total\\_cov\\_TS559\\_rep3 & TS559\\_hiconf & freq\\_TK0224\\_rep1 & m5C\\_cov/total\\_cov\\_TK0224\\_rep1 & ⋯ & freq\\_TK0234\\_0729\\_rep1 & m5C\\_cov/total\\_cov\\_TK0234\\_0729\\_rep1 & freq\\_TK0234\\_0729\\_rep2 & m5C\\_cov/total\\_cov\\_TK0234\\_0729\\_rep2 & TK0234\\_0729\\_hiconf & freq\\_TK2304\\_1935\\_rep1 & m5C\\_cov/total\\_cov\\_TK2304\\_1935\\_rep1 & freq\\_TK2304\\_1935\\_rep2 & m5C\\_cov/total\\_cov\\_TK2304\\_1935\\_rep2 & TK2304\\_1935\\_hiconf\\\\\n",
       "  & <int> & <dbl> & <chr> & <dbl> & <chr> & <dbl> & <chr> & <lgl> & <dbl> & <chr> & ⋯ & <dbl> & <chr> & <dbl> & <chr> & <lgl> & <dbl> & <chr> & <dbl> & <chr> & <lgl>\\\\\n",
       "\\hline\n",
       "\t1 &   857 & 0.11 & 7 / 61   & 0.14 & 36 / 256 & 0.07 & 34 / 507  &  TRUE & 0.00 & 0 / 38   & ⋯ & 0.05 & 29 / 571  & 0.03 & 23 / 752  & FALSE & 0.02 & 5 / 233   & 0.01 & 3 / 255  & FALSE\\\\\n",
       "\t2 & 13012 & 0.00 & 0 / 39   & 0.01 & 3 / 319  & 0.01 & 11 / 1363 & FALSE & 0.00 & 0 / 45   & ⋯ & 0.02 & 29 / 1376 & 0.02 & 36 / 1624 & FALSE & 0.02 & 16 / 798  & 0.01 & 10 / 847 & FALSE\\\\\n",
       "\t3 & 18383 & 0.06 & 4 / 72   & 0.07 & 32 / 445 & 0.03 & 13 / 511  & FALSE & 0.08 & 6 / 77   & ⋯ & 0.01 & 6 / 669   & 0.01 & 7 / 840   & FALSE & 0.00 & 2 / 451   & 0.00 & 2 / 555  & FALSE\\\\\n",
       "\t4 & 19557 & 0.21 & 7 / 33   & 0.13 & 19 / 143 & 0.11 & 44 / 413  &  TRUE & 0.20 & 7 / 35   & ⋯ & 0.06 & 30 / 482  & 0.09 & 55 / 612  &  TRUE & 0.03 & 8 / 275   & 0.03 & 8 / 276  & FALSE\\\\\n",
       "\t5 & 22822 & 0.07 & 14 / 192 & 0.09 & 55 / 635 & 0.05 & 62 / 1307 &  TRUE & 0.09 & 16 / 182 & ⋯ & 0.03 & 40 / 1523 & 0.02 & 41 / 1720 & FALSE & 0.01 & 12 / 1359 & 0.00 & 8 / 1742 & FALSE\\\\\n",
       "\t6 & 23579 & 0.05 & 3 / 65   & 0.14 & 25 / 177 & 0.00 & 0 / 277   & FALSE & 0.04 & 2 / 46   & ⋯ & 0.00 & 0 / 200   & 0.00 & 0 / 243   & FALSE & 0.00 & 0 / 169   & 0.00 & 0 / 238  & FALSE\\\\\n",
       "\\end{tabular}\n"
      ],
      "text/markdown": [
       "\n",
       "A data.frame: 6 × 88\n",
       "\n",
       "| <!--/--> | TS559_position &lt;int&gt; | freq_TS559_rep1 &lt;dbl&gt; | m5C_cov/total_cov_TS559_rep1 &lt;chr&gt; | freq_TS559_rep2 &lt;dbl&gt; | m5C_cov/total_cov_TS559_rep2 &lt;chr&gt; | freq_TS559_rep3 &lt;dbl&gt; | m5C_cov/total_cov_TS559_rep3 &lt;chr&gt; | TS559_hiconf &lt;lgl&gt; | freq_TK0224_rep1 &lt;dbl&gt; | m5C_cov/total_cov_TK0224_rep1 &lt;chr&gt; | ⋯ ⋯ | freq_TK0234_0729_rep1 &lt;dbl&gt; | m5C_cov/total_cov_TK0234_0729_rep1 &lt;chr&gt; | freq_TK0234_0729_rep2 &lt;dbl&gt; | m5C_cov/total_cov_TK0234_0729_rep2 &lt;chr&gt; | TK0234_0729_hiconf &lt;lgl&gt; | freq_TK2304_1935_rep1 &lt;dbl&gt; | m5C_cov/total_cov_TK2304_1935_rep1 &lt;chr&gt; | freq_TK2304_1935_rep2 &lt;dbl&gt; | m5C_cov/total_cov_TK2304_1935_rep2 &lt;chr&gt; | TK2304_1935_hiconf &lt;lgl&gt; |\n",
       "|---|---|---|---|---|---|---|---|---|---|---|---|---|---|---|---|---|---|---|---|---|---|\n",
       "| 1 |   857 | 0.11 | 7 / 61   | 0.14 | 36 / 256 | 0.07 | 34 / 507  |  TRUE | 0.00 | 0 / 38   | ⋯ | 0.05 | 29 / 571  | 0.03 | 23 / 752  | FALSE | 0.02 | 5 / 233   | 0.01 | 3 / 255  | FALSE |\n",
       "| 2 | 13012 | 0.00 | 0 / 39   | 0.01 | 3 / 319  | 0.01 | 11 / 1363 | FALSE | 0.00 | 0 / 45   | ⋯ | 0.02 | 29 / 1376 | 0.02 | 36 / 1624 | FALSE | 0.02 | 16 / 798  | 0.01 | 10 / 847 | FALSE |\n",
       "| 3 | 18383 | 0.06 | 4 / 72   | 0.07 | 32 / 445 | 0.03 | 13 / 511  | FALSE | 0.08 | 6 / 77   | ⋯ | 0.01 | 6 / 669   | 0.01 | 7 / 840   | FALSE | 0.00 | 2 / 451   | 0.00 | 2 / 555  | FALSE |\n",
       "| 4 | 19557 | 0.21 | 7 / 33   | 0.13 | 19 / 143 | 0.11 | 44 / 413  |  TRUE | 0.20 | 7 / 35   | ⋯ | 0.06 | 30 / 482  | 0.09 | 55 / 612  |  TRUE | 0.03 | 8 / 275   | 0.03 | 8 / 276  | FALSE |\n",
       "| 5 | 22822 | 0.07 | 14 / 192 | 0.09 | 55 / 635 | 0.05 | 62 / 1307 |  TRUE | 0.09 | 16 / 182 | ⋯ | 0.03 | 40 / 1523 | 0.02 | 41 / 1720 | FALSE | 0.01 | 12 / 1359 | 0.00 | 8 / 1742 | FALSE |\n",
       "| 6 | 23579 | 0.05 | 3 / 65   | 0.14 | 25 / 177 | 0.00 | 0 / 277   | FALSE | 0.04 | 2 / 46   | ⋯ | 0.00 | 0 / 200   | 0.00 | 0 / 243   | FALSE | 0.00 | 0 / 169   | 0.00 | 0 / 238  | FALSE |\n",
       "\n"
      ],
      "text/plain": [
       "  TS559_position freq_TS559_rep1 m5C_cov/total_cov_TS559_rep1 freq_TS559_rep2\n",
       "1   857          0.11            7 / 61                       0.14           \n",
       "2 13012          0.00            0 / 39                       0.01           \n",
       "3 18383          0.06            4 / 72                       0.07           \n",
       "4 19557          0.21            7 / 33                       0.13           \n",
       "5 22822          0.07            14 / 192                     0.09           \n",
       "6 23579          0.05            3 / 65                       0.14           \n",
       "  m5C_cov/total_cov_TS559_rep2 freq_TS559_rep3 m5C_cov/total_cov_TS559_rep3\n",
       "1 36 / 256                     0.07            34 / 507                    \n",
       "2 3 / 319                      0.01            11 / 1363                   \n",
       "3 32 / 445                     0.03            13 / 511                    \n",
       "4 19 / 143                     0.11            44 / 413                    \n",
       "5 55 / 635                     0.05            62 / 1307                   \n",
       "6 25 / 177                     0.00            0 / 277                     \n",
       "  TS559_hiconf freq_TK0224_rep1 m5C_cov/total_cov_TK0224_rep1 ⋯\n",
       "1  TRUE        0.00             0 / 38                        ⋯\n",
       "2 FALSE        0.00             0 / 45                        ⋯\n",
       "3 FALSE        0.08             6 / 77                        ⋯\n",
       "4  TRUE        0.20             7 / 35                        ⋯\n",
       "5  TRUE        0.09             16 / 182                      ⋯\n",
       "6 FALSE        0.04             2 / 46                        ⋯\n",
       "  freq_TK0234_0729_rep1 m5C_cov/total_cov_TK0234_0729_rep1\n",
       "1 0.05                  29 / 571                          \n",
       "2 0.02                  29 / 1376                         \n",
       "3 0.01                  6 / 669                           \n",
       "4 0.06                  30 / 482                          \n",
       "5 0.03                  40 / 1523                         \n",
       "6 0.00                  0 / 200                           \n",
       "  freq_TK0234_0729_rep2 m5C_cov/total_cov_TK0234_0729_rep2 TK0234_0729_hiconf\n",
       "1 0.03                  23 / 752                           FALSE             \n",
       "2 0.02                  36 / 1624                          FALSE             \n",
       "3 0.01                  7 / 840                            FALSE             \n",
       "4 0.09                  55 / 612                            TRUE             \n",
       "5 0.02                  41 / 1720                          FALSE             \n",
       "6 0.00                  0 / 243                            FALSE             \n",
       "  freq_TK2304_1935_rep1 m5C_cov/total_cov_TK2304_1935_rep1\n",
       "1 0.02                  5 / 233                           \n",
       "2 0.02                  16 / 798                          \n",
       "3 0.00                  2 / 451                           \n",
       "4 0.03                  8 / 275                           \n",
       "5 0.01                  12 / 1359                         \n",
       "6 0.00                  0 / 169                           \n",
       "  freq_TK2304_1935_rep2 m5C_cov/total_cov_TK2304_1935_rep2 TK2304_1935_hiconf\n",
       "1 0.01                  3 / 255                            FALSE             \n",
       "2 0.01                  10 / 847                           FALSE             \n",
       "3 0.00                  2 / 555                            FALSE             \n",
       "4 0.03                  8 / 276                            FALSE             \n",
       "5 0.00                  8 / 1742                           FALSE             \n",
       "6 0.00                  0 / 238                            FALSE             "
      ]
     },
     "metadata": {},
     "output_type": "display_data"
    }
   ],
   "source": [
    "cat_exoS_data <-\n",
    "    merge(x=TS559exoS_cat, y = TK0224exoS_cat, by='TS559_position', all=TRUE) %>%\n",
    "    merge(y = TK0234exoS_cat, by='TS559_position', all=TRUE) %>%\n",
    "    merge(y = TK0360exoS_cat, by='TS559_position', all=TRUE) %>%\n",
    "    merge(y = TK0704exoS_cat, by='TS559_position', all=TRUE) %>%\n",
    "    merge(y = TK0729exoS_cat, by='TS559_position', all=TRUE) %>%\n",
    "    merge(y = TK0872exoS_cat, by='TS559_position', all=TRUE) %>%\n",
    "    merge(y = TK1273exoS_cat, by='TS559_position', all=TRUE) %>%\n",
    "    merge(y = TK1917exoS_cat, by='TS559_position', all=TRUE) %>%\n",
    "    merge(y = TK1784exoS_cat, by='TS559_position', all=TRUE) %>%\n",
    "    merge(y = TK1935exoS_cat, by='TS559_position', all=TRUE) %>%\n",
    "    merge(y = TK2122exoS_cat, by='TS559_position', all=TRUE) %>%\n",
    "    merge(y = TK2241exoS_cat, by='TS559_position', all=TRUE) %>%\n",
    "    merge(y = TK2304exoS_cat, by='TS559_position', all=TRUE) %>%\n",
    "    merge(y = TK0234_0224exoS_cat, by='TS559_position', all=TRUE) %>%\n",
    "    merge(y = TK0234_0729exoS_cat, by='TS559_position', all=TRUE) %>%\n",
    "    merge(y = TK2304_1935exoS_cat, by='TS559_position', all=TRUE) %>%\n",
    "    #merge(y = TK2045exoS_cat, by='TS559_position', all=TRUE) %>%\n",
    "    #merge(y = TK2045NdelexoS_cat, by='TS559_position', all=TRUE) %>%\n",
    "\n",
    "    filter(TS559_hiconf==TRUE |\n",
    "    TK0224_hiconf==TRUE | \n",
    "    TK0234_hiconf==TRUE |\n",
    "    TK0360_hiconf==TRUE | \n",
    "    TK0704_hiconf==TRUE | \n",
    "    TK0729_hiconf==TRUE | \n",
    "    TK0872_hiconf==TRUE | \n",
    "    TK1273_hiconf==TRUE | \n",
    "    TK1917_hiconf==TRUE |\n",
    "    TK1784_hiconf==TRUE | \n",
    "    TK1935_hiconf==TRUE | \n",
    "    TK2122_hiconf==TRUE | \n",
    "    TK2241_hiconf==TRUE | \n",
    "    TK2304_hiconf==TRUE |\n",
    "    TK0234_0224_hiconf==TRUE |\n",
    "    TK0234_0729_hiconf==TRUE |\n",
    "    TK2304_1935_hiconf==TRUE  \n",
    "    )\n",
    "\n",
    "#write.table(cat_exoS_data, file = \"../processed_cgmaps/master_exoS_data\", sep = \"\\t\", row.names = F)\n",
    "nrow(cat_exoS_data)\n",
    "head(cat_exoS_data)"
   ]
  }
 ],
 "metadata": {
  "kernelspec": {
   "display_name": "R",
   "language": "R",
   "name": "ir"
  },
  "language_info": {
   "codemirror_mode": "r",
   "file_extension": ".r",
   "mimetype": "text/x-r-source",
   "name": "R",
   "pygments_lexer": "r",
   "version": "4.2.2"
  }
 },
 "nbformat": 4,
 "nbformat_minor": 4
}
