{
 "cells": [
  {
   "cell_type": "code",
   "execution_count": 1,
   "metadata": {},
   "outputs": [
    {
     "name": "stderr",
     "output_type": "stream",
     "text": [
      "Registered S3 method overwritten by 'rvest':\n",
      "  method            from\n",
      "  read_xml.response xml2\n",
      "── Attaching packages ─────────────────────────────────────── tidyverse 1.2.1 ──\n",
      "✔ ggplot2 3.3.6     ✔ purrr   0.3.2\n",
      "✔ tibble  3.1.7     ✔ dplyr   1.0.9\n",
      "✔ tidyr   1.2.0     ✔ stringr 1.4.0\n",
      "✔ readr   1.3.1     ✔ forcats 0.4.0\n",
      "── Conflicts ────────────────────────────────────────── tidyverse_conflicts() ──\n",
      "✖ dplyr::filter() masks stats::filter()\n",
      "✖ dplyr::lag()    masks stats::lag()\n",
      "\n",
      "Attaching package: ‘MASS’\n",
      "\n",
      "The following object is masked from ‘package:dplyr’:\n",
      "\n",
      "    select\n",
      "\n",
      "\n",
      "Attaching package: ‘reshape2’\n",
      "\n",
      "The following object is masked from ‘package:tidyr’:\n",
      "\n",
      "    smiths\n",
      "\n"
     ]
    }
   ],
   "source": [
    "library(tidyverse)\n",
    "library(MASS)\n",
    "library(DescTools)\n",
    "library(pwr)\n",
    "library(repr)\n",
    "library(cowplot)\n",
    "library(ggseqlogo)\n",
    "library(reshape2)"
   ]
  },
  {
   "cell_type": "code",
   "execution_count": 2,
   "metadata": {},
   "outputs": [],
   "source": [
    "cols = c('chromosome', 'reference_nucleotide', 'position', 'trinuc_context','dinuc_context', \n",
    "         \"methylation_frequency\", \"count_mC\", \"coverage\")\n",
    "\n",
    "TS559exoS <- read.delim('../processed_cgmaps/TS559exoS_coverage', sep='\\t') %>%\n",
    "    dplyr::rename(\n",
    "          methylation_frequency_TS559_rep1 = methylation_frequency_TS559_March2016,\n",
    "          mC_count_TS559_rep1 = mC_count_TS559_March2016,\n",
    "          coverage_TS559_rep1 = coverage_TS559_March2016,\n",
    "        \n",
    "          methylation_frequency_TS559_rep2 = methylation_frequency_TS559_Dec2016,\n",
    "          mC_count_TS559_rep2 = mC_count_TS559_Dec2016,\n",
    "          coverage_TS559_rep2 = coverage_TS559_Dec2016,\n",
    "           \n",
    "          methylation_frequency_TS559_rep3 = methylation_frequency_TS559_Oct2020,\n",
    "          mC_count_TS559_rep3 = mC_count_TS559_Oct2020,\n",
    "          coverage_TS559_rep3 = coverage_TS559_Oct2020\n",
    "          )\n",
    "\n",
    "annotation <- data.frame(read.delim('/home/kristin/jupyter_notebooks/RNA_mt_proj/bs7/annotation', sep = '\\t') %>%\n",
    "    dplyr::rename(position=TS559_position) )"
   ]
  },
  {
   "cell_type": "code",
   "execution_count": 3,
   "metadata": {},
   "outputs": [],
   "source": [
    "#####HELPERS \n",
    "\n",
    "load_cgmap <- function(cgmap,strain, replicate, growth_phase, metabolic_condition='S'){\n",
    "    cols = c('chromosome', 'base', 'position', 'trinuc_context','dinuc_context', \n",
    "         \"methylation_frequency\", \"count_mC\", \"coverage\")\n",
    "    outdata <- read.delim(cgmap, sep='\\t', header=FALSE,col.names=cols) %>%\n",
    "        mutate(strain=strain, growth_phase=growth_phase, \n",
    "               metabolic_condition=metabolic_condition, replicate=replicate)\n",
    "\n",
    "}\n",
    "\n",
    "\n",
    "#clean up raw CGmaps\n",
    "processCGmap <- function(cgmap){\n",
    "    strain = unique(cgmap$strain)\n",
    "    rep = unique(cgmap$replicate)\n",
    "    \n",
    "    final_data <- cgmap %>% \n",
    "        dplyr::select(-trinuc_context, -dinuc_context) %>%\n",
    "        dplyr::rename(!!paste(\"coverage\",\"_\",strain,\"_\",rep, sep=\"\") := coverage) %>%\n",
    "        dplyr::rename(!!paste(\"mC_count\",\"_\",strain,\"_\",rep, sep=\"\") := count_mC) %>%\n",
    "        dplyr::rename(!!paste(\"methylation_frequency\",\"_\",strain,\"_\",rep, sep=\"\") := methylation_frequency) %>%\n",
    "        dplyr::select(-replicate, -strain)\n",
    "    return(final_data)\n",
    "}\n",
    "\n",
    "# get standard deviation for 3 reps\n",
    "get_sd <- function(f1,f2,f3,c1,c2,c3,min_cov){\n",
    "    ls <-c()\n",
    "    if(c1>=min_cov){\n",
    "        ls <- c(ls,f1)\n",
    "    }\n",
    "    if(c2>=min_cov){\n",
    "        ls <- c(ls, f2)\n",
    "\n",
    "    }\n",
    "    \n",
    "    if(c3>=min_cov){\n",
    "       ls <- c(ls, f3)\n",
    "\n",
    "    }\n",
    "    if (length(ls>1)){\n",
    "        ans = round(sd(ls),3)\n",
    "    } else{\n",
    "        ans = NA\n",
    "    }\n",
    "    return(ans)\n",
    "}\n",
    "\n",
    "\n",
    "# get standard deviation for 2 reps\n",
    "get_sd_2reps <- function(f1,f2,c1,c2,min_cov=47){\n",
    "    ls <-c()\n",
    "    if(c1>=min_cov){\n",
    "        ls <- c(ls,f1)\n",
    "    }\n",
    "    if(c2>=min_cov){\n",
    "        ls <- c(ls, f2)\n",
    "    }\n",
    "    if (length(ls>1)){\n",
    "        ans = round(sd(ls),3)\n",
    "    } else{\n",
    "        ans = NA\n",
    "    }\n",
    "    return(ans)\n",
    "}\n",
    "\n",
    "\n",
    "#merge data for replicate deletion strains\n",
    "merge_del_reps <- function(x,y, strain){\n",
    "    cov_1 <- paste(\"coverage_\",strain, \"_rep1\", sep='')\n",
    "    cov_2 <- paste(\"coverage_\",strain, \"_rep2\", sep='')\n",
    "\n",
    "    d <- x %>%\n",
    "        merge(y=y, \n",
    "              by=c(\"chromosome\",\"position\", 'reference_nucleotide', 'growth_phase','metabolic_condition'), \n",
    "              all=TRUE) %>%\n",
    "    \n",
    "            mutate(!!as.name(cov_1) := replace_na(!!as.name(cov_1),0)) %>%\n",
    "            mutate(!!as.name(cov_2) := replace_na(!!as.name(cov_2),0))\n",
    "    \n",
    "    return(d)\n",
    "}\n",
    "\n",
    "#merge data for triplicate deletion strains\n",
    "merge_del_3reps <- function(x,y,z,strain){\n",
    "    cov_1 <- paste(\"coverage_\",strain, \"_rep1\", sep='')\n",
    "    cov_2 <- paste(\"coverage_\",strain, \"_rep2\", sep='')\n",
    "    cov_3 <- paste(\"coverage_\",strain, \"_rep3\", sep='')\n",
    "\n",
    "    d <- x %>%\n",
    "        merge(y=y, \n",
    "              by=c(\"chromosome\",\"position\", 'reference_nucleotide', 'growth_phase','metabolic_condition'), \n",
    "              all=TRUE) %>%\n",
    "        merge(y=z, \n",
    "              by=c(\"chromosome\",\"position\", 'reference_nucleotide', 'growth_phase','metabolic_condition'), \n",
    "              all=TRUE) %>%\n",
    "            mutate(!!as.name(cov_1) := replace_na(!!as.name(cov_1),0)) %>%\n",
    "            mutate(!!as.name(cov_2) := replace_na(!!as.name(cov_2),0)) %>%\n",
    "            mutate(!!as.name(cov_3) := replace_na(!!as.name(cov_3),0))\n",
    "\n",
    "    return(d)\n",
    "}\n",
    "\n",
    "\n",
    "# determine if high confidence, reproducible sites with 3 reps\n",
    "detect_hiconf_3reps <- function(f1,m1,p1,c1,f2,m2,p2,c2,f3,m3,p3,c3, min_cov=47,\n",
    "                                min_freq=.10, min_freq2 = 0.05) {\n",
    "    ls <- c()\n",
    "    \n",
    "    if(c1 == 'NA' ) {c1<-0}\n",
    "    if(c2 == 'NA' ) {c2<-0}\n",
    "    if(c3 == 'NA' ) {c3<-0}\n",
    "    if(c1 < min_cov & c2 < min_cov & c3 < min_cov) {return(NA)}\n",
    "    \n",
    "    else{\n",
    "    \n",
    "    if(c1<min_cov){ls <- c(ls,\"NA\")}\n",
    "    else if(  (c1>=min_cov & m1>=p1 & f1>=min_freq) | (m1>50 & f1>=min_freq2) ) {ls <- c(ls,TRUE)}\n",
    "    else {ls <- c(ls,FALSE)}\n",
    "    \n",
    "    if(c2<min_cov){ls <- c(ls,\"NA\")}\n",
    "    else if( (c2>=min_cov & m2>=p2 & f2>=min_freq) | (m2>50 & f2>=min_freq2) ) {ls <- c(ls,TRUE)}\n",
    "    else {ls <- c(ls,FALSE)}\n",
    "    \n",
    "    if(c3<min_cov){ls <- c(ls,\"NA\")}\n",
    "    else if( (c3>=min_cov & m3>=p3 & f3>=min_freq)| (m3>50 & f3>=min_freq2) )  {ls <- c(ls,TRUE)}\n",
    "    else {ls <- c(ls,FALSE)}\n",
    "    \n",
    "    ans_t <- length(which(ls==TRUE))\n",
    "    ans_na <- length(which(ls==\"NA\"))\n",
    "    ans_f <- length(which(ls==FALSE))\n",
    "\n",
    "    if(ans_na >= 3){return(NA)}\n",
    "    if(ans_na == 2 & ans_t == 1){return(NA)}\n",
    "    else if(ans_t >= 2){return(TRUE)}\n",
    "    else { return(FALSE)}\n",
    "        }\n",
    "}\n",
    "\n",
    "\n",
    "\n",
    "# determine if high confidence, reproducible sites with 2 reps\n",
    "detect_hiconf_2reps <- function(f1,m1,p1,c1,f2,m2,p2,c2, min_cov=47,\n",
    "                                min_freq=.10, min_freq2 = 0.05) {\n",
    "    ls <- c()\n",
    "    \n",
    "    if(c1 == 'NA' ) {c1<-0}\n",
    "    if(c2 == 'NA' ) {c2<-0}\n",
    "    \n",
    "    if(c1 < min_cov & c2 < min_cov) {return(NA)}\n",
    "    else{\n",
    "    \n",
    "    \n",
    "    if(c1<min_cov){ls <- c(ls,\"NA\")}\n",
    "    else if(  (c1>=min_cov & m1>=p1 & f1>=min_freq) | (m1>50 & f1>=min_freq2) ) {ls <- c(ls,TRUE)}\n",
    "    else {ls <- c(ls,FALSE)}\n",
    "    \n",
    "    if(c2<min_cov){ls <- c(ls,\"NA\")}\n",
    "    else if( (c2>=min_cov & m2>=p2 & f2>=min_freq) | (m2>50 & f2>=min_freq2) ) {ls <- c(ls,TRUE)}\n",
    "    else {ls <- c(ls,FALSE)}\n",
    "\n",
    "    ans_t <- length(which(ls==TRUE))\n",
    "    ans_na <- length(which(ls==\"NA\"))\n",
    "    ans_f <- length(which(ls==FALSE))\n",
    "\n",
    "    if(ans_f >= 1  ){return(FALSE)}\n",
    "    else if(ans_t >= 2){return(TRUE)}\n",
    "    else if(ans_t == 1 & ans_na ==1){return(TRUE)}\n",
    "    else { return(FALSE)}\n",
    "        \n",
    "        }\n",
    "}\n",
    "\n",
    "\n",
    "\n",
    "# determine if high confidence in all three 3 reps\n",
    "super_hiconf_3reps <- function(f1,m1,p1,c1,f2,m2,p2,c2,f3,m3,p3,c3, min_cov=47,\n",
    "                                min_freq=.10, min_freq2 = 0.05) {\n",
    "    ls <- c()\n",
    "    \n",
    "    if(c1 == 'NA' ) {c1<-0}\n",
    "    if(c2 == 'NA' ) {c2<-0}\n",
    "    if(c3 == 'NA' ) {c3<-0}\n",
    "\n",
    "    \n",
    "    if(  (c1>=min_cov & m1>=p1 & f1>=min_freq) | (c1>1000 & f1>=min_freq2)  ) {ls <- c(ls,TRUE)}\n",
    "    else {ls <- c(ls,FALSE)}\n",
    "    \n",
    "    \n",
    "    if( (c2>=min_cov & m2>=p2 & f2>=min_freq) | (c2>=1000 & f2>=min_freq2) ) {ls <- c(ls,TRUE)}\n",
    "    else {ls <- c(ls,FALSE)}\n",
    "    \n",
    "    if( (c3>=min_cov & m3>=p3 & f3>=min_freq) | (c3>=1000 & f3>=min_freq2) )  {ls <- c(ls,TRUE)}\n",
    "    else {ls <- c(ls,FALSE)}\n",
    "    \n",
    "    ans <- length(which(ls==TRUE))\n",
    "    \n",
    "    if(ans >= 3){return(TRUE)}\n",
    "    else { return(FALSE)}\n",
    "}\n",
    "\n",
    "\n",
    "\n",
    "#determine if the sample m5C frequency is within 2 standard deviations from control m5C frequency\n",
    "rm_overlap <- function(sp, ssd, cp,csd){\n",
    "    ssd <- ssd*2\n",
    "    csd <- csd*2\n",
    "\n",
    "    r1 <- c(sp-ssd, sp+ssd)\n",
    "    r2 <- c(cp-csd, cp+csd)\n",
    "    ans <- r1 %overlaps% r2\n",
    "    return(ans)\n",
    "    \n",
    "}\n",
    "\n",
    "\n",
    "# get p value of each m5C site using binomial distribution\n",
    "get_pvalue <- function(s1_mC,s1_cov, s2_mC,s2_cov,\n",
    "                       c1_mC,c1_cov,c2_mC,c2_cov,c3_mC,c3_cov){\n",
    "    \n",
    "    if(s1_cov == 0 & s2_cov == 0){return(NA)} \n",
    "    \n",
    "    else{\n",
    "\n",
    "    s1_mC = s1_mC +1 \n",
    "    s1_cov =  s1_cov +1 \n",
    "    s2_mC = s2_mC +1 \n",
    "    s2_cov = s2_cov +1 \n",
    "    c1_mC = c1_mC +1 \n",
    "    c1_cov = c1_cov +1 \n",
    "    c2_mC = c2_mC +1 \n",
    "    c2_cov = c2_cov +1 \n",
    "    c3_mC = c3_mC +1 \n",
    "    c3_cov = c3_cov +1 \n",
    "    \n",
    "    \n",
    "    treatment <- c('sample','sample','control','control','control')\n",
    "    success <- c(s1_mC,s2_mC,c1_mC,c2_mC,c3_mC)\n",
    "    failure <- c(s1_cov-s1_mC,s2_cov-s2_mC,c1_cov-c1_mC,c2_cov-c2_mC,c3_cov-c3_mC)\n",
    "    da <- data.frame(treatment, success,failure)\n",
    "\n",
    "    fit <- glm(cbind(da$success,da$failure) ~ treatment, family = binomial, data = da)\n",
    "    p_val <- summary(fit)$coefficients[8]\n",
    "    \n",
    "    return(p_val) }\n",
    "}\n",
    "\n",
    "    \n",
    "get_quantiles <- function(strain_cgmap, strain, reps = 2, min_cov=47){\n",
    "    \n",
    "    m5C_count_r1 <- paste(\"mC_count_\", strain, \"_rep1\", sep=\"\")\n",
    "    cov_r1 <- paste(\"coverage_\", strain, \"_rep1\", sep=\"\")\n",
    "\n",
    "    m5C_count_r2 <- paste(\"mC_count_\", strain, \"_rep2\", sep=\"\")\n",
    "    cov_r2 <- paste(\"coverage_\", strain, \"_rep2\", sep=\"\")\n",
    "    \n",
    "    #get quantile values for m5C count\n",
    "    q_strain_rep1 <- quantile(\n",
    "        (strain_cgmap %>%\n",
    "        filter(!!as.name(cov_r1)>=min_cov, !!as.name(m5C_count_r1)>=0) )[[m5C_count_r1]], .99)[[1]]\n",
    "    \n",
    "    q_strain_rep2 <- quantile(\n",
    "        (strain_cgmap %>%\n",
    "        filter(!!as.name(cov_r2)>=min_cov, !!as.name(m5C_count_r2)>=0) )[[m5C_count_r2]], .99)[[1]]\n",
    "    \n",
    "    q <- c(q_strain_rep1, q_strain_rep2)\n",
    "    \n",
    "    if(reps==3){\n",
    "        m5C_count_r3 <- paste(\"mC_count_\", strain, \"_rep3\", sep=\"\")\n",
    "        cov_r3 <- paste(\"coverage_\", strain, \"_rep3\", sep=\"\")\n",
    "        \n",
    "        q_strain_rep3 <- quantile(\n",
    "        (strain_cgmap %>%\n",
    "        filter(!!as.name(cov_r3)>=min_cov, !!as.name(m5C_count_r3)>=0) )[[m5C_count_r3]], .99)[[1]]\n",
    "        \n",
    "        q = c(q, q_strain_rep3)\n",
    "    }\n",
    "    \n",
    "    return(q)\n",
    "}\n",
    "    \n",
    "\n",
    "CompareCGmap <- function(strain_cgmap, TS559_cgmap, strain, annotation, minimum_freq=.10, min_cov=47){\n",
    "    \n",
    "    #making some column names\n",
    "    meth_freq_r1 <- paste(\"methylation_frequency_\", strain, \"_rep1\", sep=\"\")\n",
    "    m5C_count_r1 <- paste(\"mC_count_\", strain, \"_rep1\", sep=\"\")\n",
    "    cov_r1 <- paste(\"coverage_\", strain, \"_rep1\", sep=\"\")\n",
    "\n",
    "    meth_freq_r2 <- paste(\"methylation_frequency_\", strain, \"_rep2\", sep=\"\")\n",
    "    m5C_count_r2 <- paste(\"mC_count_\", strain, \"_rep2\", sep=\"\")\n",
    "    cov_r2 <- paste(\"coverage_\", strain, \"_rep2\", sep=\"\")\n",
    "    \n",
    "    pooled_methylation_frequency_strain <- paste(\"pooled_methylation_frequency_\", strain, sep='')\n",
    "\n",
    "    #get quantile values for m5C count\n",
    "    q_TS559_rep1 <- quantile((TS559_cgmap%>%\n",
    "        filter(coverage_TS559_rep1>=min_cov, mC_count_TS559_rep1>=0))$mC_count_TS559_rep1, .99)[[1]]\n",
    "    \n",
    "    q_TS559_rep2 <- quantile((TS559_cgmap%>%\n",
    "        filter(coverage_TS559_rep2>=min_cov, mC_count_TS559_rep2>=0))$mC_count_TS559_rep2, .99)[[1]]\n",
    "    \n",
    "    q_TS559_rep3 <- quantile((TS559_cgmap%>%\n",
    "        filter(coverage_TS559_rep3>=min_cov, mC_count_TS559_rep3>=0))$mC_count_TS559_rep3, .99)[[1]]\n",
    "\n",
    "    q_strain_rep1 <- quantile(\n",
    "        (strain_cgmap %>%\n",
    "        filter(!!as.name(cov_r1)>=min_cov, !!as.name(m5C_count_r1)>=0) )[[m5C_count_r1]], .99)[[1]]\n",
    "    \n",
    "    q_strain_rep2 <- quantile(\n",
    "        (strain_cgmap %>%\n",
    "        filter(!!as.name(cov_r2)>=min_cov, !!as.name(m5C_count_r2)>=0) )[[m5C_count_r2]], .99)[[1]]\n",
    "    \n",
    "    \n",
    "    #build dataframe\n",
    "    data <- strain_cgmap %>%\n",
    "        merge(y = TS559_cgmap, all = TRUE, \n",
    "             by= c(\"chromosome\",\"position\",\"reference_nucleotide\",\"growth_phase\",\"metabolic_condition\")) %>%\n",
    "        dplyr::select(-chromosome,-standard_devition) %>%\n",
    "    \n",
    "        # house keeping\n",
    "        mutate(!!as.name(cov_r1) := replace_na(!!as.name(cov_r1),0)) %>%\n",
    "        mutate(!!as.name(cov_r2) := replace_na(!!as.name(cov_r2),0)) %>%\n",
    "        \n",
    "        mutate(coverage_TS559_rep1 = replace_na(coverage_TS559_rep1,0)) %>%\n",
    "        mutate(coverage_TS559_rep2 = replace_na(coverage_TS559_rep2,0)) %>%\n",
    "        mutate(coverage_TS559_rep3 = replace_na(coverage_TS559_rep3,0)) %>%\n",
    "        \n",
    "        mutate(methylation_frequency_TS559_rep1 = na_if(methylation_frequency_TS559_rep1, \"NA\")) %>%    \n",
    "        mutate(methylation_frequency_TS559_rep2 = na_if(methylation_frequency_TS559_rep2, \"NA\")) %>%    \n",
    "        mutate(methylation_frequency_TS559_rep3 = na_if(methylation_frequency_TS559_rep3, \"NA\")) %>%    \n",
    "        mutate(!!as.name(meth_freq_r1) := na_if(!!as.name(meth_freq_r1), \"NA\")) %>%  \n",
    "        mutate(!!as.name(meth_freq_r2) := na_if(!!as.name(meth_freq_r2), \"NA\")) %>%    \n",
    "        \n",
    "        # identify high confidence and reproducible m5C sites\n",
    "        rowwise() %>%\n",
    "        mutate(hiconf_TS559 = detect_hiconf_3reps(\n",
    "            f1=methylation_frequency_TS559_rep1,\n",
    "            m1=mC_count_TS559_rep1,\n",
    "            p1=q_TS559_rep1,\n",
    "            c1=coverage_TS559_rep1,\n",
    "            f2=methylation_frequency_TS559_rep2,\n",
    "            m2=mC_count_TS559_rep2,\n",
    "            p2=q_TS559_rep2,\n",
    "            c2=coverage_TS559_rep2,\n",
    "            f3=methylation_frequency_TS559_rep3,\n",
    "            m3=mC_count_TS559_rep3,\n",
    "            p3=q_TS559_rep3,\n",
    "            c3=coverage_TS559_rep3,\n",
    "            min_cov=min_cov,\n",
    "            min_freq = minimum_freq) \n",
    "              ) %>%\n",
    "        \n",
    "        rowwise() %>%\n",
    "        mutate(hiconf_strain = detect_hiconf_2reps(\n",
    "                f1=!!as.name(meth_freq_r1),\n",
    "                m1=!!as.name(m5C_count_r1),\n",
    "                p1=q_strain_rep1,\n",
    "                c1=!!as.name(cov_r1),\n",
    "                f2=!!as.name(meth_freq_r2),\n",
    "                m2=!!as.name(m5C_count_r2),\n",
    "                p2=q_strain_rep2,\n",
    "                c2=!!as.name(cov_r2), \n",
    "                min_cov= min_cov,\n",
    "                min_freq = minimum_freq)\n",
    "                 \n",
    "                ) %>%\n",
    "        # we are only interested in keeping sites were either the parent or deletion\n",
    "        # strain have a m5C site\n",
    "        filter(hiconf_TS559 == TRUE | hiconf_strain == TRUE) %>%\n",
    "        filter(hiconf_TS559 != \"NA\") %>%\n",
    "        filter(hiconf_strain != \"NA\") %>%\n",
    "    \n",
    "        # calculate the mean m5C frequency at each site by pooling replicates (round to 2 decimals)\n",
    "        # calculate standard deviation of each site as well\n",
    "        mutate(!!as.name(pooled_methylation_frequency_strain) := \n",
    "             ( !!as.name(m5C_count_r1) +  !!as.name(m5C_count_r2) ) / ( !!as.name(cov_r1) + !!as.name(cov_r2) ) ) %>%\n",
    "        \n",
    "        mutate(!!as.name(pooled_methylation_frequency_strain) := round(!!as.name(pooled_methylation_frequency_strain),2))%>%\n",
    "        mutate(strain_sd = sd(c(!!as.name(meth_freq_r1),!!as.name(meth_freq_r2))))%>%\n",
    "    \n",
    "        mutate(pooled_methylation_frequency_TS559 =\n",
    "               (mC_count_TS559_rep1 + mC_count_TS559_rep2 + mC_count_TS559_rep3) /\n",
    "               (coverage_TS559_rep1+coverage_TS559_rep2+coverage_TS559_rep3)    ) %>%\n",
    "        mutate(pooled_methylation_frequency_TS559=round(pooled_methylation_frequency_TS559,2)) %>%\n",
    "        mutate(TS559_sd = sd(c(methylation_frequency_TS559_rep1,methylation_frequency_TS559_rep2,\n",
    "                              methylation_frequency_TS559_rep3))) %>%\n",
    "    \n",
    "\n",
    "        # calculate fold change of methylaton frequency at each site between parent and deletion strain\n",
    "        mutate(FoldChange = (!!as.name(pooled_methylation_frequency_strain)+.01) / \n",
    "                               (pooled_methylation_frequency_TS559+.01),\n",
    "               log2FC = log2( (!!as.name(pooled_methylation_frequency_strain)+.01) / \n",
    "                               (pooled_methylation_frequency_TS559+.01) ) ) %>%\n",
    "        \n",
    "        filter(log2FC >= 1 | log2FC <= -1) %>%\n",
    "        # add p vlaue\n",
    "        rowwise() %>%\n",
    "        mutate(pvalue = get_pvalue(\n",
    "            s1_mC = !!as.name(m5C_count_r1),\n",
    "            s1_cov = !!as.name(cov_r1), \n",
    "            s2_mC = !!as.name(m5C_count_r2),\n",
    "            s2_cov = !!as.name(cov_r2),\n",
    "            c1_mC = mC_count_TS559_rep1,\n",
    "            c1_cov = coverage_TS559_rep1,\n",
    "            c2_mC = mC_count_TS559_rep2,\n",
    "            c2_cov = coverage_TS559_rep2,\n",
    "            c3_mC = mC_count_TS559_rep3,\n",
    "            c3_cov = coverage_TS559_rep3) ) %>%\n",
    "        \n",
    "        filter(pvalue <= 0.01)\n",
    "        \n",
    "        # adjust p values\n",
    "        #adj_pvalue <- p.adjust(data$pvalue, method = 'fdr')\n",
    "        #data <- cbind(data, adj_pvalue)\n",
    "        data <- data %>% merge(y=annotation,by='position', all.x=TRUE) %>%\n",
    "            dplyr::rename(TS559_position = position) %>%\n",
    "            rowwise()%>%\n",
    "            mutate(overlap = \n",
    "                   rm_overlap(!!as.name(pooled_methylation_frequency_strain), strain_sd,\n",
    "                    pooled_methylation_frequency_TS559, TS559_sd )) %>%\n",
    "           filter(overlap==FALSE) %>%\n",
    "           dplyr::select(-overlap, -reproducible, -highly_reproducible) %>%\n",
    "           arrange(pvalue) %>%\n",
    "        dplyr::select(-reference_nucleotide) %>%\n",
    "        dplyr::rename(strand=reference_strand) %>%\n",
    "        dplyr::select(TS559_position, KOD1_position, strand, everything())\n",
    "    \n",
    "    return(data)\n",
    "}\n",
    "\n",
    "enumerate_hiconf_2reps <- function(strain_cgmap, strain, min_cov=47){\n",
    "    \n",
    "    meth_freq_r1 <- paste(\"methylation_frequency_\", strain, \"_rep1\", sep=\"\")\n",
    "    m5C_count_r1 <- paste(\"mC_count_\", strain, \"_rep1\", sep=\"\")\n",
    "    cov_r1 <- paste(\"coverage_\", strain, \"_rep1\", sep=\"\")\n",
    "\n",
    "    meth_freq_r2 <- paste(\"methylation_frequency_\", strain, \"_rep2\", sep=\"\")\n",
    "    m5C_count_r2 <- paste(\"mC_count_\", strain, \"_rep2\", sep=\"\")\n",
    "    cov_r2 <- paste(\"coverage_\", strain, \"_rep2\", sep=\"\")\n",
    "    \n",
    "    q_strain_rep1 <- quantile(\n",
    "        (strain_cgmap %>%\n",
    "        filter(!!as.name(cov_r1)>=min_cov, !!as.name(m5C_count_r1)>=0) )[[m5C_count_r1]], .99)[[1]]\n",
    "    \n",
    "    q_strain_rep2 <- quantile(\n",
    "        (strain_cgmap %>%\n",
    "        filter(!!as.name(cov_r2)>=min_cov, !!as.name(m5C_count_r2)>=0) )[[m5C_count_r2]], .99)[[1]]\n",
    "    \n",
    "    \n",
    "    data <- strain_cgmap %>%\n",
    "        dplyr::select(-chromosome, -reference_nucleotide,-growth_phase) %>%\n",
    "    \n",
    "        mutate(!!as.name(cov_r1) := replace_na(!!as.name(cov_r1),0)) %>%\n",
    "        mutate(!!as.name(cov_r2) := replace_na(!!as.name(cov_r2),0)) %>%\n",
    "        \n",
    "        mutate(!!as.name(meth_freq_r1) := na_if(!!as.name(meth_freq_r1), \"NA\")) %>%  \n",
    "        mutate(!!as.name(meth_freq_r2) := na_if(!!as.name(meth_freq_r2), \"NA\")) %>%    \n",
    "        \n",
    "        rowwise() %>%\n",
    "        mutate(hiconf_strain = detect_hiconf_2reps(\n",
    "                f1=!!as.name(meth_freq_r1),\n",
    "                m1=!!as.name(m5C_count_r1),\n",
    "                p1=q_strain_rep1,\n",
    "                c1=!!as.name(cov_r1),\n",
    "                f2=!!as.name(meth_freq_r2),\n",
    "                m2=!!as.name(m5C_count_r2),\n",
    "                p2=q_strain_rep2,\n",
    "                c2=!!as.name(cov_r2), \n",
    "                min_cov=min_cov)\n",
    "                 \n",
    "                ) %>%\n",
    "        dplyr::rename(TS559_position = position) %>%\n",
    "        \n",
    "        mutate( 'm5C_cov/total_cov_rep1' := \n",
    "            paste(!!as.name(paste('mC_count_',strain,'_rep1',sep='')), \n",
    "                  '/', \n",
    "                  !!as.name(paste('coverage_',strain,'_rep1',sep='')) \n",
    "                 ) \n",
    "              ) %>%\n",
    "        \n",
    "        mutate( 'm5C_cov/total_cov_rep2' := \n",
    "            paste(!!as.name(paste('mC_count_',strain,'_rep2',sep='')), \n",
    "                  '/', \n",
    "                  !!as.name(paste('coverage_',strain,'_rep2',sep='')) \n",
    "                 ) \n",
    "              ) %>%\n",
    "        dplyr::select(TS559_position, \n",
    "                  !!as.name(meth_freq_r1), \n",
    "                  'm5C_cov/total_cov_rep1',\n",
    "                  !!as.name(meth_freq_r2), \n",
    "                  'm5C_cov/total_cov_rep2',\n",
    "                     hiconf_strain) %>%\n",
    "\n",
    "    dplyr::rename(!!paste(strain,'_hiconf',sep=''):= hiconf_strain )  %>%\n",
    "    dplyr::rename(!!paste('m5C_cov/total_cov_',strain,'_rep1',sep=''):= 'm5C_cov/total_cov_rep1' )  %>%\n",
    "    dplyr::rename(!!paste('m5C_cov/total_cov_',strain,'_rep2',sep=''):= 'm5C_cov/total_cov_rep2' ) %>%\n",
    "    dplyr::rename(!!paste('freq_',strain,'_rep1',sep=''):= !!as.name(paste('methylation_frequency_',strain,'_rep1',sep='') ) )%>%\n",
    "    dplyr::rename(!!paste('freq_',strain,'_rep2',sep=''):= !!as.name(paste('methylation_frequency_',strain,'_rep2',sep='') ) )  \n",
    "    \n",
    "    return(data)\n",
    "}"
   ]
  },
  {
   "cell_type": "code",
   "execution_count": 4,
   "metadata": {},
   "outputs": [],
   "source": [
    "CompareCGmap_3reps <- function(strain_cgmap, TS559_cgmap, strain, annotation, minimum_freq=.10, min_cov=47){\n",
    "    \n",
    "    #making some column names\n",
    "    meth_freq_r1 <- paste(\"methylation_frequency_\", strain, \"_rep1\", sep=\"\")\n",
    "    m5C_count_r1 <- paste(\"mC_count_\", strain, \"_rep1\", sep=\"\")\n",
    "    cov_r1 <- paste(\"coverage_\", strain, \"_rep1\", sep=\"\")\n",
    "\n",
    "    meth_freq_r2 <- paste(\"methylation_frequency_\", strain, \"_rep2\", sep=\"\")\n",
    "    m5C_count_r2 <- paste(\"mC_count_\", strain, \"_rep2\", sep=\"\")\n",
    "    cov_r2 <- paste(\"coverage_\", strain, \"_rep2\", sep=\"\")\n",
    "    \n",
    "    \n",
    "    meth_freq_r3 <- paste(\"methylation_frequency_\", strain, \"_rep3\", sep=\"\")\n",
    "    m5C_count_r3 <- paste(\"mC_count_\", strain, \"_rep3\", sep=\"\")\n",
    "    cov_r3 <- paste(\"coverage_\", strain, \"_rep3\", sep=\"\")\n",
    "    \n",
    "    \n",
    "    pooled_methylation_frequency_strain <- paste(\"pooled_methylation_frequency_\", strain, sep='')\n",
    "\n",
    "    #get quantile values for m5C count\n",
    "    q_TS559_rep1 <- quantile((TS559_cgmap%>%\n",
    "        filter(coverage_TS559_rep1>=min_cov, mC_count_TS559_rep1>=0))$mC_count_TS559_rep1, .99)[[1]]\n",
    "    \n",
    "    q_TS559_rep2 <- quantile((TS559_cgmap%>%\n",
    "        filter(coverage_TS559_rep2>=min_cov, mC_count_TS559_rep2>=0))$mC_count_TS559_rep2, .99)[[1]]\n",
    "    \n",
    "    q_TS559_rep3 <- quantile((TS559_cgmap%>%\n",
    "        filter(coverage_TS559_rep3>=min_cov, mC_count_TS559_rep3>=0))$mC_count_TS559_rep3, .99)[[1]]\n",
    "\n",
    "    q_strain_rep1 <- quantile(\n",
    "        (strain_cgmap %>%\n",
    "        filter(!!as.name(cov_r1)>=min_cov, !!as.name(m5C_count_r1)>=0) )[[m5C_count_r1]], .99)[[1]]\n",
    "    \n",
    "    q_strain_rep2 <- quantile(\n",
    "        (strain_cgmap %>%\n",
    "        filter(!!as.name(cov_r2)>=min_cov, !!as.name(m5C_count_r2)>=0) )[[m5C_count_r2]], .99)[[1]]\n",
    "   \n",
    "    q_strain_rep3 <- quantile(\n",
    "        (strain_cgmap %>%\n",
    "        filter(!!as.name(cov_r3)>=min_cov, !!as.name(m5C_count_r3)>=0) )[[m5C_count_r3]], .99)[[1]] \n",
    "    \n",
    "    #build dataframe\n",
    "    data <- strain_cgmap %>%\n",
    "        merge(y = TS559_cgmap, all = TRUE, \n",
    "             by= c(\"chromosome\",\"position\",\"reference_nucleotide\",\"growth_phase\",\"metabolic_condition\")) %>%\n",
    "        dplyr::select(-chromosome,-standard_devition) %>%\n",
    "    \n",
    "        # house keeping\n",
    "        mutate(!!as.name(cov_r1) := replace_na(!!as.name(cov_r1),0)) %>%\n",
    "        mutate(!!as.name(cov_r2) := replace_na(!!as.name(cov_r2),0)) %>%\n",
    "        mutate(!!as.name(cov_r3) := replace_na(!!as.name(cov_r3),0)) %>%\n",
    "\n",
    "        mutate(coverage_TS559_rep1 = replace_na(coverage_TS559_rep1,0)) %>%\n",
    "        mutate(coverage_TS559_rep2 = replace_na(coverage_TS559_rep2,0)) %>%\n",
    "        mutate(coverage_TS559_rep3 = replace_na(coverage_TS559_rep3,0)) %>%\n",
    "        \n",
    "        mutate(methylation_frequency_TS559_rep1 = na_if(methylation_frequency_TS559_rep1, \"NA\")) %>%    \n",
    "        mutate(methylation_frequency_TS559_rep2 = na_if(methylation_frequency_TS559_rep2, \"NA\")) %>%    \n",
    "        mutate(methylation_frequency_TS559_rep3 = na_if(methylation_frequency_TS559_rep3, \"NA\")) %>%   \n",
    "    \n",
    "        mutate(!!as.name(meth_freq_r1) := na_if(!!as.name(meth_freq_r1), \"NA\")) %>%  \n",
    "        mutate(!!as.name(meth_freq_r2) := na_if(!!as.name(meth_freq_r2), \"NA\")) %>%    \n",
    "        mutate(!!as.name(meth_freq_r3) := na_if(!!as.name(meth_freq_r3), \"NA\")) %>%    \n",
    "\n",
    "    \n",
    "        # identify high confidence and reproducible m5C sites\n",
    "        rowwise() %>%\n",
    "        mutate(hiconf_TS559 = detect_hiconf_3reps(\n",
    "            f1=methylation_frequency_TS559_rep1,\n",
    "            m1=mC_count_TS559_rep1,\n",
    "            p1=q_TS559_rep1,\n",
    "            c1=coverage_TS559_rep1,\n",
    "            f2=methylation_frequency_TS559_rep2,\n",
    "            m2=mC_count_TS559_rep2,\n",
    "            p2=q_TS559_rep2,\n",
    "            c2=coverage_TS559_rep2,\n",
    "            f3=methylation_frequency_TS559_rep3,\n",
    "            m3=mC_count_TS559_rep3,\n",
    "            p3=q_TS559_rep3,\n",
    "            c3=coverage_TS559_rep3,\n",
    "            min_cov=min_cov,\n",
    "            min_freq = minimum_freq) \n",
    "              ) %>%\n",
    "        \n",
    "        rowwise() %>%\n",
    "        mutate(hiconf_strain = detect_hiconf_3reps(\n",
    "                f1=!!as.name(meth_freq_r1),\n",
    "                m1=!!as.name(m5C_count_r1),\n",
    "                p1=q_strain_rep1,\n",
    "                c1=!!as.name(cov_r1),\n",
    "                f2=!!as.name(meth_freq_r2),\n",
    "                m2=!!as.name(m5C_count_r2),\n",
    "                p2=q_strain_rep2,\n",
    "                c2=!!as.name(cov_r2), \n",
    "                f3=!!as.name(meth_freq_r3),\n",
    "                m3=!!as.name(m5C_count_r3),\n",
    "                p3=q_strain_rep3,\n",
    "                c3=!!as.name(cov_r3), \n",
    "                min_cov= min_cov,\n",
    "                min_freq = minimum_freq)\n",
    "                 \n",
    "                ) %>%\n",
    "        # we are only interested in keeping sites were either the parent or deletion\n",
    "        # strain have a m5C site\n",
    "        filter(hiconf_TS559 == TRUE | hiconf_strain == TRUE) %>%\n",
    "        filter(hiconf_TS559 != \"NA\") %>%\n",
    "        filter(hiconf_strain != \"NA\") %>%\n",
    "    \n",
    "        # calculate the mean m5C frequency at each site by pooling replicates (round to 2 decimals)\n",
    "        # calculate standard deviation of each site as well\n",
    "        mutate(!!as.name(pooled_methylation_frequency_strain) := \n",
    "             ( !!as.name(m5C_count_r1) + !!as.name(m5C_count_r2) + !!as.name(m5C_count_r3) ) / \n",
    "               ( !!as.name(cov_r1) + !!as.name(cov_r2) + !!as.name(cov_r3) ) \n",
    "              ) %>%\n",
    "        \n",
    "        mutate(!!as.name(pooled_methylation_frequency_strain) := \n",
    "               round(!!as.name(pooled_methylation_frequency_strain),2)\n",
    "              ) %>%\n",
    "        mutate(strain_sd = sd(c(!!as.name(meth_freq_r1),!!as.name(meth_freq_r2),!!as.name(meth_freq_r3)))\n",
    "              )%>%\n",
    "    \n",
    "        mutate(pooled_methylation_frequency_TS559 =\n",
    "               (mC_count_TS559_rep1 + mC_count_TS559_rep2 + mC_count_TS559_rep3) /\n",
    "               (coverage_TS559_rep1+coverage_TS559_rep2+coverage_TS559_rep3)    ) %>%\n",
    "        mutate(pooled_methylation_frequency_TS559=round(pooled_methylation_frequency_TS559,2)) %>%\n",
    "        mutate(TS559_sd = sd(c(methylation_frequency_TS559_rep1,methylation_frequency_TS559_rep2,\n",
    "                              methylation_frequency_TS559_rep3))) %>%\n",
    "    \n",
    "\n",
    "        # calculate fold change of methylaton frequency at each site between parent and deletion strain\n",
    "        mutate(FoldChange = (!!as.name(pooled_methylation_frequency_strain)+.01) / \n",
    "                               (pooled_methylation_frequency_TS559+.01),\n",
    "               log2FC = log2( (!!as.name(pooled_methylation_frequency_strain)+.01) / \n",
    "                               (pooled_methylation_frequency_TS559+.01) ) ) %>%\n",
    "        \n",
    "        filter(log2FC >= 1 | log2FC <= -1) %>%\n",
    "        # add p vlaue\n",
    "        rowwise() %>%\n",
    "        mutate(pvalue = get_pvalue(\n",
    "            s1_mC = !!as.name(m5C_count_r1),\n",
    "            s1_cov = !!as.name(cov_r1), \n",
    "            s2_mC = !!as.name(m5C_count_r2),\n",
    "            s2_cov = !!as.name(cov_r2),\n",
    "            c1_mC = mC_count_TS559_rep1,\n",
    "            c1_cov = coverage_TS559_rep1,\n",
    "            c2_mC = mC_count_TS559_rep2,\n",
    "            c2_cov = coverage_TS559_rep2,\n",
    "            c3_mC = mC_count_TS559_rep3,\n",
    "            c3_cov = coverage_TS559_rep3) ) %>%\n",
    "        \n",
    "        filter(pvalue <= 0.01)\n",
    "        \n",
    "        # adjust p values\n",
    "        #adj_pvalue <- p.adjust(data$pvalue, method = 'fdr')\n",
    "        #data <- cbind(data, adj_pvalue)\n",
    "        data <- data %>% merge(y=annotation,by='position', all.x=TRUE) %>%\n",
    "            dplyr::rename(TS559_position = position) %>%\n",
    "            rowwise()%>%\n",
    "            mutate(overlap = \n",
    "                   rm_overlap(!!as.name(pooled_methylation_frequency_strain), strain_sd,\n",
    "                    pooled_methylation_frequency_TS559, TS559_sd )) %>%\n",
    "           filter(overlap==FALSE) %>%\n",
    "           dplyr::select(-overlap, -reproducible, -highly_reproducible) %>%\n",
    "           arrange(pvalue) %>%\n",
    "        dplyr::select(-reference_nucleotide) %>%\n",
    "        dplyr::rename(strand=reference_strand) %>%\n",
    "        dplyr::select(TS559_position, KOD1_position, strand, everything())\n",
    "    \n",
    "    return(data)\n",
    "}\n",
    "\n",
    "enumerate_hiconf_3reps <- function(strain_cgmap, strain, min_cov=47){\n",
    "    \n",
    "    meth_freq_r1 <- paste(\"methylation_frequency_\", strain, \"_rep1\", sep=\"\")\n",
    "    m5C_count_r1 <- paste(\"mC_count_\", strain, \"_rep1\", sep=\"\")\n",
    "    cov_r1 <- paste(\"coverage_\", strain, \"_rep1\", sep=\"\")\n",
    "\n",
    "    meth_freq_r2 <- paste(\"methylation_frequency_\", strain, \"_rep2\", sep=\"\")\n",
    "    m5C_count_r2 <- paste(\"mC_count_\", strain, \"_rep2\", sep=\"\")\n",
    "    cov_r2 <- paste(\"coverage_\", strain, \"_rep2\", sep=\"\")\n",
    "    \n",
    "    q_strain_rep1 <- quantile(\n",
    "        (strain_cgmap %>%\n",
    "        filter(!!as.name(cov_r1)>=min_cov, !!as.name(m5C_count_r1)>=0) )[[m5C_count_r1]], .99)[[1]]\n",
    "    \n",
    "    q_strain_rep2 <- quantile(\n",
    "        (strain_cgmap %>%\n",
    "        filter(!!as.name(cov_r2)>=min_cov, !!as.name(m5C_count_r2)>=0) )[[m5C_count_r2]], .99)[[1]]\n",
    "    \n",
    "    \n",
    "    data <- strain_cgmap %>%\n",
    "        dplyr::select(-chromosome, -reference_nucleotide,-growth_phase) %>%\n",
    "    \n",
    "        mutate(!!as.name(cov_r1) := replace_na(!!as.name(cov_r1),0)) %>%\n",
    "        mutate(!!as.name(cov_r2) := replace_na(!!as.name(cov_r2),0)) %>%\n",
    "        \n",
    "        mutate(!!as.name(meth_freq_r1) := na_if(!!as.name(meth_freq_r1), \"NA\")) %>%  \n",
    "        mutate(!!as.name(meth_freq_r2) := na_if(!!as.name(meth_freq_r2), \"NA\")) %>%    \n",
    "        \n",
    "        rowwise() %>%\n",
    "        mutate(hiconf_strain = detect_hiconf_2reps(\n",
    "                f1=!!as.name(meth_freq_r1),\n",
    "                m1=!!as.name(m5C_count_r1),\n",
    "                p1=q_strain_rep1,\n",
    "                c1=!!as.name(cov_r1),\n",
    "                f2=!!as.name(meth_freq_r2),\n",
    "                m2=!!as.name(m5C_count_r2),\n",
    "                p2=q_strain_rep2,\n",
    "                c2=!!as.name(cov_r2), \n",
    "                min_cov=min_cov)\n",
    "                 \n",
    "                ) %>%\n",
    "        dplyr::rename(TS559_position = position) %>%\n",
    "        \n",
    "        mutate( 'm5C_cov/total_cov_rep1' := \n",
    "            paste(!!as.name(paste('mC_count_',strain,'_rep1',sep='')), \n",
    "                  '/', \n",
    "                  !!as.name(paste('coverage_',strain,'_rep1',sep='')) \n",
    "                 ) \n",
    "              ) %>%\n",
    "        \n",
    "        mutate( 'm5C_cov/total_cov_rep2' := \n",
    "            paste(!!as.name(paste('mC_count_',strain,'_rep2',sep='')), \n",
    "                  '/', \n",
    "                  !!as.name(paste('coverage_',strain,'_rep2',sep='')) \n",
    "                 ) \n",
    "              ) %>%\n",
    "        dplyr::select(TS559_position, \n",
    "                  !!as.name(meth_freq_r1), \n",
    "                  'm5C_cov/total_cov_rep1',\n",
    "                  !!as.name(meth_freq_r2), \n",
    "                  'm5C_cov/total_cov_rep2',\n",
    "                     hiconf_strain) %>%\n",
    "\n",
    "    dplyr::rename(!!paste(strain,'_hiconf',sep=''):= hiconf_strain )  %>%\n",
    "    dplyr::rename(!!paste('m5C_cov/total_cov_',strain,'_rep1',sep=''):= 'm5C_cov/total_cov_rep1' )  %>%\n",
    "    dplyr::rename(!!paste('m5C_cov/total_cov_',strain,'_rep2',sep=''):= 'm5C_cov/total_cov_rep2' ) %>%\n",
    "    dplyr::rename(!!paste('freq_',strain,'_rep1',sep=''):= !!as.name(paste('methylation_frequency_',strain,'_rep1',sep='') ) )%>%\n",
    "    dplyr::rename(!!paste('freq_',strain,'_rep2',sep=''):= !!as.name(paste('methylation_frequency_',strain,'_rep2',sep='') ) )  \n",
    "    \n",
    "    return(data)\n",
    "}"
   ]
  },
  {
   "cell_type": "code",
   "execution_count": 5,
   "metadata": {},
   "outputs": [
    {
     "data": {
      "text/html": [
       "<table>\n",
       "<caption>A rowwise_df: 6 × 15</caption>\n",
       "<thead>\n",
       "\t<tr><th scope=col>chromosome</th><th scope=col>position</th><th scope=col>reference_nucleotide</th><th scope=col>growth_phase</th><th scope=col>metabolic_condition</th><th scope=col>methylation_frequency_TS559_rep1</th><th scope=col>mC_count_TS559_rep1</th><th scope=col>coverage_TS559_rep1</th><th scope=col>methylation_frequency_TS559_rep2</th><th scope=col>mC_count_TS559_rep2</th><th scope=col>coverage_TS559_rep2</th><th scope=col>methylation_frequency_TS559_rep3</th><th scope=col>mC_count_TS559_rep3</th><th scope=col>coverage_TS559_rep3</th><th scope=col>reproducible</th></tr>\n",
       "\t<tr><th scope=col>&lt;fct&gt;</th><th scope=col>&lt;int&gt;</th><th scope=col>&lt;fct&gt;</th><th scope=col>&lt;chr&gt;</th><th scope=col>&lt;chr&gt;</th><th scope=col>&lt;dbl&gt;</th><th scope=col>&lt;int&gt;</th><th scope=col>&lt;int&gt;</th><th scope=col>&lt;dbl&gt;</th><th scope=col>&lt;int&gt;</th><th scope=col>&lt;int&gt;</th><th scope=col>&lt;dbl&gt;</th><th scope=col>&lt;int&gt;</th><th scope=col>&lt;int&gt;</th><th scope=col>&lt;lgl&gt;</th></tr>\n",
       "</thead>\n",
       "<tbody>\n",
       "\t<tr><td>TS559_Genomic_Sequence.seq</td><td> 3</td><td>G</td><td>exoponential</td><td>S</td><td>NA</td><td>NA</td><td>0</td><td>NA</td><td>NA</td><td> 0</td><td>0</td><td>0</td><td>  1</td><td>   NA</td></tr>\n",
       "\t<tr><td>TS559_Genomic_Sequence.seq</td><td> 6</td><td>C</td><td>exoponential</td><td>S</td><td> 0</td><td> 0</td><td>8</td><td> 0</td><td> 0</td><td>58</td><td>0</td><td>0</td><td>102</td><td>FALSE</td></tr>\n",
       "\t<tr><td>TS559_Genomic_Sequence.seq</td><td> 7</td><td>C</td><td>exoponential</td><td>S</td><td> 0</td><td> 0</td><td>8</td><td> 0</td><td> 0</td><td>58</td><td>0</td><td>0</td><td>108</td><td>FALSE</td></tr>\n",
       "\t<tr><td>TS559_Genomic_Sequence.seq</td><td> 9</td><td>C</td><td>exoponential</td><td>S</td><td> 0</td><td> 0</td><td>8</td><td> 0</td><td> 0</td><td>59</td><td>0</td><td>0</td><td>114</td><td>FALSE</td></tr>\n",
       "\t<tr><td>TS559_Genomic_Sequence.seq</td><td>10</td><td>G</td><td>exoponential</td><td>S</td><td>NA</td><td>NA</td><td>0</td><td>NA</td><td>NA</td><td> 0</td><td>0</td><td>0</td><td>  1</td><td>   NA</td></tr>\n",
       "\t<tr><td>TS559_Genomic_Sequence.seq</td><td>12</td><td>C</td><td>exoponential</td><td>S</td><td> 0</td><td> 0</td><td>8</td><td> 0</td><td> 0</td><td>60</td><td>0</td><td>0</td><td>116</td><td>FALSE</td></tr>\n",
       "</tbody>\n",
       "</table>\n"
      ],
      "text/latex": [
       "A rowwise\\_df: 6 × 15\n",
       "\\begin{tabular}{lllllllllllllll}\n",
       " chromosome & position & reference\\_nucleotide & growth\\_phase & metabolic\\_condition & methylation\\_frequency\\_TS559\\_rep1 & mC\\_count\\_TS559\\_rep1 & coverage\\_TS559\\_rep1 & methylation\\_frequency\\_TS559\\_rep2 & mC\\_count\\_TS559\\_rep2 & coverage\\_TS559\\_rep2 & methylation\\_frequency\\_TS559\\_rep3 & mC\\_count\\_TS559\\_rep3 & coverage\\_TS559\\_rep3 & reproducible\\\\\n",
       " <fct> & <int> & <fct> & <chr> & <chr> & <dbl> & <int> & <int> & <dbl> & <int> & <int> & <dbl> & <int> & <int> & <lgl>\\\\\n",
       "\\hline\n",
       "\t TS559\\_Genomic\\_Sequence.seq &  3 & G & exoponential & S & NA & NA & 0 & NA & NA &  0 & 0 & 0 &   1 &    NA\\\\\n",
       "\t TS559\\_Genomic\\_Sequence.seq &  6 & C & exoponential & S &  0 &  0 & 8 &  0 &  0 & 58 & 0 & 0 & 102 & FALSE\\\\\n",
       "\t TS559\\_Genomic\\_Sequence.seq &  7 & C & exoponential & S &  0 &  0 & 8 &  0 &  0 & 58 & 0 & 0 & 108 & FALSE\\\\\n",
       "\t TS559\\_Genomic\\_Sequence.seq &  9 & C & exoponential & S &  0 &  0 & 8 &  0 &  0 & 59 & 0 & 0 & 114 & FALSE\\\\\n",
       "\t TS559\\_Genomic\\_Sequence.seq & 10 & G & exoponential & S & NA & NA & 0 & NA & NA &  0 & 0 & 0 &   1 &    NA\\\\\n",
       "\t TS559\\_Genomic\\_Sequence.seq & 12 & C & exoponential & S &  0 &  0 & 8 &  0 &  0 & 60 & 0 & 0 & 116 & FALSE\\\\\n",
       "\\end{tabular}\n"
      ],
      "text/markdown": [
       "\n",
       "A rowwise_df: 6 × 15\n",
       "\n",
       "| chromosome &lt;fct&gt; | position &lt;int&gt; | reference_nucleotide &lt;fct&gt; | growth_phase &lt;chr&gt; | metabolic_condition &lt;chr&gt; | methylation_frequency_TS559_rep1 &lt;dbl&gt; | mC_count_TS559_rep1 &lt;int&gt; | coverage_TS559_rep1 &lt;int&gt; | methylation_frequency_TS559_rep2 &lt;dbl&gt; | mC_count_TS559_rep2 &lt;int&gt; | coverage_TS559_rep2 &lt;int&gt; | methylation_frequency_TS559_rep3 &lt;dbl&gt; | mC_count_TS559_rep3 &lt;int&gt; | coverage_TS559_rep3 &lt;int&gt; | reproducible &lt;lgl&gt; |\n",
       "|---|---|---|---|---|---|---|---|---|---|---|---|---|---|---|\n",
       "| TS559_Genomic_Sequence.seq |  3 | G | exoponential | S | NA | NA | 0 | NA | NA |  0 | 0 | 0 |   1 |    NA |\n",
       "| TS559_Genomic_Sequence.seq |  6 | C | exoponential | S |  0 |  0 | 8 |  0 |  0 | 58 | 0 | 0 | 102 | FALSE |\n",
       "| TS559_Genomic_Sequence.seq |  7 | C | exoponential | S |  0 |  0 | 8 |  0 |  0 | 58 | 0 | 0 | 108 | FALSE |\n",
       "| TS559_Genomic_Sequence.seq |  9 | C | exoponential | S |  0 |  0 | 8 |  0 |  0 | 59 | 0 | 0 | 114 | FALSE |\n",
       "| TS559_Genomic_Sequence.seq | 10 | G | exoponential | S | NA | NA | 0 | NA | NA |  0 | 0 | 0 |   1 |    NA |\n",
       "| TS559_Genomic_Sequence.seq | 12 | C | exoponential | S |  0 |  0 | 8 |  0 |  0 | 60 | 0 | 0 | 116 | FALSE |\n",
       "\n"
      ],
      "text/plain": [
       "  chromosome                 position reference_nucleotide growth_phase\n",
       "1 TS559_Genomic_Sequence.seq  3       G                    exoponential\n",
       "2 TS559_Genomic_Sequence.seq  6       C                    exoponential\n",
       "3 TS559_Genomic_Sequence.seq  7       C                    exoponential\n",
       "4 TS559_Genomic_Sequence.seq  9       C                    exoponential\n",
       "5 TS559_Genomic_Sequence.seq 10       G                    exoponential\n",
       "6 TS559_Genomic_Sequence.seq 12       C                    exoponential\n",
       "  metabolic_condition methylation_frequency_TS559_rep1 mC_count_TS559_rep1\n",
       "1 S                   NA                               NA                 \n",
       "2 S                    0                                0                 \n",
       "3 S                    0                                0                 \n",
       "4 S                    0                                0                 \n",
       "5 S                   NA                               NA                 \n",
       "6 S                    0                                0                 \n",
       "  coverage_TS559_rep1 methylation_frequency_TS559_rep2 mC_count_TS559_rep2\n",
       "1 0                   NA                               NA                 \n",
       "2 8                    0                                0                 \n",
       "3 8                    0                                0                 \n",
       "4 8                    0                                0                 \n",
       "5 0                   NA                               NA                 \n",
       "6 8                    0                                0                 \n",
       "  coverage_TS559_rep2 methylation_frequency_TS559_rep3 mC_count_TS559_rep3\n",
       "1  0                  0                                0                  \n",
       "2 58                  0                                0                  \n",
       "3 58                  0                                0                  \n",
       "4 59                  0                                0                  \n",
       "5  0                  0                                0                  \n",
       "6 60                  0                                0                  \n",
       "  coverage_TS559_rep3 reproducible\n",
       "1   1                    NA       \n",
       "2 102                 FALSE       \n",
       "3 108                 FALSE       \n",
       "4 114                 FALSE       \n",
       "5   1                    NA       \n",
       "6 116                 FALSE       "
      ]
     },
     "metadata": {},
     "output_type": "display_data"
    }
   ],
   "source": [
    "# TS559 --  control/parent strain\n",
    "\n",
    "TS559exoS_CGmap_rep1 <-load_cgmap(\"../cgmaps/TS559exoS_totalRNA_March2016.CGmap\",\n",
    "    strain=\"TS559\", growth_phase='exoponential', metabolic_condition=\"S\", replicate=\"rep1\") %>%\n",
    "    dplyr::rename(reference_nucleotide=base)\n",
    "\n",
    "TS559exoS_CGmap_rep2 <-load_cgmap(\"../cgmaps/TS559exoS_totalRNA_Dec2016.CGmap\", \n",
    "    strain=\"TS559\", growth_phase='exoponential', metabolic_condition=\"S\", replicate=\"rep2\")%>%\n",
    "    dplyr::rename(reference_nucleotide=base)\n",
    "\n",
    "TS559exoS_CGmap_rep3 <-load_cgmap(\"../cgmaps/TS559exoS_totalRNA_Oct2020.CGmap\",\n",
    "    strain=\"TS559\", growth_phase='exoponential', metabolic_condition=\"S\", replicate=\"rep3\")%>%\n",
    "    dplyr::rename(reference_nucleotide=base)\n",
    "   \n",
    "    \n",
    "TS559exoS_rep1_df <- processCGmap(TS559exoS_CGmap_rep1)\n",
    "TS559exoS_rep2_df <- processCGmap(TS559exoS_CGmap_rep2)\n",
    "TS559exoS_rep3_df <- processCGmap(TS559exoS_CGmap_rep3)\n",
    "\n",
    "\n",
    "m5C_count_e1 = 6\n",
    "m5C_count_e2 = 18\n",
    "m5C_count_e3 = 7\n",
    "m5C_count_s1 = 5\n",
    "m5C_count_s2 = 17\n",
    "m5C_count_s3 = 5\n",
    "\n",
    "TS559exoS_all <- merge(x=TS559exoS_rep1_df, y= TS559exoS_rep2_df, \n",
    "                   by=c(\"chromosome\",\"position\", 'reference_nucleotide', 'growth_phase','metabolic_condition'), \n",
    "                   all=TRUE) %>%\n",
    "            merge(y=TS559exoS_rep3_df, \n",
    "                   by=c(\"chromosome\",\"position\", 'reference_nucleotide', 'growth_phase','metabolic_condition'), \n",
    "                   all=TRUE) %>%\n",
    "            mutate(coverage_TS559_rep1 = replace_na(coverage_TS559_rep1,0)) %>%\n",
    "            mutate(coverage_TS559_rep2 = replace_na(coverage_TS559_rep2,0)) %>%\n",
    "            mutate(coverage_TS559_rep3 = replace_na(coverage_TS559_rep3,0)) %>%\n",
    "            rowwise()%>%\n",
    "            mutate(reproducible = detect_hiconf_3reps(\n",
    "                f1=methylation_frequency_TS559_rep1,\n",
    "                m1=mC_count_TS559_rep1,\n",
    "                p1=m5C_count_e1,\n",
    "                c1=coverage_TS559_rep1,\n",
    "                f2=methylation_frequency_TS559_rep2,\n",
    "                m2=mC_count_TS559_rep2,\n",
    "                p2=m5C_count_e2,\n",
    "                c2=coverage_TS559_rep2,\n",
    "                f3=methylation_frequency_TS559_rep3,\n",
    "                m3=mC_count_TS559_rep3,\n",
    "                p3=m5C_count_e3,\n",
    "                c3=coverage_TS559_rep3, \n",
    "                min_cov=47))\n",
    "\n",
    "head(TS559exoS_all)\n",
    "\n",
    "TS559exoS_cat <-TS559exoS_all %>%\n",
    "    dplyr::select(-chromosome, -metabolic_condition) %>%\n",
    "    dplyr::rename(TS559_position = position, TS559_hiconf = reproducible) %>%\n",
    "    dplyr::rename(freq_TS559_rep1 = methylation_frequency_TS559_rep1, freq_TS559_rep2 = methylation_frequency_TS559_rep2, \n",
    "                  freq_TS559_rep3=methylation_frequency_TS559_rep3) %>%\n",
    "    mutate('m5C_cov/total_cov_TS559_rep1' = paste(mC_count_TS559_rep1, '/', coverage_TS559_rep1) ) %>%\n",
    "    mutate('m5C_cov/total_cov_TS559_rep2' = paste(mC_count_TS559_rep2, '/', coverage_TS559_rep2) ) %>%\n",
    "    mutate('m5C_cov/total_cov_TS559_rep3' = paste(mC_count_TS559_rep3, '/', coverage_TS559_rep3) ) %>%\n",
    "    dplyr::select(-mC_count_TS559_rep1,-coverage_TS559_rep1,-mC_count_TS559_rep2, \n",
    "                  -coverage_TS559_rep2,-mC_count_TS559_rep3, -coverage_TS559_rep3) %>%\n",
    "    dplyr::select(\"TS559_position\",\"freq_TS559_rep1\", \n",
    "          \"m5C_cov/total_cov_TS559_rep1\",\"freq_TS559_rep2\",\"m5C_cov/total_cov_TS559_rep2\",\n",
    "           \"freq_TS559_rep3\",\"m5C_cov/total_cov_TS559_rep3\", 'TS559_hiconf'\n",
    "          )        \n",
    "\n",
    "Sys.sleep(10)\n"
   ]
  },
  {
   "cell_type": "code",
   "execution_count": 6,
   "metadata": {
    "scrolled": true
   },
   "outputs": [
    {
     "data": {
      "text/html": [
       "'quantiles:'"
      ],
      "text/latex": [
       "'quantiles:'"
      ],
      "text/markdown": [
       "'quantiles:'"
      ],
      "text/plain": [
       "[1] \"quantiles:\""
      ]
     },
     "metadata": {},
     "output_type": "display_data"
    },
    {
     "data": {
      "text/html": [
       "<style>\n",
       ".list-inline {list-style: none; margin:0; padding: 0}\n",
       ".list-inline>li {display: inline-block}\n",
       ".list-inline>li:not(:last-child)::after {content: \"\\00b7\"; padding: 0 .5ex}\n",
       "</style>\n",
       "<ol class=list-inline><li>6</li><li>5</li></ol>\n"
      ],
      "text/latex": [
       "\\begin{enumerate*}\n",
       "\\item 6\n",
       "\\item 5\n",
       "\\end{enumerate*}\n"
      ],
      "text/markdown": [
       "1. 6\n",
       "2. 5\n",
       "\n",
       "\n"
      ],
      "text/plain": [
       "[1] 6 5"
      ]
     },
     "metadata": {},
     "output_type": "display_data"
    },
    {
     "data": {
      "text/html": [
       "'losses &amp; gains:'"
      ],
      "text/latex": [
       "'losses \\& gains:'"
      ],
      "text/markdown": [
       "'losses &amp; gains:'"
      ],
      "text/plain": [
       "[1] \"losses & gains:\""
      ]
     },
     "metadata": {},
     "output_type": "display_data"
    },
    {
     "data": {
      "text/html": [
       "1"
      ],
      "text/latex": [
       "1"
      ],
      "text/markdown": [
       "1"
      ],
      "text/plain": [
       "[1] 1"
      ]
     },
     "metadata": {},
     "output_type": "display_data"
    },
    {
     "data": {
      "text/html": [
       "0"
      ],
      "text/latex": [
       "0"
      ],
      "text/markdown": [
       "0"
      ],
      "text/plain": [
       "[1] 0"
      ]
     },
     "metadata": {},
     "output_type": "display_data"
    },
    {
     "data": {
      "text/html": [
       "<table>\n",
       "<caption>A rowwise_df: 1 × 48</caption>\n",
       "<thead>\n",
       "\t<tr><th scope=col>TS559_position</th><th scope=col>KOD1_position</th><th scope=col>strand</th><th scope=col>growth_phase</th><th scope=col>metabolic_condition</th><th scope=col>methylation_frequency_TK2045_rep1</th><th scope=col>mC_count_TK2045_rep1</th><th scope=col>coverage_TK2045_rep1</th><th scope=col>methylation_frequency_TK2045_rep2</th><th scope=col>mC_count_TK2045_rep2</th><th scope=col>⋯</th><th scope=col>amino_acid_sequence</th><th scope=col>amino_acid_ID</th><th scope=col>local_41bp_predicted_fold</th><th scope=col>m5C_position_fold</th><th scope=col>MFA</th><th scope=col>associated_TSS_id</th><th scope=col>TSS_direction</th><th scope=col>TSS_description</th><th scope=col>total_annotations</th><th scope=col>alternate_annotations</th></tr>\n",
       "\t<tr><th scope=col>&lt;int&gt;</th><th scope=col>&lt;fct&gt;</th><th scope=col>&lt;fct&gt;</th><th scope=col>&lt;chr&gt;</th><th scope=col>&lt;chr&gt;</th><th scope=col>&lt;dbl&gt;</th><th scope=col>&lt;int&gt;</th><th scope=col>&lt;int&gt;</th><th scope=col>&lt;dbl&gt;</th><th scope=col>&lt;int&gt;</th><th scope=col>⋯</th><th scope=col>&lt;fct&gt;</th><th scope=col>&lt;fct&gt;</th><th scope=col>&lt;fct&gt;</th><th scope=col>&lt;fct&gt;</th><th scope=col>&lt;fct&gt;</th><th scope=col>&lt;fct&gt;</th><th scope=col>&lt;fct&gt;</th><th scope=col>&lt;fct&gt;</th><th scope=col>&lt;int&gt;</th><th scope=col>&lt;fct&gt;</th></tr>\n",
       "</thead>\n",
       "<tbody>\n",
       "\t<tr><td>2022790</td><td>2023781</td><td>+</td><td>exoponential</td><td>S</td><td>0</td><td>5</td><td>2927</td><td>0</td><td>2</td><td>⋯</td><td>.</td><td>.</td><td>...)...)))).....(((......((((((((.((((((</td><td>single_stranded</td><td>-224.51</td><td>.</td><td>.</td><td>.</td><td>1</td><td>NA</td></tr>\n",
       "</tbody>\n",
       "</table>\n"
      ],
      "text/latex": [
       "A rowwise\\_df: 1 × 48\n",
       "\\begin{tabular}{lllllllllllllllllllll}\n",
       " TS559\\_position & KOD1\\_position & strand & growth\\_phase & metabolic\\_condition & methylation\\_frequency\\_TK2045\\_rep1 & mC\\_count\\_TK2045\\_rep1 & coverage\\_TK2045\\_rep1 & methylation\\_frequency\\_TK2045\\_rep2 & mC\\_count\\_TK2045\\_rep2 & ⋯ & amino\\_acid\\_sequence & amino\\_acid\\_ID & local\\_41bp\\_predicted\\_fold & m5C\\_position\\_fold & MFA & associated\\_TSS\\_id & TSS\\_direction & TSS\\_description & total\\_annotations & alternate\\_annotations\\\\\n",
       " <int> & <fct> & <fct> & <chr> & <chr> & <dbl> & <int> & <int> & <dbl> & <int> & ⋯ & <fct> & <fct> & <fct> & <fct> & <fct> & <fct> & <fct> & <fct> & <int> & <fct>\\\\\n",
       "\\hline\n",
       "\t 2022790 & 2023781 & + & exoponential & S & 0 & 5 & 2927 & 0 & 2 & ⋯ & . & . & ...)...)))).....(((......((((((((.(((((( & single\\_stranded & -224.51 & . & . & . & 1 & NA\\\\\n",
       "\\end{tabular}\n"
      ],
      "text/markdown": [
       "\n",
       "A rowwise_df: 1 × 48\n",
       "\n",
       "| TS559_position &lt;int&gt; | KOD1_position &lt;fct&gt; | strand &lt;fct&gt; | growth_phase &lt;chr&gt; | metabolic_condition &lt;chr&gt; | methylation_frequency_TK2045_rep1 &lt;dbl&gt; | mC_count_TK2045_rep1 &lt;int&gt; | coverage_TK2045_rep1 &lt;int&gt; | methylation_frequency_TK2045_rep2 &lt;dbl&gt; | mC_count_TK2045_rep2 &lt;int&gt; | ⋯ ⋯ | amino_acid_sequence &lt;fct&gt; | amino_acid_ID &lt;fct&gt; | local_41bp_predicted_fold &lt;fct&gt; | m5C_position_fold &lt;fct&gt; | MFA &lt;fct&gt; | associated_TSS_id &lt;fct&gt; | TSS_direction &lt;fct&gt; | TSS_description &lt;fct&gt; | total_annotations &lt;int&gt; | alternate_annotations &lt;fct&gt; |\n",
       "|---|---|---|---|---|---|---|---|---|---|---|---|---|---|---|---|---|---|---|---|---|\n",
       "| 2022790 | 2023781 | + | exoponential | S | 0 | 5 | 2927 | 0 | 2 | ⋯ | . | . | ...)...)))).....(((......((((((((.(((((( | single_stranded | -224.51 | . | . | . | 1 | NA |\n",
       "\n"
      ],
      "text/plain": [
       "  TS559_position KOD1_position strand growth_phase metabolic_condition\n",
       "1 2022790        2023781       +      exoponential S                  \n",
       "  methylation_frequency_TK2045_rep1 mC_count_TK2045_rep1 coverage_TK2045_rep1\n",
       "1 0                                 5                    2927                \n",
       "  methylation_frequency_TK2045_rep2 mC_count_TK2045_rep2 ⋯ amino_acid_sequence\n",
       "1 0                                 2                    ⋯ .                  \n",
       "  amino_acid_ID local_41bp_predicted_fold                m5C_position_fold\n",
       "1 .             ...)...)))).....(((......((((((((.(((((( single_stranded  \n",
       "  MFA     associated_TSS_id TSS_direction TSS_description total_annotations\n",
       "1 -224.51 .                 .             .               1                \n",
       "  alternate_annotations\n",
       "1 NA                   "
      ]
     },
     "metadata": {},
     "output_type": "display_data"
    }
   ],
   "source": [
    "###strain TK2045\n",
    "\n",
    "defaultW <- getOption(\"warn\")\n",
    "options(warn = -1)\n",
    "\n",
    "\n",
    "#load CGmaps into session\n",
    "TK2045exoS_CGmap_rep1 <-read.delim(\"../cgmaps/TK2045exoS_totalRNA_Dec2016.CGmap\", sep='\\t', header=FALSE,col.names=cols) %>%\n",
    "    mutate(strain=\"TK2045\", growth_phase='exoponential', metabolic_condition=\"S\", replicate=\"rep1\")\n",
    "\n",
    "TK2045exoS_CGmap_rep2 <-read.delim(\"../cgmaps/TK2045exoS_totalRNA_Oct2020.CGmap\", sep='\\t', header=FALSE,col.names=cols) %>%\n",
    "    mutate(strain=\"TK2045\", growth_phase='exoponential', metabolic_condition=\"S\", replicate=\"rep2\")\n",
    "\n",
    "# process raw CGmaps\n",
    "TK2045exoS_rep1_df <- processCGmap(TK2045exoS_CGmap_rep1)\n",
    "TK2045exoS_rep2_df <- processCGmap(TK2045exoS_CGmap_rep2)\n",
    "\n",
    "#merge reps\n",
    "TK2045exoS <- merge_del_reps(x=TK2045exoS_rep1_df, y=TK2045exoS_rep2_df, strain='TK2045')\n",
    "\n",
    "# get quantiles\n",
    "\"quantiles:\"\n",
    "get_quantiles(strain_cgmap = TK2045exoS, strain=\"TK2045\", min_cov = 47)\n",
    "\n",
    "#compare methylation frequencies & annotate\n",
    "TK2045exoS_anal <- CompareCGmap(strain_cgmap = TK2045exoS, \n",
    "                                TS559_cgmap = TS559exoS, \n",
    "                                strain=\"TK2045\", \n",
    "                                annotation = annotation,\n",
    "                                min_cov = 47)\n",
    "\n",
    "#write.table(TK2045exoS_anal, file = \"../processed_cgmaps/TK2045exoS_annotated\", sep = \"\\t\", row.names = F)\n",
    "\n",
    "#enumerate gains & losses\n",
    "\"losses & gains:\"\n",
    "nrow( TK2045exoS_anal %>% filter(log2FC < 0) )\n",
    "nrow( TK2045exoS_anal %>% filter(log2FC > 0) )\n",
    "\n",
    "head(TK2045exoS_anal)\n",
    "\n",
    "TK2045exoS_cat <- enumerate_hiconf_2reps(strain_cgmap = TK2045exoS, strain=\"TK2045\",min_cov = 47)\n",
    "\n",
    "Sys.sleep(10)\n"
   ]
  },
  {
   "cell_type": "code",
   "execution_count": 7,
   "metadata": {},
   "outputs": [
    {
     "data": {
      "text/html": [
       "'quantiles:'"
      ],
      "text/latex": [
       "'quantiles:'"
      ],
      "text/markdown": [
       "'quantiles:'"
      ],
      "text/plain": [
       "[1] \"quantiles:\""
      ]
     },
     "metadata": {},
     "output_type": "display_data"
    },
    {
     "data": {
      "text/html": [
       "<style>\n",
       ".list-inline {list-style: none; margin:0; padding: 0}\n",
       ".list-inline>li {display: inline-block}\n",
       ".list-inline>li:not(:last-child)::after {content: \"\\00b7\"; padding: 0 .5ex}\n",
       "</style>\n",
       "<ol class=list-inline><li>2</li><li>8</li></ol>\n"
      ],
      "text/latex": [
       "\\begin{enumerate*}\n",
       "\\item 2\n",
       "\\item 8\n",
       "\\end{enumerate*}\n"
      ],
      "text/markdown": [
       "1. 2\n",
       "2. 8\n",
       "\n",
       "\n"
      ],
      "text/plain": [
       "[1] 2 8"
      ]
     },
     "metadata": {},
     "output_type": "display_data"
    },
    {
     "data": {
      "text/html": [
       "'losses &amp; gains:'"
      ],
      "text/latex": [
       "'losses \\& gains:'"
      ],
      "text/markdown": [
       "'losses &amp; gains:'"
      ],
      "text/plain": [
       "[1] \"losses & gains:\""
      ]
     },
     "metadata": {},
     "output_type": "display_data"
    },
    {
     "data": {
      "text/html": [
       "5"
      ],
      "text/latex": [
       "5"
      ],
      "text/markdown": [
       "5"
      ],
      "text/plain": [
       "[1] 5"
      ]
     },
     "metadata": {},
     "output_type": "display_data"
    },
    {
     "data": {
      "text/html": [
       "0"
      ],
      "text/latex": [
       "0"
      ],
      "text/markdown": [
       "0"
      ],
      "text/plain": [
       "[1] 0"
      ]
     },
     "metadata": {},
     "output_type": "display_data"
    },
    {
     "data": {
      "text/html": [
       "<table>\n",
       "<caption>A rowwise_df: 5 × 48</caption>\n",
       "<thead>\n",
       "\t<tr><th scope=col>TS559_position</th><th scope=col>KOD1_position</th><th scope=col>strand</th><th scope=col>growth_phase</th><th scope=col>metabolic_condition</th><th scope=col>methylation_frequency_TK0008_rep1</th><th scope=col>mC_count_TK0008_rep1</th><th scope=col>coverage_TK0008_rep1</th><th scope=col>methylation_frequency_TK0008_rep2</th><th scope=col>mC_count_TK0008_rep2</th><th scope=col>⋯</th><th scope=col>amino_acid_sequence</th><th scope=col>amino_acid_ID</th><th scope=col>local_41bp_predicted_fold</th><th scope=col>m5C_position_fold</th><th scope=col>MFA</th><th scope=col>associated_TSS_id</th><th scope=col>TSS_direction</th><th scope=col>TSS_description</th><th scope=col>total_annotations</th><th scope=col>alternate_annotations</th></tr>\n",
       "\t<tr><th scope=col>&lt;int&gt;</th><th scope=col>&lt;fct&gt;</th><th scope=col>&lt;fct&gt;</th><th scope=col>&lt;chr&gt;</th><th scope=col>&lt;chr&gt;</th><th scope=col>&lt;dbl&gt;</th><th scope=col>&lt;int&gt;</th><th scope=col>&lt;int&gt;</th><th scope=col>&lt;dbl&gt;</th><th scope=col>&lt;int&gt;</th><th scope=col>⋯</th><th scope=col>&lt;fct&gt;</th><th scope=col>&lt;fct&gt;</th><th scope=col>&lt;fct&gt;</th><th scope=col>&lt;fct&gt;</th><th scope=col>&lt;fct&gt;</th><th scope=col>&lt;fct&gt;</th><th scope=col>&lt;fct&gt;</th><th scope=col>&lt;fct&gt;</th><th scope=col>&lt;int&gt;</th><th scope=col>&lt;fct&gt;</th></tr>\n",
       "</thead>\n",
       "<tbody>\n",
       "\t<tr><td>1581731</td><td>1582722</td><td>+</td><td>exoponential</td><td>S</td><td>0.10</td><td>20</td><td>192</td><td>0.12</td><td>33</td><td>⋯</td><td>CGA</td><td>R</td><td>...))))).)..))).)))((((((...............</td><td>base_paired    </td><td>-68.77</td><td>.</td><td>.</td><td>.</td><td>1</td><td>NA</td></tr>\n",
       "\t<tr><td>1532116</td><td>1533107</td><td>+</td><td>exoponential</td><td>S</td><td>0.04</td><td> 6</td><td>148</td><td>0.01</td><td> 3</td><td>⋯</td><td>CGA</td><td>R</td><td>...........))))))))..))))))).......)))))</td><td>single_stranded</td><td>-280.6</td><td>.</td><td>.</td><td>.</td><td>1</td><td>NA</td></tr>\n",
       "\t<tr><td>1101098</td><td>1102089</td><td>-</td><td>exoponential</td><td>S</td><td>0.08</td><td> 7</td><td> 85</td><td>0.10</td><td>23</td><td>⋯</td><td>CCC</td><td>P</td><td>......)))))))).....((((...........))))..</td><td>base_paired    </td><td>-14.43</td><td>.</td><td>.</td><td>.</td><td>1</td><td>NA</td></tr>\n",
       "\t<tr><td>1023490</td><td>1024481</td><td>-</td><td>exoponential</td><td>S</td><td>0.06</td><td> 3</td><td> 48</td><td>0.08</td><td>15</td><td>⋯</td><td>CAG</td><td>Q</td><td>((................((((.(((............))</td><td>base_paired    </td><td>-53.21</td><td>.</td><td>.</td><td>.</td><td>1</td><td>NA</td></tr>\n",
       "\t<tr><td> 407179</td><td>408170 </td><td>+</td><td>exoponential</td><td>S</td><td>0.02</td><td> 5</td><td>237</td><td>0.02</td><td>13</td><td>⋯</td><td>TCC</td><td>S</td><td>))........))))))))).....................</td><td>single_stranded</td><td>-35.82</td><td>.</td><td>.</td><td>.</td><td>1</td><td>NA</td></tr>\n",
       "</tbody>\n",
       "</table>\n"
      ],
      "text/latex": [
       "A rowwise\\_df: 5 × 48\n",
       "\\begin{tabular}{lllllllllllllllllllll}\n",
       " TS559\\_position & KOD1\\_position & strand & growth\\_phase & metabolic\\_condition & methylation\\_frequency\\_TK0008\\_rep1 & mC\\_count\\_TK0008\\_rep1 & coverage\\_TK0008\\_rep1 & methylation\\_frequency\\_TK0008\\_rep2 & mC\\_count\\_TK0008\\_rep2 & ⋯ & amino\\_acid\\_sequence & amino\\_acid\\_ID & local\\_41bp\\_predicted\\_fold & m5C\\_position\\_fold & MFA & associated\\_TSS\\_id & TSS\\_direction & TSS\\_description & total\\_annotations & alternate\\_annotations\\\\\n",
       " <int> & <fct> & <fct> & <chr> & <chr> & <dbl> & <int> & <int> & <dbl> & <int> & ⋯ & <fct> & <fct> & <fct> & <fct> & <fct> & <fct> & <fct> & <fct> & <int> & <fct>\\\\\n",
       "\\hline\n",
       "\t 1581731 & 1582722 & + & exoponential & S & 0.10 & 20 & 192 & 0.12 & 33 & ⋯ & CGA & R & ...))))).)..))).)))((((((............... & base\\_paired     & -68.77 & . & . & . & 1 & NA\\\\\n",
       "\t 1532116 & 1533107 & + & exoponential & S & 0.04 &  6 & 148 & 0.01 &  3 & ⋯ & CGA & R & ...........))))))))..))))))).......))))) & single\\_stranded & -280.6 & . & . & . & 1 & NA\\\\\n",
       "\t 1101098 & 1102089 & - & exoponential & S & 0.08 &  7 &  85 & 0.10 & 23 & ⋯ & CCC & P & ......)))))))).....((((...........)))).. & base\\_paired     & -14.43 & . & . & . & 1 & NA\\\\\n",
       "\t 1023490 & 1024481 & - & exoponential & S & 0.06 &  3 &  48 & 0.08 & 15 & ⋯ & CAG & Q & ((................((((.(((............)) & base\\_paired     & -53.21 & . & . & . & 1 & NA\\\\\n",
       "\t  407179 & 408170  & + & exoponential & S & 0.02 &  5 & 237 & 0.02 & 13 & ⋯ & TCC & S & ))........)))))))))..................... & single\\_stranded & -35.82 & . & . & . & 1 & NA\\\\\n",
       "\\end{tabular}\n"
      ],
      "text/markdown": [
       "\n",
       "A rowwise_df: 5 × 48\n",
       "\n",
       "| TS559_position &lt;int&gt; | KOD1_position &lt;fct&gt; | strand &lt;fct&gt; | growth_phase &lt;chr&gt; | metabolic_condition &lt;chr&gt; | methylation_frequency_TK0008_rep1 &lt;dbl&gt; | mC_count_TK0008_rep1 &lt;int&gt; | coverage_TK0008_rep1 &lt;int&gt; | methylation_frequency_TK0008_rep2 &lt;dbl&gt; | mC_count_TK0008_rep2 &lt;int&gt; | ⋯ ⋯ | amino_acid_sequence &lt;fct&gt; | amino_acid_ID &lt;fct&gt; | local_41bp_predicted_fold &lt;fct&gt; | m5C_position_fold &lt;fct&gt; | MFA &lt;fct&gt; | associated_TSS_id &lt;fct&gt; | TSS_direction &lt;fct&gt; | TSS_description &lt;fct&gt; | total_annotations &lt;int&gt; | alternate_annotations &lt;fct&gt; |\n",
       "|---|---|---|---|---|---|---|---|---|---|---|---|---|---|---|---|---|---|---|---|---|\n",
       "| 1581731 | 1582722 | + | exoponential | S | 0.10 | 20 | 192 | 0.12 | 33 | ⋯ | CGA | R | ...))))).)..))).)))((((((............... | base_paired     | -68.77 | . | . | . | 1 | NA |\n",
       "| 1532116 | 1533107 | + | exoponential | S | 0.04 |  6 | 148 | 0.01 |  3 | ⋯ | CGA | R | ...........))))))))..))))))).......))))) | single_stranded | -280.6 | . | . | . | 1 | NA |\n",
       "| 1101098 | 1102089 | - | exoponential | S | 0.08 |  7 |  85 | 0.10 | 23 | ⋯ | CCC | P | ......)))))))).....((((...........)))).. | base_paired     | -14.43 | . | . | . | 1 | NA |\n",
       "| 1023490 | 1024481 | - | exoponential | S | 0.06 |  3 |  48 | 0.08 | 15 | ⋯ | CAG | Q | ((................((((.(((............)) | base_paired     | -53.21 | . | . | . | 1 | NA |\n",
       "|  407179 | 408170  | + | exoponential | S | 0.02 |  5 | 237 | 0.02 | 13 | ⋯ | TCC | S | ))........)))))))))..................... | single_stranded | -35.82 | . | . | . | 1 | NA |\n",
       "\n"
      ],
      "text/plain": [
       "  TS559_position KOD1_position strand growth_phase metabolic_condition\n",
       "1 1581731        1582722       +      exoponential S                  \n",
       "2 1532116        1533107       +      exoponential S                  \n",
       "3 1101098        1102089       -      exoponential S                  \n",
       "4 1023490        1024481       -      exoponential S                  \n",
       "5  407179        408170        +      exoponential S                  \n",
       "  methylation_frequency_TK0008_rep1 mC_count_TK0008_rep1 coverage_TK0008_rep1\n",
       "1 0.10                              20                   192                 \n",
       "2 0.04                               6                   148                 \n",
       "3 0.08                               7                    85                 \n",
       "4 0.06                               3                    48                 \n",
       "5 0.02                               5                   237                 \n",
       "  methylation_frequency_TK0008_rep2 mC_count_TK0008_rep2 ⋯ amino_acid_sequence\n",
       "1 0.12                              33                   ⋯ CGA                \n",
       "2 0.01                               3                   ⋯ CGA                \n",
       "3 0.10                              23                   ⋯ CCC                \n",
       "4 0.08                              15                   ⋯ CAG                \n",
       "5 0.02                              13                   ⋯ TCC                \n",
       "  amino_acid_ID local_41bp_predicted_fold                m5C_position_fold\n",
       "1 R             ...))))).)..))).)))((((((............... base_paired      \n",
       "2 R             ...........))))))))..))))))).......))))) single_stranded  \n",
       "3 P             ......)))))))).....((((...........)))).. base_paired      \n",
       "4 Q             ((................((((.(((............)) base_paired      \n",
       "5 S             ))........)))))))))..................... single_stranded  \n",
       "  MFA    associated_TSS_id TSS_direction TSS_description total_annotations\n",
       "1 -68.77 .                 .             .               1                \n",
       "2 -280.6 .                 .             .               1                \n",
       "3 -14.43 .                 .             .               1                \n",
       "4 -53.21 .                 .             .               1                \n",
       "5 -35.82 .                 .             .               1                \n",
       "  alternate_annotations\n",
       "1 NA                   \n",
       "2 NA                   \n",
       "3 NA                   \n",
       "4 NA                   \n",
       "5 NA                   "
      ]
     },
     "metadata": {},
     "output_type": "display_data"
    }
   ],
   "source": [
    "###strain TK0008\n",
    "\n",
    "defaultW <- getOption(\"warn\")\n",
    "options(warn = -1)\n",
    "\n",
    "\n",
    "#load CGmaps into session\n",
    "TK0008exoS_CGmap_rep1 <-read.delim(\"../cgmaps/TK0008exoS_totalRNA_Dec2016.CGmap\", sep='\\t', header=FALSE,col.names=cols) %>%\n",
    "    mutate(strain=\"TK0008\", growth_phase='exoponential', metabolic_condition=\"S\", replicate=\"rep1\")\n",
    "\n",
    "TK0008exoS_CGmap_rep2 <-read.delim(\"../cgmaps/TK0008_exoS_totalRNA_rep2.CGmap\", sep='\\t', header=FALSE,col.names=cols) %>%\n",
    "    mutate(strain=\"TK0008\", growth_phase='exoponential', metabolic_condition=\"S\", replicate=\"rep2\")\n",
    "\n",
    "# process raw CGmaps\n",
    "TK0008exoS_rep1_df <- processCGmap(TK0008exoS_CGmap_rep1)\n",
    "TK0008exoS_rep2_df <- processCGmap(TK0008exoS_CGmap_rep2)\n",
    "\n",
    "#merge reps\n",
    "TK0008exoS <- merge_del_reps(x=TK0008exoS_rep1_df, y=TK0008exoS_rep2_df, strain='TK0008')\n",
    "\n",
    "# get quantiles\n",
    "\"quantiles:\"\n",
    "get_quantiles(strain_cgmap = TK0008exoS, strain=\"TK0008\", min_cov = 47)\n",
    "\n",
    "#compare methylation frequencies & annotate\n",
    "TK0008exoS_anal <- CompareCGmap(strain_cgmap = TK0008exoS, \n",
    "                                TS559_cgmap = TS559exoS, \n",
    "                                strain=\"TK0008\", \n",
    "                                annotation = annotation,\n",
    "                                min_cov = 47)\n",
    "\n",
    "#write.table(TK0008exoS_anal, file = \"../processed_cgmaps/TK0008exoS_annotated\", sep = \"\\t\", row.names = F)\n",
    "\n",
    "#enumerate gains & losses\n",
    "\"losses & gains:\"\n",
    "nrow( TK0008exoS_anal %>% filter(log2FC < 0) )\n",
    "nrow( TK0008exoS_anal %>% filter(log2FC > 0) )\n",
    "\n",
    "head(TK0008exoS_anal)\n",
    "\n",
    "TK0008exoS_cat <- enumerate_hiconf_2reps(strain_cgmap = TK0008exoS, strain=\"TK0008\",min_cov = 47)\n",
    "\n",
    "Sys.sleep(10)\n"
   ]
  },
  {
   "cell_type": "code",
   "execution_count": 8,
   "metadata": {},
   "outputs": [
    {
     "data": {
      "text/html": [
       "'quantiles:'"
      ],
      "text/latex": [
       "'quantiles:'"
      ],
      "text/markdown": [
       "'quantiles:'"
      ],
      "text/plain": [
       "[1] \"quantiles:\""
      ]
     },
     "metadata": {},
     "output_type": "display_data"
    },
    {
     "data": {
      "text/html": [
       "<style>\n",
       ".list-inline {list-style: none; margin:0; padding: 0}\n",
       ".list-inline>li {display: inline-block}\n",
       ".list-inline>li:not(:last-child)::after {content: \"\\00b7\"; padding: 0 .5ex}\n",
       "</style>\n",
       "<ol class=list-inline><li>6</li><li>9</li></ol>\n"
      ],
      "text/latex": [
       "\\begin{enumerate*}\n",
       "\\item 6\n",
       "\\item 9\n",
       "\\end{enumerate*}\n"
      ],
      "text/markdown": [
       "1. 6\n",
       "2. 9\n",
       "\n",
       "\n"
      ],
      "text/plain": [
       "[1] 6 9"
      ]
     },
     "metadata": {},
     "output_type": "display_data"
    },
    {
     "data": {
      "text/html": [
       "'losses &amp; gains:'"
      ],
      "text/latex": [
       "'losses \\& gains:'"
      ],
      "text/markdown": [
       "'losses &amp; gains:'"
      ],
      "text/plain": [
       "[1] \"losses & gains:\""
      ]
     },
     "metadata": {},
     "output_type": "display_data"
    },
    {
     "data": {
      "text/html": [
       "0"
      ],
      "text/latex": [
       "0"
      ],
      "text/markdown": [
       "0"
      ],
      "text/plain": [
       "[1] 0"
      ]
     },
     "metadata": {},
     "output_type": "display_data"
    },
    {
     "data": {
      "text/html": [
       "3"
      ],
      "text/latex": [
       "3"
      ],
      "text/markdown": [
       "3"
      ],
      "text/plain": [
       "[1] 3"
      ]
     },
     "metadata": {},
     "output_type": "display_data"
    },
    {
     "data": {
      "text/html": [
       "<table>\n",
       "<caption>A rowwise_df: 3 × 48</caption>\n",
       "<thead>\n",
       "\t<tr><th scope=col>TS559_position</th><th scope=col>KOD1_position</th><th scope=col>strand</th><th scope=col>growth_phase</th><th scope=col>metabolic_condition</th><th scope=col>methylation_frequency_TK0224_rep1</th><th scope=col>mC_count_TK0224_rep1</th><th scope=col>coverage_TK0224_rep1</th><th scope=col>methylation_frequency_TK0224_rep2</th><th scope=col>mC_count_TK0224_rep2</th><th scope=col>⋯</th><th scope=col>amino_acid_sequence</th><th scope=col>amino_acid_ID</th><th scope=col>local_41bp_predicted_fold</th><th scope=col>m5C_position_fold</th><th scope=col>MFA</th><th scope=col>associated_TSS_id</th><th scope=col>TSS_direction</th><th scope=col>TSS_description</th><th scope=col>total_annotations</th><th scope=col>alternate_annotations</th></tr>\n",
       "\t<tr><th scope=col>&lt;int&gt;</th><th scope=col>&lt;fct&gt;</th><th scope=col>&lt;fct&gt;</th><th scope=col>&lt;chr&gt;</th><th scope=col>&lt;chr&gt;</th><th scope=col>&lt;dbl&gt;</th><th scope=col>&lt;int&gt;</th><th scope=col>&lt;int&gt;</th><th scope=col>&lt;dbl&gt;</th><th scope=col>&lt;int&gt;</th><th scope=col>⋯</th><th scope=col>&lt;fct&gt;</th><th scope=col>&lt;fct&gt;</th><th scope=col>&lt;fct&gt;</th><th scope=col>&lt;fct&gt;</th><th scope=col>&lt;fct&gt;</th><th scope=col>&lt;fct&gt;</th><th scope=col>&lt;fct&gt;</th><th scope=col>&lt;fct&gt;</th><th scope=col>&lt;int&gt;</th><th scope=col>&lt;fct&gt;</th></tr>\n",
       "</thead>\n",
       "<tbody>\n",
       "\t<tr><td>1058377</td><td>1059368</td><td>-</td><td>exoponential</td><td>S</td><td>0.10</td><td>4</td><td>39</td><td>0.10</td><td>60</td><td>⋯</td><td>ACC</td><td>T</td><td>))..........)..))))..))))))...))).......</td><td>single_stranded</td><td>-24.83</td><td>.</td><td>.</td><td>.</td><td>1</td><td>NA</td></tr>\n",
       "\t<tr><td> 463632</td><td>464623 </td><td>-</td><td>exoponential</td><td>S</td><td>0.08</td><td>2</td><td>24</td><td>0.10</td><td>46</td><td>⋯</td><td>ACC</td><td>T</td><td>)))))...............))))......(..(((..((</td><td>base_paired    </td><td>-28.35</td><td>.</td><td>.</td><td>.</td><td>1</td><td>NA</td></tr>\n",
       "\t<tr><td> 421890</td><td>422881 </td><td>-</td><td>exoponential</td><td>S</td><td>0.08</td><td>1</td><td>13</td><td>0.11</td><td>18</td><td>⋯</td><td>.  </td><td>.</td><td>.                                       </td><td>NA             </td><td>.     </td><td>.</td><td>.</td><td>.</td><td>1</td><td>NA</td></tr>\n",
       "</tbody>\n",
       "</table>\n"
      ],
      "text/latex": [
       "A rowwise\\_df: 3 × 48\n",
       "\\begin{tabular}{lllllllllllllllllllll}\n",
       " TS559\\_position & KOD1\\_position & strand & growth\\_phase & metabolic\\_condition & methylation\\_frequency\\_TK0224\\_rep1 & mC\\_count\\_TK0224\\_rep1 & coverage\\_TK0224\\_rep1 & methylation\\_frequency\\_TK0224\\_rep2 & mC\\_count\\_TK0224\\_rep2 & ⋯ & amino\\_acid\\_sequence & amino\\_acid\\_ID & local\\_41bp\\_predicted\\_fold & m5C\\_position\\_fold & MFA & associated\\_TSS\\_id & TSS\\_direction & TSS\\_description & total\\_annotations & alternate\\_annotations\\\\\n",
       " <int> & <fct> & <fct> & <chr> & <chr> & <dbl> & <int> & <int> & <dbl> & <int> & ⋯ & <fct> & <fct> & <fct> & <fct> & <fct> & <fct> & <fct> & <fct> & <int> & <fct>\\\\\n",
       "\\hline\n",
       "\t 1058377 & 1059368 & - & exoponential & S & 0.10 & 4 & 39 & 0.10 & 60 & ⋯ & ACC & T & ))..........)..))))..))))))...)))....... & single\\_stranded & -24.83 & . & . & . & 1 & NA\\\\\n",
       "\t  463632 & 464623  & - & exoponential & S & 0.08 & 2 & 24 & 0.10 & 46 & ⋯ & ACC & T & )))))...............))))......(..(((..(( & base\\_paired     & -28.35 & . & . & . & 1 & NA\\\\\n",
       "\t  421890 & 422881  & - & exoponential & S & 0.08 & 1 & 13 & 0.11 & 18 & ⋯ & .   & . & .                                        & NA              & .      & . & . & . & 1 & NA\\\\\n",
       "\\end{tabular}\n"
      ],
      "text/markdown": [
       "\n",
       "A rowwise_df: 3 × 48\n",
       "\n",
       "| TS559_position &lt;int&gt; | KOD1_position &lt;fct&gt; | strand &lt;fct&gt; | growth_phase &lt;chr&gt; | metabolic_condition &lt;chr&gt; | methylation_frequency_TK0224_rep1 &lt;dbl&gt; | mC_count_TK0224_rep1 &lt;int&gt; | coverage_TK0224_rep1 &lt;int&gt; | methylation_frequency_TK0224_rep2 &lt;dbl&gt; | mC_count_TK0224_rep2 &lt;int&gt; | ⋯ ⋯ | amino_acid_sequence &lt;fct&gt; | amino_acid_ID &lt;fct&gt; | local_41bp_predicted_fold &lt;fct&gt; | m5C_position_fold &lt;fct&gt; | MFA &lt;fct&gt; | associated_TSS_id &lt;fct&gt; | TSS_direction &lt;fct&gt; | TSS_description &lt;fct&gt; | total_annotations &lt;int&gt; | alternate_annotations &lt;fct&gt; |\n",
       "|---|---|---|---|---|---|---|---|---|---|---|---|---|---|---|---|---|---|---|---|---|\n",
       "| 1058377 | 1059368 | - | exoponential | S | 0.10 | 4 | 39 | 0.10 | 60 | ⋯ | ACC | T | ))..........)..))))..))))))...)))....... | single_stranded | -24.83 | . | . | . | 1 | NA |\n",
       "|  463632 | 464623  | - | exoponential | S | 0.08 | 2 | 24 | 0.10 | 46 | ⋯ | ACC | T | )))))...............))))......(..(((..(( | base_paired     | -28.35 | . | . | . | 1 | NA |\n",
       "|  421890 | 422881  | - | exoponential | S | 0.08 | 1 | 13 | 0.11 | 18 | ⋯ | .   | . | .                                        | NA              | .      | . | . | . | 1 | NA |\n",
       "\n"
      ],
      "text/plain": [
       "  TS559_position KOD1_position strand growth_phase metabolic_condition\n",
       "1 1058377        1059368       -      exoponential S                  \n",
       "2  463632        464623        -      exoponential S                  \n",
       "3  421890        422881        -      exoponential S                  \n",
       "  methylation_frequency_TK0224_rep1 mC_count_TK0224_rep1 coverage_TK0224_rep1\n",
       "1 0.10                              4                    39                  \n",
       "2 0.08                              2                    24                  \n",
       "3 0.08                              1                    13                  \n",
       "  methylation_frequency_TK0224_rep2 mC_count_TK0224_rep2 ⋯ amino_acid_sequence\n",
       "1 0.10                              60                   ⋯ ACC                \n",
       "2 0.10                              46                   ⋯ ACC                \n",
       "3 0.11                              18                   ⋯ .                  \n",
       "  amino_acid_ID local_41bp_predicted_fold                m5C_position_fold\n",
       "1 T             ))..........)..))))..))))))...)))....... single_stranded  \n",
       "2 T             )))))...............))))......(..(((..(( base_paired      \n",
       "3 .             .                                        NA               \n",
       "  MFA    associated_TSS_id TSS_direction TSS_description total_annotations\n",
       "1 -24.83 .                 .             .               1                \n",
       "2 -28.35 .                 .             .               1                \n",
       "3 .      .                 .             .               1                \n",
       "  alternate_annotations\n",
       "1 NA                   \n",
       "2 NA                   \n",
       "3 NA                   "
      ]
     },
     "metadata": {},
     "output_type": "display_data"
    }
   ],
   "source": [
    "###strain TK0224\n",
    "\n",
    "defaultW <- getOption(\"warn\")\n",
    "options(warn = -1)\n",
    "\n",
    "\n",
    "#load CGmaps into session\n",
    "TK0224exoS_CGmap_rep1 <-read.delim(\"../cgmaps/TK0224exoS_totalRNA_Dec2016.CGmap\", sep='\\t', header=FALSE,col.names=cols) %>%\n",
    "    mutate(strain=\"TK0224\", growth_phase='exoponential', metabolic_condition=\"S\", replicate=\"rep1\")\n",
    "\n",
    "TK0224exoS_CGmap_rep2 <-read.delim(\"../cgmaps/TK0224exoS_totalRNA_Oct2020.CGmap\", sep='\\t', header=FALSE,col.names=cols) %>%\n",
    "    mutate(strain=\"TK0224\", growth_phase='exoponential', metabolic_condition=\"S\", replicate=\"rep2\")\n",
    "\n",
    "# process raw CGmaps\n",
    "TK0224exoS_rep1_df <- processCGmap(TK0224exoS_CGmap_rep1)\n",
    "TK0224exoS_rep2_df <- processCGmap(TK0224exoS_CGmap_rep2)\n",
    "\n",
    "#merge reps\n",
    "TK0224exoS <- merge_del_reps(x=TK0224exoS_rep1_df, y=TK0224exoS_rep2_df, strain='TK0224')\n",
    "\n",
    "# get quantiles\n",
    "\"quantiles:\"\n",
    "get_quantiles(strain_cgmap = TK0224exoS, strain=\"TK0224\", min_cov = 47)\n",
    "\n",
    "#compare methylation frequencies & annotate\n",
    "TK0224exoS_anal <- CompareCGmap(strain_cgmap = TK0224exoS, \n",
    "                                TS559_cgmap = TS559exoS, \n",
    "                                strain=\"TK0224\", \n",
    "                                annotation = annotation,\n",
    "                                min_cov = 47)\n",
    "\n",
    "#write.table(TK0224exoS_anal, file = \"../processed_cgmaps/TK0224exoS_annotated\", sep = \"\\t\", row.names = F)\n",
    "\n",
    "#enumerate gains & losses\n",
    "\"losses & gains:\"\n",
    "nrow( TK0224exoS_anal %>% filter(log2FC < 0) )\n",
    "nrow( TK0224exoS_anal %>% filter(log2FC > 0) )\n",
    "\n",
    "head(TK0224exoS_anal)\n",
    "\n",
    "TK0224exoS_cat <- enumerate_hiconf_2reps(strain_cgmap = TK0224exoS, strain=\"TK0224\",min_cov = 47)\n",
    "\n",
    "Sys.sleep(10)"
   ]
  },
  {
   "cell_type": "code",
   "execution_count": 9,
   "metadata": {},
   "outputs": [
    {
     "data": {
      "text/html": [
       "'quantiles:'"
      ],
      "text/latex": [
       "'quantiles:'"
      ],
      "text/markdown": [
       "'quantiles:'"
      ],
      "text/plain": [
       "[1] \"quantiles:\""
      ]
     },
     "metadata": {},
     "output_type": "display_data"
    },
    {
     "data": {
      "text/html": [
       "<style>\n",
       ".list-inline {list-style: none; margin:0; padding: 0}\n",
       ".list-inline>li {display: inline-block}\n",
       ".list-inline>li:not(:last-child)::after {content: \"\\00b7\"; padding: 0 .5ex}\n",
       "</style>\n",
       "<ol class=list-inline><li>6</li><li>10</li></ol>\n"
      ],
      "text/latex": [
       "\\begin{enumerate*}\n",
       "\\item 6\n",
       "\\item 10\n",
       "\\end{enumerate*}\n"
      ],
      "text/markdown": [
       "1. 6\n",
       "2. 10\n",
       "\n",
       "\n"
      ],
      "text/plain": [
       "[1]  6 10"
      ]
     },
     "metadata": {},
     "output_type": "display_data"
    },
    {
     "data": {
      "text/html": [
       "'losses &amp; gains:'"
      ],
      "text/latex": [
       "'losses \\& gains:'"
      ],
      "text/markdown": [
       "'losses &amp; gains:'"
      ],
      "text/plain": [
       "[1] \"losses & gains:\""
      ]
     },
     "metadata": {},
     "output_type": "display_data"
    },
    {
     "data": {
      "text/html": [
       "0"
      ],
      "text/latex": [
       "0"
      ],
      "text/markdown": [
       "0"
      ],
      "text/plain": [
       "[1] 0"
      ]
     },
     "metadata": {},
     "output_type": "display_data"
    },
    {
     "data": {
      "text/html": [
       "5"
      ],
      "text/latex": [
       "5"
      ],
      "text/markdown": [
       "5"
      ],
      "text/plain": [
       "[1] 5"
      ]
     },
     "metadata": {},
     "output_type": "display_data"
    },
    {
     "data": {
      "text/html": [
       "<table>\n",
       "<caption>A rowwise_df: 5 × 48</caption>\n",
       "<thead>\n",
       "\t<tr><th scope=col>TS559_position</th><th scope=col>KOD1_position</th><th scope=col>strand</th><th scope=col>growth_phase</th><th scope=col>metabolic_condition</th><th scope=col>methylation_frequency_TK0234_rep1</th><th scope=col>mC_count_TK0234_rep1</th><th scope=col>coverage_TK0234_rep1</th><th scope=col>methylation_frequency_TK0234_rep2</th><th scope=col>mC_count_TK0234_rep2</th><th scope=col>⋯</th><th scope=col>amino_acid_sequence</th><th scope=col>amino_acid_ID</th><th scope=col>local_41bp_predicted_fold</th><th scope=col>m5C_position_fold</th><th scope=col>MFA</th><th scope=col>associated_TSS_id</th><th scope=col>TSS_direction</th><th scope=col>TSS_description</th><th scope=col>total_annotations</th><th scope=col>alternate_annotations</th></tr>\n",
       "\t<tr><th scope=col>&lt;int&gt;</th><th scope=col>&lt;fct&gt;</th><th scope=col>&lt;fct&gt;</th><th scope=col>&lt;chr&gt;</th><th scope=col>&lt;chr&gt;</th><th scope=col>&lt;dbl&gt;</th><th scope=col>&lt;int&gt;</th><th scope=col>&lt;int&gt;</th><th scope=col>&lt;dbl&gt;</th><th scope=col>&lt;int&gt;</th><th scope=col>⋯</th><th scope=col>&lt;fct&gt;</th><th scope=col>&lt;fct&gt;</th><th scope=col>&lt;fct&gt;</th><th scope=col>&lt;fct&gt;</th><th scope=col>&lt;fct&gt;</th><th scope=col>&lt;fct&gt;</th><th scope=col>&lt;fct&gt;</th><th scope=col>&lt;fct&gt;</th><th scope=col>&lt;int&gt;</th><th scope=col>&lt;fct&gt;</th></tr>\n",
       "</thead>\n",
       "<tbody>\n",
       "\t<tr><td> 857947</td><td>858938 </td><td>+</td><td>exoponential</td><td>S</td><td>0.37</td><td>10</td><td>27</td><td>0.55</td><td>83</td><td>⋯</td><td>.  </td><td>.</td><td>.                                       </td><td>NA             </td><td>.     </td><td>.</td><td>.</td><td>.</td><td>1</td><td>NA</td></tr>\n",
       "\t<tr><td>1912334</td><td>1913325</td><td>-</td><td>exoponential</td><td>S</td><td>0.16</td><td>10</td><td>63</td><td>0.17</td><td>73</td><td>⋯</td><td>GGC</td><td>G</td><td>.(((..(((.((((....)).))................(</td><td>single_stranded</td><td>-32.12</td><td>.</td><td>.</td><td>.</td><td>1</td><td>NA</td></tr>\n",
       "\t<tr><td>1141444</td><td>1142435</td><td>+</td><td>exoponential</td><td>S</td><td>0.25</td><td> 1</td><td> 4</td><td>0.19</td><td>17</td><td>⋯</td><td>.  </td><td>.</td><td>.                                       </td><td>NA             </td><td>.     </td><td>.</td><td>.</td><td>.</td><td>1</td><td>NA</td></tr>\n",
       "\t<tr><td> 435217</td><td>436208 </td><td>-</td><td>exoponential</td><td>S</td><td>0.10</td><td> 1</td><td>10</td><td>0.13</td><td>36</td><td>⋯</td><td>CUC</td><td>L</td><td>((((((.......(((((.........)))))))))))..</td><td>single_stranded</td><td>-17.63</td><td>.</td><td>.</td><td>.</td><td>1</td><td>NA</td></tr>\n",
       "\t<tr><td>1633538</td><td>1634529</td><td>-</td><td>exoponential</td><td>S</td><td>0.08</td><td> 1</td><td>13</td><td>0.14</td><td>17</td><td>⋯</td><td>CCG</td><td>P</td><td>)..)).)))).))..)..........              </td><td>single_stranded</td><td>-79.76</td><td>.</td><td>.</td><td>.</td><td>1</td><td>NA</td></tr>\n",
       "</tbody>\n",
       "</table>\n"
      ],
      "text/latex": [
       "A rowwise\\_df: 5 × 48\n",
       "\\begin{tabular}{lllllllllllllllllllll}\n",
       " TS559\\_position & KOD1\\_position & strand & growth\\_phase & metabolic\\_condition & methylation\\_frequency\\_TK0234\\_rep1 & mC\\_count\\_TK0234\\_rep1 & coverage\\_TK0234\\_rep1 & methylation\\_frequency\\_TK0234\\_rep2 & mC\\_count\\_TK0234\\_rep2 & ⋯ & amino\\_acid\\_sequence & amino\\_acid\\_ID & local\\_41bp\\_predicted\\_fold & m5C\\_position\\_fold & MFA & associated\\_TSS\\_id & TSS\\_direction & TSS\\_description & total\\_annotations & alternate\\_annotations\\\\\n",
       " <int> & <fct> & <fct> & <chr> & <chr> & <dbl> & <int> & <int> & <dbl> & <int> & ⋯ & <fct> & <fct> & <fct> & <fct> & <fct> & <fct> & <fct> & <fct> & <int> & <fct>\\\\\n",
       "\\hline\n",
       "\t  857947 & 858938  & + & exoponential & S & 0.37 & 10 & 27 & 0.55 & 83 & ⋯ & .   & . & .                                        & NA              & .      & . & . & . & 1 & NA\\\\\n",
       "\t 1912334 & 1913325 & - & exoponential & S & 0.16 & 10 & 63 & 0.17 & 73 & ⋯ & GGC & G & .(((..(((.((((....)).))................( & single\\_stranded & -32.12 & . & . & . & 1 & NA\\\\\n",
       "\t 1141444 & 1142435 & + & exoponential & S & 0.25 &  1 &  4 & 0.19 & 17 & ⋯ & .   & . & .                                        & NA              & .      & . & . & . & 1 & NA\\\\\n",
       "\t  435217 & 436208  & - & exoponential & S & 0.10 &  1 & 10 & 0.13 & 36 & ⋯ & CUC & L & ((((((.......(((((.........))))))))))).. & single\\_stranded & -17.63 & . & . & . & 1 & NA\\\\\n",
       "\t 1633538 & 1634529 & - & exoponential & S & 0.08 &  1 & 13 & 0.14 & 17 & ⋯ & CCG & P & )..)).)))).))..)..........               & single\\_stranded & -79.76 & . & . & . & 1 & NA\\\\\n",
       "\\end{tabular}\n"
      ],
      "text/markdown": [
       "\n",
       "A rowwise_df: 5 × 48\n",
       "\n",
       "| TS559_position &lt;int&gt; | KOD1_position &lt;fct&gt; | strand &lt;fct&gt; | growth_phase &lt;chr&gt; | metabolic_condition &lt;chr&gt; | methylation_frequency_TK0234_rep1 &lt;dbl&gt; | mC_count_TK0234_rep1 &lt;int&gt; | coverage_TK0234_rep1 &lt;int&gt; | methylation_frequency_TK0234_rep2 &lt;dbl&gt; | mC_count_TK0234_rep2 &lt;int&gt; | ⋯ ⋯ | amino_acid_sequence &lt;fct&gt; | amino_acid_ID &lt;fct&gt; | local_41bp_predicted_fold &lt;fct&gt; | m5C_position_fold &lt;fct&gt; | MFA &lt;fct&gt; | associated_TSS_id &lt;fct&gt; | TSS_direction &lt;fct&gt; | TSS_description &lt;fct&gt; | total_annotations &lt;int&gt; | alternate_annotations &lt;fct&gt; |\n",
       "|---|---|---|---|---|---|---|---|---|---|---|---|---|---|---|---|---|---|---|---|---|\n",
       "|  857947 | 858938  | + | exoponential | S | 0.37 | 10 | 27 | 0.55 | 83 | ⋯ | .   | . | .                                        | NA              | .      | . | . | . | 1 | NA |\n",
       "| 1912334 | 1913325 | - | exoponential | S | 0.16 | 10 | 63 | 0.17 | 73 | ⋯ | GGC | G | .(((..(((.((((....)).))................( | single_stranded | -32.12 | . | . | . | 1 | NA |\n",
       "| 1141444 | 1142435 | + | exoponential | S | 0.25 |  1 |  4 | 0.19 | 17 | ⋯ | .   | . | .                                        | NA              | .      | . | . | . | 1 | NA |\n",
       "|  435217 | 436208  | - | exoponential | S | 0.10 |  1 | 10 | 0.13 | 36 | ⋯ | CUC | L | ((((((.......(((((.........))))))))))).. | single_stranded | -17.63 | . | . | . | 1 | NA |\n",
       "| 1633538 | 1634529 | - | exoponential | S | 0.08 |  1 | 13 | 0.14 | 17 | ⋯ | CCG | P | )..)).)))).))..)..........               | single_stranded | -79.76 | . | . | . | 1 | NA |\n",
       "\n"
      ],
      "text/plain": [
       "  TS559_position KOD1_position strand growth_phase metabolic_condition\n",
       "1  857947        858938        +      exoponential S                  \n",
       "2 1912334        1913325       -      exoponential S                  \n",
       "3 1141444        1142435       +      exoponential S                  \n",
       "4  435217        436208        -      exoponential S                  \n",
       "5 1633538        1634529       -      exoponential S                  \n",
       "  methylation_frequency_TK0234_rep1 mC_count_TK0234_rep1 coverage_TK0234_rep1\n",
       "1 0.37                              10                   27                  \n",
       "2 0.16                              10                   63                  \n",
       "3 0.25                               1                    4                  \n",
       "4 0.10                               1                   10                  \n",
       "5 0.08                               1                   13                  \n",
       "  methylation_frequency_TK0234_rep2 mC_count_TK0234_rep2 ⋯ amino_acid_sequence\n",
       "1 0.55                              83                   ⋯ .                  \n",
       "2 0.17                              73                   ⋯ GGC                \n",
       "3 0.19                              17                   ⋯ .                  \n",
       "4 0.13                              36                   ⋯ CUC                \n",
       "5 0.14                              17                   ⋯ CCG                \n",
       "  amino_acid_ID local_41bp_predicted_fold                m5C_position_fold\n",
       "1 .             .                                        NA               \n",
       "2 G             .(((..(((.((((....)).))................( single_stranded  \n",
       "3 .             .                                        NA               \n",
       "4 L             ((((((.......(((((.........))))))))))).. single_stranded  \n",
       "5 P             )..)).)))).))..)..........               single_stranded  \n",
       "  MFA    associated_TSS_id TSS_direction TSS_description total_annotations\n",
       "1 .      .                 .             .               1                \n",
       "2 -32.12 .                 .             .               1                \n",
       "3 .      .                 .             .               1                \n",
       "4 -17.63 .                 .             .               1                \n",
       "5 -79.76 .                 .             .               1                \n",
       "  alternate_annotations\n",
       "1 NA                   \n",
       "2 NA                   \n",
       "3 NA                   \n",
       "4 NA                   \n",
       "5 NA                   "
      ]
     },
     "metadata": {},
     "output_type": "display_data"
    }
   ],
   "source": [
    "###strain TK0234\n",
    "\n",
    "defaultW <- getOption(\"warn\")\n",
    "options(warn = -1)\n",
    "\n",
    "\n",
    "#load CGmaps into session\n",
    "TK0234exoS_CGmap_rep1 <-read.delim(\"../cgmaps/TK0234exoS_totalRNA_Dec2016.CGmap\", sep='\\t', header=FALSE,col.names=cols) %>%\n",
    "    mutate(strain=\"TK0234\", growth_phase='exoponential', metabolic_condition=\"S\", replicate=\"rep1\")\n",
    "\n",
    "TK0234exoS_CGmap_rep2 <-read.delim(\"../cgmaps/TK0234exoS_totalRNA_Oct2020.CGmap\", sep='\\t', header=FALSE,col.names=cols) %>%\n",
    "    mutate(strain=\"TK0234\", growth_phase='exoponential', metabolic_condition=\"S\", replicate=\"rep2\")\n",
    "\n",
    "# process raw CGmaps\n",
    "TK0234exoS_rep1_df <- processCGmap(TK0234exoS_CGmap_rep1)\n",
    "TK0234exoS_rep2_df <- processCGmap(TK0234exoS_CGmap_rep2)\n",
    "\n",
    "#merge reps\n",
    "TK0234exoS <- merge_del_reps(x=TK0234exoS_rep1_df, y=TK0234exoS_rep2_df, strain='TK0234')\n",
    "\n",
    "# get quantiles\n",
    "\"quantiles:\"\n",
    "get_quantiles(strain_cgmap = TK0234exoS, strain=\"TK0234\", min_cov = 47)\n",
    "\n",
    "#compare methylation frequencies & annotate\n",
    "TK0234exoS_anal <- CompareCGmap(strain_cgmap = TK0234exoS, \n",
    "                                TS559_cgmap = TS559exoS, \n",
    "                                strain=\"TK0234\", \n",
    "                                annotation = annotation,\n",
    "                                min_cov = 47)\n",
    "\n",
    "#write.table(TK0234exoS_anal, file = \"../processed_cgmaps/TK0234exoS_annotated\", sep = \"\\t\", row.names = F)\n",
    "\n",
    "#enumerate gains & losses\n",
    "\"losses & gains:\"\n",
    "nrow( TK0234exoS_anal %>% filter(log2FC < 0) )\n",
    "nrow( TK0234exoS_anal %>% filter(log2FC > 0) )\n",
    "\n",
    "head(TK0234exoS_anal)\n",
    "\n",
    "TK0234exoS_cat <- enumerate_hiconf_2reps(strain_cgmap = TK0234exoS, strain=\"TK0234\",min_cov = 47)\n",
    "\n",
    "Sys.sleep(10)"
   ]
  },
  {
   "cell_type": "code",
   "execution_count": 10,
   "metadata": {},
   "outputs": [
    {
     "data": {
      "text/html": [
       "'quantiles:'"
      ],
      "text/latex": [
       "'quantiles:'"
      ],
      "text/markdown": [
       "'quantiles:'"
      ],
      "text/plain": [
       "[1] \"quantiles:\""
      ]
     },
     "metadata": {},
     "output_type": "display_data"
    },
    {
     "data": {
      "text/html": [
       "<style>\n",
       ".list-inline {list-style: none; margin:0; padding: 0}\n",
       ".list-inline>li {display: inline-block}\n",
       ".list-inline>li:not(:last-child)::after {content: \"\\00b7\"; padding: 0 .5ex}\n",
       "</style>\n",
       "<ol class=list-inline><li>17</li><li>9</li></ol>\n"
      ],
      "text/latex": [
       "\\begin{enumerate*}\n",
       "\\item 17\n",
       "\\item 9\n",
       "\\end{enumerate*}\n"
      ],
      "text/markdown": [
       "1. 17\n",
       "2. 9\n",
       "\n",
       "\n"
      ],
      "text/plain": [
       "[1] 17  9"
      ]
     },
     "metadata": {},
     "output_type": "display_data"
    },
    {
     "data": {
      "text/html": [
       "'losses &amp; gains:'"
      ],
      "text/latex": [
       "'losses \\& gains:'"
      ],
      "text/markdown": [
       "'losses &amp; gains:'"
      ],
      "text/plain": [
       "[1] \"losses & gains:\""
      ]
     },
     "metadata": {},
     "output_type": "display_data"
    },
    {
     "data": {
      "text/html": [
       "0"
      ],
      "text/latex": [
       "0"
      ],
      "text/markdown": [
       "0"
      ],
      "text/plain": [
       "[1] 0"
      ]
     },
     "metadata": {},
     "output_type": "display_data"
    },
    {
     "data": {
      "text/html": [
       "0"
      ],
      "text/latex": [
       "0"
      ],
      "text/markdown": [
       "0"
      ],
      "text/plain": [
       "[1] 0"
      ]
     },
     "metadata": {},
     "output_type": "display_data"
    },
    {
     "data": {
      "text/html": [
       "<table>\n",
       "<caption>A rowwise_df: 0 × 48</caption>\n",
       "<thead>\n",
       "\t<tr><th scope=col>TS559_position</th><th scope=col>KOD1_position</th><th scope=col>strand</th><th scope=col>growth_phase</th><th scope=col>metabolic_condition</th><th scope=col>methylation_frequency_TK0704_rep1</th><th scope=col>mC_count_TK0704_rep1</th><th scope=col>coverage_TK0704_rep1</th><th scope=col>methylation_frequency_TK0704_rep2</th><th scope=col>mC_count_TK0704_rep2</th><th scope=col>⋯</th><th scope=col>amino_acid_sequence</th><th scope=col>amino_acid_ID</th><th scope=col>local_41bp_predicted_fold</th><th scope=col>m5C_position_fold</th><th scope=col>MFA</th><th scope=col>associated_TSS_id</th><th scope=col>TSS_direction</th><th scope=col>TSS_description</th><th scope=col>total_annotations</th><th scope=col>alternate_annotations</th></tr>\n",
       "\t<tr><th scope=col>&lt;int&gt;</th><th scope=col>&lt;fct&gt;</th><th scope=col>&lt;fct&gt;</th><th scope=col>&lt;chr&gt;</th><th scope=col>&lt;chr&gt;</th><th scope=col>&lt;dbl&gt;</th><th scope=col>&lt;int&gt;</th><th scope=col>&lt;int&gt;</th><th scope=col>&lt;dbl&gt;</th><th scope=col>&lt;int&gt;</th><th scope=col>⋯</th><th scope=col>&lt;fct&gt;</th><th scope=col>&lt;fct&gt;</th><th scope=col>&lt;fct&gt;</th><th scope=col>&lt;fct&gt;</th><th scope=col>&lt;fct&gt;</th><th scope=col>&lt;fct&gt;</th><th scope=col>&lt;fct&gt;</th><th scope=col>&lt;fct&gt;</th><th scope=col>&lt;int&gt;</th><th scope=col>&lt;fct&gt;</th></tr>\n",
       "</thead>\n",
       "<tbody>\n",
       "</tbody>\n",
       "</table>\n"
      ],
      "text/latex": [
       "A rowwise\\_df: 0 × 48\n",
       "\\begin{tabular}{lllllllllllllllllllll}\n",
       " TS559\\_position & KOD1\\_position & strand & growth\\_phase & metabolic\\_condition & methylation\\_frequency\\_TK0704\\_rep1 & mC\\_count\\_TK0704\\_rep1 & coverage\\_TK0704\\_rep1 & methylation\\_frequency\\_TK0704\\_rep2 & mC\\_count\\_TK0704\\_rep2 & ⋯ & amino\\_acid\\_sequence & amino\\_acid\\_ID & local\\_41bp\\_predicted\\_fold & m5C\\_position\\_fold & MFA & associated\\_TSS\\_id & TSS\\_direction & TSS\\_description & total\\_annotations & alternate\\_annotations\\\\\n",
       " <int> & <fct> & <fct> & <chr> & <chr> & <dbl> & <int> & <int> & <dbl> & <int> & ⋯ & <fct> & <fct> & <fct> & <fct> & <fct> & <fct> & <fct> & <fct> & <int> & <fct>\\\\\n",
       "\\hline\n",
       "\\end{tabular}\n"
      ],
      "text/markdown": [
       "\n",
       "A rowwise_df: 0 × 48\n",
       "\n",
       "| TS559_position &lt;int&gt; | KOD1_position &lt;fct&gt; | strand &lt;fct&gt; | growth_phase &lt;chr&gt; | metabolic_condition &lt;chr&gt; | methylation_frequency_TK0704_rep1 &lt;dbl&gt; | mC_count_TK0704_rep1 &lt;int&gt; | coverage_TK0704_rep1 &lt;int&gt; | methylation_frequency_TK0704_rep2 &lt;dbl&gt; | mC_count_TK0704_rep2 &lt;int&gt; | ⋯ ⋯ | amino_acid_sequence &lt;fct&gt; | amino_acid_ID &lt;fct&gt; | local_41bp_predicted_fold &lt;fct&gt; | m5C_position_fold &lt;fct&gt; | MFA &lt;fct&gt; | associated_TSS_id &lt;fct&gt; | TSS_direction &lt;fct&gt; | TSS_description &lt;fct&gt; | total_annotations &lt;int&gt; | alternate_annotations &lt;fct&gt; |\n",
       "|---|---|---|---|---|---|---|---|---|---|---|---|---|---|---|---|---|---|---|---|---|\n",
       "\n"
      ],
      "text/plain": [
       "     TS559_position KOD1_position strand growth_phase metabolic_condition\n",
       "     methylation_frequency_TK0704_rep1 mC_count_TK0704_rep1\n",
       "     coverage_TK0704_rep1 methylation_frequency_TK0704_rep2\n",
       "     mC_count_TK0704_rep2 ⋯ amino_acid_sequence amino_acid_ID\n",
       "     local_41bp_predicted_fold m5C_position_fold MFA associated_TSS_id\n",
       "     TSS_direction TSS_description total_annotations alternate_annotations"
      ]
     },
     "metadata": {},
     "output_type": "display_data"
    }
   ],
   "source": [
    "###strain TK0704\n",
    "\n",
    "defaultW <- getOption(\"warn\")\n",
    "options(warn = -1)\n",
    "\n",
    "\n",
    "#load CGmaps into session\n",
    "TK0704exoS_CGmap_rep1 <-read.delim(\"../cgmaps/TK0704exoS_totalRNA_Dec2016.CGmap\", sep='\\t', header=FALSE,col.names=cols) %>%\n",
    "    mutate(strain=\"TK0704\", growth_phase='exoponential', metabolic_condition=\"S\", replicate=\"rep1\")\n",
    "\n",
    "TK0704exoS_CGmap_rep2 <-read.delim(\"../cgmaps/TK0704exoS_totalRNA_Oct2020.CGmap\", sep='\\t', header=FALSE,col.names=cols) %>%\n",
    "    mutate(strain=\"TK0704\", growth_phase='exoponential', metabolic_condition=\"S\", replicate=\"rep2\")\n",
    "\n",
    "# process raw CGmaps\n",
    "TK0704exoS_rep1_df <- processCGmap(TK0704exoS_CGmap_rep1)\n",
    "TK0704exoS_rep2_df <- processCGmap(TK0704exoS_CGmap_rep2)\n",
    "\n",
    "#merge reps\n",
    "TK0704exoS <- merge_del_reps(x=TK0704exoS_rep1_df, y=TK0704exoS_rep2_df, strain='TK0704')\n",
    "\n",
    "# get quantiles\n",
    "\"quantiles:\"\n",
    "get_quantiles(strain_cgmap = TK0704exoS, strain=\"TK0704\", min_cov = 47)\n",
    "\n",
    "#compare methylation frequencies & annotate\n",
    "TK0704exoS_anal <- CompareCGmap(strain_cgmap = TK0704exoS, \n",
    "                                TS559_cgmap = TS559exoS, \n",
    "                                strain=\"TK0704\", \n",
    "                                annotation = annotation,\n",
    "                                min_cov = 47)\n",
    "\n",
    "#write.table(TK0704exoS_anal, file = \"../processed_cgmaps/TK0704exoS_annotated\", sep = \"\\t\", row.names = F)\n",
    "\n",
    "#enumerate gains & losses\n",
    "\"losses & gains:\"\n",
    "nrow( TK0704exoS_anal %>% filter(log2FC < 0) )\n",
    "nrow( TK0704exoS_anal %>% filter(log2FC > 0) )\n",
    "\n",
    "head(TK0704exoS_anal)\n",
    "\n",
    "TK0704exoS_cat <- enumerate_hiconf_2reps(strain_cgmap = TK0704exoS, strain=\"TK0704\",min_cov = 47)\n",
    "\n",
    "Sys.sleep(10)"
   ]
  },
  {
   "cell_type": "code",
   "execution_count": 11,
   "metadata": {},
   "outputs": [
    {
     "data": {
      "text/html": [
       "'quantiles:'"
      ],
      "text/latex": [
       "'quantiles:'"
      ],
      "text/markdown": [
       "'quantiles:'"
      ],
      "text/plain": [
       "[1] \"quantiles:\""
      ]
     },
     "metadata": {},
     "output_type": "display_data"
    },
    {
     "data": {
      "text/html": [
       "<style>\n",
       ".list-inline {list-style: none; margin:0; padding: 0}\n",
       ".list-inline>li {display: inline-block}\n",
       ".list-inline>li:not(:last-child)::after {content: \"\\00b7\"; padding: 0 .5ex}\n",
       "</style>\n",
       "<ol class=list-inline><li>6</li><li>6</li></ol>\n"
      ],
      "text/latex": [
       "\\begin{enumerate*}\n",
       "\\item 6\n",
       "\\item 6\n",
       "\\end{enumerate*}\n"
      ],
      "text/markdown": [
       "1. 6\n",
       "2. 6\n",
       "\n",
       "\n"
      ],
      "text/plain": [
       "[1] 6 6"
      ]
     },
     "metadata": {},
     "output_type": "display_data"
    },
    {
     "data": {
      "text/html": [
       "'losses &amp; gains:'"
      ],
      "text/latex": [
       "'losses \\& gains:'"
      ],
      "text/markdown": [
       "'losses &amp; gains:'"
      ],
      "text/plain": [
       "[1] \"losses & gains:\""
      ]
     },
     "metadata": {},
     "output_type": "display_data"
    },
    {
     "data": {
      "text/html": [
       "0"
      ],
      "text/latex": [
       "0"
      ],
      "text/markdown": [
       "0"
      ],
      "text/plain": [
       "[1] 0"
      ]
     },
     "metadata": {},
     "output_type": "display_data"
    },
    {
     "data": {
      "text/html": [
       "4"
      ],
      "text/latex": [
       "4"
      ],
      "text/markdown": [
       "4"
      ],
      "text/plain": [
       "[1] 4"
      ]
     },
     "metadata": {},
     "output_type": "display_data"
    },
    {
     "data": {
      "text/html": [
       "<table>\n",
       "<caption>A rowwise_df: 4 × 48</caption>\n",
       "<thead>\n",
       "\t<tr><th scope=col>TS559_position</th><th scope=col>KOD1_position</th><th scope=col>strand</th><th scope=col>growth_phase</th><th scope=col>metabolic_condition</th><th scope=col>methylation_frequency_TK0729_rep1</th><th scope=col>mC_count_TK0729_rep1</th><th scope=col>coverage_TK0729_rep1</th><th scope=col>methylation_frequency_TK0729_rep2</th><th scope=col>mC_count_TK0729_rep2</th><th scope=col>⋯</th><th scope=col>amino_acid_sequence</th><th scope=col>amino_acid_ID</th><th scope=col>local_41bp_predicted_fold</th><th scope=col>m5C_position_fold</th><th scope=col>MFA</th><th scope=col>associated_TSS_id</th><th scope=col>TSS_direction</th><th scope=col>TSS_description</th><th scope=col>total_annotations</th><th scope=col>alternate_annotations</th></tr>\n",
       "\t<tr><th scope=col>&lt;int&gt;</th><th scope=col>&lt;fct&gt;</th><th scope=col>&lt;fct&gt;</th><th scope=col>&lt;chr&gt;</th><th scope=col>&lt;chr&gt;</th><th scope=col>&lt;dbl&gt;</th><th scope=col>&lt;int&gt;</th><th scope=col>&lt;int&gt;</th><th scope=col>&lt;dbl&gt;</th><th scope=col>&lt;int&gt;</th><th scope=col>⋯</th><th scope=col>&lt;fct&gt;</th><th scope=col>&lt;fct&gt;</th><th scope=col>&lt;fct&gt;</th><th scope=col>&lt;fct&gt;</th><th scope=col>&lt;fct&gt;</th><th scope=col>&lt;fct&gt;</th><th scope=col>&lt;fct&gt;</th><th scope=col>&lt;fct&gt;</th><th scope=col>&lt;int&gt;</th><th scope=col>&lt;fct&gt;</th></tr>\n",
       "</thead>\n",
       "<tbody>\n",
       "\t<tr><td>1712429</td><td>1713420</td><td>+</td><td>exoponential</td><td>S</td><td>0.06</td><td>2</td><td>36</td><td>0.10</td><td> 7</td><td>⋯</td><td>CCT</td><td>P</td><td>                                        </td><td>single_stranded</td><td>-133.0</td><td>.</td><td>.</td><td>.</td><td>1</td><td>NA</td></tr>\n",
       "\t<tr><td>1120287</td><td>1121278</td><td>-</td><td>exoponential</td><td>S</td><td>0.12</td><td>2</td><td>16</td><td>0.11</td><td> 9</td><td>⋯</td><td>.  </td><td>.</td><td>.                                       </td><td>NA             </td><td>.     </td><td>.</td><td>.</td><td>.</td><td>1</td><td>NA</td></tr>\n",
       "\t<tr><td>2082772</td><td>2084404</td><td>-</td><td>exoponential</td><td>S</td><td>0.21</td><td>8</td><td>38</td><td>0.22</td><td>23</td><td>⋯</td><td>ACC</td><td>T</td><td>.......(((((((....................))))))</td><td>single_stranded</td><td>-75.22</td><td>.</td><td>.</td><td>.</td><td>1</td><td>NA</td></tr>\n",
       "\t<tr><td> 552063</td><td>553054 </td><td>+</td><td>exoponential</td><td>S</td><td>0.11</td><td>1</td><td> 9</td><td>0.14</td><td>10</td><td>⋯</td><td>.  </td><td>.</td><td>.                                       </td><td>NA             </td><td>.     </td><td>.</td><td>.</td><td>.</td><td>1</td><td>NA</td></tr>\n",
       "</tbody>\n",
       "</table>\n"
      ],
      "text/latex": [
       "A rowwise\\_df: 4 × 48\n",
       "\\begin{tabular}{lllllllllllllllllllll}\n",
       " TS559\\_position & KOD1\\_position & strand & growth\\_phase & metabolic\\_condition & methylation\\_frequency\\_TK0729\\_rep1 & mC\\_count\\_TK0729\\_rep1 & coverage\\_TK0729\\_rep1 & methylation\\_frequency\\_TK0729\\_rep2 & mC\\_count\\_TK0729\\_rep2 & ⋯ & amino\\_acid\\_sequence & amino\\_acid\\_ID & local\\_41bp\\_predicted\\_fold & m5C\\_position\\_fold & MFA & associated\\_TSS\\_id & TSS\\_direction & TSS\\_description & total\\_annotations & alternate\\_annotations\\\\\n",
       " <int> & <fct> & <fct> & <chr> & <chr> & <dbl> & <int> & <int> & <dbl> & <int> & ⋯ & <fct> & <fct> & <fct> & <fct> & <fct> & <fct> & <fct> & <fct> & <int> & <fct>\\\\\n",
       "\\hline\n",
       "\t 1712429 & 1713420 & + & exoponential & S & 0.06 & 2 & 36 & 0.10 &  7 & ⋯ & CCT & P &                                          & single\\_stranded & -133.0 & . & . & . & 1 & NA\\\\\n",
       "\t 1120287 & 1121278 & - & exoponential & S & 0.12 & 2 & 16 & 0.11 &  9 & ⋯ & .   & . & .                                        & NA              & .      & . & . & . & 1 & NA\\\\\n",
       "\t 2082772 & 2084404 & - & exoponential & S & 0.21 & 8 & 38 & 0.22 & 23 & ⋯ & ACC & T & .......(((((((....................)))))) & single\\_stranded & -75.22 & . & . & . & 1 & NA\\\\\n",
       "\t  552063 & 553054  & + & exoponential & S & 0.11 & 1 &  9 & 0.14 & 10 & ⋯ & .   & . & .                                        & NA              & .      & . & . & . & 1 & NA\\\\\n",
       "\\end{tabular}\n"
      ],
      "text/markdown": [
       "\n",
       "A rowwise_df: 4 × 48\n",
       "\n",
       "| TS559_position &lt;int&gt; | KOD1_position &lt;fct&gt; | strand &lt;fct&gt; | growth_phase &lt;chr&gt; | metabolic_condition &lt;chr&gt; | methylation_frequency_TK0729_rep1 &lt;dbl&gt; | mC_count_TK0729_rep1 &lt;int&gt; | coverage_TK0729_rep1 &lt;int&gt; | methylation_frequency_TK0729_rep2 &lt;dbl&gt; | mC_count_TK0729_rep2 &lt;int&gt; | ⋯ ⋯ | amino_acid_sequence &lt;fct&gt; | amino_acid_ID &lt;fct&gt; | local_41bp_predicted_fold &lt;fct&gt; | m5C_position_fold &lt;fct&gt; | MFA &lt;fct&gt; | associated_TSS_id &lt;fct&gt; | TSS_direction &lt;fct&gt; | TSS_description &lt;fct&gt; | total_annotations &lt;int&gt; | alternate_annotations &lt;fct&gt; |\n",
       "|---|---|---|---|---|---|---|---|---|---|---|---|---|---|---|---|---|---|---|---|---|\n",
       "| 1712429 | 1713420 | + | exoponential | S | 0.06 | 2 | 36 | 0.10 |  7 | ⋯ | CCT | P | <!----> | single_stranded | -133.0 | . | . | . | 1 | NA |\n",
       "| 1120287 | 1121278 | - | exoponential | S | 0.12 | 2 | 16 | 0.11 |  9 | ⋯ | .   | . | .                                        | NA              | .      | . | . | . | 1 | NA |\n",
       "| 2082772 | 2084404 | - | exoponential | S | 0.21 | 8 | 38 | 0.22 | 23 | ⋯ | ACC | T | .......(((((((....................)))))) | single_stranded | -75.22 | . | . | . | 1 | NA |\n",
       "|  552063 | 553054  | + | exoponential | S | 0.11 | 1 |  9 | 0.14 | 10 | ⋯ | .   | . | .                                        | NA              | .      | . | . | . | 1 | NA |\n",
       "\n"
      ],
      "text/plain": [
       "  TS559_position KOD1_position strand growth_phase metabolic_condition\n",
       "1 1712429        1713420       +      exoponential S                  \n",
       "2 1120287        1121278       -      exoponential S                  \n",
       "3 2082772        2084404       -      exoponential S                  \n",
       "4  552063        553054        +      exoponential S                  \n",
       "  methylation_frequency_TK0729_rep1 mC_count_TK0729_rep1 coverage_TK0729_rep1\n",
       "1 0.06                              2                    36                  \n",
       "2 0.12                              2                    16                  \n",
       "3 0.21                              8                    38                  \n",
       "4 0.11                              1                     9                  \n",
       "  methylation_frequency_TK0729_rep2 mC_count_TK0729_rep2 ⋯ amino_acid_sequence\n",
       "1 0.10                               7                   ⋯ CCT                \n",
       "2 0.11                               9                   ⋯ .                  \n",
       "3 0.22                              23                   ⋯ ACC                \n",
       "4 0.14                              10                   ⋯ .                  \n",
       "  amino_acid_ID local_41bp_predicted_fold                m5C_position_fold\n",
       "1 P                                                      single_stranded  \n",
       "2 .             .                                        NA               \n",
       "3 T             .......(((((((....................)))))) single_stranded  \n",
       "4 .             .                                        NA               \n",
       "  MFA    associated_TSS_id TSS_direction TSS_description total_annotations\n",
       "1 -133.0 .                 .             .               1                \n",
       "2 .      .                 .             .               1                \n",
       "3 -75.22 .                 .             .               1                \n",
       "4 .      .                 .             .               1                \n",
       "  alternate_annotations\n",
       "1 NA                   \n",
       "2 NA                   \n",
       "3 NA                   \n",
       "4 NA                   "
      ]
     },
     "metadata": {},
     "output_type": "display_data"
    }
   ],
   "source": [
    "###strain TK0729\n",
    "\n",
    "defaultW <- getOption(\"warn\")\n",
    "options(warn = -1)\n",
    "\n",
    "\n",
    "#load CGmaps into session\n",
    "TK0729exoS_CGmap_rep1 <-read.delim(\"../cgmaps/TK0729exoS_totalRNA_Dec2016.CGmap\", sep='\\t', header=FALSE,col.names=cols) %>%\n",
    "    mutate(strain=\"TK0729\", growth_phase='exoponential', metabolic_condition=\"S\", replicate=\"rep1\")\n",
    "\n",
    "TK0729exoS_CGmap_rep2 <-read.delim(\"../cgmaps/TK0729exoS_totalRNA_Oct2020.CGmap\", sep='\\t', header=FALSE,col.names=cols) %>%\n",
    "    mutate(strain=\"TK0729\", growth_phase='exoponential', metabolic_condition=\"S\", replicate=\"rep2\")\n",
    "\n",
    "# process raw CGmaps\n",
    "TK0729exoS_rep1_df <- processCGmap(TK0729exoS_CGmap_rep1)\n",
    "TK0729exoS_rep2_df <- processCGmap(TK0729exoS_CGmap_rep2)\n",
    "\n",
    "#merge reps\n",
    "TK0729exoS <- merge_del_reps(x=TK0729exoS_rep1_df, y=TK0729exoS_rep2_df, strain='TK0729')\n",
    "\n",
    "# get quantiles\n",
    "\"quantiles:\"\n",
    "get_quantiles(strain_cgmap = TK0729exoS, strain=\"TK0729\", min_cov = 47)\n",
    "\n",
    "#compare methylation frequencies & annotate\n",
    "TK0729exoS_anal <- CompareCGmap(strain_cgmap = TK0729exoS, \n",
    "                                TS559_cgmap = TS559exoS, \n",
    "                                strain=\"TK0729\", \n",
    "                                annotation = annotation,\n",
    "                                min_cov = 47)\n",
    "\n",
    "#write.table(TK0729exoS_anal, file = \"../processed_cgmaps/TK0729exoS_annotated\", sep = \"\\t\", row.names = F)\n",
    "\n",
    "#enumerate gains & losses\n",
    "\"losses & gains:\"\n",
    "nrow( TK0729exoS_anal %>% filter(log2FC < 0) )\n",
    "nrow( TK0729exoS_anal %>% filter(log2FC > 0) )\n",
    "\n",
    "head(TK0729exoS_anal)\n",
    "\n",
    "TK0729exoS_cat <- enumerate_hiconf_2reps(strain_cgmap = TK0729exoS, strain=\"TK0729\",min_cov = 47)\n",
    "\n",
    "Sys.sleep(10)"
   ]
  },
  {
   "cell_type": "code",
   "execution_count": 12,
   "metadata": {},
   "outputs": [
    {
     "data": {
      "text/html": [
       "'quantiles:'"
      ],
      "text/latex": [
       "'quantiles:'"
      ],
      "text/markdown": [
       "'quantiles:'"
      ],
      "text/plain": [
       "[1] \"quantiles:\""
      ]
     },
     "metadata": {},
     "output_type": "display_data"
    },
    {
     "data": {
      "text/html": [
       "<style>\n",
       ".list-inline {list-style: none; margin:0; padding: 0}\n",
       ".list-inline>li {display: inline-block}\n",
       ".list-inline>li:not(:last-child)::after {content: \"\\00b7\"; padding: 0 .5ex}\n",
       "</style>\n",
       "<ol class=list-inline><li>16</li><li>6</li></ol>\n"
      ],
      "text/latex": [
       "\\begin{enumerate*}\n",
       "\\item 16\n",
       "\\item 6\n",
       "\\end{enumerate*}\n"
      ],
      "text/markdown": [
       "1. 16\n",
       "2. 6\n",
       "\n",
       "\n"
      ],
      "text/plain": [
       "[1] 16  6"
      ]
     },
     "metadata": {},
     "output_type": "display_data"
    },
    {
     "data": {
      "text/html": [
       "'losses &amp; gains:'"
      ],
      "text/latex": [
       "'losses \\& gains:'"
      ],
      "text/markdown": [
       "'losses &amp; gains:'"
      ],
      "text/plain": [
       "[1] \"losses & gains:\""
      ]
     },
     "metadata": {},
     "output_type": "display_data"
    },
    {
     "data": {
      "text/html": [
       "6"
      ],
      "text/latex": [
       "6"
      ],
      "text/markdown": [
       "6"
      ],
      "text/plain": [
       "[1] 6"
      ]
     },
     "metadata": {},
     "output_type": "display_data"
    },
    {
     "data": {
      "text/html": [
       "0"
      ],
      "text/latex": [
       "0"
      ],
      "text/markdown": [
       "0"
      ],
      "text/plain": [
       "[1] 0"
      ]
     },
     "metadata": {},
     "output_type": "display_data"
    },
    {
     "data": {
      "text/html": [
       "<table>\n",
       "<caption>A rowwise_df: 6 × 48</caption>\n",
       "<thead>\n",
       "\t<tr><th scope=col>TS559_position</th><th scope=col>KOD1_position</th><th scope=col>strand</th><th scope=col>growth_phase</th><th scope=col>metabolic_condition</th><th scope=col>methylation_frequency_TK0872_rep1</th><th scope=col>mC_count_TK0872_rep1</th><th scope=col>coverage_TK0872_rep1</th><th scope=col>methylation_frequency_TK0872_rep2</th><th scope=col>mC_count_TK0872_rep2</th><th scope=col>⋯</th><th scope=col>amino_acid_sequence</th><th scope=col>amino_acid_ID</th><th scope=col>local_41bp_predicted_fold</th><th scope=col>m5C_position_fold</th><th scope=col>MFA</th><th scope=col>associated_TSS_id</th><th scope=col>TSS_direction</th><th scope=col>TSS_description</th><th scope=col>total_annotations</th><th scope=col>alternate_annotations</th></tr>\n",
       "\t<tr><th scope=col>&lt;int&gt;</th><th scope=col>&lt;fct&gt;</th><th scope=col>&lt;fct&gt;</th><th scope=col>&lt;chr&gt;</th><th scope=col>&lt;chr&gt;</th><th scope=col>&lt;dbl&gt;</th><th scope=col>&lt;int&gt;</th><th scope=col>&lt;int&gt;</th><th scope=col>&lt;dbl&gt;</th><th scope=col>&lt;int&gt;</th><th scope=col>⋯</th><th scope=col>&lt;fct&gt;</th><th scope=col>&lt;fct&gt;</th><th scope=col>&lt;fct&gt;</th><th scope=col>&lt;fct&gt;</th><th scope=col>&lt;fct&gt;</th><th scope=col>&lt;fct&gt;</th><th scope=col>&lt;fct&gt;</th><th scope=col>&lt;fct&gt;</th><th scope=col>&lt;int&gt;</th><th scope=col>&lt;fct&gt;</th></tr>\n",
       "</thead>\n",
       "<tbody>\n",
       "\t<tr><td>2026195</td><td>2027186</td><td>+</td><td>exoponential</td><td>S</td><td>0</td><td>0</td><td> 462</td><td>0.04</td><td>11</td><td>⋯</td><td>.  </td><td>.</td><td>)))..))))))))........))))))))))))).(((((</td><td>single_stranded</td><td>-440.69</td><td>.</td><td>.</td><td>.</td><td>1</td><td>NA</td></tr>\n",
       "\t<tr><td> 109789</td><td>109789 </td><td>-</td><td>exoponential</td><td>S</td><td>0</td><td>2</td><td>1007</td><td>0.00</td><td> 5</td><td>⋯</td><td>CUC</td><td>L</td><td>.....)))))))......))))))))))))))..))))))</td><td>base_paired    </td><td>-134.88</td><td>.</td><td>.</td><td>.</td><td>1</td><td>NA</td></tr>\n",
       "\t<tr><td> 908004</td><td>908995 </td><td>-</td><td>exoponential</td><td>S</td><td>0</td><td>0</td><td> 417</td><td>0.01</td><td> 3</td><td>⋯</td><td>CUC</td><td>L</td><td>))))...............(((((.......((((((.((</td><td>base_paired    </td><td>-63.12 </td><td>.</td><td>.</td><td>.</td><td>1</td><td>NA</td></tr>\n",
       "\t<tr><td> 793629</td><td>794620 </td><td>+</td><td>exoponential</td><td>S</td><td>0</td><td>1</td><td> 282</td><td>0.01</td><td> 2</td><td>⋯</td><td>CGT</td><td>R</td><td>((((((((((..........((((..((..(........(</td><td>base_paired    </td><td>-122.17</td><td>.</td><td>.</td><td>.</td><td>1</td><td>NA</td></tr>\n",
       "\t<tr><td> 291301</td><td>292292 </td><td>+</td><td>exoponential</td><td>S</td><td>0</td><td>0</td><td> 209</td><td>0.01</td><td> 6</td><td>⋯</td><td>CCC</td><td>P</td><td>....))))....))).))))))))....(((((.((....</td><td>base_paired    </td><td>-80.89 </td><td>.</td><td>.</td><td>.</td><td>1</td><td>NA</td></tr>\n",
       "\t<tr><td>1570046</td><td>1571037</td><td>+</td><td>exoponential</td><td>S</td><td>0</td><td>0</td><td> 106</td><td>0.00</td><td> 0</td><td>⋯</td><td>.  </td><td>.</td><td>.                                       </td><td>NA             </td><td>.      </td><td>.</td><td>.</td><td>.</td><td>1</td><td>NA</td></tr>\n",
       "</tbody>\n",
       "</table>\n"
      ],
      "text/latex": [
       "A rowwise\\_df: 6 × 48\n",
       "\\begin{tabular}{lllllllllllllllllllll}\n",
       " TS559\\_position & KOD1\\_position & strand & growth\\_phase & metabolic\\_condition & methylation\\_frequency\\_TK0872\\_rep1 & mC\\_count\\_TK0872\\_rep1 & coverage\\_TK0872\\_rep1 & methylation\\_frequency\\_TK0872\\_rep2 & mC\\_count\\_TK0872\\_rep2 & ⋯ & amino\\_acid\\_sequence & amino\\_acid\\_ID & local\\_41bp\\_predicted\\_fold & m5C\\_position\\_fold & MFA & associated\\_TSS\\_id & TSS\\_direction & TSS\\_description & total\\_annotations & alternate\\_annotations\\\\\n",
       " <int> & <fct> & <fct> & <chr> & <chr> & <dbl> & <int> & <int> & <dbl> & <int> & ⋯ & <fct> & <fct> & <fct> & <fct> & <fct> & <fct> & <fct> & <fct> & <int> & <fct>\\\\\n",
       "\\hline\n",
       "\t 2026195 & 2027186 & + & exoponential & S & 0 & 0 &  462 & 0.04 & 11 & ⋯ & .   & . & )))..))))))))........))))))))))))).((((( & single\\_stranded & -440.69 & . & . & . & 1 & NA\\\\\n",
       "\t  109789 & 109789  & - & exoponential & S & 0 & 2 & 1007 & 0.00 &  5 & ⋯ & CUC & L & .....)))))))......))))))))))))))..)))))) & base\\_paired     & -134.88 & . & . & . & 1 & NA\\\\\n",
       "\t  908004 & 908995  & - & exoponential & S & 0 & 0 &  417 & 0.01 &  3 & ⋯ & CUC & L & ))))...............(((((.......((((((.(( & base\\_paired     & -63.12  & . & . & . & 1 & NA\\\\\n",
       "\t  793629 & 794620  & + & exoponential & S & 0 & 1 &  282 & 0.01 &  2 & ⋯ & CGT & R & ((((((((((..........((((..((..(........( & base\\_paired     & -122.17 & . & . & . & 1 & NA\\\\\n",
       "\t  291301 & 292292  & + & exoponential & S & 0 & 0 &  209 & 0.01 &  6 & ⋯ & CCC & P & ....))))....))).))))))))....(((((.((.... & base\\_paired     & -80.89  & . & . & . & 1 & NA\\\\\n",
       "\t 1570046 & 1571037 & + & exoponential & S & 0 & 0 &  106 & 0.00 &  0 & ⋯ & .   & . & .                                        & NA              & .       & . & . & . & 1 & NA\\\\\n",
       "\\end{tabular}\n"
      ],
      "text/markdown": [
       "\n",
       "A rowwise_df: 6 × 48\n",
       "\n",
       "| TS559_position &lt;int&gt; | KOD1_position &lt;fct&gt; | strand &lt;fct&gt; | growth_phase &lt;chr&gt; | metabolic_condition &lt;chr&gt; | methylation_frequency_TK0872_rep1 &lt;dbl&gt; | mC_count_TK0872_rep1 &lt;int&gt; | coverage_TK0872_rep1 &lt;int&gt; | methylation_frequency_TK0872_rep2 &lt;dbl&gt; | mC_count_TK0872_rep2 &lt;int&gt; | ⋯ ⋯ | amino_acid_sequence &lt;fct&gt; | amino_acid_ID &lt;fct&gt; | local_41bp_predicted_fold &lt;fct&gt; | m5C_position_fold &lt;fct&gt; | MFA &lt;fct&gt; | associated_TSS_id &lt;fct&gt; | TSS_direction &lt;fct&gt; | TSS_description &lt;fct&gt; | total_annotations &lt;int&gt; | alternate_annotations &lt;fct&gt; |\n",
       "|---|---|---|---|---|---|---|---|---|---|---|---|---|---|---|---|---|---|---|---|---|\n",
       "| 2026195 | 2027186 | + | exoponential | S | 0 | 0 |  462 | 0.04 | 11 | ⋯ | .   | . | )))..))))))))........))))))))))))).((((( | single_stranded | -440.69 | . | . | . | 1 | NA |\n",
       "|  109789 | 109789  | - | exoponential | S | 0 | 2 | 1007 | 0.00 |  5 | ⋯ | CUC | L | .....)))))))......))))))))))))))..)))))) | base_paired     | -134.88 | . | . | . | 1 | NA |\n",
       "|  908004 | 908995  | - | exoponential | S | 0 | 0 |  417 | 0.01 |  3 | ⋯ | CUC | L | ))))...............(((((.......((((((.(( | base_paired     | -63.12  | . | . | . | 1 | NA |\n",
       "|  793629 | 794620  | + | exoponential | S | 0 | 1 |  282 | 0.01 |  2 | ⋯ | CGT | R | ((((((((((..........((((..((..(........( | base_paired     | -122.17 | . | . | . | 1 | NA |\n",
       "|  291301 | 292292  | + | exoponential | S | 0 | 0 |  209 | 0.01 |  6 | ⋯ | CCC | P | ....))))....))).))))))))....(((((.((.... | base_paired     | -80.89  | . | . | . | 1 | NA |\n",
       "| 1570046 | 1571037 | + | exoponential | S | 0 | 0 |  106 | 0.00 |  0 | ⋯ | .   | . | .                                        | NA              | .       | . | . | . | 1 | NA |\n",
       "\n"
      ],
      "text/plain": [
       "  TS559_position KOD1_position strand growth_phase metabolic_condition\n",
       "1 2026195        2027186       +      exoponential S                  \n",
       "2  109789        109789        -      exoponential S                  \n",
       "3  908004        908995        -      exoponential S                  \n",
       "4  793629        794620        +      exoponential S                  \n",
       "5  291301        292292        +      exoponential S                  \n",
       "6 1570046        1571037       +      exoponential S                  \n",
       "  methylation_frequency_TK0872_rep1 mC_count_TK0872_rep1 coverage_TK0872_rep1\n",
       "1 0                                 0                     462                \n",
       "2 0                                 2                    1007                \n",
       "3 0                                 0                     417                \n",
       "4 0                                 1                     282                \n",
       "5 0                                 0                     209                \n",
       "6 0                                 0                     106                \n",
       "  methylation_frequency_TK0872_rep2 mC_count_TK0872_rep2 ⋯ amino_acid_sequence\n",
       "1 0.04                              11                   ⋯ .                  \n",
       "2 0.00                               5                   ⋯ CUC                \n",
       "3 0.01                               3                   ⋯ CUC                \n",
       "4 0.01                               2                   ⋯ CGT                \n",
       "5 0.01                               6                   ⋯ CCC                \n",
       "6 0.00                               0                   ⋯ .                  \n",
       "  amino_acid_ID local_41bp_predicted_fold                m5C_position_fold\n",
       "1 .             )))..))))))))........))))))))))))).((((( single_stranded  \n",
       "2 L             .....)))))))......))))))))))))))..)))))) base_paired      \n",
       "3 L             ))))...............(((((.......((((((.(( base_paired      \n",
       "4 R             ((((((((((..........((((..((..(........( base_paired      \n",
       "5 P             ....))))....))).))))))))....(((((.((.... base_paired      \n",
       "6 .             .                                        NA               \n",
       "  MFA     associated_TSS_id TSS_direction TSS_description total_annotations\n",
       "1 -440.69 .                 .             .               1                \n",
       "2 -134.88 .                 .             .               1                \n",
       "3 -63.12  .                 .             .               1                \n",
       "4 -122.17 .                 .             .               1                \n",
       "5 -80.89  .                 .             .               1                \n",
       "6 .       .                 .             .               1                \n",
       "  alternate_annotations\n",
       "1 NA                   \n",
       "2 NA                   \n",
       "3 NA                   \n",
       "4 NA                   \n",
       "5 NA                   \n",
       "6 NA                   "
      ]
     },
     "metadata": {},
     "output_type": "display_data"
    }
   ],
   "source": [
    "###strain TK0872\n",
    "\n",
    "defaultW <- getOption(\"warn\")\n",
    "options(warn = -1)\n",
    "\n",
    "\n",
    "#load CGmaps into session\n",
    "TK0872exoS_CGmap_rep1 <-read.delim(\"../cgmaps/TK0872exoS_totalRNA_Dec2016.CGmap\", sep='\\t', header=FALSE,col.names=cols) %>%\n",
    "    mutate(strain=\"TK0872\", growth_phase='exoponential', metabolic_condition=\"S\", replicate=\"rep1\")\n",
    "\n",
    "TK0872exoS_CGmap_rep2 <-read.delim(\"../cgmaps/TK0872exoS_totalRNA_Oct2020.CGmap\", sep='\\t', header=FALSE,col.names=cols) %>%\n",
    "    mutate(strain=\"TK0872\", growth_phase='exoponential', metabolic_condition=\"S\", replicate=\"rep2\")\n",
    "\n",
    "# process raw CGmaps\n",
    "TK0872exoS_rep1_df <- processCGmap(TK0872exoS_CGmap_rep1)\n",
    "TK0872exoS_rep2_df <- processCGmap(TK0872exoS_CGmap_rep2)\n",
    "\n",
    "#merge reps\n",
    "TK0872exoS <- merge_del_reps(x=TK0872exoS_rep1_df, y=TK0872exoS_rep2_df, strain='TK0872')\n",
    "\n",
    "# get quantiles\n",
    "\"quantiles:\"\n",
    "get_quantiles(strain_cgmap = TK0872exoS, strain=\"TK0872\", min_cov = 47)\n",
    "\n",
    "#compare methylation frequencies & annotate\n",
    "TK0872exoS_anal <- CompareCGmap(strain_cgmap = TK0872exoS, \n",
    "                                TS559_cgmap = TS559exoS, \n",
    "                                strain=\"TK0872\", \n",
    "                                annotation = annotation,\n",
    "                                min_cov = 47)\n",
    "\n",
    "#write.table(TK0872exoS_anal, file = \"../processed_cgmaps/TK0872exoS_annotated\", sep = \"\\t\", row.names = F)\n",
    "\n",
    "#enumerate gains & losses\n",
    "\"losses & gains:\"\n",
    "nrow( TK0872exoS_anal %>% filter(log2FC < 0) )\n",
    "nrow( TK0872exoS_anal %>% filter(log2FC > 0) )\n",
    "\n",
    "head(TK0872exoS_anal)\n",
    "\n",
    "TK0872exoS_cat <- enumerate_hiconf_2reps(strain_cgmap = TK0872exoS, strain=\"TK0872\",min_cov = 47)\n",
    "\n",
    "Sys.sleep(10)"
   ]
  },
  {
   "cell_type": "code",
   "execution_count": 13,
   "metadata": {},
   "outputs": [
    {
     "data": {
      "text/html": [
       "'quantiles:'"
      ],
      "text/latex": [
       "'quantiles:'"
      ],
      "text/markdown": [
       "'quantiles:'"
      ],
      "text/plain": [
       "[1] \"quantiles:\""
      ]
     },
     "metadata": {},
     "output_type": "display_data"
    },
    {
     "data": {
      "text/html": [
       "<style>\n",
       ".list-inline {list-style: none; margin:0; padding: 0}\n",
       ".list-inline>li {display: inline-block}\n",
       ".list-inline>li:not(:last-child)::after {content: \"\\00b7\"; padding: 0 .5ex}\n",
       "</style>\n",
       "<ol class=list-inline><li>17</li><li>6</li></ol>\n"
      ],
      "text/latex": [
       "\\begin{enumerate*}\n",
       "\\item 17\n",
       "\\item 6\n",
       "\\end{enumerate*}\n"
      ],
      "text/markdown": [
       "1. 17\n",
       "2. 6\n",
       "\n",
       "\n"
      ],
      "text/plain": [
       "[1] 17  6"
      ]
     },
     "metadata": {},
     "output_type": "display_data"
    },
    {
     "data": {
      "text/html": [
       "'losses &amp; gains:'"
      ],
      "text/latex": [
       "'losses \\& gains:'"
      ],
      "text/markdown": [
       "'losses &amp; gains:'"
      ],
      "text/plain": [
       "[1] \"losses & gains:\""
      ]
     },
     "metadata": {},
     "output_type": "display_data"
    },
    {
     "data": {
      "text/html": [
       "0"
      ],
      "text/latex": [
       "0"
      ],
      "text/markdown": [
       "0"
      ],
      "text/plain": [
       "[1] 0"
      ]
     },
     "metadata": {},
     "output_type": "display_data"
    },
    {
     "data": {
      "text/html": [
       "0"
      ],
      "text/latex": [
       "0"
      ],
      "text/markdown": [
       "0"
      ],
      "text/plain": [
       "[1] 0"
      ]
     },
     "metadata": {},
     "output_type": "display_data"
    },
    {
     "data": {
      "text/html": [
       "<table>\n",
       "<caption>A rowwise_df: 0 × 48</caption>\n",
       "<thead>\n",
       "\t<tr><th scope=col>TS559_position</th><th scope=col>KOD1_position</th><th scope=col>strand</th><th scope=col>growth_phase</th><th scope=col>metabolic_condition</th><th scope=col>methylation_frequency_TK1273_rep1</th><th scope=col>mC_count_TK1273_rep1</th><th scope=col>coverage_TK1273_rep1</th><th scope=col>methylation_frequency_TK1273_rep2</th><th scope=col>mC_count_TK1273_rep2</th><th scope=col>⋯</th><th scope=col>amino_acid_sequence</th><th scope=col>amino_acid_ID</th><th scope=col>local_41bp_predicted_fold</th><th scope=col>m5C_position_fold</th><th scope=col>MFA</th><th scope=col>associated_TSS_id</th><th scope=col>TSS_direction</th><th scope=col>TSS_description</th><th scope=col>total_annotations</th><th scope=col>alternate_annotations</th></tr>\n",
       "\t<tr><th scope=col>&lt;int&gt;</th><th scope=col>&lt;fct&gt;</th><th scope=col>&lt;fct&gt;</th><th scope=col>&lt;chr&gt;</th><th scope=col>&lt;chr&gt;</th><th scope=col>&lt;dbl&gt;</th><th scope=col>&lt;int&gt;</th><th scope=col>&lt;int&gt;</th><th scope=col>&lt;dbl&gt;</th><th scope=col>&lt;int&gt;</th><th scope=col>⋯</th><th scope=col>&lt;fct&gt;</th><th scope=col>&lt;fct&gt;</th><th scope=col>&lt;fct&gt;</th><th scope=col>&lt;fct&gt;</th><th scope=col>&lt;fct&gt;</th><th scope=col>&lt;fct&gt;</th><th scope=col>&lt;fct&gt;</th><th scope=col>&lt;fct&gt;</th><th scope=col>&lt;int&gt;</th><th scope=col>&lt;fct&gt;</th></tr>\n",
       "</thead>\n",
       "<tbody>\n",
       "</tbody>\n",
       "</table>\n"
      ],
      "text/latex": [
       "A rowwise\\_df: 0 × 48\n",
       "\\begin{tabular}{lllllllllllllllllllll}\n",
       " TS559\\_position & KOD1\\_position & strand & growth\\_phase & metabolic\\_condition & methylation\\_frequency\\_TK1273\\_rep1 & mC\\_count\\_TK1273\\_rep1 & coverage\\_TK1273\\_rep1 & methylation\\_frequency\\_TK1273\\_rep2 & mC\\_count\\_TK1273\\_rep2 & ⋯ & amino\\_acid\\_sequence & amino\\_acid\\_ID & local\\_41bp\\_predicted\\_fold & m5C\\_position\\_fold & MFA & associated\\_TSS\\_id & TSS\\_direction & TSS\\_description & total\\_annotations & alternate\\_annotations\\\\\n",
       " <int> & <fct> & <fct> & <chr> & <chr> & <dbl> & <int> & <int> & <dbl> & <int> & ⋯ & <fct> & <fct> & <fct> & <fct> & <fct> & <fct> & <fct> & <fct> & <int> & <fct>\\\\\n",
       "\\hline\n",
       "\\end{tabular}\n"
      ],
      "text/markdown": [
       "\n",
       "A rowwise_df: 0 × 48\n",
       "\n",
       "| TS559_position &lt;int&gt; | KOD1_position &lt;fct&gt; | strand &lt;fct&gt; | growth_phase &lt;chr&gt; | metabolic_condition &lt;chr&gt; | methylation_frequency_TK1273_rep1 &lt;dbl&gt; | mC_count_TK1273_rep1 &lt;int&gt; | coverage_TK1273_rep1 &lt;int&gt; | methylation_frequency_TK1273_rep2 &lt;dbl&gt; | mC_count_TK1273_rep2 &lt;int&gt; | ⋯ ⋯ | amino_acid_sequence &lt;fct&gt; | amino_acid_ID &lt;fct&gt; | local_41bp_predicted_fold &lt;fct&gt; | m5C_position_fold &lt;fct&gt; | MFA &lt;fct&gt; | associated_TSS_id &lt;fct&gt; | TSS_direction &lt;fct&gt; | TSS_description &lt;fct&gt; | total_annotations &lt;int&gt; | alternate_annotations &lt;fct&gt; |\n",
       "|---|---|---|---|---|---|---|---|---|---|---|---|---|---|---|---|---|---|---|---|---|\n",
       "\n"
      ],
      "text/plain": [
       "     TS559_position KOD1_position strand growth_phase metabolic_condition\n",
       "     methylation_frequency_TK1273_rep1 mC_count_TK1273_rep1\n",
       "     coverage_TK1273_rep1 methylation_frequency_TK1273_rep2\n",
       "     mC_count_TK1273_rep2 ⋯ amino_acid_sequence amino_acid_ID\n",
       "     local_41bp_predicted_fold m5C_position_fold MFA associated_TSS_id\n",
       "     TSS_direction TSS_description total_annotations alternate_annotations"
      ]
     },
     "metadata": {},
     "output_type": "display_data"
    }
   ],
   "source": [
    "###strain TK1273\n",
    "\n",
    "defaultW <- getOption(\"warn\")\n",
    "options(warn = -1)\n",
    "\n",
    "\n",
    "#load CGmaps into session\n",
    "TK1273exoS_CGmap_rep1 <-read.delim(\"../cgmaps/TK1273exoS_totalRNA_Dec2016.CGmap\", sep='\\t', header=FALSE,col.names=cols) %>%\n",
    "    mutate(strain=\"TK1273\", growth_phase='exoponential', metabolic_condition=\"S\", replicate=\"rep1\")\n",
    "\n",
    "TK1273exoS_CGmap_rep2 <-read.delim(\"../cgmaps/TK1273exoS_totalRNA_Oct2020.CGmap\", sep='\\t', header=FALSE,col.names=cols) %>%\n",
    "    mutate(strain=\"TK1273\", growth_phase='exoponential', metabolic_condition=\"S\", replicate=\"rep2\")\n",
    "\n",
    "# process raw CGmaps\n",
    "TK1273exoS_rep1_df <- processCGmap(TK1273exoS_CGmap_rep1)\n",
    "TK1273exoS_rep2_df <- processCGmap(TK1273exoS_CGmap_rep2)\n",
    "\n",
    "#merge reps\n",
    "TK1273exoS <- merge_del_reps(x=TK1273exoS_rep1_df, y=TK1273exoS_rep2_df, strain='TK1273')\n",
    "\n",
    "# get quantiles\n",
    "\"quantiles:\"\n",
    "get_quantiles(strain_cgmap = TK1273exoS, strain=\"TK1273\", min_cov = 47)\n",
    "\n",
    "#compare methylation frequencies & annotate\n",
    "TK1273exoS_anal <- CompareCGmap(strain_cgmap = TK1273exoS, \n",
    "                                TS559_cgmap = TS559exoS, \n",
    "                                strain=\"TK1273\", \n",
    "                                annotation = annotation,\n",
    "                                min_cov = 47)\n",
    "\n",
    "#write.table(TK1273exoS_anal, file = \"../processed_cgmaps/TK1273exoS_annotated\", sep = \"\\t\", row.names = F)\n",
    "\n",
    "#enumerate gains & losses\n",
    "\"losses & gains:\"\n",
    "nrow( TK1273exoS_anal %>% filter(log2FC < 0) )\n",
    "nrow( TK1273exoS_anal %>% filter(log2FC > 0) )\n",
    "\n",
    "head(TK1273exoS_anal)\n",
    "\n",
    "TK1273exoS_cat <- enumerate_hiconf_2reps(strain_cgmap = TK1273exoS, strain=\"TK1273\",min_cov = 47)\n",
    "\n",
    "Sys.sleep(10)"
   ]
  },
  {
   "cell_type": "code",
   "execution_count": 14,
   "metadata": {},
   "outputs": [
    {
     "data": {
      "text/html": [
       "'quantiles:'"
      ],
      "text/latex": [
       "'quantiles:'"
      ],
      "text/markdown": [
       "'quantiles:'"
      ],
      "text/plain": [
       "[1] \"quantiles:\""
      ]
     },
     "metadata": {},
     "output_type": "display_data"
    },
    {
     "data": {
      "text/html": [
       "<style>\n",
       ".list-inline {list-style: none; margin:0; padding: 0}\n",
       ".list-inline>li {display: inline-block}\n",
       ".list-inline>li:not(:last-child)::after {content: \"\\00b7\"; padding: 0 .5ex}\n",
       "</style>\n",
       "<ol class=list-inline><li>6</li><li>8</li></ol>\n"
      ],
      "text/latex": [
       "\\begin{enumerate*}\n",
       "\\item 6\n",
       "\\item 8\n",
       "\\end{enumerate*}\n"
      ],
      "text/markdown": [
       "1. 6\n",
       "2. 8\n",
       "\n",
       "\n"
      ],
      "text/plain": [
       "[1] 6 8"
      ]
     },
     "metadata": {},
     "output_type": "display_data"
    },
    {
     "data": {
      "text/html": [
       "'losses &amp; gains:'"
      ],
      "text/latex": [
       "'losses \\& gains:'"
      ],
      "text/markdown": [
       "'losses &amp; gains:'"
      ],
      "text/plain": [
       "[1] \"losses & gains:\""
      ]
     },
     "metadata": {},
     "output_type": "display_data"
    },
    {
     "data": {
      "text/html": [
       "0"
      ],
      "text/latex": [
       "0"
      ],
      "text/markdown": [
       "0"
      ],
      "text/plain": [
       "[1] 0"
      ]
     },
     "metadata": {},
     "output_type": "display_data"
    },
    {
     "data": {
      "text/html": [
       "2"
      ],
      "text/latex": [
       "2"
      ],
      "text/markdown": [
       "2"
      ],
      "text/plain": [
       "[1] 2"
      ]
     },
     "metadata": {},
     "output_type": "display_data"
    },
    {
     "data": {
      "text/html": [
       "<table>\n",
       "<caption>A rowwise_df: 2 × 48</caption>\n",
       "<thead>\n",
       "\t<tr><th scope=col>TS559_position</th><th scope=col>KOD1_position</th><th scope=col>strand</th><th scope=col>growth_phase</th><th scope=col>metabolic_condition</th><th scope=col>methylation_frequency_TK1917_rep1</th><th scope=col>mC_count_TK1917_rep1</th><th scope=col>coverage_TK1917_rep1</th><th scope=col>methylation_frequency_TK1917_rep2</th><th scope=col>mC_count_TK1917_rep2</th><th scope=col>⋯</th><th scope=col>amino_acid_sequence</th><th scope=col>amino_acid_ID</th><th scope=col>local_41bp_predicted_fold</th><th scope=col>m5C_position_fold</th><th scope=col>MFA</th><th scope=col>associated_TSS_id</th><th scope=col>TSS_direction</th><th scope=col>TSS_description</th><th scope=col>total_annotations</th><th scope=col>alternate_annotations</th></tr>\n",
       "\t<tr><th scope=col>&lt;int&gt;</th><th scope=col>&lt;fct&gt;</th><th scope=col>&lt;fct&gt;</th><th scope=col>&lt;chr&gt;</th><th scope=col>&lt;chr&gt;</th><th scope=col>&lt;dbl&gt;</th><th scope=col>&lt;int&gt;</th><th scope=col>&lt;int&gt;</th><th scope=col>&lt;dbl&gt;</th><th scope=col>&lt;int&gt;</th><th scope=col>⋯</th><th scope=col>&lt;fct&gt;</th><th scope=col>&lt;fct&gt;</th><th scope=col>&lt;fct&gt;</th><th scope=col>&lt;fct&gt;</th><th scope=col>&lt;fct&gt;</th><th scope=col>&lt;fct&gt;</th><th scope=col>&lt;fct&gt;</th><th scope=col>&lt;fct&gt;</th><th scope=col>&lt;int&gt;</th><th scope=col>&lt;fct&gt;</th></tr>\n",
       "</thead>\n",
       "<tbody>\n",
       "\t<tr><td>857947</td><td>858938</td><td>+</td><td>exoponential</td><td>S</td><td>0.37</td><td>11</td><td>30</td><td>0.48</td><td>60</td><td>⋯</td><td>.</td><td>.</td><td>.</td><td>NA</td><td>.</td><td>.</td><td>.</td><td>.</td><td>1</td><td>NA</td></tr>\n",
       "\t<tr><td>371940</td><td>372931</td><td>+</td><td>exoponential</td><td>S</td><td>0.18</td><td> 2</td><td>11</td><td>0.20</td><td>35</td><td>⋯</td><td>.</td><td>.</td><td>.</td><td>NA</td><td>.</td><td>.</td><td>.</td><td>.</td><td>1</td><td>NA</td></tr>\n",
       "</tbody>\n",
       "</table>\n"
      ],
      "text/latex": [
       "A rowwise\\_df: 2 × 48\n",
       "\\begin{tabular}{lllllllllllllllllllll}\n",
       " TS559\\_position & KOD1\\_position & strand & growth\\_phase & metabolic\\_condition & methylation\\_frequency\\_TK1917\\_rep1 & mC\\_count\\_TK1917\\_rep1 & coverage\\_TK1917\\_rep1 & methylation\\_frequency\\_TK1917\\_rep2 & mC\\_count\\_TK1917\\_rep2 & ⋯ & amino\\_acid\\_sequence & amino\\_acid\\_ID & local\\_41bp\\_predicted\\_fold & m5C\\_position\\_fold & MFA & associated\\_TSS\\_id & TSS\\_direction & TSS\\_description & total\\_annotations & alternate\\_annotations\\\\\n",
       " <int> & <fct> & <fct> & <chr> & <chr> & <dbl> & <int> & <int> & <dbl> & <int> & ⋯ & <fct> & <fct> & <fct> & <fct> & <fct> & <fct> & <fct> & <fct> & <int> & <fct>\\\\\n",
       "\\hline\n",
       "\t 857947 & 858938 & + & exoponential & S & 0.37 & 11 & 30 & 0.48 & 60 & ⋯ & . & . & . & NA & . & . & . & . & 1 & NA\\\\\n",
       "\t 371940 & 372931 & + & exoponential & S & 0.18 &  2 & 11 & 0.20 & 35 & ⋯ & . & . & . & NA & . & . & . & . & 1 & NA\\\\\n",
       "\\end{tabular}\n"
      ],
      "text/markdown": [
       "\n",
       "A rowwise_df: 2 × 48\n",
       "\n",
       "| TS559_position &lt;int&gt; | KOD1_position &lt;fct&gt; | strand &lt;fct&gt; | growth_phase &lt;chr&gt; | metabolic_condition &lt;chr&gt; | methylation_frequency_TK1917_rep1 &lt;dbl&gt; | mC_count_TK1917_rep1 &lt;int&gt; | coverage_TK1917_rep1 &lt;int&gt; | methylation_frequency_TK1917_rep2 &lt;dbl&gt; | mC_count_TK1917_rep2 &lt;int&gt; | ⋯ ⋯ | amino_acid_sequence &lt;fct&gt; | amino_acid_ID &lt;fct&gt; | local_41bp_predicted_fold &lt;fct&gt; | m5C_position_fold &lt;fct&gt; | MFA &lt;fct&gt; | associated_TSS_id &lt;fct&gt; | TSS_direction &lt;fct&gt; | TSS_description &lt;fct&gt; | total_annotations &lt;int&gt; | alternate_annotations &lt;fct&gt; |\n",
       "|---|---|---|---|---|---|---|---|---|---|---|---|---|---|---|---|---|---|---|---|---|\n",
       "| 857947 | 858938 | + | exoponential | S | 0.37 | 11 | 30 | 0.48 | 60 | ⋯ | . | . | . | NA | . | . | . | . | 1 | NA |\n",
       "| 371940 | 372931 | + | exoponential | S | 0.18 |  2 | 11 | 0.20 | 35 | ⋯ | . | . | . | NA | . | . | . | . | 1 | NA |\n",
       "\n"
      ],
      "text/plain": [
       "  TS559_position KOD1_position strand growth_phase metabolic_condition\n",
       "1 857947         858938        +      exoponential S                  \n",
       "2 371940         372931        +      exoponential S                  \n",
       "  methylation_frequency_TK1917_rep1 mC_count_TK1917_rep1 coverage_TK1917_rep1\n",
       "1 0.37                              11                   30                  \n",
       "2 0.18                               2                   11                  \n",
       "  methylation_frequency_TK1917_rep2 mC_count_TK1917_rep2 ⋯ amino_acid_sequence\n",
       "1 0.48                              60                   ⋯ .                  \n",
       "2 0.20                              35                   ⋯ .                  \n",
       "  amino_acid_ID local_41bp_predicted_fold m5C_position_fold MFA\n",
       "1 .             .                         NA                .  \n",
       "2 .             .                         NA                .  \n",
       "  associated_TSS_id TSS_direction TSS_description total_annotations\n",
       "1 .                 .             .               1                \n",
       "2 .                 .             .               1                \n",
       "  alternate_annotations\n",
       "1 NA                   \n",
       "2 NA                   "
      ]
     },
     "metadata": {},
     "output_type": "display_data"
    }
   ],
   "source": [
    "###strain TK1917\n",
    "\n",
    "defaultW <- getOption(\"warn\")\n",
    "options(warn = -1)\n",
    "\n",
    "\n",
    "#load CGmaps into session\n",
    "TK1917exoS_CGmap_rep1 <-read.delim(\"../cgmaps/TK1917exoS_totalRNA_Dec2016.CGmap\", sep='\\t', header=FALSE,col.names=cols) %>%\n",
    "    mutate(strain=\"TK1917\", growth_phase='exoponential', metabolic_condition=\"S\", replicate=\"rep1\")\n",
    "\n",
    "TK1917exoS_CGmap_rep2 <-read.delim(\"../cgmaps/TK1917exoS_totalRNA_Oct2020.CGmap\", sep='\\t', header=FALSE,col.names=cols) %>%\n",
    "    mutate(strain=\"TK1917\", growth_phase='exoponential', metabolic_condition=\"S\", replicate=\"rep2\")\n",
    "\n",
    "# process raw CGmaps\n",
    "TK1917exoS_rep1_df <- processCGmap(TK1917exoS_CGmap_rep1)\n",
    "TK1917exoS_rep2_df <- processCGmap(TK1917exoS_CGmap_rep2)\n",
    "\n",
    "#merge reps\n",
    "TK1917exoS <- merge_del_reps(x=TK1917exoS_rep1_df, y=TK1917exoS_rep2_df, strain='TK1917')\n",
    "\n",
    "# get quantiles\n",
    "\"quantiles:\"\n",
    "get_quantiles(strain_cgmap = TK1917exoS, strain=\"TK1917\", min_cov = 47)\n",
    "\n",
    "#compare methylation frequencies & annotate\n",
    "TK1917exoS_anal <- CompareCGmap(strain_cgmap = TK1917exoS, \n",
    "                                TS559_cgmap = TS559exoS, \n",
    "                                strain=\"TK1917\", \n",
    "                                annotation = annotation,\n",
    "                                min_cov = 47)\n",
    "\n",
    "#write.table(TK1917exoS_anal, file = \"../processed_cgmaps/TK1917exoS_annotated\", sep = \"\\t\", row.names = F)\n",
    "\n",
    "#enumerate gains & losses\n",
    "\"losses & gains:\"\n",
    "nrow( TK1917exoS_anal %>% filter(log2FC < 0) )\n",
    "nrow( TK1917exoS_anal %>% filter(log2FC > 0) )\n",
    "\n",
    "head(TK1917exoS_anal)\n",
    "\n",
    "TK1917exoS_cat <- enumerate_hiconf_2reps(strain_cgmap = TK1917exoS, strain=\"TK1917\",min_cov = 47)\n",
    "\n",
    "Sys.sleep(10)"
   ]
  },
  {
   "cell_type": "code",
   "execution_count": 15,
   "metadata": {},
   "outputs": [
    {
     "data": {
      "text/html": [
       "'quantiles:'"
      ],
      "text/latex": [
       "'quantiles:'"
      ],
      "text/markdown": [
       "'quantiles:'"
      ],
      "text/plain": [
       "[1] \"quantiles:\""
      ]
     },
     "metadata": {},
     "output_type": "display_data"
    },
    {
     "data": {
      "text/html": [
       "<style>\n",
       ".list-inline {list-style: none; margin:0; padding: 0}\n",
       ".list-inline>li {display: inline-block}\n",
       ".list-inline>li:not(:last-child)::after {content: \"\\00b7\"; padding: 0 .5ex}\n",
       "</style>\n",
       "<ol class=list-inline><li>6</li><li>5</li></ol>\n"
      ],
      "text/latex": [
       "\\begin{enumerate*}\n",
       "\\item 6\n",
       "\\item 5\n",
       "\\end{enumerate*}\n"
      ],
      "text/markdown": [
       "1. 6\n",
       "2. 5\n",
       "\n",
       "\n"
      ],
      "text/plain": [
       "[1] 6 5"
      ]
     },
     "metadata": {},
     "output_type": "display_data"
    },
    {
     "data": {
      "text/html": [
       "'losses &amp; gains:'"
      ],
      "text/latex": [
       "'losses \\& gains:'"
      ],
      "text/markdown": [
       "'losses &amp; gains:'"
      ],
      "text/plain": [
       "[1] \"losses & gains:\""
      ]
     },
     "metadata": {},
     "output_type": "display_data"
    },
    {
     "data": {
      "text/html": [
       "13"
      ],
      "text/latex": [
       "13"
      ],
      "text/markdown": [
       "13"
      ],
      "text/plain": [
       "[1] 13"
      ]
     },
     "metadata": {},
     "output_type": "display_data"
    },
    {
     "data": {
      "text/html": [
       "4"
      ],
      "text/latex": [
       "4"
      ],
      "text/markdown": [
       "4"
      ],
      "text/plain": [
       "[1] 4"
      ]
     },
     "metadata": {},
     "output_type": "display_data"
    },
    {
     "data": {
      "text/html": [
       "<table>\n",
       "<caption>A rowwise_df: 6 × 48</caption>\n",
       "<thead>\n",
       "\t<tr><th scope=col>TS559_position</th><th scope=col>KOD1_position</th><th scope=col>strand</th><th scope=col>growth_phase</th><th scope=col>metabolic_condition</th><th scope=col>methylation_frequency_TK1935_rep1</th><th scope=col>mC_count_TK1935_rep1</th><th scope=col>coverage_TK1935_rep1</th><th scope=col>methylation_frequency_TK1935_rep2</th><th scope=col>mC_count_TK1935_rep2</th><th scope=col>⋯</th><th scope=col>amino_acid_sequence</th><th scope=col>amino_acid_ID</th><th scope=col>local_41bp_predicted_fold</th><th scope=col>m5C_position_fold</th><th scope=col>MFA</th><th scope=col>associated_TSS_id</th><th scope=col>TSS_direction</th><th scope=col>TSS_description</th><th scope=col>total_annotations</th><th scope=col>alternate_annotations</th></tr>\n",
       "\t<tr><th scope=col>&lt;int&gt;</th><th scope=col>&lt;fct&gt;</th><th scope=col>&lt;fct&gt;</th><th scope=col>&lt;chr&gt;</th><th scope=col>&lt;chr&gt;</th><th scope=col>&lt;dbl&gt;</th><th scope=col>&lt;int&gt;</th><th scope=col>&lt;int&gt;</th><th scope=col>&lt;dbl&gt;</th><th scope=col>&lt;int&gt;</th><th scope=col>⋯</th><th scope=col>&lt;fct&gt;</th><th scope=col>&lt;fct&gt;</th><th scope=col>&lt;fct&gt;</th><th scope=col>&lt;fct&gt;</th><th scope=col>&lt;fct&gt;</th><th scope=col>&lt;fct&gt;</th><th scope=col>&lt;fct&gt;</th><th scope=col>&lt;fct&gt;</th><th scope=col>&lt;int&gt;</th><th scope=col>&lt;fct&gt;</th></tr>\n",
       "</thead>\n",
       "<tbody>\n",
       "\t<tr><td>2022329</td><td>2023320</td><td>+</td><td>exoponential</td><td>S</td><td>0</td><td>2</td><td>5145</td><td>0</td><td>1</td><td>⋯</td><td>.  </td><td>.</td><td>)))).........(((((...((((((....(((.....)</td><td>single_stranded</td><td>-224.51</td><td>.</td><td>.</td><td>.</td><td>1</td><td>NA</td></tr>\n",
       "\t<tr><td>2026031</td><td>2027022</td><td>+</td><td>exoponential</td><td>S</td><td>0</td><td>1</td><td>7425</td><td>0</td><td>3</td><td>⋯</td><td>.  </td><td>.</td><td>))...))))...)))))....))))))))...(((((((.</td><td>single_stranded</td><td>-440.69</td><td>.</td><td>.</td><td>.</td><td>1</td><td>NA</td></tr>\n",
       "\t<tr><td>2025660</td><td>2026651</td><td>+</td><td>exoponential</td><td>S</td><td>0</td><td>1</td><td>3022</td><td>0</td><td>0</td><td>⋯</td><td>.  </td><td>.</td><td>..........((((((.....)))))).............</td><td>single_stranded</td><td>-440.69</td><td>.</td><td>.</td><td>.</td><td>1</td><td>NA</td></tr>\n",
       "\t<tr><td> 108886</td><td>108886 </td><td>-</td><td>exoponential</td><td>S</td><td>0</td><td>0</td><td> 496</td><td>0</td><td>1</td><td>⋯</td><td>GCC</td><td>A</td><td>....))))).......................(((((((.</td><td>single_stranded</td><td>-46.45 </td><td>.</td><td>.</td><td>.</td><td>1</td><td>NA</td></tr>\n",
       "\t<tr><td>  90325</td><td>90325  </td><td>+</td><td>exoponential</td><td>S</td><td>0</td><td>1</td><td>1216</td><td>0</td><td>0</td><td>⋯</td><td>GCC</td><td>A</td><td>(...((((((......((..(..(((((............</td><td>base_paired    </td><td>-12.97 </td><td>.</td><td>.</td><td>.</td><td>1</td><td>NA</td></tr>\n",
       "\t<tr><td> 162074</td><td>162541 </td><td>-</td><td>exoponential</td><td>S</td><td>0</td><td>0</td><td> 462</td><td>0</td><td>1</td><td>⋯</td><td>GCU</td><td>A</td><td>(((....))))))..............)))..)....)))</td><td>single_stranded</td><td>-107.55</td><td>.</td><td>.</td><td>.</td><td>1</td><td>NA</td></tr>\n",
       "</tbody>\n",
       "</table>\n"
      ],
      "text/latex": [
       "A rowwise\\_df: 6 × 48\n",
       "\\begin{tabular}{lllllllllllllllllllll}\n",
       " TS559\\_position & KOD1\\_position & strand & growth\\_phase & metabolic\\_condition & methylation\\_frequency\\_TK1935\\_rep1 & mC\\_count\\_TK1935\\_rep1 & coverage\\_TK1935\\_rep1 & methylation\\_frequency\\_TK1935\\_rep2 & mC\\_count\\_TK1935\\_rep2 & ⋯ & amino\\_acid\\_sequence & amino\\_acid\\_ID & local\\_41bp\\_predicted\\_fold & m5C\\_position\\_fold & MFA & associated\\_TSS\\_id & TSS\\_direction & TSS\\_description & total\\_annotations & alternate\\_annotations\\\\\n",
       " <int> & <fct> & <fct> & <chr> & <chr> & <dbl> & <int> & <int> & <dbl> & <int> & ⋯ & <fct> & <fct> & <fct> & <fct> & <fct> & <fct> & <fct> & <fct> & <int> & <fct>\\\\\n",
       "\\hline\n",
       "\t 2022329 & 2023320 & + & exoponential & S & 0 & 2 & 5145 & 0 & 1 & ⋯ & .   & . & )))).........(((((...((((((....(((.....) & single\\_stranded & -224.51 & . & . & . & 1 & NA\\\\\n",
       "\t 2026031 & 2027022 & + & exoponential & S & 0 & 1 & 7425 & 0 & 3 & ⋯ & .   & . & ))...))))...)))))....))))))))...(((((((. & single\\_stranded & -440.69 & . & . & . & 1 & NA\\\\\n",
       "\t 2025660 & 2026651 & + & exoponential & S & 0 & 1 & 3022 & 0 & 0 & ⋯ & .   & . & ..........((((((.....))))))............. & single\\_stranded & -440.69 & . & . & . & 1 & NA\\\\\n",
       "\t  108886 & 108886  & - & exoponential & S & 0 & 0 &  496 & 0 & 1 & ⋯ & GCC & A & ....))))).......................(((((((. & single\\_stranded & -46.45  & . & . & . & 1 & NA\\\\\n",
       "\t   90325 & 90325   & + & exoponential & S & 0 & 1 & 1216 & 0 & 0 & ⋯ & GCC & A & (...((((((......((..(..(((((............ & base\\_paired     & -12.97  & . & . & . & 1 & NA\\\\\n",
       "\t  162074 & 162541  & - & exoponential & S & 0 & 0 &  462 & 0 & 1 & ⋯ & GCU & A & (((....))))))..............)))..)....))) & single\\_stranded & -107.55 & . & . & . & 1 & NA\\\\\n",
       "\\end{tabular}\n"
      ],
      "text/markdown": [
       "\n",
       "A rowwise_df: 6 × 48\n",
       "\n",
       "| TS559_position &lt;int&gt; | KOD1_position &lt;fct&gt; | strand &lt;fct&gt; | growth_phase &lt;chr&gt; | metabolic_condition &lt;chr&gt; | methylation_frequency_TK1935_rep1 &lt;dbl&gt; | mC_count_TK1935_rep1 &lt;int&gt; | coverage_TK1935_rep1 &lt;int&gt; | methylation_frequency_TK1935_rep2 &lt;dbl&gt; | mC_count_TK1935_rep2 &lt;int&gt; | ⋯ ⋯ | amino_acid_sequence &lt;fct&gt; | amino_acid_ID &lt;fct&gt; | local_41bp_predicted_fold &lt;fct&gt; | m5C_position_fold &lt;fct&gt; | MFA &lt;fct&gt; | associated_TSS_id &lt;fct&gt; | TSS_direction &lt;fct&gt; | TSS_description &lt;fct&gt; | total_annotations &lt;int&gt; | alternate_annotations &lt;fct&gt; |\n",
       "|---|---|---|---|---|---|---|---|---|---|---|---|---|---|---|---|---|---|---|---|---|\n",
       "| 2022329 | 2023320 | + | exoponential | S | 0 | 2 | 5145 | 0 | 1 | ⋯ | .   | . | )))).........(((((...((((((....(((.....) | single_stranded | -224.51 | . | . | . | 1 | NA |\n",
       "| 2026031 | 2027022 | + | exoponential | S | 0 | 1 | 7425 | 0 | 3 | ⋯ | .   | . | ))...))))...)))))....))))))))...(((((((. | single_stranded | -440.69 | . | . | . | 1 | NA |\n",
       "| 2025660 | 2026651 | + | exoponential | S | 0 | 1 | 3022 | 0 | 0 | ⋯ | .   | . | ..........((((((.....))))))............. | single_stranded | -440.69 | . | . | . | 1 | NA |\n",
       "|  108886 | 108886  | - | exoponential | S | 0 | 0 |  496 | 0 | 1 | ⋯ | GCC | A | ....))))).......................(((((((. | single_stranded | -46.45  | . | . | . | 1 | NA |\n",
       "|   90325 | 90325   | + | exoponential | S | 0 | 1 | 1216 | 0 | 0 | ⋯ | GCC | A | (...((((((......((..(..(((((............ | base_paired     | -12.97  | . | . | . | 1 | NA |\n",
       "|  162074 | 162541  | - | exoponential | S | 0 | 0 |  462 | 0 | 1 | ⋯ | GCU | A | (((....))))))..............)))..)....))) | single_stranded | -107.55 | . | . | . | 1 | NA |\n",
       "\n"
      ],
      "text/plain": [
       "  TS559_position KOD1_position strand growth_phase metabolic_condition\n",
       "1 2022329        2023320       +      exoponential S                  \n",
       "2 2026031        2027022       +      exoponential S                  \n",
       "3 2025660        2026651       +      exoponential S                  \n",
       "4  108886        108886        -      exoponential S                  \n",
       "5   90325        90325         +      exoponential S                  \n",
       "6  162074        162541        -      exoponential S                  \n",
       "  methylation_frequency_TK1935_rep1 mC_count_TK1935_rep1 coverage_TK1935_rep1\n",
       "1 0                                 2                    5145                \n",
       "2 0                                 1                    7425                \n",
       "3 0                                 1                    3022                \n",
       "4 0                                 0                     496                \n",
       "5 0                                 1                    1216                \n",
       "6 0                                 0                     462                \n",
       "  methylation_frequency_TK1935_rep2 mC_count_TK1935_rep2 ⋯ amino_acid_sequence\n",
       "1 0                                 1                    ⋯ .                  \n",
       "2 0                                 3                    ⋯ .                  \n",
       "3 0                                 0                    ⋯ .                  \n",
       "4 0                                 1                    ⋯ GCC                \n",
       "5 0                                 0                    ⋯ GCC                \n",
       "6 0                                 1                    ⋯ GCU                \n",
       "  amino_acid_ID local_41bp_predicted_fold                m5C_position_fold\n",
       "1 .             )))).........(((((...((((((....(((.....) single_stranded  \n",
       "2 .             ))...))))...)))))....))))))))...(((((((. single_stranded  \n",
       "3 .             ..........((((((.....))))))............. single_stranded  \n",
       "4 A             ....))))).......................(((((((. single_stranded  \n",
       "5 A             (...((((((......((..(..(((((............ base_paired      \n",
       "6 A             (((....))))))..............)))..)....))) single_stranded  \n",
       "  MFA     associated_TSS_id TSS_direction TSS_description total_annotations\n",
       "1 -224.51 .                 .             .               1                \n",
       "2 -440.69 .                 .             .               1                \n",
       "3 -440.69 .                 .             .               1                \n",
       "4 -46.45  .                 .             .               1                \n",
       "5 -12.97  .                 .             .               1                \n",
       "6 -107.55 .                 .             .               1                \n",
       "  alternate_annotations\n",
       "1 NA                   \n",
       "2 NA                   \n",
       "3 NA                   \n",
       "4 NA                   \n",
       "5 NA                   \n",
       "6 NA                   "
      ]
     },
     "metadata": {},
     "output_type": "display_data"
    }
   ],
   "source": [
    "###strain TK1935\n",
    "\n",
    "defaultW <- getOption(\"warn\")\n",
    "options(warn = -1)\n",
    "\n",
    "\n",
    "#load CGmaps into session\n",
    "TK1935exoS_CGmap_rep1 <-read.delim(\"../cgmaps/TK1935exoS_totalRNA_Dec2016.CGmap\", sep='\\t', header=FALSE,col.names=cols) %>%\n",
    "    mutate(strain=\"TK1935\", growth_phase='exoponential', metabolic_condition=\"S\", replicate=\"rep1\")\n",
    "\n",
    "TK1935exoS_CGmap_rep2 <-read.delim(\"../cgmaps/TK1935exoS_totalRNA_Oct2020.CGmap\", sep='\\t', header=FALSE,col.names=cols) %>%\n",
    "    mutate(strain=\"TK1935\", growth_phase='exoponential', metabolic_condition=\"S\", replicate=\"rep2\")\n",
    "\n",
    "# process raw CGmaps\n",
    "TK1935exoS_rep1_df <- processCGmap(TK1935exoS_CGmap_rep1)\n",
    "TK1935exoS_rep2_df <- processCGmap(TK1935exoS_CGmap_rep2)\n",
    "\n",
    "#merge reps\n",
    "TK1935exoS <- merge_del_reps(x=TK1935exoS_rep1_df, y=TK1935exoS_rep2_df, strain='TK1935')\n",
    "\n",
    "# get quantiles\n",
    "\"quantiles:\"\n",
    "get_quantiles(strain_cgmap = TK1935exoS, strain=\"TK1935\", min_cov = 47)\n",
    "\n",
    "#compare methylation frequencies & annotate\n",
    "TK1935exoS_anal <- CompareCGmap(strain_cgmap = TK1935exoS, \n",
    "                                TS559_cgmap = TS559exoS, \n",
    "                                strain=\"TK1935\", \n",
    "                                annotation = annotation,\n",
    "                                min_cov = 47)\n",
    "\n",
    "#write.table(TK1935exoS_anal, file = \"../processed_cgmaps/TK1935exoS_annotated\", sep = \"\\t\", row.names = F)\n",
    "\n",
    "#enumerate gains & losses\n",
    "\"losses & gains:\"\n",
    "nrow( TK1935exoS_anal %>% filter(log2FC < 0) )\n",
    "nrow( TK1935exoS_anal %>% filter(log2FC > 0) )\n",
    "\n",
    "head(TK1935exoS_anal)\n",
    "\n",
    "TK1935exoS_cat <- enumerate_hiconf_2reps(strain_cgmap = TK1935exoS, strain=\"TK1935\",min_cov = 47)\n",
    "\n",
    "Sys.sleep(10)"
   ]
  },
  {
   "cell_type": "code",
   "execution_count": 16,
   "metadata": {},
   "outputs": [
    {
     "data": {
      "text/html": [
       "'quantiles:'"
      ],
      "text/latex": [
       "'quantiles:'"
      ],
      "text/markdown": [
       "'quantiles:'"
      ],
      "text/plain": [
       "[1] \"quantiles:\""
      ]
     },
     "metadata": {},
     "output_type": "display_data"
    },
    {
     "data": {
      "text/html": [
       "<style>\n",
       ".list-inline {list-style: none; margin:0; padding: 0}\n",
       ".list-inline>li {display: inline-block}\n",
       ".list-inline>li:not(:last-child)::after {content: \"\\00b7\"; padding: 0 .5ex}\n",
       "</style>\n",
       "<ol class=list-inline><li>18</li><li>6</li></ol>\n"
      ],
      "text/latex": [
       "\\begin{enumerate*}\n",
       "\\item 18\n",
       "\\item 6\n",
       "\\end{enumerate*}\n"
      ],
      "text/markdown": [
       "1. 18\n",
       "2. 6\n",
       "\n",
       "\n"
      ],
      "text/plain": [
       "[1] 18  6"
      ]
     },
     "metadata": {},
     "output_type": "display_data"
    },
    {
     "data": {
      "text/html": [
       "'losses &amp; gains:'"
      ],
      "text/latex": [
       "'losses \\& gains:'"
      ],
      "text/markdown": [
       "'losses &amp; gains:'"
      ],
      "text/plain": [
       "[1] \"losses & gains:\""
      ]
     },
     "metadata": {},
     "output_type": "display_data"
    },
    {
     "data": {
      "text/html": [
       "10"
      ],
      "text/latex": [
       "10"
      ],
      "text/markdown": [
       "10"
      ],
      "text/plain": [
       "[1] 10"
      ]
     },
     "metadata": {},
     "output_type": "display_data"
    },
    {
     "data": {
      "text/html": [
       "0"
      ],
      "text/latex": [
       "0"
      ],
      "text/markdown": [
       "0"
      ],
      "text/plain": [
       "[1] 0"
      ]
     },
     "metadata": {},
     "output_type": "display_data"
    },
    {
     "data": {
      "text/html": [
       "<table>\n",
       "<caption>A rowwise_df: 6 × 48</caption>\n",
       "<thead>\n",
       "\t<tr><th scope=col>TS559_position</th><th scope=col>KOD1_position</th><th scope=col>strand</th><th scope=col>growth_phase</th><th scope=col>metabolic_condition</th><th scope=col>methylation_frequency_TK2122_rep1</th><th scope=col>mC_count_TK2122_rep1</th><th scope=col>coverage_TK2122_rep1</th><th scope=col>methylation_frequency_TK2122_rep2</th><th scope=col>mC_count_TK2122_rep2</th><th scope=col>⋯</th><th scope=col>amino_acid_sequence</th><th scope=col>amino_acid_ID</th><th scope=col>local_41bp_predicted_fold</th><th scope=col>m5C_position_fold</th><th scope=col>MFA</th><th scope=col>associated_TSS_id</th><th scope=col>TSS_direction</th><th scope=col>TSS_description</th><th scope=col>total_annotations</th><th scope=col>alternate_annotations</th></tr>\n",
       "\t<tr><th scope=col>&lt;int&gt;</th><th scope=col>&lt;fct&gt;</th><th scope=col>&lt;fct&gt;</th><th scope=col>&lt;chr&gt;</th><th scope=col>&lt;chr&gt;</th><th scope=col>&lt;dbl&gt;</th><th scope=col>&lt;int&gt;</th><th scope=col>&lt;int&gt;</th><th scope=col>&lt;dbl&gt;</th><th scope=col>&lt;int&gt;</th><th scope=col>⋯</th><th scope=col>&lt;fct&gt;</th><th scope=col>&lt;fct&gt;</th><th scope=col>&lt;fct&gt;</th><th scope=col>&lt;fct&gt;</th><th scope=col>&lt;fct&gt;</th><th scope=col>&lt;fct&gt;</th><th scope=col>&lt;fct&gt;</th><th scope=col>&lt;fct&gt;</th><th scope=col>&lt;int&gt;</th><th scope=col>&lt;fct&gt;</th></tr>\n",
       "</thead>\n",
       "<tbody>\n",
       "\t<tr><td> 262317</td><td>263308 </td><td>-</td><td>exoponential</td><td>S</td><td>0.00</td><td>5</td><td>9074</td><td>0</td><td>5</td><td>⋯</td><td>CCG</td><td>P</td><td>))))))).................................</td><td>single_stranded</td><td>-73.49 </td><td>.</td><td>.</td><td>.</td><td>1</td><td>NA</td></tr>\n",
       "\t<tr><td>2072134</td><td>2073766</td><td>+</td><td>exoponential</td><td>S</td><td>0.00</td><td>4</td><td>2507</td><td>0</td><td>1</td><td>⋯</td><td>CGC</td><td>R</td><td>(((.........))))))))))........))))).....</td><td>base_paired    </td><td>-90.0  </td><td>.</td><td>.</td><td>.</td><td>1</td><td>NA</td></tr>\n",
       "\t<tr><td>2023350</td><td>2024341</td><td>+</td><td>exoponential</td><td>S</td><td>0.00</td><td>0</td><td> 694</td><td>0</td><td>0</td><td>⋯</td><td>.  </td><td>.</td><td>(((((((((....)))))))))........))))...)))</td><td>base_paired    </td><td>-224.51</td><td>.</td><td>.</td><td>.</td><td>1</td><td>NA</td></tr>\n",
       "\t<tr><td>1101098</td><td>1102089</td><td>-</td><td>exoponential</td><td>S</td><td>0.00</td><td>0</td><td> 422</td><td>0</td><td>0</td><td>⋯</td><td>CCC</td><td>P</td><td>......)))))))).....((((...........))))..</td><td>base_paired    </td><td>-14.43 </td><td>.</td><td>.</td><td>.</td><td>1</td><td>NA</td></tr>\n",
       "\t<tr><td> 150040</td><td>150507 </td><td>-</td><td>exoponential</td><td>S</td><td>0.01</td><td>2</td><td> 341</td><td>0</td><td>1</td><td>⋯</td><td>GCU</td><td>A</td><td>.))))))).)))))..)))..)))))......(((((...</td><td>single_stranded</td><td>-82.72 </td><td>.</td><td>.</td><td>.</td><td>1</td><td>NA</td></tr>\n",
       "\t<tr><td> 975273</td><td>976264 </td><td>-</td><td>exoponential</td><td>S</td><td>0.00</td><td>0</td><td> 870</td><td>0</td><td>2</td><td>⋯</td><td>UCG</td><td>S</td><td>.(((............)))...........))))))))..</td><td>single_stranded</td><td>-33.22 </td><td>.</td><td>.</td><td>.</td><td>1</td><td>NA</td></tr>\n",
       "</tbody>\n",
       "</table>\n"
      ],
      "text/latex": [
       "A rowwise\\_df: 6 × 48\n",
       "\\begin{tabular}{lllllllllllllllllllll}\n",
       " TS559\\_position & KOD1\\_position & strand & growth\\_phase & metabolic\\_condition & methylation\\_frequency\\_TK2122\\_rep1 & mC\\_count\\_TK2122\\_rep1 & coverage\\_TK2122\\_rep1 & methylation\\_frequency\\_TK2122\\_rep2 & mC\\_count\\_TK2122\\_rep2 & ⋯ & amino\\_acid\\_sequence & amino\\_acid\\_ID & local\\_41bp\\_predicted\\_fold & m5C\\_position\\_fold & MFA & associated\\_TSS\\_id & TSS\\_direction & TSS\\_description & total\\_annotations & alternate\\_annotations\\\\\n",
       " <int> & <fct> & <fct> & <chr> & <chr> & <dbl> & <int> & <int> & <dbl> & <int> & ⋯ & <fct> & <fct> & <fct> & <fct> & <fct> & <fct> & <fct> & <fct> & <int> & <fct>\\\\\n",
       "\\hline\n",
       "\t  262317 & 263308  & - & exoponential & S & 0.00 & 5 & 9074 & 0 & 5 & ⋯ & CCG & P & )))))))................................. & single\\_stranded & -73.49  & . & . & . & 1 & NA\\\\\n",
       "\t 2072134 & 2073766 & + & exoponential & S & 0.00 & 4 & 2507 & 0 & 1 & ⋯ & CGC & R & (((.........))))))))))........)))))..... & base\\_paired     & -90.0   & . & . & . & 1 & NA\\\\\n",
       "\t 2023350 & 2024341 & + & exoponential & S & 0.00 & 0 &  694 & 0 & 0 & ⋯ & .   & . & (((((((((....)))))))))........))))...))) & base\\_paired     & -224.51 & . & . & . & 1 & NA\\\\\n",
       "\t 1101098 & 1102089 & - & exoponential & S & 0.00 & 0 &  422 & 0 & 0 & ⋯ & CCC & P & ......)))))))).....((((...........)))).. & base\\_paired     & -14.43  & . & . & . & 1 & NA\\\\\n",
       "\t  150040 & 150507  & - & exoponential & S & 0.01 & 2 &  341 & 0 & 1 & ⋯ & GCU & A & .))))))).)))))..)))..)))))......(((((... & single\\_stranded & -82.72  & . & . & . & 1 & NA\\\\\n",
       "\t  975273 & 976264  & - & exoponential & S & 0.00 & 0 &  870 & 0 & 2 & ⋯ & UCG & S & .(((............)))...........)))))))).. & single\\_stranded & -33.22  & . & . & . & 1 & NA\\\\\n",
       "\\end{tabular}\n"
      ],
      "text/markdown": [
       "\n",
       "A rowwise_df: 6 × 48\n",
       "\n",
       "| TS559_position &lt;int&gt; | KOD1_position &lt;fct&gt; | strand &lt;fct&gt; | growth_phase &lt;chr&gt; | metabolic_condition &lt;chr&gt; | methylation_frequency_TK2122_rep1 &lt;dbl&gt; | mC_count_TK2122_rep1 &lt;int&gt; | coverage_TK2122_rep1 &lt;int&gt; | methylation_frequency_TK2122_rep2 &lt;dbl&gt; | mC_count_TK2122_rep2 &lt;int&gt; | ⋯ ⋯ | amino_acid_sequence &lt;fct&gt; | amino_acid_ID &lt;fct&gt; | local_41bp_predicted_fold &lt;fct&gt; | m5C_position_fold &lt;fct&gt; | MFA &lt;fct&gt; | associated_TSS_id &lt;fct&gt; | TSS_direction &lt;fct&gt; | TSS_description &lt;fct&gt; | total_annotations &lt;int&gt; | alternate_annotations &lt;fct&gt; |\n",
       "|---|---|---|---|---|---|---|---|---|---|---|---|---|---|---|---|---|---|---|---|---|\n",
       "|  262317 | 263308  | - | exoponential | S | 0.00 | 5 | 9074 | 0 | 5 | ⋯ | CCG | P | )))))))................................. | single_stranded | -73.49  | . | . | . | 1 | NA |\n",
       "| 2072134 | 2073766 | + | exoponential | S | 0.00 | 4 | 2507 | 0 | 1 | ⋯ | CGC | R | (((.........))))))))))........)))))..... | base_paired     | -90.0   | . | . | . | 1 | NA |\n",
       "| 2023350 | 2024341 | + | exoponential | S | 0.00 | 0 |  694 | 0 | 0 | ⋯ | .   | . | (((((((((....)))))))))........))))...))) | base_paired     | -224.51 | . | . | . | 1 | NA |\n",
       "| 1101098 | 1102089 | - | exoponential | S | 0.00 | 0 |  422 | 0 | 0 | ⋯ | CCC | P | ......)))))))).....((((...........)))).. | base_paired     | -14.43  | . | . | . | 1 | NA |\n",
       "|  150040 | 150507  | - | exoponential | S | 0.01 | 2 |  341 | 0 | 1 | ⋯ | GCU | A | .))))))).)))))..)))..)))))......(((((... | single_stranded | -82.72  | . | . | . | 1 | NA |\n",
       "|  975273 | 976264  | - | exoponential | S | 0.00 | 0 |  870 | 0 | 2 | ⋯ | UCG | S | .(((............)))...........)))))))).. | single_stranded | -33.22  | . | . | . | 1 | NA |\n",
       "\n"
      ],
      "text/plain": [
       "  TS559_position KOD1_position strand growth_phase metabolic_condition\n",
       "1  262317        263308        -      exoponential S                  \n",
       "2 2072134        2073766       +      exoponential S                  \n",
       "3 2023350        2024341       +      exoponential S                  \n",
       "4 1101098        1102089       -      exoponential S                  \n",
       "5  150040        150507        -      exoponential S                  \n",
       "6  975273        976264        -      exoponential S                  \n",
       "  methylation_frequency_TK2122_rep1 mC_count_TK2122_rep1 coverage_TK2122_rep1\n",
       "1 0.00                              5                    9074                \n",
       "2 0.00                              4                    2507                \n",
       "3 0.00                              0                     694                \n",
       "4 0.00                              0                     422                \n",
       "5 0.01                              2                     341                \n",
       "6 0.00                              0                     870                \n",
       "  methylation_frequency_TK2122_rep2 mC_count_TK2122_rep2 ⋯ amino_acid_sequence\n",
       "1 0                                 5                    ⋯ CCG                \n",
       "2 0                                 1                    ⋯ CGC                \n",
       "3 0                                 0                    ⋯ .                  \n",
       "4 0                                 0                    ⋯ CCC                \n",
       "5 0                                 1                    ⋯ GCU                \n",
       "6 0                                 2                    ⋯ UCG                \n",
       "  amino_acid_ID local_41bp_predicted_fold                m5C_position_fold\n",
       "1 P             )))))))................................. single_stranded  \n",
       "2 R             (((.........))))))))))........)))))..... base_paired      \n",
       "3 .             (((((((((....)))))))))........))))...))) base_paired      \n",
       "4 P             ......)))))))).....((((...........)))).. base_paired      \n",
       "5 A             .))))))).)))))..)))..)))))......(((((... single_stranded  \n",
       "6 S             .(((............)))...........)))))))).. single_stranded  \n",
       "  MFA     associated_TSS_id TSS_direction TSS_description total_annotations\n",
       "1 -73.49  .                 .             .               1                \n",
       "2 -90.0   .                 .             .               1                \n",
       "3 -224.51 .                 .             .               1                \n",
       "4 -14.43  .                 .             .               1                \n",
       "5 -82.72  .                 .             .               1                \n",
       "6 -33.22  .                 .             .               1                \n",
       "  alternate_annotations\n",
       "1 NA                   \n",
       "2 NA                   \n",
       "3 NA                   \n",
       "4 NA                   \n",
       "5 NA                   \n",
       "6 NA                   "
      ]
     },
     "metadata": {},
     "output_type": "display_data"
    }
   ],
   "source": [
    "###strain TK2122\n",
    "\n",
    "defaultW <- getOption(\"warn\")\n",
    "options(warn = -1)\n",
    "\n",
    "\n",
    "#load CGmaps into session\n",
    "TK2122exoS_CGmap_rep1 <-read.delim(\"../cgmaps/TK2122exoS_totalRNA_Dec2016.CGmap\", sep='\\t', header=FALSE,col.names=cols) %>%\n",
    "    mutate(strain=\"TK2122\", growth_phase='exoponential', metabolic_condition=\"S\", replicate=\"rep1\")\n",
    "\n",
    "TK2122exoS_CGmap_rep2 <-read.delim(\"../cgmaps/TK2122exoS_totalRNA_Oct2020.CGmap\", sep='\\t', header=FALSE,col.names=cols) %>%\n",
    "    mutate(strain=\"TK2122\", growth_phase='exoponential', metabolic_condition=\"S\", replicate=\"rep2\")\n",
    "\n",
    "# process raw CGmaps\n",
    "TK2122exoS_rep1_df <- processCGmap(TK2122exoS_CGmap_rep1)\n",
    "TK2122exoS_rep2_df <- processCGmap(TK2122exoS_CGmap_rep2)\n",
    "\n",
    "#merge reps\n",
    "TK2122exoS <- merge_del_reps(x=TK2122exoS_rep1_df, y=TK2122exoS_rep2_df, strain='TK2122')\n",
    "\n",
    "# get quantiles\n",
    "\"quantiles:\"\n",
    "get_quantiles(strain_cgmap = TK2122exoS, strain=\"TK2122\", min_cov = 47)\n",
    "\n",
    "#compare methylation frequencies & annotate\n",
    "TK2122exoS_anal <- CompareCGmap(strain_cgmap = TK2122exoS, \n",
    "                                TS559_cgmap = TS559exoS, \n",
    "                                strain=\"TK2122\", \n",
    "                                annotation = annotation,\n",
    "                                min_cov = 47)\n",
    "\n",
    "#write.table(TK2122exoS_anal, file = \"../processed_cgmaps/TK2122exoS_annotated\", sep = \"\\t\", row.names = F)\n",
    "\n",
    "#enumerate gains & losses\n",
    "\"losses & gains:\"\n",
    "nrow( TK2122exoS_anal %>% filter(log2FC < 0) )\n",
    "nrow( TK2122exoS_anal %>% filter(log2FC > 0) )\n",
    "\n",
    "head(TK2122exoS_anal)\n",
    "\n",
    "TK2122exoS_cat <- enumerate_hiconf_2reps(strain_cgmap = TK2122exoS, strain=\"TK2122\",min_cov = 47)\n",
    "\n",
    "Sys.sleep(10)"
   ]
  },
  {
   "cell_type": "code",
   "execution_count": 17,
   "metadata": {},
   "outputs": [
    {
     "data": {
      "text/html": [
       "'quantiles:'"
      ],
      "text/latex": [
       "'quantiles:'"
      ],
      "text/markdown": [
       "'quantiles:'"
      ],
      "text/plain": [
       "[1] \"quantiles:\""
      ]
     },
     "metadata": {},
     "output_type": "display_data"
    },
    {
     "data": {
      "text/html": [
       "<style>\n",
       ".list-inline {list-style: none; margin:0; padding: 0}\n",
       ".list-inline>li {display: inline-block}\n",
       ".list-inline>li:not(:last-child)::after {content: \"\\00b7\"; padding: 0 .5ex}\n",
       "</style>\n",
       "<ol class=list-inline><li>23</li><li>9</li><li>8</li></ol>\n"
      ],
      "text/latex": [
       "\\begin{enumerate*}\n",
       "\\item 23\n",
       "\\item 9\n",
       "\\item 8\n",
       "\\end{enumerate*}\n"
      ],
      "text/markdown": [
       "1. 23\n",
       "2. 9\n",
       "3. 8\n",
       "\n",
       "\n"
      ],
      "text/plain": [
       "[1] 23  9  8"
      ]
     },
     "metadata": {},
     "output_type": "display_data"
    },
    {
     "data": {
      "text/html": [
       "'losses &amp; gains:'"
      ],
      "text/latex": [
       "'losses \\& gains:'"
      ],
      "text/markdown": [
       "'losses &amp; gains:'"
      ],
      "text/plain": [
       "[1] \"losses & gains:\""
      ]
     },
     "metadata": {},
     "output_type": "display_data"
    },
    {
     "data": {
      "text/html": [
       "0"
      ],
      "text/latex": [
       "0"
      ],
      "text/markdown": [
       "0"
      ],
      "text/plain": [
       "[1] 0"
      ]
     },
     "metadata": {},
     "output_type": "display_data"
    },
    {
     "data": {
      "text/html": [
       "2"
      ],
      "text/latex": [
       "2"
      ],
      "text/markdown": [
       "2"
      ],
      "text/plain": [
       "[1] 2"
      ]
     },
     "metadata": {},
     "output_type": "display_data"
    }
   ],
   "source": [
    "###strain TK2241\n",
    "\n",
    "defaultW <- getOption(\"warn\")\n",
    "options(warn = -1)\n",
    "\n",
    "\n",
    "#load CGmaps into session\n",
    "TK2241exoS_CGmap_rep1 <-read.delim(\"../cgmaps/TK2241exoS_totalRNA_Dec2016.CGmap\", sep='\\t', header=FALSE,col.names=cols) %>%\n",
    "    mutate(strain=\"TK2241\", growth_phase='exoponential', metabolic_condition=\"S\", replicate=\"rep1\")\n",
    "\n",
    "TK2241exoS_CGmap_rep2 <-read.delim(\"../cgmaps/TK2241exoS_totalRNA_Oct2020.CGmap\", sep='\\t', header=FALSE,col.names=cols) %>%\n",
    "    mutate(strain=\"TK2241\", growth_phase='exoponential', metabolic_condition=\"S\", replicate=\"rep2\")\n",
    "\n",
    "TK2241exoS_CGmap_rep3 <-read.delim(\"../cgmaps/TK2241_exoS_totalRNA_rep3.CGmap\", sep='\\t', header=FALSE,col.names=cols) %>%\n",
    "    mutate(strain=\"TK2241\", growth_phase='exoponential', metabolic_condition=\"S\", replicate=\"rep3\")\n",
    "\n",
    "\n",
    "\n",
    "# process raw CGmaps\n",
    "TK2241exoS_rep1_df <- processCGmap(TK2241exoS_CGmap_rep1)\n",
    "TK2241exoS_rep2_df <- processCGmap(TK2241exoS_CGmap_rep2)\n",
    "TK2241exoS_rep3_df <- processCGmap(TK2241exoS_CGmap_rep3)\n",
    "\n",
    "\n",
    "#merge reps\n",
    "TK2241exoS <- merge_del_3reps(x=TK2241exoS_rep1_df, y=TK2241exoS_rep2_df,z=TK2241exoS_rep3_df, strain='TK2241')\n",
    "\n",
    "# get quantiles\n",
    "\"quantiles:\"\n",
    "get_quantiles(strain_cgmap = TK2241exoS, strain=\"TK2241\", reps=3, min_cov = 47)\n",
    "\n",
    "#compare methylation frequencies & annotate\n",
    "TK2241exoS_anal <- CompareCGmap_3reps(strain_cgmap = TK2241exoS, \n",
    "                                TS559_cgmap = TS559exoS, \n",
    "                                strain=\"TK2241\", \n",
    "                                annotation = annotation,\n",
    "                                min_cov = 47)\n",
    "\n",
    "#write.table(TK2241exoS_anal, file = \"../processed_cgmaps/TK2241exoS_annotated\", sep = \"\\t\", row.names = F)\n",
    "\n",
    "#enumerate gains & losses\n",
    "\"losses & gains:\"\n",
    "nrow( TK2241exoS_anal %>% filter(log2FC < 0) )\n",
    "nrow( TK2241exoS_anal %>% filter(log2FC > 0) )\n",
    "\n",
    "\n",
    "TK2241exoS_cat <- enumerate_hiconf_2reps(strain_cgmap = TK2241exoS, strain=\"TK2241\",min_cov = 47)\n",
    "\n",
    "Sys.sleep(10)"
   ]
  },
  {
   "cell_type": "code",
   "execution_count": 18,
   "metadata": {},
   "outputs": [
    {
     "data": {
      "text/html": [
       "'quantiles:'"
      ],
      "text/latex": [
       "'quantiles:'"
      ],
      "text/markdown": [
       "'quantiles:'"
      ],
      "text/plain": [
       "[1] \"quantiles:\""
      ]
     },
     "metadata": {},
     "output_type": "display_data"
    },
    {
     "data": {
      "text/html": [
       "<style>\n",
       ".list-inline {list-style: none; margin:0; padding: 0}\n",
       ".list-inline>li {display: inline-block}\n",
       ".list-inline>li:not(:last-child)::after {content: \"\\00b7\"; padding: 0 .5ex}\n",
       "</style>\n",
       "<ol class=list-inline><li>6</li><li>7</li></ol>\n"
      ],
      "text/latex": [
       "\\begin{enumerate*}\n",
       "\\item 6\n",
       "\\item 7\n",
       "\\end{enumerate*}\n"
      ],
      "text/markdown": [
       "1. 6\n",
       "2. 7\n",
       "\n",
       "\n"
      ],
      "text/plain": [
       "[1] 6 7"
      ]
     },
     "metadata": {},
     "output_type": "display_data"
    },
    {
     "data": {
      "text/html": [
       "'losses &amp; gains:'"
      ],
      "text/latex": [
       "'losses \\& gains:'"
      ],
      "text/markdown": [
       "'losses &amp; gains:'"
      ],
      "text/plain": [
       "[1] \"losses & gains:\""
      ]
     },
     "metadata": {},
     "output_type": "display_data"
    },
    {
     "data": {
      "text/html": [
       "6"
      ],
      "text/latex": [
       "6"
      ],
      "text/markdown": [
       "6"
      ],
      "text/plain": [
       "[1] 6"
      ]
     },
     "metadata": {},
     "output_type": "display_data"
    },
    {
     "data": {
      "text/html": [
       "3"
      ],
      "text/latex": [
       "3"
      ],
      "text/markdown": [
       "3"
      ],
      "text/plain": [
       "[1] 3"
      ]
     },
     "metadata": {},
     "output_type": "display_data"
    },
    {
     "data": {
      "text/html": [
       "<table>\n",
       "<caption>A rowwise_df: 6 × 48</caption>\n",
       "<thead>\n",
       "\t<tr><th scope=col>TS559_position</th><th scope=col>KOD1_position</th><th scope=col>strand</th><th scope=col>growth_phase</th><th scope=col>metabolic_condition</th><th scope=col>methylation_frequency_TK2304_rep1</th><th scope=col>mC_count_TK2304_rep1</th><th scope=col>coverage_TK2304_rep1</th><th scope=col>methylation_frequency_TK2304_rep2</th><th scope=col>mC_count_TK2304_rep2</th><th scope=col>⋯</th><th scope=col>amino_acid_sequence</th><th scope=col>amino_acid_ID</th><th scope=col>local_41bp_predicted_fold</th><th scope=col>m5C_position_fold</th><th scope=col>MFA</th><th scope=col>associated_TSS_id</th><th scope=col>TSS_direction</th><th scope=col>TSS_description</th><th scope=col>total_annotations</th><th scope=col>alternate_annotations</th></tr>\n",
       "\t<tr><th scope=col>&lt;int&gt;</th><th scope=col>&lt;fct&gt;</th><th scope=col>&lt;fct&gt;</th><th scope=col>&lt;chr&gt;</th><th scope=col>&lt;chr&gt;</th><th scope=col>&lt;dbl&gt;</th><th scope=col>&lt;int&gt;</th><th scope=col>&lt;int&gt;</th><th scope=col>&lt;dbl&gt;</th><th scope=col>&lt;int&gt;</th><th scope=col>⋯</th><th scope=col>&lt;fct&gt;</th><th scope=col>&lt;fct&gt;</th><th scope=col>&lt;fct&gt;</th><th scope=col>&lt;fct&gt;</th><th scope=col>&lt;fct&gt;</th><th scope=col>&lt;fct&gt;</th><th scope=col>&lt;fct&gt;</th><th scope=col>&lt;fct&gt;</th><th scope=col>&lt;int&gt;</th><th scope=col>&lt;fct&gt;</th></tr>\n",
       "</thead>\n",
       "<tbody>\n",
       "\t<tr><td>2025555</td><td>2026546</td><td>+</td><td>exoponential</td><td>S</td><td>0.00</td><td>2</td><td>3599</td><td>0</td><td>2</td><td>⋯</td><td>.  </td><td>.</td><td>)....))))))))....((((((...(((((((.......</td><td>base_paired    </td><td>-440.69</td><td>.</td><td>.</td><td>.</td><td>1</td><td>NA</td></tr>\n",
       "\t<tr><td>2023357</td><td>2024348</td><td>+</td><td>exoponential</td><td>S</td><td>0.01</td><td>5</td><td> 391</td><td>0</td><td>5</td><td>⋯</td><td>.  </td><td>.</td><td>((....)))))))))........))))...))))))    </td><td>single_stranded</td><td>-224.51</td><td>.</td><td>.</td><td>.</td><td>1</td><td>NA</td></tr>\n",
       "\t<tr><td>2025624</td><td>2026615</td><td>+</td><td>exoponential</td><td>S</td><td>0.00</td><td>2</td><td>1444</td><td>0</td><td>0</td><td>⋯</td><td>.  </td><td>.</td><td>)...))))))..............................</td><td>single_stranded</td><td>-440.69</td><td>.</td><td>.</td><td>.</td><td>1</td><td>NA</td></tr>\n",
       "\t<tr><td>2025645</td><td>2026636</td><td>+</td><td>exoponential</td><td>S</td><td>0.00</td><td>2</td><td>2012</td><td>0</td><td>0</td><td>⋯</td><td>.  </td><td>.</td><td>.........................((((((.....))))</td><td>single_stranded</td><td>-440.69</td><td>.</td><td>.</td><td>.</td><td>1</td><td>NA</td></tr>\n",
       "\t<tr><td>2025625</td><td>2026616</td><td>+</td><td>exoponential</td><td>S</td><td>0.00</td><td>1</td><td>1447</td><td>0</td><td>1</td><td>⋯</td><td>.  </td><td>.</td><td>...))))))...............................</td><td>single_stranded</td><td>-440.69</td><td>.</td><td>.</td><td>.</td><td>1</td><td>NA</td></tr>\n",
       "\t<tr><td>1728374</td><td>1729365</td><td>+</td><td>exoponential</td><td>S</td><td>0.00</td><td>0</td><td> 167</td><td>0</td><td>1</td><td>⋯</td><td>CCT</td><td>P</td><td>.............))))))..))).....)))))......</td><td>single_stranded</td><td>-20.17 </td><td>.</td><td>.</td><td>.</td><td>1</td><td>NA</td></tr>\n",
       "</tbody>\n",
       "</table>\n"
      ],
      "text/latex": [
       "A rowwise\\_df: 6 × 48\n",
       "\\begin{tabular}{lllllllllllllllllllll}\n",
       " TS559\\_position & KOD1\\_position & strand & growth\\_phase & metabolic\\_condition & methylation\\_frequency\\_TK2304\\_rep1 & mC\\_count\\_TK2304\\_rep1 & coverage\\_TK2304\\_rep1 & methylation\\_frequency\\_TK2304\\_rep2 & mC\\_count\\_TK2304\\_rep2 & ⋯ & amino\\_acid\\_sequence & amino\\_acid\\_ID & local\\_41bp\\_predicted\\_fold & m5C\\_position\\_fold & MFA & associated\\_TSS\\_id & TSS\\_direction & TSS\\_description & total\\_annotations & alternate\\_annotations\\\\\n",
       " <int> & <fct> & <fct> & <chr> & <chr> & <dbl> & <int> & <int> & <dbl> & <int> & ⋯ & <fct> & <fct> & <fct> & <fct> & <fct> & <fct> & <fct> & <fct> & <int> & <fct>\\\\\n",
       "\\hline\n",
       "\t 2025555 & 2026546 & + & exoponential & S & 0.00 & 2 & 3599 & 0 & 2 & ⋯ & .   & . & )....))))))))....((((((...(((((((....... & base\\_paired     & -440.69 & . & . & . & 1 & NA\\\\\n",
       "\t 2023357 & 2024348 & + & exoponential & S & 0.01 & 5 &  391 & 0 & 5 & ⋯ & .   & . & ((....)))))))))........))))...))))))     & single\\_stranded & -224.51 & . & . & . & 1 & NA\\\\\n",
       "\t 2025624 & 2026615 & + & exoponential & S & 0.00 & 2 & 1444 & 0 & 0 & ⋯ & .   & . & )...)))))).............................. & single\\_stranded & -440.69 & . & . & . & 1 & NA\\\\\n",
       "\t 2025645 & 2026636 & + & exoponential & S & 0.00 & 2 & 2012 & 0 & 0 & ⋯ & .   & . & .........................((((((.....)))) & single\\_stranded & -440.69 & . & . & . & 1 & NA\\\\\n",
       "\t 2025625 & 2026616 & + & exoponential & S & 0.00 & 1 & 1447 & 0 & 1 & ⋯ & .   & . & ...))))))............................... & single\\_stranded & -440.69 & . & . & . & 1 & NA\\\\\n",
       "\t 1728374 & 1729365 & + & exoponential & S & 0.00 & 0 &  167 & 0 & 1 & ⋯ & CCT & P & .............))))))..))).....)))))...... & single\\_stranded & -20.17  & . & . & . & 1 & NA\\\\\n",
       "\\end{tabular}\n"
      ],
      "text/markdown": [
       "\n",
       "A rowwise_df: 6 × 48\n",
       "\n",
       "| TS559_position &lt;int&gt; | KOD1_position &lt;fct&gt; | strand &lt;fct&gt; | growth_phase &lt;chr&gt; | metabolic_condition &lt;chr&gt; | methylation_frequency_TK2304_rep1 &lt;dbl&gt; | mC_count_TK2304_rep1 &lt;int&gt; | coverage_TK2304_rep1 &lt;int&gt; | methylation_frequency_TK2304_rep2 &lt;dbl&gt; | mC_count_TK2304_rep2 &lt;int&gt; | ⋯ ⋯ | amino_acid_sequence &lt;fct&gt; | amino_acid_ID &lt;fct&gt; | local_41bp_predicted_fold &lt;fct&gt; | m5C_position_fold &lt;fct&gt; | MFA &lt;fct&gt; | associated_TSS_id &lt;fct&gt; | TSS_direction &lt;fct&gt; | TSS_description &lt;fct&gt; | total_annotations &lt;int&gt; | alternate_annotations &lt;fct&gt; |\n",
       "|---|---|---|---|---|---|---|---|---|---|---|---|---|---|---|---|---|---|---|---|---|\n",
       "| 2025555 | 2026546 | + | exoponential | S | 0.00 | 2 | 3599 | 0 | 2 | ⋯ | .   | . | )....))))))))....((((((...(((((((....... | base_paired     | -440.69 | . | . | . | 1 | NA |\n",
       "| 2023357 | 2024348 | + | exoponential | S | 0.01 | 5 |  391 | 0 | 5 | ⋯ | .   | . | ((....)))))))))........))))...))))))     | single_stranded | -224.51 | . | . | . | 1 | NA |\n",
       "| 2025624 | 2026615 | + | exoponential | S | 0.00 | 2 | 1444 | 0 | 0 | ⋯ | .   | . | )...)))))).............................. | single_stranded | -440.69 | . | . | . | 1 | NA |\n",
       "| 2025645 | 2026636 | + | exoponential | S | 0.00 | 2 | 2012 | 0 | 0 | ⋯ | .   | . | .........................((((((.....)))) | single_stranded | -440.69 | . | . | . | 1 | NA |\n",
       "| 2025625 | 2026616 | + | exoponential | S | 0.00 | 1 | 1447 | 0 | 1 | ⋯ | .   | . | ...))))))............................... | single_stranded | -440.69 | . | . | . | 1 | NA |\n",
       "| 1728374 | 1729365 | + | exoponential | S | 0.00 | 0 |  167 | 0 | 1 | ⋯ | CCT | P | .............))))))..))).....)))))...... | single_stranded | -20.17  | . | . | . | 1 | NA |\n",
       "\n"
      ],
      "text/plain": [
       "  TS559_position KOD1_position strand growth_phase metabolic_condition\n",
       "1 2025555        2026546       +      exoponential S                  \n",
       "2 2023357        2024348       +      exoponential S                  \n",
       "3 2025624        2026615       +      exoponential S                  \n",
       "4 2025645        2026636       +      exoponential S                  \n",
       "5 2025625        2026616       +      exoponential S                  \n",
       "6 1728374        1729365       +      exoponential S                  \n",
       "  methylation_frequency_TK2304_rep1 mC_count_TK2304_rep1 coverage_TK2304_rep1\n",
       "1 0.00                              2                    3599                \n",
       "2 0.01                              5                     391                \n",
       "3 0.00                              2                    1444                \n",
       "4 0.00                              2                    2012                \n",
       "5 0.00                              1                    1447                \n",
       "6 0.00                              0                     167                \n",
       "  methylation_frequency_TK2304_rep2 mC_count_TK2304_rep2 ⋯ amino_acid_sequence\n",
       "1 0                                 2                    ⋯ .                  \n",
       "2 0                                 5                    ⋯ .                  \n",
       "3 0                                 0                    ⋯ .                  \n",
       "4 0                                 0                    ⋯ .                  \n",
       "5 0                                 1                    ⋯ .                  \n",
       "6 0                                 1                    ⋯ CCT                \n",
       "  amino_acid_ID local_41bp_predicted_fold                m5C_position_fold\n",
       "1 .             )....))))))))....((((((...(((((((....... base_paired      \n",
       "2 .             ((....)))))))))........))))...))))))     single_stranded  \n",
       "3 .             )...)))))).............................. single_stranded  \n",
       "4 .             .........................((((((.....)))) single_stranded  \n",
       "5 .             ...))))))............................... single_stranded  \n",
       "6 P             .............))))))..))).....)))))...... single_stranded  \n",
       "  MFA     associated_TSS_id TSS_direction TSS_description total_annotations\n",
       "1 -440.69 .                 .             .               1                \n",
       "2 -224.51 .                 .             .               1                \n",
       "3 -440.69 .                 .             .               1                \n",
       "4 -440.69 .                 .             .               1                \n",
       "5 -440.69 .                 .             .               1                \n",
       "6 -20.17  .                 .             .               1                \n",
       "  alternate_annotations\n",
       "1 NA                   \n",
       "2 NA                   \n",
       "3 NA                   \n",
       "4 NA                   \n",
       "5 NA                   \n",
       "6 NA                   "
      ]
     },
     "metadata": {},
     "output_type": "display_data"
    }
   ],
   "source": [
    "###strain TK2304\n",
    "\n",
    "defaultW <- getOption(\"warn\")\n",
    "options(warn = -1)\n",
    "\n",
    "\n",
    "#load CGmaps into session\n",
    "TK2304exoS_CGmap_rep1 <-read.delim(\"../cgmaps/TK2304exoS_totalRNA_Dec2016.CGmap\", sep='\\t', header=FALSE,col.names=cols) %>%\n",
    "    mutate(strain=\"TK2304\", growth_phase='exoponential', metabolic_condition=\"S\", replicate=\"rep1\")\n",
    "\n",
    "TK2304exoS_CGmap_rep2 <-read.delim(\"../cgmaps/TK2304exoS_totalRNA_Oct2020.CGmap\", sep='\\t', header=FALSE,col.names=cols) %>%\n",
    "    mutate(strain=\"TK2304\", growth_phase='exoponential', metabolic_condition=\"S\", replicate=\"rep2\")\n",
    "\n",
    "# process raw CGmaps\n",
    "TK2304exoS_rep1_df <- processCGmap(TK2304exoS_CGmap_rep1)\n",
    "TK2304exoS_rep2_df <- processCGmap(TK2304exoS_CGmap_rep2)\n",
    "\n",
    "#merge reps\n",
    "TK2304exoS <- merge_del_reps(x=TK2304exoS_rep1_df, y=TK2304exoS_rep2_df, strain='TK2304')\n",
    "\n",
    "# get quantiles\n",
    "\"quantiles:\"\n",
    "get_quantiles(strain_cgmap = TK2304exoS, strain=\"TK2304\", min_cov = 47)\n",
    "\n",
    "#compare methylation frequencies & annotate\n",
    "TK2304exoS_anal <- CompareCGmap(strain_cgmap = TK2304exoS, \n",
    "                                TS559_cgmap = TS559exoS, \n",
    "                                strain=\"TK2304\", \n",
    "                                annotation = annotation,\n",
    "                                min_cov = 47)\n",
    "\n",
    "#write.table(TK2304exoS_anal, file = \"../processed_cgmaps/TK2304exoS_annotated\", sep = \"\\t\", row.names = F)\n",
    "\n",
    "#enumerate gains & losses\n",
    "\"losses & gains:\"\n",
    "nrow( TK2304exoS_anal %>% filter(log2FC < 0) )\n",
    "nrow( TK2304exoS_anal %>% filter(log2FC > 0) )\n",
    "\n",
    "head(TK2304exoS_anal)\n",
    "\n",
    "TK2304exoS_cat <- enumerate_hiconf_2reps(strain_cgmap = TK2304exoS, strain=\"TK2304\",min_cov = 47)\n",
    "\n",
    "Sys.sleep(10)"
   ]
  },
  {
   "cell_type": "code",
   "execution_count": 19,
   "metadata": {},
   "outputs": [
    {
     "data": {
      "text/html": [
       "'quantiles:'"
      ],
      "text/latex": [
       "'quantiles:'"
      ],
      "text/markdown": [
       "'quantiles:'"
      ],
      "text/plain": [
       "[1] \"quantiles:\""
      ]
     },
     "metadata": {},
     "output_type": "display_data"
    },
    {
     "data": {
      "text/html": [
       "<style>\n",
       ".list-inline {list-style: none; margin:0; padding: 0}\n",
       ".list-inline>li {display: inline-block}\n",
       ".list-inline>li:not(:last-child)::after {content: \"\\00b7\"; padding: 0 .5ex}\n",
       "</style>\n",
       "<ol class=list-inline><li>8</li><li>8</li></ol>\n"
      ],
      "text/latex": [
       "\\begin{enumerate*}\n",
       "\\item 8\n",
       "\\item 8\n",
       "\\end{enumerate*}\n"
      ],
      "text/markdown": [
       "1. 8\n",
       "2. 8\n",
       "\n",
       "\n"
      ],
      "text/plain": [
       "[1] 8 8"
      ]
     },
     "metadata": {},
     "output_type": "display_data"
    },
    {
     "data": {
      "text/html": [
       "'losses &amp; gains:'"
      ],
      "text/latex": [
       "'losses \\& gains:'"
      ],
      "text/markdown": [
       "'losses &amp; gains:'"
      ],
      "text/plain": [
       "[1] \"losses & gains:\""
      ]
     },
     "metadata": {},
     "output_type": "display_data"
    },
    {
     "data": {
      "text/html": [
       "37"
      ],
      "text/latex": [
       "37"
      ],
      "text/markdown": [
       "37"
      ],
      "text/plain": [
       "[1] 37"
      ]
     },
     "metadata": {},
     "output_type": "display_data"
    },
    {
     "data": {
      "text/html": [
       "6"
      ],
      "text/latex": [
       "6"
      ],
      "text/markdown": [
       "6"
      ],
      "text/plain": [
       "[1] 6"
      ]
     },
     "metadata": {},
     "output_type": "display_data"
    },
    {
     "data": {
      "text/html": [
       "<table>\n",
       "<caption>A rowwise_df: 6 × 48</caption>\n",
       "<thead>\n",
       "\t<tr><th scope=col>TS559_position</th><th scope=col>KOD1_position</th><th scope=col>strand</th><th scope=col>growth_phase</th><th scope=col>metabolic_condition</th><th scope=col>methylation_frequency_TK2045Ndel_rep1</th><th scope=col>mC_count_TK2045Ndel_rep1</th><th scope=col>coverage_TK2045Ndel_rep1</th><th scope=col>methylation_frequency_TK2045Ndel_rep2</th><th scope=col>mC_count_TK2045Ndel_rep2</th><th scope=col>⋯</th><th scope=col>amino_acid_sequence</th><th scope=col>amino_acid_ID</th><th scope=col>local_41bp_predicted_fold</th><th scope=col>m5C_position_fold</th><th scope=col>MFA</th><th scope=col>associated_TSS_id</th><th scope=col>TSS_direction</th><th scope=col>TSS_description</th><th scope=col>total_annotations</th><th scope=col>alternate_annotations</th></tr>\n",
       "\t<tr><th scope=col>&lt;int&gt;</th><th scope=col>&lt;fct&gt;</th><th scope=col>&lt;fct&gt;</th><th scope=col>&lt;chr&gt;</th><th scope=col>&lt;chr&gt;</th><th scope=col>&lt;dbl&gt;</th><th scope=col>&lt;int&gt;</th><th scope=col>&lt;int&gt;</th><th scope=col>&lt;dbl&gt;</th><th scope=col>&lt;int&gt;</th><th scope=col>⋯</th><th scope=col>&lt;fct&gt;</th><th scope=col>&lt;fct&gt;</th><th scope=col>&lt;fct&gt;</th><th scope=col>&lt;fct&gt;</th><th scope=col>&lt;fct&gt;</th><th scope=col>&lt;fct&gt;</th><th scope=col>&lt;fct&gt;</th><th scope=col>&lt;fct&gt;</th><th scope=col>&lt;int&gt;</th><th scope=col>&lt;fct&gt;</th></tr>\n",
       "</thead>\n",
       "<tbody>\n",
       "\t<tr><td> 780263</td><td>781254 </td><td>+</td><td>exoponential</td><td>S</td><td>0.11</td><td>954</td><td>8937</td><td>0.12</td><td>1067</td><td>⋯</td><td>CGA</td><td>R</td><td>(((....((((((((.....(((..((....))..)))..</td><td>base_paired    </td><td>-111.23</td><td>.</td><td>.</td><td>.</td><td>1</td><td>NA</td></tr>\n",
       "\t<tr><td>1786159</td><td>1787150</td><td>+</td><td>exoponential</td><td>S</td><td>0.04</td><td>176</td><td>4294</td><td>0.05</td><td> 192</td><td>⋯</td><td>TCC</td><td>S</td><td>........(((((......)))))................</td><td>base_paired    </td><td>-80.31 </td><td>.</td><td>.</td><td>.</td><td>1</td><td>NA</td></tr>\n",
       "\t<tr><td>1006566</td><td>1007557</td><td>-</td><td>exoponential</td><td>S</td><td>0.06</td><td>257</td><td>4222</td><td>0.09</td><td> 246</td><td>⋯</td><td>GGC</td><td>G</td><td>....(((((......(((((((((((...(((.((((((.</td><td>base_paired    </td><td>-102.06</td><td>.</td><td>.</td><td>.</td><td>1</td><td>NA</td></tr>\n",
       "\t<tr><td>2022790</td><td>2023781</td><td>+</td><td>exoponential</td><td>S</td><td>0.00</td><td>  4</td><td>5589</td><td>0.00</td><td>   3</td><td>⋯</td><td>.  </td><td>.</td><td>...)...)))).....(((......((((((((.((((((</td><td>single_stranded</td><td>-224.51</td><td>.</td><td>.</td><td>.</td><td>1</td><td>NA</td></tr>\n",
       "\t<tr><td> 108885</td><td>108885 </td><td>-</td><td>exoponential</td><td>S</td><td>0.04</td><td>200</td><td>5495</td><td>0.04</td><td> 169</td><td>⋯</td><td>GCC</td><td>A</td><td>...))))).......................(((((((..</td><td>single_stranded</td><td>-46.45 </td><td>.</td><td>.</td><td>.</td><td>1</td><td>NA</td></tr>\n",
       "\t<tr><td> 952834</td><td>953825 </td><td>-</td><td>exoponential</td><td>S</td><td>0.02</td><td> 73</td><td>3089</td><td>0.02</td><td>  47</td><td>⋯</td><td>CCA</td><td>P</td><td>((...........((((........))))......(((((</td><td>single_stranded</td><td>-46.88 </td><td>.</td><td>.</td><td>.</td><td>1</td><td>NA</td></tr>\n",
       "</tbody>\n",
       "</table>\n"
      ],
      "text/latex": [
       "A rowwise\\_df: 6 × 48\n",
       "\\begin{tabular}{lllllllllllllllllllll}\n",
       " TS559\\_position & KOD1\\_position & strand & growth\\_phase & metabolic\\_condition & methylation\\_frequency\\_TK2045Ndel\\_rep1 & mC\\_count\\_TK2045Ndel\\_rep1 & coverage\\_TK2045Ndel\\_rep1 & methylation\\_frequency\\_TK2045Ndel\\_rep2 & mC\\_count\\_TK2045Ndel\\_rep2 & ⋯ & amino\\_acid\\_sequence & amino\\_acid\\_ID & local\\_41bp\\_predicted\\_fold & m5C\\_position\\_fold & MFA & associated\\_TSS\\_id & TSS\\_direction & TSS\\_description & total\\_annotations & alternate\\_annotations\\\\\n",
       " <int> & <fct> & <fct> & <chr> & <chr> & <dbl> & <int> & <int> & <dbl> & <int> & ⋯ & <fct> & <fct> & <fct> & <fct> & <fct> & <fct> & <fct> & <fct> & <int> & <fct>\\\\\n",
       "\\hline\n",
       "\t  780263 & 781254  & + & exoponential & S & 0.11 & 954 & 8937 & 0.12 & 1067 & ⋯ & CGA & R & (((....((((((((.....(((..((....))..))).. & base\\_paired     & -111.23 & . & . & . & 1 & NA\\\\\n",
       "\t 1786159 & 1787150 & + & exoponential & S & 0.04 & 176 & 4294 & 0.05 &  192 & ⋯ & TCC & S & ........(((((......)))))................ & base\\_paired     & -80.31  & . & . & . & 1 & NA\\\\\n",
       "\t 1006566 & 1007557 & - & exoponential & S & 0.06 & 257 & 4222 & 0.09 &  246 & ⋯ & GGC & G & ....(((((......(((((((((((...(((.((((((. & base\\_paired     & -102.06 & . & . & . & 1 & NA\\\\\n",
       "\t 2022790 & 2023781 & + & exoponential & S & 0.00 &   4 & 5589 & 0.00 &    3 & ⋯ & .   & . & ...)...)))).....(((......((((((((.(((((( & single\\_stranded & -224.51 & . & . & . & 1 & NA\\\\\n",
       "\t  108885 & 108885  & - & exoponential & S & 0.04 & 200 & 5495 & 0.04 &  169 & ⋯ & GCC & A & ...))))).......................(((((((.. & single\\_stranded & -46.45  & . & . & . & 1 & NA\\\\\n",
       "\t  952834 & 953825  & - & exoponential & S & 0.02 &  73 & 3089 & 0.02 &   47 & ⋯ & CCA & P & ((...........((((........))))......((((( & single\\_stranded & -46.88  & . & . & . & 1 & NA\\\\\n",
       "\\end{tabular}\n"
      ],
      "text/markdown": [
       "\n",
       "A rowwise_df: 6 × 48\n",
       "\n",
       "| TS559_position &lt;int&gt; | KOD1_position &lt;fct&gt; | strand &lt;fct&gt; | growth_phase &lt;chr&gt; | metabolic_condition &lt;chr&gt; | methylation_frequency_TK2045Ndel_rep1 &lt;dbl&gt; | mC_count_TK2045Ndel_rep1 &lt;int&gt; | coverage_TK2045Ndel_rep1 &lt;int&gt; | methylation_frequency_TK2045Ndel_rep2 &lt;dbl&gt; | mC_count_TK2045Ndel_rep2 &lt;int&gt; | ⋯ ⋯ | amino_acid_sequence &lt;fct&gt; | amino_acid_ID &lt;fct&gt; | local_41bp_predicted_fold &lt;fct&gt; | m5C_position_fold &lt;fct&gt; | MFA &lt;fct&gt; | associated_TSS_id &lt;fct&gt; | TSS_direction &lt;fct&gt; | TSS_description &lt;fct&gt; | total_annotations &lt;int&gt; | alternate_annotations &lt;fct&gt; |\n",
       "|---|---|---|---|---|---|---|---|---|---|---|---|---|---|---|---|---|---|---|---|---|\n",
       "|  780263 | 781254  | + | exoponential | S | 0.11 | 954 | 8937 | 0.12 | 1067 | ⋯ | CGA | R | (((....((((((((.....(((..((....))..))).. | base_paired     | -111.23 | . | . | . | 1 | NA |\n",
       "| 1786159 | 1787150 | + | exoponential | S | 0.04 | 176 | 4294 | 0.05 |  192 | ⋯ | TCC | S | ........(((((......)))))................ | base_paired     | -80.31  | . | . | . | 1 | NA |\n",
       "| 1006566 | 1007557 | - | exoponential | S | 0.06 | 257 | 4222 | 0.09 |  246 | ⋯ | GGC | G | ....(((((......(((((((((((...(((.((((((. | base_paired     | -102.06 | . | . | . | 1 | NA |\n",
       "| 2022790 | 2023781 | + | exoponential | S | 0.00 |   4 | 5589 | 0.00 |    3 | ⋯ | .   | . | ...)...)))).....(((......((((((((.(((((( | single_stranded | -224.51 | . | . | . | 1 | NA |\n",
       "|  108885 | 108885  | - | exoponential | S | 0.04 | 200 | 5495 | 0.04 |  169 | ⋯ | GCC | A | ...))))).......................(((((((.. | single_stranded | -46.45  | . | . | . | 1 | NA |\n",
       "|  952834 | 953825  | - | exoponential | S | 0.02 |  73 | 3089 | 0.02 |   47 | ⋯ | CCA | P | ((...........((((........))))......((((( | single_stranded | -46.88  | . | . | . | 1 | NA |\n",
       "\n"
      ],
      "text/plain": [
       "  TS559_position KOD1_position strand growth_phase metabolic_condition\n",
       "1  780263        781254        +      exoponential S                  \n",
       "2 1786159        1787150       +      exoponential S                  \n",
       "3 1006566        1007557       -      exoponential S                  \n",
       "4 2022790        2023781       +      exoponential S                  \n",
       "5  108885        108885        -      exoponential S                  \n",
       "6  952834        953825        -      exoponential S                  \n",
       "  methylation_frequency_TK2045Ndel_rep1 mC_count_TK2045Ndel_rep1\n",
       "1 0.11                                  954                     \n",
       "2 0.04                                  176                     \n",
       "3 0.06                                  257                     \n",
       "4 0.00                                    4                     \n",
       "5 0.04                                  200                     \n",
       "6 0.02                                   73                     \n",
       "  coverage_TK2045Ndel_rep1 methylation_frequency_TK2045Ndel_rep2\n",
       "1 8937                     0.12                                 \n",
       "2 4294                     0.05                                 \n",
       "3 4222                     0.09                                 \n",
       "4 5589                     0.00                                 \n",
       "5 5495                     0.04                                 \n",
       "6 3089                     0.02                                 \n",
       "  mC_count_TK2045Ndel_rep2 ⋯ amino_acid_sequence amino_acid_ID\n",
       "1 1067                     ⋯ CGA                 R            \n",
       "2  192                     ⋯ TCC                 S            \n",
       "3  246                     ⋯ GGC                 G            \n",
       "4    3                     ⋯ .                   .            \n",
       "5  169                     ⋯ GCC                 A            \n",
       "6   47                     ⋯ CCA                 P            \n",
       "  local_41bp_predicted_fold                m5C_position_fold MFA    \n",
       "1 (((....((((((((.....(((..((....))..))).. base_paired       -111.23\n",
       "2 ........(((((......)))))................ base_paired       -80.31 \n",
       "3 ....(((((......(((((((((((...(((.((((((. base_paired       -102.06\n",
       "4 ...)...)))).....(((......((((((((.(((((( single_stranded   -224.51\n",
       "5 ...))))).......................(((((((.. single_stranded   -46.45 \n",
       "6 ((...........((((........))))......((((( single_stranded   -46.88 \n",
       "  associated_TSS_id TSS_direction TSS_description total_annotations\n",
       "1 .                 .             .               1                \n",
       "2 .                 .             .               1                \n",
       "3 .                 .             .               1                \n",
       "4 .                 .             .               1                \n",
       "5 .                 .             .               1                \n",
       "6 .                 .             .               1                \n",
       "  alternate_annotations\n",
       "1 NA                   \n",
       "2 NA                   \n",
       "3 NA                   \n",
       "4 NA                   \n",
       "5 NA                   \n",
       "6 NA                   "
      ]
     },
     "metadata": {},
     "output_type": "display_data"
    }
   ],
   "source": [
    "###strain TK2045Ndel\n",
    "\n",
    "defaultW <- getOption(\"warn\")\n",
    "options(warn = -1)\n",
    "\n",
    "\n",
    "#load CGmaps into session\n",
    "TK2045NdelexoS_CGmap_rep1 <-read.delim(\"../cgmaps/TK2045Ndel_exoS_totalRNA_rep1.CGmap\", sep='\\t', header=FALSE,col.names=cols) %>%\n",
    "    mutate(strain=\"TK2045Ndel\", growth_phase='exoponential', metabolic_condition=\"S\", replicate=\"rep1\")\n",
    "\n",
    "TK2045NdelexoS_CGmap_rep2 <-read.delim(\"../cgmaps/TK2045Ndel_exoS_totalRNA_rep2.CGmap\", sep='\\t', header=FALSE,col.names=cols) %>%\n",
    "    mutate(strain=\"TK2045Ndel\", growth_phase='exoponential', metabolic_condition=\"S\", replicate=\"rep2\")\n",
    "\n",
    "# process raw CGmaps\n",
    "TK2045NdelexoS_rep1_df <- processCGmap(TK2045NdelexoS_CGmap_rep1)\n",
    "TK2045NdelexoS_rep2_df <- processCGmap(TK2045NdelexoS_CGmap_rep2)\n",
    "\n",
    "#merge reps\n",
    "TK2045NdelexoS <- merge_del_reps(x=TK2045NdelexoS_rep1_df, y=TK2045NdelexoS_rep2_df, strain='TK2045Ndel')\n",
    "\n",
    "# get quantiles\n",
    "\"quantiles:\"\n",
    "get_quantiles(strain_cgmap = TK2045NdelexoS, strain=\"TK2045Ndel\", min_cov = 47)\n",
    "\n",
    "#compare methylation frequencies & annotate\n",
    "TK2045NdelexoS_anal <- CompareCGmap(strain_cgmap = TK2045NdelexoS, \n",
    "                                TS559_cgmap = TS559exoS, \n",
    "                                strain=\"TK2045Ndel\", \n",
    "                                annotation = annotation,\n",
    "                                min_cov = 47)\n",
    "\n",
    "#write.table(TK2045NdelexoS_anal, file = \"../processed_cgmaps/TK2045NdelexoS_annotated\", sep = \"\\t\", row.names = F)\n",
    "\n",
    "#enumerate gains & losses\n",
    "\"losses & gains:\"\n",
    "nrow( TK2045NdelexoS_anal %>% filter(log2FC < 0) )\n",
    "nrow( TK2045NdelexoS_anal %>% filter(log2FC > 0) )\n",
    "\n",
    "head(TK2045NdelexoS_anal)\n",
    "\n",
    "TK2045NdelexoS_cat <- enumerate_hiconf_2reps(strain_cgmap = TK2045NdelexoS, strain=\"TK2045Ndel\",min_cov = 47)\n",
    "\n",
    "Sys.sleep(10)"
   ]
  },
  {
   "cell_type": "code",
   "execution_count": 20,
   "metadata": {},
   "outputs": [
    {
     "data": {
      "text/html": [
       "'quantiles:'"
      ],
      "text/latex": [
       "'quantiles:'"
      ],
      "text/markdown": [
       "'quantiles:'"
      ],
      "text/plain": [
       "[1] \"quantiles:\""
      ]
     },
     "metadata": {},
     "output_type": "display_data"
    },
    {
     "data": {
      "text/html": [
       "<style>\n",
       ".list-inline {list-style: none; margin:0; padding: 0}\n",
       ".list-inline>li {display: inline-block}\n",
       ".list-inline>li:not(:last-child)::after {content: \"\\00b7\"; padding: 0 .5ex}\n",
       "</style>\n",
       "<ol class=list-inline><li>8</li><li>9</li></ol>\n"
      ],
      "text/latex": [
       "\\begin{enumerate*}\n",
       "\\item 8\n",
       "\\item 9\n",
       "\\end{enumerate*}\n"
      ],
      "text/markdown": [
       "1. 8\n",
       "2. 9\n",
       "\n",
       "\n"
      ],
      "text/plain": [
       "[1] 8 9"
      ]
     },
     "metadata": {},
     "output_type": "display_data"
    },
    {
     "data": {
      "text/html": [
       "'losses &amp; gains:'"
      ],
      "text/latex": [
       "'losses \\& gains:'"
      ],
      "text/markdown": [
       "'losses &amp; gains:'"
      ],
      "text/plain": [
       "[1] \"losses & gains:\""
      ]
     },
     "metadata": {},
     "output_type": "display_data"
    },
    {
     "data": {
      "text/html": [
       "10"
      ],
      "text/latex": [
       "10"
      ],
      "text/markdown": [
       "10"
      ],
      "text/plain": [
       "[1] 10"
      ]
     },
     "metadata": {},
     "output_type": "display_data"
    },
    {
     "data": {
      "text/html": [
       "8"
      ],
      "text/latex": [
       "8"
      ],
      "text/markdown": [
       "8"
      ],
      "text/plain": [
       "[1] 8"
      ]
     },
     "metadata": {},
     "output_type": "display_data"
    },
    {
     "data": {
      "text/html": [
       "<table>\n",
       "<caption>A rowwise_df: 6 × 48</caption>\n",
       "<thead>\n",
       "\t<tr><th scope=col>TS559_position</th><th scope=col>KOD1_position</th><th scope=col>strand</th><th scope=col>growth_phase</th><th scope=col>metabolic_condition</th><th scope=col>methylation_frequency_TK0234_0224_rep1</th><th scope=col>mC_count_TK0234_0224_rep1</th><th scope=col>coverage_TK0234_0224_rep1</th><th scope=col>methylation_frequency_TK0234_0224_rep2</th><th scope=col>mC_count_TK0234_0224_rep2</th><th scope=col>⋯</th><th scope=col>amino_acid_sequence</th><th scope=col>amino_acid_ID</th><th scope=col>local_41bp_predicted_fold</th><th scope=col>m5C_position_fold</th><th scope=col>MFA</th><th scope=col>associated_TSS_id</th><th scope=col>TSS_direction</th><th scope=col>TSS_description</th><th scope=col>total_annotations</th><th scope=col>alternate_annotations</th></tr>\n",
       "\t<tr><th scope=col>&lt;int&gt;</th><th scope=col>&lt;fct&gt;</th><th scope=col>&lt;fct&gt;</th><th scope=col>&lt;chr&gt;</th><th scope=col>&lt;chr&gt;</th><th scope=col>&lt;dbl&gt;</th><th scope=col>&lt;int&gt;</th><th scope=col>&lt;int&gt;</th><th scope=col>&lt;dbl&gt;</th><th scope=col>&lt;int&gt;</th><th scope=col>⋯</th><th scope=col>&lt;fct&gt;</th><th scope=col>&lt;fct&gt;</th><th scope=col>&lt;fct&gt;</th><th scope=col>&lt;fct&gt;</th><th scope=col>&lt;fct&gt;</th><th scope=col>&lt;fct&gt;</th><th scope=col>&lt;fct&gt;</th><th scope=col>&lt;fct&gt;</th><th scope=col>&lt;int&gt;</th><th scope=col>&lt;fct&gt;</th></tr>\n",
       "</thead>\n",
       "<tbody>\n",
       "\t<tr><td>2022931</td><td>2023922</td><td>- </td><td>exoponential</td><td>S</td><td>0.32</td><td>158</td><td> 487</td><td>0.29</td><td>173</td><td>⋯</td><td>.  </td><td>. </td><td>.                                       </td><td>NA         </td><td>.     </td><td>. </td><td>. </td><td>. </td><td> 1</td><td>NA</td></tr>\n",
       "\t<tr><td>2026306</td><td>NA     </td><td>NA</td><td>exoponential</td><td>S</td><td>0.06</td><td> 65</td><td>1103</td><td>0.05</td><td> 62</td><td>⋯</td><td>NA </td><td>NA</td><td>NA                                      </td><td>NA         </td><td>NA    </td><td>NA</td><td>NA</td><td>NA</td><td>NA</td><td>NA</td></tr>\n",
       "\t<tr><td> 407373</td><td>408364 </td><td>+ </td><td>exoponential</td><td>S</td><td>0.12</td><td> 25</td><td> 201</td><td>0.10</td><td> 38</td><td>⋯</td><td>GCT</td><td>A </td><td>.........((((.......((((((((((((........</td><td>base_paired</td><td>-35.82</td><td>. </td><td>. </td><td>. </td><td> 1</td><td>NA</td></tr>\n",
       "\t<tr><td> 291301</td><td>292292 </td><td>+ </td><td>exoponential</td><td>S</td><td>0.02</td><td> 12</td><td> 561</td><td>0.02</td><td> 22</td><td>⋯</td><td>CCC</td><td>P </td><td>....))))....))).))))))))....(((((.((....</td><td>base_paired</td><td>-80.89</td><td>. </td><td>. </td><td>. </td><td> 1</td><td>NA</td></tr>\n",
       "\t<tr><td> 450615</td><td>NA     </td><td>NA</td><td>exoponential</td><td>S</td><td>0.06</td><td> 66</td><td>1078</td><td>0.06</td><td> 69</td><td>⋯</td><td>NA </td><td>NA</td><td>NA                                      </td><td>NA         </td><td>NA    </td><td>NA</td><td>NA</td><td>NA</td><td>NA</td><td>NA</td></tr>\n",
       "\t<tr><td>2025623</td><td>NA     </td><td>NA</td><td>exoponential</td><td>S</td><td>0.15</td><td> 68</td><td> 451</td><td>0.16</td><td> 79</td><td>⋯</td><td>NA </td><td>NA</td><td>NA                                      </td><td>NA         </td><td>NA    </td><td>NA</td><td>NA</td><td>NA</td><td>NA</td><td>NA</td></tr>\n",
       "</tbody>\n",
       "</table>\n"
      ],
      "text/latex": [
       "A rowwise\\_df: 6 × 48\n",
       "\\begin{tabular}{lllllllllllllllllllll}\n",
       " TS559\\_position & KOD1\\_position & strand & growth\\_phase & metabolic\\_condition & methylation\\_frequency\\_TK0234\\_0224\\_rep1 & mC\\_count\\_TK0234\\_0224\\_rep1 & coverage\\_TK0234\\_0224\\_rep1 & methylation\\_frequency\\_TK0234\\_0224\\_rep2 & mC\\_count\\_TK0234\\_0224\\_rep2 & ⋯ & amino\\_acid\\_sequence & amino\\_acid\\_ID & local\\_41bp\\_predicted\\_fold & m5C\\_position\\_fold & MFA & associated\\_TSS\\_id & TSS\\_direction & TSS\\_description & total\\_annotations & alternate\\_annotations\\\\\n",
       " <int> & <fct> & <fct> & <chr> & <chr> & <dbl> & <int> & <int> & <dbl> & <int> & ⋯ & <fct> & <fct> & <fct> & <fct> & <fct> & <fct> & <fct> & <fct> & <int> & <fct>\\\\\n",
       "\\hline\n",
       "\t 2022931 & 2023922 & -  & exoponential & S & 0.32 & 158 &  487 & 0.29 & 173 & ⋯ & .   & .  & .                                        & NA          & .      & .  & .  & .  &  1 & NA\\\\\n",
       "\t 2026306 & NA      & NA & exoponential & S & 0.06 &  65 & 1103 & 0.05 &  62 & ⋯ & NA  & NA & NA                                       & NA          & NA     & NA & NA & NA & NA & NA\\\\\n",
       "\t  407373 & 408364  & +  & exoponential & S & 0.12 &  25 &  201 & 0.10 &  38 & ⋯ & GCT & A  & .........((((.......((((((((((((........ & base\\_paired & -35.82 & .  & .  & .  &  1 & NA\\\\\n",
       "\t  291301 & 292292  & +  & exoponential & S & 0.02 &  12 &  561 & 0.02 &  22 & ⋯ & CCC & P  & ....))))....))).))))))))....(((((.((.... & base\\_paired & -80.89 & .  & .  & .  &  1 & NA\\\\\n",
       "\t  450615 & NA      & NA & exoponential & S & 0.06 &  66 & 1078 & 0.06 &  69 & ⋯ & NA  & NA & NA                                       & NA          & NA     & NA & NA & NA & NA & NA\\\\\n",
       "\t 2025623 & NA      & NA & exoponential & S & 0.15 &  68 &  451 & 0.16 &  79 & ⋯ & NA  & NA & NA                                       & NA          & NA     & NA & NA & NA & NA & NA\\\\\n",
       "\\end{tabular}\n"
      ],
      "text/markdown": [
       "\n",
       "A rowwise_df: 6 × 48\n",
       "\n",
       "| TS559_position &lt;int&gt; | KOD1_position &lt;fct&gt; | strand &lt;fct&gt; | growth_phase &lt;chr&gt; | metabolic_condition &lt;chr&gt; | methylation_frequency_TK0234_0224_rep1 &lt;dbl&gt; | mC_count_TK0234_0224_rep1 &lt;int&gt; | coverage_TK0234_0224_rep1 &lt;int&gt; | methylation_frequency_TK0234_0224_rep2 &lt;dbl&gt; | mC_count_TK0234_0224_rep2 &lt;int&gt; | ⋯ ⋯ | amino_acid_sequence &lt;fct&gt; | amino_acid_ID &lt;fct&gt; | local_41bp_predicted_fold &lt;fct&gt; | m5C_position_fold &lt;fct&gt; | MFA &lt;fct&gt; | associated_TSS_id &lt;fct&gt; | TSS_direction &lt;fct&gt; | TSS_description &lt;fct&gt; | total_annotations &lt;int&gt; | alternate_annotations &lt;fct&gt; |\n",
       "|---|---|---|---|---|---|---|---|---|---|---|---|---|---|---|---|---|---|---|---|---|\n",
       "| 2022931 | 2023922 | -  | exoponential | S | 0.32 | 158 |  487 | 0.29 | 173 | ⋯ | .   | .  | .                                        | NA          | .      | .  | .  | .  |  1 | NA |\n",
       "| 2026306 | NA      | NA | exoponential | S | 0.06 |  65 | 1103 | 0.05 |  62 | ⋯ | NA  | NA | NA                                       | NA          | NA     | NA | NA | NA | NA | NA |\n",
       "|  407373 | 408364  | +  | exoponential | S | 0.12 |  25 |  201 | 0.10 |  38 | ⋯ | GCT | A  | .........((((.......((((((((((((........ | base_paired | -35.82 | .  | .  | .  |  1 | NA |\n",
       "|  291301 | 292292  | +  | exoponential | S | 0.02 |  12 |  561 | 0.02 |  22 | ⋯ | CCC | P  | ....))))....))).))))))))....(((((.((.... | base_paired | -80.89 | .  | .  | .  |  1 | NA |\n",
       "|  450615 | NA      | NA | exoponential | S | 0.06 |  66 | 1078 | 0.06 |  69 | ⋯ | NA  | NA | NA                                       | NA          | NA     | NA | NA | NA | NA | NA |\n",
       "| 2025623 | NA      | NA | exoponential | S | 0.15 |  68 |  451 | 0.16 |  79 | ⋯ | NA  | NA | NA                                       | NA          | NA     | NA | NA | NA | NA | NA |\n",
       "\n"
      ],
      "text/plain": [
       "  TS559_position KOD1_position strand growth_phase metabolic_condition\n",
       "1 2022931        2023922       -      exoponential S                  \n",
       "2 2026306        NA            NA     exoponential S                  \n",
       "3  407373        408364        +      exoponential S                  \n",
       "4  291301        292292        +      exoponential S                  \n",
       "5  450615        NA            NA     exoponential S                  \n",
       "6 2025623        NA            NA     exoponential S                  \n",
       "  methylation_frequency_TK0234_0224_rep1 mC_count_TK0234_0224_rep1\n",
       "1 0.32                                   158                      \n",
       "2 0.06                                    65                      \n",
       "3 0.12                                    25                      \n",
       "4 0.02                                    12                      \n",
       "5 0.06                                    66                      \n",
       "6 0.15                                    68                      \n",
       "  coverage_TK0234_0224_rep1 methylation_frequency_TK0234_0224_rep2\n",
       "1  487                      0.29                                  \n",
       "2 1103                      0.05                                  \n",
       "3  201                      0.10                                  \n",
       "4  561                      0.02                                  \n",
       "5 1078                      0.06                                  \n",
       "6  451                      0.16                                  \n",
       "  mC_count_TK0234_0224_rep2 ⋯ amino_acid_sequence amino_acid_ID\n",
       "1 173                       ⋯ .                   .            \n",
       "2  62                       ⋯ NA                  NA           \n",
       "3  38                       ⋯ GCT                 A            \n",
       "4  22                       ⋯ CCC                 P            \n",
       "5  69                       ⋯ NA                  NA           \n",
       "6  79                       ⋯ NA                  NA           \n",
       "  local_41bp_predicted_fold                m5C_position_fold MFA   \n",
       "1 .                                        NA                .     \n",
       "2 NA                                       NA                NA    \n",
       "3 .........((((.......((((((((((((........ base_paired       -35.82\n",
       "4 ....))))....))).))))))))....(((((.((.... base_paired       -80.89\n",
       "5 NA                                       NA                NA    \n",
       "6 NA                                       NA                NA    \n",
       "  associated_TSS_id TSS_direction TSS_description total_annotations\n",
       "1 .                 .             .                1               \n",
       "2 NA                NA            NA              NA               \n",
       "3 .                 .             .                1               \n",
       "4 .                 .             .                1               \n",
       "5 NA                NA            NA              NA               \n",
       "6 NA                NA            NA              NA               \n",
       "  alternate_annotations\n",
       "1 NA                   \n",
       "2 NA                   \n",
       "3 NA                   \n",
       "4 NA                   \n",
       "5 NA                   \n",
       "6 NA                   "
      ]
     },
     "metadata": {},
     "output_type": "display_data"
    }
   ],
   "source": [
    "###strain TK0234_0224\n",
    "\n",
    "defaultW <- getOption(\"warn\")\n",
    "options(warn = -1)\n",
    "\n",
    "\n",
    "#load CGmaps into session\n",
    "TK0234_0224exoS_CGmap_rep1 <-read.delim(\"../cgmaps/TK0234_0224_exoS_totalRNA_rep1.CGmap\", sep='\\t', header=FALSE,col.names=cols) %>%\n",
    "    mutate(strain=\"TK0234_0224\", growth_phase='exoponential', metabolic_condition=\"S\", replicate=\"rep1\")\n",
    "\n",
    "TK0234_0224exoS_CGmap_rep2 <-read.delim(\"../cgmaps/TK0234_0224_exoS_totalRNA_rep2.CGmap\", sep='\\t', header=FALSE,col.names=cols) %>%\n",
    "    mutate(strain=\"TK0234_0224\", growth_phase='exoponential', metabolic_condition=\"S\", replicate=\"rep2\")\n",
    "\n",
    "# process raw CGmaps\n",
    "TK0234_0224exoS_rep1_df <- processCGmap(TK0234_0224exoS_CGmap_rep1)\n",
    "TK0234_0224exoS_rep2_df <- processCGmap(TK0234_0224exoS_CGmap_rep2)\n",
    "\n",
    "#merge reps\n",
    "TK0234_0224exoS <- merge_del_reps(x=TK0234_0224exoS_rep1_df, y=TK0234_0224exoS_rep2_df, strain='TK0234_0224')\n",
    "\n",
    "# get quantiles\n",
    "\"quantiles:\"\n",
    "get_quantiles(strain_cgmap = TK0234_0224exoS, strain=\"TK0234_0224\", min_cov = 47)\n",
    "\n",
    "#compare methylation frequencies & annotate\n",
    "TK0234_0224exoS_anal <- CompareCGmap(strain_cgmap = TK0234_0224exoS, \n",
    "                                TS559_cgmap = TS559exoS, \n",
    "                                strain=\"TK0234_0224\", \n",
    "                                annotation = annotation,\n",
    "                                min_cov = 47)\n",
    "\n",
    "#write.table(TK0234_0224exoS_anal, file = \"../processed_cgmaps/TK0234_0224exoS_annotated\", sep = \"\\t\", row.names = F)\n",
    "\n",
    "#enumerate gains & losses\n",
    "\"losses & gains:\"\n",
    "nrow( TK0234_0224exoS_anal %>% filter(log2FC < 0) )\n",
    "nrow( TK0234_0224exoS_anal %>% filter(log2FC > 0) )\n",
    "\n",
    "head(TK0234_0224exoS_anal)\n",
    "\n",
    "TK0234_0224exoS_cat <- enumerate_hiconf_2reps(strain_cgmap = TK0234_0224exoS, strain=\"TK0234_0224\",min_cov = 47)\n",
    "\n",
    "Sys.sleep(10)"
   ]
  },
  {
   "cell_type": "code",
   "execution_count": 21,
   "metadata": {},
   "outputs": [
    {
     "data": {
      "text/html": [
       "'quantiles:'"
      ],
      "text/latex": [
       "'quantiles:'"
      ],
      "text/markdown": [
       "'quantiles:'"
      ],
      "text/plain": [
       "[1] \"quantiles:\""
      ]
     },
     "metadata": {},
     "output_type": "display_data"
    },
    {
     "data": {
      "text/html": [
       "<style>\n",
       ".list-inline {list-style: none; margin:0; padding: 0}\n",
       ".list-inline>li {display: inline-block}\n",
       ".list-inline>li:not(:last-child)::after {content: \"\\00b7\"; padding: 0 .5ex}\n",
       "</style>\n",
       "<ol class=list-inline><li>8</li><li>8</li></ol>\n"
      ],
      "text/latex": [
       "\\begin{enumerate*}\n",
       "\\item 8\n",
       "\\item 8\n",
       "\\end{enumerate*}\n"
      ],
      "text/markdown": [
       "1. 8\n",
       "2. 8\n",
       "\n",
       "\n"
      ],
      "text/plain": [
       "[1] 8 8"
      ]
     },
     "metadata": {},
     "output_type": "display_data"
    },
    {
     "data": {
      "text/html": [
       "'losses &amp; gains:'"
      ],
      "text/latex": [
       "'losses \\& gains:'"
      ],
      "text/markdown": [
       "'losses &amp; gains:'"
      ],
      "text/plain": [
       "[1] \"losses & gains:\""
      ]
     },
     "metadata": {},
     "output_type": "display_data"
    },
    {
     "data": {
      "text/html": [
       "8"
      ],
      "text/latex": [
       "8"
      ],
      "text/markdown": [
       "8"
      ],
      "text/plain": [
       "[1] 8"
      ]
     },
     "metadata": {},
     "output_type": "display_data"
    },
    {
     "data": {
      "text/html": [
       "4"
      ],
      "text/latex": [
       "4"
      ],
      "text/markdown": [
       "4"
      ],
      "text/plain": [
       "[1] 4"
      ]
     },
     "metadata": {},
     "output_type": "display_data"
    },
    {
     "data": {
      "text/html": [
       "<table>\n",
       "<caption>A rowwise_df: 6 × 48</caption>\n",
       "<thead>\n",
       "\t<tr><th scope=col>TS559_position</th><th scope=col>KOD1_position</th><th scope=col>strand</th><th scope=col>growth_phase</th><th scope=col>metabolic_condition</th><th scope=col>methylation_frequency_TK0234_0729_rep1</th><th scope=col>mC_count_TK0234_0729_rep1</th><th scope=col>coverage_TK0234_0729_rep1</th><th scope=col>methylation_frequency_TK0234_0729_rep2</th><th scope=col>mC_count_TK0234_0729_rep2</th><th scope=col>⋯</th><th scope=col>amino_acid_sequence</th><th scope=col>amino_acid_ID</th><th scope=col>local_41bp_predicted_fold</th><th scope=col>m5C_position_fold</th><th scope=col>MFA</th><th scope=col>associated_TSS_id</th><th scope=col>TSS_direction</th><th scope=col>TSS_description</th><th scope=col>total_annotations</th><th scope=col>alternate_annotations</th></tr>\n",
       "\t<tr><th scope=col>&lt;int&gt;</th><th scope=col>&lt;fct&gt;</th><th scope=col>&lt;fct&gt;</th><th scope=col>&lt;chr&gt;</th><th scope=col>&lt;chr&gt;</th><th scope=col>&lt;dbl&gt;</th><th scope=col>&lt;int&gt;</th><th scope=col>&lt;int&gt;</th><th scope=col>&lt;dbl&gt;</th><th scope=col>&lt;int&gt;</th><th scope=col>⋯</th><th scope=col>&lt;fct&gt;</th><th scope=col>&lt;fct&gt;</th><th scope=col>&lt;fct&gt;</th><th scope=col>&lt;fct&gt;</th><th scope=col>&lt;fct&gt;</th><th scope=col>&lt;fct&gt;</th><th scope=col>&lt;fct&gt;</th><th scope=col>&lt;fct&gt;</th><th scope=col>&lt;int&gt;</th><th scope=col>&lt;fct&gt;</th></tr>\n",
       "</thead>\n",
       "<tbody>\n",
       "\t<tr><td>2022931</td><td>2023922</td><td>- </td><td>exoponential</td><td>S</td><td>0.30</td><td>129</td><td>430</td><td>0.31</td><td>154</td><td>⋯</td><td>.  </td><td>. </td><td>.                                       </td><td>NA             </td><td>.      </td><td>. </td><td>. </td><td>. </td><td> 1</td><td>NA</td></tr>\n",
       "\t<tr><td> 921087</td><td>922078 </td><td>+ </td><td>exoponential</td><td>S</td><td>0.15</td><td> 16</td><td>108</td><td>0.19</td><td> 30</td><td>⋯</td><td>CGA</td><td>R </td><td>((((..................(((((....)))))....</td><td>single_stranded</td><td>-180.76</td><td>. </td><td>. </td><td>. </td><td> 1</td><td>NA</td></tr>\n",
       "\t<tr><td> 407373</td><td>408364 </td><td>+ </td><td>exoponential</td><td>S</td><td>0.09</td><td> 33</td><td>351</td><td>0.13</td><td> 54</td><td>⋯</td><td>GCT</td><td>A </td><td>.........((((.......((((((((((((........</td><td>base_paired    </td><td>-35.82 </td><td>. </td><td>. </td><td>. </td><td> 1</td><td>NA</td></tr>\n",
       "\t<tr><td> 291301</td><td>292292 </td><td>+ </td><td>exoponential</td><td>S</td><td>0.03</td><td> 19</td><td>703</td><td>0.01</td><td> 14</td><td>⋯</td><td>CCC</td><td>P </td><td>....))))....))).))))))))....(((((.((....</td><td>base_paired    </td><td>-80.89 </td><td>. </td><td>. </td><td>. </td><td> 1</td><td>NA</td></tr>\n",
       "\t<tr><td>1532116</td><td>1533107</td><td>+ </td><td>exoponential</td><td>S</td><td>0.05</td><td> 20</td><td>424</td><td>0.04</td><td> 22</td><td>⋯</td><td>CGA</td><td>R </td><td>...........))))))))..))))))).......)))))</td><td>single_stranded</td><td>-280.6 </td><td>. </td><td>. </td><td>. </td><td> 1</td><td>NA</td></tr>\n",
       "\t<tr><td> 628761</td><td>NA     </td><td>NA</td><td>exoponential</td><td>S</td><td>0.10</td><td> 37</td><td>385</td><td>0.11</td><td> 43</td><td>⋯</td><td>NA </td><td>NA</td><td>NA                                      </td><td>NA             </td><td>NA     </td><td>NA</td><td>NA</td><td>NA</td><td>NA</td><td>NA</td></tr>\n",
       "</tbody>\n",
       "</table>\n"
      ],
      "text/latex": [
       "A rowwise\\_df: 6 × 48\n",
       "\\begin{tabular}{lllllllllllllllllllll}\n",
       " TS559\\_position & KOD1\\_position & strand & growth\\_phase & metabolic\\_condition & methylation\\_frequency\\_TK0234\\_0729\\_rep1 & mC\\_count\\_TK0234\\_0729\\_rep1 & coverage\\_TK0234\\_0729\\_rep1 & methylation\\_frequency\\_TK0234\\_0729\\_rep2 & mC\\_count\\_TK0234\\_0729\\_rep2 & ⋯ & amino\\_acid\\_sequence & amino\\_acid\\_ID & local\\_41bp\\_predicted\\_fold & m5C\\_position\\_fold & MFA & associated\\_TSS\\_id & TSS\\_direction & TSS\\_description & total\\_annotations & alternate\\_annotations\\\\\n",
       " <int> & <fct> & <fct> & <chr> & <chr> & <dbl> & <int> & <int> & <dbl> & <int> & ⋯ & <fct> & <fct> & <fct> & <fct> & <fct> & <fct> & <fct> & <fct> & <int> & <fct>\\\\\n",
       "\\hline\n",
       "\t 2022931 & 2023922 & -  & exoponential & S & 0.30 & 129 & 430 & 0.31 & 154 & ⋯ & .   & .  & .                                        & NA              & .       & .  & .  & .  &  1 & NA\\\\\n",
       "\t  921087 & 922078  & +  & exoponential & S & 0.15 &  16 & 108 & 0.19 &  30 & ⋯ & CGA & R  & ((((..................(((((....))))).... & single\\_stranded & -180.76 & .  & .  & .  &  1 & NA\\\\\n",
       "\t  407373 & 408364  & +  & exoponential & S & 0.09 &  33 & 351 & 0.13 &  54 & ⋯ & GCT & A  & .........((((.......((((((((((((........ & base\\_paired     & -35.82  & .  & .  & .  &  1 & NA\\\\\n",
       "\t  291301 & 292292  & +  & exoponential & S & 0.03 &  19 & 703 & 0.01 &  14 & ⋯ & CCC & P  & ....))))....))).))))))))....(((((.((.... & base\\_paired     & -80.89  & .  & .  & .  &  1 & NA\\\\\n",
       "\t 1532116 & 1533107 & +  & exoponential & S & 0.05 &  20 & 424 & 0.04 &  22 & ⋯ & CGA & R  & ...........))))))))..))))))).......))))) & single\\_stranded & -280.6  & .  & .  & .  &  1 & NA\\\\\n",
       "\t  628761 & NA      & NA & exoponential & S & 0.10 &  37 & 385 & 0.11 &  43 & ⋯ & NA  & NA & NA                                       & NA              & NA      & NA & NA & NA & NA & NA\\\\\n",
       "\\end{tabular}\n"
      ],
      "text/markdown": [
       "\n",
       "A rowwise_df: 6 × 48\n",
       "\n",
       "| TS559_position &lt;int&gt; | KOD1_position &lt;fct&gt; | strand &lt;fct&gt; | growth_phase &lt;chr&gt; | metabolic_condition &lt;chr&gt; | methylation_frequency_TK0234_0729_rep1 &lt;dbl&gt; | mC_count_TK0234_0729_rep1 &lt;int&gt; | coverage_TK0234_0729_rep1 &lt;int&gt; | methylation_frequency_TK0234_0729_rep2 &lt;dbl&gt; | mC_count_TK0234_0729_rep2 &lt;int&gt; | ⋯ ⋯ | amino_acid_sequence &lt;fct&gt; | amino_acid_ID &lt;fct&gt; | local_41bp_predicted_fold &lt;fct&gt; | m5C_position_fold &lt;fct&gt; | MFA &lt;fct&gt; | associated_TSS_id &lt;fct&gt; | TSS_direction &lt;fct&gt; | TSS_description &lt;fct&gt; | total_annotations &lt;int&gt; | alternate_annotations &lt;fct&gt; |\n",
       "|---|---|---|---|---|---|---|---|---|---|---|---|---|---|---|---|---|---|---|---|---|\n",
       "| 2022931 | 2023922 | -  | exoponential | S | 0.30 | 129 | 430 | 0.31 | 154 | ⋯ | .   | .  | .                                        | NA              | .       | .  | .  | .  |  1 | NA |\n",
       "|  921087 | 922078  | +  | exoponential | S | 0.15 |  16 | 108 | 0.19 |  30 | ⋯ | CGA | R  | ((((..................(((((....))))).... | single_stranded | -180.76 | .  | .  | .  |  1 | NA |\n",
       "|  407373 | 408364  | +  | exoponential | S | 0.09 |  33 | 351 | 0.13 |  54 | ⋯ | GCT | A  | .........((((.......((((((((((((........ | base_paired     | -35.82  | .  | .  | .  |  1 | NA |\n",
       "|  291301 | 292292  | +  | exoponential | S | 0.03 |  19 | 703 | 0.01 |  14 | ⋯ | CCC | P  | ....))))....))).))))))))....(((((.((.... | base_paired     | -80.89  | .  | .  | .  |  1 | NA |\n",
       "| 1532116 | 1533107 | +  | exoponential | S | 0.05 |  20 | 424 | 0.04 |  22 | ⋯ | CGA | R  | ...........))))))))..))))))).......))))) | single_stranded | -280.6  | .  | .  | .  |  1 | NA |\n",
       "|  628761 | NA      | NA | exoponential | S | 0.10 |  37 | 385 | 0.11 |  43 | ⋯ | NA  | NA | NA                                       | NA              | NA      | NA | NA | NA | NA | NA |\n",
       "\n"
      ],
      "text/plain": [
       "  TS559_position KOD1_position strand growth_phase metabolic_condition\n",
       "1 2022931        2023922       -      exoponential S                  \n",
       "2  921087        922078        +      exoponential S                  \n",
       "3  407373        408364        +      exoponential S                  \n",
       "4  291301        292292        +      exoponential S                  \n",
       "5 1532116        1533107       +      exoponential S                  \n",
       "6  628761        NA            NA     exoponential S                  \n",
       "  methylation_frequency_TK0234_0729_rep1 mC_count_TK0234_0729_rep1\n",
       "1 0.30                                   129                      \n",
       "2 0.15                                    16                      \n",
       "3 0.09                                    33                      \n",
       "4 0.03                                    19                      \n",
       "5 0.05                                    20                      \n",
       "6 0.10                                    37                      \n",
       "  coverage_TK0234_0729_rep1 methylation_frequency_TK0234_0729_rep2\n",
       "1 430                       0.31                                  \n",
       "2 108                       0.19                                  \n",
       "3 351                       0.13                                  \n",
       "4 703                       0.01                                  \n",
       "5 424                       0.04                                  \n",
       "6 385                       0.11                                  \n",
       "  mC_count_TK0234_0729_rep2 ⋯ amino_acid_sequence amino_acid_ID\n",
       "1 154                       ⋯ .                   .            \n",
       "2  30                       ⋯ CGA                 R            \n",
       "3  54                       ⋯ GCT                 A            \n",
       "4  14                       ⋯ CCC                 P            \n",
       "5  22                       ⋯ CGA                 R            \n",
       "6  43                       ⋯ NA                  NA           \n",
       "  local_41bp_predicted_fold                m5C_position_fold MFA    \n",
       "1 .                                        NA                .      \n",
       "2 ((((..................(((((....))))).... single_stranded   -180.76\n",
       "3 .........((((.......((((((((((((........ base_paired       -35.82 \n",
       "4 ....))))....))).))))))))....(((((.((.... base_paired       -80.89 \n",
       "5 ...........))))))))..))))))).......))))) single_stranded   -280.6 \n",
       "6 NA                                       NA                NA     \n",
       "  associated_TSS_id TSS_direction TSS_description total_annotations\n",
       "1 .                 .             .                1               \n",
       "2 .                 .             .                1               \n",
       "3 .                 .             .                1               \n",
       "4 .                 .             .                1               \n",
       "5 .                 .             .                1               \n",
       "6 NA                NA            NA              NA               \n",
       "  alternate_annotations\n",
       "1 NA                   \n",
       "2 NA                   \n",
       "3 NA                   \n",
       "4 NA                   \n",
       "5 NA                   \n",
       "6 NA                   "
      ]
     },
     "metadata": {},
     "output_type": "display_data"
    }
   ],
   "source": [
    "###strain TK0234_0729\n",
    "\n",
    "defaultW <- getOption(\"warn\")\n",
    "options(warn = -1)\n",
    "\n",
    "\n",
    "#load CGmaps into session\n",
    "TK0234_0729exoS_CGmap_rep1 <-read.delim(\"../cgmaps/TK0234_0729_exoS_totalRNA_rep1.CGmap\", sep='\\t', header=FALSE,col.names=cols) %>%\n",
    "    mutate(strain=\"TK0234_0729\", growth_phase='exoponential', metabolic_condition=\"S\", replicate=\"rep1\")\n",
    "\n",
    "TK0234_0729exoS_CGmap_rep2 <-read.delim(\"../cgmaps/TK0234_0729_exoS_totalRNA_rep2.CGmap\", sep='\\t', header=FALSE,col.names=cols) %>%\n",
    "    mutate(strain=\"TK0234_0729\", growth_phase='exoponential', metabolic_condition=\"S\", replicate=\"rep2\")\n",
    "\n",
    "# process raw CGmaps\n",
    "TK0234_0729exoS_rep1_df <- processCGmap(TK0234_0729exoS_CGmap_rep1)\n",
    "TK0234_0729exoS_rep2_df <- processCGmap(TK0234_0729exoS_CGmap_rep2)\n",
    "\n",
    "#merge reps\n",
    "TK0234_0729exoS <- merge_del_reps(x=TK0234_0729exoS_rep1_df, y=TK0234_0729exoS_rep2_df, strain='TK0234_0729')\n",
    "\n",
    "# get quantiles\n",
    "\"quantiles:\"\n",
    "get_quantiles(strain_cgmap = TK0234_0729exoS, strain=\"TK0234_0729\", min_cov = 47)\n",
    "\n",
    "#compare methy8lation frequencies & annotate\n",
    "TK0234_0729exoS_anal <- CompareCGmap(strain_cgmap = TK0234_0729exoS, \n",
    "                                TS559_cgmap = TS559exoS, \n",
    "                                strain=\"TK0234_0729\", \n",
    "                                annotation = annotation,\n",
    "                                min_cov = 47)\n",
    "\n",
    "#write.table(TK0234_0729exoS_anal, file = \"../processed_cgmaps/TK0234_0729exoS_annotated\", sep = \"\\t\", row.names = F)\n",
    "\n",
    "#enumerate gains & losses\n",
    "\"losses & gains:\"\n",
    "nrow( TK0234_0729exoS_anal %>% filter(log2FC < 0) )\n",
    "nrow( TK0234_0729exoS_anal %>% filter(log2FC > 0) )\n",
    "\n",
    "head(TK0234_0729exoS_anal)\n",
    "\n",
    "TK0234_0729exoS_cat <- enumerate_hiconf_2reps(strain_cgmap = TK0234_0729exoS, strain=\"TK0234_0729\",min_cov = 47)\n",
    "\n",
    "Sys.sleep(20)"
   ]
  },
  {
   "cell_type": "code",
   "execution_count": 22,
   "metadata": {},
   "outputs": [
    {
     "data": {
      "text/html": [
       "'quantiles:'"
      ],
      "text/latex": [
       "'quantiles:'"
      ],
      "text/markdown": [
       "'quantiles:'"
      ],
      "text/plain": [
       "[1] \"quantiles:\""
      ]
     },
     "metadata": {},
     "output_type": "display_data"
    },
    {
     "data": {
      "text/html": [
       "<style>\n",
       ".list-inline {list-style: none; margin:0; padding: 0}\n",
       ".list-inline>li {display: inline-block}\n",
       ".list-inline>li:not(:last-child)::after {content: \"\\00b7\"; padding: 0 .5ex}\n",
       "</style>\n",
       "<ol class=list-inline><li>8</li><li>8</li></ol>\n"
      ],
      "text/latex": [
       "\\begin{enumerate*}\n",
       "\\item 8\n",
       "\\item 8\n",
       "\\end{enumerate*}\n"
      ],
      "text/markdown": [
       "1. 8\n",
       "2. 8\n",
       "\n",
       "\n"
      ],
      "text/plain": [
       "[1] 8 8"
      ]
     },
     "metadata": {},
     "output_type": "display_data"
    },
    {
     "data": {
      "text/html": [
       "'losses &amp; gains:'"
      ],
      "text/latex": [
       "'losses \\& gains:'"
      ],
      "text/markdown": [
       "'losses &amp; gains:'"
      ],
      "text/plain": [
       "[1] \"losses & gains:\""
      ]
     },
     "metadata": {},
     "output_type": "display_data"
    },
    {
     "data": {
      "text/html": [
       "26"
      ],
      "text/latex": [
       "26"
      ],
      "text/markdown": [
       "26"
      ],
      "text/plain": [
       "[1] 26"
      ]
     },
     "metadata": {},
     "output_type": "display_data"
    },
    {
     "data": {
      "text/html": [
       "8"
      ],
      "text/latex": [
       "8"
      ],
      "text/markdown": [
       "8"
      ],
      "text/plain": [
       "[1] 8"
      ]
     },
     "metadata": {},
     "output_type": "display_data"
    },
    {
     "data": {
      "text/html": [
       "<table>\n",
       "<caption>A rowwise_df: 6 × 48</caption>\n",
       "<thead>\n",
       "\t<tr><th scope=col>TS559_position</th><th scope=col>KOD1_position</th><th scope=col>strand</th><th scope=col>growth_phase</th><th scope=col>metabolic_condition</th><th scope=col>methylation_frequency_TK0872_0008_rep1</th><th scope=col>mC_count_TK0872_0008_rep1</th><th scope=col>coverage_TK0872_0008_rep1</th><th scope=col>methylation_frequency_TK0872_0008_rep2</th><th scope=col>mC_count_TK0872_0008_rep2</th><th scope=col>⋯</th><th scope=col>amino_acid_sequence</th><th scope=col>amino_acid_ID</th><th scope=col>local_41bp_predicted_fold</th><th scope=col>m5C_position_fold</th><th scope=col>MFA</th><th scope=col>associated_TSS_id</th><th scope=col>TSS_direction</th><th scope=col>TSS_description</th><th scope=col>total_annotations</th><th scope=col>alternate_annotations</th></tr>\n",
       "\t<tr><th scope=col>&lt;int&gt;</th><th scope=col>&lt;fct&gt;</th><th scope=col>&lt;fct&gt;</th><th scope=col>&lt;chr&gt;</th><th scope=col>&lt;chr&gt;</th><th scope=col>&lt;dbl&gt;</th><th scope=col>&lt;int&gt;</th><th scope=col>&lt;int&gt;</th><th scope=col>&lt;dbl&gt;</th><th scope=col>&lt;int&gt;</th><th scope=col>⋯</th><th scope=col>&lt;fct&gt;</th><th scope=col>&lt;fct&gt;</th><th scope=col>&lt;fct&gt;</th><th scope=col>&lt;fct&gt;</th><th scope=col>&lt;fct&gt;</th><th scope=col>&lt;fct&gt;</th><th scope=col>&lt;fct&gt;</th><th scope=col>&lt;fct&gt;</th><th scope=col>&lt;int&gt;</th><th scope=col>&lt;fct&gt;</th></tr>\n",
       "</thead>\n",
       "<tbody>\n",
       "\t<tr><td> 490607</td><td>491598 </td><td>+</td><td>exoponential</td><td>S</td><td>0.09</td><td>419</td><td>4496</td><td>0.10</td><td>383</td><td>⋯</td><td>GGC</td><td>G</td><td>..(((.......)))....))))(((((..(.........</td><td>base_paired    </td><td>-76.38</td><td>.</td><td>.</td><td>.</td><td>1</td><td>NA</td></tr>\n",
       "\t<tr><td>1786159</td><td>1787150</td><td>+</td><td>exoponential</td><td>S</td><td>0.08</td><td>238</td><td>2803</td><td>0.10</td><td>256</td><td>⋯</td><td>TCC</td><td>S</td><td>........(((((......)))))................</td><td>base_paired    </td><td>-80.31</td><td>.</td><td>.</td><td>.</td><td>1</td><td>NA</td></tr>\n",
       "\t<tr><td>1606838</td><td>1607829</td><td>-</td><td>exoponential</td><td>S</td><td>0.04</td><td>108</td><td>2475</td><td>0.05</td><td>128</td><td>⋯</td><td>AGC</td><td>S</td><td>.....)))))).......)))))..)......))))))))</td><td>base_paired    </td><td>-50.27</td><td>.</td><td>.</td><td>.</td><td>1</td><td>NA</td></tr>\n",
       "\t<tr><td>1532419</td><td>1533410</td><td>+</td><td>exoponential</td><td>S</td><td>0.12</td><td>121</td><td> 997</td><td>0.17</td><td>169</td><td>⋯</td><td>CGA</td><td>R</td><td>))).....(((((((((....(..((............((</td><td>single_stranded</td><td>-280.6</td><td>.</td><td>.</td><td>.</td><td>1</td><td>NA</td></tr>\n",
       "\t<tr><td> 108885</td><td>108885 </td><td>-</td><td>exoponential</td><td>S</td><td>0.05</td><td>169</td><td>3194</td><td>0.05</td><td>156</td><td>⋯</td><td>GCC</td><td>A</td><td>...))))).......................(((((((..</td><td>single_stranded</td><td>-46.45</td><td>.</td><td>.</td><td>.</td><td>1</td><td>NA</td></tr>\n",
       "\t<tr><td>2071412</td><td>2073044</td><td>-</td><td>exoponential</td><td>S</td><td>0.02</td><td>162</td><td>7012</td><td>0.03</td><td>167</td><td>⋯</td><td>GCC</td><td>A</td><td>((....))....)))))(((((...((((..((((((.((</td><td>base_paired    </td><td>-7.38 </td><td>.</td><td>.</td><td>.</td><td>1</td><td>NA</td></tr>\n",
       "</tbody>\n",
       "</table>\n"
      ],
      "text/latex": [
       "A rowwise\\_df: 6 × 48\n",
       "\\begin{tabular}{lllllllllllllllllllll}\n",
       " TS559\\_position & KOD1\\_position & strand & growth\\_phase & metabolic\\_condition & methylation\\_frequency\\_TK0872\\_0008\\_rep1 & mC\\_count\\_TK0872\\_0008\\_rep1 & coverage\\_TK0872\\_0008\\_rep1 & methylation\\_frequency\\_TK0872\\_0008\\_rep2 & mC\\_count\\_TK0872\\_0008\\_rep2 & ⋯ & amino\\_acid\\_sequence & amino\\_acid\\_ID & local\\_41bp\\_predicted\\_fold & m5C\\_position\\_fold & MFA & associated\\_TSS\\_id & TSS\\_direction & TSS\\_description & total\\_annotations & alternate\\_annotations\\\\\n",
       " <int> & <fct> & <fct> & <chr> & <chr> & <dbl> & <int> & <int> & <dbl> & <int> & ⋯ & <fct> & <fct> & <fct> & <fct> & <fct> & <fct> & <fct> & <fct> & <int> & <fct>\\\\\n",
       "\\hline\n",
       "\t  490607 & 491598  & + & exoponential & S & 0.09 & 419 & 4496 & 0.10 & 383 & ⋯ & GGC & G & ..(((.......)))....))))(((((..(......... & base\\_paired     & -76.38 & . & . & . & 1 & NA\\\\\n",
       "\t 1786159 & 1787150 & + & exoponential & S & 0.08 & 238 & 2803 & 0.10 & 256 & ⋯ & TCC & S & ........(((((......)))))................ & base\\_paired     & -80.31 & . & . & . & 1 & NA\\\\\n",
       "\t 1606838 & 1607829 & - & exoponential & S & 0.04 & 108 & 2475 & 0.05 & 128 & ⋯ & AGC & S & .....)))))).......)))))..)......)))))))) & base\\_paired     & -50.27 & . & . & . & 1 & NA\\\\\n",
       "\t 1532419 & 1533410 & + & exoponential & S & 0.12 & 121 &  997 & 0.17 & 169 & ⋯ & CGA & R & ))).....(((((((((....(..((............(( & single\\_stranded & -280.6 & . & . & . & 1 & NA\\\\\n",
       "\t  108885 & 108885  & - & exoponential & S & 0.05 & 169 & 3194 & 0.05 & 156 & ⋯ & GCC & A & ...))))).......................(((((((.. & single\\_stranded & -46.45 & . & . & . & 1 & NA\\\\\n",
       "\t 2071412 & 2073044 & - & exoponential & S & 0.02 & 162 & 7012 & 0.03 & 167 & ⋯ & GCC & A & ((....))....)))))(((((...((((..((((((.(( & base\\_paired     & -7.38  & . & . & . & 1 & NA\\\\\n",
       "\\end{tabular}\n"
      ],
      "text/markdown": [
       "\n",
       "A rowwise_df: 6 × 48\n",
       "\n",
       "| TS559_position &lt;int&gt; | KOD1_position &lt;fct&gt; | strand &lt;fct&gt; | growth_phase &lt;chr&gt; | metabolic_condition &lt;chr&gt; | methylation_frequency_TK0872_0008_rep1 &lt;dbl&gt; | mC_count_TK0872_0008_rep1 &lt;int&gt; | coverage_TK0872_0008_rep1 &lt;int&gt; | methylation_frequency_TK0872_0008_rep2 &lt;dbl&gt; | mC_count_TK0872_0008_rep2 &lt;int&gt; | ⋯ ⋯ | amino_acid_sequence &lt;fct&gt; | amino_acid_ID &lt;fct&gt; | local_41bp_predicted_fold &lt;fct&gt; | m5C_position_fold &lt;fct&gt; | MFA &lt;fct&gt; | associated_TSS_id &lt;fct&gt; | TSS_direction &lt;fct&gt; | TSS_description &lt;fct&gt; | total_annotations &lt;int&gt; | alternate_annotations &lt;fct&gt; |\n",
       "|---|---|---|---|---|---|---|---|---|---|---|---|---|---|---|---|---|---|---|---|---|\n",
       "|  490607 | 491598  | + | exoponential | S | 0.09 | 419 | 4496 | 0.10 | 383 | ⋯ | GGC | G | ..(((.......)))....))))(((((..(......... | base_paired     | -76.38 | . | . | . | 1 | NA |\n",
       "| 1786159 | 1787150 | + | exoponential | S | 0.08 | 238 | 2803 | 0.10 | 256 | ⋯ | TCC | S | ........(((((......)))))................ | base_paired     | -80.31 | . | . | . | 1 | NA |\n",
       "| 1606838 | 1607829 | - | exoponential | S | 0.04 | 108 | 2475 | 0.05 | 128 | ⋯ | AGC | S | .....)))))).......)))))..)......)))))))) | base_paired     | -50.27 | . | . | . | 1 | NA |\n",
       "| 1532419 | 1533410 | + | exoponential | S | 0.12 | 121 |  997 | 0.17 | 169 | ⋯ | CGA | R | ))).....(((((((((....(..((............(( | single_stranded | -280.6 | . | . | . | 1 | NA |\n",
       "|  108885 | 108885  | - | exoponential | S | 0.05 | 169 | 3194 | 0.05 | 156 | ⋯ | GCC | A | ...))))).......................(((((((.. | single_stranded | -46.45 | . | . | . | 1 | NA |\n",
       "| 2071412 | 2073044 | - | exoponential | S | 0.02 | 162 | 7012 | 0.03 | 167 | ⋯ | GCC | A | ((....))....)))))(((((...((((..((((((.(( | base_paired     | -7.38  | . | . | . | 1 | NA |\n",
       "\n"
      ],
      "text/plain": [
       "  TS559_position KOD1_position strand growth_phase metabolic_condition\n",
       "1  490607        491598        +      exoponential S                  \n",
       "2 1786159        1787150       +      exoponential S                  \n",
       "3 1606838        1607829       -      exoponential S                  \n",
       "4 1532419        1533410       +      exoponential S                  \n",
       "5  108885        108885        -      exoponential S                  \n",
       "6 2071412        2073044       -      exoponential S                  \n",
       "  methylation_frequency_TK0872_0008_rep1 mC_count_TK0872_0008_rep1\n",
       "1 0.09                                   419                      \n",
       "2 0.08                                   238                      \n",
       "3 0.04                                   108                      \n",
       "4 0.12                                   121                      \n",
       "5 0.05                                   169                      \n",
       "6 0.02                                   162                      \n",
       "  coverage_TK0872_0008_rep1 methylation_frequency_TK0872_0008_rep2\n",
       "1 4496                      0.10                                  \n",
       "2 2803                      0.10                                  \n",
       "3 2475                      0.05                                  \n",
       "4  997                      0.17                                  \n",
       "5 3194                      0.05                                  \n",
       "6 7012                      0.03                                  \n",
       "  mC_count_TK0872_0008_rep2 ⋯ amino_acid_sequence amino_acid_ID\n",
       "1 383                       ⋯ GGC                 G            \n",
       "2 256                       ⋯ TCC                 S            \n",
       "3 128                       ⋯ AGC                 S            \n",
       "4 169                       ⋯ CGA                 R            \n",
       "5 156                       ⋯ GCC                 A            \n",
       "6 167                       ⋯ GCC                 A            \n",
       "  local_41bp_predicted_fold                m5C_position_fold MFA   \n",
       "1 ..(((.......)))....))))(((((..(......... base_paired       -76.38\n",
       "2 ........(((((......)))))................ base_paired       -80.31\n",
       "3 .....)))))).......)))))..)......)))))))) base_paired       -50.27\n",
       "4 ))).....(((((((((....(..((............(( single_stranded   -280.6\n",
       "5 ...))))).......................(((((((.. single_stranded   -46.45\n",
       "6 ((....))....)))))(((((...((((..((((((.(( base_paired       -7.38 \n",
       "  associated_TSS_id TSS_direction TSS_description total_annotations\n",
       "1 .                 .             .               1                \n",
       "2 .                 .             .               1                \n",
       "3 .                 .             .               1                \n",
       "4 .                 .             .               1                \n",
       "5 .                 .             .               1                \n",
       "6 .                 .             .               1                \n",
       "  alternate_annotations\n",
       "1 NA                   \n",
       "2 NA                   \n",
       "3 NA                   \n",
       "4 NA                   \n",
       "5 NA                   \n",
       "6 NA                   "
      ]
     },
     "metadata": {},
     "output_type": "display_data"
    }
   ],
   "source": [
    "###strain TK0872_0008\n",
    "\n",
    "defaultW <- getOption(\"warn\")\n",
    "options(warn = -1)\n",
    "\n",
    "\n",
    "#load CGmaps into session\n",
    "TK0872_0008exoS_CGmap_rep1 <-read.delim(\"../cgmaps/TK0872_0008_exoS_totalRNA_rep1.CGmap\", sep='\\t', header=FALSE,col.names=cols) %>%\n",
    "    mutate(strain=\"TK0872_0008\", growth_phase='exoponential', metabolic_condition=\"S\", replicate=\"rep1\")\n",
    "\n",
    "TK0872_0008exoS_CGmap_rep2 <-read.delim(\"../cgmaps/TK0872_0008_exoS_totalRNA_rep2.CGmap\", sep='\\t', header=FALSE,col.names=cols) %>%\n",
    "    mutate(strain=\"TK0872_0008\", growth_phase='exoponential', metabolic_condition=\"S\", replicate=\"rep2\")\n",
    "\n",
    "# process raw CGmaps\n",
    "TK0872_0008exoS_rep1_df <- processCGmap(TK0872_0008exoS_CGmap_rep1)\n",
    "TK0872_0008exoS_rep2_df <- processCGmap(TK0872_0008exoS_CGmap_rep2)\n",
    "\n",
    "#merge reps\n",
    "TK0872_0008exoS <- merge_del_reps(x=TK0872_0008exoS_rep1_df, y=TK0872_0008exoS_rep2_df, strain='TK0872_0008')\n",
    "\n",
    "# get quantiles\n",
    "\"quantiles:\"\n",
    "get_quantiles(strain_cgmap = TK0872_0008exoS, strain=\"TK0872_0008\", min_cov = 47)\n",
    "\n",
    "#compare methylation frequencies & annotate\n",
    "TK0872_0008exoS_anal <- CompareCGmap(strain_cgmap = TK0872_0008exoS, \n",
    "                                TS559_cgmap = TS559exoS, \n",
    "                                strain=\"TK0872_0008\", \n",
    "                                annotation = annotation,\n",
    "                                min_cov = 47)\n",
    "\n",
    "#write.table(TK0872_0008exoS_anal, file = \"../processed_cgmaps/TK0872_0008exoS_annotated\", sep = \"\\t\", row.names = F)\n",
    "\n",
    "#enumerate gains & losses\n",
    "\"losses & gains:\"\n",
    "nrow( TK0872_0008exoS_anal %>% filter(log2FC < 0) )\n",
    "nrow( TK0872_0008exoS_anal %>% filter(log2FC > 0) )\n",
    "\n",
    "head(TK0872_0008exoS_anal)\n",
    "\n",
    "TK0872_0008exoS_cat <- enumerate_hiconf_2reps(strain_cgmap = TK0872_0008exoS, strain=\"TK0872_0008\",min_cov = 47)\n",
    "\n",
    "Sys.sleep(20)"
   ]
  },
  {
   "cell_type": "code",
   "execution_count": 23,
   "metadata": {},
   "outputs": [
    {
     "data": {
      "text/html": [
       "'quantiles:'"
      ],
      "text/latex": [
       "'quantiles:'"
      ],
      "text/markdown": [
       "'quantiles:'"
      ],
      "text/plain": [
       "[1] \"quantiles:\""
      ]
     },
     "metadata": {},
     "output_type": "display_data"
    },
    {
     "data": {
      "text/html": [
       "<style>\n",
       ".list-inline {list-style: none; margin:0; padding: 0}\n",
       ".list-inline>li {display: inline-block}\n",
       ".list-inline>li:not(:last-child)::after {content: \"\\00b7\"; padding: 0 .5ex}\n",
       "</style>\n",
       "<ol class=list-inline><li>6</li><li>6</li></ol>\n"
      ],
      "text/latex": [
       "\\begin{enumerate*}\n",
       "\\item 6\n",
       "\\item 6\n",
       "\\end{enumerate*}\n"
      ],
      "text/markdown": [
       "1. 6\n",
       "2. 6\n",
       "\n",
       "\n"
      ],
      "text/plain": [
       "[1] 6 6"
      ]
     },
     "metadata": {},
     "output_type": "display_data"
    },
    {
     "data": {
      "text/html": [
       "'losses &amp; gains:'"
      ],
      "text/latex": [
       "'losses \\& gains:'"
      ],
      "text/markdown": [
       "'losses &amp; gains:'"
      ],
      "text/plain": [
       "[1] \"losses & gains:\""
      ]
     },
     "metadata": {},
     "output_type": "display_data"
    },
    {
     "data": {
      "text/html": [
       "53"
      ],
      "text/latex": [
       "53"
      ],
      "text/markdown": [
       "53"
      ],
      "text/plain": [
       "[1] 53"
      ]
     },
     "metadata": {},
     "output_type": "display_data"
    },
    {
     "data": {
      "text/html": [
       "6"
      ],
      "text/latex": [
       "6"
      ],
      "text/markdown": [
       "6"
      ],
      "text/plain": [
       "[1] 6"
      ]
     },
     "metadata": {},
     "output_type": "display_data"
    },
    {
     "data": {
      "text/html": [
       "<table>\n",
       "<caption>A rowwise_df: 6 × 48</caption>\n",
       "<thead>\n",
       "\t<tr><th scope=col>TS559_position</th><th scope=col>KOD1_position</th><th scope=col>strand</th><th scope=col>growth_phase</th><th scope=col>metabolic_condition</th><th scope=col>methylation_frequency_TK2304_1935_rep1</th><th scope=col>mC_count_TK2304_1935_rep1</th><th scope=col>coverage_TK2304_1935_rep1</th><th scope=col>methylation_frequency_TK2304_1935_rep2</th><th scope=col>mC_count_TK2304_1935_rep2</th><th scope=col>⋯</th><th scope=col>amino_acid_sequence</th><th scope=col>amino_acid_ID</th><th scope=col>local_41bp_predicted_fold</th><th scope=col>m5C_position_fold</th><th scope=col>MFA</th><th scope=col>associated_TSS_id</th><th scope=col>TSS_direction</th><th scope=col>TSS_description</th><th scope=col>total_annotations</th><th scope=col>alternate_annotations</th></tr>\n",
       "\t<tr><th scope=col>&lt;int&gt;</th><th scope=col>&lt;fct&gt;</th><th scope=col>&lt;fct&gt;</th><th scope=col>&lt;chr&gt;</th><th scope=col>&lt;chr&gt;</th><th scope=col>&lt;dbl&gt;</th><th scope=col>&lt;int&gt;</th><th scope=col>&lt;int&gt;</th><th scope=col>&lt;dbl&gt;</th><th scope=col>&lt;int&gt;</th><th scope=col>⋯</th><th scope=col>&lt;fct&gt;</th><th scope=col>&lt;fct&gt;</th><th scope=col>&lt;fct&gt;</th><th scope=col>&lt;fct&gt;</th><th scope=col>&lt;fct&gt;</th><th scope=col>&lt;fct&gt;</th><th scope=col>&lt;fct&gt;</th><th scope=col>&lt;fct&gt;</th><th scope=col>&lt;int&gt;</th><th scope=col>&lt;fct&gt;</th></tr>\n",
       "</thead>\n",
       "<tbody>\n",
       "\t<tr><td> 780263</td><td>781254 </td><td>+</td><td>exoponential</td><td>S</td><td>0.15</td><td> 911</td><td>6190</td><td>0.11</td><td>801</td><td>⋯</td><td>CGA</td><td>R</td><td>(((....((((((((.....(((..((....))..)))..</td><td>base_paired    </td><td>-111.23</td><td>.</td><td>.</td><td>.</td><td>1</td><td>NA</td></tr>\n",
       "\t<tr><td>1787649</td><td>1788640</td><td>+</td><td>exoponential</td><td>S</td><td>0.20</td><td>1122</td><td>5475</td><td>0.14</td><td>995</td><td>⋯</td><td>CTT</td><td>L</td><td>........))))))..........................</td><td>single_stranded</td><td>-73.96 </td><td>.</td><td>.</td><td>.</td><td>1</td><td>NA</td></tr>\n",
       "\t<tr><td>2025645</td><td>2026636</td><td>+</td><td>exoponential</td><td>S</td><td>0.01</td><td>  34</td><td>2272</td><td>0.02</td><td> 55</td><td>⋯</td><td>.  </td><td>.</td><td>.........................((((((.....))))</td><td>single_stranded</td><td>-440.69</td><td>.</td><td>.</td><td>.</td><td>1</td><td>NA</td></tr>\n",
       "\t<tr><td>2025660</td><td>2026651</td><td>+</td><td>exoponential</td><td>S</td><td>0.01</td><td>  35</td><td>3355</td><td>0.01</td><td> 30</td><td>⋯</td><td>.  </td><td>.</td><td>..........((((((.....)))))).............</td><td>single_stranded</td><td>-440.69</td><td>.</td><td>.</td><td>.</td><td>1</td><td>NA</td></tr>\n",
       "\t<tr><td>2022329</td><td>2023320</td><td>+</td><td>exoponential</td><td>S</td><td>0.00</td><td>   7</td><td>7058</td><td>0.00</td><td>  4</td><td>⋯</td><td>.  </td><td>.</td><td>)))).........(((((...((((((....(((.....)</td><td>single_stranded</td><td>-224.51</td><td>.</td><td>.</td><td>.</td><td>1</td><td>NA</td></tr>\n",
       "\t<tr><td>2025624</td><td>2026615</td><td>+</td><td>exoponential</td><td>S</td><td>0.01</td><td>  12</td><td>1308</td><td>0.01</td><td> 17</td><td>⋯</td><td>.  </td><td>.</td><td>)...))))))..............................</td><td>single_stranded</td><td>-440.69</td><td>.</td><td>.</td><td>.</td><td>1</td><td>NA</td></tr>\n",
       "</tbody>\n",
       "</table>\n"
      ],
      "text/latex": [
       "A rowwise\\_df: 6 × 48\n",
       "\\begin{tabular}{lllllllllllllllllllll}\n",
       " TS559\\_position & KOD1\\_position & strand & growth\\_phase & metabolic\\_condition & methylation\\_frequency\\_TK2304\\_1935\\_rep1 & mC\\_count\\_TK2304\\_1935\\_rep1 & coverage\\_TK2304\\_1935\\_rep1 & methylation\\_frequency\\_TK2304\\_1935\\_rep2 & mC\\_count\\_TK2304\\_1935\\_rep2 & ⋯ & amino\\_acid\\_sequence & amino\\_acid\\_ID & local\\_41bp\\_predicted\\_fold & m5C\\_position\\_fold & MFA & associated\\_TSS\\_id & TSS\\_direction & TSS\\_description & total\\_annotations & alternate\\_annotations\\\\\n",
       " <int> & <fct> & <fct> & <chr> & <chr> & <dbl> & <int> & <int> & <dbl> & <int> & ⋯ & <fct> & <fct> & <fct> & <fct> & <fct> & <fct> & <fct> & <fct> & <int> & <fct>\\\\\n",
       "\\hline\n",
       "\t  780263 & 781254  & + & exoponential & S & 0.15 &  911 & 6190 & 0.11 & 801 & ⋯ & CGA & R & (((....((((((((.....(((..((....))..))).. & base\\_paired     & -111.23 & . & . & . & 1 & NA\\\\\n",
       "\t 1787649 & 1788640 & + & exoponential & S & 0.20 & 1122 & 5475 & 0.14 & 995 & ⋯ & CTT & L & ........)))))).......................... & single\\_stranded & -73.96  & . & . & . & 1 & NA\\\\\n",
       "\t 2025645 & 2026636 & + & exoponential & S & 0.01 &   34 & 2272 & 0.02 &  55 & ⋯ & .   & . & .........................((((((.....)))) & single\\_stranded & -440.69 & . & . & . & 1 & NA\\\\\n",
       "\t 2025660 & 2026651 & + & exoponential & S & 0.01 &   35 & 3355 & 0.01 &  30 & ⋯ & .   & . & ..........((((((.....))))))............. & single\\_stranded & -440.69 & . & . & . & 1 & NA\\\\\n",
       "\t 2022329 & 2023320 & + & exoponential & S & 0.00 &    7 & 7058 & 0.00 &   4 & ⋯ & .   & . & )))).........(((((...((((((....(((.....) & single\\_stranded & -224.51 & . & . & . & 1 & NA\\\\\n",
       "\t 2025624 & 2026615 & + & exoponential & S & 0.01 &   12 & 1308 & 0.01 &  17 & ⋯ & .   & . & )...)))))).............................. & single\\_stranded & -440.69 & . & . & . & 1 & NA\\\\\n",
       "\\end{tabular}\n"
      ],
      "text/markdown": [
       "\n",
       "A rowwise_df: 6 × 48\n",
       "\n",
       "| TS559_position &lt;int&gt; | KOD1_position &lt;fct&gt; | strand &lt;fct&gt; | growth_phase &lt;chr&gt; | metabolic_condition &lt;chr&gt; | methylation_frequency_TK2304_1935_rep1 &lt;dbl&gt; | mC_count_TK2304_1935_rep1 &lt;int&gt; | coverage_TK2304_1935_rep1 &lt;int&gt; | methylation_frequency_TK2304_1935_rep2 &lt;dbl&gt; | mC_count_TK2304_1935_rep2 &lt;int&gt; | ⋯ ⋯ | amino_acid_sequence &lt;fct&gt; | amino_acid_ID &lt;fct&gt; | local_41bp_predicted_fold &lt;fct&gt; | m5C_position_fold &lt;fct&gt; | MFA &lt;fct&gt; | associated_TSS_id &lt;fct&gt; | TSS_direction &lt;fct&gt; | TSS_description &lt;fct&gt; | total_annotations &lt;int&gt; | alternate_annotations &lt;fct&gt; |\n",
       "|---|---|---|---|---|---|---|---|---|---|---|---|---|---|---|---|---|---|---|---|---|\n",
       "|  780263 | 781254  | + | exoponential | S | 0.15 |  911 | 6190 | 0.11 | 801 | ⋯ | CGA | R | (((....((((((((.....(((..((....))..))).. | base_paired     | -111.23 | . | . | . | 1 | NA |\n",
       "| 1787649 | 1788640 | + | exoponential | S | 0.20 | 1122 | 5475 | 0.14 | 995 | ⋯ | CTT | L | ........)))))).......................... | single_stranded | -73.96  | . | . | . | 1 | NA |\n",
       "| 2025645 | 2026636 | + | exoponential | S | 0.01 |   34 | 2272 | 0.02 |  55 | ⋯ | .   | . | .........................((((((.....)))) | single_stranded | -440.69 | . | . | . | 1 | NA |\n",
       "| 2025660 | 2026651 | + | exoponential | S | 0.01 |   35 | 3355 | 0.01 |  30 | ⋯ | .   | . | ..........((((((.....))))))............. | single_stranded | -440.69 | . | . | . | 1 | NA |\n",
       "| 2022329 | 2023320 | + | exoponential | S | 0.00 |    7 | 7058 | 0.00 |   4 | ⋯ | .   | . | )))).........(((((...((((((....(((.....) | single_stranded | -224.51 | . | . | . | 1 | NA |\n",
       "| 2025624 | 2026615 | + | exoponential | S | 0.01 |   12 | 1308 | 0.01 |  17 | ⋯ | .   | . | )...)))))).............................. | single_stranded | -440.69 | . | . | . | 1 | NA |\n",
       "\n"
      ],
      "text/plain": [
       "  TS559_position KOD1_position strand growth_phase metabolic_condition\n",
       "1  780263        781254        +      exoponential S                  \n",
       "2 1787649        1788640       +      exoponential S                  \n",
       "3 2025645        2026636       +      exoponential S                  \n",
       "4 2025660        2026651       +      exoponential S                  \n",
       "5 2022329        2023320       +      exoponential S                  \n",
       "6 2025624        2026615       +      exoponential S                  \n",
       "  methylation_frequency_TK2304_1935_rep1 mC_count_TK2304_1935_rep1\n",
       "1 0.15                                    911                     \n",
       "2 0.20                                   1122                     \n",
       "3 0.01                                     34                     \n",
       "4 0.01                                     35                     \n",
       "5 0.00                                      7                     \n",
       "6 0.01                                     12                     \n",
       "  coverage_TK2304_1935_rep1 methylation_frequency_TK2304_1935_rep2\n",
       "1 6190                      0.11                                  \n",
       "2 5475                      0.14                                  \n",
       "3 2272                      0.02                                  \n",
       "4 3355                      0.01                                  \n",
       "5 7058                      0.00                                  \n",
       "6 1308                      0.01                                  \n",
       "  mC_count_TK2304_1935_rep2 ⋯ amino_acid_sequence amino_acid_ID\n",
       "1 801                       ⋯ CGA                 R            \n",
       "2 995                       ⋯ CTT                 L            \n",
       "3  55                       ⋯ .                   .            \n",
       "4  30                       ⋯ .                   .            \n",
       "5   4                       ⋯ .                   .            \n",
       "6  17                       ⋯ .                   .            \n",
       "  local_41bp_predicted_fold                m5C_position_fold MFA    \n",
       "1 (((....((((((((.....(((..((....))..))).. base_paired       -111.23\n",
       "2 ........)))))).......................... single_stranded   -73.96 \n",
       "3 .........................((((((.....)))) single_stranded   -440.69\n",
       "4 ..........((((((.....))))))............. single_stranded   -440.69\n",
       "5 )))).........(((((...((((((....(((.....) single_stranded   -224.51\n",
       "6 )...)))))).............................. single_stranded   -440.69\n",
       "  associated_TSS_id TSS_direction TSS_description total_annotations\n",
       "1 .                 .             .               1                \n",
       "2 .                 .             .               1                \n",
       "3 .                 .             .               1                \n",
       "4 .                 .             .               1                \n",
       "5 .                 .             .               1                \n",
       "6 .                 .             .               1                \n",
       "  alternate_annotations\n",
       "1 NA                   \n",
       "2 NA                   \n",
       "3 NA                   \n",
       "4 NA                   \n",
       "5 NA                   \n",
       "6 NA                   "
      ]
     },
     "metadata": {},
     "output_type": "display_data"
    }
   ],
   "source": [
    "###strain TK2304_1935\n",
    "\n",
    "defaultW <- getOption(\"warn\")\n",
    "options(warn = -1)\n",
    "\n",
    "\n",
    "#load CGmaps into session\n",
    "TK2304_1935exoS_CGmap_rep1 <-read.delim(\"../cgmaps/TK2304_1935_exoS_totalRNA_rep1.CGmap\", sep='\\t', header=FALSE,col.names=cols) %>%\n",
    "    mutate(strain=\"TK2304_1935\", growth_phase='exoponential', metabolic_condition=\"S\", replicate=\"rep1\")\n",
    "\n",
    "TK2304_1935exoS_CGmap_rep2 <-read.delim(\"../cgmaps/TK2304_1935_exoS_totalRNA_rep2.CGmap\", sep='\\t', header=FALSE,col.names=cols) %>%\n",
    "    mutate(strain=\"TK2304_1935\", growth_phase='exoponential', metabolic_condition=\"S\", replicate=\"rep2\")\n",
    "\n",
    "# process raw CGmaps\n",
    "TK2304_1935exoS_rep1_df <- processCGmap(TK2304_1935exoS_CGmap_rep1)\n",
    "TK2304_1935exoS_rep2_df <- processCGmap(TK2304_1935exoS_CGmap_rep2)\n",
    "\n",
    "#merge reps\n",
    "TK2304_1935exoS <- merge_del_reps(x=TK2304_1935exoS_rep1_df, y=TK2304_1935exoS_rep2_df, strain='TK2304_1935')\n",
    "\n",
    "# get quantiles\n",
    "\"quantiles:\"\n",
    "get_quantiles(strain_cgmap = TK2304_1935exoS, strain=\"TK2304_1935\", min_cov = 47)\n",
    "\n",
    "#compare methylation frequencies & annotate\n",
    "TK2304_1935exoS_anal <- CompareCGmap(strain_cgmap = TK2304_1935exoS, \n",
    "                                TS559_cgmap = TS559exoS, \n",
    "                                strain=\"TK2304_1935\", \n",
    "                                annotation = annotation,\n",
    "                                min_cov = 47)\n",
    "\n",
    "#write.table(TK2304_1935exoS_anal, file = \"../processed_cgmaps/TK2304_1935exoS_annotated\", sep = \"\\t\", row.names = F)\n",
    "\n",
    "#enumerate gains & losses\n",
    "\"losses & gains:\"\n",
    "nrow( TK2304_1935exoS_anal %>% filter(log2FC < 0) )\n",
    "nrow( TK2304_1935exoS_anal %>% filter(log2FC > 0) )\n",
    "\n",
    "head(TK2304_1935exoS_anal)\n",
    "\n",
    "TK2304_1935exoS_cat <- enumerate_hiconf_2reps(strain_cgmap = TK2304_1935exoS, strain=\"TK2304_1935\",min_cov = 47)\n",
    "\n",
    "Sys.sleep(20)"
   ]
  },
  {
   "cell_type": "markdown",
   "metadata": {},
   "source": [
    "# CAT TABLE"
   ]
  },
  {
   "cell_type": "code",
   "execution_count": 24,
   "metadata": {},
   "outputs": [
    {
     "data": {
      "text/html": [
       "631"
      ],
      "text/latex": [
       "631"
      ],
      "text/markdown": [
       "631"
      ],
      "text/plain": [
       "[1] 631"
      ]
     },
     "metadata": {},
     "output_type": "display_data"
    },
    {
     "data": {
      "text/html": [
       "<table>\n",
       "<caption>A data.frame: 6 × 98</caption>\n",
       "<thead>\n",
       "\t<tr><th></th><th scope=col>TS559_position</th><th scope=col>freq_TS559_rep1</th><th scope=col>m5C_cov/total_cov_TS559_rep1</th><th scope=col>freq_TS559_rep2</th><th scope=col>m5C_cov/total_cov_TS559_rep2</th><th scope=col>freq_TS559_rep3</th><th scope=col>m5C_cov/total_cov_TS559_rep3</th><th scope=col>TS559_hiconf</th><th scope=col>freq_TK0008_rep1</th><th scope=col>m5C_cov/total_cov_TK0008_rep1</th><th scope=col>⋯</th><th scope=col>freq_TK2045_rep1</th><th scope=col>m5C_cov/total_cov_TK2045_rep1</th><th scope=col>freq_TK2045_rep2</th><th scope=col>m5C_cov/total_cov_TK2045_rep2</th><th scope=col>TK2045_hiconf</th><th scope=col>freq_TK2045Ndel_rep1</th><th scope=col>m5C_cov/total_cov_TK2045Ndel_rep1</th><th scope=col>freq_TK2045Ndel_rep2</th><th scope=col>m5C_cov/total_cov_TK2045Ndel_rep2</th><th scope=col>TK2045Ndel_hiconf</th></tr>\n",
       "\t<tr><th></th><th scope=col>&lt;int&gt;</th><th scope=col>&lt;dbl&gt;</th><th scope=col>&lt;chr&gt;</th><th scope=col>&lt;dbl&gt;</th><th scope=col>&lt;chr&gt;</th><th scope=col>&lt;dbl&gt;</th><th scope=col>&lt;chr&gt;</th><th scope=col>&lt;lgl&gt;</th><th scope=col>&lt;dbl&gt;</th><th scope=col>&lt;chr&gt;</th><th scope=col>⋯</th><th scope=col>&lt;dbl&gt;</th><th scope=col>&lt;chr&gt;</th><th scope=col>&lt;dbl&gt;</th><th scope=col>&lt;chr&gt;</th><th scope=col>&lt;lgl&gt;</th><th scope=col>&lt;dbl&gt;</th><th scope=col>&lt;chr&gt;</th><th scope=col>&lt;dbl&gt;</th><th scope=col>&lt;chr&gt;</th><th scope=col>&lt;lgl&gt;</th></tr>\n",
       "</thead>\n",
       "<tbody>\n",
       "\t<tr><th scope=row>1</th><td>  857</td><td>0.11</td><td>7 / 61  </td><td>0.14</td><td>36 / 256</td><td>0.07</td><td>34 / 507 </td><td> TRUE</td><td>0.02</td><td>2 / 107 </td><td>⋯</td><td>0.15</td><td>8 / 53 </td><td>0.04</td><td>16 / 364 </td><td>FALSE</td><td>0.01</td><td>4 / 487  </td><td>0.02</td><td>10 / 474 </td><td>FALSE</td></tr>\n",
       "\t<tr><th scope=row>2</th><td>19557</td><td>0.21</td><td>7 / 33  </td><td>0.13</td><td>19 / 143</td><td>0.11</td><td>44 / 413 </td><td> TRUE</td><td>0.09</td><td>5 / 54  </td><td>⋯</td><td>0.11</td><td>4 / 35 </td><td>0.07</td><td>27 / 376 </td><td>FALSE</td><td>0.04</td><td>18 / 427 </td><td>0.03</td><td>10 / 293 </td><td>FALSE</td></tr>\n",
       "\t<tr><th scope=row>3</th><td>20243</td><td>0.05</td><td>1 / 22  </td><td>0.02</td><td>1 / 46  </td><td>0.06</td><td>5 / 81   </td><td>FALSE</td><td>0.00</td><td>0 / 7   </td><td>⋯</td><td>0.06</td><td>1 / 18 </td><td>0.04</td><td>5 / 115  </td><td>FALSE</td><td>0.03</td><td>3 / 93   </td><td>0.02</td><td>1 / 58   </td><td>FALSE</td></tr>\n",
       "\t<tr><th scope=row>4</th><td>22822</td><td>0.07</td><td>14 / 192</td><td>0.09</td><td>55 / 635</td><td>0.05</td><td>62 / 1307</td><td> TRUE</td><td>0.06</td><td>21 / 346</td><td>⋯</td><td>0.04</td><td>6 / 150</td><td>0.03</td><td>26 / 995 </td><td>FALSE</td><td>0.00</td><td>6 / 2255 </td><td>0.01</td><td>12 / 1659</td><td>FALSE</td></tr>\n",
       "\t<tr><th scope=row>5</th><td>25719</td><td>0.00</td><td>0 / 17  </td><td>0.00</td><td>0 / 117 </td><td>0.01</td><td>1 / 160  </td><td>FALSE</td><td>0.00</td><td>0 / 30  </td><td>⋯</td><td>0.07</td><td>1 / 14 </td><td>0.07</td><td>5 / 67   </td><td>FALSE</td><td>0.01</td><td>2 / 199  </td><td>0.00</td><td>0 / 128  </td><td>FALSE</td></tr>\n",
       "\t<tr><th scope=row>6</th><td>28324</td><td>0.05</td><td>6 / 126 </td><td>0.08</td><td>48 / 629</td><td>0.05</td><td>68 / 1380</td><td>FALSE</td><td>0.05</td><td>9 / 192 </td><td>⋯</td><td>0.04</td><td>4 / 110</td><td>0.07</td><td>94 / 1411</td><td>FALSE</td><td>0.05</td><td>90 / 1696</td><td>0.05</td><td>59 / 1157</td><td> TRUE</td></tr>\n",
       "</tbody>\n",
       "</table>\n"
      ],
      "text/latex": [
       "A data.frame: 6 × 98\n",
       "\\begin{tabular}{r|lllllllllllllllllllll}\n",
       "  & TS559\\_position & freq\\_TS559\\_rep1 & m5C\\_cov/total\\_cov\\_TS559\\_rep1 & freq\\_TS559\\_rep2 & m5C\\_cov/total\\_cov\\_TS559\\_rep2 & freq\\_TS559\\_rep3 & m5C\\_cov/total\\_cov\\_TS559\\_rep3 & TS559\\_hiconf & freq\\_TK0008\\_rep1 & m5C\\_cov/total\\_cov\\_TK0008\\_rep1 & ⋯ & freq\\_TK2045\\_rep1 & m5C\\_cov/total\\_cov\\_TK2045\\_rep1 & freq\\_TK2045\\_rep2 & m5C\\_cov/total\\_cov\\_TK2045\\_rep2 & TK2045\\_hiconf & freq\\_TK2045Ndel\\_rep1 & m5C\\_cov/total\\_cov\\_TK2045Ndel\\_rep1 & freq\\_TK2045Ndel\\_rep2 & m5C\\_cov/total\\_cov\\_TK2045Ndel\\_rep2 & TK2045Ndel\\_hiconf\\\\\n",
       "  & <int> & <dbl> & <chr> & <dbl> & <chr> & <dbl> & <chr> & <lgl> & <dbl> & <chr> & ⋯ & <dbl> & <chr> & <dbl> & <chr> & <lgl> & <dbl> & <chr> & <dbl> & <chr> & <lgl>\\\\\n",
       "\\hline\n",
       "\t1 &   857 & 0.11 & 7 / 61   & 0.14 & 36 / 256 & 0.07 & 34 / 507  &  TRUE & 0.02 & 2 / 107  & ⋯ & 0.15 & 8 / 53  & 0.04 & 16 / 364  & FALSE & 0.01 & 4 / 487   & 0.02 & 10 / 474  & FALSE\\\\\n",
       "\t2 & 19557 & 0.21 & 7 / 33   & 0.13 & 19 / 143 & 0.11 & 44 / 413  &  TRUE & 0.09 & 5 / 54   & ⋯ & 0.11 & 4 / 35  & 0.07 & 27 / 376  & FALSE & 0.04 & 18 / 427  & 0.03 & 10 / 293  & FALSE\\\\\n",
       "\t3 & 20243 & 0.05 & 1 / 22   & 0.02 & 1 / 46   & 0.06 & 5 / 81    & FALSE & 0.00 & 0 / 7    & ⋯ & 0.06 & 1 / 18  & 0.04 & 5 / 115   & FALSE & 0.03 & 3 / 93    & 0.02 & 1 / 58    & FALSE\\\\\n",
       "\t4 & 22822 & 0.07 & 14 / 192 & 0.09 & 55 / 635 & 0.05 & 62 / 1307 &  TRUE & 0.06 & 21 / 346 & ⋯ & 0.04 & 6 / 150 & 0.03 & 26 / 995  & FALSE & 0.00 & 6 / 2255  & 0.01 & 12 / 1659 & FALSE\\\\\n",
       "\t5 & 25719 & 0.00 & 0 / 17   & 0.00 & 0 / 117  & 0.01 & 1 / 160   & FALSE & 0.00 & 0 / 30   & ⋯ & 0.07 & 1 / 14  & 0.07 & 5 / 67    & FALSE & 0.01 & 2 / 199   & 0.00 & 0 / 128   & FALSE\\\\\n",
       "\t6 & 28324 & 0.05 & 6 / 126  & 0.08 & 48 / 629 & 0.05 & 68 / 1380 & FALSE & 0.05 & 9 / 192  & ⋯ & 0.04 & 4 / 110 & 0.07 & 94 / 1411 & FALSE & 0.05 & 90 / 1696 & 0.05 & 59 / 1157 &  TRUE\\\\\n",
       "\\end{tabular}\n"
      ],
      "text/markdown": [
       "\n",
       "A data.frame: 6 × 98\n",
       "\n",
       "| <!--/--> | TS559_position &lt;int&gt; | freq_TS559_rep1 &lt;dbl&gt; | m5C_cov/total_cov_TS559_rep1 &lt;chr&gt; | freq_TS559_rep2 &lt;dbl&gt; | m5C_cov/total_cov_TS559_rep2 &lt;chr&gt; | freq_TS559_rep3 &lt;dbl&gt; | m5C_cov/total_cov_TS559_rep3 &lt;chr&gt; | TS559_hiconf &lt;lgl&gt; | freq_TK0008_rep1 &lt;dbl&gt; | m5C_cov/total_cov_TK0008_rep1 &lt;chr&gt; | ⋯ ⋯ | freq_TK2045_rep1 &lt;dbl&gt; | m5C_cov/total_cov_TK2045_rep1 &lt;chr&gt; | freq_TK2045_rep2 &lt;dbl&gt; | m5C_cov/total_cov_TK2045_rep2 &lt;chr&gt; | TK2045_hiconf &lt;lgl&gt; | freq_TK2045Ndel_rep1 &lt;dbl&gt; | m5C_cov/total_cov_TK2045Ndel_rep1 &lt;chr&gt; | freq_TK2045Ndel_rep2 &lt;dbl&gt; | m5C_cov/total_cov_TK2045Ndel_rep2 &lt;chr&gt; | TK2045Ndel_hiconf &lt;lgl&gt; |\n",
       "|---|---|---|---|---|---|---|---|---|---|---|---|---|---|---|---|---|---|---|---|---|---|\n",
       "| 1 |   857 | 0.11 | 7 / 61   | 0.14 | 36 / 256 | 0.07 | 34 / 507  |  TRUE | 0.02 | 2 / 107  | ⋯ | 0.15 | 8 / 53  | 0.04 | 16 / 364  | FALSE | 0.01 | 4 / 487   | 0.02 | 10 / 474  | FALSE |\n",
       "| 2 | 19557 | 0.21 | 7 / 33   | 0.13 | 19 / 143 | 0.11 | 44 / 413  |  TRUE | 0.09 | 5 / 54   | ⋯ | 0.11 | 4 / 35  | 0.07 | 27 / 376  | FALSE | 0.04 | 18 / 427  | 0.03 | 10 / 293  | FALSE |\n",
       "| 3 | 20243 | 0.05 | 1 / 22   | 0.02 | 1 / 46   | 0.06 | 5 / 81    | FALSE | 0.00 | 0 / 7    | ⋯ | 0.06 | 1 / 18  | 0.04 | 5 / 115   | FALSE | 0.03 | 3 / 93    | 0.02 | 1 / 58    | FALSE |\n",
       "| 4 | 22822 | 0.07 | 14 / 192 | 0.09 | 55 / 635 | 0.05 | 62 / 1307 |  TRUE | 0.06 | 21 / 346 | ⋯ | 0.04 | 6 / 150 | 0.03 | 26 / 995  | FALSE | 0.00 | 6 / 2255  | 0.01 | 12 / 1659 | FALSE |\n",
       "| 5 | 25719 | 0.00 | 0 / 17   | 0.00 | 0 / 117  | 0.01 | 1 / 160   | FALSE | 0.00 | 0 / 30   | ⋯ | 0.07 | 1 / 14  | 0.07 | 5 / 67    | FALSE | 0.01 | 2 / 199   | 0.00 | 0 / 128   | FALSE |\n",
       "| 6 | 28324 | 0.05 | 6 / 126  | 0.08 | 48 / 629 | 0.05 | 68 / 1380 | FALSE | 0.05 | 9 / 192  | ⋯ | 0.04 | 4 / 110 | 0.07 | 94 / 1411 | FALSE | 0.05 | 90 / 1696 | 0.05 | 59 / 1157 |  TRUE |\n",
       "\n"
      ],
      "text/plain": [
       "  TS559_position freq_TS559_rep1 m5C_cov/total_cov_TS559_rep1 freq_TS559_rep2\n",
       "1   857          0.11            7 / 61                       0.14           \n",
       "2 19557          0.21            7 / 33                       0.13           \n",
       "3 20243          0.05            1 / 22                       0.02           \n",
       "4 22822          0.07            14 / 192                     0.09           \n",
       "5 25719          0.00            0 / 17                       0.00           \n",
       "6 28324          0.05            6 / 126                      0.08           \n",
       "  m5C_cov/total_cov_TS559_rep2 freq_TS559_rep3 m5C_cov/total_cov_TS559_rep3\n",
       "1 36 / 256                     0.07            34 / 507                    \n",
       "2 19 / 143                     0.11            44 / 413                    \n",
       "3 1 / 46                       0.06            5 / 81                      \n",
       "4 55 / 635                     0.05            62 / 1307                   \n",
       "5 0 / 117                      0.01            1 / 160                     \n",
       "6 48 / 629                     0.05            68 / 1380                   \n",
       "  TS559_hiconf freq_TK0008_rep1 m5C_cov/total_cov_TK0008_rep1 ⋯\n",
       "1  TRUE        0.02             2 / 107                       ⋯\n",
       "2  TRUE        0.09             5 / 54                        ⋯\n",
       "3 FALSE        0.00             0 / 7                         ⋯\n",
       "4  TRUE        0.06             21 / 346                      ⋯\n",
       "5 FALSE        0.00             0 / 30                        ⋯\n",
       "6 FALSE        0.05             9 / 192                       ⋯\n",
       "  freq_TK2045_rep1 m5C_cov/total_cov_TK2045_rep1 freq_TK2045_rep2\n",
       "1 0.15             8 / 53                        0.04            \n",
       "2 0.11             4 / 35                        0.07            \n",
       "3 0.06             1 / 18                        0.04            \n",
       "4 0.04             6 / 150                       0.03            \n",
       "5 0.07             1 / 14                        0.07            \n",
       "6 0.04             4 / 110                       0.07            \n",
       "  m5C_cov/total_cov_TK2045_rep2 TK2045_hiconf freq_TK2045Ndel_rep1\n",
       "1 16 / 364                      FALSE         0.01                \n",
       "2 27 / 376                      FALSE         0.04                \n",
       "3 5 / 115                       FALSE         0.03                \n",
       "4 26 / 995                      FALSE         0.00                \n",
       "5 5 / 67                        FALSE         0.01                \n",
       "6 94 / 1411                     FALSE         0.05                \n",
       "  m5C_cov/total_cov_TK2045Ndel_rep1 freq_TK2045Ndel_rep2\n",
       "1 4 / 487                           0.02                \n",
       "2 18 / 427                          0.03                \n",
       "3 3 / 93                            0.02                \n",
       "4 6 / 2255                          0.01                \n",
       "5 2 / 199                           0.00                \n",
       "6 90 / 1696                         0.05                \n",
       "  m5C_cov/total_cov_TK2045Ndel_rep2 TK2045Ndel_hiconf\n",
       "1 10 / 474                          FALSE            \n",
       "2 10 / 293                          FALSE            \n",
       "3 1 / 58                            FALSE            \n",
       "4 12 / 1659                         FALSE            \n",
       "5 0 / 128                           FALSE            \n",
       "6 59 / 1157                          TRUE            "
      ]
     },
     "metadata": {},
     "output_type": "display_data"
    }
   ],
   "source": [
    "cat_exoS_data <- merge(x=TS559exoS_cat, y = TK0008exoS_cat, by='TS559_position', all=TRUE) %>%\n",
    "    merge(y = TK0224exoS_cat, by='TS559_position', all=TRUE) %>%\n",
    "    merge(y = TK0234exoS_cat, by='TS559_position', all=TRUE) %>%\n",
    "    merge(y = TK0704exoS_cat, by='TS559_position', all=TRUE) %>%\n",
    "    merge(y = TK0729exoS_cat, by='TS559_position', all=TRUE) %>%\n",
    "    merge(y = TK0872exoS_cat, by='TS559_position', all=TRUE) %>%\n",
    "    merge(y = TK1273exoS_cat, by='TS559_position', all=TRUE) %>%\n",
    "    merge(y = TK1917exoS_cat, by='TS559_position', all=TRUE) %>%\n",
    "    merge(y = TK1935exoS_cat, by='TS559_position', all=TRUE) %>%\n",
    "    merge(y = TK2122exoS_cat, by='TS559_position', all=TRUE) %>%\n",
    "    merge(y = TK2241exoS_cat, by='TS559_position', all=TRUE) %>%\n",
    "    merge(y = TK2304exoS_cat, by='TS559_position', all=TRUE) %>%\n",
    "    merge(y = TK0234_0224exoS_cat, by='TS559_position', all=TRUE) %>%\n",
    "    merge(y = TK0234_0729exoS_cat, by='TS559_position', all=TRUE) %>%\n",
    "    merge(y = TK0872_0008exoS_cat, by='TS559_position', all=TRUE) %>%\n",
    "    merge(y = TK2304_1935exoS_cat, by='TS559_position', all=TRUE) %>%\n",
    "    merge(y = TK2045exoS_cat, by='TS559_position', all=TRUE) %>%\n",
    "    merge(y = TK2045NdelexoS_cat, by='TS559_position', all=TRUE) %>%\n",
    "\n",
    "    filter(TS559_hiconf==TRUE |\n",
    "    TK0008_hiconf==TRUE | \n",
    "    TK0224_hiconf==TRUE | \n",
    "    TK0234_hiconf==TRUE | \n",
    "    TK0704_hiconf==TRUE | \n",
    "    TK0729_hiconf==TRUE | \n",
    "    TK0872_hiconf==TRUE | \n",
    "    TK1273_hiconf==TRUE | \n",
    "    TK1917_hiconf==TRUE | \n",
    "    TK1935_hiconf==TRUE | \n",
    "    TK2122_hiconf==TRUE | \n",
    "    TK2241_hiconf==TRUE | \n",
    "    TK2304_hiconf==TRUE |\n",
    "    TK0234_0224_hiconf==TRUE |\n",
    "    TK0234_0729_hiconf==TRUE |\n",
    "    TK0872_0008_hiconf==TRUE |\n",
    "    TK2304_1935_hiconf==TRUE |\n",
    "    TK2045_hiconf==TRUE | \n",
    "    TK2045Ndel_hiconf==TRUE    \n",
    "           \n",
    "    )\n",
    "\n",
    "write.table(cat_exoS_data, file = \"../processed_cgmaps/cat_exoS_data\", sep = \"\\t\", row.names = F)\n",
    "nrow(cat_exoS_data)\n",
    "head(cat_exoS_data)"
   ]
  }
 ],
 "metadata": {
  "kernelspec": {
   "display_name": "R",
   "language": "R",
   "name": "ir"
  },
  "language_info": {
   "codemirror_mode": "r",
   "file_extension": ".r",
   "mimetype": "text/x-r-source",
   "name": "R",
   "pygments_lexer": "r",
   "version": "3.6.1"
  }
 },
 "nbformat": 4,
 "nbformat_minor": 4
}
